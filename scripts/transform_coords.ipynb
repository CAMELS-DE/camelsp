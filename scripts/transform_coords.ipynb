{
 "cells": [
  {
   "cell_type": "markdown",
   "metadata": {},
   "source": [
    "# Tranform coordinates\n",
    "\n",
    "In this notebook, coordinates of all federal states are transformed to EPSG 3035 (ETRS89-extended / LAEA Europe)."
   ]
  },
  {
   "cell_type": "code",
   "execution_count": 22,
   "metadata": {},
   "outputs": [],
   "source": [
    "import os\n",
    "import re\n",
    "\n",
    "from pyproj import Transformer\n",
    "import pandas as pd\n",
    "import numpy as np\n",
    "from tqdm import tqdm"
   ]
  },
  {
   "cell_type": "markdown",
   "metadata": {},
   "source": [
    "Build a lookup dictionary which contains the source CRS, column names of X and Y coordinates, the name of the area column and the name of the ID column in the raw metadata table."
   ]
  },
  {
   "cell_type": "code",
   "execution_count": 25,
   "metadata": {},
   "outputs": [],
   "source": [
    "# build lookup dict\n",
    "from camelsp.util import _NUTS_LVL2_NAMES\n",
    "\n",
    "nuts_ids = list(_NUTS_LVL2_NAMES.keys())\n",
    "\n",
    "# values: CRS, column names location [x, y], column name area, column name ID\n",
    "_LOCATION_DICT = {\n",
    "    'DE1': {'epsg': 'EPSG:25832', 'xy': ['Ost (UTM ETRS89)', 'Nord (UTM ETRS89)'], 'area': 'Einzugsgebiet in km²', 'id': 'Messstellennummer'},\n",
    "    'DE2': {'epsg': 'EPSG:25832', 'xy': ['Ostwert', 'Nordwert'], 'area': 'EZG km²', 'id': 'Stationsnummer'}, \n",
    "    'DE4': {'epsg': 'EPSG:32633', 'xy': ['Ost/RW', 'Nord/HW'], 'area': 'CATCHMENT_SIZE', 'id': 'Messstellennummer'},\n",
    "    'DE7': {'epsg': 'EPSG:25832', 'xy': ['Koordinaten X', 'Koordinaten Y'], 'area': 'Größe des Einzugsge-biets [km²]', 'id': 'Messstellen Nr.'},\n",
    "    'DE8': {'epsg': 'EPSG:32633', 'xy': ['rechtswert', 'hochwert'], 'area': 'einzugsgebiet', 'id': 'pegelkennzahl'},\n",
    "    'DE9': {'epsg': 'EPSG:31467', 'xy': ['RECHTS3', 'HOCH3'], 'area': 'SHAPE_STAr', 'id': 'MESSSTELLE_NR'},\n",
    "    'DEA': {'epsg': 'EPSG:32632', 'xy': ['KOORDX', 'KOORDY'], 'area': 'Einzugsgebiet', 'id': 'Stationsnummer'},\n",
    "    'DEB': {'epsg': 'EPSG:31466', 'xy': ['RW', 'HW'], 'area': 'Aeo', 'id': 'Nummer'},\n",
    "    'DEC': {'epsg': 'EPSG:31466', 'xy': ['RW', 'HW'], 'area': 'EZG_Gr', 'id': 'MSTNR'},\n",
    "    'DED': {'epsg': 'EPSG:32633', 'xy': ['OSTWERT', 'NORDWERT'], 'area': 'AE', 'id': 'Pegelkennziffer'},\n",
    "    'DEE': {'epsg': 'EPSG:25832', 'xy': ['Easting', 'Northing'], 'area': 'AREA_KM2', 'id': 'SANR'},\n",
    "    'DEF': {'epsg': 'EPSG:4647', 'xy': ['x', 'y'], 'area': 'area', 'id': 'id'},\n",
    "    'DEG': {'epsg': 'EPSG:25832', 'xy': ['RW (GK 4)', 'HW (GK 4)'], 'area': 'EZG', 'id': 'Pegelnr'},\n",
    "}\n"
   ]
  },
  {
   "cell_type": "markdown",
   "metadata": {},
   "source": [
    "Function that transforms coordinates for a given Bundesland based on the `_LOCATION_DICT`"
   ]
  },
  {
   "cell_type": "code",
   "execution_count": 61,
   "metadata": {},
   "outputs": [],
   "source": [
    "def transform_coords(nuts_id: str, location_dict: dict) -> pd.DataFrame:\n",
    "    \"\"\"\n",
    "    Transforms coordinates from raw metadata to EPSG:3035 and saves them as CSV.\n",
    "\n",
    "    Arguments:\n",
    "    --------\n",
    "    nuts_id : str\n",
    "        NUTS ID of Bundesland.\n",
    "    location_dict : dict\n",
    "        Dictionary containing information about the location data in the raw metadata \n",
    "        files of each Bundesland.\n",
    "\n",
    "    Returns:\n",
    "    --------\n",
    "    df_location : pd.DataFrame\n",
    "        DataFrame containing the transformed coordinates of the Bundesland.\n",
    "    \n",
    "    \"\"\"\n",
    "    \n",
    "    # create locations directory if it does not exist\n",
    "    os.makedirs(\"../output_data/locations\", exist_ok=True)\n",
    "\n",
    "    if nuts_id not in location_dict.keys():\n",
    "        raise ValueError(f\"[{nuts_id}]: nuts_id {nuts_id} not contained in given location_dict.\")\n",
    "    \n",
    "    # read raw metadata file for selected Bundesland\n",
    "    raw_meta = pd.read_csv(f\"../output_data/raw_metadata/{nuts_id}_raw_metadata.csv\")\n",
    "\n",
    "    # get epsg code of source location\n",
    "    from_epsg = location_dict[nuts_id]['epsg']\n",
    "\n",
    "    # get necessary columns\n",
    "    xy_columns = location_dict[nuts_id]['xy']\n",
    "    area_column = location_dict[nuts_id]['area']\n",
    "    id_column = location_dict[nuts_id]['id']\n",
    "\n",
    "    # transformer from source epsg to 3035\n",
    "    transformer = Transformer.from_crs(from_epsg, \"EPSG:3035\", always_xy=True)\n",
    "\n",
    "    x_transformed = []\n",
    "    y_transformed = []\n",
    "\n",
    "    # transform coordinates\n",
    "    for _, row in raw_meta[xy_columns].iterrows():\n",
    "        x, y = row.iloc[0], row.iloc[1]\n",
    "\n",
    "        transformed_coords = transformer.transform(x, y)\n",
    "        x_transformed.append(transformed_coords[0])\n",
    "        y_transformed.append(transformed_coords[1])\n",
    "\n",
    "    # build dataframe\n",
    "    df_location = pd.DataFrame({'ID': raw_meta[id_column], 'Area': raw_meta[area_column], 'X': x_transformed, 'Y': y_transformed})\n",
    "\n",
    "    # remove eventually occuring characters from area column (e.g. ' km²') and transform to float\n",
    "    df_location['Area'] = pd.to_numeric(df_location['Area'].apply(lambda x: re.sub(',', '.', str(x).split(' ')[0].split('km')[0]) if str(x).strip() != 'nan' else np.nan), errors='coerce')\n",
    "\n",
    "    # drop rows where area < 0, Schleswig-Holstein uses -999 as missing value\n",
    "    df_location = df_location[df_location['Area'] > 0]\n",
    "\n",
    "    # drop rows where X or Y are NaN\n",
    "    df_location = df_location.dropna(subset=['X', 'Y'])\n",
    "\n",
    "    # drop rows where X or Y are inf\n",
    "    df_location = df_location[~df_location['X'].isin([np.inf, -np.inf])]\n",
    "    \n",
    "    # drop possible duplicates\n",
    "    df_location = df_location.drop_duplicates(subset='ID')\n",
    "\n",
    "    # sort by ID column\n",
    "    df_location = df_location.sort_values(by='ID', ignore_index=True)\n",
    "\n",
    "    # write locations dataframe to folder locations\n",
    "    df_location.to_csv(f\"../output_data/locations/{nuts_id}_Locations.csv\", index=False)\n",
    "\n",
    "    return df_location"
   ]
  },
  {
   "cell_type": "code",
   "execution_count": 62,
   "metadata": {},
   "outputs": [
    {
     "name": "stderr",
     "output_type": "stream",
     "text": [
      "100%|██████████| 13/13 [00:00<00:00, 20.81it/s]\n"
     ]
    }
   ],
   "source": [
    "# go for all bl, save locations as csv\n",
    "for nuts_id in tqdm(_LOCATION_DICT.keys()):\n",
    "    transform_coords(nuts_id=nuts_id, location_dict=_LOCATION_DICT)"
   ]
  }
 ],
 "metadata": {
  "kernelspec": {
   "display_name": "base",
   "language": "python",
   "name": "python3"
  },
  "language_info": {
   "codemirror_mode": {
    "name": "ipython",
    "version": 3
   },
   "file_extension": ".py",
   "mimetype": "text/x-python",
   "name": "python",
   "nbconvert_exporter": "python",
   "pygments_lexer": "ipython3",
   "version": "3.9.13"
  },
  "orig_nbformat": 4
 },
 "nbformat": 4,
 "nbformat_minor": 2
}
