{
 "cells": [
  {
   "cell_type": "code",
   "execution_count": 27,
   "metadata": {},
   "outputs": [],
   "source": [
    "import os\n",
    "import json\n",
    "import pandas as pd\n",
    "from tqdm import tqdm\n",
    "import warnings\n",
    "import matplotlib.pyplot as plt\n",
    "# import the seaborn stylesheet\n",
    "import seaborn as sns\n",
    "sns.set()\n",
    "\n",
    "from camelsp import Bundesland, util\n"
   ]
  },
  {
   "cell_type": "code",
   "execution_count": 28,
   "metadata": {},
   "outputs": [],
   "source": [
    "#nuts = [nt for nt in os.listdir(Bundesland('Hessen').base_path) if nt.startswith('DE')]\n",
    "nuts = list(util._NUTS_LVL2_NAMES.keys())"
   ]
  },
  {
   "cell_type": "code",
   "execution_count": 29,
   "metadata": {},
   "outputs": [
    {
     "name": "stdout",
     "output_type": "stream",
     "text": [
      "DE1\n",
      "DE2\n",
      "DE3\n",
      "DE4\n",
      "There were 232 warnings (missing data files).\n",
      "DE5\n",
      "DE6\n",
      "DE7\n",
      "DE8\n",
      "DE9\n",
      "There were 282 warnings (missing data files).\n",
      "DEA\n",
      "There were 209 warnings (missing data files).\n",
      "DEB\n",
      "DEC\n",
      "DED\n",
      "DEE\n",
      "There were 80 warnings (missing data files).\n",
      "DEF\n",
      "DEG\n"
     ]
    }
   ],
   "source": [
    "# Get the data for all NUTS regions in all Bundesländer\n",
    "q_list = []\n",
    "w_list = []\n",
    "for ID in nuts:\n",
    "    print(ID)\n",
    "    with Bundesland(ID) as bl:\n",
    "        #nuts_ids = bl.nuts_table.nuts_id.values\n",
    "        \n",
    "        with warnings.catch_warnings(record=True) as warn:\n",
    "            for id in bl.metadata.camels_id.values:\n",
    "                try:\n",
    "                    data = bl.get_data(id)\n",
    "                    # only keep data whichi si not empty\n",
    "                    if not data.empty:\n",
    "                        # Also check if there are duplicates in the index\n",
    "                        if not data.index.duplicated().any():\n",
    "                            q_list.append(data[\"q\"])\n",
    "                            w_list.append(data[\"w\"])\n",
    "\n",
    "                except Exception as e:\n",
    "                    warnings.warn(str(e))\n",
    "\n",
    "            if len(warn) > 0:\n",
    "                print(f\"There were {len(warn)} warnings (missing data files).\")\n"
   ]
  },
  {
   "cell_type": "code",
   "execution_count": 30,
   "metadata": {},
   "outputs": [],
   "source": [
    "def merge_series_to_df(series_list):\n",
    "    \"\"\"\n",
    "    Merges a list of pandas series into one dataframe.\n",
    "    Using index as the key.\n",
    "    \"\"\"\n",
    "    df = pd.concat(series_list, keys=[f's{i+1}' for i in range(len(series_list))], axis=1)\n",
    "    return df\n"
   ]
  },
  {
   "attachments": {},
   "cell_type": "markdown",
   "metadata": {},
   "source": [
    "## Create some graphs"
   ]
  },
  {
   "cell_type": "code",
   "execution_count": null,
   "metadata": {},
   "outputs": [],
   "source": [
    "p = '../output_data/diagnostics'\n",
    "if not os.path.exists(p):\n",
    "    os.makedirs(p)"
   ]
  },
  {
   "cell_type": "code",
   "execution_count": null,
   "metadata": {},
   "outputs": [],
   "source": [
    "q_df = merge_series_to_df(q_list)\n",
    "ax = q_df.count(axis=1).plot()\n",
    "ax.set_ylabel('Number of gauges')\n",
    "ax.set_xlabel('Date')\n",
    "ax.set_title('Number of gauges with discharge data')\n",
    "ax.set_yscale('log')\n",
    "plt.gcf().savefig(os.path.join(p, 'discharge_gauge_density.pdf'))"
   ]
  },
  {
   "cell_type": "code",
   "execution_count": null,
   "metadata": {},
   "outputs": [],
   "source": [
    "w_df = merge_series_to_df(w_list)\n",
    "ax = w_df.count(axis=1).plot()\n",
    "ax.set_ylabel('Number of gauges')\n",
    "ax.set_xlabel('Date')\n",
    "ax.set_title('Number of gauges with water level data')\n",
    "ax.set_yscale('log')\n",
    "plt.gcf().savefig(os.path.join(p, 'waterlevel_gauge_density.pdf'))"
   ]
  },
  {
   "attachments": {},
   "cell_type": "markdown",
   "metadata": {},
   "source": [
    "export the graph to a plotly.js figure to use on the website"
   ]
  },
  {
   "cell_type": "code",
   "execution_count": 38,
   "metadata": {},
   "outputs": [],
   "source": [
    "import plotly.express as px\n",
    "\n",
    "q_sum = pd.DataFrame(q_df.count(axis=1), columns=['Q gauges'])\n",
    "w_sum = pd.DataFrame(w_df.count(axis=1), columns=['W gauges'])\n",
    " \n",
    "merge = pd.merge(q_sum, w_sum, left_index=True, right_index=True, how=\"outer\")\n",
    "fig = px.line(merge)\n",
    "fig.update_layout(legend=dict(orientation='h'), template='plotly_dark')\n",
    "\n",
    "with open(os.path.join(p, 'gauge_density.plotly.json'), 'w') as f:\n",
    "    f.write(fig.to_json())\n"
   ]
  }
 ],
 "metadata": {
  "kernelspec": {
   "display_name": "base",
   "language": "python",
   "name": "python3"
  },
  "language_info": {
   "codemirror_mode": {
    "name": "ipython",
    "version": 3
   },
   "file_extension": ".py",
   "mimetype": "text/x-python",
   "name": "python",
   "nbconvert_exporter": "python",
   "pygments_lexer": "ipython3",
   "version": "3.9.13 (main, Aug 25 2022, 23:26:10) \n[GCC 11.2.0]"
  },
  "orig_nbformat": 4,
  "vscode": {
   "interpreter": {
    "hash": "f54d8176e82297fa872ac8c77277e50c0e193f921954c1c4a0b1ae2e8be99b71"
   }
  }
 },
 "nbformat": 4,
 "nbformat_minor": 2
}
