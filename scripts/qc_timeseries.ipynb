{
 "cells": [
  {
   "cell_type": "markdown",
   "metadata": {},
   "source": [
    "# Quality Control (QC) Notebook\n",
    "\n",
    "In this notebook we calculate quality-statistics and quality flags for the timeseries (and catchment??) data.\n",
    "\n",
    "We need two flagging systems:\n",
    "- Flag the entire station\n",
    "    - \\> 10 years of Q data for the station (without NAs)\n",
    "    - No Q available (this is covered by the one above)\n",
    "    - percentage NaN\n",
    "    - longest gap\n",
    "    - catchments\n",
    "        - Percentage of EZG outside of Germany\n",
    "        - Overlap in catchments\n",
    "- Flag values in the timeseries data\n",
    "    - negative values\n",
    "\n",
    "The first information (about the entire) station can be added to the metadata file.  \n",
    "The second QC can be added to the data/ folder of each station.\n",
    "\n",
    "For now, we focus on the first issue (entire station statistics)."
   ]
  },
  {
   "cell_type": "markdown",
   "metadata": {},
   "source": [
    "## Station wide quality control / metrics"
   ]
  },
  {
   "cell_type": "code",
   "execution_count": 1,
   "metadata": {},
   "outputs": [],
   "source": [
    "from camelsp import Station, get_metadata\n",
    "from tqdm import tqdm"
   ]
  },
  {
   "cell_type": "markdown",
   "metadata": {},
   "source": [
    "### flag_q_more_than_10_years \n",
    "\n",
    "Calculate which stations have at least 10 years of Q.  \n",
    "Do not use `dateindex.max() - dateindex.min()` as we do not want to include NaNs, we want **10 years of values** -> 3,650 values minimum"
   ]
  },
  {
   "cell_type": "code",
   "execution_count": 2,
   "metadata": {},
   "outputs": [
    {
     "name": "stderr",
     "output_type": "stream",
     "text": [
      "  4%|▎         | 104/2870 [00:02<01:01, 45.30it/s]"
     ]
    },
    {
     "name": "stderr",
     "output_type": "stream",
     "text": [
      "100%|██████████| 2870/2870 [02:41<00:00, 17.78it/s]\n"
     ]
    }
   ],
   "source": [
    "# set threshold for minimum number of days / data points\n",
    "threshold = 365*10\n",
    "\n",
    "# get metadata\n",
    "meta = get_metadata()\n",
    "\n",
    "camels_ids = meta['camels_id'].values\n",
    "\n",
    "for id in tqdm(camels_ids):\n",
    "    s = Station(id)\n",
    "    \n",
    "    # get data\n",
    "    df = s.get_data()\n",
    "\n",
    "    # count q values that are not nan\n",
    "    if 'q' in df.columns:\n",
    "        q_count = df['q'].count()\n",
    "\n",
    "        # if q_count is below threshold, set flag in metadata\n",
    "        if q_count < threshold:\n",
    "            meta.loc[meta['camels_id'] == id, 'flag_q_more_than_10_years'] = False\n",
    "        else:\n",
    "            meta.loc[meta['camels_id'] == id, 'flag_q_more_than_10_years'] = True\n",
    "    else:\n",
    "        meta.loc[meta['camels_id'] == id, 'flag_q_more_than_10_years'] = False\n",
    "\n",
    "\n",
    "# save metadata\n",
    "meta.to_csv('../output_data/metadata/metadata.csv', index=False)"
   ]
  },
  {
   "cell_type": "markdown",
   "metadata": {},
   "source": [
    "### Percentage NaN\n",
    "\n",
    "Decide for a threshold to include a flag, or don't use as flag and include in general metadata (move to merge_metadata?)."
   ]
  },
  {
   "cell_type": "code",
   "execution_count": 38,
   "metadata": {},
   "outputs": [
    {
     "data": {
      "text/plain": [
       "Timestamp('2021-12-31 00:00:00')"
      ]
     },
     "execution_count": 38,
     "metadata": {},
     "output_type": "execute_result"
    }
   ],
   "source": [
    "s = Station(\"DE110000\")\n",
    "\n",
    "df = s.get_data()\n",
    "\n",
    "# get first not nan value in df['q']\n",
    "df['q'].first_valid_index()\n",
    "\n",
    "df['q'].last_valid_index()"
   ]
  }
 ],
 "metadata": {
  "kernelspec": {
   "display_name": "base",
   "language": "python",
   "name": "python3"
  },
  "language_info": {
   "codemirror_mode": {
    "name": "ipython",
    "version": 3
   },
   "file_extension": ".py",
   "mimetype": "text/x-python",
   "name": "python",
   "nbconvert_exporter": "python",
   "pygments_lexer": "ipython3",
   "version": "3.11.6"
  }
 },
 "nbformat": 4,
 "nbformat_minor": 2
}
