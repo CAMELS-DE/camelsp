{
 "cells": [
  {
   "cell_type": "markdown",
   "metadata": {},
   "source": [
    "# Quality Control (QC) Notebook\n",
    "\n",
    "In this notebook we calculate quality-statistics and quality flags for the timeseries data.\n",
    "\n",
    "We need two flagging systems:\n",
    "- Flag the entire station\n",
    "    - \\> 10 years of Q data for the station (without NAs)\n",
    "    - No Q available (this is covered by the one above)\n",
    "    - percentage NaN\n",
    "    - longest gap\n",
    "    - Percentage of EZG outside of Germany\n",
    "- Flag values in the timeseries data\n",
    "    - negative values\n",
    "\n",
    "The first information (about the entire) station can be added to the metadata file.  \n",
    "The second QC can be added to the data/ folder of each station.\n",
    "\n",
    "For now, we focus on the first issue (entire station statistics)."
   ]
  },
  {
   "cell_type": "markdown",
   "metadata": {},
   "source": [
    "## Station wide quality control / metrics"
   ]
  },
  {
   "cell_type": "code",
   "execution_count": 8,
   "metadata": {},
   "outputs": [],
   "source": [
    "from camelsp import Station, get_metadata\n",
    "from tqdm import tqdm"
   ]
  },
  {
   "cell_type": "markdown",
   "metadata": {},
   "source": [
    "### flag_q_more_than_10_years \n",
    "\n",
    "Calculate which stations have at least 10 years of Q.  \n",
    "Do not use `dateindex.max() - dateindex.min()` as we do not want to include NaNs, we want **10 years of values** -> 3,650 values minimum"
   ]
  },
  {
   "cell_type": "code",
   "execution_count": 28,
   "metadata": {},
   "outputs": [
    {
     "name": "stderr",
     "output_type": "stream",
     "text": [
      "  0%|          | 0/2870 [00:00<?, ?it/s]"
     ]
    },
    {
     "name": "stderr",
     "output_type": "stream",
     "text": [
      "100%|██████████| 2870/2870 [01:13<00:00, 38.92it/s]\n"
     ]
    }
   ],
   "source": [
    "# set threshold for minimum number of days / data points\n",
    "threshold = 365*10\n",
    "\n",
    "# get metadata\n",
    "meta = get_metadata()\n",
    "\n",
    "camels_ids = meta['camels_id'].values\n",
    "\n",
    "for id in tqdm(camels_ids):\n",
    "    s = Station(id)\n",
    "    \n",
    "    # get data\n",
    "    df = s.get_data()\n",
    "\n",
    "    # count q values that are not nan\n",
    "    if 'q' in df.columns:\n",
    "        q_count = df['q'].count()\n",
    "\n",
    "        # if q_count is below threshold, set flag in metadata\n",
    "        if q_count < threshold:\n",
    "            meta.loc[meta['camels_id'] == id, 'flag_q_more_than_10_years'] = False\n",
    "        else:\n",
    "            meta.loc[meta['camels_id'] == id, 'flag_q_more_than_10_years'] = True\n",
    "    else:\n",
    "        meta.loc[meta['camels_id'] == id, 'flag_q_more_than_10_years'] = False\n"
   ]
  },
  {
   "cell_type": "markdown",
   "metadata": {},
   "source": [
    "### Percentage NaN\n",
    "\n",
    "Decide for a threshold to include a flag, or don't use as flag and include in general metadata (move to merge_metadata?)."
   ]
  },
  {
   "cell_type": "code",
   "execution_count": 34,
   "metadata": {},
   "outputs": [
    {
     "data": {
      "text/html": [
       "<div>\n",
       "<style scoped>\n",
       "    .dataframe tbody tr th:only-of-type {\n",
       "        vertical-align: middle;\n",
       "    }\n",
       "\n",
       "    .dataframe tbody tr th {\n",
       "        vertical-align: top;\n",
       "    }\n",
       "\n",
       "    .dataframe thead th {\n",
       "        text-align: right;\n",
       "    }\n",
       "</style>\n",
       "<table border=\"1\" class=\"dataframe\">\n",
       "  <thead>\n",
       "    <tr style=\"text-align: right;\">\n",
       "      <th></th>\n",
       "      <th>q</th>\n",
       "      <th>q_flag</th>\n",
       "      <th>w</th>\n",
       "      <th>w_flag</th>\n",
       "    </tr>\n",
       "    <tr>\n",
       "      <th>date</th>\n",
       "      <th></th>\n",
       "      <th></th>\n",
       "      <th></th>\n",
       "      <th></th>\n",
       "    </tr>\n",
       "  </thead>\n",
       "  <tbody>\n",
       "    <tr>\n",
       "      <th>1999-05-21</th>\n",
       "      <td>NaN</td>\n",
       "      <td>&lt;NA&gt;</td>\n",
       "      <td>NaN</td>\n",
       "      <td>False</td>\n",
       "    </tr>\n",
       "    <tr>\n",
       "      <th>1999-05-22</th>\n",
       "      <td>NaN</td>\n",
       "      <td>&lt;NA&gt;</td>\n",
       "      <td>NaN</td>\n",
       "      <td>False</td>\n",
       "    </tr>\n",
       "    <tr>\n",
       "      <th>1999-05-23</th>\n",
       "      <td>NaN</td>\n",
       "      <td>&lt;NA&gt;</td>\n",
       "      <td>NaN</td>\n",
       "      <td>False</td>\n",
       "    </tr>\n",
       "    <tr>\n",
       "      <th>1999-05-24</th>\n",
       "      <td>NaN</td>\n",
       "      <td>&lt;NA&gt;</td>\n",
       "      <td>NaN</td>\n",
       "      <td>False</td>\n",
       "    </tr>\n",
       "    <tr>\n",
       "      <th>1999-05-25</th>\n",
       "      <td>NaN</td>\n",
       "      <td>&lt;NA&gt;</td>\n",
       "      <td>NaN</td>\n",
       "      <td>False</td>\n",
       "    </tr>\n",
       "    <tr>\n",
       "      <th>...</th>\n",
       "      <td>...</td>\n",
       "      <td>...</td>\n",
       "      <td>...</td>\n",
       "      <td>...</td>\n",
       "    </tr>\n",
       "    <tr>\n",
       "      <th>2021-12-27</th>\n",
       "      <td>NaN</td>\n",
       "      <td>&lt;NA&gt;</td>\n",
       "      <td>NaN</td>\n",
       "      <td>False</td>\n",
       "    </tr>\n",
       "    <tr>\n",
       "      <th>2021-12-28</th>\n",
       "      <td>NaN</td>\n",
       "      <td>&lt;NA&gt;</td>\n",
       "      <td>NaN</td>\n",
       "      <td>False</td>\n",
       "    </tr>\n",
       "    <tr>\n",
       "      <th>2021-12-29</th>\n",
       "      <td>NaN</td>\n",
       "      <td>&lt;NA&gt;</td>\n",
       "      <td>NaN</td>\n",
       "      <td>False</td>\n",
       "    </tr>\n",
       "    <tr>\n",
       "      <th>2021-12-30</th>\n",
       "      <td>NaN</td>\n",
       "      <td>&lt;NA&gt;</td>\n",
       "      <td>NaN</td>\n",
       "      <td>False</td>\n",
       "    </tr>\n",
       "    <tr>\n",
       "      <th>2021-12-31</th>\n",
       "      <td>NaN</td>\n",
       "      <td>&lt;NA&gt;</td>\n",
       "      <td>NaN</td>\n",
       "      <td>False</td>\n",
       "    </tr>\n",
       "  </tbody>\n",
       "</table>\n",
       "<p>8261 rows × 4 columns</p>\n",
       "</div>"
      ],
      "text/plain": [
       "             q  q_flag   w  w_flag\n",
       "date                              \n",
       "1999-05-21 NaN    <NA> NaN   False\n",
       "1999-05-22 NaN    <NA> NaN   False\n",
       "1999-05-23 NaN    <NA> NaN   False\n",
       "1999-05-24 NaN    <NA> NaN   False\n",
       "1999-05-25 NaN    <NA> NaN   False\n",
       "...         ..     ...  ..     ...\n",
       "2021-12-27 NaN    <NA> NaN   False\n",
       "2021-12-28 NaN    <NA> NaN   False\n",
       "2021-12-29 NaN    <NA> NaN   False\n",
       "2021-12-30 NaN    <NA> NaN   False\n",
       "2021-12-31 NaN    <NA> NaN   False\n",
       "\n",
       "[8261 rows x 4 columns]"
      ]
     },
     "execution_count": 34,
     "metadata": {},
     "output_type": "execute_result"
    }
   ],
   "source": [
    "# calculate percentage of NaN\n",
    "df.Name"
   ]
  }
 ],
 "metadata": {
  "kernelspec": {
   "display_name": "base",
   "language": "python",
   "name": "python3"
  },
  "language_info": {
   "codemirror_mode": {
    "name": "ipython",
    "version": 3
   },
   "file_extension": ".py",
   "mimetype": "text/x-python",
   "name": "python",
   "nbconvert_exporter": "python",
   "pygments_lexer": "ipython3",
   "version": "3.11.6"
  }
 },
 "nbformat": 4,
 "nbformat_minor": 2
}
