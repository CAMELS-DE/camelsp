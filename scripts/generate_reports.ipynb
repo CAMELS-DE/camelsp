{
 "cells": [
  {
   "cell_type": "markdown",
   "metadata": {},
   "source": [
    "# Data Reports\n",
    "\n",
    "use pandas-profiling to generate data reports."
   ]
  },
  {
   "cell_type": "code",
   "execution_count": 6,
   "metadata": {},
   "outputs": [],
   "source": [
    "import os\n",
    "from tqdm import tqdm\n",
    "import warnings\n",
    "from camelsp import Bundesland"
   ]
  },
  {
   "cell_type": "markdown",
   "metadata": {},
   "source": [
    "First load all NUTS folders found in the output dir"
   ]
  },
  {
   "cell_type": "code",
   "execution_count": 7,
   "metadata": {},
   "outputs": [
    {
     "data": {
      "text/plain": [
       "['DEF',\n",
       " 'DED',\n",
       " 'DE9',\n",
       " 'DEG',\n",
       " 'DE1',\n",
       " 'DEE',\n",
       " 'DE4',\n",
       " 'DEC',\n",
       " 'DE8',\n",
       " 'DEB',\n",
       " 'DE2',\n",
       " 'DE7',\n",
       " 'DEA']"
      ]
     },
     "execution_count": 7,
     "metadata": {},
     "output_type": "execute_result"
    }
   ],
   "source": [
    "nuts = [nt for nt in os.listdir(Bundesland('Hessen').base_path) if nt.startswith('DE')]\n",
    "nuts"
   ]
  },
  {
   "cell_type": "markdown",
   "metadata": {},
   "source": [
    "Und jetzt gib ihm."
   ]
  },
  {
   "cell_type": "code",
   "execution_count": 5,
   "metadata": {},
   "outputs": [
    {
     "name": "stderr",
     "output_type": "stream",
     "text": [
      "100%|██████████| 282/282 [11:20<00:00,  2.41s/it]\n"
     ]
    },
    {
     "name": "stdout",
     "output_type": "stream",
     "text": [
      "There were 372 warnings (missing data files).\n"
     ]
    },
    {
     "name": "stderr",
     "output_type": "stream",
     "text": [
      "100%|██████████| 282/282 [05:29<00:00,  1.17s/it]\n",
      "  2%|▏         | 1/63 [00:02<02:54,  2.82s/it]"
     ]
    },
    {
     "name": "stdout",
     "output_type": "stream",
     "text": [
      "DataFrame is empty. Please provide a non-empty DataFrame.\n"
     ]
    },
    {
     "name": "stderr",
     "output_type": "stream",
     "text": [
      " 14%|█▍        | 9/63 [00:20<02:02,  2.27s/it]"
     ]
    },
    {
     "name": "stdout",
     "output_type": "stream",
     "text": [
      "DataFrame is empty. Please provide a non-empty DataFrame.\n"
     ]
    },
    {
     "name": "stderr",
     "output_type": "stream",
     "text": [
      " 27%|██▋       | 17/63 [00:38<01:54,  2.49s/it]"
     ]
    },
    {
     "name": "stdout",
     "output_type": "stream",
     "text": [
      "DataFrame is empty. Please provide a non-empty DataFrame.\n"
     ]
    },
    {
     "name": "stderr",
     "output_type": "stream",
     "text": [
      " 30%|███       | 19/63 [00:41<01:24,  1.92s/it]"
     ]
    },
    {
     "name": "stdout",
     "output_type": "stream",
     "text": [
      "DataFrame is empty. Please provide a non-empty DataFrame.\n"
     ]
    },
    {
     "name": "stderr",
     "output_type": "stream",
     "text": [
      " 57%|█████▋    | 36/63 [01:22<01:10,  2.60s/it]"
     ]
    },
    {
     "name": "stdout",
     "output_type": "stream",
     "text": [
      "DataFrame is empty. Please provide a non-empty DataFrame.\n"
     ]
    },
    {
     "name": "stderr",
     "output_type": "stream",
     "text": [
      " 65%|██████▌   | 41/63 [01:32<00:51,  2.32s/it]"
     ]
    },
    {
     "name": "stdout",
     "output_type": "stream",
     "text": [
      "DataFrame is empty. Please provide a non-empty DataFrame.\n"
     ]
    },
    {
     "name": "stderr",
     "output_type": "stream",
     "text": [
      " 73%|███████▎  | 46/63 [01:43<00:41,  2.43s/it]"
     ]
    },
    {
     "name": "stdout",
     "output_type": "stream",
     "text": [
      "DataFrame is empty. Please provide a non-empty DataFrame.\n"
     ]
    },
    {
     "name": "stderr",
     "output_type": "stream",
     "text": [
      " 81%|████████  | 51/63 [01:53<00:27,  2.32s/it]"
     ]
    },
    {
     "name": "stdout",
     "output_type": "stream",
     "text": [
      "DataFrame is empty. Please provide a non-empty DataFrame.\n"
     ]
    },
    {
     "name": "stderr",
     "output_type": "stream",
     "text": [
      "100%|██████████| 63/63 [02:22<00:00,  2.27s/it]\n"
     ]
    },
    {
     "name": "stdout",
     "output_type": "stream",
     "text": [
      "There were 58 warnings (missing data files).\n"
     ]
    },
    {
     "name": "stderr",
     "output_type": "stream",
     "text": [
      " 30%|███       | 78/259 [03:17<06:49,  2.26s/it]"
     ]
    },
    {
     "name": "stdout",
     "output_type": "stream",
     "text": [
      "DataFrame is empty. Please provide a non-empty DataFrame.\n"
     ]
    },
    {
     "name": "stderr",
     "output_type": "stream",
     "text": [
      " 56%|█████▌    | 145/259 [05:54<04:23,  2.32s/it]"
     ]
    },
    {
     "name": "stdout",
     "output_type": "stream",
     "text": [
      "DataFrame is empty. Please provide a non-empty DataFrame.\n"
     ]
    },
    {
     "name": "stderr",
     "output_type": "stream",
     "text": [
      " 61%|██████    | 157/259 [06:20<03:47,  2.23s/it]"
     ]
    },
    {
     "name": "stdout",
     "output_type": "stream",
     "text": [
      "DataFrame is empty. Please provide a non-empty DataFrame.\n"
     ]
    },
    {
     "name": "stderr",
     "output_type": "stream",
     "text": [
      " 71%|███████▏  | 185/259 [07:23<02:47,  2.27s/it]"
     ]
    },
    {
     "name": "stdout",
     "output_type": "stream",
     "text": [
      "DataFrame is empty. Please provide a non-empty DataFrame.\n"
     ]
    },
    {
     "name": "stderr",
     "output_type": "stream",
     "text": [
      " 81%|████████▏ | 211/259 [08:20<01:54,  2.39s/it]"
     ]
    },
    {
     "name": "stdout",
     "output_type": "stream",
     "text": [
      "DataFrame is empty. Please provide a non-empty DataFrame.\n"
     ]
    },
    {
     "name": "stderr",
     "output_type": "stream",
     "text": [
      " 88%|████████▊ | 229/259 [08:56<01:07,  2.26s/it]"
     ]
    },
    {
     "name": "stdout",
     "output_type": "stream",
     "text": [
      "DataFrame is empty. Please provide a non-empty DataFrame.\n"
     ]
    },
    {
     "name": "stderr",
     "output_type": "stream",
     "text": [
      "100%|█████████▉| 258/259 [09:58<00:01,  1.66s/it]"
     ]
    },
    {
     "name": "stdout",
     "output_type": "stream",
     "text": [
      "DataFrame is empty. Please provide a non-empty DataFrame.\n"
     ]
    },
    {
     "name": "stderr",
     "output_type": "stream",
     "text": [
      "100%|██████████| 259/259 [09:59<00:00,  2.31s/it]\n"
     ]
    },
    {
     "name": "stdout",
     "output_type": "stream",
     "text": [
      "There were 499 warnings (missing data files).\n"
     ]
    },
    {
     "name": "stderr",
     "output_type": "stream",
     "text": [
      "100%|██████████| 252/252 [04:48<00:00,  1.15s/it]\n"
     ]
    },
    {
     "name": "stdout",
     "output_type": "stream",
     "text": [
      "There were 376 warnings (missing data files).\n"
     ]
    },
    {
     "name": "stderr",
     "output_type": "stream",
     "text": [
      "100%|██████████| 233/233 [08:16<00:00,  2.13s/it]\n"
     ]
    },
    {
     "name": "stdout",
     "output_type": "stream",
     "text": [
      "There were 308 warnings (missing data files).\n"
     ]
    },
    {
     "name": "stderr",
     "output_type": "stream",
     "text": [
      "  4%|▎         | 2/56 [00:04<02:06,  2.34s/it]"
     ]
    },
    {
     "name": "stdout",
     "output_type": "stream",
     "text": [
      "DataFrame is empty. Please provide a non-empty DataFrame.\n"
     ]
    },
    {
     "name": "stderr",
     "output_type": "stream",
     "text": [
      "  7%|▋         | 4/56 [00:06<01:18,  1.50s/it]"
     ]
    },
    {
     "name": "stdout",
     "output_type": "stream",
     "text": [
      "DataFrame is empty. Please provide a non-empty DataFrame.\n"
     ]
    },
    {
     "name": "stderr",
     "output_type": "stream",
     "text": [
      " 11%|█         | 6/56 [00:09<01:06,  1.33s/it]"
     ]
    },
    {
     "name": "stdout",
     "output_type": "stream",
     "text": [
      "DataFrame is empty. Please provide a non-empty DataFrame.\n"
     ]
    },
    {
     "name": "stderr",
     "output_type": "stream",
     "text": [
      " 20%|█▉        | 11/56 [00:18<01:20,  1.79s/it]"
     ]
    },
    {
     "name": "stdout",
     "output_type": "stream",
     "text": [
      "DataFrame is empty. Please provide a non-empty DataFrame.\n"
     ]
    },
    {
     "name": "stderr",
     "output_type": "stream",
     "text": [
      " 23%|██▎       | 13/56 [00:20<01:03,  1.49s/it]"
     ]
    },
    {
     "name": "stdout",
     "output_type": "stream",
     "text": [
      "DataFrame is empty. Please provide a non-empty DataFrame.\n",
      "DataFrame is empty. Please provide a non-empty DataFrame.\n"
     ]
    },
    {
     "name": "stderr",
     "output_type": "stream",
     "text": [
      " 34%|███▍      | 19/56 [00:29<01:07,  1.84s/it]"
     ]
    },
    {
     "name": "stdout",
     "output_type": "stream",
     "text": [
      "DataFrame is empty. Please provide a non-empty DataFrame.\n"
     ]
    },
    {
     "name": "stderr",
     "output_type": "stream",
     "text": [
      " 62%|██████▎   | 35/56 [01:02<00:45,  2.18s/it]"
     ]
    },
    {
     "name": "stdout",
     "output_type": "stream",
     "text": [
      "DataFrame is empty. Please provide a non-empty DataFrame.\n"
     ]
    },
    {
     "name": "stderr",
     "output_type": "stream",
     "text": [
      " 77%|███████▋  | 43/56 [01:18<00:27,  2.14s/it]"
     ]
    },
    {
     "name": "stdout",
     "output_type": "stream",
     "text": [
      "DataFrame is empty. Please provide a non-empty DataFrame.\n"
     ]
    },
    {
     "name": "stderr",
     "output_type": "stream",
     "text": [
      " 82%|████████▏ | 46/56 [01:23<00:17,  1.78s/it]"
     ]
    },
    {
     "name": "stdout",
     "output_type": "stream",
     "text": [
      "DataFrame is empty. Please provide a non-empty DataFrame.\n"
     ]
    },
    {
     "name": "stderr",
     "output_type": "stream",
     "text": [
      "100%|██████████| 56/56 [01:42<00:00,  1.83s/it]\n"
     ]
    },
    {
     "name": "stdout",
     "output_type": "stream",
     "text": [
      "There were 78 warnings (missing data files).\n"
     ]
    },
    {
     "name": "stderr",
     "output_type": "stream",
     "text": [
      "  7%|▋         | 17/235 [00:35<06:41,  1.84s/it]"
     ]
    },
    {
     "name": "stdout",
     "output_type": "stream",
     "text": [
      "DataFrame is empty. Please provide a non-empty DataFrame.\n"
     ]
    },
    {
     "name": "stderr",
     "output_type": "stream",
     "text": [
      " 20%|█▉        | 46/235 [01:32<06:15,  1.98s/it]"
     ]
    },
    {
     "name": "stdout",
     "output_type": "stream",
     "text": [
      "DataFrame is empty. Please provide a non-empty DataFrame.\n"
     ]
    },
    {
     "name": "stderr",
     "output_type": "stream",
     "text": [
      " 49%|████▊     | 114/235 [03:48<03:44,  1.86s/it]"
     ]
    },
    {
     "name": "stdout",
     "output_type": "stream",
     "text": [
      "DataFrame is empty. Please provide a non-empty DataFrame.\n"
     ]
    },
    {
     "name": "stderr",
     "output_type": "stream",
     "text": [
      " 83%|████████▎ | 195/235 [06:35<01:08,  1.71s/it]"
     ]
    },
    {
     "name": "stdout",
     "output_type": "stream",
     "text": [
      "DataFrame is empty. Please provide a non-empty DataFrame.\n"
     ]
    },
    {
     "name": "stderr",
     "output_type": "stream",
     "text": [
      " 86%|████████▋ | 203/235 [06:50<01:02,  1.95s/it]"
     ]
    },
    {
     "name": "stdout",
     "output_type": "stream",
     "text": [
      "DataFrame is empty. Please provide a non-empty DataFrame.\n"
     ]
    },
    {
     "name": "stderr",
     "output_type": "stream",
     "text": [
      "100%|██████████| 235/235 [07:52<00:00,  2.01s/it]\n"
     ]
    },
    {
     "name": "stdout",
     "output_type": "stream",
     "text": [
      "There were 357 warnings (missing data files).\n"
     ]
    },
    {
     "name": "stderr",
     "output_type": "stream",
     "text": [
      " 13%|█▎        | 22/163 [00:00<00:00, 215.21it/s]"
     ]
    },
    {
     "name": "stdout",
     "output_type": "stream",
     "text": [
      "DataFrame is empty. Please provide a non-empty DataFrame.\n",
      "DataFrame is empty. Please provide a non-empty DataFrame.\n",
      "DataFrame is empty. Please provide a non-empty DataFrame.\n",
      "DataFrame is empty. Please provide a non-empty DataFrame.\n",
      "DataFrame is empty. Please provide a non-empty DataFrame.\n",
      "DataFrame is empty. Please provide a non-empty DataFrame.\n",
      "DataFrame is empty. Please provide a non-empty DataFrame.\n",
      "DataFrame is empty. Please provide a non-empty DataFrame.\n",
      "DataFrame is empty. Please provide a non-empty DataFrame.\n",
      "DataFrame is empty. Please provide a non-empty DataFrame.\n",
      "DataFrame is empty. Please provide a non-empty DataFrame.\n",
      "DataFrame is empty. Please provide a non-empty DataFrame.\n",
      "DataFrame is empty. Please provide a non-empty DataFrame.\n",
      "DataFrame is empty. Please provide a non-empty DataFrame.\n",
      "DataFrame is empty. Please provide a non-empty DataFrame.\n",
      "DataFrame is empty. Please provide a non-empty DataFrame.\n",
      "DataFrame is empty. Please provide a non-empty DataFrame.\n",
      "DataFrame is empty. Please provide a non-empty DataFrame.\n",
      "DataFrame is empty. Please provide a non-empty DataFrame.\n",
      "DataFrame is empty. Please provide a non-empty DataFrame.\n",
      "DataFrame is empty. Please provide a non-empty DataFrame.\n",
      "DataFrame is empty. Please provide a non-empty DataFrame.\n",
      "DataFrame is empty. Please provide a non-empty DataFrame.\n",
      "DataFrame is empty. Please provide a non-empty DataFrame.\n",
      "DataFrame is empty. Please provide a non-empty DataFrame.\n",
      "DataFrame is empty. Please provide a non-empty DataFrame.\n",
      "DataFrame is empty. Please provide a non-empty DataFrame.\n",
      "DataFrame is empty. Please provide a non-empty DataFrame.\n",
      "DataFrame is empty. Please provide a non-empty DataFrame.\n",
      "DataFrame is empty. Please provide a non-empty DataFrame.\n",
      "DataFrame is empty. Please provide a non-empty DataFrame.\n",
      "DataFrame is empty. Please provide a non-empty DataFrame.\n",
      "DataFrame is empty. Please provide a non-empty DataFrame.\n",
      "DataFrame is empty. Please provide a non-empty DataFrame.\n",
      "DataFrame is empty. Please provide a non-empty DataFrame.\n",
      "DataFrame is empty. Please provide a non-empty DataFrame.\n",
      "DataFrame is empty. Please provide a non-empty DataFrame.\n",
      "DataFrame is empty. Please provide a non-empty DataFrame.\n",
      "DataFrame is empty. Please provide a non-empty DataFrame.\n",
      "DataFrame is empty. Please provide a non-empty DataFrame.\n",
      "DataFrame is empty. Please provide a non-empty DataFrame.\n",
      "DataFrame is empty. Please provide a non-empty DataFrame.\n"
     ]
    },
    {
     "name": "stderr",
     "output_type": "stream",
     "text": [
      " 28%|██▊       | 45/163 [00:00<00:00, 219.78it/s]"
     ]
    },
    {
     "name": "stdout",
     "output_type": "stream",
     "text": [
      "DataFrame is empty. Please provide a non-empty DataFrame.\n",
      "DataFrame is empty. Please provide a non-empty DataFrame.\n",
      "DataFrame is empty. Please provide a non-empty DataFrame.\n"
     ]
    },
    {
     "name": "stderr",
     "output_type": "stream",
     "text": [
      " 41%|████      | 67/163 [00:00<00:00, 212.69it/s]"
     ]
    },
    {
     "name": "stdout",
     "output_type": "stream",
     "text": [
      "DataFrame is empty. Please provide a non-empty DataFrame.\n",
      "DataFrame is empty. Please provide a non-empty DataFrame.\n",
      "DataFrame is empty. Please provide a non-empty DataFrame.\n",
      "DataFrame is empty. Please provide a non-empty DataFrame.\n",
      "DataFrame is empty. Please provide a non-empty DataFrame.\n",
      "DataFrame is empty. Please provide a non-empty DataFrame.\n",
      "DataFrame is empty. Please provide a non-empty DataFrame.\n",
      "DataFrame is empty. Please provide a non-empty DataFrame.\n",
      "DataFrame is empty. Please provide a non-empty DataFrame.\n",
      "DataFrame is empty. Please provide a non-empty DataFrame.\n",
      "DataFrame is empty. Please provide a non-empty DataFrame.\n",
      "DataFrame is empty. Please provide a non-empty DataFrame.\n",
      "DataFrame is empty. Please provide a non-empty DataFrame.\n",
      "DataFrame is empty. Please provide a non-empty DataFrame.\n",
      "DataFrame is empty. Please provide a non-empty DataFrame.\n",
      "DataFrame is empty. Please provide a non-empty DataFrame.\n",
      "DataFrame is empty. Please provide a non-empty DataFrame.\n",
      "DataFrame is empty. Please provide a non-empty DataFrame.\n",
      "DataFrame is empty. Please provide a non-empty DataFrame.\n",
      "DataFrame is empty. Please provide a non-empty DataFrame.\n",
      "DataFrame is empty. Please provide a non-empty DataFrame.\n",
      "DataFrame is empty. Please provide a non-empty DataFrame.\n",
      "DataFrame is empty. Please provide a non-empty DataFrame.\n",
      "DataFrame is empty. Please provide a non-empty DataFrame.\n",
      "DataFrame is empty. Please provide a non-empty DataFrame.\n",
      "DataFrame is empty. Please provide a non-empty DataFrame.\n",
      "DataFrame is empty. Please provide a non-empty DataFrame.\n",
      "DataFrame is empty. Please provide a non-empty DataFrame.\n",
      "DataFrame is empty. Please provide a non-empty DataFrame.\n",
      "DataFrame is empty. Please provide a non-empty DataFrame.\n",
      "DataFrame is empty. Please provide a non-empty DataFrame.\n",
      "DataFrame is empty. Please provide a non-empty DataFrame.\n",
      "DataFrame is empty. Please provide a non-empty DataFrame.\n",
      "DataFrame is empty. Please provide a non-empty DataFrame.\n",
      "DataFrame is empty. Please provide a non-empty DataFrame.\n",
      "DataFrame is empty. Please provide a non-empty DataFrame.\n",
      "DataFrame is empty. Please provide a non-empty DataFrame.\n",
      "DataFrame is empty. Please provide a non-empty DataFrame.\n",
      "DataFrame is empty. Please provide a non-empty DataFrame.\n",
      "DataFrame is empty. Please provide a non-empty DataFrame.\n",
      "DataFrame is empty. Please provide a non-empty DataFrame.\n",
      "DataFrame is empty. Please provide a non-empty DataFrame.\n",
      "DataFrame is empty. Please provide a non-empty DataFrame.\n",
      "DataFrame is empty. Please provide a non-empty DataFrame.\n"
     ]
    },
    {
     "name": "stderr",
     "output_type": "stream",
     "text": [
      " 72%|███████▏  | 117/163 [00:00<00:00, 233.79it/s]"
     ]
    },
    {
     "name": "stdout",
     "output_type": "stream",
     "text": [
      "DataFrame is empty. Please provide a non-empty DataFrame.\n",
      "DataFrame is empty. Please provide a non-empty DataFrame.\n",
      "DataFrame is empty. Please provide a non-empty DataFrame.\n",
      "DataFrame is empty. Please provide a non-empty DataFrame.\n",
      "DataFrame is empty. Please provide a non-empty DataFrame.\n",
      "DataFrame is empty. Please provide a non-empty DataFrame.\n",
      "DataFrame is empty. Please provide a non-empty DataFrame.\n",
      "DataFrame is empty. Please provide a non-empty DataFrame.\n",
      "DataFrame is empty. Please provide a non-empty DataFrame.\n",
      "DataFrame is empty. Please provide a non-empty DataFrame.\n",
      "DataFrame is empty. Please provide a non-empty DataFrame.\n",
      "DataFrame is empty. Please provide a non-empty DataFrame.\n",
      "DataFrame is empty. Please provide a non-empty DataFrame.\n",
      "DataFrame is empty. Please provide a non-empty DataFrame.\n",
      "DataFrame is empty. Please provide a non-empty DataFrame.\n",
      "DataFrame is empty. Please provide a non-empty DataFrame.\n",
      "DataFrame is empty. Please provide a non-empty DataFrame.\n",
      "DataFrame is empty. Please provide a non-empty DataFrame.\n",
      "DataFrame is empty. Please provide a non-empty DataFrame.\n",
      "DataFrame is empty. Please provide a non-empty DataFrame.\n",
      "DataFrame is empty. Please provide a non-empty DataFrame.\n",
      "DataFrame is empty. Please provide a non-empty DataFrame.\n",
      "DataFrame is empty. Please provide a non-empty DataFrame.\n",
      "DataFrame is empty. Please provide a non-empty DataFrame.\n",
      "DataFrame is empty. Please provide a non-empty DataFrame.\n",
      "DataFrame is empty. Please provide a non-empty DataFrame.\n",
      "DataFrame is empty. Please provide a non-empty DataFrame.\n",
      "DataFrame is empty. Please provide a non-empty DataFrame.\n",
      "DataFrame is empty. Please provide a non-empty DataFrame.\n",
      "DataFrame is empty. Please provide a non-empty DataFrame.\n",
      "DataFrame is empty. Please provide a non-empty DataFrame.\n",
      "DataFrame is empty. Please provide a non-empty DataFrame.\n",
      "DataFrame is empty. Please provide a non-empty DataFrame.\n",
      "DataFrame is empty. Please provide a non-empty DataFrame.\n",
      "DataFrame is empty. Please provide a non-empty DataFrame.\n",
      "DataFrame is empty. Please provide a non-empty DataFrame.\n",
      "DataFrame is empty. Please provide a non-empty DataFrame.\n",
      "DataFrame is empty. Please provide a non-empty DataFrame.\n",
      "DataFrame is empty. Please provide a non-empty DataFrame.\n",
      "DataFrame is empty. Please provide a non-empty DataFrame.\n",
      "DataFrame is empty. Please provide a non-empty DataFrame.\n",
      "DataFrame is empty. Please provide a non-empty DataFrame.\n",
      "DataFrame is empty. Please provide a non-empty DataFrame.\n",
      "DataFrame is empty. Please provide a non-empty DataFrame.\n",
      "DataFrame is empty. Please provide a non-empty DataFrame.\n",
      "DataFrame is empty. Please provide a non-empty DataFrame.\n",
      "DataFrame is empty. Please provide a non-empty DataFrame.\n",
      "DataFrame is empty. Please provide a non-empty DataFrame.\n",
      "DataFrame is empty. Please provide a non-empty DataFrame.\n",
      "DataFrame is empty. Please provide a non-empty DataFrame.\n",
      "DataFrame is empty. Please provide a non-empty DataFrame.\n",
      "DataFrame is empty. Please provide a non-empty DataFrame.\n",
      "DataFrame is empty. Please provide a non-empty DataFrame.\n",
      "DataFrame is empty. Please provide a non-empty DataFrame.\n"
     ]
    },
    {
     "name": "stderr",
     "output_type": "stream",
     "text": [
      "100%|██████████| 163/163 [00:00<00:00, 233.26it/s]\n"
     ]
    },
    {
     "name": "stdout",
     "output_type": "stream",
     "text": [
      "DataFrame is empty. Please provide a non-empty DataFrame.\n",
      "DataFrame is empty. Please provide a non-empty DataFrame.\n",
      "DataFrame is empty. Please provide a non-empty DataFrame.\n",
      "DataFrame is empty. Please provide a non-empty DataFrame.\n",
      "DataFrame is empty. Please provide a non-empty DataFrame.\n",
      "DataFrame is empty. Please provide a non-empty DataFrame.\n",
      "DataFrame is empty. Please provide a non-empty DataFrame.\n",
      "DataFrame is empty. Please provide a non-empty DataFrame.\n",
      "DataFrame is empty. Please provide a non-empty DataFrame.\n",
      "DataFrame is empty. Please provide a non-empty DataFrame.\n",
      "DataFrame is empty. Please provide a non-empty DataFrame.\n",
      "DataFrame is empty. Please provide a non-empty DataFrame.\n",
      "DataFrame is empty. Please provide a non-empty DataFrame.\n",
      "DataFrame is empty. Please provide a non-empty DataFrame.\n",
      "DataFrame is empty. Please provide a non-empty DataFrame.\n",
      "DataFrame is empty. Please provide a non-empty DataFrame.\n",
      "There were 167 warnings (missing data files).\n"
     ]
    },
    {
     "name": "stderr",
     "output_type": "stream",
     "text": [
      "  1%|          | 5/540 [00:11<17:47,  2.00s/it]"
     ]
    },
    {
     "name": "stdout",
     "output_type": "stream",
     "text": [
      "DataFrame is empty. Please provide a non-empty DataFrame.\n"
     ]
    },
    {
     "name": "stderr",
     "output_type": "stream",
     "text": [
      "  5%|▌         | 28/540 [00:57<19:45,  2.31s/it]"
     ]
    },
    {
     "name": "stdout",
     "output_type": "stream",
     "text": [
      "DataFrame is empty. Please provide a non-empty DataFrame.\n"
     ]
    },
    {
     "name": "stderr",
     "output_type": "stream",
     "text": [
      " 19%|█▉        | 105/540 [03:46<13:54,  1.92s/it]"
     ]
    },
    {
     "name": "stdout",
     "output_type": "stream",
     "text": [
      "DataFrame is empty. Please provide a non-empty DataFrame.\n"
     ]
    },
    {
     "name": "stderr",
     "output_type": "stream",
     "text": [
      " 32%|███▏      | 174/540 [06:15<12:42,  2.08s/it]"
     ]
    },
    {
     "name": "stdout",
     "output_type": "stream",
     "text": [
      "DataFrame is empty. Please provide a non-empty DataFrame.\n"
     ]
    },
    {
     "name": "stderr",
     "output_type": "stream",
     "text": [
      " 69%|██████▉   | 375/540 [13:27<06:13,  2.27s/it]"
     ]
    },
    {
     "name": "stdout",
     "output_type": "stream",
     "text": [
      "DataFrame is empty. Please provide a non-empty DataFrame.\n"
     ]
    },
    {
     "name": "stderr",
     "output_type": "stream",
     "text": [
      " 79%|███████▉  | 429/540 [15:26<04:09,  2.25s/it]"
     ]
    },
    {
     "name": "stdout",
     "output_type": "stream",
     "text": [
      "DataFrame is empty. Please provide a non-empty DataFrame.\n"
     ]
    },
    {
     "name": "stderr",
     "output_type": "stream",
     "text": [
      " 88%|████████▊ | 473/540 [17:02<02:55,  2.62s/it]"
     ]
    },
    {
     "ename": "",
     "evalue": "",
     "output_type": "error",
     "traceback": [
      "\u001b[1;31mCannot execute code, session has been disposed. Please try restarting the Kernel."
     ]
    },
    {
     "ename": "",
     "evalue": "",
     "output_type": "error",
     "traceback": [
      "\u001b[1;31mThe Kernel crashed while executing code in the the current cell or a previous cell. Please review the code in the cell(s) to identify a possible cause of the failure. Click <a href='https://aka.ms/vscodeJupyterKernelCrash'>here</a> for more info. View Jupyter <a href='command:jupyter.viewOutput'>log</a> for further details."
     ]
    }
   ],
   "source": [
    "# set to true, if new output data was added (ie. rainfall)\n",
    "REPLACE = False\n",
    "\n",
    "# create for each report\n",
    "for ID in nuts:\n",
    "    with Bundesland(ID) as bl:\n",
    "        with warnings.catch_warnings(record=True) as warn:\n",
    "            nuts_ids = bl.nuts_table.nuts_id.values.tolist()\n",
    "\n",
    "            for nuts_id in tqdm(nuts_ids, desc=ID):\n",
    "                # write the report files\n",
    "                try:\n",
    "                    bl.generate_reports(nuts_ids=nuts_id, fmt='html', if_exists='replace' if REPLACE else 'omit')\n",
    "                    bl.generate_reports(nuts_ids=nuts_id, fmt='json', if_exists='replace' if REPLACE else 'omit')\n",
    "                except Exception as e:\n",
    "                    print(str(e))\n",
    "                    warnings.warn(str(e))\n",
    "\n",
    "            if len(warn) > 0:\n",
    "                print(f\"FutureWarnings: {len([w for w in warn if w.category == FutureWarning])}\")\n",
    "                print(f\"Other warnings: {len([w for w in warn if w.category != FutureWarning])} (possibly missing data files).\")"
   ]
  },
  {
   "cell_type": "code",
   "execution_count": 8,
   "metadata": {},
   "outputs": [
    {
     "name": "stderr",
     "output_type": "stream",
     "text": [
      "DEB:   2%|▏         | 3/155 [00:10<08:21,  3.30s/it]"
     ]
    },
    {
     "name": "stdout",
     "output_type": "stream",
     "text": [
      "DataFrame is empty. Please provide a non-empty DataFrame.\n",
      "DataFrame is empty. Please provide a non-empty DataFrame.\n"
     ]
    },
    {
     "name": "stderr",
     "output_type": "stream",
     "text": [
      "DEB:   4%|▍         | 6/155 [00:13<04:26,  1.79s/it]"
     ]
    },
    {
     "name": "stdout",
     "output_type": "stream",
     "text": [
      "DataFrame is empty. Please provide a non-empty DataFrame.\n"
     ]
    },
    {
     "name": "stderr",
     "output_type": "stream",
     "text": [
      "DEB:   5%|▌         | 8/155 [00:16<04:20,  1.78s/it]"
     ]
    },
    {
     "name": "stdout",
     "output_type": "stream",
     "text": [
      "DataFrame is empty. Please provide a non-empty DataFrame.\n"
     ]
    },
    {
     "name": "stderr",
     "output_type": "stream",
     "text": [
      "DEB:  10%|█         | 16/155 [00:38<06:35,  2.85s/it]"
     ]
    },
    {
     "name": "stdout",
     "output_type": "stream",
     "text": [
      "DataFrame is empty. Please provide a non-empty DataFrame.\n"
     ]
    },
    {
     "name": "stderr",
     "output_type": "stream",
     "text": [
      "DEB:  12%|█▏        | 19/155 [00:44<05:25,  2.39s/it]"
     ]
    },
    {
     "name": "stdout",
     "output_type": "stream",
     "text": [
      "DataFrame is empty. Please provide a non-empty DataFrame.\n"
     ]
    },
    {
     "name": "stderr",
     "output_type": "stream",
     "text": [
      "DEB:  15%|█▌        | 24/155 [00:53<04:42,  2.16s/it]"
     ]
    },
    {
     "name": "stdout",
     "output_type": "stream",
     "text": [
      "DataFrame is empty. Please provide a non-empty DataFrame.\n"
     ]
    },
    {
     "name": "stderr",
     "output_type": "stream",
     "text": [
      "DEB:  32%|███▏      | 49/155 [01:50<04:13,  2.40s/it]"
     ]
    },
    {
     "name": "stdout",
     "output_type": "stream",
     "text": [
      "DataFrame is empty. Please provide a non-empty DataFrame.\n",
      "DataFrame is empty. Please provide a non-empty DataFrame.\n"
     ]
    },
    {
     "name": "stderr",
     "output_type": "stream",
     "text": [
      "DEB:  34%|███▍      | 53/155 [01:55<02:50,  1.67s/it]"
     ]
    },
    {
     "name": "stdout",
     "output_type": "stream",
     "text": [
      "DataFrame is empty. Please provide a non-empty DataFrame.\n"
     ]
    },
    {
     "name": "stderr",
     "output_type": "stream",
     "text": [
      "DEB:  42%|████▏     | 65/155 [02:22<03:34,  2.39s/it]"
     ]
    },
    {
     "name": "stdout",
     "output_type": "stream",
     "text": [
      "DataFrame is empty. Please provide a non-empty DataFrame.\n"
     ]
    },
    {
     "name": "stderr",
     "output_type": "stream",
     "text": [
      "DEB:  47%|████▋     | 73/155 [02:39<03:22,  2.47s/it]"
     ]
    },
    {
     "name": "stdout",
     "output_type": "stream",
     "text": [
      "DataFrame is empty. Please provide a non-empty DataFrame.\n"
     ]
    },
    {
     "name": "stderr",
     "output_type": "stream",
     "text": [
      "DEB:  59%|█████▊    | 91/155 [03:32<03:08,  2.95s/it]"
     ]
    },
    {
     "name": "stdout",
     "output_type": "stream",
     "text": [
      "DataFrame is empty. Please provide a non-empty DataFrame.\n",
      "DataFrame is empty. Please provide a non-empty DataFrame.\n"
     ]
    },
    {
     "name": "stderr",
     "output_type": "stream",
     "text": [
      "DEB:  62%|██████▏   | 96/155 [03:40<01:58,  2.01s/it]"
     ]
    },
    {
     "name": "stdout",
     "output_type": "stream",
     "text": [
      "DataFrame is empty. Please provide a non-empty DataFrame.\n"
     ]
    },
    {
     "name": "stderr",
     "output_type": "stream",
     "text": [
      "DEB:  63%|██████▎   | 98/155 [03:42<01:36,  1.69s/it]"
     ]
    },
    {
     "name": "stdout",
     "output_type": "stream",
     "text": [
      "DataFrame is empty. Please provide a non-empty DataFrame.\n"
     ]
    },
    {
     "name": "stderr",
     "output_type": "stream",
     "text": [
      "DEB:  65%|██████▌   | 101/155 [03:47<01:34,  1.74s/it]"
     ]
    },
    {
     "name": "stdout",
     "output_type": "stream",
     "text": [
      "DataFrame is empty. Please provide a non-empty DataFrame.\n"
     ]
    },
    {
     "name": "stderr",
     "output_type": "stream",
     "text": [
      "DEB:  66%|██████▋   | 103/155 [03:49<01:19,  1.53s/it]"
     ]
    },
    {
     "name": "stdout",
     "output_type": "stream",
     "text": [
      "DataFrame is empty. Please provide a non-empty DataFrame.\n",
      "DataFrame is empty. Please provide a non-empty DataFrame.\n",
      "DataFrame is empty. Please provide a non-empty DataFrame.\n",
      "DataFrame is empty. Please provide a non-empty DataFrame.\n"
     ]
    },
    {
     "name": "stderr",
     "output_type": "stream",
     "text": [
      "DEB:  70%|███████   | 109/155 [03:54<00:51,  1.13s/it]"
     ]
    },
    {
     "name": "stdout",
     "output_type": "stream",
     "text": [
      "DataFrame is empty. Please provide a non-empty DataFrame.\n"
     ]
    },
    {
     "name": "stderr",
     "output_type": "stream",
     "text": [
      "DEB:  86%|████████▋ | 134/155 [05:06<01:00,  2.88s/it]"
     ]
    },
    {
     "name": "stdout",
     "output_type": "stream",
     "text": [
      "DataFrame is empty. Please provide a non-empty DataFrame.\n"
     ]
    },
    {
     "name": "stderr",
     "output_type": "stream",
     "text": [
      "DEB:  90%|████████▉ | 139/155 [05:16<00:37,  2.34s/it]"
     ]
    },
    {
     "name": "stdout",
     "output_type": "stream",
     "text": [
      "DataFrame is empty. Please provide a non-empty DataFrame.\n"
     ]
    },
    {
     "name": "stderr",
     "output_type": "stream",
     "text": [
      "DEB:  95%|█████████▍| 147/155 [05:34<00:21,  2.66s/it]"
     ]
    },
    {
     "name": "stdout",
     "output_type": "stream",
     "text": [
      "DataFrame is empty. Please provide a non-empty DataFrame.\n",
      "DataFrame is empty. Please provide a non-empty DataFrame.\n",
      "DataFrame is empty. Please provide a non-empty DataFrame.\n",
      "DataFrame is empty. Please provide a non-empty DataFrame.\n",
      "DataFrame is empty. Please provide a non-empty DataFrame.\n",
      "DataFrame is empty. Please provide a non-empty DataFrame.\n",
      "DataFrame is empty. Please provide a non-empty DataFrame.\n"
     ]
    },
    {
     "name": "stderr",
     "output_type": "stream",
     "text": [
      "DEB: 100%|██████████| 155/155 [05:37<00:00,  2.18s/it]"
     ]
    },
    {
     "name": "stdout",
     "output_type": "stream",
     "text": [
      "FutureWarnings: 465\n",
      "Other warnings: 31 (possibly missing data files).\n"
     ]
    },
    {
     "name": "stderr",
     "output_type": "stream",
     "text": [
      "\n"
     ]
    }
   ],
   "source": [
    "# set to true, if new output data was added (ie. rainfall)\n",
    "REPLACE = True\n",
    "\n",
    "ID = 'DEB'\n",
    "\n",
    "# create report for one bl\n",
    "with Bundesland(ID) as bl:\n",
    "    with warnings.catch_warnings(record=True) as warn:\n",
    "        nuts_ids = bl.nuts_table.nuts_id.values.tolist()\n",
    "\n",
    "        for nuts_id in tqdm(nuts_ids, desc=ID):\n",
    "            # write the report files\n",
    "            try:\n",
    "                bl.generate_reports(nuts_ids=nuts_id, fmt='html', if_exists='replace' if REPLACE else 'omit')\n",
    "                bl.generate_reports(nuts_ids=nuts_id, fmt='json', if_exists='replace' if REPLACE else 'omit')\n",
    "            except Exception as e:\n",
    "                print(str(e))\n",
    "                warnings.warn(str(e))\n",
    "\n",
    "        if len(warn) > 0:\n",
    "            print(f\"FutureWarnings: {len([w for w in warn if w.category == FutureWarning])}\")\n",
    "            print(f\"Other warnings: {len([w for w in warn if w.category != FutureWarning])} (possibly missing data files).\")"
   ]
  }
 ],
 "metadata": {
  "kernelspec": {
   "display_name": "Python 3 (ipykernel)",
   "language": "python",
   "name": "python3"
  },
  "language_info": {
   "codemirror_mode": {
    "name": "ipython",
    "version": 3
   },
   "file_extension": ".py",
   "mimetype": "text/x-python",
   "name": "python",
   "nbconvert_exporter": "python",
   "pygments_lexer": "ipython3",
   "version": "3.9.13"
  },
  "vscode": {
   "interpreter": {
    "hash": "2c57ebfed52ffd848a0d2f36f1ea9c0a9060c9b67397fbb725d6aa92a9494b08"
   }
  }
 },
 "nbformat": 4,
 "nbformat_minor": 4
}
