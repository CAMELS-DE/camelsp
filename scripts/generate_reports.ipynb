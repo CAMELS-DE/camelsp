{
 "cells": [
  {
   "cell_type": "markdown",
   "metadata": {},
   "source": [
    "# Data Reports\n",
    "\n",
    "use pandas-profiling to generate data reports.  \n",
    "Also adds W~Q correlations to metadata.csv"
   ]
  },
  {
   "cell_type": "code",
   "execution_count": 6,
   "metadata": {},
   "outputs": [],
   "source": [
    "import os\n",
    "from tqdm import tqdm\n",
    "import json\n",
    "import warnings\n",
    "from camelsp import Bundesland, util\n",
    "import pandas as pd"
   ]
  },
  {
   "cell_type": "markdown",
   "metadata": {},
   "source": [
    "First load all NUTS folders found in the output dir"
   ]
  },
  {
   "cell_type": "code",
   "execution_count": 2,
   "metadata": {},
   "outputs": [
    {
     "data": {
      "text/plain": [
       "['DE1',\n",
       " 'DE2',\n",
       " 'DE4',\n",
       " 'DE7',\n",
       " 'DE8',\n",
       " 'DE9',\n",
       " 'DEA',\n",
       " 'DEB',\n",
       " 'DEC',\n",
       " 'DED',\n",
       " 'DEE',\n",
       " 'DEF',\n",
       " 'DEG']"
      ]
     },
     "execution_count": 2,
     "metadata": {},
     "output_type": "execute_result"
    }
   ],
   "source": [
    "nuts = sorted([nt for nt in os.listdir(Bundesland('Hessen').base_path) if nt.startswith('DE')])\n",
    "nuts"
   ]
  },
  {
   "cell_type": "markdown",
   "metadata": {},
   "source": [
    "Und jetzt gib ihm."
   ]
  },
  {
   "cell_type": "code",
   "execution_count": 3,
   "metadata": {},
   "outputs": [
    {
     "name": "stderr",
     "output_type": "stream",
     "text": [
      "DE1:   0%|          | 0/252 [00:00<?, ?it/s]"
     ]
    },
    {
     "name": "stderr",
     "output_type": "stream",
     "text": [
      "DE1: 100%|██████████| 252/252 [10:37<00:00,  2.53s/it]\n",
      "DE2: 100%|██████████| 535/535 [25:19<00:00,  2.84s/it]\n",
      "DE4: 100%|██████████| 233/233 [10:18<00:00,  2.65s/it]\n",
      "DE7: 100%|██████████| 97/97 [05:00<00:00,  3.10s/it]\n",
      "DE8: 100%|██████████| 230/230 [10:02<00:00,  2.62s/it]\n",
      "DE9: 100%|██████████| 282/282 [06:23<00:00,  1.36s/it]\n",
      "DEA: 100%|██████████| 219/219 [10:44<00:00,  2.94s/it]\n",
      "DEB: 100%|██████████| 124/124 [05:36<00:00,  2.71s/it]\n",
      "DEC: 100%|██████████| 46/46 [18:19<00:00, 23.91s/it]   \n",
      "DED: 100%|██████████| 282/282 [10:34<00:00,  2.25s/it]\n",
      "DEE: 100%|██████████| 126/126 [05:23<00:00,  2.57s/it]\n",
      "DEF: 100%|██████████| 509/509 [16:24<00:00,  1.93s/it]\n",
      "DEG: 100%|██████████| 63/63 [03:19<00:00,  3.16s/it]\n"
     ]
    }
   ],
   "source": [
    "# set to true, if new output data was added (ie. rainfall)\n",
    "REPLACE = False\n",
    "\n",
    "# create for each report\n",
    "for ID in nuts:\n",
    "    with Bundesland(ID) as bl:\n",
    "        with warnings.catch_warnings(record=True) as warn:\n",
    "            nuts_ids = bl.nuts_table.nuts_id.values.tolist()\n",
    "\n",
    "            for nuts_id in tqdm(nuts_ids, desc=ID):\n",
    "                # write the report files\n",
    "                try:\n",
    "                    bl.generate_reports(nuts_ids=nuts_id, fmt='html', if_exists='replace' if REPLACE else 'omit')\n",
    "                    bl.generate_reports(nuts_ids=nuts_id, fmt='json', if_exists='replace' if REPLACE else 'omit')\n",
    "                except Exception as e:\n",
    "                    print(str(e))\n",
    "                    warnings.warn(str(e))\n",
    "\n",
    "            if len(warn) > 0:\n",
    "                print(f\"FutureWarnings: {len([w for w in warn if w.category == FutureWarning])}\")\n",
    "                print(f\"Other warnings: {len([w for w in warn if w.category != FutureWarning])} (possibly missing data files).\")"
   ]
  },
  {
   "cell_type": "code",
   "execution_count": 8,
   "metadata": {},
   "outputs": [
    {
     "name": "stderr",
     "output_type": "stream",
     "text": [
      "DEB:   2%|▏         | 3/155 [00:10<08:21,  3.30s/it]"
     ]
    },
    {
     "name": "stdout",
     "output_type": "stream",
     "text": [
      "DataFrame is empty. Please provide a non-empty DataFrame.\n",
      "DataFrame is empty. Please provide a non-empty DataFrame.\n"
     ]
    },
    {
     "name": "stderr",
     "output_type": "stream",
     "text": [
      "DEB:   4%|▍         | 6/155 [00:13<04:26,  1.79s/it]"
     ]
    },
    {
     "name": "stdout",
     "output_type": "stream",
     "text": [
      "DataFrame is empty. Please provide a non-empty DataFrame.\n"
     ]
    },
    {
     "name": "stderr",
     "output_type": "stream",
     "text": [
      "DEB:   5%|▌         | 8/155 [00:16<04:20,  1.78s/it]"
     ]
    },
    {
     "name": "stdout",
     "output_type": "stream",
     "text": [
      "DataFrame is empty. Please provide a non-empty DataFrame.\n"
     ]
    },
    {
     "name": "stderr",
     "output_type": "stream",
     "text": [
      "DEB:  10%|█         | 16/155 [00:38<06:35,  2.85s/it]"
     ]
    },
    {
     "name": "stdout",
     "output_type": "stream",
     "text": [
      "DataFrame is empty. Please provide a non-empty DataFrame.\n"
     ]
    },
    {
     "name": "stderr",
     "output_type": "stream",
     "text": [
      "DEB:  12%|█▏        | 19/155 [00:44<05:25,  2.39s/it]"
     ]
    },
    {
     "name": "stdout",
     "output_type": "stream",
     "text": [
      "DataFrame is empty. Please provide a non-empty DataFrame.\n"
     ]
    },
    {
     "name": "stderr",
     "output_type": "stream",
     "text": [
      "DEB:  15%|█▌        | 24/155 [00:53<04:42,  2.16s/it]"
     ]
    },
    {
     "name": "stdout",
     "output_type": "stream",
     "text": [
      "DataFrame is empty. Please provide a non-empty DataFrame.\n"
     ]
    },
    {
     "name": "stderr",
     "output_type": "stream",
     "text": [
      "DEB:  32%|███▏      | 49/155 [01:50<04:13,  2.40s/it]"
     ]
    },
    {
     "name": "stdout",
     "output_type": "stream",
     "text": [
      "DataFrame is empty. Please provide a non-empty DataFrame.\n",
      "DataFrame is empty. Please provide a non-empty DataFrame.\n"
     ]
    },
    {
     "name": "stderr",
     "output_type": "stream",
     "text": [
      "DEB:  34%|███▍      | 53/155 [01:55<02:50,  1.67s/it]"
     ]
    },
    {
     "name": "stdout",
     "output_type": "stream",
     "text": [
      "DataFrame is empty. Please provide a non-empty DataFrame.\n"
     ]
    },
    {
     "name": "stderr",
     "output_type": "stream",
     "text": [
      "DEB:  42%|████▏     | 65/155 [02:22<03:34,  2.39s/it]"
     ]
    },
    {
     "name": "stdout",
     "output_type": "stream",
     "text": [
      "DataFrame is empty. Please provide a non-empty DataFrame.\n"
     ]
    },
    {
     "name": "stderr",
     "output_type": "stream",
     "text": [
      "DEB:  47%|████▋     | 73/155 [02:39<03:22,  2.47s/it]"
     ]
    },
    {
     "name": "stdout",
     "output_type": "stream",
     "text": [
      "DataFrame is empty. Please provide a non-empty DataFrame.\n"
     ]
    },
    {
     "name": "stderr",
     "output_type": "stream",
     "text": [
      "DEB:  59%|█████▊    | 91/155 [03:32<03:08,  2.95s/it]"
     ]
    },
    {
     "name": "stdout",
     "output_type": "stream",
     "text": [
      "DataFrame is empty. Please provide a non-empty DataFrame.\n",
      "DataFrame is empty. Please provide a non-empty DataFrame.\n"
     ]
    },
    {
     "name": "stderr",
     "output_type": "stream",
     "text": [
      "DEB:  62%|██████▏   | 96/155 [03:40<01:58,  2.01s/it]"
     ]
    },
    {
     "name": "stdout",
     "output_type": "stream",
     "text": [
      "DataFrame is empty. Please provide a non-empty DataFrame.\n"
     ]
    },
    {
     "name": "stderr",
     "output_type": "stream",
     "text": [
      "DEB:  63%|██████▎   | 98/155 [03:42<01:36,  1.69s/it]"
     ]
    },
    {
     "name": "stdout",
     "output_type": "stream",
     "text": [
      "DataFrame is empty. Please provide a non-empty DataFrame.\n"
     ]
    },
    {
     "name": "stderr",
     "output_type": "stream",
     "text": [
      "DEB:  65%|██████▌   | 101/155 [03:47<01:34,  1.74s/it]"
     ]
    },
    {
     "name": "stdout",
     "output_type": "stream",
     "text": [
      "DataFrame is empty. Please provide a non-empty DataFrame.\n"
     ]
    },
    {
     "name": "stderr",
     "output_type": "stream",
     "text": [
      "DEB:  66%|██████▋   | 103/155 [03:49<01:19,  1.53s/it]"
     ]
    },
    {
     "name": "stdout",
     "output_type": "stream",
     "text": [
      "DataFrame is empty. Please provide a non-empty DataFrame.\n",
      "DataFrame is empty. Please provide a non-empty DataFrame.\n",
      "DataFrame is empty. Please provide a non-empty DataFrame.\n",
      "DataFrame is empty. Please provide a non-empty DataFrame.\n"
     ]
    },
    {
     "name": "stderr",
     "output_type": "stream",
     "text": [
      "DEB:  70%|███████   | 109/155 [03:54<00:51,  1.13s/it]"
     ]
    },
    {
     "name": "stdout",
     "output_type": "stream",
     "text": [
      "DataFrame is empty. Please provide a non-empty DataFrame.\n"
     ]
    },
    {
     "name": "stderr",
     "output_type": "stream",
     "text": [
      "DEB:  86%|████████▋ | 134/155 [05:06<01:00,  2.88s/it]"
     ]
    },
    {
     "name": "stdout",
     "output_type": "stream",
     "text": [
      "DataFrame is empty. Please provide a non-empty DataFrame.\n"
     ]
    },
    {
     "name": "stderr",
     "output_type": "stream",
     "text": [
      "DEB:  90%|████████▉ | 139/155 [05:16<00:37,  2.34s/it]"
     ]
    },
    {
     "name": "stdout",
     "output_type": "stream",
     "text": [
      "DataFrame is empty. Please provide a non-empty DataFrame.\n"
     ]
    },
    {
     "name": "stderr",
     "output_type": "stream",
     "text": [
      "DEB:  95%|█████████▍| 147/155 [05:34<00:21,  2.66s/it]"
     ]
    },
    {
     "name": "stdout",
     "output_type": "stream",
     "text": [
      "DataFrame is empty. Please provide a non-empty DataFrame.\n",
      "DataFrame is empty. Please provide a non-empty DataFrame.\n",
      "DataFrame is empty. Please provide a non-empty DataFrame.\n",
      "DataFrame is empty. Please provide a non-empty DataFrame.\n",
      "DataFrame is empty. Please provide a non-empty DataFrame.\n",
      "DataFrame is empty. Please provide a non-empty DataFrame.\n",
      "DataFrame is empty. Please provide a non-empty DataFrame.\n"
     ]
    },
    {
     "name": "stderr",
     "output_type": "stream",
     "text": [
      "DEB: 100%|██████████| 155/155 [05:37<00:00,  2.18s/it]"
     ]
    },
    {
     "name": "stdout",
     "output_type": "stream",
     "text": [
      "FutureWarnings: 465\n",
      "Other warnings: 31 (possibly missing data files).\n"
     ]
    },
    {
     "name": "stderr",
     "output_type": "stream",
     "text": [
      "\n"
     ]
    }
   ],
   "source": [
    "# set to true, if new output data was added (ie. rainfall)\n",
    "REPLACE = True\n",
    "\n",
    "ID = 'DEB'\n",
    "\n",
    "# create report for one bl\n",
    "with Bundesland(ID) as bl:\n",
    "    with warnings.catch_warnings(record=True) as warn:\n",
    "        nuts_ids = bl.nuts_table.nuts_id.values.tolist()\n",
    "\n",
    "        for nuts_id in tqdm(nuts_ids, desc=ID):\n",
    "            # write the report files\n",
    "            try:\n",
    "                bl.generate_reports(nuts_ids=nuts_id, fmt='html', if_exists='replace' if REPLACE else 'omit')\n",
    "                bl.generate_reports(nuts_ids=nuts_id, fmt='json', if_exists='replace' if REPLACE else 'omit')\n",
    "            except Exception as e:\n",
    "                print(str(e))\n",
    "                warnings.warn(str(e))\n",
    "\n",
    "        if len(warn) > 0:\n",
    "            print(f\"FutureWarnings: {len([w for w in warn if w.category == FutureWarning])}\")\n",
    "            print(f\"Other warnings: {len([w for w in warn if w.category != FutureWarning])} (possibly missing data files).\")"
   ]
  },
  {
   "cell_type": "markdown",
   "metadata": {},
   "source": [
    "## Add W ~ Q correlations to metadata\n",
    "\n",
    "The data reports contain correlations between all data variables. We can extract the pearson's correlation coefficient or the spearman rank correlation and add to the preliminary metadata file"
   ]
  },
  {
   "cell_type": "code",
   "execution_count": 4,
   "metadata": {},
   "outputs": [
    {
     "data": {
      "text/html": [
       "<div>\n",
       "<style scoped>\n",
       "    .dataframe tbody tr th:only-of-type {\n",
       "        vertical-align: middle;\n",
       "    }\n",
       "\n",
       "    .dataframe tbody tr th {\n",
       "        vertical-align: top;\n",
       "    }\n",
       "\n",
       "    .dataframe thead th {\n",
       "        text-align: right;\n",
       "    }\n",
       "</style>\n",
       "<table border=\"1\" class=\"dataframe\">\n",
       "  <thead>\n",
       "    <tr style=\"text-align: right;\">\n",
       "      <th></th>\n",
       "      <th>camels_id</th>\n",
       "      <th>provider_id</th>\n",
       "      <th>camels_path</th>\n",
       "      <th>nuts_lvl2</th>\n",
       "      <th>federal_state</th>\n",
       "      <th>gauge_name</th>\n",
       "      <th>waterbody_name</th>\n",
       "      <th>gauge_elevation</th>\n",
       "      <th>area</th>\n",
       "      <th>x</th>\n",
       "      <th>y</th>\n",
       "      <th>lon</th>\n",
       "      <th>lat</th>\n",
       "      <th>q_count</th>\n",
       "      <th>w_count</th>\n",
       "    </tr>\n",
       "  </thead>\n",
       "  <tbody>\n",
       "    <tr>\n",
       "      <th>0</th>\n",
       "      <td>DEG10000</td>\n",
       "      <td>573000</td>\n",
       "      <td>./DEG/DEG10000/DEG10000_data.csv</td>\n",
       "      <td>DEG</td>\n",
       "      <td>Thüringen</td>\n",
       "      <td>Ammern</td>\n",
       "      <td>Unstrut</td>\n",
       "      <td>210.243</td>\n",
       "      <td>182.700</td>\n",
       "      <td>4.352221e+06</td>\n",
       "      <td>3.124617e+06</td>\n",
       "      <td>10.446993</td>\n",
       "      <td>51.231727</td>\n",
       "      <td>29646.0</td>\n",
       "      <td>29646.0</td>\n",
       "    </tr>\n",
       "    <tr>\n",
       "      <th>1</th>\n",
       "      <td>DEG10010</td>\n",
       "      <td>447000</td>\n",
       "      <td>./DEG/DEG10010/DEG10010_data.csv</td>\n",
       "      <td>DEG</td>\n",
       "      <td>Thüringen</td>\n",
       "      <td>Arenshausen</td>\n",
       "      <td>Leine</td>\n",
       "      <td>196.288</td>\n",
       "      <td>275.000</td>\n",
       "      <td>4.318941e+06</td>\n",
       "      <td>3.140875e+06</td>\n",
       "      <td>9.970428</td>\n",
       "      <td>51.378709</td>\n",
       "      <td>22707.0</td>\n",
       "      <td>22707.0</td>\n",
       "    </tr>\n",
       "    <tr>\n",
       "      <th>2</th>\n",
       "      <td>DEG10020</td>\n",
       "      <td>574200</td>\n",
       "      <td>./DEG/DEG10020/DEG10020_data.csv</td>\n",
       "      <td>DEG</td>\n",
       "      <td>Thüringen</td>\n",
       "      <td>Arnstadt</td>\n",
       "      <td>Gera</td>\n",
       "      <td>293.577</td>\n",
       "      <td>174.700</td>\n",
       "      <td>4.386764e+06</td>\n",
       "      <td>3.077926e+06</td>\n",
       "      <td>10.933022</td>\n",
       "      <td>50.809106</td>\n",
       "      <td>35490.0</td>\n",
       "      <td>35490.0</td>\n",
       "    </tr>\n",
       "    <tr>\n",
       "      <th>3</th>\n",
       "      <td>DEG10030</td>\n",
       "      <td>576500</td>\n",
       "      <td>./DEG/DEG10030/DEG10030_data.csv</td>\n",
       "      <td>DEG</td>\n",
       "      <td>Thüringen</td>\n",
       "      <td>Berga</td>\n",
       "      <td>Weiße Elster</td>\n",
       "      <td>218.995</td>\n",
       "      <td>1383.000</td>\n",
       "      <td>4.473276e+06</td>\n",
       "      <td>3.073272e+06</td>\n",
       "      <td>12.157989</td>\n",
       "      <td>50.750857</td>\n",
       "      <td>12845.0</td>\n",
       "      <td>12845.0</td>\n",
       "    </tr>\n",
       "    <tr>\n",
       "      <th>4</th>\n",
       "      <td>DEG10040</td>\n",
       "      <td>570210</td>\n",
       "      <td>./DEG/DEG10040/DEG10040_data.csv</td>\n",
       "      <td>DEG</td>\n",
       "      <td>Thüringen</td>\n",
       "      <td>Blankenstein-Rosenthal</td>\n",
       "      <td>Saale</td>\n",
       "      <td>410.517</td>\n",
       "      <td>1013.000</td>\n",
       "      <td>4.442190e+06</td>\n",
       "      <td>3.033884e+06</td>\n",
       "      <td>11.704738</td>\n",
       "      <td>50.404273</td>\n",
       "      <td>21246.0</td>\n",
       "      <td>21246.0</td>\n",
       "    </tr>\n",
       "    <tr>\n",
       "      <th>...</th>\n",
       "      <td>...</td>\n",
       "      <td>...</td>\n",
       "      <td>...</td>\n",
       "      <td>...</td>\n",
       "      <td>...</td>\n",
       "      <td>...</td>\n",
       "      <td>...</td>\n",
       "      <td>...</td>\n",
       "      <td>...</td>\n",
       "      <td>...</td>\n",
       "      <td>...</td>\n",
       "      <td>...</td>\n",
       "      <td>...</td>\n",
       "      <td>...</td>\n",
       "      <td>...</td>\n",
       "    </tr>\n",
       "    <tr>\n",
       "      <th>2993</th>\n",
       "      <td>DE112470</td>\n",
       "      <td>76273</td>\n",
       "      <td>./DE1/DE112470/DE112470_data.csv</td>\n",
       "      <td>DE1</td>\n",
       "      <td>Baden-Württemberg</td>\n",
       "      <td>Blaubeuren</td>\n",
       "      <td>Blautopf</td>\n",
       "      <td>511.871</td>\n",
       "      <td>0.067</td>\n",
       "      <td>4.304981e+06</td>\n",
       "      <td>2.811435e+06</td>\n",
       "      <td>9.783683</td>\n",
       "      <td>48.416174</td>\n",
       "      <td>30987.0</td>\n",
       "      <td>30987.0</td>\n",
       "    </tr>\n",
       "    <tr>\n",
       "      <th>2994</th>\n",
       "      <td>DE112480</td>\n",
       "      <td>76274</td>\n",
       "      <td>./DE1/DE112480/DE112480_data.csv</td>\n",
       "      <td>DE1</td>\n",
       "      <td>Baden-Württemberg</td>\n",
       "      <td>Erlenbach</td>\n",
       "      <td>Sulm</td>\n",
       "      <td>160.832</td>\n",
       "      <td>101.510</td>\n",
       "      <td>4.267341e+06</td>\n",
       "      <td>2.895499e+06</td>\n",
       "      <td>9.264333</td>\n",
       "      <td>49.170156</td>\n",
       "      <td>4140.0</td>\n",
       "      <td>4140.0</td>\n",
       "    </tr>\n",
       "    <tr>\n",
       "      <th>2995</th>\n",
       "      <td>DE112490</td>\n",
       "      <td>76276</td>\n",
       "      <td>./DE1/DE112490/DE112490_data.csv</td>\n",
       "      <td>DE1</td>\n",
       "      <td>Baden-Württemberg</td>\n",
       "      <td>Bolheim</td>\n",
       "      <td>Brenz</td>\n",
       "      <td>473.000</td>\n",
       "      <td>339.811</td>\n",
       "      <td>4.332390e+06</td>\n",
       "      <td>2.835208e+06</td>\n",
       "      <td>10.154468</td>\n",
       "      <td>48.630150</td>\n",
       "      <td>5555.0</td>\n",
       "      <td>5555.0</td>\n",
       "    </tr>\n",
       "    <tr>\n",
       "      <th>2996</th>\n",
       "      <td>DE112500</td>\n",
       "      <td>76290</td>\n",
       "      <td>./DE1/DE112500/DE112500_data.csv</td>\n",
       "      <td>DE1</td>\n",
       "      <td>Baden-Württemberg</td>\n",
       "      <td>Schweinhausen</td>\n",
       "      <td>Riß</td>\n",
       "      <td>541.098</td>\n",
       "      <td>101.589</td>\n",
       "      <td>4.305130e+06</td>\n",
       "      <td>2.769259e+06</td>\n",
       "      <td>9.787300</td>\n",
       "      <td>48.036705</td>\n",
       "      <td>8342.0</td>\n",
       "      <td>8342.0</td>\n",
       "    </tr>\n",
       "    <tr>\n",
       "      <th>2997</th>\n",
       "      <td>DE112510</td>\n",
       "      <td>76436</td>\n",
       "      <td>./DE1/DE112510/DE112510_data.csv</td>\n",
       "      <td>DE1</td>\n",
       "      <td>Baden-Württemberg</td>\n",
       "      <td>Oppenweiler</td>\n",
       "      <td>Murr</td>\n",
       "      <td>NaN</td>\n",
       "      <td>180.694</td>\n",
       "      <td>4.281965e+06</td>\n",
       "      <td>2.875359e+06</td>\n",
       "      <td>9.466778</td>\n",
       "      <td>48.990153</td>\n",
       "      <td>8261.0</td>\n",
       "      <td>8261.0</td>\n",
       "    </tr>\n",
       "  </tbody>\n",
       "</table>\n",
       "<p>2998 rows × 15 columns</p>\n",
       "</div>"
      ],
      "text/plain": [
       "     camels_id provider_id                       camels_path nuts_lvl2  \\\n",
       "0     DEG10000      573000  ./DEG/DEG10000/DEG10000_data.csv       DEG   \n",
       "1     DEG10010      447000  ./DEG/DEG10010/DEG10010_data.csv       DEG   \n",
       "2     DEG10020      574200  ./DEG/DEG10020/DEG10020_data.csv       DEG   \n",
       "3     DEG10030      576500  ./DEG/DEG10030/DEG10030_data.csv       DEG   \n",
       "4     DEG10040      570210  ./DEG/DEG10040/DEG10040_data.csv       DEG   \n",
       "...        ...         ...                               ...       ...   \n",
       "2993  DE112470       76273  ./DE1/DE112470/DE112470_data.csv       DE1   \n",
       "2994  DE112480       76274  ./DE1/DE112480/DE112480_data.csv       DE1   \n",
       "2995  DE112490       76276  ./DE1/DE112490/DE112490_data.csv       DE1   \n",
       "2996  DE112500       76290  ./DE1/DE112500/DE112500_data.csv       DE1   \n",
       "2997  DE112510       76436  ./DE1/DE112510/DE112510_data.csv       DE1   \n",
       "\n",
       "          federal_state              gauge_name waterbody_name  \\\n",
       "0             Thüringen                  Ammern        Unstrut   \n",
       "1             Thüringen             Arenshausen          Leine   \n",
       "2             Thüringen                Arnstadt           Gera   \n",
       "3             Thüringen                   Berga   Weiße Elster   \n",
       "4             Thüringen  Blankenstein-Rosenthal          Saale   \n",
       "...                 ...                     ...            ...   \n",
       "2993  Baden-Württemberg              Blaubeuren       Blautopf   \n",
       "2994  Baden-Württemberg               Erlenbach           Sulm   \n",
       "2995  Baden-Württemberg                 Bolheim          Brenz   \n",
       "2996  Baden-Württemberg           Schweinhausen            Riß   \n",
       "2997  Baden-Württemberg             Oppenweiler           Murr   \n",
       "\n",
       "      gauge_elevation      area             x             y        lon  \\\n",
       "0             210.243   182.700  4.352221e+06  3.124617e+06  10.446993   \n",
       "1             196.288   275.000  4.318941e+06  3.140875e+06   9.970428   \n",
       "2             293.577   174.700  4.386764e+06  3.077926e+06  10.933022   \n",
       "3             218.995  1383.000  4.473276e+06  3.073272e+06  12.157989   \n",
       "4             410.517  1013.000  4.442190e+06  3.033884e+06  11.704738   \n",
       "...               ...       ...           ...           ...        ...   \n",
       "2993          511.871     0.067  4.304981e+06  2.811435e+06   9.783683   \n",
       "2994          160.832   101.510  4.267341e+06  2.895499e+06   9.264333   \n",
       "2995          473.000   339.811  4.332390e+06  2.835208e+06  10.154468   \n",
       "2996          541.098   101.589  4.305130e+06  2.769259e+06   9.787300   \n",
       "2997              NaN   180.694  4.281965e+06  2.875359e+06   9.466778   \n",
       "\n",
       "            lat  q_count  w_count  \n",
       "0     51.231727  29646.0  29646.0  \n",
       "1     51.378709  22707.0  22707.0  \n",
       "2     50.809106  35490.0  35490.0  \n",
       "3     50.750857  12845.0  12845.0  \n",
       "4     50.404273  21246.0  21246.0  \n",
       "...         ...      ...      ...  \n",
       "2993  48.416174  30987.0  30987.0  \n",
       "2994  49.170156   4140.0   4140.0  \n",
       "2995  48.630150   5555.0   5555.0  \n",
       "2996  48.036705   8342.0   8342.0  \n",
       "2997  48.990153   8261.0   8261.0  \n",
       "\n",
       "[2998 rows x 15 columns]"
      ]
     },
     "execution_count": 4,
     "metadata": {},
     "output_type": "execute_result"
    }
   ],
   "source": [
    "util.get_metadata()"
   ]
  },
  {
   "cell_type": "code",
   "execution_count": 7,
   "metadata": {},
   "outputs": [
    {
     "name": "stderr",
     "output_type": "stream",
     "text": [
      "DE1: 100%|██████████| 252/252 [00:01<00:00, 178.49it/s]\n",
      "DE2: 100%|██████████| 535/535 [00:03<00:00, 134.83it/s]\n",
      "DE3: 0it [00:00, ?it/s]\n",
      "DE4: 100%|██████████| 233/233 [00:01<00:00, 206.87it/s]\n",
      "DE5: 0it [00:00, ?it/s]\n",
      "DE6: 0it [00:00, ?it/s]\n",
      "DE7: 100%|██████████| 97/97 [00:00<00:00, 155.29it/s]\n",
      "DE8: 100%|██████████| 230/230 [00:00<00:00, 271.15it/s]\n",
      "DE9: 100%|██████████| 282/282 [00:01<00:00, 208.90it/s]\n",
      "DEA: 100%|██████████| 219/219 [00:02<00:00, 97.80it/s] \n",
      "DEB: 100%|██████████| 124/124 [00:00<00:00, 170.48it/s]\n",
      "DEC: 100%|██████████| 46/46 [00:00<00:00, 168.69it/s]\n",
      "DED: 100%|██████████| 282/282 [00:01<00:00, 222.37it/s]\n",
      "DEE: 100%|██████████| 126/126 [00:01<00:00, 99.59it/s] \n",
      "DEF: 100%|██████████| 509/509 [00:01<00:00, 266.73it/s]\n",
      "DEG: 100%|██████████| 63/63 [00:00<00:00, 89.38it/s]\n"
     ]
    },
    {
     "data": {
      "text/html": [
       "<div>\n",
       "<style scoped>\n",
       "    .dataframe tbody tr th:only-of-type {\n",
       "        vertical-align: middle;\n",
       "    }\n",
       "\n",
       "    .dataframe tbody tr th {\n",
       "        vertical-align: top;\n",
       "    }\n",
       "\n",
       "    .dataframe thead th {\n",
       "        text-align: right;\n",
       "    }\n",
       "</style>\n",
       "<table border=\"1\" class=\"dataframe\">\n",
       "  <thead>\n",
       "    <tr style=\"text-align: right;\">\n",
       "      <th></th>\n",
       "      <th>camels_id</th>\n",
       "      <th>provider_id</th>\n",
       "      <th>camels_path</th>\n",
       "      <th>nuts_lvl2</th>\n",
       "      <th>federal_state</th>\n",
       "      <th>gauge_name</th>\n",
       "      <th>waterbody_name</th>\n",
       "      <th>gauge_elevation</th>\n",
       "      <th>area</th>\n",
       "      <th>x</th>\n",
       "      <th>y</th>\n",
       "      <th>lon</th>\n",
       "      <th>lat</th>\n",
       "      <th>q_count</th>\n",
       "      <th>w_count</th>\n",
       "      <th>q_w_pearson</th>\n",
       "      <th>q_w_spearman</th>\n",
       "    </tr>\n",
       "  </thead>\n",
       "  <tbody>\n",
       "    <tr>\n",
       "      <th>1026</th>\n",
       "      <td>DEB10000</td>\n",
       "      <td>2546015800</td>\n",
       "      <td>./DEB/DEB10000/DEB10000_data.csv</td>\n",
       "      <td>DEB</td>\n",
       "      <td>Rheinland-Pfalz</td>\n",
       "      <td>Nanzdietschweiler</td>\n",
       "      <td>Glan</td>\n",
       "      <td>215.499</td>\n",
       "      <td>200.94</td>\n",
       "      <td>4.135583e+06</td>\n",
       "      <td>2.929086e+06</td>\n",
       "      <td>7.443029</td>\n",
       "      <td>49.445642</td>\n",
       "      <td>15388.0</td>\n",
       "      <td>15388.0</td>\n",
       "      <td>0.963048</td>\n",
       "      <td>0.980030</td>\n",
       "    </tr>\n",
       "    <tr>\n",
       "      <th>1027</th>\n",
       "      <td>DEB10010</td>\n",
       "      <td>2546030700</td>\n",
       "      <td>./DEB/DEB10010/DEB10010_data.csv</td>\n",
       "      <td>DEB</td>\n",
       "      <td>Rheinland-Pfalz</td>\n",
       "      <td>Eschenau</td>\n",
       "      <td>Glan</td>\n",
       "      <td>180.334</td>\n",
       "      <td>598.31</td>\n",
       "      <td>4.139014e+06</td>\n",
       "      <td>2.946132e+06</td>\n",
       "      <td>7.482398</td>\n",
       "      <td>49.599891</td>\n",
       "      <td>20907.0</td>\n",
       "      <td>20907.0</td>\n",
       "      <td>0.916515</td>\n",
       "      <td>0.900342</td>\n",
       "    </tr>\n",
       "    <tr>\n",
       "      <th>1028</th>\n",
       "      <td>DEB10020</td>\n",
       "      <td>2546040900</td>\n",
       "      <td>./DEB/DEB10020/DEB10020_data.csv</td>\n",
       "      <td>DEB</td>\n",
       "      <td>Rheinland-Pfalz</td>\n",
       "      <td>Odenbach</td>\n",
       "      <td>Glan</td>\n",
       "      <td>147.750</td>\n",
       "      <td>1088.17</td>\n",
       "      <td>4.151599e+06</td>\n",
       "      <td>2.955622e+06</td>\n",
       "      <td>7.652250</td>\n",
       "      <td>49.688918</td>\n",
       "      <td>25048.0</td>\n",
       "      <td>25048.0</td>\n",
       "      <td>0.906273</td>\n",
       "      <td>0.813526</td>\n",
       "    </tr>\n",
       "    <tr>\n",
       "      <th>1029</th>\n",
       "      <td>DEB10030</td>\n",
       "      <td>2546058800</td>\n",
       "      <td>./DEB/DEB10030/DEB10030_data.csv</td>\n",
       "      <td>DEB</td>\n",
       "      <td>Rheinland-Pfalz</td>\n",
       "      <td>Niedermohr</td>\n",
       "      <td>Mohrbach</td>\n",
       "      <td>214.127</td>\n",
       "      <td>100.76</td>\n",
       "      <td>4.137186e+06</td>\n",
       "      <td>2.930547e+06</td>\n",
       "      <td>7.464438</td>\n",
       "      <td>49.459265</td>\n",
       "      <td>10013.0</td>\n",
       "      <td>10013.0</td>\n",
       "      <td>0.986045</td>\n",
       "      <td>0.976357</td>\n",
       "    </tr>\n",
       "    <tr>\n",
       "      <th>1030</th>\n",
       "      <td>DEB10040</td>\n",
       "      <td>2546070400</td>\n",
       "      <td>./DEB/DEB10040/DEB10040_data.csv</td>\n",
       "      <td>DEB</td>\n",
       "      <td>Rheinland-Pfalz</td>\n",
       "      <td>Untersulzbach</td>\n",
       "      <td>Lauter</td>\n",
       "      <td>202.390</td>\n",
       "      <td>215.31</td>\n",
       "      <td>4.151824e+06</td>\n",
       "      <td>2.937774e+06</td>\n",
       "      <td>7.663110</td>\n",
       "      <td>49.528576</td>\n",
       "      <td>26294.0</td>\n",
       "      <td>26294.0</td>\n",
       "      <td>0.278670</td>\n",
       "      <td>0.307652</td>\n",
       "    </tr>\n",
       "    <tr>\n",
       "      <th>...</th>\n",
       "      <td>...</td>\n",
       "      <td>...</td>\n",
       "      <td>...</td>\n",
       "      <td>...</td>\n",
       "      <td>...</td>\n",
       "      <td>...</td>\n",
       "      <td>...</td>\n",
       "      <td>...</td>\n",
       "      <td>...</td>\n",
       "      <td>...</td>\n",
       "      <td>...</td>\n",
       "      <td>...</td>\n",
       "      <td>...</td>\n",
       "      <td>...</td>\n",
       "      <td>...</td>\n",
       "      <td>...</td>\n",
       "      <td>...</td>\n",
       "    </tr>\n",
       "    <tr>\n",
       "      <th>1145</th>\n",
       "      <td>DEB11190</td>\n",
       "      <td>2679020500</td>\n",
       "      <td>./DEB/DEB11190/DEB11190_data.csv</td>\n",
       "      <td>DEB</td>\n",
       "      <td>Rheinland-Pfalz</td>\n",
       "      <td>Traben-Trarbach</td>\n",
       "      <td>Kautenbach</td>\n",
       "      <td>146.310</td>\n",
       "      <td>51.12</td>\n",
       "      <td>4.113870e+06</td>\n",
       "      <td>2.983639e+06</td>\n",
       "      <td>7.114764</td>\n",
       "      <td>49.928586</td>\n",
       "      <td>10283.0</td>\n",
       "      <td>10283.0</td>\n",
       "      <td>0.558911</td>\n",
       "      <td>0.734134</td>\n",
       "    </tr>\n",
       "    <tr>\n",
       "      <th>1146</th>\n",
       "      <td>DEB11200</td>\n",
       "      <td>2680020700</td>\n",
       "      <td>./DEB/DEB11200/DEB11200_data.csv</td>\n",
       "      <td>DEB</td>\n",
       "      <td>Rheinland-Pfalz</td>\n",
       "      <td>Saxler Mühle</td>\n",
       "      <td>Alf</td>\n",
       "      <td>394.500</td>\n",
       "      <td>39.85</td>\n",
       "      <td>4.098666e+06</td>\n",
       "      <td>3.007109e+06</td>\n",
       "      <td>6.889509</td>\n",
       "      <td>50.133828</td>\n",
       "      <td>17955.0</td>\n",
       "      <td>17955.0</td>\n",
       "      <td>0.944007</td>\n",
       "      <td>0.991242</td>\n",
       "    </tr>\n",
       "    <tr>\n",
       "      <th>1147</th>\n",
       "      <td>DEB11210</td>\n",
       "      <td>2682050000</td>\n",
       "      <td>./DEB/DEB11210/DEB11210_data.csv</td>\n",
       "      <td>DEB</td>\n",
       "      <td>Rheinland-Pfalz</td>\n",
       "      <td>Hasborner Mühle</td>\n",
       "      <td>Sammetbach</td>\n",
       "      <td>283.602</td>\n",
       "      <td>22.70</td>\n",
       "      <td>4.100465e+06</td>\n",
       "      <td>2.999367e+06</td>\n",
       "      <td>6.919144</td>\n",
       "      <td>50.064973</td>\n",
       "      <td>17955.0</td>\n",
       "      <td>17955.0</td>\n",
       "      <td>0.777514</td>\n",
       "      <td>0.980292</td>\n",
       "    </tr>\n",
       "    <tr>\n",
       "      <th>1148</th>\n",
       "      <td>DEB11220</td>\n",
       "      <td>2683060500</td>\n",
       "      <td>./DEB/DEB11220/DEB11220_data.csv</td>\n",
       "      <td>DEB</td>\n",
       "      <td>Rheinland-Pfalz</td>\n",
       "      <td>Bengel</td>\n",
       "      <td>Alf</td>\n",
       "      <td>144.047</td>\n",
       "      <td>138.15</td>\n",
       "      <td>4.110353e+06</td>\n",
       "      <td>2.993363e+06</td>\n",
       "      <td>7.060457</td>\n",
       "      <td>50.014688</td>\n",
       "      <td>3206.0</td>\n",
       "      <td>3206.0</td>\n",
       "      <td>0.945967</td>\n",
       "      <td>0.944650</td>\n",
       "    </tr>\n",
       "    <tr>\n",
       "      <th>1149</th>\n",
       "      <td>DEB11230</td>\n",
       "      <td>2718010800</td>\n",
       "      <td>./DEB/DEB11230/DEB11230_data.csv</td>\n",
       "      <td>DEB</td>\n",
       "      <td>Rheinland-Pfalz</td>\n",
       "      <td>Müsch</td>\n",
       "      <td>Ahr</td>\n",
       "      <td>292.738</td>\n",
       "      <td>352.65</td>\n",
       "      <td>4.095432e+06</td>\n",
       "      <td>3.035519e+06</td>\n",
       "      <td>6.827315</td>\n",
       "      <td>50.387741</td>\n",
       "      <td>17690.0</td>\n",
       "      <td>17690.0</td>\n",
       "      <td>0.887663</td>\n",
       "      <td>0.929317</td>\n",
       "    </tr>\n",
       "  </tbody>\n",
       "</table>\n",
       "<p>124 rows × 17 columns</p>\n",
       "</div>"
      ],
      "text/plain": [
       "     camels_id provider_id                       camels_path nuts_lvl2  \\\n",
       "1026  DEB10000  2546015800  ./DEB/DEB10000/DEB10000_data.csv       DEB   \n",
       "1027  DEB10010  2546030700  ./DEB/DEB10010/DEB10010_data.csv       DEB   \n",
       "1028  DEB10020  2546040900  ./DEB/DEB10020/DEB10020_data.csv       DEB   \n",
       "1029  DEB10030  2546058800  ./DEB/DEB10030/DEB10030_data.csv       DEB   \n",
       "1030  DEB10040  2546070400  ./DEB/DEB10040/DEB10040_data.csv       DEB   \n",
       "...        ...         ...                               ...       ...   \n",
       "1145  DEB11190  2679020500  ./DEB/DEB11190/DEB11190_data.csv       DEB   \n",
       "1146  DEB11200  2680020700  ./DEB/DEB11200/DEB11200_data.csv       DEB   \n",
       "1147  DEB11210  2682050000  ./DEB/DEB11210/DEB11210_data.csv       DEB   \n",
       "1148  DEB11220  2683060500  ./DEB/DEB11220/DEB11220_data.csv       DEB   \n",
       "1149  DEB11230  2718010800  ./DEB/DEB11230/DEB11230_data.csv       DEB   \n",
       "\n",
       "        federal_state         gauge_name waterbody_name  gauge_elevation  \\\n",
       "1026  Rheinland-Pfalz  Nanzdietschweiler           Glan          215.499   \n",
       "1027  Rheinland-Pfalz           Eschenau           Glan          180.334   \n",
       "1028  Rheinland-Pfalz           Odenbach           Glan          147.750   \n",
       "1029  Rheinland-Pfalz         Niedermohr       Mohrbach          214.127   \n",
       "1030  Rheinland-Pfalz      Untersulzbach         Lauter          202.390   \n",
       "...               ...                ...            ...              ...   \n",
       "1145  Rheinland-Pfalz    Traben-Trarbach     Kautenbach          146.310   \n",
       "1146  Rheinland-Pfalz       Saxler Mühle            Alf          394.500   \n",
       "1147  Rheinland-Pfalz    Hasborner Mühle     Sammetbach          283.602   \n",
       "1148  Rheinland-Pfalz             Bengel            Alf          144.047   \n",
       "1149  Rheinland-Pfalz              Müsch            Ahr          292.738   \n",
       "\n",
       "         area             x             y       lon        lat  q_count  \\\n",
       "1026   200.94  4.135583e+06  2.929086e+06  7.443029  49.445642  15388.0   \n",
       "1027   598.31  4.139014e+06  2.946132e+06  7.482398  49.599891  20907.0   \n",
       "1028  1088.17  4.151599e+06  2.955622e+06  7.652250  49.688918  25048.0   \n",
       "1029   100.76  4.137186e+06  2.930547e+06  7.464438  49.459265  10013.0   \n",
       "1030   215.31  4.151824e+06  2.937774e+06  7.663110  49.528576  26294.0   \n",
       "...       ...           ...           ...       ...        ...      ...   \n",
       "1145    51.12  4.113870e+06  2.983639e+06  7.114764  49.928586  10283.0   \n",
       "1146    39.85  4.098666e+06  3.007109e+06  6.889509  50.133828  17955.0   \n",
       "1147    22.70  4.100465e+06  2.999367e+06  6.919144  50.064973  17955.0   \n",
       "1148   138.15  4.110353e+06  2.993363e+06  7.060457  50.014688   3206.0   \n",
       "1149   352.65  4.095432e+06  3.035519e+06  6.827315  50.387741  17690.0   \n",
       "\n",
       "      w_count  q_w_pearson  q_w_spearman  \n",
       "1026  15388.0     0.963048      0.980030  \n",
       "1027  20907.0     0.916515      0.900342  \n",
       "1028  25048.0     0.906273      0.813526  \n",
       "1029  10013.0     0.986045      0.976357  \n",
       "1030  26294.0     0.278670      0.307652  \n",
       "...       ...          ...           ...  \n",
       "1145  10283.0     0.558911      0.734134  \n",
       "1146  17955.0     0.944007      0.991242  \n",
       "1147  17955.0     0.777514      0.980292  \n",
       "1148   3206.0     0.945967      0.944650  \n",
       "1149  17690.0     0.887663      0.929317  \n",
       "\n",
       "[124 rows x 17 columns]"
      ]
     },
     "execution_count": 7,
     "metadata": {},
     "output_type": "execute_result"
    }
   ],
   "source": [
    "for NUTS in util._NUTS_LVL2_NAMES.keys():    \n",
    "    # process this federal state\n",
    "    with Bundesland(NUTS) as bl:    \n",
    "        pearson = []\n",
    "        spearman = []\n",
    "\n",
    "        # get the metadata\n",
    "        meta = bl.metadata\n",
    "\n",
    "        # load the Data-report for each\n",
    "        for camels_id in tqdm(meta.camels_id.values, desc=NUTS):\n",
    "            p = os.path.join(bl.base_path, 'reports', f'{camels_id}.json')\n",
    "            \n",
    "            # check if the report exists\n",
    "            if not os.path.exists(p):\n",
    "                pearson.append(None)\n",
    "                spearman.append(None)\n",
    "                continue\n",
    "            \n",
    "            with open(p, 'r') as f:\n",
    "                report = json.load(f)\n",
    "            \n",
    "            try:\n",
    "                q = [o for o in report['correlations']['pearson'] if o['q'] == 1.0][0]\n",
    "                w = [o for o in report['correlations']['pearson'] if o['w'] == 1.0][0]\n",
    "                pearson.append(q['w'])\n",
    "            except:\n",
    "                pearson.append(None)\n",
    "            \n",
    "            try:\n",
    "                q = [o for o in report['correlations']['spearman'] if o['q'] == 1.0][0]\n",
    "                w = [o for o in report['correlations']['spearman'] if o['w'] == 1.0][0]\n",
    "                spearman.append(q['w'])\n",
    "            except:\n",
    "                spearman.append(None)\n",
    "        \n",
    "        # all collected, return now\n",
    "        corrs = pd.DataFrame({'camels_id': meta.camels_id.values, 'q_w_pearson': pearson, 'q_w_spearman': spearman})\n",
    "\n",
    "        # update\n",
    "        bl.update_metadata(corrs)\n",
    "\n",
    "metadata = util.get_metadata()\n",
    "metadata[metadata['nuts_lvl2'] == 'DEB']"
   ]
  }
 ],
 "metadata": {
  "kernelspec": {
   "display_name": "Python 3 (ipykernel)",
   "language": "python",
   "name": "python3"
  },
  "language_info": {
   "codemirror_mode": {
    "name": "ipython",
    "version": 3
   },
   "file_extension": ".py",
   "mimetype": "text/x-python",
   "name": "python",
   "nbconvert_exporter": "python",
   "pygments_lexer": "ipython3",
   "version": "3.11.6"
  },
  "vscode": {
   "interpreter": {
    "hash": "2c57ebfed52ffd848a0d2f36f1ea9c0a9060c9b67397fbb725d6aa92a9494b08"
   }
  }
 },
 "nbformat": 4,
 "nbformat_minor": 4
}
