{
 "cells": [
  {
   "cell_type": "markdown",
   "metadata": {},
   "source": [
    "# Data Reports\n",
    "\n",
    "use pandas-profiling to generate data reports."
   ]
  },
  {
   "cell_type": "code",
   "execution_count": 1,
   "metadata": {},
   "outputs": [
    {
     "name": "stderr",
     "output_type": "stream",
     "text": [
      "/home/alexander/anaconda3/lib/python3.9/site-packages/numba/core/decorators.py:262: NumbaDeprecationWarning: \u001b[1mnumba.generated_jit is deprecated. Please see the documentation at: https://numba.readthedocs.io/en/stable/reference/deprecation.html#deprecation-of-generated-jit for more information and advice on a suitable replacement.\u001b[0m\n",
      "  warnings.warn(msg, NumbaDeprecationWarning)\n",
      "/home/alexander/anaconda3/lib/python3.9/site-packages/visions/backends/shared/nan_handling.py:51: NumbaDeprecationWarning: \u001b[1mThe 'nopython' keyword argument was not supplied to the 'numba.jit' decorator. The implicit default value for this argument is currently False, but it will be changed to True in Numba 0.59.0. See https://numba.readthedocs.io/en/stable/reference/deprecation.html#deprecation-of-object-mode-fall-back-behaviour-when-using-jit for details.\u001b[0m\n",
      "  def hasna(x: np.ndarray) -> bool:\n"
     ]
    }
   ],
   "source": [
    "import os\n",
    "from tqdm import tqdm\n",
    "import warnings\n",
    "from camelsp import Bundesland"
   ]
  },
  {
   "cell_type": "markdown",
   "metadata": {},
   "source": [
    "First load all NUTS folders found in the output dir"
   ]
  },
  {
   "cell_type": "code",
   "execution_count": 4,
   "metadata": {},
   "outputs": [
    {
     "data": {
      "text/plain": [
       "['DE1',\n",
       " 'DE2',\n",
       " 'DE4',\n",
       " 'DE7',\n",
       " 'DE8',\n",
       " 'DE9',\n",
       " 'DEA',\n",
       " 'DEB',\n",
       " 'DEC',\n",
       " 'DED',\n",
       " 'DEE',\n",
       " 'DEF',\n",
       " 'DEG']"
      ]
     },
     "execution_count": 4,
     "metadata": {},
     "output_type": "execute_result"
    }
   ],
   "source": [
    "nuts = sorted([nt for nt in os.listdir(Bundesland('Hessen').base_path) if nt.startswith('DE')])\n",
    "nuts"
   ]
  },
  {
   "cell_type": "markdown",
   "metadata": {},
   "source": [
    "Und jetzt gib ihm."
   ]
  },
  {
   "cell_type": "code",
   "execution_count": 5,
   "metadata": {},
   "outputs": [
    {
     "name": "stderr",
     "output_type": "stream",
     "text": [
      "DE1: 100%|██████████| 252/252 [14:34<00:00,  3.47s/it]\n"
     ]
    },
    {
     "name": "stdout",
     "output_type": "stream",
     "text": [
      "FutureWarnings: 856\n",
      "Other warnings: 0 (possibly missing data files).\n"
     ]
    },
    {
     "name": "stderr",
     "output_type": "stream",
     "text": [
      "DE2: 100%|██████████| 535/535 [37:10<00:00,  4.17s/it]\n"
     ]
    },
    {
     "name": "stdout",
     "output_type": "stream",
     "text": [
      "FutureWarnings: 1848\n",
      "Other warnings: 0 (possibly missing data files).\n"
     ]
    },
    {
     "name": "stderr",
     "output_type": "stream",
     "text": [
      "DE4: 100%|██████████| 233/233 [14:21<00:00,  3.70s/it]\n"
     ]
    },
    {
     "name": "stdout",
     "output_type": "stream",
     "text": [
      "FutureWarnings: 774\n",
      "Other warnings: 0 (possibly missing data files).\n"
     ]
    },
    {
     "name": "stderr",
     "output_type": "stream",
     "text": [
      "DE7: 100%|██████████| 97/97 [07:20<00:00,  4.54s/it]\n"
     ]
    },
    {
     "name": "stdout",
     "output_type": "stream",
     "text": [
      "FutureWarnings: 388\n",
      "Other warnings: 0 (possibly missing data files).\n"
     ]
    },
    {
     "name": "stderr",
     "output_type": "stream",
     "text": [
      "DE8: 100%|██████████| 230/230 [11:57<00:00,  3.12s/it]\n"
     ]
    },
    {
     "name": "stdout",
     "output_type": "stream",
     "text": [
      "FutureWarnings: 812\n",
      "Other warnings: 0 (possibly missing data files).\n"
     ]
    },
    {
     "name": "stderr",
     "output_type": "stream",
     "text": [
      "DE9: 100%|██████████| 282/282 [07:26<00:00,  1.58s/it]\n"
     ]
    },
    {
     "name": "stdout",
     "output_type": "stream",
     "text": [
      "FutureWarnings: 564\n",
      "Other warnings: 0 (possibly missing data files).\n"
     ]
    },
    {
     "name": "stderr",
     "output_type": "stream",
     "text": [
      "DEA: 100%|██████████| 219/219 [13:01<00:00,  3.57s/it]\n"
     ]
    },
    {
     "name": "stdout",
     "output_type": "stream",
     "text": [
      "FutureWarnings: 438\n",
      "Other warnings: 0 (possibly missing data files).\n"
     ]
    },
    {
     "name": "stderr",
     "output_type": "stream",
     "text": [
      "DEB: 100%|██████████| 124/124 [06:46<00:00,  3.28s/it]\n"
     ]
    },
    {
     "name": "stdout",
     "output_type": "stream",
     "text": [
      "FutureWarnings: 464\n",
      "Other warnings: 0 (possibly missing data files).\n"
     ]
    },
    {
     "name": "stderr",
     "output_type": "stream",
     "text": [
      "DEC: 100%|██████████| 46/46 [02:22<00:00,  3.10s/it]\n"
     ]
    },
    {
     "name": "stdout",
     "output_type": "stream",
     "text": [
      "FutureWarnings: 160\n",
      "Other warnings: 0 (possibly missing data files).\n"
     ]
    },
    {
     "name": "stderr",
     "output_type": "stream",
     "text": [
      "DED: 100%|██████████| 282/282 [13:42<00:00,  2.92s/it]\n"
     ]
    },
    {
     "name": "stdout",
     "output_type": "stream",
     "text": [
      "FutureWarnings: 936\n",
      "Other warnings: 0 (possibly missing data files).\n"
     ]
    },
    {
     "name": "stderr",
     "output_type": "stream",
     "text": [
      "DEE: 100%|██████████| 126/126 [07:30<00:00,  3.57s/it]\n"
     ]
    },
    {
     "name": "stdout",
     "output_type": "stream",
     "text": [
      "FutureWarnings: 376\n",
      "Other warnings: 0 (possibly missing data files).\n"
     ]
    },
    {
     "name": "stderr",
     "output_type": "stream",
     "text": [
      "DEF: 100%|██████████| 509/509 [21:23<00:00,  2.52s/it]\n"
     ]
    },
    {
     "name": "stdout",
     "output_type": "stream",
     "text": [
      "FutureWarnings: 1890\n",
      "Other warnings: 0 (possibly missing data files).\n"
     ]
    },
    {
     "name": "stderr",
     "output_type": "stream",
     "text": [
      "DEG: 100%|██████████| 63/63 [03:29<00:00,  3.33s/it]"
     ]
    },
    {
     "name": "stdout",
     "output_type": "stream",
     "text": [
      "FutureWarnings: 190\n",
      "Other warnings: 0 (possibly missing data files).\n"
     ]
    },
    {
     "name": "stderr",
     "output_type": "stream",
     "text": [
      "\n"
     ]
    }
   ],
   "source": [
    "# set to true, if new output data was added (ie. rainfall)\n",
    "REPLACE = False\n",
    "\n",
    "# create for each report\n",
    "for ID in nuts:\n",
    "    with Bundesland(ID) as bl:\n",
    "        with warnings.catch_warnings(record=True) as warn:\n",
    "            nuts_ids = bl.nuts_table.nuts_id.values.tolist()\n",
    "\n",
    "            for nuts_id in tqdm(nuts_ids, desc=ID):\n",
    "                # write the report files\n",
    "                try:\n",
    "                    bl.generate_reports(nuts_ids=nuts_id, fmt='html', if_exists='replace' if REPLACE else 'omit')\n",
    "                    bl.generate_reports(nuts_ids=nuts_id, fmt='json', if_exists='replace' if REPLACE else 'omit')\n",
    "                except Exception as e:\n",
    "                    print(str(e))\n",
    "                    warnings.warn(str(e))\n",
    "\n",
    "            if len(warn) > 0:\n",
    "                print(f\"FutureWarnings: {len([w for w in warn if w.category == FutureWarning])}\")\n",
    "                print(f\"Other warnings: {len([w for w in warn if w.category != FutureWarning])} (possibly missing data files).\")"
   ]
  },
  {
   "cell_type": "code",
   "execution_count": 8,
   "metadata": {},
   "outputs": [
    {
     "name": "stderr",
     "output_type": "stream",
     "text": [
      "DEB:   2%|▏         | 3/155 [00:10<08:21,  3.30s/it]"
     ]
    },
    {
     "name": "stdout",
     "output_type": "stream",
     "text": [
      "DataFrame is empty. Please provide a non-empty DataFrame.\n",
      "DataFrame is empty. Please provide a non-empty DataFrame.\n"
     ]
    },
    {
     "name": "stderr",
     "output_type": "stream",
     "text": [
      "DEB:   4%|▍         | 6/155 [00:13<04:26,  1.79s/it]"
     ]
    },
    {
     "name": "stdout",
     "output_type": "stream",
     "text": [
      "DataFrame is empty. Please provide a non-empty DataFrame.\n"
     ]
    },
    {
     "name": "stderr",
     "output_type": "stream",
     "text": [
      "DEB:   5%|▌         | 8/155 [00:16<04:20,  1.78s/it]"
     ]
    },
    {
     "name": "stdout",
     "output_type": "stream",
     "text": [
      "DataFrame is empty. Please provide a non-empty DataFrame.\n"
     ]
    },
    {
     "name": "stderr",
     "output_type": "stream",
     "text": [
      "DEB:  10%|█         | 16/155 [00:38<06:35,  2.85s/it]"
     ]
    },
    {
     "name": "stdout",
     "output_type": "stream",
     "text": [
      "DataFrame is empty. Please provide a non-empty DataFrame.\n"
     ]
    },
    {
     "name": "stderr",
     "output_type": "stream",
     "text": [
      "DEB:  12%|█▏        | 19/155 [00:44<05:25,  2.39s/it]"
     ]
    },
    {
     "name": "stdout",
     "output_type": "stream",
     "text": [
      "DataFrame is empty. Please provide a non-empty DataFrame.\n"
     ]
    },
    {
     "name": "stderr",
     "output_type": "stream",
     "text": [
      "DEB:  15%|█▌        | 24/155 [00:53<04:42,  2.16s/it]"
     ]
    },
    {
     "name": "stdout",
     "output_type": "stream",
     "text": [
      "DataFrame is empty. Please provide a non-empty DataFrame.\n"
     ]
    },
    {
     "name": "stderr",
     "output_type": "stream",
     "text": [
      "DEB:  32%|███▏      | 49/155 [01:50<04:13,  2.40s/it]"
     ]
    },
    {
     "name": "stdout",
     "output_type": "stream",
     "text": [
      "DataFrame is empty. Please provide a non-empty DataFrame.\n",
      "DataFrame is empty. Please provide a non-empty DataFrame.\n"
     ]
    },
    {
     "name": "stderr",
     "output_type": "stream",
     "text": [
      "DEB:  34%|███▍      | 53/155 [01:55<02:50,  1.67s/it]"
     ]
    },
    {
     "name": "stdout",
     "output_type": "stream",
     "text": [
      "DataFrame is empty. Please provide a non-empty DataFrame.\n"
     ]
    },
    {
     "name": "stderr",
     "output_type": "stream",
     "text": [
      "DEB:  42%|████▏     | 65/155 [02:22<03:34,  2.39s/it]"
     ]
    },
    {
     "name": "stdout",
     "output_type": "stream",
     "text": [
      "DataFrame is empty. Please provide a non-empty DataFrame.\n"
     ]
    },
    {
     "name": "stderr",
     "output_type": "stream",
     "text": [
      "DEB:  47%|████▋     | 73/155 [02:39<03:22,  2.47s/it]"
     ]
    },
    {
     "name": "stdout",
     "output_type": "stream",
     "text": [
      "DataFrame is empty. Please provide a non-empty DataFrame.\n"
     ]
    },
    {
     "name": "stderr",
     "output_type": "stream",
     "text": [
      "DEB:  59%|█████▊    | 91/155 [03:32<03:08,  2.95s/it]"
     ]
    },
    {
     "name": "stdout",
     "output_type": "stream",
     "text": [
      "DataFrame is empty. Please provide a non-empty DataFrame.\n",
      "DataFrame is empty. Please provide a non-empty DataFrame.\n"
     ]
    },
    {
     "name": "stderr",
     "output_type": "stream",
     "text": [
      "DEB:  62%|██████▏   | 96/155 [03:40<01:58,  2.01s/it]"
     ]
    },
    {
     "name": "stdout",
     "output_type": "stream",
     "text": [
      "DataFrame is empty. Please provide a non-empty DataFrame.\n"
     ]
    },
    {
     "name": "stderr",
     "output_type": "stream",
     "text": [
      "DEB:  63%|██████▎   | 98/155 [03:42<01:36,  1.69s/it]"
     ]
    },
    {
     "name": "stdout",
     "output_type": "stream",
     "text": [
      "DataFrame is empty. Please provide a non-empty DataFrame.\n"
     ]
    },
    {
     "name": "stderr",
     "output_type": "stream",
     "text": [
      "DEB:  65%|██████▌   | 101/155 [03:47<01:34,  1.74s/it]"
     ]
    },
    {
     "name": "stdout",
     "output_type": "stream",
     "text": [
      "DataFrame is empty. Please provide a non-empty DataFrame.\n"
     ]
    },
    {
     "name": "stderr",
     "output_type": "stream",
     "text": [
      "DEB:  66%|██████▋   | 103/155 [03:49<01:19,  1.53s/it]"
     ]
    },
    {
     "name": "stdout",
     "output_type": "stream",
     "text": [
      "DataFrame is empty. Please provide a non-empty DataFrame.\n",
      "DataFrame is empty. Please provide a non-empty DataFrame.\n",
      "DataFrame is empty. Please provide a non-empty DataFrame.\n",
      "DataFrame is empty. Please provide a non-empty DataFrame.\n"
     ]
    },
    {
     "name": "stderr",
     "output_type": "stream",
     "text": [
      "DEB:  70%|███████   | 109/155 [03:54<00:51,  1.13s/it]"
     ]
    },
    {
     "name": "stdout",
     "output_type": "stream",
     "text": [
      "DataFrame is empty. Please provide a non-empty DataFrame.\n"
     ]
    },
    {
     "name": "stderr",
     "output_type": "stream",
     "text": [
      "DEB:  86%|████████▋ | 134/155 [05:06<01:00,  2.88s/it]"
     ]
    },
    {
     "name": "stdout",
     "output_type": "stream",
     "text": [
      "DataFrame is empty. Please provide a non-empty DataFrame.\n"
     ]
    },
    {
     "name": "stderr",
     "output_type": "stream",
     "text": [
      "DEB:  90%|████████▉ | 139/155 [05:16<00:37,  2.34s/it]"
     ]
    },
    {
     "name": "stdout",
     "output_type": "stream",
     "text": [
      "DataFrame is empty. Please provide a non-empty DataFrame.\n"
     ]
    },
    {
     "name": "stderr",
     "output_type": "stream",
     "text": [
      "DEB:  95%|█████████▍| 147/155 [05:34<00:21,  2.66s/it]"
     ]
    },
    {
     "name": "stdout",
     "output_type": "stream",
     "text": [
      "DataFrame is empty. Please provide a non-empty DataFrame.\n",
      "DataFrame is empty. Please provide a non-empty DataFrame.\n",
      "DataFrame is empty. Please provide a non-empty DataFrame.\n",
      "DataFrame is empty. Please provide a non-empty DataFrame.\n",
      "DataFrame is empty. Please provide a non-empty DataFrame.\n",
      "DataFrame is empty. Please provide a non-empty DataFrame.\n",
      "DataFrame is empty. Please provide a non-empty DataFrame.\n"
     ]
    },
    {
     "name": "stderr",
     "output_type": "stream",
     "text": [
      "DEB: 100%|██████████| 155/155 [05:37<00:00,  2.18s/it]"
     ]
    },
    {
     "name": "stdout",
     "output_type": "stream",
     "text": [
      "FutureWarnings: 465\n",
      "Other warnings: 31 (possibly missing data files).\n"
     ]
    },
    {
     "name": "stderr",
     "output_type": "stream",
     "text": [
      "\n"
     ]
    }
   ],
   "source": [
    "# set to true, if new output data was added (ie. rainfall)\n",
    "REPLACE = True\n",
    "\n",
    "ID = 'DEB'\n",
    "\n",
    "# create report for one bl\n",
    "with Bundesland(ID) as bl:\n",
    "    with warnings.catch_warnings(record=True) as warn:\n",
    "        nuts_ids = bl.nuts_table.nuts_id.values.tolist()\n",
    "\n",
    "        for nuts_id in tqdm(nuts_ids, desc=ID):\n",
    "            # write the report files\n",
    "            try:\n",
    "                bl.generate_reports(nuts_ids=nuts_id, fmt='html', if_exists='replace' if REPLACE else 'omit')\n",
    "                bl.generate_reports(nuts_ids=nuts_id, fmt='json', if_exists='replace' if REPLACE else 'omit')\n",
    "            except Exception as e:\n",
    "                print(str(e))\n",
    "                warnings.warn(str(e))\n",
    "\n",
    "        if len(warn) > 0:\n",
    "            print(f\"FutureWarnings: {len([w for w in warn if w.category == FutureWarning])}\")\n",
    "            print(f\"Other warnings: {len([w for w in warn if w.category != FutureWarning])} (possibly missing data files).\")"
   ]
  }
 ],
 "metadata": {
  "kernelspec": {
   "display_name": "Python 3 (ipykernel)",
   "language": "python",
   "name": "python3"
  },
  "language_info": {
   "codemirror_mode": {
    "name": "ipython",
    "version": 3
   },
   "file_extension": ".py",
   "mimetype": "text/x-python",
   "name": "python",
   "nbconvert_exporter": "python",
   "pygments_lexer": "ipython3",
   "version": "3.9.13"
  },
  "vscode": {
   "interpreter": {
    "hash": "2c57ebfed52ffd848a0d2f36f1ea9c0a9060c9b67397fbb725d6aa92a9494b08"
   }
  }
 },
 "nbformat": 4,
 "nbformat_minor": 4
}
