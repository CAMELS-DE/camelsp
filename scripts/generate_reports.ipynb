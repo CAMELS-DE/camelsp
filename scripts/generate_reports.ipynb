{
 "cells": [
  {
   "attachments": {},
   "cell_type": "markdown",
   "metadata": {},
   "source": [
    "# Data Reports\n",
    "\n",
    "use pandas-profiling to generate data reports."
   ]
  },
  {
   "cell_type": "code",
   "execution_count": null,
   "metadata": {},
   "outputs": [],
   "source": [
    "import os\n",
    "from tqdm import tqdm\n",
    "import warnings\n",
    "from camelsp import Bundesland"
   ]
  },
  {
   "attachments": {},
   "cell_type": "markdown",
   "metadata": {},
   "source": [
    "First load all NUTS folders found in the output dir"
   ]
  },
  {
   "cell_type": "code",
   "execution_count": null,
   "metadata": {},
   "outputs": [],
   "source": [
    "nuts = [nt for nt in os.listdir(Bundesland('Hessen').base_path) if nt.startswith('DE')]\n",
    "nuts"
   ]
  },
  {
   "attachments": {},
   "cell_type": "markdown",
   "metadata": {},
   "source": [
    "Und jetzt gib ihm."
   ]
  },
  {
   "cell_type": "code",
   "execution_count": null,
   "metadata": {},
   "outputs": [],
   "source": [
    "# set to true, if new output data was added (ie. rainfall)\n",
    "REPLACE = False\n",
    "\n",
    "# create for each report\n",
    "for ID in nuts:\n",
    "    with Bundesland(ID) as bl:\n",
    "        with warnings.catch_warnings(record=True) as warn:\n",
    "            nuts_ids = bl.nuts_table.nuts_id.values.tolist()\n",
    "\n",
    "            for nuts_id in tqdm(nuts_ids):\n",
    "                # write the report files\n",
    "                try:\n",
    "                    bl.generate_reports(nuts_ids=nuts_id, fmt='html', if_exists='omit')\n",
    "                    bl.generate_reports(nuts_ids=nuts_id, fmt='json', if_exists='omit')\n",
    "                except Exception as e:\n",
    "                    print(str(e))\n",
    "                    warnings.warn(str(e))\n",
    "\n",
    "            if len(warn) > 0:\n",
    "                print(f\"There were {len(warn)} warnings (missing data files).\")"
   ]
  }
 ],
 "metadata": {
  "kernelspec": {
   "display_name": "Python 3.9.13 ('base')",
   "language": "python",
   "name": "python3"
  },
  "language_info": {
   "codemirror_mode": {
    "name": "ipython",
    "version": 3
   },
   "file_extension": ".py",
   "mimetype": "text/x-python",
   "name": "python",
   "nbconvert_exporter": "python",
   "pygments_lexer": "ipython3",
   "version": "3.9.13"
  },
  "orig_nbformat": 4,
  "vscode": {
   "interpreter": {
    "hash": "2c57ebfed52ffd848a0d2f36f1ea9c0a9060c9b67397fbb725d6aa92a9494b08"
   }
  }
 },
 "nbformat": 4,
 "nbformat_minor": 2
}
