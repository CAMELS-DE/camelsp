{
 "cells": [
  {
   "attachments": {},
   "cell_type": "markdown",
   "metadata": {},
   "source": [
    "# Sachsen\n",
    "\n",
    "Every federal state is represented by its own input directory and is processed into a NUTS level 2 directory containing a sub-folder for each discharge location. These folder names are derived from NUTS and reflect the CAMELS id. The NUTS level 2 code for Sachsen is `DED`.\n",
    "\n",
    "To pre-process the data, you need to write (at least) two functions. One should extract all metadata and condense it into a single `pandas.DataFrame`. This is used to build the folder structure and derive the ids.\n",
    "The second function has to take an id, as provided by the state authorities, called `provider_id` and return a `pandas.DataFrame` with the transformed data. The dataframe needs the three columns `['date', 'q' | 'w', 'flag']`.\n",
    "\n",
    "For easier and unified output handling, the `camelsp` package contains a context object called `Bundesland`. It takes a number of names and abbreviations to identify the correct federal state and returns an object that holds helper and save functions.\n",
    "\n",
    "The context saves files as needed and can easily be changed to save files with different strategies, ie. fill missing data with NaN, merge data into a single file, create files for each variable or pack everything together into a netcdf."
   ]
  },
  {
   "cell_type": "code",
   "execution_count": 1,
   "metadata": {},
   "outputs": [],
   "source": [
    "import pandas as pd\n",
    "import geopandas as gpd\n",
    "import numpy as np\n",
    "import os\n",
    "from glob import glob\n",
    "from tqdm import tqdm\n",
    "import warnings\n",
    "\n",
    "from camelsp import Bundesland"
   ]
  },
  {
   "attachments": {},
   "cell_type": "markdown",
   "metadata": {},
   "source": [
    "The context can also be instantiated as any regular Python class, ie. to load only the default input data path, that we will user later."
   ]
  },
  {
   "cell_type": "code",
   "execution_count": 2,
   "metadata": {},
   "outputs": [
    {
     "data": {
      "text/plain": [
       "'/home/camel/camelsp/input_data/Q_and_W/SN_Sachsen'"
      ]
     },
     "execution_count": 2,
     "metadata": {},
     "output_type": "execute_result"
    }
   ],
   "source": [
    "# the context also makes the input path available, if camelsp was install locally\n",
    "BASE = Bundesland('Sachsen').input_path\n",
    "BASE"
   ]
  },
  {
   "attachments": {},
   "cell_type": "markdown",
   "metadata": {},
   "source": [
    "## Parse data\n",
    "\n",
    "We do not have a Metadata file, but one Excel file for each station. Thus we need to parse each metadata individually and collect."
   ]
  },
  {
   "cell_type": "code",
   "execution_count": 8,
   "metadata": {},
   "outputs": [
    {
     "name": "stdout",
     "output_type": "stream",
     "text": [
      "Found 282 files.\n"
     ]
    }
   ],
   "source": [
    "files = sorted(glob(os.path.join(BASE, '*.xlsx')))\n",
    "print(f\"Found {len(files)} files.\")"
   ]
  },
  {
   "attachments": {},
   "cell_type": "markdown",
   "metadata": {},
   "source": [
    "Test for the first file:"
   ]
  },
  {
   "cell_type": "code",
   "execution_count": 9,
   "metadata": {},
   "outputs": [
    {
     "name": "stderr",
     "output_type": "stream",
     "text": [
      "/home/camel/anaconda3/lib/python3.9/site-packages/openpyxl/styles/stylesheet.py:226: UserWarning: Workbook contains no default style, apply openpyxl's default\n",
      "  warn(\"Workbook contains no default style, apply openpyxl's default\")\n"
     ]
    },
    {
     "name": "stdout",
     "output_type": "stream",
     "text": [
      "Pegelkennziffer: [567310]\n",
      "Pegelname:       ['Böhrigen']\n",
      "Gewaesser:       ['Striegis']\n",
      "Beeinflussung:   ['b' nan 'R' 'D' 'G, R' 'G, R, T' 'R, T' 'R, b' 'D, G']\n",
      "Datum type:      datetime64[ns]\n"
     ]
    },
    {
     "data": {
      "text/html": [
       "<div>\n",
       "<style scoped>\n",
       "    .dataframe tbody tr th:only-of-type {\n",
       "        vertical-align: middle;\n",
       "    }\n",
       "\n",
       "    .dataframe tbody tr th {\n",
       "        vertical-align: top;\n",
       "    }\n",
       "\n",
       "    .dataframe thead th {\n",
       "        text-align: right;\n",
       "    }\n",
       "</style>\n",
       "<table border=\"1\" class=\"dataframe\">\n",
       "  <thead>\n",
       "    <tr style=\"text-align: right;\">\n",
       "      <th></th>\n",
       "      <th>Pegelkennziffer</th>\n",
       "      <th>Pegelname</th>\n",
       "      <th>Gewaesser</th>\n",
       "      <th>Datum</th>\n",
       "      <th>Wasserstand (W) cm</th>\n",
       "      <th>Durchfluss (Q) m³/s</th>\n",
       "      <th>Beeinflussung</th>\n",
       "    </tr>\n",
       "  </thead>\n",
       "  <tbody>\n",
       "    <tr>\n",
       "      <th>0</th>\n",
       "      <td>567310</td>\n",
       "      <td>Böhrigen</td>\n",
       "      <td>Striegis</td>\n",
       "      <td>2004-11-01</td>\n",
       "      <td>62</td>\n",
       "      <td>NaN</td>\n",
       "      <td>b</td>\n",
       "    </tr>\n",
       "    <tr>\n",
       "      <th>1</th>\n",
       "      <td>567310</td>\n",
       "      <td>Böhrigen</td>\n",
       "      <td>Striegis</td>\n",
       "      <td>2004-11-02</td>\n",
       "      <td>65</td>\n",
       "      <td>NaN</td>\n",
       "      <td>b</td>\n",
       "    </tr>\n",
       "    <tr>\n",
       "      <th>2</th>\n",
       "      <td>567310</td>\n",
       "      <td>Böhrigen</td>\n",
       "      <td>Striegis</td>\n",
       "      <td>2004-11-03</td>\n",
       "      <td>70</td>\n",
       "      <td>NaN</td>\n",
       "      <td>b</td>\n",
       "    </tr>\n",
       "    <tr>\n",
       "      <th>3</th>\n",
       "      <td>567310</td>\n",
       "      <td>Böhrigen</td>\n",
       "      <td>Striegis</td>\n",
       "      <td>2004-11-04</td>\n",
       "      <td>55</td>\n",
       "      <td>NaN</td>\n",
       "      <td>b</td>\n",
       "    </tr>\n",
       "    <tr>\n",
       "      <th>4</th>\n",
       "      <td>567310</td>\n",
       "      <td>Böhrigen</td>\n",
       "      <td>Striegis</td>\n",
       "      <td>2004-11-05</td>\n",
       "      <td>43</td>\n",
       "      <td>NaN</td>\n",
       "      <td>b</td>\n",
       "    </tr>\n",
       "    <tr>\n",
       "      <th>...</th>\n",
       "      <td>...</td>\n",
       "      <td>...</td>\n",
       "      <td>...</td>\n",
       "      <td>...</td>\n",
       "      <td>...</td>\n",
       "      <td>...</td>\n",
       "      <td>...</td>\n",
       "    </tr>\n",
       "    <tr>\n",
       "      <th>5900</th>\n",
       "      <td>567310</td>\n",
       "      <td>Böhrigen</td>\n",
       "      <td>Striegis</td>\n",
       "      <td>2020-12-27</td>\n",
       "      <td>55</td>\n",
       "      <td>0.954</td>\n",
       "      <td>NaN</td>\n",
       "    </tr>\n",
       "    <tr>\n",
       "      <th>5901</th>\n",
       "      <td>567310</td>\n",
       "      <td>Böhrigen</td>\n",
       "      <td>Striegis</td>\n",
       "      <td>2020-12-28</td>\n",
       "      <td>54</td>\n",
       "      <td>0.894</td>\n",
       "      <td>NaN</td>\n",
       "    </tr>\n",
       "    <tr>\n",
       "      <th>5902</th>\n",
       "      <td>567310</td>\n",
       "      <td>Böhrigen</td>\n",
       "      <td>Striegis</td>\n",
       "      <td>2020-12-29</td>\n",
       "      <td>53</td>\n",
       "      <td>0.824</td>\n",
       "      <td>NaN</td>\n",
       "    </tr>\n",
       "    <tr>\n",
       "      <th>5903</th>\n",
       "      <td>567310</td>\n",
       "      <td>Böhrigen</td>\n",
       "      <td>Striegis</td>\n",
       "      <td>2020-12-30</td>\n",
       "      <td>52</td>\n",
       "      <td>0.735</td>\n",
       "      <td>NaN</td>\n",
       "    </tr>\n",
       "    <tr>\n",
       "      <th>5904</th>\n",
       "      <td>567310</td>\n",
       "      <td>Böhrigen</td>\n",
       "      <td>Striegis</td>\n",
       "      <td>2020-12-31</td>\n",
       "      <td>51</td>\n",
       "      <td>0.684</td>\n",
       "      <td>NaN</td>\n",
       "    </tr>\n",
       "  </tbody>\n",
       "</table>\n",
       "<p>5905 rows × 7 columns</p>\n",
       "</div>"
      ],
      "text/plain": [
       "      Pegelkennziffer Pegelname Gewaesser      Datum  Wasserstand (W) cm  \\\n",
       "0              567310  Böhrigen  Striegis 2004-11-01                  62   \n",
       "1              567310  Böhrigen  Striegis 2004-11-02                  65   \n",
       "2              567310  Böhrigen  Striegis 2004-11-03                  70   \n",
       "3              567310  Böhrigen  Striegis 2004-11-04                  55   \n",
       "4              567310  Böhrigen  Striegis 2004-11-05                  43   \n",
       "...               ...       ...       ...        ...                 ...   \n",
       "5900           567310  Böhrigen  Striegis 2020-12-27                  55   \n",
       "5901           567310  Böhrigen  Striegis 2020-12-28                  54   \n",
       "5902           567310  Böhrigen  Striegis 2020-12-29                  53   \n",
       "5903           567310  Böhrigen  Striegis 2020-12-30                  52   \n",
       "5904           567310  Böhrigen  Striegis 2020-12-31                  51   \n",
       "\n",
       "      Durchfluss (Q) m³/s Beeinflussung  \n",
       "0                     NaN             b  \n",
       "1                     NaN             b  \n",
       "2                     NaN             b  \n",
       "3                     NaN             b  \n",
       "4                     NaN             b  \n",
       "...                   ...           ...  \n",
       "5900                0.954           NaN  \n",
       "5901                0.894           NaN  \n",
       "5902                0.824           NaN  \n",
       "5903                0.735           NaN  \n",
       "5904                0.684           NaN  \n",
       "\n",
       "[5905 rows x 7 columns]"
      ]
     },
     "execution_count": 9,
     "metadata": {},
     "output_type": "execute_result"
    }
   ],
   "source": [
    "with warnings.catch_warnings():\n",
    "    df = pd.read_excel(files[32], skiprows=2, decimal=',')\n",
    "\n",
    "\n",
    "print(f\"Pegelkennziffer: {df.Pegelkennziffer.unique()}\")\n",
    "print(f\"Pegelname:       {df.Pegelname.unique()}\")\n",
    "print(f\"Gewaesser:       {df.Gewaesser.unique()}\")\n",
    "print(f\"Beeinflussung:   {df.Beeinflussung.unique()}\")\n",
    "print(f\"Datum type:      {df.Datum.dtype}\")\n",
    "\n",
    "df"
   ]
  },
  {
   "attachments": {},
   "cell_type": "markdown",
   "metadata": {},
   "source": [
    "One question, what does Beeinflussung actually mean here? Ignoring it for now.\n",
    "\n",
    "Go for each file and extract metadata and the two data columns"
   ]
  },
  {
   "cell_type": "code",
   "execution_count": 10,
   "metadata": {},
   "outputs": [
    {
     "data": {
      "text/plain": [
       "array(['Böhrigen'], dtype=object)"
      ]
     },
     "execution_count": 10,
     "metadata": {},
     "output_type": "execute_result"
    }
   ],
   "source": [
    "np.unique(df[df.columns[1]].values)"
   ]
  },
  {
   "cell_type": "code",
   "execution_count": 11,
   "metadata": {},
   "outputs": [
    {
     "name": "stderr",
     "output_type": "stream",
     "text": [
      "  0%|          | 0/282 [00:00<?, ?it/s]"
     ]
    },
    {
     "name": "stderr",
     "output_type": "stream",
     "text": [
      "100%|██████████| 282/282 [09:51<00:00,  2.10s/it]"
     ]
    },
    {
     "name": "stdout",
     "output_type": "stream",
     "text": [
      "Parsed 282 files\n"
     ]
    },
    {
     "name": "stderr",
     "output_type": "stream",
     "text": [
      "\n"
     ]
    }
   ],
   "source": [
    "# create result container\n",
    "meta = []\n",
    "q = []\n",
    "w = []\n",
    "\n",
    "with warnings.catch_warnings(record=True) as warns:\n",
    "    for filename in tqdm(files):\n",
    "        # read\n",
    "        with warnings.catch_warnings():\n",
    "            warnings.simplefilter('ignore')\n",
    "            df = pd.read_excel(filename, skiprows=2, decimal=',')\n",
    "\n",
    "        # extract data columns\n",
    "        q_df = df[['Datum', 'Durchfluss (Q) m³/s']].copy()\n",
    "        q_df.columns = ['date', 'q']\n",
    "        q_df['flag'] = np.NaN\n",
    "        \n",
    "        w_df = df[['Datum', 'Wasserstand (W) cm']].copy()\n",
    "        w_df.columns = ['date', 'w']\n",
    "        w_df['flag'] = np.NaN\n",
    "        \n",
    "        # append\n",
    "        q.append(q_df)\n",
    "        w.append(w_df)\n",
    "\n",
    "        # metadata - get first three columns\n",
    "        m = dict()\n",
    "        for i in range(3):\n",
    "            # these columns need to be unique\n",
    "            if np.unique(df[df.columns[i]].values).size > 1:\n",
    "                warnings.warn(f\"Column {df.columns[i]} of file {filename} is expected to be unique\")\n",
    "                m = None\n",
    "                break\n",
    "            else:\n",
    "                # add metadata\n",
    "                m[df.columns[i]] = str(df.iloc[0, i])\n",
    "        \n",
    "        # add other stuff\n",
    "        if m is not None:     \n",
    "            m['unit_q'] = 'm³/s'\n",
    "            m['unit_w'] = 'cm'\n",
    "        meta.append(m)\n",
    "    \n",
    "print(f\"Parsed {len(meta)} files\")"
   ]
  },
  {
   "attachments": {},
   "cell_type": "markdown",
   "metadata": {},
   "source": [
    "### Create metadta\n",
    "\n",
    "this should be straightforward"
   ]
  },
  {
   "cell_type": "code",
   "execution_count": 12,
   "metadata": {},
   "outputs": [
    {
     "data": {
      "text/html": [
       "<div>\n",
       "<style scoped>\n",
       "    .dataframe tbody tr th:only-of-type {\n",
       "        vertical-align: middle;\n",
       "    }\n",
       "\n",
       "    .dataframe tbody tr th {\n",
       "        vertical-align: top;\n",
       "    }\n",
       "\n",
       "    .dataframe thead th {\n",
       "        text-align: right;\n",
       "    }\n",
       "</style>\n",
       "<table border=\"1\" class=\"dataframe\">\n",
       "  <thead>\n",
       "    <tr style=\"text-align: right;\">\n",
       "      <th></th>\n",
       "      <th>Pegelkennziffer</th>\n",
       "      <th>Pegelname</th>\n",
       "      <th>Gewaesser</th>\n",
       "      <th>unit_q</th>\n",
       "      <th>unit_w</th>\n",
       "    </tr>\n",
       "  </thead>\n",
       "  <tbody>\n",
       "    <tr>\n",
       "      <th>0</th>\n",
       "      <td>576401</td>\n",
       "      <td>Adorf 1</td>\n",
       "      <td>Weiße Elster</td>\n",
       "      <td>m³/s</td>\n",
       "      <td>cm</td>\n",
       "    </tr>\n",
       "    <tr>\n",
       "      <th>1</th>\n",
       "      <td>576400</td>\n",
       "      <td>Adorf</td>\n",
       "      <td>Weiße Elster</td>\n",
       "      <td>m³/s</td>\n",
       "      <td>cm</td>\n",
       "    </tr>\n",
       "    <tr>\n",
       "      <th>2</th>\n",
       "      <td>578091</td>\n",
       "      <td>Albrechtshain 1</td>\n",
       "      <td>Parthe</td>\n",
       "      <td>m³/s</td>\n",
       "      <td>cm</td>\n",
       "    </tr>\n",
       "    <tr>\n",
       "      <th>3</th>\n",
       "      <td>578090</td>\n",
       "      <td>Albrechtshain</td>\n",
       "      <td>Parthe</td>\n",
       "      <td>m³/s</td>\n",
       "      <td>cm</td>\n",
       "    </tr>\n",
       "    <tr>\n",
       "      <th>4</th>\n",
       "      <td>564530</td>\n",
       "      <td>Altchemnitz 1</td>\n",
       "      <td>Zwönitz</td>\n",
       "      <td>m³/s</td>\n",
       "      <td>cm</td>\n",
       "    </tr>\n",
       "    <tr>\n",
       "      <th>...</th>\n",
       "      <td>...</td>\n",
       "      <td>...</td>\n",
       "      <td>...</td>\n",
       "      <td>...</td>\n",
       "      <td>...</td>\n",
       "    </tr>\n",
       "    <tr>\n",
       "      <th>277</th>\n",
       "      <td>662022</td>\n",
       "      <td>Zittau 6</td>\n",
       "      <td>Mandau</td>\n",
       "      <td>m³/s</td>\n",
       "      <td>cm</td>\n",
       "    </tr>\n",
       "    <tr>\n",
       "      <th>278</th>\n",
       "      <td>576635</td>\n",
       "      <td>Zitzschen</td>\n",
       "      <td>Weiße Elster</td>\n",
       "      <td>m³/s</td>\n",
       "      <td>cm</td>\n",
       "    </tr>\n",
       "    <tr>\n",
       "      <th>279</th>\n",
       "      <td>562070</td>\n",
       "      <td>Zwickau-Pölbitz</td>\n",
       "      <td>Zwickauer Mulde</td>\n",
       "      <td>m³/s</td>\n",
       "      <td>cm</td>\n",
       "    </tr>\n",
       "    <tr>\n",
       "      <th>280</th>\n",
       "      <td>568401</td>\n",
       "      <td>Zöblitz 1</td>\n",
       "      <td>Schwarze Pockau</td>\n",
       "      <td>m³/s</td>\n",
       "      <td>cm</td>\n",
       "    </tr>\n",
       "    <tr>\n",
       "      <th>281</th>\n",
       "      <td>568400</td>\n",
       "      <td>Zöblitz</td>\n",
       "      <td>Schwarze Pockau</td>\n",
       "      <td>m³/s</td>\n",
       "      <td>cm</td>\n",
       "    </tr>\n",
       "  </tbody>\n",
       "</table>\n",
       "<p>282 rows × 5 columns</p>\n",
       "</div>"
      ],
      "text/plain": [
       "    Pegelkennziffer        Pegelname        Gewaesser unit_q unit_w\n",
       "0            576401          Adorf 1     Weiße Elster   m³/s     cm\n",
       "1            576400            Adorf     Weiße Elster   m³/s     cm\n",
       "2            578091  Albrechtshain 1           Parthe   m³/s     cm\n",
       "3            578090    Albrechtshain           Parthe   m³/s     cm\n",
       "4            564530    Altchemnitz 1          Zwönitz   m³/s     cm\n",
       "..              ...              ...              ...    ...    ...\n",
       "277          662022         Zittau 6           Mandau   m³/s     cm\n",
       "278          576635        Zitzschen     Weiße Elster   m³/s     cm\n",
       "279          562070  Zwickau-Pölbitz  Zwickauer Mulde   m³/s     cm\n",
       "280          568401        Zöblitz 1  Schwarze Pockau   m³/s     cm\n",
       "281          568400          Zöblitz  Schwarze Pockau   m³/s     cm\n",
       "\n",
       "[282 rows x 5 columns]"
      ]
     },
     "execution_count": 12,
     "metadata": {},
     "output_type": "execute_result"
    }
   ],
   "source": [
    "metadata = pd.DataFrame(meta)\n",
    "metadata"
   ]
  },
  {
   "cell_type": "markdown",
   "metadata": {},
   "source": [
    "There is more metadata in the provided Pegel shapefile, including critical information such as location."
   ]
  },
  {
   "cell_type": "code",
   "execution_count": 17,
   "metadata": {},
   "outputs": [],
   "source": [
    "gdf_meta = gpd.read_file(os.path.join(BASE, '../../Shapes/Sachsen_Shapes/PEGEL.shp'))\n",
    "\n",
    "# drop column geometry\n",
    "gdf_meta.drop(columns='geometry', inplace=True)\n",
    "\n",
    "# provider_id as int\n",
    "gdf_meta['MSTNR'] = gdf_meta['MSTNR'].astype(int)\n",
    "metadata['Pegelkennziffer'] = metadata['Pegelkennziffer'].astype(int)\n",
    "\n",
    "# concat metadata and gdf_meta\n",
    "metadata = metadata.merge(gdf_meta, left_on='Pegelkennziffer', right_on='MSTNR', how='left')\n",
    "\n",
    "# make Pegelkennziffer str again\n",
    "metadata['Pegelkennziffer'] = metadata['Pegelkennziffer'].astype(str)"
   ]
  },
  {
   "cell_type": "code",
   "execution_count": 19,
   "metadata": {},
   "outputs": [],
   "source": [
    "id_column = 'Pegelkennziffer'"
   ]
  },
  {
   "attachments": {},
   "cell_type": "markdown",
   "metadata": {},
   "source": [
    "### Finally run\n",
    "\n",
    "Now, the Q and W data can be extracted. The cool thing is, that all the id creation, data creation, merging and the mapping from our ids to the original ids and files is done by the context. This is helpful, as we less likely screw something up."
   ]
  },
  {
   "cell_type": "code",
   "execution_count": 21,
   "metadata": {},
   "outputs": [
    {
     "name": "stdout",
     "output_type": "stream",
     "text": [
      "    nuts_id provider_id                              path\n",
      "0  DED10000      576401  ./DED/DED10000/DED10000_data.csv\n",
      "1  DED10010      576400  ./DED/DED10010/DED10010_data.csv\n",
      "2  DED10020      578091  ./DED/DED10020/DED10020_data.csv\n",
      "3  DED10030      578090  ./DED/DED10030/DED10030_data.csv\n",
      "4  DED10040      564530  ./DED/DED10040/DED10040_data.csv\n"
     ]
    },
    {
     "name": "stderr",
     "output_type": "stream",
     "text": [
      "  0%|          | 0/282 [00:00<?, ?it/s]"
     ]
    },
    {
     "name": "stderr",
     "output_type": "stream",
     "text": [
      "100%|██████████| 282/282 [00:31<00:00,  9.01it/s]\n"
     ]
    }
   ],
   "source": [
    "with Bundesland('Sachsen') as bl:\n",
    "    # save the metadata\n",
    "    bl.save_raw_metadata(metadata, id_column, overwrite=True)\n",
    "\n",
    "    # for reference, call the nuts-mapping as table\n",
    "    nuts_map = bl.nuts_table\n",
    "    print(nuts_map.head())\n",
    "\n",
    "    # go for each    \n",
    "    for m, q_df, w_df in tqdm(zip(meta, q, w), total=len(meta)):\n",
    "        \n",
    "        if m is not None:\n",
    "            # get the provider id\n",
    "            provider_id = str(m[id_column])\n",
    "            bl.save_timeseries(q_df, provider_id)\n",
    "            bl.save_timeseries(w_df, provider_id)\n",
    "\n",
    "    # check if there were warnings (there are warnings)\n",
    "    if len(warns) > 0:\n",
    "        log_path = bl.save_warnings(warns)\n",
    "        print(f\"There were warnings during the processing. The log can be found at: {log_path}\")\n"
   ]
  }
 ],
 "metadata": {
  "kernelspec": {
   "display_name": "Python 3 (ipykernel)",
   "language": "python",
   "name": "python3"
  },
  "language_info": {
   "codemirror_mode": {
    "name": "ipython",
    "version": 3
   },
   "file_extension": ".py",
   "mimetype": "text/x-python",
   "name": "python",
   "nbconvert_exporter": "python",
   "pygments_lexer": "ipython3",
   "version": "3.9.13"
  },
  "vscode": {
   "interpreter": {
    "hash": "2c57ebfed52ffd848a0d2f36f1ea9c0a9060c9b67397fbb725d6aa92a9494b08"
   }
  }
 },
 "nbformat": 4,
 "nbformat_minor": 4
}
