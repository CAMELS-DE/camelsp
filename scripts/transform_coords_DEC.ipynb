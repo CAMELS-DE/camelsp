{
 "cells": [
  {
   "cell_type": "markdown",
   "id": "67d65596-e397-47ea-9e5e-46525a4fc9b5",
   "metadata": {},
   "source": [
    "Saarland (DEC):\n",
    "\n",
    "Transform coordinates from EPSG:31462 to EPSG:3035\n"
   ]
  },
  {
   "cell_type": "code",
   "execution_count": 21,
   "id": "9e38e77b-0c4f-4c8e-a0d4-208f0fe3dab8",
   "metadata": {},
   "outputs": [],
   "source": [
    "from pyproj import Transformer\n",
    "import pandas as pd\n",
    "import numpy as np"
   ]
  },
  {
   "cell_type": "code",
   "execution_count": 22,
   "id": "d8f88bd6-dbc8-44d3-9a54-3d6f5113dd7e",
   "metadata": {},
   "outputs": [],
   "source": [
    "DEC_meta_data = pd.read_csv('../output_data/raw_metadata/DEC_raw_metadata.csv')"
   ]
  },
  {
   "cell_type": "code",
   "execution_count": 23,
   "id": "a8707588-8efc-4602-8654-77465bf82b27",
   "metadata": {},
   "outputs": [],
   "source": [
    "transformer = Transformer.from_crs(\"EPSG:31462\", \"EPSG:3035\", always_xy=True)"
   ]
  },
  {
   "cell_type": "code",
   "execution_count": 24,
   "id": "d6317ac4-7ec7-48c1-9f26-3db7488e4904",
   "metadata": {},
   "outputs": [],
   "source": [
    "# transform x y coords to EPSG:3035\n",
    "\n",
    "x_transformed = []\n",
    "y_transformed = []\n",
    "\n",
    "for i in range(np.shape(DEC_meta_data)[0]):\n",
    "    x = DEC_meta_data['RW'][i]\n",
    "    y = DEC_meta_data['HW'][i]\n",
    "\n",
    "    x_transformed.append(transformer.transform(x, y)[0])\n",
    "    y_transformed.append(transformer.transform(x, y)[1])"
   ]
  },
  {
   "cell_type": "code",
   "execution_count": 25,
   "id": "bb7d24e8-c446-4477-8347-224e0627bebc",
   "metadata": {},
   "outputs": [],
   "source": [
    "# remove string form area column and generate an area array\n",
    "area = []\n",
    "\n",
    "for i in range(np.shape(DEC_meta_data)[0]):\n",
    "    \n",
    "    if pd.isna(DEC_meta_data['EZG_Gr'])[i]:\n",
    "        area.append(np.nan)\n",
    "    \n",
    "    else:\n",
    "        area_ob = DEC_meta_data['EZG_Gr'][i].replace(',', '.')\n",
    "        area.append(float(area_ob.replace('km²', '')))\n"
   ]
  },
  {
   "cell_type": "code",
   "execution_count": 27,
   "id": "c87dfbd3-3764-4f8f-8c05-f91bc08600af",
   "metadata": {},
   "outputs": [],
   "source": [
    "SA_Location = pd.DataFrame({'ID':DEC_meta_data['MSTNR'], 'area':area, 'X':x_transformed, 'Y':y_transformed})"
   ]
  },
  {
   "cell_type": "code",
   "execution_count": 28,
   "id": "97fba55c-1107-49ff-be60-efe5a3c5a1b8",
   "metadata": {},
   "outputs": [],
   "source": [
    "SA_Location.to_csv('../output_data/locations/DEC_Location.csv', index=False)"
   ]
  },
  {
   "cell_type": "code",
   "execution_count": 29,
   "id": "8f5c5e0a-36b4-43ba-a817-5152fd6741ba",
   "metadata": {},
   "outputs": [
    {
     "data": {
      "text/plain": [
       "Index(['MSTNR', 'MSTBEM', 'Pegelname_', 'Gewässer', 'Betreiber', 'Stromgebiet',\n",
       "       'GebkNR', 'EZG_Gr', 'Flusskm', 'PNP', 'RW', 'HW', 'HWMH_1', 'HWMH_2'],\n",
       "      dtype='object')"
      ]
     },
     "execution_count": 29,
     "metadata": {},
     "output_type": "execute_result"
    }
   ],
   "source": [
    "DEC_meta_data.columns"
   ]
  }
 ],
 "metadata": {
  "kernelspec": {
   "display_name": "Python 3.9",
   "language": "python",
   "name": "base"
  },
  "language_info": {
   "codemirror_mode": {
    "name": "ipython",
    "version": 3
   },
   "file_extension": ".py",
   "mimetype": "text/x-python",
   "name": "python",
   "nbconvert_exporter": "python",
   "pygments_lexer": "ipython3",
   "version": "3.9.13"
  }
 },
 "nbformat": 4,
 "nbformat_minor": 5
}
