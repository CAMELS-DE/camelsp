{
 "cells": [
  {
   "cell_type": "markdown",
   "metadata": {},
   "source": [
    "# Baden-Württemberg\n",
    "\n",
    "Every federal state is represented by its own input directory and is processed into a NUTS level 2 directory containing a sub-folder for each discharge location. These folder names are derived from NUTS and reflect the CAMELS id. The NUTS level 2 code for Baden-Württemberg is `DE1`.\n",
    "\n",
    "To pre-process the data, you need to write (at least) two functions. One should extract all metadata and condense it into a single `pandas.DataFrame`. This is used to build the folder structure and derive the ids.\n",
    "The second function has to take an id, as provided by the state authorities, called `provider_id` and return a `pandas.DataFrame` with the transformed data. The dataframe needs the three columns `['date', 'q' | 'w', 'flag']`.\n",
    "\n",
    "For easier and unified output handling, the `camelsp` package contains a context object called `Bundesland`. It takes a number of names and abbreviations to identify the correct federal state and returns an object that holds helper and save functions.\n",
    "\n",
    "The context saves files as needed and can easily be changed to save files with different strategies, ie. fill missing data with NaN, merge data into a single file, create files for each variable or pack everything together into a netcdf."
   ]
  },
  {
   "cell_type": "code",
   "execution_count": null,
   "metadata": {},
   "outputs": [],
   "source": [
    "import pandas as pd\n",
    "import os\n",
    "from pprint import pprint\n",
    "from tqdm import tqdm\n",
    "from typing import Union, Dict\n",
    "import zipfile\n",
    "from datetime import datetime as dt\n",
    "\n",
    "from camelsp import Bundesland"
   ]
  },
  {
   "cell_type": "markdown",
   "metadata": {},
   "source": [
    "The context can also be instantiated as any regular Python class, ie. to load only the default input data path, that we will user later."
   ]
  },
  {
   "cell_type": "code",
   "execution_count": null,
   "metadata": {},
   "outputs": [],
   "source": [
    "# the context also makes the input path available, if camelsp was install locally\n",
    "BASE = Bundesland('bw').input_path\n",
    "BASE"
   ]
  },
  {
   "cell_type": "markdown",
   "metadata": {},
   "source": [
    "### Metadata reader\n",
    "\n",
    "Define the function that extracts / reads and eventually merges all metadata for this federal state. You can develop the function here, without using the Bundesland context and then later use the context to pass extracted metadata. The Context has a function for saving *raw* metadata, that takes a `pandas.DataFrame` and needs you to identify the id column.\n",
    "Here, *raw* refers to provider metadata, that has not yet been transformed into the CAMELS-de Metadata schema."
   ]
  },
  {
   "cell_type": "code",
   "execution_count": null,
   "metadata": {},
   "outputs": [],
   "source": [
    "# define the function \n",
    "def read_meta(base_path) -> pd.DataFrame:\n",
    "    path = os.path.join(base_path, 'BW_Meta.xlsx')\n",
    "    meta = pd.read_excel(path)\n",
    "    return meta\n",
    "\n",
    "# test it here\n",
    "metadata = read_meta(BASE)\n",
    "\n",
    "metadata"
   ]
  },
  {
   "cell_type": "code",
   "execution_count": null,
   "metadata": {},
   "outputs": [],
   "source": [
    "# the id column will be Messstellennummer\n",
    "id_column = 'Messstellennummer'"
   ]
  },
  {
   "cell_type": "markdown",
   "metadata": {},
   "source": [
    "## file extract and parse\n",
    "\n",
    "I'll keep the files in the zip, just because. In baWü these zips are nicely flat-packed and there is actually no need to extract the zip. Later, we might want to extract and change the code below."
   ]
  },
  {
   "cell_type": "code",
   "execution_count": null,
   "metadata": {},
   "outputs": [],
   "source": [
    "# helper to map ids to filenames\n",
    "def get_filename_mapping(zippath: str) -> Dict[str, str]:\n",
    "    with zipfile.ZipFile(zippath) as z:\n",
    "        return {f\"{f.filename.split('-')[0]}\": f.filename for f in z.filelist}\n",
    "\n",
    "def extract_file(nr: Union[int, str], variable: str, zippath: str, not_exists = 'raise') -> pd.DataFrame:\n",
    "    # get filename mapping\n",
    "    fmap = get_filename_mapping(zippath)\n",
    "    \n",
    "    # always use string\n",
    "    fname = str(nr)\n",
    "\n",
    "    # search the file \n",
    "    if fname in fmap.values():\n",
    "        fname = fname\n",
    "    elif fname in fmap.keys():\n",
    "        fname = fmap[fname]\n",
    "    else:\n",
    "        FileNotFoundError(f\"nr {nr} is nothing we would expect. Use a LUBW Messstellennummer or filename in the zip\")\n",
    "    \n",
    "    # go for the file\n",
    "    with zipfile.ZipFile(zippath) as z:\n",
    "        if fname not in [f.filename for f in z.filelist]:\n",
    "            # TODO: here, might want to warn and return an df filled with NAN\n",
    "            if not_exists == 'raise':\n",
    "                raise FileNotFoundError(f\"{fname} is not in {zippath}\")\n",
    "            else:\n",
    "                return pd.DataFrame(columns=['date', variable.lower(), 'flag'])\n",
    "        \n",
    "        # raw content\n",
    "        raw = pd.read_csv(z.open(fname), encoding='latin1', skiprows=3, sep=';', decimal=',')\n",
    "        \n",
    "        # 'q' data\n",
    "        if 'Q' in raw.columns:\n",
    "            return pd.DataFrame({\n",
    "                'date': [dt.strptime(_, '%d.%m.%Y') for _ in raw.Datum],\n",
    "                'q': raw.Q.values,\n",
    "                'flag': [_.lower().strip() == 'ja' for _ in raw['Geprüft (nein=ungeprüfte Rohdaten)']],\n",
    "\n",
    "            })\n",
    "        # w data\n",
    "        else:\n",
    "            return pd.DataFrame({\n",
    "                'date': [dt.strptime(_, '%d.%m.%Y') for _ in raw.Datum],\n",
    "                'w': raw.W.values,\n",
    "                'flag': [_.lower().strip() == 'ja' for _ in raw['Geprüft (nein=ungeprüfte Rohdaten)']],\n",
    "\n",
    "            })\n",
    "\n",
    "# test \n",
    "df = extract_file(105, 'q', '../input_data/BW_Baden_Wuerttemberg/BW_Q.zip')\n",
    "df"
   ]
  },
  {
   "cell_type": "markdown",
   "metadata": {},
   "source": [
    "### Finally run\n",
    "\n",
    "Now, the Q and W data can be extracted along with the metadata. The cool thing is, that all the id creation, data creation, merging and the mapping from our ids to the original ids and files is done by the context. This is helpful, as we less likely screw something up."
   ]
  },
  {
   "cell_type": "code",
   "execution_count": null,
   "metadata": {},
   "outputs": [],
   "source": [
    "with Bundesland('Ba-Wü') as bl:\n",
    "    # save the metadata\n",
    "    bl.save_raw_metadata(metadata, id_column, overwrite=True)\n",
    "\n",
    "    # for reference, call the nuts-mapping as table\n",
    "    nuts_map = bl.nuts_table\n",
    "    print(nuts_map.head())\n",
    "\n",
    "    # join the path for two zips\n",
    "    q_zip_path = os.path.join(bl.input_path, 'BW_Q.zip')\n",
    "    w_zip_path = os.path.join(bl.input_path, 'BW_W.zip')\n",
    "    \n",
    "    # go for all ids\n",
    "    for provider_id in tqdm(nuts_map.provider_id):\n",
    "        # extract the file for this provider\n",
    "        q_df = extract_file(provider_id, 'q', q_zip_path, not_exists='fill_nan')\n",
    "        w_df = extract_file(provider_id, 'w', w_zip_path, not_exists='fill_nan')\n",
    "\n",
    "        # save\n",
    "        bl.save_timeseries(q_df, provider_id)\n",
    "        bl.save_timeseries(w_df, provider_id)\n",
    "\n"
   ]
  }
 ],
 "metadata": {
  "kernelspec": {
   "display_name": "Python 3.9.13 ('base')",
   "language": "python",
   "name": "python3"
  },
  "language_info": {
   "codemirror_mode": {
    "name": "ipython",
    "version": 3
   },
   "file_extension": ".py",
   "mimetype": "text/x-python",
   "name": "python",
   "nbconvert_exporter": "python",
   "pygments_lexer": "ipython3",
   "version": "3.9.13"
  },
  "orig_nbformat": 4,
  "vscode": {
   "interpreter": {
    "hash": "2c57ebfed52ffd848a0d2f36f1ea9c0a9060c9b67397fbb725d6aa92a9494b08"
   }
  }
 },
 "nbformat": 4,
 "nbformat_minor": 2
}
