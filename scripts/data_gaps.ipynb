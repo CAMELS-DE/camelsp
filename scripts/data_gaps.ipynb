{
 "cells": [
  {
   "cell_type": "code",
   "execution_count": 11,
   "metadata": {},
   "outputs": [],
   "source": [
    "import os\n",
    "import json\n",
    "import pandas as pd\n",
    "import numpy as np\n",
    "from tqdm import tqdm\n",
    "import warnings\n",
    "import matplotlib.pyplot as plt\n",
    "# import the seaborn stylesheet\n",
    "import seaborn as sns\n",
    "sns.set()\n",
    "\n",
    "from camelsp import Bundesland, util\n"
   ]
  },
  {
   "cell_type": "code",
   "execution_count": 12,
   "metadata": {},
   "outputs": [],
   "source": [
    "nuts = [nt for nt in os.listdir(Bundesland('Hessen').base_path) if nt.startswith('DE')]"
   ]
  },
  {
   "cell_type": "code",
   "execution_count": 13,
   "metadata": {},
   "outputs": [
    {
     "name": "stdout",
     "output_type": "stream",
     "text": [
      "DE1\n",
      "DE2\n",
      "DE3\n",
      "DE4\n",
      "DE5\n",
      "DE6\n",
      "DE7\n",
      "DE8\n",
      "DE9\n",
      "DEA\n",
      "DEB\n",
      "DEC\n",
      "DED\n",
      "DEE\n",
      "DEF\n",
      "DEG\n"
     ]
    }
   ],
   "source": [
    "for NUTS in util._NUTS_LVL2_NAMES.keys():    \n",
    "    print(NUTS)"
   ]
  },
  {
   "cell_type": "code",
   "execution_count": 14,
   "metadata": {},
   "outputs": [],
   "source": [
    "def percentage_missing(time_series):\n",
    "    \"\"\"\n",
    "    Calculate the percentage of missing values in a time series between the first and last non-NaN value.\n",
    "    Args:\n",
    "        time_series (np.ndarray): Time series with NaN values.\n",
    "    Returns:\n",
    "        percentage_missing (float): Percentage of missing values.\n",
    "    \"\"\"\n",
    "    # Drop rows with NaN values before the first non-NaN value and after the last non-NaN value\n",
    "    first_valid_index = np.where(~np.isnan(time_series))[0][0]\n",
    "    last_valid_index = np.where(~np.isnan(time_series))[0][-1]\n",
    "    time_series = time_series[first_valid_index:last_valid_index + 1]\n",
    "    \n",
    "    # Count the number of missing values\n",
    "    missing_values = np.sum(np.isnan(time_series))\n",
    "    \n",
    "    # Calculate the percentage of missing values\n",
    "    percentage_missing = 100 * missing_values / len(time_series)\n",
    "    \n",
    "    return percentage_missing"
   ]
  },
  {
   "cell_type": "code",
   "execution_count": 33,
   "metadata": {},
   "outputs": [
    {
     "name": "stdout",
     "output_type": "stream",
     "text": [
      "DE1\n"
     ]
    },
    {
     "name": "stderr",
     "output_type": "stream",
     "text": [
      "100%|██████████| 259/259 [00:05<00:00, 49.70it/s]\n"
     ]
    },
    {
     "name": "stdout",
     "output_type": "stream",
     "text": [
      "There were 252 warnings (missing data files).\n",
      "DE2\n"
     ]
    },
    {
     "name": "stderr",
     "output_type": "stream",
     "text": [
      "100%|██████████| 540/540 [00:13<00:00, 40.89it/s]\n"
     ]
    },
    {
     "name": "stdout",
     "output_type": "stream",
     "text": [
      "There were 534 warnings (missing data files).\n",
      "DE3\n"
     ]
    },
    {
     "name": "stderr",
     "output_type": "stream",
     "text": [
      "0it [00:00, ?it/s]\n"
     ]
    },
    {
     "name": "stdout",
     "output_type": "stream",
     "text": [
      "DE4\n"
     ]
    },
    {
     "name": "stderr",
     "output_type": "stream",
     "text": [
      "100%|██████████| 382/382 [00:05<00:00, 65.94it/s] \n"
     ]
    },
    {
     "name": "stdout",
     "output_type": "stream",
     "text": [
      "There were 368 warnings (missing data files).\n",
      "DE5\n"
     ]
    },
    {
     "name": "stderr",
     "output_type": "stream",
     "text": [
      "0it [00:00, ?it/s]\n"
     ]
    },
    {
     "name": "stdout",
     "output_type": "stream",
     "text": [
      "DE6\n"
     ]
    },
    {
     "name": "stderr",
     "output_type": "stream",
     "text": [
      "0it [00:00, ?it/s]\n"
     ]
    },
    {
     "name": "stdout",
     "output_type": "stream",
     "text": [
      "DE7\n"
     ]
    },
    {
     "name": "stderr",
     "output_type": "stream",
     "text": [
      "100%|██████████| 97/97 [00:02<00:00, 44.20it/s]\n"
     ]
    },
    {
     "name": "stdout",
     "output_type": "stream",
     "text": [
      "There were 97 warnings (missing data files).\n",
      "DE8\n"
     ]
    },
    {
     "name": "stderr",
     "output_type": "stream",
     "text": [
      "100%|██████████| 235/235 [00:03<00:00, 67.69it/s]\n"
     ]
    },
    {
     "name": "stdout",
     "output_type": "stream",
     "text": [
      "There were 230 warnings (missing data files).\n",
      "DE9\n"
     ]
    },
    {
     "name": "stderr",
     "output_type": "stream",
     "text": [
      "100%|██████████| 282/282 [00:04<00:00, 60.68it/s]\n"
     ]
    },
    {
     "name": "stdout",
     "output_type": "stream",
     "text": [
      "There were 282 warnings (missing data files).\n",
      "DEA\n"
     ]
    },
    {
     "name": "stderr",
     "output_type": "stream",
     "text": [
      "100%|██████████| 437/437 [00:06<00:00, 69.34it/s] \n"
     ]
    },
    {
     "name": "stdout",
     "output_type": "stream",
     "text": [
      "There were 436 warnings (missing data files).\n",
      "DEB\n"
     ]
    },
    {
     "name": "stderr",
     "output_type": "stream",
     "text": [
      "0it [00:00, ?it/s]\n"
     ]
    },
    {
     "name": "stdout",
     "output_type": "stream",
     "text": [
      "DEC\n"
     ]
    },
    {
     "name": "stderr",
     "output_type": "stream",
     "text": [
      "100%|██████████| 56/56 [00:00<00:00, 60.02it/s]\n"
     ]
    },
    {
     "name": "stdout",
     "output_type": "stream",
     "text": [
      "There were 46 warnings (missing data files).\n",
      "DED\n"
     ]
    },
    {
     "name": "stderr",
     "output_type": "stream",
     "text": [
      "100%|██████████| 282/282 [00:04<00:00, 57.53it/s]\n"
     ]
    },
    {
     "name": "stdout",
     "output_type": "stream",
     "text": [
      "There were 273 warnings (missing data files).\n",
      "DEE\n"
     ]
    },
    {
     "name": "stderr",
     "output_type": "stream",
     "text": [
      "100%|██████████| 252/252 [00:04<00:00, 59.88it/s]\n"
     ]
    },
    {
     "name": "stdout",
     "output_type": "stream",
     "text": [
      "There were 252 warnings (missing data files).\n",
      "DEF\n"
     ]
    },
    {
     "name": "stderr",
     "output_type": "stream",
     "text": [
      "100%|██████████| 775/775 [00:07<00:00, 106.67it/s]\n"
     ]
    },
    {
     "name": "stdout",
     "output_type": "stream",
     "text": [
      "There were 237 warnings (missing data files).\n",
      "DEG\n"
     ]
    },
    {
     "name": "stderr",
     "output_type": "stream",
     "text": [
      "100%|██████████| 63/63 [00:01<00:00, 34.28it/s]"
     ]
    },
    {
     "name": "stdout",
     "output_type": "stream",
     "text": [
      "There were 63 warnings (missing data files).\n"
     ]
    },
    {
     "name": "stderr",
     "output_type": "stream",
     "text": [
      "\n"
     ]
    }
   ],
   "source": [
    "for NUTS in util._NUTS_LVL2_NAMES.keys():\n",
    "    print(NUTS)  \n",
    "    # process this federal state\n",
    "    with Bundesland(NUTS) as bl:   \n",
    "         # get meta\n",
    "        meta = bl.metadata\n",
    "\n",
    "        # go for each id\n",
    "        q_gaps = []\n",
    "        p_gaps = []\n",
    "        with warnings.catch_warnings(record=True) as warn:\n",
    "            for camels_id in tqdm(meta.camels_id.values):\n",
    "                problem_encountered = False\n",
    "                try:\n",
    "                    data = bl.get_data(camels_id)\n",
    "                    # only keep data whichi si not empty\n",
    "                    if not data.empty:\n",
    "                        # Also check if there are duplicates in the index\n",
    "                        if not data.index.duplicated().any():\n",
    "                            q = data['q']\n",
    "                            p = data['p']\n",
    "                            q_missing = percentage_missing(q.values)\n",
    "                            p_missing = percentage_missing(p.values)\n",
    "                            # print(f\"q: {q_missing:.2f}%, p: {p_missing:.2f}%\")\n",
    "                            q_gaps.append(q_missing)\n",
    "                            p_gaps.append(p_missing)\n",
    "                        else:\n",
    "                            # Index broken\n",
    "                            problem_encountered = True\n",
    "                    else:\n",
    "                        # Empty data\n",
    "                         problem_encountered = True        \n",
    "\n",
    "                except Exception as e:\n",
    "                    warnings.warn(str(e))\n",
    "                    # Some other problem, likely file not found\n",
    "                    problem_encountered = True\n",
    "                \n",
    "                if problem_encountered:\n",
    "                    q_gaps.append(np.nan)\n",
    "                    p_gaps.append(np.nan)\n",
    "\n",
    "\n",
    "            # all collected, return now\n",
    "            gaps = pd.DataFrame({'camels_id': meta.camels_id.values, 'q_gaps': q_gaps, 'p_gaps': p_gaps})\n",
    "            # update\n",
    "            bl.update_metadata(gaps)\n",
    "\n",
    "            if len(warn) > 0:\n",
    "                print(f\"There were {len(warn)} warnings (missing data files).\")\n"
   ]
  }
 ],
 "metadata": {
  "kernelspec": {
   "display_name": "camelsp",
   "language": "python",
   "name": "python3"
  },
  "language_info": {
   "codemirror_mode": {
    "name": "ipython",
    "version": 3
   },
   "file_extension": ".py",
   "mimetype": "text/x-python",
   "name": "python",
   "nbconvert_exporter": "python",
   "pygments_lexer": "ipython3",
   "version": "3.10.8"
  },
  "orig_nbformat": 4,
  "vscode": {
   "interpreter": {
    "hash": "0e97fa3e3270f340c9e443db6111e9988b961f3935cabd35eeb31156ba900b99"
   }
  }
 },
 "nbformat": 4,
 "nbformat_minor": 2
}
