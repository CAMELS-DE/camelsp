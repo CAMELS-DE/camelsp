{
 "cells": [
  {
   "cell_type": "code",
   "execution_count": 1,
   "metadata": {},
   "outputs": [],
   "source": [
    "import os\n",
    "import json\n",
    "import pandas as pd\n",
    "import numpy as np\n",
    "from tqdm import tqdm\n",
    "import warnings\n",
    "import matplotlib.pyplot as plt\n",
    "# import the seaborn stylesheet\n",
    "import seaborn as sns\n",
    "sns.set()\n",
    "\n",
    "from camelsp import Bundesland, util\n"
   ]
  },
  {
   "cell_type": "code",
   "execution_count": 12,
   "metadata": {},
   "outputs": [],
   "source": [
    "#nuts = [nt for nt in os.listdir(Bundesland('Hessen').base_path) if nt.startswith('DE')]"
   ]
  },
  {
   "cell_type": "code",
   "execution_count": 2,
   "metadata": {},
   "outputs": [
    {
     "name": "stdout",
     "output_type": "stream",
     "text": [
      "DE1\n",
      "DE2\n",
      "DE3\n",
      "DE4\n",
      "DE5\n",
      "DE6\n",
      "DE7\n",
      "DE8\n",
      "DE9\n",
      "DEA\n",
      "DEB\n",
      "DEC\n",
      "DED\n",
      "DEE\n",
      "DEF\n",
      "DEG\n"
     ]
    }
   ],
   "source": [
    "for NUTS in util._NUTS_LVL2_NAMES.keys():    \n",
    "    print(NUTS)"
   ]
  },
  {
   "cell_type": "code",
   "execution_count": 3,
   "metadata": {},
   "outputs": [],
   "source": [
    "def percentage_missing(time_series):\n",
    "    \"\"\"\n",
    "    Calculate the percentage of missing values in a time series between the first and last non-NaN value.\n",
    "    Args:\n",
    "        time_series (np.ndarray): Time series with NaN values.\n",
    "    Returns:\n",
    "        percentage_missing (float): Percentage of missing values.\n",
    "    \"\"\"\n",
    "    # Drop rows with NaN values before the first non-NaN value and after the last non-NaN value\n",
    "    first_valid_index = np.where(~np.isnan(time_series))[0][0]\n",
    "    last_valid_index = np.where(~np.isnan(time_series))[0][-1]\n",
    "    time_series = time_series[first_valid_index:last_valid_index + 1]\n",
    "    \n",
    "    # Count the number of missing values\n",
    "    missing_values = np.sum(np.isnan(time_series))\n",
    "    \n",
    "    # Calculate the percentage of missing values\n",
    "    percentage_missing = 100 * missing_values / len(time_series)\n",
    "    \n",
    "    return percentage_missing"
   ]
  },
  {
   "cell_type": "code",
   "execution_count": 23,
   "metadata": {},
   "outputs": [
    {
     "name": "stdout",
     "output_type": "stream",
     "text": [
      "DE1\n"
     ]
    },
    {
     "name": "stderr",
     "output_type": "stream",
     "text": [
      "100%|██████████| 259/259 [00:04<00:00, 56.62it/s]\n"
     ]
    },
    {
     "name": "stdout",
     "output_type": "stream",
     "text": [
      "There were 17 warnings (missing data files).\n",
      "DE2\n"
     ]
    },
    {
     "name": "stderr",
     "output_type": "stream",
     "text": [
      "100%|██████████| 540/540 [00:11<00:00, 48.60it/s]\n"
     ]
    },
    {
     "name": "stdout",
     "output_type": "stream",
     "text": [
      "There were 42 warnings (missing data files).\n",
      "DE3\n"
     ]
    },
    {
     "name": "stderr",
     "output_type": "stream",
     "text": [
      "0it [00:00, ?it/s]\n"
     ]
    },
    {
     "name": "stdout",
     "output_type": "stream",
     "text": [
      "DE4\n"
     ]
    },
    {
     "name": "stderr",
     "output_type": "stream",
     "text": [
      "100%|██████████| 382/382 [00:04<00:00, 78.07it/s] \n"
     ]
    },
    {
     "name": "stdout",
     "output_type": "stream",
     "text": [
      "There were 247 warnings (missing data files).\n",
      "DE5\n"
     ]
    },
    {
     "name": "stderr",
     "output_type": "stream",
     "text": [
      "0it [00:00, ?it/s]\n"
     ]
    },
    {
     "name": "stdout",
     "output_type": "stream",
     "text": [
      "DE6\n"
     ]
    },
    {
     "name": "stderr",
     "output_type": "stream",
     "text": [
      "0it [00:00, ?it/s]\n"
     ]
    },
    {
     "name": "stdout",
     "output_type": "stream",
     "text": [
      "DE7\n"
     ]
    },
    {
     "name": "stderr",
     "output_type": "stream",
     "text": [
      "100%|██████████| 97/97 [00:01<00:00, 51.73it/s]\n"
     ]
    },
    {
     "name": "stdout",
     "output_type": "stream",
     "text": [
      "DE8\n"
     ]
    },
    {
     "name": "stderr",
     "output_type": "stream",
     "text": [
      "100%|██████████| 235/235 [00:03<00:00, 78.27it/s]\n"
     ]
    },
    {
     "name": "stdout",
     "output_type": "stream",
     "text": [
      "There were 19 warnings (missing data files).\n",
      "DE9\n"
     ]
    },
    {
     "name": "stderr",
     "output_type": "stream",
     "text": [
      "100%|██████████| 282/282 [00:04<00:00, 68.20it/s]\n"
     ]
    },
    {
     "name": "stdout",
     "output_type": "stream",
     "text": [
      "There were 282 warnings (missing data files).\n",
      "DEA\n"
     ]
    },
    {
     "name": "stderr",
     "output_type": "stream",
     "text": [
      "100%|██████████| 437/437 [00:05<00:00, 80.19it/s] \n"
     ]
    },
    {
     "name": "stdout",
     "output_type": "stream",
     "text": [
      "There were 210 warnings (missing data files).\n",
      "DEB\n"
     ]
    },
    {
     "name": "stderr",
     "output_type": "stream",
     "text": [
      "0it [00:00, ?it/s]\n"
     ]
    },
    {
     "name": "stdout",
     "output_type": "stream",
     "text": [
      "DEC\n"
     ]
    },
    {
     "name": "stderr",
     "output_type": "stream",
     "text": [
      "100%|██████████| 56/56 [00:00<00:00, 68.37it/s]\n"
     ]
    },
    {
     "name": "stdout",
     "output_type": "stream",
     "text": [
      "There were 10 warnings (missing data files).\n",
      "DED\n"
     ]
    },
    {
     "name": "stderr",
     "output_type": "stream",
     "text": [
      "100%|██████████| 282/282 [00:04<00:00, 69.55it/s]\n"
     ]
    },
    {
     "name": "stdout",
     "output_type": "stream",
     "text": [
      "There were 31 warnings (missing data files).\n",
      "DEE\n"
     ]
    },
    {
     "name": "stderr",
     "output_type": "stream",
     "text": [
      "100%|██████████| 252/252 [00:03<00:00, 71.94it/s] \n"
     ]
    },
    {
     "name": "stdout",
     "output_type": "stream",
     "text": [
      "There were 80 warnings (missing data files).\n",
      "DEF\n"
     ]
    },
    {
     "name": "stderr",
     "output_type": "stream",
     "text": [
      "100%|██████████| 775/775 [00:05<00:00, 132.61it/s]\n"
     ]
    },
    {
     "name": "stdout",
     "output_type": "stream",
     "text": [
      "There were 775 warnings (missing data files).\n",
      "DEG\n"
     ]
    },
    {
     "name": "stderr",
     "output_type": "stream",
     "text": [
      "100%|██████████| 63/63 [00:01<00:00, 44.56it/s]"
     ]
    },
    {
     "name": "stdout",
     "output_type": "stream",
     "text": [
      "There were 8 warnings (missing data files).\n"
     ]
    },
    {
     "name": "stderr",
     "output_type": "stream",
     "text": [
      "\n"
     ]
    },
    {
     "data": {
      "text/html": [
       "<div>\n",
       "<style scoped>\n",
       "    .dataframe tbody tr th:only-of-type {\n",
       "        vertical-align: middle;\n",
       "    }\n",
       "\n",
       "    .dataframe tbody tr th {\n",
       "        vertical-align: top;\n",
       "    }\n",
       "\n",
       "    .dataframe thead th {\n",
       "        text-align: right;\n",
       "    }\n",
       "</style>\n",
       "<table border=\"1\" class=\"dataframe\">\n",
       "  <thead>\n",
       "    <tr style=\"text-align: right;\">\n",
       "      <th></th>\n",
       "      <th>camels_id</th>\n",
       "      <th>provider_id</th>\n",
       "      <th>camels_path</th>\n",
       "      <th>nuts_lvl2</th>\n",
       "      <th>federal_state</th>\n",
       "      <th>area</th>\n",
       "      <th>x</th>\n",
       "      <th>y</th>\n",
       "      <th>q_count</th>\n",
       "      <th>w_count</th>\n",
       "      <th>q_gaps</th>\n",
       "      <th>p_gaps</th>\n",
       "    </tr>\n",
       "  </thead>\n",
       "  <tbody>\n",
       "    <tr>\n",
       "      <th>0</th>\n",
       "      <td>DEG10000</td>\n",
       "      <td>573000</td>\n",
       "      <td>./DEG/DEG10000/DEG10000_data.csv</td>\n",
       "      <td>DEG</td>\n",
       "      <td>Thüringen</td>\n",
       "      <td>182.7</td>\n",
       "      <td>4.352221e+06</td>\n",
       "      <td>3124617.000</td>\n",
       "      <td>29646.0</td>\n",
       "      <td>29646.0</td>\n",
       "      <td>6.159347</td>\n",
       "      <td>0.000000</td>\n",
       "    </tr>\n",
       "    <tr>\n",
       "      <th>1</th>\n",
       "      <td>DEG10010</td>\n",
       "      <td>447000</td>\n",
       "      <td>./DEG/DEG10010/DEG10010_data.csv</td>\n",
       "      <td>DEG</td>\n",
       "      <td>Thüringen</td>\n",
       "      <td>275.0</td>\n",
       "      <td>4.318941e+06</td>\n",
       "      <td>3140875.000</td>\n",
       "      <td>0.0</td>\n",
       "      <td>0.0</td>\n",
       "      <td>1.000000</td>\n",
       "      <td>1.000000</td>\n",
       "    </tr>\n",
       "    <tr>\n",
       "      <th>2</th>\n",
       "      <td>DEG10020</td>\n",
       "      <td>574200</td>\n",
       "      <td>./DEG/DEG10020/DEG10020_data.csv</td>\n",
       "      <td>DEG</td>\n",
       "      <td>Thüringen</td>\n",
       "      <td>174.7</td>\n",
       "      <td>4.386764e+06</td>\n",
       "      <td>3077926.000</td>\n",
       "      <td>35490.0</td>\n",
       "      <td>35490.0</td>\n",
       "      <td>4.116653</td>\n",
       "      <td>0.000000</td>\n",
       "    </tr>\n",
       "    <tr>\n",
       "      <th>3</th>\n",
       "      <td>DEG10030</td>\n",
       "      <td>576500</td>\n",
       "      <td>./DEG/DEG10030/DEG10030_data.csv</td>\n",
       "      <td>DEG</td>\n",
       "      <td>Thüringen</td>\n",
       "      <td>1383.0</td>\n",
       "      <td>4.473276e+06</td>\n",
       "      <td>3073272.000</td>\n",
       "      <td>12845.0</td>\n",
       "      <td>12845.0</td>\n",
       "      <td>9.618763</td>\n",
       "      <td>8.758272</td>\n",
       "    </tr>\n",
       "    <tr>\n",
       "      <th>4</th>\n",
       "      <td>DEG10040</td>\n",
       "      <td>570210</td>\n",
       "      <td>./DEG/DEG10040/DEG10040_data.csv</td>\n",
       "      <td>DEG</td>\n",
       "      <td>Thüringen</td>\n",
       "      <td>1013.0</td>\n",
       "      <td>4.442190e+06</td>\n",
       "      <td>3033884.000</td>\n",
       "      <td>21246.0</td>\n",
       "      <td>21246.0</td>\n",
       "      <td>0.000000</td>\n",
       "      <td>3.522350</td>\n",
       "    </tr>\n",
       "    <tr>\n",
       "      <th>...</th>\n",
       "      <td>...</td>\n",
       "      <td>...</td>\n",
       "      <td>...</td>\n",
       "      <td>...</td>\n",
       "      <td>...</td>\n",
       "      <td>...</td>\n",
       "      <td>...</td>\n",
       "      <td>...</td>\n",
       "      <td>...</td>\n",
       "      <td>...</td>\n",
       "      <td>...</td>\n",
       "      <td>...</td>\n",
       "    </tr>\n",
       "    <tr>\n",
       "      <th>3655</th>\n",
       "      <td>DE215350</td>\n",
       "      <td>56113404</td>\n",
       "      <td>./DE2/DE215350/DE215350_data.csv</td>\n",
       "      <td>DE2</td>\n",
       "      <td>Bayern</td>\n",
       "      <td>8.2</td>\n",
       "      <td>4.456659e+06</td>\n",
       "      <td>3009715.476</td>\n",
       "      <td>16497.0</td>\n",
       "      <td>16497.0</td>\n",
       "      <td>0.000000</td>\n",
       "      <td>0.000000</td>\n",
       "    </tr>\n",
       "    <tr>\n",
       "      <th>3656</th>\n",
       "      <td>DE215360</td>\n",
       "      <td>56114000</td>\n",
       "      <td>./DE2/DE215360/DE215360_data.csv</td>\n",
       "      <td>DE2</td>\n",
       "      <td>Bayern</td>\n",
       "      <td>14.1</td>\n",
       "      <td>4.457008e+06</td>\n",
       "      <td>3011664.641</td>\n",
       "      <td>20880.0</td>\n",
       "      <td>20880.0</td>\n",
       "      <td>0.000000</td>\n",
       "      <td>0.000000</td>\n",
       "    </tr>\n",
       "    <tr>\n",
       "      <th>3657</th>\n",
       "      <td>DE215370</td>\n",
       "      <td>56122008</td>\n",
       "      <td>./DE2/DE215370/DE215370_data.csv</td>\n",
       "      <td>DE2</td>\n",
       "      <td>Bayern</td>\n",
       "      <td>84.3</td>\n",
       "      <td>4.465052e+06</td>\n",
       "      <td>3016792.655</td>\n",
       "      <td>23072.0</td>\n",
       "      <td>23072.0</td>\n",
       "      <td>0.000000</td>\n",
       "      <td>0.000000</td>\n",
       "    </tr>\n",
       "    <tr>\n",
       "      <th>3658</th>\n",
       "      <td>DE215380</td>\n",
       "      <td>56143008</td>\n",
       "      <td>./DE2/DE215380/DE215380_data.csv</td>\n",
       "      <td>DE2</td>\n",
       "      <td>Bayern</td>\n",
       "      <td>92.4</td>\n",
       "      <td>4.462157e+06</td>\n",
       "      <td>3021202.262</td>\n",
       "      <td>23440.0</td>\n",
       "      <td>23440.0</td>\n",
       "      <td>0.000000</td>\n",
       "      <td>0.000000</td>\n",
       "    </tr>\n",
       "    <tr>\n",
       "      <th>3659</th>\n",
       "      <td>DE215390</td>\n",
       "      <td>56161509</td>\n",
       "      <td>./DE2/DE215390/DE215390_data.csv</td>\n",
       "      <td>DE2</td>\n",
       "      <td>Bayern</td>\n",
       "      <td>213.5</td>\n",
       "      <td>4.441310e+06</td>\n",
       "      <td>3029779.212</td>\n",
       "      <td>27090.0</td>\n",
       "      <td>27090.0</td>\n",
       "      <td>0.000000</td>\n",
       "      <td>0.000000</td>\n",
       "    </tr>\n",
       "  </tbody>\n",
       "</table>\n",
       "<p>3660 rows × 12 columns</p>\n",
       "</div>"
      ],
      "text/plain": [
       "     camels_id provider_id                       camels_path nuts_lvl2  \\\n",
       "0     DEG10000      573000  ./DEG/DEG10000/DEG10000_data.csv       DEG   \n",
       "1     DEG10010      447000  ./DEG/DEG10010/DEG10010_data.csv       DEG   \n",
       "2     DEG10020      574200  ./DEG/DEG10020/DEG10020_data.csv       DEG   \n",
       "3     DEG10030      576500  ./DEG/DEG10030/DEG10030_data.csv       DEG   \n",
       "4     DEG10040      570210  ./DEG/DEG10040/DEG10040_data.csv       DEG   \n",
       "...        ...         ...                               ...       ...   \n",
       "3655  DE215350    56113404  ./DE2/DE215350/DE215350_data.csv       DE2   \n",
       "3656  DE215360    56114000  ./DE2/DE215360/DE215360_data.csv       DE2   \n",
       "3657  DE215370    56122008  ./DE2/DE215370/DE215370_data.csv       DE2   \n",
       "3658  DE215380    56143008  ./DE2/DE215380/DE215380_data.csv       DE2   \n",
       "3659  DE215390    56161509  ./DE2/DE215390/DE215390_data.csv       DE2   \n",
       "\n",
       "     federal_state    area             x            y  q_count  w_count  \\\n",
       "0        Thüringen   182.7  4.352221e+06  3124617.000  29646.0  29646.0   \n",
       "1        Thüringen   275.0  4.318941e+06  3140875.000      0.0      0.0   \n",
       "2        Thüringen   174.7  4.386764e+06  3077926.000  35490.0  35490.0   \n",
       "3        Thüringen  1383.0  4.473276e+06  3073272.000  12845.0  12845.0   \n",
       "4        Thüringen  1013.0  4.442190e+06  3033884.000  21246.0  21246.0   \n",
       "...            ...     ...           ...          ...      ...      ...   \n",
       "3655        Bayern     8.2  4.456659e+06  3009715.476  16497.0  16497.0   \n",
       "3656        Bayern    14.1  4.457008e+06  3011664.641  20880.0  20880.0   \n",
       "3657        Bayern    84.3  4.465052e+06  3016792.655  23072.0  23072.0   \n",
       "3658        Bayern    92.4  4.462157e+06  3021202.262  23440.0  23440.0   \n",
       "3659        Bayern   213.5  4.441310e+06  3029779.212  27090.0  27090.0   \n",
       "\n",
       "        q_gaps    p_gaps  \n",
       "0     6.159347  0.000000  \n",
       "1     1.000000  1.000000  \n",
       "2     4.116653  0.000000  \n",
       "3     9.618763  8.758272  \n",
       "4     0.000000  3.522350  \n",
       "...        ...       ...  \n",
       "3655  0.000000  0.000000  \n",
       "3656  0.000000  0.000000  \n",
       "3657  0.000000  0.000000  \n",
       "3658  0.000000  0.000000  \n",
       "3659  0.000000  0.000000  \n",
       "\n",
       "[3660 rows x 12 columns]"
      ]
     },
     "execution_count": 23,
     "metadata": {},
     "output_type": "execute_result"
    }
   ],
   "source": [
    "for NUTS in util._NUTS_LVL2_NAMES.keys():\n",
    "    print(NUTS)  \n",
    "    # process this federal state\n",
    "    with Bundesland(NUTS) as bl:   \n",
    "         # get meta\n",
    "        meta = bl.metadata\n",
    "\n",
    "        # go for each id\n",
    "        q_gaps = []\n",
    "        w_gaps = []\n",
    "        with warnings.catch_warnings(record=True) as warn:\n",
    "            for camels_id in tqdm(meta.camels_id.values):\n",
    "                problem_encountered = False\n",
    "\n",
    "                # load data\n",
    "                try:\n",
    "                    data = bl.get_data(camels_id)\n",
    "                except Exception as e:\n",
    "                    warnings.warn(f\"{camels_id};{type(e)};{str(e)}\")\n",
    "                    q_gaps.append(100)\n",
    "                    w_gaps.append(100)\n",
    "                    continue\n",
    "                \n",
    "                # is file empty\n",
    "                if data.empty:\n",
    "                    warnings.warn(f\"{camels_id};EmptyFile;The data file is empty.\")\n",
    "                    q_gaps.append(100)\n",
    "                    w_gaps.append(100)\n",
    "                    continue\n",
    "                \n",
    "                # duplicates ? \n",
    "                if data.index.duplicated().any():\n",
    "                    warnings.warn(f\"{camels_id};DuplicatedIndex;The data file has index duplicates.\")\n",
    "                    q_gaps.append(100)\n",
    "                    w_gaps.append(100)\n",
    "                    continue\n",
    "                \n",
    "                # go for q\n",
    "                try:\n",
    "                    q_missing = percentage_missing(data.q.values)\n",
    "                    q_gaps.append(q_missing)\n",
    "                except Exception as e:\n",
    "                    warnings.warn(f\"{camels_id};{type(e)};{str(e)}\")\n",
    "                    q_gaps.append(100)\n",
    "                \n",
    "                # go for w\n",
    "                try:\n",
    "                    w_missing = percentage_missing(data.w.values)\n",
    "                    w_gaps.append(w_missing)\n",
    "                except Exception as e:\n",
    "                    warnings.warn(f\"{camels_id};{type(e)};{str(e)}\")\n",
    "                    w_gaps.append(100)\n",
    "\n",
    "            # all collected, return now\n",
    "            gaps = pd.DataFrame({'camels_id': meta.camels_id.values, 'q_gaps': q_gaps, 'p_gaps': w_gaps})\n",
    "            # update\n",
    "\n",
    "            # update\n",
    "            bl.update_metadata(gaps)\n",
    "\n",
    "            if len(warn) > 0:\n",
    "                bl.save_warnings(warns=warn, posfix='_gaps')\n",
    "                print(f\"There were {len(warn)} warnings (missing data files).\")\n",
    "\n",
    "\n",
    "metadata = util.get_metadata()\n",
    "metadata"
   ]
  },
  {
   "cell_type": "code",
   "execution_count": 22,
   "metadata": {},
   "outputs": [
    {
     "data": {
      "text/plain": [
       "233"
      ]
     },
     "execution_count": 22,
     "metadata": {},
     "output_type": "execute_result"
    }
   ],
   "source": [
    "len(q_gaps)"
   ]
  }
 ],
 "metadata": {
  "kernelspec": {
   "display_name": "base",
   "language": "python",
   "name": "python3"
  },
  "language_info": {
   "codemirror_mode": {
    "name": "ipython",
    "version": 3
   },
   "file_extension": ".py",
   "mimetype": "text/x-python",
   "name": "python",
   "nbconvert_exporter": "python",
   "pygments_lexer": "ipython3",
   "version": "3.9.13"
  },
  "orig_nbformat": 4,
  "vscode": {
   "interpreter": {
    "hash": "f54d8176e82297fa872ac8c77277e50c0e193f921954c1c4a0b1ae2e8be99b71"
   }
  }
 },
 "nbformat": 4,
 "nbformat_minor": 2
}
