{
 "cells": [
  {
   "attachments": {},
   "cell_type": "markdown",
   "metadata": {},
   "source": [
    "# Niedersachsen\n",
    "\n",
    "Every federal state is represented by its own input directory and is processed into a NUTS level 2 directory containing a sub-folder for each discharge location. These folder names are derived from NUTS and reflect the CAMELS id. The NUTS level 2 code for Niedersachsen is `DE9`.\n",
    "\n",
    "To pre-process the data, you need to write (at least) two functions. One should extract all metadata and condense it into a single `pandas.DataFrame`. This is used to build the folder structure and derive the ids.\n",
    "The second function has to take an id, as provided by the state authorities, called `provider_id` and return a `pandas.DataFrame` with the transformed data. The dataframe needs the three columns `['date', 'q' | 'w', 'flag']`.\n",
    "\n",
    "For easier and unified output handling, the `camelsp` package contains a context object called `Bundesland`. It takes a number of names and abbreviations to identify the correct federal state and returns an object that holds helper and save functions.\n",
    "\n",
    "The context saves files as needed and can easily be changed to save files with different strategies, ie. fill missing data with NaN, merge data into a single file, create files for each variable or pack everything together into a netcdf."
   ]
  },
  {
   "cell_type": "code",
   "execution_count": null,
   "metadata": {},
   "outputs": [],
   "source": [
    "import pandas as pd\n",
    "import numpy as np\n",
    "import os\n",
    "from tqdm import tqdm\n",
    "from typing import Union, Dict, List\n",
    "from datetime import datetime as dt\n",
    "from dateparser import parse\n",
    "import warnings\n",
    "\n",
    "from camelsp import Bundesland"
   ]
  },
  {
   "cell_type": "markdown",
   "metadata": {},
   "source": [
    "The context can also be instantiated as any regular Python class, ie. to load only the default input data path, that we will user later."
   ]
  },
  {
   "cell_type": "code",
   "execution_count": null,
   "metadata": {},
   "outputs": [],
   "source": [
    "# the context also makes the input path available, if camelsp was install locally\n",
    "BASE = Bundesland('niedersachsen').input_path\n",
    "BASE"
   ]
  },
  {
   "attachments": {},
   "cell_type": "markdown",
   "metadata": {},
   "source": [
    "## Parse data\n",
    "\n",
    "Niedersachen produced only one file. I guess this needs to be pivoted."
   ]
  },
  {
   "cell_type": "code",
   "execution_count": null,
   "metadata": {},
   "outputs": [],
   "source": [
    "raw = pd.read_csv(os.path.join(BASE, 'exp-peg-par252.csv'), encoding='latin1', sep=';', decimal=',')\n",
    "raw"
   ]
  },
  {
   "cell_type": "code",
   "execution_count": null,
   "metadata": {},
   "outputs": [],
   "source": [
    "# id column is MESSSTELLE_NR\n",
    "id_column = 'MESSSTELLE_NR'"
   ]
  },
  {
   "cell_type": "code",
   "execution_count": null,
   "metadata": {},
   "outputs": [],
   "source": [
    "# How many different variables are there?\n",
    "names = []\n",
    "for _, df in raw.groupby(id_column):\n",
    "    names.extend(df.BEZEICHNUNG.unique().tolist())\n",
    "set(names)"
   ]
  },
  {
   "cell_type": "code",
   "execution_count": null,
   "metadata": {},
   "outputs": [],
   "source": [
    "# total messstellen\n",
    "N = len(raw.groupby(id_column))\n",
    "print(f\"Messstellen: {N}\")"
   ]
  },
  {
   "attachments": {},
   "cell_type": "markdown",
   "metadata": {},
   "source": [
    "New create a list of collected 'metadata' and the actual discharge data. \n",
    "\n",
    "Extract  all metadata for this federal state, without using the `Bundesland` context and then later use the context to pass extracted metadata. The Context has a function for saving *raw* metadata, that takes a `pandas.DataFrame` and needs you to identify the id column.\n",
    "Here, *raw* refers to provider metadata, that has not yet been transformed into the CAMELS-de Metadata schema."
   ]
  },
  {
   "cell_type": "code",
   "execution_count": null,
   "metadata": {},
   "outputs": [],
   "source": [
    "# result container\n",
    "meta = []\n",
    "data = []\n",
    "\n",
    "# group by id\n",
    "N = len(raw.groupby(id_column))\n",
    "\n",
    "# go for it\n",
    "for nr, df in tqdm(raw.groupby(id_column)):\n",
    "    meta.append({\n",
    "        id_column: str(nr),\n",
    "        'BEZEICHNUNG': df.BEZEICHNUNG.unique().tolist(),\n",
    "        'EINHEIT': df.EINHEIT.unique().tolist(),\n",
    "        'LANGNAME': df.LANGNAME.unique().tolist(),\n",
    "        'KENNUNG_ID': df.KENNUNG_ID.unique().tolist()\n",
    "    })\n",
    "    data.append(pd.DataFrame({\n",
    "        'date': [d.date() if isinstance(d, dt) else parse(d) for d in df.DATUM],\n",
    "        'q': df.WERT,\n",
    "        'flag': np.NaN\n",
    "    }))\n",
    "\n",
    "print(f\"Extracted {len(data)} timeseries\")\n",
    "        "
   ]
  },
  {
   "attachments": {},
   "cell_type": "markdown",
   "metadata": {},
   "source": [
    "### metadata\n",
    "\n",
    "Ok, let's get really wild. Check that the code above produced only lists of 1 unique value per group. Otherwise the metadata would change over time for the same Messstelle and that would be a problem"
   ]
  },
  {
   "cell_type": "code",
   "execution_count": null,
   "metadata": {},
   "outputs": [],
   "source": [
    "def tidy_metadata(meta: List[dict]) -> pd.DataFrame:\n",
    "    pmeta = []\n",
    "    for i, m in enumerate(meta):\n",
    "        out = {}\n",
    "        for k, v in m.items():\n",
    "            if isinstance(v, list):\n",
    "                if len(v) == 1:\n",
    "                    out[k] = v[0]\n",
    "                else:\n",
    "                    warnings.warn(f\"Line {i + 1}: More than one value found for {k}: [{', '.join(v)}]\")\n",
    "            else:\n",
    "                out[k] = v\n",
    "        pmeta.append(out)\n",
    "    return pd.DataFrame(pmeta)\n"
   ]
  },
  {
   "cell_type": "markdown",
   "metadata": {},
   "source": [
    "### Finally run\n",
    "\n",
    "Now, the Q and W data can be extracted along with the metadata. The cool thing is, that all the id creation, data creation, merging and the mapping from our ids to the original ids and files is done by the context. This is helpful, as we less likely screw something up."
   ]
  },
  {
   "cell_type": "code",
   "execution_count": null,
   "metadata": {},
   "outputs": [],
   "source": [
    "with Bundesland('Niedersachsen') as bl:\n",
    "    # catch warnings\n",
    "    with warnings.catch_warnings(record=True) as warns:\n",
    "        # tidy the metadata\n",
    "        metadata = tidy_metadata(meta)\n",
    "\n",
    "        # save the metadata\n",
    "        bl.save_raw_metadata(metadata, id_column, overwrite=True)\n",
    "\n",
    "        # for reference, call the nuts-mapping as table\n",
    "        nuts_map = bl.nuts_table\n",
    "        print(nuts_map.head())\n",
    "    \n",
    "        # go for all ids\n",
    "        for meta, df in tqdm(zip(meta, data), total=N):\n",
    "            # get the id\n",
    "            provider_id = meta[id_column]\n",
    "\n",
    "            # save\n",
    "            bl.save_timeseries(df, provider_id)\n",
    "        \n",
    "        # check if there were warnings (there are warnings)\n",
    "        if len(warns) > 0:\n",
    "            log_path = bl.save_warnings(warns)\n",
    "            print(f\"There were warnings during the processing. The log can be found at: {log_path}\")\n"
   ]
  }
 ],
 "metadata": {
  "kernelspec": {
   "display_name": "base",
   "language": "python",
   "name": "python3"
  },
  "language_info": {
   "codemirror_mode": {
    "name": "ipython",
    "version": 3
   },
   "file_extension": ".py",
   "mimetype": "text/x-python",
   "name": "python",
   "nbconvert_exporter": "python",
   "pygments_lexer": "ipython3",
   "version": "3.9.13"
  },
  "orig_nbformat": 4,
  "vscode": {
   "interpreter": {
    "hash": "f54d8176e82297fa872ac8c77277e50c0e193f921954c1c4a0b1ae2e8be99b71"
   }
  }
 },
 "nbformat": 4,
 "nbformat_minor": 2
}
