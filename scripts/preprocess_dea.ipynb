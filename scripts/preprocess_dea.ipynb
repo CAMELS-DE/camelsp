{
 "cells": [
  {
   "attachments": {},
   "cell_type": "markdown",
   "metadata": {},
   "source": [
    "# Nordrhein-Westfalen\n",
    "\n",
    "Every federal state is represented by its own input directory and is processed into a NUTS level 2 directory containing a sub-folder for each discharge location. These folder names are derived from NUTS and reflect the CAMELS id. The NUTS level 2 code for Nordrhein-Westfalen is `DEA`.\n",
    "\n",
    "To pre-process the data, you need to write (at least) two functions. One should extract all metadata and condense it into a single `pandas.DataFrame`. This is used to build the folder structure and derive the ids.\n",
    "The second function has to take an id, as provided by the state authorities, called `provider_id` and return a `pandas.DataFrame` with the transformed data. The dataframe needs the three columns `['date', 'q' | 'w', 'flag']`.\n",
    "\n",
    "For easier and unified output handling, the `camelsp` package contains a context object called `Bundesland`. It takes a number of names and abbreviations to identify the correct federal state and returns an object that holds helper and save functions.\n",
    "\n",
    "The context saves files as needed and can easily be changed to save files with different strategies, ie. fill missing data with NaN, merge data into a single file, create files for each variable or pack everything together into a netcdf."
   ]
  },
  {
   "cell_type": "code",
   "execution_count": null,
   "metadata": {},
   "outputs": [],
   "source": [
    "import pandas as pd\n",
    "import numpy as np\n",
    "from pandas.errors import ParserError\n",
    "import os\n",
    "from pprint import pprint\n",
    "from tqdm import tqdm\n",
    "from typing import Union, Dict\n",
    "from glob import glob\n",
    "from datetime import datetime as dt\n",
    "from dateparser import parse\n",
    "import warnings\n",
    "from io import StringIO\n",
    "\n",
    "from camelsp import Bundesland"
   ]
  },
  {
   "cell_type": "markdown",
   "metadata": {},
   "source": [
    "The context can also be instantiated as any regular Python class, ie. to load only the default input data path, that we will user later."
   ]
  },
  {
   "cell_type": "code",
   "execution_count": null,
   "metadata": {},
   "outputs": [],
   "source": [
    "# the context also makes the input path available, if camelsp was install locally\n",
    "BASE = Bundesland('NRW').input_path\n",
    "BASE"
   ]
  },
  {
   "cell_type": "markdown",
   "metadata": {},
   "source": [
    "### Metadata reader\n",
    "\n",
    "Define the function that extracts / reads and eventually merges all metadata for this federal state. You can develop the function here, without using the Bundesland context and then later use the context to pass extracted metadata. The Context has a function for saving *raw* metadata, that takes a `pandas.DataFrame` and needs you to identify the id column.\n",
    "Here, *raw* refers to provider metadata, that has not yet been transformed into the CAMELS-de Metadata schema."
   ]
  },
  {
   "cell_type": "code",
   "execution_count": null,
   "metadata": {},
   "outputs": [],
   "source": [
    "# define the function \n",
    "def read_meta(base_path) -> pd.DataFrame:\n",
    "    path = os.path.join(base_path, 'Stammdaten_CAMELS.xlsx')\n",
    "    meta = pd.read_excel(path)\n",
    "    return meta\n",
    "\n",
    "# test it here\n",
    "stamm = read_meta(BASE)\n",
    "\n",
    "stamm"
   ]
  },
  {
   "cell_type": "code",
   "execution_count": null,
   "metadata": {},
   "outputs": [],
   "source": [
    "# the id column will be ORT\n",
    "id_column = 'ORT'"
   ]
  },
  {
   "attachments": {},
   "cell_type": "markdown",
   "metadata": {},
   "source": [
    "## file extract and parse\n",
    "\n",
    "Here, we need to process the filename as the `'Ort'` is contained in the filename. Looks like the metadata header is **always** to line 32, indicating a finished header by `YTYP;`. Verify this."
   ]
  },
  {
   "cell_type": "code",
   "execution_count": null,
   "metadata": {},
   "outputs": [],
   "source": [
    "for fname in glob(os.path.join(BASE, 'Datenanfrage_CAMELS_*')):\n",
    "    df = pd.read_csv(fname, encoding='latin1', sep=';', usecols=[0,1], nrows=32, header=None)\n",
    "    if df.iloc[31, 0] != 'YTYP':\n",
    "        print(fname)\n"
   ]
  },
  {
   "attachments": {},
   "cell_type": "markdown",
   "metadata": {},
   "source": [
    "That's will make our lifes way easier. Now go for all:"
   ]
  },
  {
   "cell_type": "code",
   "execution_count": null,
   "metadata": {},
   "outputs": [],
   "source": [
    "# get all file names\n",
    "filelist = glob(os.path.join(BASE, 'Datenanfrage_CAMELS_*'))\n",
    "\n",
    "# container for meta-header and dataframes\n",
    "meta = []\n",
    "data = []\n",
    "\n",
    "# go for each file\n",
    "for fname in tqdm(filelist):\n",
    "    # open\n",
    "    with open(fname, 'rb') as f:\n",
    "        txt = f.read().decode('latin1')\n",
    "    \n",
    "    # split header\n",
    "    header = txt.splitlines()[:32]\n",
    "    \n",
    "    # build the meta by hand\n",
    "    tups = [l.split(';') for l in header[:-1]]\n",
    "    meta_dict = {t[0]: t[1] for t in tups}\n",
    "\n",
    "    # check the parameter\n",
    "    if meta_dict['Parameter'] == 'Wasserstand':\n",
    "        variable = 'w'\n",
    "    elif meta_dict['Parameter'] == 'Abfluss':\n",
    "        variable = 'q'\n",
    "    else:\n",
    "        raise RuntimeError(f\"Unknown Parameter: {meta_dict['Parameter']}\")\n",
    "\n",
    "    meta.append(meta_dict)\n",
    "    \n",
    "    # now get the body\n",
    "    body = txt.splitlines()[32:]\n",
    "\n",
    "    # now this stupid check\n",
    "    second_header = [i for i, l in enumerate(body) if l.startswith('Station')]\n",
    "    if len(second_header) > 0:\n",
    "        # THERE IS A SECOND HEADER IN THE FILE !!!! come on!\n",
    "        body = body[:second_header[0]]\n",
    "    \n",
    "    # write to buffer\n",
    "    buffer = StringIO('\\n'.join(body))\n",
    "    buffer.seek(0)\n",
    "    \n",
    "    # read from memory\n",
    "    df_data = pd.read_csv(buffer, sep=';', usecols=[0,1], skiprows=32, decimal=',', header=None, na_values='LUECKE', parse_dates=[0])\n",
    "    \n",
    "    df_data.columns = ['date', variable]\n",
    "    df_data['flag'] = np.NaN\n",
    "    \n",
    "    # append\n",
    "    data.append(df_data)\n",
    "    \n",
    "    \n",
    "print(f\"Parsed {len(meta)} metadata headers and {len(data)} data files\")"
   ]
  },
  {
   "attachments": {},
   "cell_type": "markdown",
   "metadata": {},
   "source": [
    "That was really stupid. Ok. Check the metadata from the data files:"
   ]
  },
  {
   "cell_type": "code",
   "execution_count": null,
   "metadata": {},
   "outputs": [],
   "source": [
    "extra = pd.DataFrame(meta).drop('Gewässer', axis=1)\n",
    "extra"
   ]
  },
  {
   "attachments": {},
   "cell_type": "markdown",
   "metadata": {},
   "source": [
    "Now we have to left-join the data, as each Stationsnummer exists twice. Thus, it is only the combination of Stationsnummer and variable, that makes the data unique"
   ]
  },
  {
   "cell_type": "code",
   "execution_count": null,
   "metadata": {},
   "outputs": [],
   "source": [
    "metadata = extra.drop('KOMMENTAR', axis=1).join(stamm.set_index(stamm.ORT.astype(str)), on='Stationsnummer', how='left')\n",
    "metadata"
   ]
  },
  {
   "cell_type": "code",
   "execution_count": null,
   "metadata": {},
   "outputs": [],
   "source": [
    "# build and id column\n",
    "metadata['ID'] = metadata.apply(lambda r: r.Stationsnummer + '_' + r.Parameter, axis=1)\n",
    "\n",
    "id_column = 'ID'"
   ]
  },
  {
   "cell_type": "markdown",
   "metadata": {},
   "source": [
    "### Finally run\n",
    "\n",
    "Now, the Q and W data can be extracted. The cool thing is, that all the id creation, data creation, merging and the mapping from our ids to the original ids and files is done by the context. This is helpful, as we less likely screw something up."
   ]
  },
  {
   "cell_type": "code",
   "execution_count": null,
   "metadata": {},
   "outputs": [],
   "source": [
    "with Bundesland('NRW') as bl:\n",
    "    # save the metadata\n",
    "    bl.save_raw_metadata(metadata, 'Stationsnummer', overwrite=True)\n",
    "\n",
    "    # for reference, call the nuts-mapping as table\n",
    "    nuts_map = bl.nuts_table\n",
    "    print(nuts_map.head())\n",
    "\n",
    "    \n",
    "    with warnings.catch_warnings(record=True) as warns:\n",
    "        for m, df in tqdm(zip(meta, data), total=len(meta)):\n",
    "            # check the meta\n",
    "            provider_id = str(m['Stationsnummer'])\n",
    "            bl.save_timeseries(df, provider_id)\n",
    "\n",
    "        # check if there were warnings (there are warnings)\n",
    "        if len(warns) > 0:\n",
    "            log_path = bl.save_warnings(warns)\n",
    "            print(f\"There were warnings during the processing. The log can be found at: {log_path}\")\n"
   ]
  }
 ],
 "metadata": {
  "kernelspec": {
   "display_name": "base",
   "language": "python",
   "name": "python3"
  },
  "language_info": {
   "codemirror_mode": {
    "name": "ipython",
    "version": 3
   },
   "file_extension": ".py",
   "mimetype": "text/x-python",
   "name": "python",
   "nbconvert_exporter": "python",
   "pygments_lexer": "ipython3",
   "version": "3.9.13"
  },
  "orig_nbformat": 4,
  "vscode": {
   "interpreter": {
    "hash": "f54d8176e82297fa872ac8c77277e50c0e193f921954c1c4a0b1ae2e8be99b71"
   }
  }
 },
 "nbformat": 4,
 "nbformat_minor": 2
}
