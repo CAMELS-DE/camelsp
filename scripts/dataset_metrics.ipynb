{
 "cells": [
  {
   "cell_type": "markdown",
   "metadata": {},
   "source": [
    "# CAMELS-DE Dataset Metrics\n",
    "\n",
    "This notebook should be run, after the dataset has been processed, or changes have been made to the processing.\n",
    "It will generate a number of metrics for the dataset and store plotly JSONs for the Metrics API"
   ]
  },
  {
   "cell_type": "code",
   "execution_count": 38,
   "metadata": {},
   "outputs": [],
   "source": [
    "from camelsp import Bundesland, util\n",
    "import plotly.graph_objects as go \n",
    "from tqdm import tqdm\n",
    "import json\n",
    "import numpy as np\n",
    "from collections import defaultdict"
   ]
  },
  {
   "cell_type": "markdown",
   "metadata": {},
   "source": [
    "## Main loop\n",
    "\n",
    "Run over all datasets and calculate some stuff"
   ]
  },
  {
   "cell_type": "code",
   "execution_count": 128,
   "metadata": {},
   "outputs": [
    {
     "name": "stderr",
     "output_type": "stream",
     "text": [
      "100%|██████████| 259/259 [00:03<00:00, 76.51it/s] \n",
      "100%|██████████| 540/540 [00:08<00:00, 67.32it/s]\n",
      "0it [00:00, ?it/s]\n",
      "100%|██████████| 382/382 [00:04<00:00, 95.07it/s] \n",
      "0it [00:00, ?it/s]\n",
      "0it [00:00, ?it/s]\n",
      "100%|██████████| 97/97 [00:01<00:00, 74.21it/s]\n",
      "100%|██████████| 235/235 [00:02<00:00, 115.44it/s]\n",
      "100%|██████████| 282/282 [00:02<00:00, 102.32it/s]\n",
      "100%|██████████| 437/437 [00:03<00:00, 109.77it/s]\n",
      "0it [00:00, ?it/s]\n",
      "100%|██████████| 56/56 [00:00<00:00, 97.73it/s] \n",
      "100%|██████████| 282/282 [00:02<00:00, 95.19it/s] \n",
      "100%|██████████| 252/252 [00:02<00:00, 103.20it/s]\n",
      "100%|██████████| 775/775 [00:04<00:00, 189.89it/s]\n",
      "100%|██████████| 63/63 [00:01<00:00, 54.22it/s]\n"
     ]
    }
   ],
   "source": [
    "# container for a flag tree\n",
    "ids = [\"CAMELS-DE\"]\n",
    "labels = [\"CAMELS-DE\"]\n",
    "parents = [\"\"]\n",
    "values = [0]\n",
    "all_ = 0\n",
    "\n",
    "file_exists = []    # count existing trees\n",
    "file_nuts = []      # count label for nuts\n",
    "\n",
    "# load all metadata \n",
    "metadata = util.get_metadata()\n",
    "\n",
    "for NUTS in util._NUTS_LVL2_NAMES.keys():\n",
    "    with Bundesland(NUTS) as bl:\n",
    "        meta = bl.metadata\n",
    "\n",
    "        # container to count flags\n",
    "        w = defaultdict(lambda: 0)\n",
    "        q = defaultdict(lambda: 0)\n",
    "\n",
    "        # load all datasets\n",
    "        for camels_id in tqdm(meta.camels_id.values):\n",
    "            try:\n",
    "                df = bl.get_data(camels_id)\n",
    "                file_exists.append(True)\n",
    "            except Exception as e:\n",
    "                file_exists.append(False)\n",
    "                continue\n",
    "            # add the label for the exists flag\n",
    "            file_nuts.append(NUTS)\n",
    "            \n",
    "            # calculate for w\n",
    "            if 'w_flag' in df:\n",
    "                w['NaN'] += df.w_flag.isna().sum()\n",
    "                w['checked'] += df.w_flag.dropna().sum()\n",
    "                w['not checked'] += (~(df.w_flag.dropna().astype(bool))).sum()\n",
    "\n",
    "            # calculate for q\n",
    "            if 'q_flag' in df:\n",
    "                q['NaN'] += df.q_flag.isna().sum()\n",
    "                q['checked'] += df.q_flag.dropna().sum()\n",
    "                q['not checked'] += (~(df.q_flag.dropna().astype(bool))).sum()\n",
    "\n",
    "        # ad to container\n",
    "        name = util._NUTS_LVL2_NAMES[NUTS]\n",
    "\n",
    "        # first level + second level\n",
    "        tot_q = sum(list(q.values()))\n",
    "        tot_w = sum(list(w.values()))\n",
    "        labels.extend([name, 'discharge', 'waterlevel'])\n",
    "        ids.extend([name, f'{name}-q', f'{name}-w'])\n",
    "        parents.extend(['CAMELS-DE', name, name])\n",
    "        values.extend([tot_q + tot_w, tot_q, tot_w])\n",
    "\n",
    "        # add third level\n",
    "        for stat, short in zip([q, w], ['q', 'w']):\n",
    "            for key, count in stat.items():\n",
    "                labels.append(key)\n",
    "                ids.append(f'{name}-{short}-{key}')\n",
    "                parents.append(f'{name}-{short}')\n",
    "                values.append(count)\n",
    "\n",
    "        all_ += tot_q + tot_w\n",
    "\n",
    "# the the overall measurements\n",
    "values[0] = all_\n"
   ]
  },
  {
   "cell_type": "markdown",
   "metadata": {},
   "source": [
    "## Sunburst"
   ]
  },
  {
   "cell_type": "code",
   "execution_count": 125,
   "metadata": {},
   "outputs": [
    {
     "data": {
      "application/vnd.plotly.v1+json": {
       "config": {
        "plotlyServerURL": "https://plot.ly"
       },
       "data": [
        {
         "branchvalues": "total",
         "hoverinfo": "label+percent parent+percent root+value",
         "ids": [
          "CAMELS-DE",
          "Baden-Württemberg",
          "Baden-Württemberg-q",
          "Baden-Württemberg-w",
          "Baden-Württemberg-q-NaN",
          "Baden-Württemberg-q-checked",
          "Baden-Württemberg-q-not checked",
          "Baden-Württemberg-w-NaN",
          "Baden-Württemberg-w-checked",
          "Baden-Württemberg-w-not checked",
          "Bayern",
          "Bayern-q",
          "Bayern-w",
          "Bayern-q-NaN",
          "Bayern-q-checked",
          "Bayern-q-not checked",
          "Bayern-w-NaN",
          "Bayern-w-checked",
          "Bayern-w-not checked",
          "Berlin",
          "Berlin-q",
          "Berlin-w",
          "Brandenburg",
          "Brandenburg-q",
          "Brandenburg-w",
          "Brandenburg-q-NaN",
          "Brandenburg-q-checked",
          "Brandenburg-q-not checked",
          "Brandenburg-w-NaN",
          "Brandenburg-w-checked",
          "Brandenburg-w-not checked",
          "Bremen",
          "Bremen-q",
          "Bremen-w",
          "Hamburg",
          "Hamburg-q",
          "Hamburg-w",
          "Hessen",
          "Hessen-q",
          "Hessen-w",
          "Hessen-q-NaN",
          "Hessen-q-checked",
          "Hessen-q-not checked",
          "Hessen-w-NaN",
          "Hessen-w-checked",
          "Hessen-w-not checked",
          "Mecklenburg Vorpommern",
          "Mecklenburg Vorpommern-q",
          "Mecklenburg Vorpommern-w",
          "Mecklenburg Vorpommern-q-NaN",
          "Mecklenburg Vorpommern-q-checked",
          "Mecklenburg Vorpommern-q-not checked",
          "Mecklenburg Vorpommern-w-NaN",
          "Mecklenburg Vorpommern-w-checked",
          "Mecklenburg Vorpommern-w-not checked",
          "Niedersachsen",
          "Niedersachsen-q",
          "Niedersachsen-w",
          "Niedersachsen-q-NaN",
          "Niedersachsen-q-checked",
          "Niedersachsen-q-not checked",
          "Nordrhein-Westfalen",
          "Nordrhein-Westfalen-q",
          "Nordrhein-Westfalen-w",
          "Nordrhein-Westfalen-q-NaN",
          "Nordrhein-Westfalen-q-checked",
          "Nordrhein-Westfalen-q-not checked",
          "Nordrhein-Westfalen-w-NaN",
          "Nordrhein-Westfalen-w-checked",
          "Nordrhein-Westfalen-w-not checked",
          "Rheinland-Pfalz",
          "Rheinland-Pfalz-q",
          "Rheinland-Pfalz-w",
          "Saarland",
          "Saarland-q",
          "Saarland-w",
          "Saarland-q-NaN",
          "Saarland-q-checked",
          "Saarland-q-not checked",
          "Saarland-w-NaN",
          "Saarland-w-checked",
          "Saarland-w-not checked",
          "Sachsen",
          "Sachsen-q",
          "Sachsen-w",
          "Sachsen-q-NaN",
          "Sachsen-q-checked",
          "Sachsen-q-not checked",
          "Sachsen-w-NaN",
          "Sachsen-w-checked",
          "Sachsen-w-not checked",
          "Sachsen-Anhalt",
          "Sachsen-Anhalt-q",
          "Sachsen-Anhalt-w",
          "Sachsen-Anhalt-q-NaN",
          "Sachsen-Anhalt-q-checked",
          "Sachsen-Anhalt-q-not checked",
          "Sachsen-Anhalt-w-NaN",
          "Sachsen-Anhalt-w-checked",
          "Sachsen-Anhalt-w-not checked",
          "Schleswig-Holstein",
          "Schleswig-Holstein-q",
          "Schleswig-Holstein-w",
          "Schleswig-Holstein-q-NaN",
          "Schleswig-Holstein-q-checked",
          "Schleswig-Holstein-q-not checked",
          "Schleswig-Holstein-w-NaN",
          "Schleswig-Holstein-w-checked",
          "Schleswig-Holstein-w-not checked",
          "Thüringen",
          "Thüringen-q",
          "Thüringen-w",
          "Thüringen-q-NaN",
          "Thüringen-q-checked",
          "Thüringen-q-not checked",
          "Thüringen-w-NaN",
          "Thüringen-w-checked",
          "Thüringen-w-not checked"
         ],
         "labels": [
          "CAMELS-DE",
          "Baden-Württemberg",
          "discharge",
          "waterlevel",
          "NaN",
          "checked",
          "not checked",
          "NaN",
          "checked",
          "not checked",
          "Bayern",
          "discharge",
          "waterlevel",
          "NaN",
          "checked",
          "not checked",
          "NaN",
          "checked",
          "not checked",
          "Berlin",
          "discharge",
          "waterlevel",
          "Brandenburg",
          "discharge",
          "waterlevel",
          "NaN",
          "checked",
          "not checked",
          "NaN",
          "checked",
          "not checked",
          "Bremen",
          "discharge",
          "waterlevel",
          "Hamburg",
          "discharge",
          "waterlevel",
          "Hessen",
          "discharge",
          "waterlevel",
          "NaN",
          "checked",
          "not checked",
          "NaN",
          "checked",
          "not checked",
          "Mecklenburg Vorpommern",
          "discharge",
          "waterlevel",
          "NaN",
          "checked",
          "not checked",
          "NaN",
          "checked",
          "not checked",
          "Niedersachsen",
          "discharge",
          "waterlevel",
          "NaN",
          "checked",
          "not checked",
          "Nordrhein-Westfalen",
          "discharge",
          "waterlevel",
          "NaN",
          "checked",
          "not checked",
          "NaN",
          "checked",
          "not checked",
          "Rheinland-Pfalz",
          "discharge",
          "waterlevel",
          "Saarland",
          "discharge",
          "waterlevel",
          "NaN",
          "checked",
          "not checked",
          "NaN",
          "checked",
          "not checked",
          "Sachsen",
          "discharge",
          "waterlevel",
          "NaN",
          "checked",
          "not checked",
          "NaN",
          "checked",
          "not checked",
          "Sachsen-Anhalt",
          "discharge",
          "waterlevel",
          "NaN",
          "checked",
          "not checked",
          "NaN",
          "checked",
          "not checked",
          "Schleswig-Holstein",
          "discharge",
          "waterlevel",
          "NaN",
          "checked",
          "not checked",
          "NaN",
          "checked",
          "not checked",
          "Thüringen",
          "discharge",
          "waterlevel",
          "NaN",
          "checked",
          "not checked",
          "NaN",
          "checked",
          "not checked"
         ],
         "parents": [
          "",
          "CAMELS-DE",
          "Baden-Württemberg",
          "Baden-Württemberg",
          "Baden-Württemberg-q",
          "Baden-Württemberg-q",
          "Baden-Württemberg-q",
          "Baden-Württemberg-w",
          "Baden-Württemberg-w",
          "Baden-Württemberg-w",
          "CAMELS-DE",
          "Bayern",
          "Bayern",
          "Bayern-q",
          "Bayern-q",
          "Bayern-q",
          "Bayern-w",
          "Bayern-w",
          "Bayern-w",
          "CAMELS-DE",
          "Berlin",
          "Berlin",
          "CAMELS-DE",
          "Brandenburg",
          "Brandenburg",
          "Brandenburg-q",
          "Brandenburg-q",
          "Brandenburg-q",
          "Brandenburg-w",
          "Brandenburg-w",
          "Brandenburg-w",
          "CAMELS-DE",
          "Bremen",
          "Bremen",
          "CAMELS-DE",
          "Hamburg",
          "Hamburg",
          "CAMELS-DE",
          "Hessen",
          "Hessen",
          "Hessen-q",
          "Hessen-q",
          "Hessen-q",
          "Hessen-w",
          "Hessen-w",
          "Hessen-w",
          "CAMELS-DE",
          "Mecklenburg Vorpommern",
          "Mecklenburg Vorpommern",
          "Mecklenburg Vorpommern-q",
          "Mecklenburg Vorpommern-q",
          "Mecklenburg Vorpommern-q",
          "Mecklenburg Vorpommern-w",
          "Mecklenburg Vorpommern-w",
          "Mecklenburg Vorpommern-w",
          "CAMELS-DE",
          "Niedersachsen",
          "Niedersachsen",
          "Niedersachsen-q",
          "Niedersachsen-q",
          "Niedersachsen-q",
          "CAMELS-DE",
          "Nordrhein-Westfalen",
          "Nordrhein-Westfalen",
          "Nordrhein-Westfalen-q",
          "Nordrhein-Westfalen-q",
          "Nordrhein-Westfalen-q",
          "Nordrhein-Westfalen-w",
          "Nordrhein-Westfalen-w",
          "Nordrhein-Westfalen-w",
          "CAMELS-DE",
          "Rheinland-Pfalz",
          "Rheinland-Pfalz",
          "CAMELS-DE",
          "Saarland",
          "Saarland",
          "Saarland-q",
          "Saarland-q",
          "Saarland-q",
          "Saarland-w",
          "Saarland-w",
          "Saarland-w",
          "CAMELS-DE",
          "Sachsen",
          "Sachsen",
          "Sachsen-q",
          "Sachsen-q",
          "Sachsen-q",
          "Sachsen-w",
          "Sachsen-w",
          "Sachsen-w",
          "CAMELS-DE",
          "Sachsen-Anhalt",
          "Sachsen-Anhalt",
          "Sachsen-Anhalt-q",
          "Sachsen-Anhalt-q",
          "Sachsen-Anhalt-q",
          "Sachsen-Anhalt-w",
          "Sachsen-Anhalt-w",
          "Sachsen-Anhalt-w",
          "CAMELS-DE",
          "Schleswig-Holstein",
          "Schleswig-Holstein",
          "Schleswig-Holstein-q",
          "Schleswig-Holstein-q",
          "Schleswig-Holstein-q",
          "Schleswig-Holstein-w",
          "Schleswig-Holstein-w",
          "Schleswig-Holstein-w",
          "CAMELS-DE",
          "Thüringen",
          "Thüringen",
          "Thüringen-q",
          "Thüringen-q",
          "Thüringen-q",
          "Thüringen-w",
          "Thüringen-w",
          "Thüringen-w"
         ],
         "type": "sunburst",
         "values": [
          83260313,
          8664636,
          4332318,
          4332318,
          363283,
          952836,
          3016199,
          9188,
          1204070,
          3119060,
          24404470,
          12202235,
          12202235,
          12202235,
          0,
          0,
          12202235,
          0,
          0,
          0,
          0,
          0,
          6903798,
          3780702,
          3123096,
          0,
          3641217,
          139485,
          0,
          2598237,
          524859,
          0,
          0,
          0,
          0,
          0,
          0,
          3934754,
          1967377,
          1967377,
          1967377,
          0,
          0,
          1967377,
          0,
          0,
          4809248,
          2404624,
          2404624,
          2404624,
          0,
          0,
          2404624,
          0,
          0,
          4195562,
          4195562,
          0,
          4195562,
          0,
          0,
          8251869,
          4092442,
          4159427,
          4092442,
          0,
          0,
          4159427,
          0,
          0,
          0,
          0,
          0,
          1535188,
          767594,
          767594,
          767594,
          0,
          0,
          767594,
          0,
          0,
          7195704,
          3597852,
          3597852,
          3597852,
          0,
          0,
          3597852,
          0,
          0,
          6431852,
          3215926,
          3215926,
          3215926,
          0,
          0,
          3215926,
          0,
          0,
          3922402,
          1961201,
          1961201,
          0,
          1193632,
          767569,
          1961201,
          0,
          0,
          3010830,
          1505415,
          1505415,
          1461,
          1503954,
          0,
          574189,
          931226,
          0
         ]
        }
       ],
       "layout": {
        "template": {
         "data": {
          "bar": [
           {
            "error_x": {
             "color": "#f2f5fa"
            },
            "error_y": {
             "color": "#f2f5fa"
            },
            "marker": {
             "line": {
              "color": "rgb(17,17,17)",
              "width": 0.5
             },
             "pattern": {
              "fillmode": "overlay",
              "size": 10,
              "solidity": 0.2
             }
            },
            "type": "bar"
           }
          ],
          "barpolar": [
           {
            "marker": {
             "line": {
              "color": "rgb(17,17,17)",
              "width": 0.5
             },
             "pattern": {
              "fillmode": "overlay",
              "size": 10,
              "solidity": 0.2
             }
            },
            "type": "barpolar"
           }
          ],
          "carpet": [
           {
            "aaxis": {
             "endlinecolor": "#A2B1C6",
             "gridcolor": "#506784",
             "linecolor": "#506784",
             "minorgridcolor": "#506784",
             "startlinecolor": "#A2B1C6"
            },
            "baxis": {
             "endlinecolor": "#A2B1C6",
             "gridcolor": "#506784",
             "linecolor": "#506784",
             "minorgridcolor": "#506784",
             "startlinecolor": "#A2B1C6"
            },
            "type": "carpet"
           }
          ],
          "choropleth": [
           {
            "colorbar": {
             "outlinewidth": 0,
             "ticks": ""
            },
            "type": "choropleth"
           }
          ],
          "contour": [
           {
            "colorbar": {
             "outlinewidth": 0,
             "ticks": ""
            },
            "colorscale": [
             [
              0,
              "#0d0887"
             ],
             [
              0.1111111111111111,
              "#46039f"
             ],
             [
              0.2222222222222222,
              "#7201a8"
             ],
             [
              0.3333333333333333,
              "#9c179e"
             ],
             [
              0.4444444444444444,
              "#bd3786"
             ],
             [
              0.5555555555555556,
              "#d8576b"
             ],
             [
              0.6666666666666666,
              "#ed7953"
             ],
             [
              0.7777777777777778,
              "#fb9f3a"
             ],
             [
              0.8888888888888888,
              "#fdca26"
             ],
             [
              1,
              "#f0f921"
             ]
            ],
            "type": "contour"
           }
          ],
          "contourcarpet": [
           {
            "colorbar": {
             "outlinewidth": 0,
             "ticks": ""
            },
            "type": "contourcarpet"
           }
          ],
          "heatmap": [
           {
            "colorbar": {
             "outlinewidth": 0,
             "ticks": ""
            },
            "colorscale": [
             [
              0,
              "#0d0887"
             ],
             [
              0.1111111111111111,
              "#46039f"
             ],
             [
              0.2222222222222222,
              "#7201a8"
             ],
             [
              0.3333333333333333,
              "#9c179e"
             ],
             [
              0.4444444444444444,
              "#bd3786"
             ],
             [
              0.5555555555555556,
              "#d8576b"
             ],
             [
              0.6666666666666666,
              "#ed7953"
             ],
             [
              0.7777777777777778,
              "#fb9f3a"
             ],
             [
              0.8888888888888888,
              "#fdca26"
             ],
             [
              1,
              "#f0f921"
             ]
            ],
            "type": "heatmap"
           }
          ],
          "heatmapgl": [
           {
            "colorbar": {
             "outlinewidth": 0,
             "ticks": ""
            },
            "colorscale": [
             [
              0,
              "#0d0887"
             ],
             [
              0.1111111111111111,
              "#46039f"
             ],
             [
              0.2222222222222222,
              "#7201a8"
             ],
             [
              0.3333333333333333,
              "#9c179e"
             ],
             [
              0.4444444444444444,
              "#bd3786"
             ],
             [
              0.5555555555555556,
              "#d8576b"
             ],
             [
              0.6666666666666666,
              "#ed7953"
             ],
             [
              0.7777777777777778,
              "#fb9f3a"
             ],
             [
              0.8888888888888888,
              "#fdca26"
             ],
             [
              1,
              "#f0f921"
             ]
            ],
            "type": "heatmapgl"
           }
          ],
          "histogram": [
           {
            "marker": {
             "pattern": {
              "fillmode": "overlay",
              "size": 10,
              "solidity": 0.2
             }
            },
            "type": "histogram"
           }
          ],
          "histogram2d": [
           {
            "colorbar": {
             "outlinewidth": 0,
             "ticks": ""
            },
            "colorscale": [
             [
              0,
              "#0d0887"
             ],
             [
              0.1111111111111111,
              "#46039f"
             ],
             [
              0.2222222222222222,
              "#7201a8"
             ],
             [
              0.3333333333333333,
              "#9c179e"
             ],
             [
              0.4444444444444444,
              "#bd3786"
             ],
             [
              0.5555555555555556,
              "#d8576b"
             ],
             [
              0.6666666666666666,
              "#ed7953"
             ],
             [
              0.7777777777777778,
              "#fb9f3a"
             ],
             [
              0.8888888888888888,
              "#fdca26"
             ],
             [
              1,
              "#f0f921"
             ]
            ],
            "type": "histogram2d"
           }
          ],
          "histogram2dcontour": [
           {
            "colorbar": {
             "outlinewidth": 0,
             "ticks": ""
            },
            "colorscale": [
             [
              0,
              "#0d0887"
             ],
             [
              0.1111111111111111,
              "#46039f"
             ],
             [
              0.2222222222222222,
              "#7201a8"
             ],
             [
              0.3333333333333333,
              "#9c179e"
             ],
             [
              0.4444444444444444,
              "#bd3786"
             ],
             [
              0.5555555555555556,
              "#d8576b"
             ],
             [
              0.6666666666666666,
              "#ed7953"
             ],
             [
              0.7777777777777778,
              "#fb9f3a"
             ],
             [
              0.8888888888888888,
              "#fdca26"
             ],
             [
              1,
              "#f0f921"
             ]
            ],
            "type": "histogram2dcontour"
           }
          ],
          "mesh3d": [
           {
            "colorbar": {
             "outlinewidth": 0,
             "ticks": ""
            },
            "type": "mesh3d"
           }
          ],
          "parcoords": [
           {
            "line": {
             "colorbar": {
              "outlinewidth": 0,
              "ticks": ""
             }
            },
            "type": "parcoords"
           }
          ],
          "pie": [
           {
            "automargin": true,
            "type": "pie"
           }
          ],
          "scatter": [
           {
            "marker": {
             "line": {
              "color": "#283442"
             }
            },
            "type": "scatter"
           }
          ],
          "scatter3d": [
           {
            "line": {
             "colorbar": {
              "outlinewidth": 0,
              "ticks": ""
             }
            },
            "marker": {
             "colorbar": {
              "outlinewidth": 0,
              "ticks": ""
             }
            },
            "type": "scatter3d"
           }
          ],
          "scattercarpet": [
           {
            "marker": {
             "colorbar": {
              "outlinewidth": 0,
              "ticks": ""
             }
            },
            "type": "scattercarpet"
           }
          ],
          "scattergeo": [
           {
            "marker": {
             "colorbar": {
              "outlinewidth": 0,
              "ticks": ""
             }
            },
            "type": "scattergeo"
           }
          ],
          "scattergl": [
           {
            "marker": {
             "line": {
              "color": "#283442"
             }
            },
            "type": "scattergl"
           }
          ],
          "scattermapbox": [
           {
            "marker": {
             "colorbar": {
              "outlinewidth": 0,
              "ticks": ""
             }
            },
            "type": "scattermapbox"
           }
          ],
          "scatterpolar": [
           {
            "marker": {
             "colorbar": {
              "outlinewidth": 0,
              "ticks": ""
             }
            },
            "type": "scatterpolar"
           }
          ],
          "scatterpolargl": [
           {
            "marker": {
             "colorbar": {
              "outlinewidth": 0,
              "ticks": ""
             }
            },
            "type": "scatterpolargl"
           }
          ],
          "scatterternary": [
           {
            "marker": {
             "colorbar": {
              "outlinewidth": 0,
              "ticks": ""
             }
            },
            "type": "scatterternary"
           }
          ],
          "surface": [
           {
            "colorbar": {
             "outlinewidth": 0,
             "ticks": ""
            },
            "colorscale": [
             [
              0,
              "#0d0887"
             ],
             [
              0.1111111111111111,
              "#46039f"
             ],
             [
              0.2222222222222222,
              "#7201a8"
             ],
             [
              0.3333333333333333,
              "#9c179e"
             ],
             [
              0.4444444444444444,
              "#bd3786"
             ],
             [
              0.5555555555555556,
              "#d8576b"
             ],
             [
              0.6666666666666666,
              "#ed7953"
             ],
             [
              0.7777777777777778,
              "#fb9f3a"
             ],
             [
              0.8888888888888888,
              "#fdca26"
             ],
             [
              1,
              "#f0f921"
             ]
            ],
            "type": "surface"
           }
          ],
          "table": [
           {
            "cells": {
             "fill": {
              "color": "#506784"
             },
             "line": {
              "color": "rgb(17,17,17)"
             }
            },
            "header": {
             "fill": {
              "color": "#2a3f5f"
             },
             "line": {
              "color": "rgb(17,17,17)"
             }
            },
            "type": "table"
           }
          ]
         },
         "layout": {
          "annotationdefaults": {
           "arrowcolor": "#f2f5fa",
           "arrowhead": 0,
           "arrowwidth": 1
          },
          "autotypenumbers": "strict",
          "coloraxis": {
           "colorbar": {
            "outlinewidth": 0,
            "ticks": ""
           }
          },
          "colorscale": {
           "diverging": [
            [
             0,
             "#8e0152"
            ],
            [
             0.1,
             "#c51b7d"
            ],
            [
             0.2,
             "#de77ae"
            ],
            [
             0.3,
             "#f1b6da"
            ],
            [
             0.4,
             "#fde0ef"
            ],
            [
             0.5,
             "#f7f7f7"
            ],
            [
             0.6,
             "#e6f5d0"
            ],
            [
             0.7,
             "#b8e186"
            ],
            [
             0.8,
             "#7fbc41"
            ],
            [
             0.9,
             "#4d9221"
            ],
            [
             1,
             "#276419"
            ]
           ],
           "sequential": [
            [
             0,
             "#0d0887"
            ],
            [
             0.1111111111111111,
             "#46039f"
            ],
            [
             0.2222222222222222,
             "#7201a8"
            ],
            [
             0.3333333333333333,
             "#9c179e"
            ],
            [
             0.4444444444444444,
             "#bd3786"
            ],
            [
             0.5555555555555556,
             "#d8576b"
            ],
            [
             0.6666666666666666,
             "#ed7953"
            ],
            [
             0.7777777777777778,
             "#fb9f3a"
            ],
            [
             0.8888888888888888,
             "#fdca26"
            ],
            [
             1,
             "#f0f921"
            ]
           ],
           "sequentialminus": [
            [
             0,
             "#0d0887"
            ],
            [
             0.1111111111111111,
             "#46039f"
            ],
            [
             0.2222222222222222,
             "#7201a8"
            ],
            [
             0.3333333333333333,
             "#9c179e"
            ],
            [
             0.4444444444444444,
             "#bd3786"
            ],
            [
             0.5555555555555556,
             "#d8576b"
            ],
            [
             0.6666666666666666,
             "#ed7953"
            ],
            [
             0.7777777777777778,
             "#fb9f3a"
            ],
            [
             0.8888888888888888,
             "#fdca26"
            ],
            [
             1,
             "#f0f921"
            ]
           ]
          },
          "colorway": [
           "#636efa",
           "#EF553B",
           "#00cc96",
           "#ab63fa",
           "#FFA15A",
           "#19d3f3",
           "#FF6692",
           "#B6E880",
           "#FF97FF",
           "#FECB52"
          ],
          "font": {
           "color": "#f2f5fa"
          },
          "geo": {
           "bgcolor": "rgb(17,17,17)",
           "lakecolor": "rgb(17,17,17)",
           "landcolor": "rgb(17,17,17)",
           "showlakes": true,
           "showland": true,
           "subunitcolor": "#506784"
          },
          "hoverlabel": {
           "align": "left"
          },
          "hovermode": "closest",
          "mapbox": {
           "style": "dark"
          },
          "paper_bgcolor": "rgb(17,17,17)",
          "plot_bgcolor": "rgb(17,17,17)",
          "polar": {
           "angularaxis": {
            "gridcolor": "#506784",
            "linecolor": "#506784",
            "ticks": ""
           },
           "bgcolor": "rgb(17,17,17)",
           "radialaxis": {
            "gridcolor": "#506784",
            "linecolor": "#506784",
            "ticks": ""
           }
          },
          "scene": {
           "xaxis": {
            "backgroundcolor": "rgb(17,17,17)",
            "gridcolor": "#506784",
            "gridwidth": 2,
            "linecolor": "#506784",
            "showbackground": true,
            "ticks": "",
            "zerolinecolor": "#C8D4E3"
           },
           "yaxis": {
            "backgroundcolor": "rgb(17,17,17)",
            "gridcolor": "#506784",
            "gridwidth": 2,
            "linecolor": "#506784",
            "showbackground": true,
            "ticks": "",
            "zerolinecolor": "#C8D4E3"
           },
           "zaxis": {
            "backgroundcolor": "rgb(17,17,17)",
            "gridcolor": "#506784",
            "gridwidth": 2,
            "linecolor": "#506784",
            "showbackground": true,
            "ticks": "",
            "zerolinecolor": "#C8D4E3"
           }
          },
          "shapedefaults": {
           "line": {
            "color": "#f2f5fa"
           }
          },
          "sliderdefaults": {
           "bgcolor": "#C8D4E3",
           "bordercolor": "rgb(17,17,17)",
           "borderwidth": 1,
           "tickwidth": 0
          },
          "ternary": {
           "aaxis": {
            "gridcolor": "#506784",
            "linecolor": "#506784",
            "ticks": ""
           },
           "baxis": {
            "gridcolor": "#506784",
            "linecolor": "#506784",
            "ticks": ""
           },
           "bgcolor": "rgb(17,17,17)",
           "caxis": {
            "gridcolor": "#506784",
            "linecolor": "#506784",
            "ticks": ""
           }
          },
          "title": {
           "x": 0.05
          },
          "updatemenudefaults": {
           "bgcolor": "#506784",
           "borderwidth": 0
          },
          "xaxis": {
           "automargin": true,
           "gridcolor": "#283442",
           "linecolor": "#506784",
           "ticks": "",
           "title": {
            "standoff": 15
           },
           "zerolinecolor": "#283442",
           "zerolinewidth": 2
          },
          "yaxis": {
           "automargin": true,
           "gridcolor": "#283442",
           "linecolor": "#506784",
           "ticks": "",
           "title": {
            "standoff": 15
           },
           "zerolinecolor": "#283442",
           "zerolinewidth": 2
          }
         }
        }
       }
      }
     },
     "metadata": {},
     "output_type": "display_data"
    }
   ],
   "source": [
    "fig = go.Figure(go.Sunburst(\n",
    "    ids=ids,\n",
    "    labels=labels, \n",
    "    parents=parents, \n",
    "    values=values, \n",
    "    branchvalues=\"total\",\n",
    "    hoverinfo=\"label+percent parent+percent root+value\"\n",
    "))\n",
    "fig.update_layout(template='plotly_dark')\n",
    "fig"
   ]
  },
  {
   "cell_type": "code",
   "execution_count": 126,
   "metadata": {},
   "outputs": [],
   "source": [
    "with open('../output_data/metrics/flags.plotly.json', 'w') as f:\n",
    "    f.write(fig.to_json())\n",
    "\n",
    "# add description\n",
    "with open('../output_data/metrics/flags.description.json', 'w') as f:\n",
    "    json.dump({\n",
    "        'title': 'CAMELS-DE quality flags',\n",
    "        'body': 'The sunburst shows the number of quality flags available on three levels. The first level discriminates by federal state.By clicking on a state, you can filter for this state only. The second level breaks the number of flags measured in that state further down by variable and the third level by the flag. Currently, flags can be True (checked), False (not checked) or NaN if there is no flag information or the measurements are missing',\n",
    "        'actions': [{'href': 'https://github.com/CAMELS-DE/camelsp/blob/main/scripts/dataset_metrics.ipynb', 'title': 'Resource on Github'}]\n",
    "    }, f)\n"
   ]
  },
  {
   "cell_type": "markdown",
   "metadata": {},
   "source": [
    "## Number of Stations"
   ]
  },
  {
   "cell_type": "code",
   "execution_count": 132,
   "metadata": {},
   "outputs": [
    {
     "data": {
      "application/vnd.plotly.v1+json": {
       "config": {
        "plotlyServerURL": "https://plot.ly"
       },
       "data": [
        {
         "delta": {
          "reference": 3660
         },
         "mode": "number+delta",
         "title": {
          "text": "Number of Data files"
         },
         "type": "indicator",
         "value": 3402
        }
       ],
       "layout": {
        "template": {
         "data": {
          "bar": [
           {
            "error_x": {
             "color": "#f2f5fa"
            },
            "error_y": {
             "color": "#f2f5fa"
            },
            "marker": {
             "line": {
              "color": "rgb(17,17,17)",
              "width": 0.5
             },
             "pattern": {
              "fillmode": "overlay",
              "size": 10,
              "solidity": 0.2
             }
            },
            "type": "bar"
           }
          ],
          "barpolar": [
           {
            "marker": {
             "line": {
              "color": "rgb(17,17,17)",
              "width": 0.5
             },
             "pattern": {
              "fillmode": "overlay",
              "size": 10,
              "solidity": 0.2
             }
            },
            "type": "barpolar"
           }
          ],
          "carpet": [
           {
            "aaxis": {
             "endlinecolor": "#A2B1C6",
             "gridcolor": "#506784",
             "linecolor": "#506784",
             "minorgridcolor": "#506784",
             "startlinecolor": "#A2B1C6"
            },
            "baxis": {
             "endlinecolor": "#A2B1C6",
             "gridcolor": "#506784",
             "linecolor": "#506784",
             "minorgridcolor": "#506784",
             "startlinecolor": "#A2B1C6"
            },
            "type": "carpet"
           }
          ],
          "choropleth": [
           {
            "colorbar": {
             "outlinewidth": 0,
             "ticks": ""
            },
            "type": "choropleth"
           }
          ],
          "contour": [
           {
            "colorbar": {
             "outlinewidth": 0,
             "ticks": ""
            },
            "colorscale": [
             [
              0,
              "#0d0887"
             ],
             [
              0.1111111111111111,
              "#46039f"
             ],
             [
              0.2222222222222222,
              "#7201a8"
             ],
             [
              0.3333333333333333,
              "#9c179e"
             ],
             [
              0.4444444444444444,
              "#bd3786"
             ],
             [
              0.5555555555555556,
              "#d8576b"
             ],
             [
              0.6666666666666666,
              "#ed7953"
             ],
             [
              0.7777777777777778,
              "#fb9f3a"
             ],
             [
              0.8888888888888888,
              "#fdca26"
             ],
             [
              1,
              "#f0f921"
             ]
            ],
            "type": "contour"
           }
          ],
          "contourcarpet": [
           {
            "colorbar": {
             "outlinewidth": 0,
             "ticks": ""
            },
            "type": "contourcarpet"
           }
          ],
          "heatmap": [
           {
            "colorbar": {
             "outlinewidth": 0,
             "ticks": ""
            },
            "colorscale": [
             [
              0,
              "#0d0887"
             ],
             [
              0.1111111111111111,
              "#46039f"
             ],
             [
              0.2222222222222222,
              "#7201a8"
             ],
             [
              0.3333333333333333,
              "#9c179e"
             ],
             [
              0.4444444444444444,
              "#bd3786"
             ],
             [
              0.5555555555555556,
              "#d8576b"
             ],
             [
              0.6666666666666666,
              "#ed7953"
             ],
             [
              0.7777777777777778,
              "#fb9f3a"
             ],
             [
              0.8888888888888888,
              "#fdca26"
             ],
             [
              1,
              "#f0f921"
             ]
            ],
            "type": "heatmap"
           }
          ],
          "heatmapgl": [
           {
            "colorbar": {
             "outlinewidth": 0,
             "ticks": ""
            },
            "colorscale": [
             [
              0,
              "#0d0887"
             ],
             [
              0.1111111111111111,
              "#46039f"
             ],
             [
              0.2222222222222222,
              "#7201a8"
             ],
             [
              0.3333333333333333,
              "#9c179e"
             ],
             [
              0.4444444444444444,
              "#bd3786"
             ],
             [
              0.5555555555555556,
              "#d8576b"
             ],
             [
              0.6666666666666666,
              "#ed7953"
             ],
             [
              0.7777777777777778,
              "#fb9f3a"
             ],
             [
              0.8888888888888888,
              "#fdca26"
             ],
             [
              1,
              "#f0f921"
             ]
            ],
            "type": "heatmapgl"
           }
          ],
          "histogram": [
           {
            "marker": {
             "pattern": {
              "fillmode": "overlay",
              "size": 10,
              "solidity": 0.2
             }
            },
            "type": "histogram"
           }
          ],
          "histogram2d": [
           {
            "colorbar": {
             "outlinewidth": 0,
             "ticks": ""
            },
            "colorscale": [
             [
              0,
              "#0d0887"
             ],
             [
              0.1111111111111111,
              "#46039f"
             ],
             [
              0.2222222222222222,
              "#7201a8"
             ],
             [
              0.3333333333333333,
              "#9c179e"
             ],
             [
              0.4444444444444444,
              "#bd3786"
             ],
             [
              0.5555555555555556,
              "#d8576b"
             ],
             [
              0.6666666666666666,
              "#ed7953"
             ],
             [
              0.7777777777777778,
              "#fb9f3a"
             ],
             [
              0.8888888888888888,
              "#fdca26"
             ],
             [
              1,
              "#f0f921"
             ]
            ],
            "type": "histogram2d"
           }
          ],
          "histogram2dcontour": [
           {
            "colorbar": {
             "outlinewidth": 0,
             "ticks": ""
            },
            "colorscale": [
             [
              0,
              "#0d0887"
             ],
             [
              0.1111111111111111,
              "#46039f"
             ],
             [
              0.2222222222222222,
              "#7201a8"
             ],
             [
              0.3333333333333333,
              "#9c179e"
             ],
             [
              0.4444444444444444,
              "#bd3786"
             ],
             [
              0.5555555555555556,
              "#d8576b"
             ],
             [
              0.6666666666666666,
              "#ed7953"
             ],
             [
              0.7777777777777778,
              "#fb9f3a"
             ],
             [
              0.8888888888888888,
              "#fdca26"
             ],
             [
              1,
              "#f0f921"
             ]
            ],
            "type": "histogram2dcontour"
           }
          ],
          "mesh3d": [
           {
            "colorbar": {
             "outlinewidth": 0,
             "ticks": ""
            },
            "type": "mesh3d"
           }
          ],
          "parcoords": [
           {
            "line": {
             "colorbar": {
              "outlinewidth": 0,
              "ticks": ""
             }
            },
            "type": "parcoords"
           }
          ],
          "pie": [
           {
            "automargin": true,
            "type": "pie"
           }
          ],
          "scatter": [
           {
            "marker": {
             "line": {
              "color": "#283442"
             }
            },
            "type": "scatter"
           }
          ],
          "scatter3d": [
           {
            "line": {
             "colorbar": {
              "outlinewidth": 0,
              "ticks": ""
             }
            },
            "marker": {
             "colorbar": {
              "outlinewidth": 0,
              "ticks": ""
             }
            },
            "type": "scatter3d"
           }
          ],
          "scattercarpet": [
           {
            "marker": {
             "colorbar": {
              "outlinewidth": 0,
              "ticks": ""
             }
            },
            "type": "scattercarpet"
           }
          ],
          "scattergeo": [
           {
            "marker": {
             "colorbar": {
              "outlinewidth": 0,
              "ticks": ""
             }
            },
            "type": "scattergeo"
           }
          ],
          "scattergl": [
           {
            "marker": {
             "line": {
              "color": "#283442"
             }
            },
            "type": "scattergl"
           }
          ],
          "scattermapbox": [
           {
            "marker": {
             "colorbar": {
              "outlinewidth": 0,
              "ticks": ""
             }
            },
            "type": "scattermapbox"
           }
          ],
          "scatterpolar": [
           {
            "marker": {
             "colorbar": {
              "outlinewidth": 0,
              "ticks": ""
             }
            },
            "type": "scatterpolar"
           }
          ],
          "scatterpolargl": [
           {
            "marker": {
             "colorbar": {
              "outlinewidth": 0,
              "ticks": ""
             }
            },
            "type": "scatterpolargl"
           }
          ],
          "scatterternary": [
           {
            "marker": {
             "colorbar": {
              "outlinewidth": 0,
              "ticks": ""
             }
            },
            "type": "scatterternary"
           }
          ],
          "surface": [
           {
            "colorbar": {
             "outlinewidth": 0,
             "ticks": ""
            },
            "colorscale": [
             [
              0,
              "#0d0887"
             ],
             [
              0.1111111111111111,
              "#46039f"
             ],
             [
              0.2222222222222222,
              "#7201a8"
             ],
             [
              0.3333333333333333,
              "#9c179e"
             ],
             [
              0.4444444444444444,
              "#bd3786"
             ],
             [
              0.5555555555555556,
              "#d8576b"
             ],
             [
              0.6666666666666666,
              "#ed7953"
             ],
             [
              0.7777777777777778,
              "#fb9f3a"
             ],
             [
              0.8888888888888888,
              "#fdca26"
             ],
             [
              1,
              "#f0f921"
             ]
            ],
            "type": "surface"
           }
          ],
          "table": [
           {
            "cells": {
             "fill": {
              "color": "#506784"
             },
             "line": {
              "color": "rgb(17,17,17)"
             }
            },
            "header": {
             "fill": {
              "color": "#2a3f5f"
             },
             "line": {
              "color": "rgb(17,17,17)"
             }
            },
            "type": "table"
           }
          ]
         },
         "layout": {
          "annotationdefaults": {
           "arrowcolor": "#f2f5fa",
           "arrowhead": 0,
           "arrowwidth": 1
          },
          "autotypenumbers": "strict",
          "coloraxis": {
           "colorbar": {
            "outlinewidth": 0,
            "ticks": ""
           }
          },
          "colorscale": {
           "diverging": [
            [
             0,
             "#8e0152"
            ],
            [
             0.1,
             "#c51b7d"
            ],
            [
             0.2,
             "#de77ae"
            ],
            [
             0.3,
             "#f1b6da"
            ],
            [
             0.4,
             "#fde0ef"
            ],
            [
             0.5,
             "#f7f7f7"
            ],
            [
             0.6,
             "#e6f5d0"
            ],
            [
             0.7,
             "#b8e186"
            ],
            [
             0.8,
             "#7fbc41"
            ],
            [
             0.9,
             "#4d9221"
            ],
            [
             1,
             "#276419"
            ]
           ],
           "sequential": [
            [
             0,
             "#0d0887"
            ],
            [
             0.1111111111111111,
             "#46039f"
            ],
            [
             0.2222222222222222,
             "#7201a8"
            ],
            [
             0.3333333333333333,
             "#9c179e"
            ],
            [
             0.4444444444444444,
             "#bd3786"
            ],
            [
             0.5555555555555556,
             "#d8576b"
            ],
            [
             0.6666666666666666,
             "#ed7953"
            ],
            [
             0.7777777777777778,
             "#fb9f3a"
            ],
            [
             0.8888888888888888,
             "#fdca26"
            ],
            [
             1,
             "#f0f921"
            ]
           ],
           "sequentialminus": [
            [
             0,
             "#0d0887"
            ],
            [
             0.1111111111111111,
             "#46039f"
            ],
            [
             0.2222222222222222,
             "#7201a8"
            ],
            [
             0.3333333333333333,
             "#9c179e"
            ],
            [
             0.4444444444444444,
             "#bd3786"
            ],
            [
             0.5555555555555556,
             "#d8576b"
            ],
            [
             0.6666666666666666,
             "#ed7953"
            ],
            [
             0.7777777777777778,
             "#fb9f3a"
            ],
            [
             0.8888888888888888,
             "#fdca26"
            ],
            [
             1,
             "#f0f921"
            ]
           ]
          },
          "colorway": [
           "#636efa",
           "#EF553B",
           "#00cc96",
           "#ab63fa",
           "#FFA15A",
           "#19d3f3",
           "#FF6692",
           "#B6E880",
           "#FF97FF",
           "#FECB52"
          ],
          "font": {
           "color": "#f2f5fa"
          },
          "geo": {
           "bgcolor": "rgb(17,17,17)",
           "lakecolor": "rgb(17,17,17)",
           "landcolor": "rgb(17,17,17)",
           "showlakes": true,
           "showland": true,
           "subunitcolor": "#506784"
          },
          "hoverlabel": {
           "align": "left"
          },
          "hovermode": "closest",
          "mapbox": {
           "style": "dark"
          },
          "paper_bgcolor": "rgb(17,17,17)",
          "plot_bgcolor": "rgb(17,17,17)",
          "polar": {
           "angularaxis": {
            "gridcolor": "#506784",
            "linecolor": "#506784",
            "ticks": ""
           },
           "bgcolor": "rgb(17,17,17)",
           "radialaxis": {
            "gridcolor": "#506784",
            "linecolor": "#506784",
            "ticks": ""
           }
          },
          "scene": {
           "xaxis": {
            "backgroundcolor": "rgb(17,17,17)",
            "gridcolor": "#506784",
            "gridwidth": 2,
            "linecolor": "#506784",
            "showbackground": true,
            "ticks": "",
            "zerolinecolor": "#C8D4E3"
           },
           "yaxis": {
            "backgroundcolor": "rgb(17,17,17)",
            "gridcolor": "#506784",
            "gridwidth": 2,
            "linecolor": "#506784",
            "showbackground": true,
            "ticks": "",
            "zerolinecolor": "#C8D4E3"
           },
           "zaxis": {
            "backgroundcolor": "rgb(17,17,17)",
            "gridcolor": "#506784",
            "gridwidth": 2,
            "linecolor": "#506784",
            "showbackground": true,
            "ticks": "",
            "zerolinecolor": "#C8D4E3"
           }
          },
          "shapedefaults": {
           "line": {
            "color": "#f2f5fa"
           }
          },
          "sliderdefaults": {
           "bgcolor": "#C8D4E3",
           "bordercolor": "rgb(17,17,17)",
           "borderwidth": 1,
           "tickwidth": 0
          },
          "ternary": {
           "aaxis": {
            "gridcolor": "#506784",
            "linecolor": "#506784",
            "ticks": ""
           },
           "baxis": {
            "gridcolor": "#506784",
            "linecolor": "#506784",
            "ticks": ""
           },
           "bgcolor": "rgb(17,17,17)",
           "caxis": {
            "gridcolor": "#506784",
            "linecolor": "#506784",
            "ticks": ""
           }
          },
          "title": {
           "x": 0.05
          },
          "updatemenudefaults": {
           "bgcolor": "#506784",
           "borderwidth": 0
          },
          "xaxis": {
           "automargin": true,
           "gridcolor": "#283442",
           "linecolor": "#506784",
           "ticks": "",
           "title": {
            "standoff": 15
           },
           "zerolinecolor": "#283442",
           "zerolinewidth": 2
          },
          "yaxis": {
           "automargin": true,
           "gridcolor": "#283442",
           "linecolor": "#506784",
           "ticks": "",
           "title": {
            "standoff": 15
           },
           "zerolinecolor": "#283442",
           "zerolinewidth": 2
          }
         }
        }
       }
      }
     },
     "metadata": {},
     "output_type": "display_data"
    }
   ],
   "source": [
    "fig = go.Figure(go.Indicator(\n",
    "    value=sum(file_exists),\n",
    "    mode=\"number+delta\",\n",
    "    title=\"Number of Data files\",\n",
    "    delta=dict(reference=len(metadata))\n",
    "))\n",
    "fig.update_layout(template='plotly_dark')\n",
    "fig"
   ]
  },
  {
   "cell_type": "code",
   "execution_count": 134,
   "metadata": {},
   "outputs": [],
   "source": [
    "with open('../output_data/metrics/count.plotly.json', 'w') as f:\n",
    "    f.write(fig.to_json())\n",
    "\n",
    "# add description\n",
    "with open('../output_data/metrics/count.description.json', 'w') as f:\n",
    "    json.dump({\n",
    "        'title': 'CAMELS-DE data files',\n",
    "        'body': 'This is the current amount of CAMELS-DE data files, that have been processed. The delta indicator shows the difference to the size of the Metadata table. A negative number indicates, that there are discharge stations for which either no data was provided at all, or the processing failed alltogether.',\n",
    "        'actions': [{'href': 'https://github.com/CAMELS-DE/camelsp/blob/main/scripts/dataset_metrics.ipynb', 'title': 'Resource on Github'}]\n",
    "    }, f)"
   ]
  },
  {
   "cell_type": "markdown",
   "metadata": {},
   "source": [
    "## Existing data files"
   ]
  },
  {
   "cell_type": "code",
   "execution_count": 140,
   "metadata": {},
   "outputs": [
    {
     "data": {
      "application/vnd.plotly.v1+json": {
       "config": {
        "plotlyServerURL": "https://plot.ly"
       },
       "data": [
        {
         "marker": {
          "color": "green"
         },
         "name": "existing files",
         "orientation": "h",
         "showlegend": false,
         "type": "bar",
         "x": [
          259
         ],
         "y": [
          "Baden-Württemberg"
         ]
        },
        {
         "marker": {
          "color": "red"
         },
         "name": "missing files",
         "orientation": "h",
         "showlegend": false,
         "type": "bar",
         "x": [
          0
         ],
         "y": [
          "Baden-Württemberg"
         ]
        },
        {
         "marker": {
          "color": "green"
         },
         "name": "existing files",
         "orientation": "h",
         "showlegend": false,
         "type": "bar",
         "x": [
          540
         ],
         "y": [
          "Bayern"
         ]
        },
        {
         "marker": {
          "color": "red"
         },
         "name": "missing files",
         "orientation": "h",
         "showlegend": false,
         "type": "bar",
         "x": [
          0
         ],
         "y": [
          "Bayern"
         ]
        },
        {
         "marker": {
          "color": "green"
         },
         "name": "existing files",
         "orientation": "h",
         "showlegend": false,
         "type": "bar",
         "x": [
          0
         ],
         "y": [
          "Berlin"
         ]
        },
        {
         "marker": {
          "color": "red"
         },
         "name": "missing files",
         "orientation": "h",
         "showlegend": false,
         "type": "bar",
         "x": [
          0
         ],
         "y": [
          "Berlin"
         ]
        },
        {
         "marker": {
          "color": "green"
         },
         "name": "existing files",
         "orientation": "h",
         "showlegend": false,
         "type": "bar",
         "x": [
          382
         ],
         "y": [
          "Brandenburg"
         ]
        },
        {
         "marker": {
          "color": "red"
         },
         "name": "missing files",
         "orientation": "h",
         "showlegend": false,
         "type": "bar",
         "x": [
          0
         ],
         "y": [
          "Brandenburg"
         ]
        },
        {
         "marker": {
          "color": "green"
         },
         "name": "existing files",
         "orientation": "h",
         "showlegend": false,
         "type": "bar",
         "x": [
          0
         ],
         "y": [
          "Bremen"
         ]
        },
        {
         "marker": {
          "color": "red"
         },
         "name": "missing files",
         "orientation": "h",
         "showlegend": false,
         "type": "bar",
         "x": [
          0
         ],
         "y": [
          "Bremen"
         ]
        },
        {
         "marker": {
          "color": "green"
         },
         "name": "existing files",
         "orientation": "h",
         "showlegend": false,
         "type": "bar",
         "x": [
          0
         ],
         "y": [
          "Hamburg"
         ]
        },
        {
         "marker": {
          "color": "red"
         },
         "name": "missing files",
         "orientation": "h",
         "showlegend": false,
         "type": "bar",
         "x": [
          0
         ],
         "y": [
          "Hamburg"
         ]
        },
        {
         "marker": {
          "color": "green"
         },
         "name": "existing files",
         "orientation": "h",
         "showlegend": false,
         "type": "bar",
         "x": [
          97
         ],
         "y": [
          "Hessen"
         ]
        },
        {
         "marker": {
          "color": "red"
         },
         "name": "missing files",
         "orientation": "h",
         "showlegend": false,
         "type": "bar",
         "x": [
          0
         ],
         "y": [
          "Hessen"
         ]
        },
        {
         "marker": {
          "color": "green"
         },
         "name": "existing files",
         "orientation": "h",
         "showlegend": false,
         "type": "bar",
         "x": [
          235
         ],
         "y": [
          "Mecklenburg Vorpommern"
         ]
        },
        {
         "marker": {
          "color": "red"
         },
         "name": "missing files",
         "orientation": "h",
         "showlegend": false,
         "type": "bar",
         "x": [
          0
         ],
         "y": [
          "Mecklenburg Vorpommern"
         ]
        },
        {
         "marker": {
          "color": "green"
         },
         "name": "existing files",
         "orientation": "h",
         "showlegend": false,
         "type": "bar",
         "x": [
          282
         ],
         "y": [
          "Niedersachsen"
         ]
        },
        {
         "marker": {
          "color": "red"
         },
         "name": "missing files",
         "orientation": "h",
         "showlegend": false,
         "type": "bar",
         "x": [
          0
         ],
         "y": [
          "Niedersachsen"
         ]
        },
        {
         "marker": {
          "color": "green"
         },
         "name": "existing files",
         "orientation": "h",
         "showlegend": false,
         "type": "bar",
         "x": [
          219
         ],
         "y": [
          "Nordrhein-Westfalen"
         ]
        },
        {
         "marker": {
          "color": "red"
         },
         "name": "missing files",
         "orientation": "h",
         "showlegend": false,
         "type": "bar",
         "x": [
          40
         ],
         "y": [
          "Nordrhein-Westfalen"
         ]
        },
        {
         "marker": {
          "color": "green"
         },
         "name": "existing files",
         "orientation": "h",
         "showlegend": false,
         "type": "bar",
         "x": [
          0
         ],
         "y": [
          "Rheinland-Pfalz"
         ]
        },
        {
         "marker": {
          "color": "red"
         },
         "name": "missing files",
         "orientation": "h",
         "showlegend": false,
         "type": "bar",
         "x": [
          0
         ],
         "y": [
          "Rheinland-Pfalz"
         ]
        },
        {
         "marker": {
          "color": "green"
         },
         "name": "existing files",
         "orientation": "h",
         "showlegend": false,
         "type": "bar",
         "x": [
          17
         ],
         "y": [
          "Saarland"
         ]
        },
        {
         "marker": {
          "color": "red"
         },
         "name": "missing files",
         "orientation": "h",
         "showlegend": false,
         "type": "bar",
         "x": [
          39
         ],
         "y": [
          "Saarland"
         ]
        },
        {
         "marker": {
          "color": "green"
         },
         "name": "existing files",
         "orientation": "h",
         "showlegend": false,
         "type": "bar",
         "x": [
          183
         ],
         "y": [
          "Sachsen"
         ]
        },
        {
         "marker": {
          "color": "red"
         },
         "name": "missing files",
         "orientation": "h",
         "showlegend": false,
         "type": "bar",
         "x": [
          99
         ],
         "y": [
          "Sachsen"
         ]
        },
        {
         "marker": {
          "color": "green"
         },
         "name": "existing files",
         "orientation": "h",
         "showlegend": false,
         "type": "bar",
         "x": [
          172
         ],
         "y": [
          "Sachsen-Anhalt"
         ]
        },
        {
         "marker": {
          "color": "red"
         },
         "name": "missing files",
         "orientation": "h",
         "showlegend": false,
         "type": "bar",
         "x": [
          0
         ],
         "y": [
          "Sachsen-Anhalt"
         ]
        },
        {
         "marker": {
          "color": "green"
         },
         "name": "existing files",
         "orientation": "h",
         "showlegend": false,
         "type": "bar",
         "x": [
          695
         ],
         "y": [
          "Schleswig-Holstein"
         ]
        },
        {
         "marker": {
          "color": "red"
         },
         "name": "missing files",
         "orientation": "h",
         "showlegend": false,
         "type": "bar",
         "x": [
          80
         ],
         "y": [
          "Schleswig-Holstein"
         ]
        },
        {
         "marker": {
          "color": "green"
         },
         "name": "existing files",
         "orientation": "h",
         "showlegend": false,
         "type": "bar",
         "x": [
          63
         ],
         "y": [
          "Thüringen"
         ]
        },
        {
         "marker": {
          "color": "red"
         },
         "name": "missing files",
         "orientation": "h",
         "showlegend": false,
         "type": "bar",
         "x": [
          0
         ],
         "y": [
          "Thüringen"
         ]
        }
       ],
       "layout": {
        "barmode": "stack",
        "margin": {
         "b": 15,
         "t": 5
        },
        "template": {
         "data": {
          "bar": [
           {
            "error_x": {
             "color": "#f2f5fa"
            },
            "error_y": {
             "color": "#f2f5fa"
            },
            "marker": {
             "line": {
              "color": "rgb(17,17,17)",
              "width": 0.5
             },
             "pattern": {
              "fillmode": "overlay",
              "size": 10,
              "solidity": 0.2
             }
            },
            "type": "bar"
           }
          ],
          "barpolar": [
           {
            "marker": {
             "line": {
              "color": "rgb(17,17,17)",
              "width": 0.5
             },
             "pattern": {
              "fillmode": "overlay",
              "size": 10,
              "solidity": 0.2
             }
            },
            "type": "barpolar"
           }
          ],
          "carpet": [
           {
            "aaxis": {
             "endlinecolor": "#A2B1C6",
             "gridcolor": "#506784",
             "linecolor": "#506784",
             "minorgridcolor": "#506784",
             "startlinecolor": "#A2B1C6"
            },
            "baxis": {
             "endlinecolor": "#A2B1C6",
             "gridcolor": "#506784",
             "linecolor": "#506784",
             "minorgridcolor": "#506784",
             "startlinecolor": "#A2B1C6"
            },
            "type": "carpet"
           }
          ],
          "choropleth": [
           {
            "colorbar": {
             "outlinewidth": 0,
             "ticks": ""
            },
            "type": "choropleth"
           }
          ],
          "contour": [
           {
            "colorbar": {
             "outlinewidth": 0,
             "ticks": ""
            },
            "colorscale": [
             [
              0,
              "#0d0887"
             ],
             [
              0.1111111111111111,
              "#46039f"
             ],
             [
              0.2222222222222222,
              "#7201a8"
             ],
             [
              0.3333333333333333,
              "#9c179e"
             ],
             [
              0.4444444444444444,
              "#bd3786"
             ],
             [
              0.5555555555555556,
              "#d8576b"
             ],
             [
              0.6666666666666666,
              "#ed7953"
             ],
             [
              0.7777777777777778,
              "#fb9f3a"
             ],
             [
              0.8888888888888888,
              "#fdca26"
             ],
             [
              1,
              "#f0f921"
             ]
            ],
            "type": "contour"
           }
          ],
          "contourcarpet": [
           {
            "colorbar": {
             "outlinewidth": 0,
             "ticks": ""
            },
            "type": "contourcarpet"
           }
          ],
          "heatmap": [
           {
            "colorbar": {
             "outlinewidth": 0,
             "ticks": ""
            },
            "colorscale": [
             [
              0,
              "#0d0887"
             ],
             [
              0.1111111111111111,
              "#46039f"
             ],
             [
              0.2222222222222222,
              "#7201a8"
             ],
             [
              0.3333333333333333,
              "#9c179e"
             ],
             [
              0.4444444444444444,
              "#bd3786"
             ],
             [
              0.5555555555555556,
              "#d8576b"
             ],
             [
              0.6666666666666666,
              "#ed7953"
             ],
             [
              0.7777777777777778,
              "#fb9f3a"
             ],
             [
              0.8888888888888888,
              "#fdca26"
             ],
             [
              1,
              "#f0f921"
             ]
            ],
            "type": "heatmap"
           }
          ],
          "heatmapgl": [
           {
            "colorbar": {
             "outlinewidth": 0,
             "ticks": ""
            },
            "colorscale": [
             [
              0,
              "#0d0887"
             ],
             [
              0.1111111111111111,
              "#46039f"
             ],
             [
              0.2222222222222222,
              "#7201a8"
             ],
             [
              0.3333333333333333,
              "#9c179e"
             ],
             [
              0.4444444444444444,
              "#bd3786"
             ],
             [
              0.5555555555555556,
              "#d8576b"
             ],
             [
              0.6666666666666666,
              "#ed7953"
             ],
             [
              0.7777777777777778,
              "#fb9f3a"
             ],
             [
              0.8888888888888888,
              "#fdca26"
             ],
             [
              1,
              "#f0f921"
             ]
            ],
            "type": "heatmapgl"
           }
          ],
          "histogram": [
           {
            "marker": {
             "pattern": {
              "fillmode": "overlay",
              "size": 10,
              "solidity": 0.2
             }
            },
            "type": "histogram"
           }
          ],
          "histogram2d": [
           {
            "colorbar": {
             "outlinewidth": 0,
             "ticks": ""
            },
            "colorscale": [
             [
              0,
              "#0d0887"
             ],
             [
              0.1111111111111111,
              "#46039f"
             ],
             [
              0.2222222222222222,
              "#7201a8"
             ],
             [
              0.3333333333333333,
              "#9c179e"
             ],
             [
              0.4444444444444444,
              "#bd3786"
             ],
             [
              0.5555555555555556,
              "#d8576b"
             ],
             [
              0.6666666666666666,
              "#ed7953"
             ],
             [
              0.7777777777777778,
              "#fb9f3a"
             ],
             [
              0.8888888888888888,
              "#fdca26"
             ],
             [
              1,
              "#f0f921"
             ]
            ],
            "type": "histogram2d"
           }
          ],
          "histogram2dcontour": [
           {
            "colorbar": {
             "outlinewidth": 0,
             "ticks": ""
            },
            "colorscale": [
             [
              0,
              "#0d0887"
             ],
             [
              0.1111111111111111,
              "#46039f"
             ],
             [
              0.2222222222222222,
              "#7201a8"
             ],
             [
              0.3333333333333333,
              "#9c179e"
             ],
             [
              0.4444444444444444,
              "#bd3786"
             ],
             [
              0.5555555555555556,
              "#d8576b"
             ],
             [
              0.6666666666666666,
              "#ed7953"
             ],
             [
              0.7777777777777778,
              "#fb9f3a"
             ],
             [
              0.8888888888888888,
              "#fdca26"
             ],
             [
              1,
              "#f0f921"
             ]
            ],
            "type": "histogram2dcontour"
           }
          ],
          "mesh3d": [
           {
            "colorbar": {
             "outlinewidth": 0,
             "ticks": ""
            },
            "type": "mesh3d"
           }
          ],
          "parcoords": [
           {
            "line": {
             "colorbar": {
              "outlinewidth": 0,
              "ticks": ""
             }
            },
            "type": "parcoords"
           }
          ],
          "pie": [
           {
            "automargin": true,
            "type": "pie"
           }
          ],
          "scatter": [
           {
            "marker": {
             "line": {
              "color": "#283442"
             }
            },
            "type": "scatter"
           }
          ],
          "scatter3d": [
           {
            "line": {
             "colorbar": {
              "outlinewidth": 0,
              "ticks": ""
             }
            },
            "marker": {
             "colorbar": {
              "outlinewidth": 0,
              "ticks": ""
             }
            },
            "type": "scatter3d"
           }
          ],
          "scattercarpet": [
           {
            "marker": {
             "colorbar": {
              "outlinewidth": 0,
              "ticks": ""
             }
            },
            "type": "scattercarpet"
           }
          ],
          "scattergeo": [
           {
            "marker": {
             "colorbar": {
              "outlinewidth": 0,
              "ticks": ""
             }
            },
            "type": "scattergeo"
           }
          ],
          "scattergl": [
           {
            "marker": {
             "line": {
              "color": "#283442"
             }
            },
            "type": "scattergl"
           }
          ],
          "scattermapbox": [
           {
            "marker": {
             "colorbar": {
              "outlinewidth": 0,
              "ticks": ""
             }
            },
            "type": "scattermapbox"
           }
          ],
          "scatterpolar": [
           {
            "marker": {
             "colorbar": {
              "outlinewidth": 0,
              "ticks": ""
             }
            },
            "type": "scatterpolar"
           }
          ],
          "scatterpolargl": [
           {
            "marker": {
             "colorbar": {
              "outlinewidth": 0,
              "ticks": ""
             }
            },
            "type": "scatterpolargl"
           }
          ],
          "scatterternary": [
           {
            "marker": {
             "colorbar": {
              "outlinewidth": 0,
              "ticks": ""
             }
            },
            "type": "scatterternary"
           }
          ],
          "surface": [
           {
            "colorbar": {
             "outlinewidth": 0,
             "ticks": ""
            },
            "colorscale": [
             [
              0,
              "#0d0887"
             ],
             [
              0.1111111111111111,
              "#46039f"
             ],
             [
              0.2222222222222222,
              "#7201a8"
             ],
             [
              0.3333333333333333,
              "#9c179e"
             ],
             [
              0.4444444444444444,
              "#bd3786"
             ],
             [
              0.5555555555555556,
              "#d8576b"
             ],
             [
              0.6666666666666666,
              "#ed7953"
             ],
             [
              0.7777777777777778,
              "#fb9f3a"
             ],
             [
              0.8888888888888888,
              "#fdca26"
             ],
             [
              1,
              "#f0f921"
             ]
            ],
            "type": "surface"
           }
          ],
          "table": [
           {
            "cells": {
             "fill": {
              "color": "#506784"
             },
             "line": {
              "color": "rgb(17,17,17)"
             }
            },
            "header": {
             "fill": {
              "color": "#2a3f5f"
             },
             "line": {
              "color": "rgb(17,17,17)"
             }
            },
            "type": "table"
           }
          ]
         },
         "layout": {
          "annotationdefaults": {
           "arrowcolor": "#f2f5fa",
           "arrowhead": 0,
           "arrowwidth": 1
          },
          "autotypenumbers": "strict",
          "coloraxis": {
           "colorbar": {
            "outlinewidth": 0,
            "ticks": ""
           }
          },
          "colorscale": {
           "diverging": [
            [
             0,
             "#8e0152"
            ],
            [
             0.1,
             "#c51b7d"
            ],
            [
             0.2,
             "#de77ae"
            ],
            [
             0.3,
             "#f1b6da"
            ],
            [
             0.4,
             "#fde0ef"
            ],
            [
             0.5,
             "#f7f7f7"
            ],
            [
             0.6,
             "#e6f5d0"
            ],
            [
             0.7,
             "#b8e186"
            ],
            [
             0.8,
             "#7fbc41"
            ],
            [
             0.9,
             "#4d9221"
            ],
            [
             1,
             "#276419"
            ]
           ],
           "sequential": [
            [
             0,
             "#0d0887"
            ],
            [
             0.1111111111111111,
             "#46039f"
            ],
            [
             0.2222222222222222,
             "#7201a8"
            ],
            [
             0.3333333333333333,
             "#9c179e"
            ],
            [
             0.4444444444444444,
             "#bd3786"
            ],
            [
             0.5555555555555556,
             "#d8576b"
            ],
            [
             0.6666666666666666,
             "#ed7953"
            ],
            [
             0.7777777777777778,
             "#fb9f3a"
            ],
            [
             0.8888888888888888,
             "#fdca26"
            ],
            [
             1,
             "#f0f921"
            ]
           ],
           "sequentialminus": [
            [
             0,
             "#0d0887"
            ],
            [
             0.1111111111111111,
             "#46039f"
            ],
            [
             0.2222222222222222,
             "#7201a8"
            ],
            [
             0.3333333333333333,
             "#9c179e"
            ],
            [
             0.4444444444444444,
             "#bd3786"
            ],
            [
             0.5555555555555556,
             "#d8576b"
            ],
            [
             0.6666666666666666,
             "#ed7953"
            ],
            [
             0.7777777777777778,
             "#fb9f3a"
            ],
            [
             0.8888888888888888,
             "#fdca26"
            ],
            [
             1,
             "#f0f921"
            ]
           ]
          },
          "colorway": [
           "#636efa",
           "#EF553B",
           "#00cc96",
           "#ab63fa",
           "#FFA15A",
           "#19d3f3",
           "#FF6692",
           "#B6E880",
           "#FF97FF",
           "#FECB52"
          ],
          "font": {
           "color": "#f2f5fa"
          },
          "geo": {
           "bgcolor": "rgb(17,17,17)",
           "lakecolor": "rgb(17,17,17)",
           "landcolor": "rgb(17,17,17)",
           "showlakes": true,
           "showland": true,
           "subunitcolor": "#506784"
          },
          "hoverlabel": {
           "align": "left"
          },
          "hovermode": "closest",
          "mapbox": {
           "style": "dark"
          },
          "paper_bgcolor": "rgb(17,17,17)",
          "plot_bgcolor": "rgb(17,17,17)",
          "polar": {
           "angularaxis": {
            "gridcolor": "#506784",
            "linecolor": "#506784",
            "ticks": ""
           },
           "bgcolor": "rgb(17,17,17)",
           "radialaxis": {
            "gridcolor": "#506784",
            "linecolor": "#506784",
            "ticks": ""
           }
          },
          "scene": {
           "xaxis": {
            "backgroundcolor": "rgb(17,17,17)",
            "gridcolor": "#506784",
            "gridwidth": 2,
            "linecolor": "#506784",
            "showbackground": true,
            "ticks": "",
            "zerolinecolor": "#C8D4E3"
           },
           "yaxis": {
            "backgroundcolor": "rgb(17,17,17)",
            "gridcolor": "#506784",
            "gridwidth": 2,
            "linecolor": "#506784",
            "showbackground": true,
            "ticks": "",
            "zerolinecolor": "#C8D4E3"
           },
           "zaxis": {
            "backgroundcolor": "rgb(17,17,17)",
            "gridcolor": "#506784",
            "gridwidth": 2,
            "linecolor": "#506784",
            "showbackground": true,
            "ticks": "",
            "zerolinecolor": "#C8D4E3"
           }
          },
          "shapedefaults": {
           "line": {
            "color": "#f2f5fa"
           }
          },
          "sliderdefaults": {
           "bgcolor": "#C8D4E3",
           "bordercolor": "rgb(17,17,17)",
           "borderwidth": 1,
           "tickwidth": 0
          },
          "ternary": {
           "aaxis": {
            "gridcolor": "#506784",
            "linecolor": "#506784",
            "ticks": ""
           },
           "baxis": {
            "gridcolor": "#506784",
            "linecolor": "#506784",
            "ticks": ""
           },
           "bgcolor": "rgb(17,17,17)",
           "caxis": {
            "gridcolor": "#506784",
            "linecolor": "#506784",
            "ticks": ""
           }
          },
          "title": {
           "x": 0.05
          },
          "updatemenudefaults": {
           "bgcolor": "#506784",
           "borderwidth": 0
          },
          "xaxis": {
           "automargin": true,
           "gridcolor": "#283442",
           "linecolor": "#506784",
           "ticks": "",
           "title": {
            "standoff": 15
           },
           "zerolinecolor": "#283442",
           "zerolinewidth": 2
          },
          "yaxis": {
           "automargin": true,
           "gridcolor": "#283442",
           "linecolor": "#506784",
           "ticks": "",
           "title": {
            "standoff": 15
           },
           "zerolinecolor": "#283442",
           "zerolinewidth": 2
          }
         }
        }
       }
      }
     },
     "metadata": {},
     "output_type": "display_data"
    }
   ],
   "source": [
    "fig = go.Figure()\n",
    "\n",
    "for NUTS in util._NUTS_LVL2_NAMES.keys():\n",
    "    # filter \n",
    "    exist = [b for b, label in zip(file_exists, file_nuts) if label==NUTS]\n",
    "    name = util._NUTS_LVL2_NAMES[NUTS]\n",
    "\n",
    "    # add traces\n",
    "    fig.add_trace(go.Bar(x=[sum(exist)], y=[name], orientation='h', marker=dict(color='green'), name='existing files', showlegend=False))\n",
    "    fig.add_trace(go.Bar(x=[len(exist) - sum(exist)], y=[name], orientation='h', marker=dict(color='red'), name=\"missing files\", showlegend=False))\n",
    "\n",
    "fig.update_layout(barmode=\"stack\", template='plotly_dark', margin=dict(t=5, b=15))\n",
    "fig"
   ]
  },
  {
   "cell_type": "code",
   "execution_count": 142,
   "metadata": {},
   "outputs": [],
   "source": [
    "with open('../output_data/metrics/states_count.plotly.json', 'w') as f:\n",
    "    f.write(fig.to_json())\n",
    "\n",
    "# add description\n",
    "with open('../output_data/metrics/states_count.description.json', 'w') as f:\n",
    "    json.dump({\n",
    "        'title': 'Data files per state',\n",
    "        'body': 'The bars show the amount of CAMELS-DE data files, that have been processed. THe green bars show how many data files have been processed, the red bar indicates the number of missing files. Files are missing for discharge stations, if either no data was provided at all, or the processing failed alltogether.',\n",
    "        'actions': [{'href': 'https://github.com/CAMELS-DE/camelsp/blob/main/scripts/dataset_metrics.ipynb', 'title': 'Resource on Github'}]\n",
    "    }, f)"
   ]
  }
 ],
 "metadata": {
  "kernelspec": {
   "display_name": "Python 3.9.13 ('base')",
   "language": "python",
   "name": "python3"
  },
  "language_info": {
   "codemirror_mode": {
    "name": "ipython",
    "version": 3
   },
   "file_extension": ".py",
   "mimetype": "text/x-python",
   "name": "python",
   "nbconvert_exporter": "python",
   "pygments_lexer": "ipython3",
   "version": "3.9.13"
  },
  "orig_nbformat": 4,
  "vscode": {
   "interpreter": {
    "hash": "2c57ebfed52ffd848a0d2f36f1ea9c0a9060c9b67397fbb725d6aa92a9494b08"
   }
  }
 },
 "nbformat": 4,
 "nbformat_minor": 2
}
