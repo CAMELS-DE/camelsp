{
 "cells": [
  {
   "cell_type": "markdown",
   "metadata": {},
   "source": [
    "# Compare catchment datasources\n",
    "\n",
    "In this notebook, we compare the different catchment datasources:\n",
    "- federal agencies -> where available\n",
    "- MERIT Hydro\n",
    "- Hydrosheds\n",
    "- Basis-EZGs (by Pia)\n",
    "\n",
    "The catchment boundaries provided by the federal agencies are used as some sort of benchmark. As we only have these catchment for a fraction of catchments and shareability is questionable, we have to use one of the other datasources for the CAMELS-DE dataset.  \n",
    "So we compare the similarity / overlap of the MERIT Hydro, Hydrosheds and Basis-EZGs with the \"official\" (but incomplete) catchment boundaries provided by the federal agencies.\n",
    "\n",
    "We calculate 4 metrics in total:\n",
    "1. `overlap ratio`, this mean Intersect / Union\n",
    "2. `distance between centroids`\n",
    "3. `difference between area of shapes`\n",
    "4. `difference to reported area`, for most of the catchments we have an area reported in the metadata"
   ]
  },
  {
   "cell_type": "code",
   "execution_count": 1,
   "metadata": {},
   "outputs": [],
   "source": [
    "import pandas as pd\n",
    "import geopandas as gpd\n",
    "from matplotlib import pyplot as plt\n",
    "import plotly.graph_objects as go\n",
    "\n",
    "from camelsp import get_metadata, Station"
   ]
  },
  {
   "cell_type": "markdown",
   "metadata": {},
   "source": [
    "## Helper functions"
   ]
  },
  {
   "cell_type": "code",
   "execution_count": 2,
   "metadata": {},
   "outputs": [],
   "source": [
    "def get_area_of_gdf(gdf: gpd.GeoDataFrame) -> float:\n",
    "    \"\"\"\n",
    "    Calculate the area of a catchment in km2.  \n",
    "    The crs of the GeoDataFrame is transformed to an crs in meters (epsg:6933) \n",
    "    before calculating the area.\n",
    "\n",
    "    Parameters:\n",
    "    -------\n",
    "    gdf : gpd.GeoDataFrame\n",
    "        GeoDataFrame of the catchment.\n",
    "\n",
    "    Returns:\n",
    "    -------\n",
    "    area: float\n",
    "        Area of the catchment in km2.\n",
    "    \"\"\"\n",
    "    if gdf is None:\n",
    "        return None\n",
    "    else:\n",
    "        # transform to crs in meters\n",
    "        gdf = gdf.to_crs(epsg=6933)\n",
    "        \n",
    "        # calculate area\n",
    "        area = gdf.area.sum() / 1e6 # in km2\n",
    "\n",
    "        return area\n",
    "    "
   ]
  },
  {
   "cell_type": "markdown",
   "metadata": {},
   "source": [
    "## 1.) Overlap Ratio"
   ]
  },
  {
   "cell_type": "code",
   "execution_count": 3,
   "metadata": {},
   "outputs": [],
   "source": [
    "def calculate_overlap_ratio_two_catchments(gdf_base: gpd.GeoDataFrame, gdf_compare: gpd.GeoDataFrame) -> float:\n",
    "    \"\"\"\n",
    "    Calculate the ratio of overlap between two catchments.  \n",
    "    This is calculated as the area of the intersection between the two catchments \n",
    "    divided by the union of both catchments.\n",
    "    Returns None if gdf_compare is None.\n",
    "\n",
    "    Parameters:\n",
    "    -------\n",
    "    gdf_base : gpd.GeoDataFrame\n",
    "        GeoDataFrame of the base catchment.\n",
    "    gdf_compare : gpd.GeoDataFrame\n",
    "        GeoDataFrame of the catchment to compare.\n",
    "\n",
    "    Returns:\n",
    "    -------\n",
    "    overlap_ratio: float\n",
    "        Ratio of overlapping area to union of both areas between the two catchments.\n",
    "\n",
    "    \"\"\"\n",
    "    if gdf_compare is None:\n",
    "        return None\n",
    "    \n",
    "    # Calculate the intersection between the two catchments\n",
    "    intersection = gdf_base.intersection(gdf_compare)\n",
    "\n",
    "    # Calculate the union of the two catchments\n",
    "    union = gdf_base.union(gdf_compare)\n",
    "    \n",
    "    # Calculate the area of the intersection and union\n",
    "    intersection_area = get_area_of_gdf(intersection)\n",
    "    union_area = get_area_of_gdf(union)\n",
    "    \n",
    "    # Calculate the overlap ratio\n",
    "    overlap_ratio = intersection_area / union_area # TODO: normalize between 0 and 1, too big and too small values would cancel each other out in the mean\n",
    "    \n",
    "    return overlap_ratio\n"
   ]
  },
  {
   "cell_type": "markdown",
   "metadata": {},
   "source": [
    "## 2.) Distance between centroids\n",
    "\n",
    "possible to normalize this?"
   ]
  },
  {
   "cell_type": "code",
   "execution_count": 4,
   "metadata": {},
   "outputs": [],
   "source": [
    "def calculate_distance_between_centroids(gdf_base: gpd.GeoDataFrame, gdf_compare: gpd.GeoDataFrame):\n",
    "    \"\"\"\n",
    "    Calculate the distance in m between the centroids of two catchments.  \n",
    "    Returns None if gdf_compare is None.\n",
    "\n",
    "    Parameters:\n",
    "    -------\n",
    "    gdf_base : gpd.GeoDataFrame\n",
    "        GeoDataFrame of the base catchment.\n",
    "    gdf_compare : gpd.GeoDataFrame\n",
    "        GeoDataFrame of the catchment to compare.\n",
    "\n",
    "    Returns:\n",
    "    -------\n",
    "    distance: float\n",
    "        Distance between the centroids of the two catchments in m.\n",
    "\n",
    "    \"\"\"\n",
    "    if gdf_compare is None:\n",
    "        return None\n",
    "    \n",
    "    # transform to crs in meters\n",
    "    gdf_base = gdf_base.to_crs(epsg=6933)\n",
    "    gdf_compare = gdf_compare.to_crs(epsg=6933)\n",
    "    \n",
    "    # Calculate the centroid of the two catchments\n",
    "    centroid_base = gdf_base.centroid\n",
    "    centroid_compare = gdf_compare.centroid\n",
    "\n",
    "    # Calculate the distance between the two centroids in m\n",
    "    distance = centroid_base.distance(centroid_compare).values[0] # TODO: normalization\n",
    "    \n",
    "    return distance"
   ]
  },
  {
   "cell_type": "markdown",
   "metadata": {},
   "source": [
    "## 3.) Difference between area of shapes"
   ]
  },
  {
   "cell_type": "code",
   "execution_count": 5,
   "metadata": {},
   "outputs": [],
   "source": [
    "def calculate_area_difference(gdf_base: gpd.GeoDataFrame, gdf_compare: gpd.GeoDataFrame):\n",
    "    \"\"\"\n",
    "    Calculate the difference in area in m2 between two catchments.  \n",
    "    Returns None if gdf_compare is None.\n",
    "\n",
    "    Parameters:\n",
    "    -------\n",
    "    gdf_base : gpd.GeoDataFrame\n",
    "        GeoDataFrame of the base catchment.\n",
    "    gdf_compare : gpd.GeoDataFrame\n",
    "        GeoDataFrame of the catchment to compare.\n",
    "\n",
    "    Returns:\n",
    "    -------\n",
    "    ratio_area_difference: float\n",
    "        Relative difference in area between the two catchments.\n",
    "\n",
    "    \"\"\"\n",
    "    if gdf_compare is None:\n",
    "        return None\n",
    "    \n",
    "    # Calculate the area of the two catchments\n",
    "    area_base = get_area_of_gdf(gdf_base)\n",
    "    area_compare = get_area_of_gdf(gdf_compare)\n",
    "\n",
    "    # Calculate the absolute difference in area between the two catchments in km2\n",
    "    ratio_area_difference = abs(area_base - area_compare) / area_base # TODO: normalization\n",
    "    \n",
    "    return ratio_area_difference"
   ]
  },
  {
   "cell_type": "markdown",
   "metadata": {},
   "source": [
    "## 4.) Difference to reported area"
   ]
  },
  {
   "cell_type": "code",
   "execution_count": 12,
   "metadata": {},
   "outputs": [],
   "source": [
    "def calculate_relative_difference_to_area_reported(area_reported: float, gdf_compare: gpd.GeoDataFrame):\n",
    "    \"\"\"\n",
    "    Calculate the relative difference in area between a catchment and the reported area.  \n",
    "    Returns None if gdf_compare is None.\n",
    "\n",
    "    Parameters:\n",
    "    -------\n",
    "    area_reported : float\n",
    "        Reported area of the catchment in km2.\n",
    "    gdf_compare : gpd.GeoDataFrame\n",
    "        GeoDataFrame of the catchment to compare.\n",
    "\n",
    "    Returns:\n",
    "    -------\n",
    "    ratio_area_difference: float\n",
    "        Ratio of difference in area between reported area and area of the catchment.  \n",
    "        Equals 0 when the reported area is equal to the area of the catchment.\n",
    "\n",
    "    \"\"\"\n",
    "    if gdf_compare is None:\n",
    "        return None\n",
    "    if area_reported is None or area_reported == 0:\n",
    "        return None\n",
    "    \n",
    "    # Calculate the area of the catchment\n",
    "    area_compare = get_area_of_gdf(gdf_compare)\n",
    "\n",
    "    # Calculate the relative difference in area between the reported area and the area of the catchment\n",
    "    ratio_area_difference = abs(area_reported - area_compare) / area_reported\n",
    "\n",
    "    return ratio_area_difference\n"
   ]
  },
  {
   "cell_type": "markdown",
   "metadata": {},
   "source": [
    "## Execute everything in one cell"
   ]
  },
  {
   "cell_type": "code",
   "execution_count": 29,
   "metadata": {},
   "outputs": [],
   "source": [
    "# get metadata\n",
    "metadata = get_metadata()\n",
    "#metadata = metadata[metadata[\"flag_q_more_than_10_years\"]]\n",
    "\n",
    "# get all camels ids\n",
    "camels_ids = metadata[\"camels_id\"].values\n",
    "\n",
    "# initialize dataframe with camels_ids as index\n",
    "df_results = pd.DataFrame(index=camels_ids)\n",
    "\n",
    "for camels_id in camels_ids:\n",
    "    # initialize station\n",
    "    s = Station(camels_id)\n",
    "\n",
    "    # get catchments for all datasources, check if available\n",
    "    gdf_federal_agency_ezg = s.get_catchment(\"federal_agency_ezg\")\n",
    "    gdf_merit_hydro = s.get_catchment(\"merit_hydro\")\n",
    "    gdf_hydrosheds = s.get_catchment(\"hydrosheds\")\n",
    "    gdf_basis_ezg = s.get_catchment(\"basis_ezg\")\n",
    "\n",
    "    # get reported area\n",
    "    area_reported = s.metadata[\"area\"].values[0]\n",
    "\n",
    "    # fill with None if no catchment or areaa_reported is available\n",
    "    if gdf_federal_agency_ezg is None:\n",
    "        df_results.loc[s.camels_id, \"overlap_fed_merit_hydro\"] = None\n",
    "        df_results.loc[s.camels_id, \"overlap_fed_hydrosheds\"] = None\n",
    "        df_results.loc[s.camels_id, \"overlap_fed_basis_ezg\"] = None\n",
    "        df_results.loc[s.camels_id, \"centroid_distance_fed_merit_hydro\"] = None\n",
    "        df_results.loc[s.camels_id, \"centroid_distance_fed_hydrosheds\"] = None\n",
    "        df_results.loc[s.camels_id, \"centroid_distance_fed_basis_ezg\"] = None\n",
    "        df_results.loc[s.camels_id, \"area_difference_fed_merit_hydro\"] = None\n",
    "        df_results.loc[s.camels_id, \"area_difference_fed_hydrosheds\"] = None\n",
    "        df_results.loc[s.camels_id, \"area_difference_fed_basis_ezg\"] = None\n",
    "    if area_reported is None:\n",
    "        df_results.loc[s.camels_id, \"area_difference_reported_fed_merit_hydro\"] = None\n",
    "        df_results.loc[s.camels_id, \"area_difference_reported_fed_hydrosheds\"] = None\n",
    "        df_results.loc[s.camels_id, \"area_difference_reported_fed_basis_ezg\"] = None\n",
    "\n",
    "    # calculate metrics\n",
    "    if gdf_federal_agency_ezg is not None:\n",
    "        # caluculate percentage of overlap to federal agencies\n",
    "        overlap_merit_hydro = calculate_overlap_ratio_two_catchments(gdf_federal_agency_ezg, gdf_merit_hydro)\n",
    "        overlap_hydrosheds = calculate_overlap_ratio_two_catchments(gdf_federal_agency_ezg, gdf_hydrosheds)\n",
    "        # DEA10710: GeosError when calculating the intersection and union\n",
    "        if camels_id == \"DEA10710\":\n",
    "            overlap_basis_ezg = None\n",
    "        else:\n",
    "            overlap_basis_ezg = calculate_overlap_ratio_two_catchments(gdf_federal_agency_ezg, gdf_basis_ezg)\n",
    "\n",
    "        # save results\n",
    "        df_results.loc[s.camels_id, \"overlap_fed_merit_hydro\"] = overlap_merit_hydro\n",
    "        df_results.loc[s.camels_id, \"overlap_fed_hydrosheds\"] = overlap_hydrosheds\n",
    "        df_results.loc[s.camels_id, \"overlap_fed_basis_ezg\"] = overlap_basis_ezg\n",
    "        df_results.loc[s.camels_id, \"centroid_distance_fed_merit_hydro\"] = calculate_distance_between_centroids(gdf_federal_agency_ezg, gdf_merit_hydro)\n",
    "        df_results.loc[s.camels_id, \"centroid_distance_fed_hydrosheds\"] = calculate_distance_between_centroids(gdf_federal_agency_ezg, gdf_hydrosheds)\n",
    "        df_results.loc[s.camels_id, \"centroid_distance_fed_basis_ezg\"] = calculate_distance_between_centroids(gdf_federal_agency_ezg, gdf_basis_ezg)\n",
    "        df_results.loc[s.camels_id, \"area_difference_fed_merit_hydro\"] = calculate_area_difference(gdf_federal_agency_ezg, gdf_merit_hydro)\n",
    "        df_results.loc[s.camels_id, \"area_difference_fed_hydrosheds\"] = calculate_area_difference(gdf_federal_agency_ezg, gdf_hydrosheds)\n",
    "        df_results.loc[s.camels_id, \"area_difference_fed_basis_ezg\"] = calculate_area_difference(gdf_federal_agency_ezg, gdf_basis_ezg)\n",
    "    df_results.loc[s.camels_id, \"area_difference_reported_fed_merit_hydro\"] = calculate_relative_difference_to_area_reported(area_reported, gdf_merit_hydro)\n",
    "    df_results.loc[s.camels_id, \"area_difference_reported_fed_hydrosheds\"] = calculate_relative_difference_to_area_reported(area_reported, gdf_hydrosheds)\n",
    "    df_results.loc[s.camels_id, \"area_difference_reported_fed_basis_ezg\"] = calculate_relative_difference_to_area_reported(area_reported, gdf_basis_ezg)\n",
    "\n",
    "# make all columns float\n",
    "df_results = df_results.astype(float)"
   ]
  },
  {
   "cell_type": "markdown",
   "metadata": {},
   "source": [
    "## Inspect results"
   ]
  },
  {
   "cell_type": "code",
   "execution_count": 30,
   "metadata": {},
   "outputs": [
    {
     "data": {
      "text/html": [
       "<div>\n",
       "<style scoped>\n",
       "    .dataframe tbody tr th:only-of-type {\n",
       "        vertical-align: middle;\n",
       "    }\n",
       "\n",
       "    .dataframe tbody tr th {\n",
       "        vertical-align: top;\n",
       "    }\n",
       "\n",
       "    .dataframe thead th {\n",
       "        text-align: right;\n",
       "    }\n",
       "</style>\n",
       "<table border=\"1\" class=\"dataframe\">\n",
       "  <thead>\n",
       "    <tr style=\"text-align: right;\">\n",
       "      <th></th>\n",
       "      <th>overlap_fed_merit_hydro</th>\n",
       "      <th>overlap_fed_hydrosheds</th>\n",
       "      <th>overlap_fed_basis_ezg</th>\n",
       "      <th>centroid_distance_fed_merit_hydro</th>\n",
       "      <th>centroid_distance_fed_hydrosheds</th>\n",
       "      <th>centroid_distance_fed_basis_ezg</th>\n",
       "      <th>area_difference_fed_merit_hydro</th>\n",
       "      <th>area_difference_fed_hydrosheds</th>\n",
       "      <th>area_difference_fed_basis_ezg</th>\n",
       "      <th>area_difference_reported_fed_merit_hydro</th>\n",
       "      <th>area_difference_reported_fed_hydrosheds</th>\n",
       "      <th>area_difference_reported_fed_basis_ezg</th>\n",
       "    </tr>\n",
       "  </thead>\n",
       "  <tbody>\n",
       "    <tr>\n",
       "      <th>count</th>\n",
       "      <td>1066.000000</td>\n",
       "      <td>1074.000000</td>\n",
       "      <td>1068.000000</td>\n",
       "      <td>1066.000000</td>\n",
       "      <td>1074.000000</td>\n",
       "      <td>1069.000000</td>\n",
       "      <td>1.066000e+03</td>\n",
       "      <td>1.074000e+03</td>\n",
       "      <td>1.069000e+03</td>\n",
       "      <td>2732.000000</td>\n",
       "      <td>2712.000000</td>\n",
       "      <td>2677.000000</td>\n",
       "    </tr>\n",
       "    <tr>\n",
       "      <th>mean</th>\n",
       "      <td>0.829064</td>\n",
       "      <td>0.492145</td>\n",
       "      <td>0.724619</td>\n",
       "      <td>2545.549048</td>\n",
       "      <td>9271.720427</td>\n",
       "      <td>12369.248948</td>\n",
       "      <td>5.570540e+03</td>\n",
       "      <td>6.004969e+03</td>\n",
       "      <td>8.250331e+00</td>\n",
       "      <td>44.464206</td>\n",
       "      <td>84.690896</td>\n",
       "      <td>11.068654</td>\n",
       "    </tr>\n",
       "    <tr>\n",
       "      <th>std</th>\n",
       "      <td>0.252810</td>\n",
       "      <td>0.321881</td>\n",
       "      <td>0.406609</td>\n",
       "      <td>12832.174207</td>\n",
       "      <td>22597.715495</td>\n",
       "      <td>33375.538610</td>\n",
       "      <td>1.766013e+05</td>\n",
       "      <td>1.853149e+05</td>\n",
       "      <td>1.384536e+02</td>\n",
       "      <td>966.949379</td>\n",
       "      <td>1334.657626</td>\n",
       "      <td>383.573792</td>\n",
       "    </tr>\n",
       "    <tr>\n",
       "      <th>min</th>\n",
       "      <td>0.000000</td>\n",
       "      <td>0.000000</td>\n",
       "      <td>0.000000</td>\n",
       "      <td>1.985461</td>\n",
       "      <td>11.305525</td>\n",
       "      <td>0.000083</td>\n",
       "      <td>2.010423e-05</td>\n",
       "      <td>1.617822e-04</td>\n",
       "      <td>1.068850e-10</td>\n",
       "      <td>0.000005</td>\n",
       "      <td>0.000066</td>\n",
       "      <td>0.000004</td>\n",
       "    </tr>\n",
       "    <tr>\n",
       "      <th>25%</th>\n",
       "      <td>0.843455</td>\n",
       "      <td>0.172813</td>\n",
       "      <td>0.561497</td>\n",
       "      <td>47.009419</td>\n",
       "      <td>1701.414861</td>\n",
       "      <td>40.918089</td>\n",
       "      <td>4.244023e-03</td>\n",
       "      <td>1.463674e-01</td>\n",
       "      <td>3.610016e-03</td>\n",
       "      <td>0.004730</td>\n",
       "      <td>0.118560</td>\n",
       "      <td>0.003055</td>\n",
       "    </tr>\n",
       "    <tr>\n",
       "      <th>50%</th>\n",
       "      <td>0.929499</td>\n",
       "      <td>0.530716</td>\n",
       "      <td>0.965661</td>\n",
       "      <td>174.833700</td>\n",
       "      <td>4238.170148</td>\n",
       "      <td>273.962364</td>\n",
       "      <td>1.582939e-02</td>\n",
       "      <td>6.737597e-01</td>\n",
       "      <td>3.218649e-02</td>\n",
       "      <td>0.021497</td>\n",
       "      <td>0.737038</td>\n",
       "      <td>0.022653</td>\n",
       "    </tr>\n",
       "    <tr>\n",
       "      <th>75%</th>\n",
       "      <td>0.965459</td>\n",
       "      <td>0.803105</td>\n",
       "      <td>0.995000</td>\n",
       "      <td>610.890735</td>\n",
       "      <td>7490.039861</td>\n",
       "      <td>2594.773328</td>\n",
       "      <td>7.744439e-02</td>\n",
       "      <td>3.829456e+00</td>\n",
       "      <td>3.191518e-01</td>\n",
       "      <td>0.113558</td>\n",
       "      <td>5.084203</td>\n",
       "      <td>0.225564</td>\n",
       "    </tr>\n",
       "    <tr>\n",
       "      <th>max</th>\n",
       "      <td>0.994541</td>\n",
       "      <td>0.986580</td>\n",
       "      <td>1.000000</td>\n",
       "      <td>215404.995425</td>\n",
       "      <td>252289.758079</td>\n",
       "      <td>307997.166674</td>\n",
       "      <td>5.764495e+06</td>\n",
       "      <td>6.066951e+06</td>\n",
       "      <td>3.924660e+03</td>\n",
       "      <td>33681.888437</td>\n",
       "      <td>43426.417610</td>\n",
       "      <td>18928.183440</td>\n",
       "    </tr>\n",
       "  </tbody>\n",
       "</table>\n",
       "</div>"
      ],
      "text/plain": [
       "       overlap_fed_merit_hydro  overlap_fed_hydrosheds  overlap_fed_basis_ezg  \\\n",
       "count              1066.000000             1074.000000            1068.000000   \n",
       "mean                  0.829064                0.492145               0.724619   \n",
       "std                   0.252810                0.321881               0.406609   \n",
       "min                   0.000000                0.000000               0.000000   \n",
       "25%                   0.843455                0.172813               0.561497   \n",
       "50%                   0.929499                0.530716               0.965661   \n",
       "75%                   0.965459                0.803105               0.995000   \n",
       "max                   0.994541                0.986580               1.000000   \n",
       "\n",
       "       centroid_distance_fed_merit_hydro  centroid_distance_fed_hydrosheds  \\\n",
       "count                        1066.000000                       1074.000000   \n",
       "mean                         2545.549048                       9271.720427   \n",
       "std                         12832.174207                      22597.715495   \n",
       "min                             1.985461                         11.305525   \n",
       "25%                            47.009419                       1701.414861   \n",
       "50%                           174.833700                       4238.170148   \n",
       "75%                           610.890735                       7490.039861   \n",
       "max                        215404.995425                     252289.758079   \n",
       "\n",
       "       centroid_distance_fed_basis_ezg  area_difference_fed_merit_hydro  \\\n",
       "count                      1069.000000                     1.066000e+03   \n",
       "mean                      12369.248948                     5.570540e+03   \n",
       "std                       33375.538610                     1.766013e+05   \n",
       "min                           0.000083                     2.010423e-05   \n",
       "25%                          40.918089                     4.244023e-03   \n",
       "50%                         273.962364                     1.582939e-02   \n",
       "75%                        2594.773328                     7.744439e-02   \n",
       "max                      307997.166674                     5.764495e+06   \n",
       "\n",
       "       area_difference_fed_hydrosheds  area_difference_fed_basis_ezg  \\\n",
       "count                    1.074000e+03                   1.069000e+03   \n",
       "mean                     6.004969e+03                   8.250331e+00   \n",
       "std                      1.853149e+05                   1.384536e+02   \n",
       "min                      1.617822e-04                   1.068850e-10   \n",
       "25%                      1.463674e-01                   3.610016e-03   \n",
       "50%                      6.737597e-01                   3.218649e-02   \n",
       "75%                      3.829456e+00                   3.191518e-01   \n",
       "max                      6.066951e+06                   3.924660e+03   \n",
       "\n",
       "       area_difference_reported_fed_merit_hydro  \\\n",
       "count                               2732.000000   \n",
       "mean                                  44.464206   \n",
       "std                                  966.949379   \n",
       "min                                    0.000005   \n",
       "25%                                    0.004730   \n",
       "50%                                    0.021497   \n",
       "75%                                    0.113558   \n",
       "max                                33681.888437   \n",
       "\n",
       "       area_difference_reported_fed_hydrosheds  \\\n",
       "count                              2712.000000   \n",
       "mean                                 84.690896   \n",
       "std                                1334.657626   \n",
       "min                                   0.000066   \n",
       "25%                                   0.118560   \n",
       "50%                                   0.737038   \n",
       "75%                                   5.084203   \n",
       "max                               43426.417610   \n",
       "\n",
       "       area_difference_reported_fed_basis_ezg  \n",
       "count                             2677.000000  \n",
       "mean                                11.068654  \n",
       "std                                383.573792  \n",
       "min                                  0.000004  \n",
       "25%                                  0.003055  \n",
       "50%                                  0.022653  \n",
       "75%                                  0.225564  \n",
       "max                              18928.183440  "
      ]
     },
     "execution_count": 30,
     "metadata": {},
     "output_type": "execute_result"
    }
   ],
   "source": [
    "df_results.describe()"
   ]
  },
  {
   "cell_type": "markdown",
   "metadata": {},
   "source": [
    "### Difference to area_reported"
   ]
  },
  {
   "cell_type": "code",
   "execution_count": 32,
   "metadata": {},
   "outputs": [
    {
     "data": {
      "text/plain": [
       "DEG10040       0.244245\n",
       "DEG10100       0.063115\n",
       "DEG10110       0.082459\n",
       "DEG10190      42.551945\n",
       "DEG10250       0.051986\n",
       "               ...     \n",
       "DE112340       3.382116\n",
       "DE112460       0.740880\n",
       "DE112470    2547.921936\n",
       "DE112490       0.063634\n",
       "DE112500       0.158258\n",
       "Name: area_difference_reported_fed_merit_hydro, Length: 1000, dtype: float64"
      ]
     },
     "execution_count": 32,
     "metadata": {},
     "output_type": "execute_result"
    }
   ],
   "source": [
    "df_results[\"area_difference_reported_fed_merit_hydro\"][df_results[\"area_difference_reported_fed_merit_hydro\"] > 0.05]"
   ]
  },
  {
   "cell_type": "markdown",
   "metadata": {},
   "source": [
    "### Histogram"
   ]
  },
  {
   "cell_type": "code",
   "execution_count": 9,
   "metadata": {},
   "outputs": [
    {
     "data": {
      "application/vnd.plotly.v1+json": {
       "config": {
        "plotlyServerURL": "https://plot.ly"
       },
       "data": [
        {
         "name": "MERIT Hydro",
         "opacity": 0.6,
         "type": "histogram",
         "x": [
          null,
          null,
          null,
          null,
          null,
          null,
          null,
          null,
          null,
          null,
          null,
          null,
          null,
          null,
          null,
          null,
          null,
          null,
          null,
          null,
          null,
          null,
          null,
          null,
          null,
          null,
          null,
          null,
          null,
          null,
          null,
          null,
          null,
          null,
          null,
          null,
          null,
          null,
          null,
          null,
          null,
          null,
          null,
          null,
          null,
          null,
          null,
          null,
          null,
          null,
          null,
          null,
          null,
          null,
          null,
          null,
          null,
          null,
          null,
          null,
          null,
          null,
          null,
          null,
          null,
          null,
          null,
          null,
          null,
          null,
          null,
          null,
          null,
          null,
          null,
          null,
          null,
          null,
          null,
          null,
          null,
          null,
          null,
          null,
          null,
          0.868923458086453,
          0.8928803872656744,
          null,
          null,
          null,
          null,
          null,
          null,
          null,
          null,
          null,
          null,
          null,
          null,
          null,
          null,
          null,
          null,
          null,
          null,
          null,
          null,
          null,
          null,
          null,
          null,
          null,
          null,
          null,
          null,
          null,
          null,
          null,
          null,
          null,
          0.0005796524479004143,
          null,
          0.8429960219441226,
          null,
          null,
          null,
          null,
          null,
          null,
          0.8558807937868406,
          null,
          null,
          null,
          0.7570829274577078,
          null,
          null,
          null,
          null,
          null,
          null,
          null,
          null,
          null,
          null,
          null,
          null,
          null,
          null,
          null,
          null,
          null,
          null,
          null,
          null,
          null,
          0.8655128506644303,
          null,
          null,
          null,
          null,
          0.8895495573219587,
          null,
          null,
          null,
          null,
          null,
          null,
          null,
          0.7400407330980494,
          0.8916100722866425,
          null,
          null,
          null,
          null,
          null,
          null,
          null,
          null,
          null,
          null,
          null,
          null,
          null,
          null,
          null,
          null,
          0.8391855932248499,
          null,
          null,
          null,
          null,
          null,
          null,
          null,
          null,
          null,
          null,
          null,
          null,
          null,
          null,
          null,
          null,
          null,
          null,
          0.8808642683305277,
          null,
          null,
          null,
          null,
          null,
          null,
          null,
          null,
          null,
          null,
          null,
          null,
          null,
          null,
          null,
          null,
          null,
          null,
          null,
          null,
          null,
          null,
          null,
          null,
          null,
          null,
          null,
          null,
          null,
          0.8751078841355674,
          null,
          null,
          null,
          0.8427287977645637,
          null,
          null,
          null,
          null,
          null,
          null,
          null,
          null,
          null,
          null,
          null,
          null,
          null,
          null,
          null,
          null,
          null,
          null,
          null,
          null,
          null,
          null,
          null,
          null,
          null,
          null,
          null,
          null,
          null,
          null,
          null,
          0.731197605545995,
          null,
          null,
          null,
          null,
          null,
          null,
          null,
          null,
          null,
          null,
          null,
          null,
          null,
          null,
          null,
          null,
          null,
          null,
          null,
          null,
          null,
          null,
          null,
          null,
          null,
          0.6712993257316521,
          null,
          null,
          null,
          null,
          null,
          null,
          null,
          null,
          0.658554445743497,
          null,
          null,
          null,
          null,
          null,
          null,
          null,
          null,
          null,
          0.9129800502600546,
          0.9004066809123863,
          null,
          null,
          null,
          null,
          null,
          null,
          null,
          null,
          null,
          0.9207821354619924,
          null,
          null,
          null,
          null,
          null,
          null,
          0.8289199976961915,
          null,
          null,
          null,
          null,
          null,
          null,
          null,
          null,
          null,
          null,
          null,
          null,
          null,
          null,
          null,
          null,
          null,
          null,
          null,
          null,
          null,
          0.9115135367349015,
          null,
          0.8520994285294075,
          null,
          null,
          null,
          null,
          null,
          null,
          null,
          null,
          null,
          null,
          null,
          null,
          null,
          null,
          null,
          null,
          null,
          0.1052308630705193,
          null,
          null,
          null,
          0.8806283532791759,
          null,
          null,
          null,
          null,
          null,
          0.8064086473771228,
          0.8849936720113789,
          null,
          null,
          null,
          null,
          null,
          null,
          null,
          null,
          null,
          null,
          null,
          null,
          null,
          0.9137145486643042,
          null,
          0.8982765357583166,
          null,
          null,
          null,
          0.8445008597364686,
          null,
          null,
          null,
          null,
          null,
          null,
          null,
          null,
          null,
          null,
          0.9450734229598584,
          null,
          0.9041077886957668,
          0.8527625495354899,
          null,
          null,
          null,
          null,
          null,
          null,
          null,
          null,
          0.9079722426832919,
          null,
          null,
          0.8734851893205123,
          null,
          null,
          null,
          null,
          null,
          null,
          null,
          null,
          null,
          null,
          null,
          null,
          null,
          null,
          null,
          null,
          null,
          null,
          null,
          null,
          null,
          null,
          null,
          null,
          null,
          null,
          null,
          null,
          null,
          null,
          null,
          null,
          null,
          0.8947512551171849,
          null,
          0.01149047548722097,
          null,
          null,
          0.8937096161947904,
          null,
          0.8336917771440507,
          0.8798075347919297,
          null,
          null,
          null,
          0.8465758452663915,
          null,
          null,
          null,
          null,
          null,
          null,
          null,
          null,
          null,
          null,
          null,
          null,
          null,
          null,
          null,
          null,
          0.8513275523763207,
          null,
          null,
          null,
          null,
          null,
          null,
          null,
          null,
          0.9490726608835578,
          null,
          null,
          null,
          null,
          null,
          0.9516909465638139,
          null,
          null,
          null,
          null,
          null,
          null,
          null,
          0.6474646977342301,
          null,
          null,
          null,
          null,
          null,
          null,
          null,
          null,
          null,
          null,
          null,
          null,
          null,
          null,
          null,
          null,
          null,
          null,
          0.8399061499839906,
          null,
          null,
          null,
          null,
          null,
          0.6667591820275519,
          0.9227022126628907,
          null,
          null,
          null,
          null,
          0.9305717304176612,
          null,
          null,
          null,
          null,
          0.8850428636278362,
          null,
          null,
          null,
          null,
          0.9435083651091739,
          null,
          null,
          null,
          null,
          null,
          null,
          0.9096378983554997,
          0.7995951993624074,
          null,
          0.9623466512397333,
          0.8680172793096251,
          0.002006459051878336,
          0.8999536517874999,
          0.8907732045087,
          0.9120086132376066,
          0.954055769723106,
          0.974602767961979,
          0.001293943300593264,
          0.9515266118776291,
          0.5461713687461396,
          0.9385672578441621,
          0,
          0.9272714563282305,
          0.9755472215826259,
          0.8917579217449826,
          0.688194763263834,
          0.9807744317852573,
          0.9468900154570897,
          0.8696573216505106,
          0.9689757884787437,
          0.8456818144182817,
          0.923695832400514,
          0.793508222890353,
          0.9275191659846626,
          0.2580022409844447,
          0.9524106235620458,
          0.9558250063402605,
          0.9584389699336849,
          0.8853325872568677,
          0.9896214487459625,
          0.9773313263326662,
          0.9793377257837464,
          0.9656667230226943,
          0.981563021875525,
          0.9494325155724811,
          0.2306872561392399,
          0.09944319520050725,
          0.9588331407172078,
          0.9710929438930208,
          0.9227984577494347,
          0.0005413847237098549,
          0.9410655741273095,
          0.9138247381454295,
          0.8484413927661848,
          0.8663576153631802,
          0.9496659320446766,
          0.000937739262374319,
          0.915112083501874,
          0.835343924318163,
          0.9006246862791123,
          0.9613009648379354,
          0.5769367803053748,
          0.9338798893285358,
          0.9229846077303039,
          0.9491119152905041,
          0.6581279318143968,
          0.9930609911001665,
          0.8632594784846078,
          0.9265213498829699,
          0.7817232210551406,
          0.8951618501469234,
          0.8459260205714906,
          0.9885872814976587,
          0.924499839924969,
          0.9455196679965427,
          0.8334287212579992,
          0.9620477176900853,
          0.9945409115772521,
          0.9660838711840912,
          0.9715142648117484,
          0.8866683585437053,
          0.8947708929346694,
          0.8015860920197116,
          0.0028065666410429296,
          0.1191671143422324,
          0.9646227249232507,
          0.48678078341003594,
          0.8488022187195745,
          0.9780146840038858,
          0.9051935729316155,
          0.8788522742150572,
          0.8399275516784274,
          0.9536830529343693,
          0.5761024509411116,
          0.9597162162033899,
          0.9856715655224079,
          0.9771570070270016,
          0.9536609832422933,
          0.8079052198798005,
          0.7892212130942635,
          0.9633911934173841,
          0.9434721830547338,
          0.943963227180573,
          0.9692229163446896,
          0.6302291192048957,
          0.41019960923662424,
          0.8019483274039381,
          0.7420372892153726,
          0.7831544611680442,
          0.906069169329866,
          0.10633814410063482,
          0.9882901792080607,
          0.9183383769117044,
          0.9371131498451609,
          0.9018150976457487,
          0.9194331488678903,
          0.9256659398404409,
          0.7026587957869714,
          0.8929913005053064,
          0.9931673725939004,
          0.9290955942036111,
          0.9717337248374311,
          0.879810292382966,
          0.9162807219092022,
          0.1936930409622421,
          0.860067140788415,
          0.8410686994183119,
          0.8654939724403685,
          0.9020613700896282,
          0.7534696395598051,
          0.8603665093876431,
          0.6567698474459465,
          0.823388856815991,
          0.14391265645211127,
          0.9930036973173674,
          null,
          null,
          null,
          null,
          null,
          null,
          null,
          null,
          null,
          null,
          null,
          null,
          null,
          null,
          null,
          null,
          null,
          null,
          null,
          null,
          null,
          null,
          null,
          null,
          null,
          null,
          null,
          null,
          null,
          null,
          null,
          null,
          null,
          null,
          null,
          null,
          null,
          null,
          null,
          null,
          null,
          null,
          null,
          null,
          null,
          null,
          null,
          null,
          null,
          null,
          null,
          null,
          null,
          null,
          null,
          null,
          null,
          null,
          null,
          null,
          null,
          null,
          null,
          null,
          null,
          null,
          null,
          null,
          null,
          null,
          null,
          null,
          null,
          null,
          null,
          null,
          null,
          null,
          null,
          null,
          null,
          null,
          null,
          null,
          null,
          null,
          null,
          null,
          null,
          null,
          null,
          null,
          null,
          null,
          null,
          null,
          null,
          null,
          null,
          null,
          null,
          null,
          null,
          null,
          null,
          null,
          null,
          null,
          null,
          null,
          null,
          null,
          null,
          null,
          null,
          null,
          null,
          null,
          null,
          null,
          null,
          null,
          null,
          null,
          null,
          null,
          null,
          null,
          null,
          null,
          null,
          null,
          null,
          null,
          null,
          null,
          null,
          null,
          null,
          null,
          null,
          null,
          null,
          null,
          null,
          null,
          null,
          null,
          null,
          null,
          null,
          null,
          null,
          null,
          null,
          null,
          null,
          null,
          null,
          null,
          null,
          null,
          null,
          null,
          null,
          null,
          null,
          null,
          null,
          null,
          null,
          null,
          null,
          null,
          null,
          null,
          null,
          null,
          null,
          null,
          null,
          null,
          null,
          null,
          null,
          null,
          null,
          null,
          null,
          null,
          null,
          null,
          null,
          null,
          null,
          null,
          null,
          null,
          null,
          null,
          null,
          null,
          null,
          null,
          null,
          null,
          null,
          null,
          null,
          null,
          null,
          null,
          null,
          null,
          null,
          null,
          null,
          null,
          null,
          null,
          null,
          null,
          null,
          null,
          null,
          0.526482511560542,
          0.16496957397407128,
          0.9637869256752841,
          0.8935189341821018,
          0.0004509021898419781,
          null,
          0.9710798390488761,
          0.9751036956685957,
          0.2661868725601921,
          null,
          0.9689417258852084,
          null,
          0.1757072091716791,
          0.9796555495767986,
          null,
          null,
          0.5860927649976581,
          0.0859369864156882,
          0.862046752148794,
          null,
          null,
          null,
          0.9191143189254143,
          0.9679275797874656,
          0.0012838497906257726,
          null,
          null,
          0.9741936750268874,
          0.9498220055073261,
          null,
          null,
          0.9168809727353591,
          0.9555045459450909,
          0.9780411027551777,
          null,
          null,
          null,
          0.8771034545648783,
          null,
          0.9739361700536396,
          0.34000860116229453,
          0.3395506605362056,
          0.9787844601929472,
          null,
          null,
          0.9546558039860611,
          0.9378401035129242,
          0.9826580950118101,
          0.976146688452202,
          0.7234641581227114,
          null,
          0.9543121754066173,
          null,
          0.41174522745514747,
          0.9551234230227295,
          0.9622115471003364,
          0.35728955802410023,
          0.977878546558123,
          null,
          0.9360744808758437,
          0.18374390370058477,
          0.6072083849139119,
          null,
          0.714777627886424,
          0.950888846154712,
          0.9639709623123411,
          null,
          null,
          0.9417807756819649,
          0.8717327581294328,
          0.18924229946354384,
          null,
          0.7395640287800931,
          0.9603352330775484,
          0.5378612711239562,
          0.00009949938806945285,
          0.9861819276626008,
          null,
          0.9264200471072248,
          0.8674051237896709,
          0.8428236044936419,
          0.1991504658531946,
          0.9796124519618866,
          null,
          0.1009081077165104,
          0.9108922821253602,
          null,
          null,
          0.43312204428132267,
          0.9823589845151018,
          null,
          null,
          0.8229969275712948,
          0.2556147500912031,
          0.9827240310706735,
          0.9348429825639257,
          0.8532982281724585,
          null,
          null,
          null,
          0.7192750621189515,
          null,
          0.9380544184521448,
          0.9661824826184853,
          0.5856187028836757,
          0.40572584904732095,
          null,
          0.4168049064191133,
          0.9503790280149821,
          null,
          null,
          0.9569029998802447,
          null,
          0.978579382261402,
          null,
          0.9650287890292921,
          0.8347449952291922,
          null,
          null,
          0.9581702226403587,
          0.9319077386193837,
          null,
          0.7301329199869625,
          0.13810231493449202,
          0.9628708278287527,
          0.792938159138753,
          0.4706690465458085,
          0.7311513170863201,
          0.9786493342450842,
          0.8111828797895664,
          0.000984353272803634,
          0.9823716558472565,
          0.9099766944904145,
          0.9711948942668589,
          0.9374275871655268,
          0.4995356661546317,
          0.06052233808108984,
          0.8817535778690369,
          0.9387891702939747,
          0.9895986277258806,
          0.9311961014427432,
          0.905023435923124,
          0.9537923411152964,
          0.9865257421861626,
          0.9871247148063966,
          0.8101549662457354,
          0.9483338819644014,
          0.9441335781446736,
          0.979967464640867,
          0.9845154235958095,
          0.9726812726772706,
          0.5450063329530136,
          0.9345655806966278,
          0.9891324634971166,
          0.9732302278342859,
          0.888071630823071,
          0.14441195312055075,
          0.12761170502435104,
          0.9073749978517962,
          0.9225682555229763,
          0.9840144164801637,
          0.8708826274378002,
          0.9764828520808326,
          0.921459034059765,
          0.980738798798055,
          0.9565592916039503,
          0.9890391827432363,
          0.9655120864890168,
          0.9066869052257713,
          0.98121109818078,
          0.8719316984149066,
          0.9701424569029667,
          0.9781656514002711,
          0.9822019437770756,
          0,
          0.9212464560311137,
          0.9682831243349456,
          0.963106290768604,
          0.9575591993981132,
          0.9517455880685131,
          0.000059148661146244675,
          0.9800462061579923,
          0.6543271499888195,
          0.6769295879742824,
          0.9648327398620964,
          0.9382403152478715,
          0.5778684005269745,
          0.9719184892962027,
          0.8784687162105417,
          0.8798367360109478,
          0.991983413426996,
          0.9686172403061037,
          0.9790735845151223,
          0.8665453926206289,
          0.990254248366295,
          0.9242636526068142,
          0.9502177255392752,
          0.9822065380127305,
          0.9112548645554508,
          0.5362612562774307,
          0.000029071487258155387,
          0.45743306876001283,
          0.9326703579401684,
          0.9537025645111608,
          0.9626817515315211,
          0.8711238817753606,
          null,
          0.9771116973839324,
          0.9580936602544028,
          0.9670973398192578,
          0.4651921784806654,
          0.9466965069592997,
          0.00004463319047982995,
          0.9549230437108518,
          0.9739125024410523,
          0.9942455000435901,
          0.7806955553543502,
          0.9445961842478675,
          0.9852482707392254,
          0.9591667077357015,
          0.6158223293263397,
          0.9547851880283452,
          0.8971311330682057,
          0.5809528229652011,
          0.9923494074188776,
          0.5630280313459114,
          0.9230675439919579,
          0.8633878894396719,
          0.892000674641726,
          0.9211229302515266,
          0.019597091437018578,
          0.818391338018423,
          0.9775375550367528,
          0.938487358841435,
          0.9826905824949554,
          0.9431849864932054,
          0.937548171346795,
          0.000059966176238971016,
          0.9705072348622615,
          0.978559884622187,
          0.9844278190933671,
          0.8884309859984936,
          0.9852773619885822,
          0.9759781131599161,
          0.6234224716997813,
          0.0001517481310650095,
          0.9305319150570553,
          0.8022979504919636,
          0.9503514671279932,
          0.8612102193022559,
          0.9755415271432172,
          0.9809947987601628,
          0.9619290387658769,
          0.9845294572877888,
          0.9816827698857908,
          0.003861356829807482,
          0.8059312650091096,
          0.9370743527843663,
          0.7743208052769971,
          0.9669332715107957,
          0.00015868554123137153,
          0.0006318501740218057,
          0.0000504570030540775,
          0.0037339145372889894,
          0.863372334562084,
          0.9764968798229321,
          0.9395832962049134,
          0.14981807345984252,
          0.9901744383992626,
          0.97352419245675,
          0.9832066612287761,
          0.9846711800458235,
          0.9267537310019145,
          0.9913992141451006,
          0.00442806346515533,
          0.8828300882940171,
          0.9428348320638201,
          0.9706934869949071,
          0.941663853857558,
          0.9731747347119842,
          0.9776104283460781,
          0.8549036929139584,
          0.9290062788016946,
          0.9622638097479207,
          0.9833506252487865,
          0.005648291965065357,
          0.9648794201843781,
          0.9456453440593972,
          0.9510844018290338,
          0.9155905488826228,
          0.9493887251694931,
          0.9732721244909535,
          0.8085210340551987,
          0.9080644476692105,
          0.9712471626596466,
          0.9691774779090272,
          0.7842667322668526,
          0.9264276583338772,
          0.9154304877988158,
          0.3097188745610554,
          0.9139084453746175,
          0.9468060091136644,
          0.9308865125798781,
          0.9287383234348119,
          0.7860254568109782,
          0.9885172579208439,
          0.9568012240836461,
          0.7587124002316981,
          0.9340263904505015,
          0.9912677909125023,
          0.8978601987697857,
          0.9586796534311812,
          0.004371057893982779,
          0.9012054300341712,
          0.668751576920621,
          0.9851162769553422,
          0.7835844810841298,
          0.9793364223395156,
          0.7741188628782931,
          0.9914268339557525,
          0.9557022114488377,
          0.9480380528622383,
          0.978880499822775,
          0.9122605935577438,
          0.9603961941519106,
          0.9842482539930321,
          0.843828850036922,
          0.9786469998501063,
          0.9860076499051696,
          0.9455273087511985,
          0.9010521800662702,
          0.6787383729030326,
          0.07332328637362195,
          0.9527186597951487,
          0.7642726654203001,
          0.7483293655429644,
          0.9726501309845204,
          0.9625577855841971,
          0.7360564063983865,
          0.02933667155555293,
          0.6208171935379905,
          0.8650559803226993,
          0.5636535047695701,
          0.4126596798069831,
          0.9462798360837863,
          0.009438811358062033,
          0.5806464578403254,
          0.9390863279331882,
          0.9352958389151008,
          0.9549534976359999,
          0.9313577729228936,
          0.9043756237329053,
          0.9237251801860514,
          0.9359843717535306,
          0.9186228225565491,
          0.9562594161200941,
          0.9666387733439008,
          0.8837449955340398,
          0.7504060141252512,
          0.9180905898004298,
          0.865948721881659,
          0.7110305443936635,
          0.7823728243368435,
          0.8585036501590995,
          0.8631082548418624,
          0.8257185418008733,
          0.9229133154658495,
          0.9266506655717158,
          0.9269180012380999,
          0.8433923428833572,
          0.9526328553914654,
          0.8828716987739719,
          0.8891551508204966,
          0.7901772432990455,
          0.9492439170126309,
          0.7154853349669996,
          0.7818543464486981,
          0.17490381509291544,
          0.956993329874811,
          0.17798938341299358,
          0.463064017661216,
          0.8377112703263951,
          0.28859798026095324,
          0.002172372794260883,
          0.7382022899056212,
          0.38278590103290117,
          0.6491596477339768,
          0.00007077752588925279,
          0.8741239800496561,
          0.7063986323316455,
          0.23381759248767325,
          0.852050058161071,
          0.7632966171063809,
          0.779950230653928,
          0.7568422308777942,
          0.7618181512663375,
          0.08881845677719778,
          0.2342862628416766,
          0.9546430263908808,
          0.9003170971786032,
          0.9628853017137949,
          0.9569991380068993,
          0.9390825763323818,
          0.8439369817325645,
          0.9148288407164654,
          0.9367034846782202,
          0.9859842933715937,
          0.9856982810464917,
          0.9732758931830889,
          0.9686586078820275,
          0.9549534976359999,
          0.8439608899823443,
          0.9663347524973668,
          0.9308631710363744,
          0.8632456656704389,
          0.7906193458630071,
          0.8815070137493725,
          0.8977769771602354,
          0.9116202490627113,
          0.851045396726958,
          0.9526035908860864,
          0.9465706033833723,
          0.9465706033833723,
          0.8976409446004605,
          0.7576632916324252,
          0.5678921812865652,
          0.747865419900955,
          0.8880117471441974,
          0.2555176619818671,
          0.9625774091317685,
          0.9062661239936389,
          0.9297308954757116,
          0.8625208483055006,
          0.9602031410875457,
          0.9603206941310377,
          0.9203264676194344,
          0.9572495192355726,
          0.861535136098973,
          0.7351005984488287,
          0.6780484576710509,
          0.7873167154815599,
          0.915912697859634,
          0.8644065592146253,
          0.9422741119640612,
          0.9120887644259864,
          0.8593825408640071,
          0.29593884287114114,
          0.7879274159677534,
          0.7693274771001712,
          0.8221915819098783,
          0.8487630488575345,
          0.9152043962266208,
          0.9101389947138029,
          0.6136430600503069,
          0.8015982059555241,
          0.9424511967411543,
          0.9558896341286288,
          0.9497394137079866,
          0.9665575504217122,
          0.971525558170581,
          0.001312400494118571,
          0.9458973980108705,
          0.9171606879690224,
          0.9355861375683009,
          0.9663917881031237,
          0.9684054691253309,
          0.9817772113290858,
          0.9627005080184179,
          0.9774360462513358,
          0.8649455697346736,
          0.9624128381727562,
          0.976421533049315,
          0.9790091256503236,
          0.9568709874916485,
          0.8905000083242597,
          0.9598724349822768,
          0.9371292097493789,
          0.9617746087690756,
          0.9850733510776637,
          0.9409334743721481,
          0.8713912113788214,
          0.9499931257727615,
          0.9566437119372363,
          0.9875968021363365,
          0.9627842377256545,
          0.9559618810694319,
          0.9602767426735846,
          0.9535864750619756,
          0.42830655730007355,
          0.9674924426864681,
          0.9770776865568097,
          0.9820795116196799,
          0.952328781359531,
          0.973328076514803,
          0.9443011297856685,
          0.9048870204353654,
          0.016980895201116494,
          0.9414513990174237,
          0.9076182384920647,
          0.9587627066836713,
          0.8242471253236558,
          0.030107146331825343,
          0.9084054078628214,
          0.94944995873918,
          0.94780044679417,
          0.8113380596706765,
          0.5343839756245986,
          0.3889845650050111,
          0.6333187301556488,
          0.8459010538683587,
          0.8184944347115337,
          0.8084594742891484,
          0.8628583931318345,
          0.9071992705882096,
          0.7960308027587228,
          0.798457024505352,
          0.856646054355723,
          0.6985909852305268,
          0.7741382904151525,
          0.9007810230081741,
          0.9028657866596809,
          0.8464637085988871,
          0.9413367673030343,
          0.8349666059617947,
          0.8219517402558955,
          0.8331784800531314,
          0.8195566633156933,
          0.8712849210953721,
          0.7373809116375604,
          0.6168285106472781,
          0.6467738808954443,
          0.007933004249430857,
          0.0004044223350811972,
          0.8494003467586762,
          0.8207530491158274,
          0.9062868325891983,
          0.87128228372813,
          0.9159019198086414,
          0.8794512554677812,
          0.6241594182777408,
          0.8745211437754641,
          0.8643910243963542,
          0.9048105301921193,
          0.8011674316254711,
          0.8432977021140452,
          0.8602847917296556,
          0.7498741006125398,
          0.9621007816573062,
          0.9206517883610692,
          0.9137346216870332,
          0.0006325215495147689,
          0.9095867992121223,
          0.8829850475589656,
          0.9309587891960972,
          0.9143245851076869,
          0.9032957669452368,
          0.8836977474362903,
          0.8357542061509349,
          0.9296797687805497,
          0.9374276202922744,
          0.9327503032507585,
          0.9074926845584738,
          0.8778724435150845,
          0.92281914475876,
          0.9199716753352815,
          0.9644578940119511,
          0.7234233241120023,
          0.8979872348426021,
          0.8462907304745748,
          0.8969778016473757,
          0.8752455902496622,
          0.7518892405598403,
          0.7173878290447495,
          0.7849958361406721,
          0.915744281636913,
          0.8436440886784153,
          0.8025290562935256,
          0.9332278596714807,
          0.9219102667861018,
          0.009926175264482657,
          0.7972835548603108,
          0.9402261428835843,
          0.9251267360212618,
          0.8780713801017139,
          0.00601993837891204,
          0.028066417655679757,
          0.9309070173575054,
          0.05547239402692986,
          0.7774209562252593,
          0.1497577083401563,
          0.9091852655442887,
          0.9159744622667948,
          0.9529384607968483,
          0.6162791619790129,
          0.04846439404814557,
          0.9520465940241867,
          0.5173970916949955,
          0.7426865690281746,
          0.979268693530959,
          0.8902022355094548,
          0.25273718639522186,
          0.9449590200149565,
          0.0031104391022342033,
          null,
          null,
          null,
          null,
          null,
          null,
          null,
          null,
          null,
          null,
          null,
          null,
          null,
          null,
          null,
          null,
          null,
          null,
          null,
          null,
          null,
          null,
          null,
          null,
          null,
          null,
          null,
          null,
          null,
          null,
          null,
          null,
          null,
          null,
          null,
          null,
          null,
          null,
          null,
          null,
          null,
          null,
          null,
          null,
          null,
          null,
          null,
          null,
          null,
          null,
          null,
          null,
          null,
          null,
          null,
          null,
          null,
          null,
          null,
          null,
          null,
          null,
          null,
          null,
          null,
          null,
          null,
          null,
          null,
          null,
          null,
          null,
          null,
          null,
          null,
          null,
          null,
          null,
          null,
          null,
          null,
          null,
          null,
          null,
          null,
          null,
          null,
          null,
          null,
          null,
          null,
          null,
          null,
          null,
          null,
          null,
          null,
          null,
          null,
          null,
          null,
          null,
          null,
          null,
          null,
          null,
          null,
          null,
          null,
          null,
          null,
          null,
          null,
          null,
          null,
          null,
          null,
          null,
          null,
          null,
          null,
          null,
          null,
          null,
          null,
          null,
          null,
          null,
          null,
          null,
          null,
          null,
          null,
          null,
          null,
          null,
          null,
          null,
          null,
          null,
          null,
          null,
          null,
          null,
          null,
          null,
          null,
          null,
          null,
          null,
          null,
          null,
          null,
          null,
          null,
          null,
          null,
          null,
          null,
          null,
          null,
          null,
          null,
          null,
          null,
          null,
          null,
          null,
          null,
          null,
          null,
          null,
          null,
          null,
          null,
          null,
          null,
          null,
          null,
          null,
          null,
          null,
          null,
          null,
          null,
          null,
          null,
          null,
          null,
          null,
          null,
          null,
          null,
          null,
          null,
          null,
          null,
          null,
          null,
          null,
          null,
          null,
          null,
          null,
          null,
          null,
          null,
          null,
          null,
          null,
          null,
          null,
          null,
          null,
          null,
          null,
          null,
          null,
          null,
          null,
          null,
          null,
          null,
          null,
          null,
          null,
          null,
          null,
          null,
          0.9802536762586881,
          0.9621563149235092,
          0.9488259241647122,
          0.9845310139924299,
          0.986755819536727,
          0.9576284607039534,
          0.9717963784068255,
          0.9579341086132692,
          0.9448126635580962,
          0.9901670100146716,
          0.9828475830391724,
          0.9418470098170318,
          0.970223839966246,
          0.9755177254594172,
          0.03385750996505754,
          0.9681482740259879,
          0.9551549645231019,
          0.9790720060059291,
          0.952270527168126,
          0.9755585657623529,
          0.9773253314322691,
          0.9575264565085241,
          0.972452234128996,
          0.9058063431953816,
          0.9722540534896826,
          0.9470870488967884,
          0.9643397773003638,
          0.980110120798727,
          0.9714323552464944,
          0.970065800647483,
          0.9142903418741014,
          0.9801733443797396,
          0.9892615671060676,
          0.9880727357101973,
          0.9741544388941704,
          0.9674418007005258,
          0.9554649940920692,
          0.9769255756885838,
          0.9677785020545073,
          0.9056999582837818,
          0.9835386904940324,
          0.9451155449264126,
          0.9510657790528789,
          0.9754470661234275,
          0.9904475067439306,
          0.9642707401886383,
          0.9599619228652371,
          0.9831528078654924,
          0.0008033284041282186,
          0.9572704392737483,
          0.9346105768589932,
          0.98228351631997,
          0.9696336181980256,
          0.9888859048979646,
          0.9741529393048908,
          0.986956765381603,
          0.9796538776650021,
          0.9734669656213125,
          0.8940126226913434,
          0.9453095779839887,
          0.9087132151621332,
          0.9747351823255922,
          0.9877973814226936,
          0.9371241623139928,
          0.9808108730097298,
          0.9787759034481124,
          0.9591380741280242,
          0.9570680752379924,
          0.9575271011404926,
          0.8196511949569537,
          0.9860445674533276,
          0.983707756966081,
          0.9861050427914725,
          0.9468394856729956,
          0.9655678170256914,
          0.9579658596933315,
          0.9517756256857542,
          0.9663383086294818,
          0.9793424783080539,
          0.9832856170262504,
          0.9819888009576564,
          0.9301008647939508,
          0.9680665831379354,
          0.9723284994129864,
          0.9614360708221591,
          0.9542898751731339,
          0.9214157289780636,
          0.913807193997472,
          0.915724063923126,
          0.9705741255717789,
          0.9792849325027715,
          0.9304653828826498,
          0.950914057432384,
          0.9867112905715436,
          0.966372904231433,
          0.9820420392177275,
          0.0025621228565167616,
          null,
          null,
          null,
          null,
          null,
          null,
          null,
          null,
          null,
          null,
          null,
          null,
          null,
          null,
          null,
          null,
          null,
          null,
          null,
          null,
          null,
          null,
          null,
          null,
          null,
          null,
          null,
          null,
          null,
          null,
          null,
          null,
          null,
          null,
          null,
          null,
          null,
          null,
          null,
          null,
          null,
          null,
          null,
          null,
          null,
          null,
          null,
          null,
          null,
          null,
          null,
          null,
          null,
          null,
          null,
          null,
          null,
          null,
          null,
          null,
          null,
          null,
          null,
          null,
          null,
          null,
          null,
          null,
          null,
          null,
          null,
          null,
          null,
          null,
          null,
          null,
          null,
          null,
          null,
          null,
          null,
          null,
          null,
          null,
          null,
          null,
          null,
          null,
          null,
          null,
          null,
          null,
          null,
          null,
          null,
          null,
          null,
          null,
          null,
          null,
          null,
          null,
          null,
          null,
          null,
          null,
          null,
          null,
          null,
          null,
          null,
          null,
          null,
          null,
          null,
          null,
          null,
          null,
          null,
          null,
          null,
          null,
          null,
          null,
          null,
          null,
          null,
          null,
          null,
          null,
          null,
          null,
          null,
          null,
          null,
          null,
          null,
          null,
          null,
          null,
          null,
          null,
          null,
          null,
          null,
          null,
          null,
          null,
          null,
          null,
          null,
          null,
          null,
          null,
          null,
          null,
          null,
          null,
          null,
          null,
          null,
          null,
          null,
          null,
          null,
          null,
          null,
          null,
          null,
          null,
          null,
          null,
          null,
          null,
          null,
          null,
          null,
          null,
          null,
          null,
          null,
          null,
          null,
          null,
          null,
          null,
          null,
          null,
          null,
          null,
          null,
          null,
          null,
          null,
          null,
          null,
          null,
          null,
          null,
          null,
          null,
          null,
          null,
          null,
          null,
          null,
          null,
          null,
          null,
          null,
          null,
          null,
          null,
          null,
          null,
          null,
          null,
          null,
          null,
          null,
          null,
          null,
          null,
          null,
          null,
          null,
          null,
          null,
          null,
          null,
          null,
          null,
          null,
          null,
          null,
          null,
          null,
          null,
          null,
          null,
          null,
          null,
          null,
          null,
          null,
          null,
          null,
          null,
          null,
          null,
          null,
          null,
          null,
          null,
          null,
          null,
          null,
          null,
          null,
          null,
          null,
          null,
          null,
          null,
          null,
          null,
          null,
          null,
          null,
          null,
          null,
          null,
          null,
          null,
          null,
          null,
          null,
          null,
          null,
          null,
          null,
          null,
          null,
          null,
          null,
          null,
          null,
          null,
          null,
          null,
          null,
          null,
          null,
          null,
          null,
          null,
          null,
          null,
          null,
          null,
          null,
          null,
          null,
          null,
          null,
          null,
          null,
          null,
          null,
          null,
          null,
          null,
          null,
          null,
          null,
          null,
          null,
          null,
          null,
          null,
          null,
          null,
          null,
          null,
          null,
          null,
          null,
          null,
          null,
          null,
          null,
          null,
          null,
          null,
          null,
          null,
          null,
          null,
          null,
          null,
          null,
          null,
          null,
          null,
          null,
          null,
          null,
          null,
          null,
          null,
          null,
          null,
          null,
          null,
          null,
          null,
          null,
          null,
          null,
          null,
          null,
          null,
          null,
          null,
          null,
          null,
          null,
          null,
          null,
          null,
          null,
          null,
          null,
          null,
          null,
          null,
          null,
          null,
          null,
          null,
          null,
          null,
          null,
          null,
          null,
          null,
          null,
          null,
          null,
          null,
          null,
          null,
          null,
          null,
          null,
          null,
          null,
          null,
          null,
          null,
          null,
          null,
          null,
          null,
          null,
          null,
          null,
          null,
          null,
          null,
          null,
          null,
          null,
          null,
          null,
          null,
          null,
          null,
          null,
          null,
          null,
          null,
          null,
          null,
          null,
          null,
          null,
          null,
          null,
          null,
          null,
          null,
          null,
          null,
          null,
          null,
          null,
          null,
          null,
          null,
          null,
          null,
          null,
          null,
          null,
          null,
          null,
          null,
          null,
          null,
          null,
          null,
          null,
          null,
          null,
          null,
          null,
          null,
          null,
          null,
          null,
          null,
          null,
          null,
          null,
          null,
          null,
          null,
          null,
          null,
          null,
          null,
          null,
          null,
          null,
          null,
          null,
          null,
          null,
          null,
          null,
          null,
          null,
          null,
          null,
          null,
          null,
          null,
          null,
          null,
          null,
          null,
          null,
          null,
          null,
          null,
          null,
          null,
          null,
          null,
          null,
          null,
          null,
          null,
          null,
          null,
          null,
          null,
          null,
          null,
          null,
          null,
          null,
          null,
          null,
          null,
          null,
          null,
          null,
          null,
          null,
          null,
          null,
          null,
          null,
          null,
          null,
          null,
          null,
          null,
          null,
          null,
          null,
          null,
          null,
          null,
          null,
          null,
          null,
          null,
          null,
          null,
          null,
          null,
          null,
          null,
          null,
          null,
          null,
          null,
          null,
          null,
          null,
          null,
          null,
          null,
          null,
          null,
          null,
          null,
          null,
          null,
          null,
          null,
          null,
          null,
          null,
          null,
          null,
          null,
          null,
          null,
          null,
          null,
          null,
          null,
          null,
          null,
          null,
          null,
          null,
          null,
          null,
          null,
          null,
          null,
          null,
          null,
          null,
          null,
          null,
          null,
          null,
          null,
          null,
          null,
          null,
          null,
          null,
          null,
          null,
          null,
          null,
          null,
          null,
          null,
          null,
          null,
          null,
          null,
          null,
          null,
          null,
          null,
          null,
          null,
          null,
          null,
          null,
          null,
          null,
          null,
          null,
          null,
          null,
          null,
          null,
          null,
          null,
          null,
          null,
          null,
          null,
          null,
          null,
          null,
          null,
          null,
          null,
          null,
          null,
          null,
          null,
          null,
          null,
          null,
          null,
          null,
          null,
          null,
          null,
          null,
          null,
          null,
          null,
          null,
          null,
          null,
          null,
          null,
          null,
          null,
          null,
          null,
          null,
          null,
          null,
          null,
          null,
          null,
          null,
          null,
          null,
          null,
          null,
          null,
          null,
          null,
          null,
          null,
          null,
          null,
          null,
          null,
          null,
          null,
          null,
          null,
          null,
          null,
          null,
          null,
          null,
          null,
          null,
          null,
          null,
          null,
          null,
          null,
          null,
          null,
          null,
          null,
          null,
          null,
          null,
          null,
          null,
          null,
          null,
          null,
          null,
          null,
          null,
          null,
          null,
          null,
          null,
          null,
          null,
          null,
          null,
          null,
          null,
          null,
          null,
          null,
          null,
          null,
          null,
          null,
          null,
          null,
          null,
          null,
          null,
          null,
          null,
          null,
          null,
          null,
          null,
          null,
          null,
          null,
          null,
          null,
          null,
          null,
          null,
          null,
          null,
          null,
          null,
          null,
          null,
          null,
          null,
          null,
          null,
          null,
          null,
          null,
          null,
          null,
          null,
          null,
          0.9606194141521557,
          0.962656426334002,
          0.9598622818769583,
          0.970059934766549,
          0.9234048352230887,
          0.9557859185989058,
          0.956420753074792,
          null,
          0.9737536528523388,
          0.8901665947435559,
          0.9652231650824985,
          0.000007395414915722293,
          0.8925319808920708,
          0.9356180234085432,
          0.9282346340393428,
          0.9626919521802688,
          0.9487047868398457,
          0.9706915399869375,
          0.9717242532430481,
          0.9473669650419699,
          0.9791556435537021,
          0.9579824402863125,
          0.9177861790070917,
          0.9535480085364604,
          0.7640285832710979,
          0.9715061514943996,
          0.9229718801766718,
          0.9780601181774145,
          0.9180725921077069,
          0.9186634871757076,
          0.9799013381523008,
          0.98910394216719,
          0.9825842555702768,
          0.9819663375346815,
          0.965292447952994,
          0.9545915865139062,
          0.9629033014681382,
          0.973394225783316,
          0.9724174976968344,
          0.9640272039428481,
          0.9779360335940143,
          0.951478478292778,
          0.977555867323297,
          0.9870554855587431,
          0.9798351371886883,
          0.9669357384091838,
          0.9668782936844638,
          null,
          0.9590201277373664,
          0.9570465763258517,
          0.9626429827872856,
          0.9587990791117043,
          0.9659839212012175,
          0.9740460449105849,
          0.9717539248567713,
          0.9824208552099323,
          0.9807394431650734,
          0.9846111955240221,
          0.4318079498667026,
          0.00004151920264234748,
          0.8915015350862385,
          0.9457260577797263,
          0.9543052878016163,
          0.06781080040488578,
          0.9065644172157474,
          0.9626536170124416,
          0.9527817193393611,
          0.9792590362031584,
          0.9440420906734742,
          0.9235876251189805,
          0.9148852337613211,
          0.9129351769138992,
          0.8493490387652335,
          0.8778082575245574,
          0.11291505666611949,
          0.9169943194828564,
          null,
          null,
          0.8903213537283082,
          0.9536536863270011,
          0.9251752118407187,
          0.9617859212341785,
          0.9405252894146614,
          0.9103494012175198,
          0.894035358223158,
          null,
          0.8249056857053286,
          0.8702273334294365,
          0.8918090307379201,
          0,
          0.9729830544856938,
          0.9052931059033978,
          0.9844397335950777,
          0.9822276345561772,
          0.9802824356544416,
          0.9476749803733411,
          0.9761359596768516,
          0.9801584824466588,
          0.965298325051125,
          0.9558454749254744,
          0.9229509902972963,
          0.9631817832886266,
          0.9500457521084519,
          0.9835369676209184,
          0.9748596235777001,
          0.7698945791627612,
          0.909360621862466,
          0.973696105135069,
          null,
          null,
          0.9866971503241242,
          0.9626679062544126,
          0.8909690876494679,
          0.966939578318387,
          0.9550496112947269,
          0.929317727224902,
          0.9459763019343012,
          0.9043086911680113,
          0.9149610906845749,
          0.9290774663349074,
          0.7854181147630581,
          0.9578118578213828,
          0.8403031021570769,
          0.9473219307320878,
          0.9223994587165493,
          0.9478063246347166,
          0.9775516419107304,
          0.9733892801869416,
          0.9621059766353807,
          0.9154348868219178,
          0.9616558485332122,
          0.9723584846672984,
          0.9836366170256896,
          0.9484644226331311,
          0.8161383306224924,
          0.8793370333582592,
          0.7507526729823867,
          0.9683742796310392,
          0.9651562802266278,
          0.9668748184564117,
          0.9668150804528235,
          0.9814266711081092,
          0.974621045900537,
          0.979060364141245,
          0.9771274181228876,
          0.9173231230999579,
          0.9552982466767639,
          0.8399945844349336,
          0.9376542185527219,
          0.9832800297353615,
          0.9763750666410511,
          0.965265037471814,
          null,
          null,
          0.4318582516283273,
          0.9665566423787306,
          0.9889488362208653,
          0.9800058385151124,
          0.9675856743444475,
          0.972654380676215,
          0.9788246799549196,
          0.9866753053909668,
          0.9184768840063923,
          0.970532336682035,
          0.9330793530529229,
          0.8677961579776404,
          0.9373029581610185,
          0.9554734341205758,
          0.9621202894319,
          null,
          0.9664480801363167,
          0.9663745756312531,
          0.9896672472219185,
          0.9845471372182142,
          0.9530986546955471,
          0.9099142917905292,
          0.8835908736068478,
          0.8582042979637807,
          0.9399447839723325,
          0.9353234484087061,
          0.8280323414137396,
          0.9097577642687034,
          0.9749272568079024,
          0.9272308430378579,
          0.9631505156738335,
          0.9830371391068262,
          0.9481989636739211,
          0.9863877269364745,
          0.9752272632440833,
          0.9834086792195608,
          0.9403098168147823,
          0.9313002421705942,
          0.9896619675826702,
          1.7347569089641904e-7,
          0.9328088979667198,
          0.8086269327198171,
          0.988083969265847,
          0.4373779570735742,
          0.9199719133312796,
          0.8456228690434132,
          0.9680545870801781,
          0.9537743117262306,
          0.9646208963108514,
          0.9914733513898693,
          0.8441819522775923,
          0.9738101730839924,
          0.9240845134104706,
          0.979404514734042,
          null,
          null,
          0.9625856436725507,
          0.9687322598730993,
          0.9407147426633338,
          0.9822142837048716,
          0.935009308572904,
          null,
          0.9382950340685589,
          0.9754052868244778,
          0.8786911456377441,
          0.9588153537115583,
          0.9697906710806522,
          0.9608935264235059,
          0.9178178527208245,
          null,
          null,
          null,
          0.9576700835315269,
          0.00632632293290723,
          0.9164850779046856,
          0.7819884536987366,
          null,
          null,
          0.9525644982663931,
          0.9907000750142313,
          0.21111650391037248,
          0.9706102699196775,
          0.944426808608862,
          0.9725570695089537,
          0.9786451820492899,
          0.9138758003698085,
          0.8971471055849866,
          0.9483171220736304,
          0.9872322412908979,
          null,
          0.29312894693041147,
          0.8768927808198039,
          0.5615688121045893,
          null,
          0.9638624672965843,
          0.8437459926233862,
          0.7292093722375242,
          null
         ],
         "xbins": {
          "end": 1,
          "size": 0.05,
          "start": 0
         }
        },
        {
         "name": "HydroSHEDS",
         "opacity": 0.6,
         "type": "histogram",
         "x": [
          null,
          null,
          null,
          null,
          null,
          null,
          null,
          null,
          null,
          null,
          null,
          null,
          null,
          null,
          null,
          null,
          null,
          null,
          null,
          null,
          null,
          null,
          null,
          null,
          null,
          null,
          null,
          null,
          null,
          null,
          null,
          null,
          null,
          null,
          null,
          null,
          null,
          null,
          null,
          null,
          null,
          null,
          null,
          null,
          null,
          null,
          null,
          null,
          null,
          null,
          null,
          null,
          null,
          null,
          null,
          null,
          null,
          null,
          null,
          null,
          null,
          null,
          null,
          null,
          null,
          null,
          null,
          null,
          null,
          null,
          null,
          null,
          null,
          null,
          null,
          null,
          null,
          null,
          null,
          null,
          null,
          null,
          null,
          null,
          null,
          0.29766475582303753,
          0.3199832762182757,
          null,
          null,
          null,
          null,
          null,
          null,
          null,
          null,
          null,
          null,
          null,
          null,
          null,
          null,
          null,
          null,
          null,
          null,
          null,
          null,
          null,
          null,
          null,
          null,
          null,
          null,
          null,
          null,
          null,
          null,
          null,
          null,
          null,
          0.08433604107435341,
          null,
          0.38748875663757343,
          null,
          null,
          null,
          null,
          null,
          null,
          0.1485876016467126,
          null,
          null,
          null,
          0.43129500763352063,
          null,
          null,
          null,
          null,
          null,
          null,
          null,
          null,
          null,
          null,
          null,
          null,
          null,
          null,
          null,
          null,
          null,
          null,
          null,
          null,
          null,
          0.23664356895131458,
          null,
          null,
          null,
          null,
          0.5487250121935701,
          null,
          null,
          null,
          null,
          null,
          null,
          null,
          0.050063679636287495,
          0.741985097713235,
          null,
          null,
          null,
          null,
          null,
          null,
          null,
          null,
          null,
          null,
          null,
          null,
          null,
          null,
          null,
          null,
          0.4707131998344593,
          null,
          null,
          null,
          null,
          null,
          null,
          null,
          null,
          null,
          null,
          null,
          null,
          null,
          null,
          null,
          null,
          null,
          null,
          0.07195900616482527,
          null,
          null,
          null,
          null,
          null,
          null,
          null,
          null,
          null,
          null,
          null,
          null,
          null,
          null,
          null,
          null,
          null,
          null,
          null,
          null,
          null,
          null,
          null,
          null,
          null,
          null,
          null,
          null,
          null,
          0.2544123169360769,
          null,
          null,
          null,
          0.5433613761813559,
          null,
          null,
          null,
          null,
          null,
          null,
          null,
          null,
          null,
          null,
          null,
          null,
          null,
          null,
          null,
          null,
          null,
          null,
          null,
          null,
          null,
          null,
          null,
          null,
          null,
          null,
          null,
          null,
          null,
          null,
          null,
          0.3511196473171219,
          null,
          null,
          null,
          null,
          null,
          null,
          null,
          null,
          null,
          null,
          null,
          null,
          null,
          null,
          null,
          null,
          null,
          null,
          null,
          null,
          null,
          null,
          null,
          null,
          null,
          0.034042754692626985,
          null,
          null,
          null,
          null,
          null,
          null,
          null,
          null,
          0.09533095409396933,
          null,
          null,
          null,
          null,
          null,
          null,
          null,
          null,
          null,
          0.00310417379298685,
          0.7129935945191938,
          null,
          null,
          null,
          null,
          null,
          null,
          null,
          null,
          null,
          0.14893223433458141,
          null,
          null,
          null,
          null,
          null,
          null,
          0.07877547019779882,
          null,
          null,
          null,
          null,
          null,
          null,
          null,
          null,
          null,
          null,
          null,
          null,
          null,
          null,
          null,
          null,
          null,
          null,
          null,
          null,
          null,
          0.40791521464234387,
          null,
          0.4389685949158837,
          null,
          null,
          null,
          null,
          null,
          null,
          null,
          null,
          null,
          null,
          null,
          null,
          null,
          null,
          null,
          null,
          null,
          0.10406023446001832,
          null,
          null,
          null,
          0.8745667561960302,
          null,
          null,
          null,
          null,
          null,
          0.5538430925448699,
          0.5728094156404699,
          null,
          null,
          null,
          null,
          null,
          null,
          null,
          null,
          null,
          null,
          null,
          null,
          null,
          0.25634186610307663,
          null,
          0.8277526230611217,
          null,
          null,
          null,
          0.5798354563585838,
          null,
          null,
          null,
          null,
          null,
          null,
          null,
          null,
          null,
          null,
          0.6433248864136706,
          null,
          0.45082753578915336,
          0.18472540072982566,
          null,
          null,
          null,
          null,
          null,
          null,
          null,
          null,
          0.5539052425436257,
          null,
          null,
          0.7877230049317351,
          null,
          null,
          null,
          null,
          null,
          null,
          null,
          null,
          null,
          null,
          null,
          null,
          null,
          null,
          null,
          null,
          null,
          null,
          null,
          null,
          null,
          null,
          null,
          null,
          null,
          null,
          null,
          null,
          null,
          null,
          null,
          null,
          null,
          0.7123366743078405,
          null,
          0.010597849665720128,
          null,
          null,
          0.6052857436268793,
          null,
          0.23861367894068877,
          0.27985362356754007,
          null,
          null,
          null,
          0.46364855988783255,
          null,
          null,
          null,
          null,
          null,
          null,
          null,
          null,
          null,
          null,
          null,
          null,
          null,
          null,
          null,
          null,
          0.00834728732108759,
          null,
          null,
          null,
          null,
          null,
          null,
          null,
          null,
          0.6003331704493335,
          null,
          null,
          null,
          null,
          null,
          0.7543311748121997,
          null,
          null,
          null,
          null,
          null,
          null,
          null,
          0.09508513841598892,
          null,
          null,
          null,
          null,
          null,
          null,
          null,
          null,
          null,
          null,
          null,
          null,
          null,
          null,
          null,
          null,
          null,
          null,
          0.10832535924879161,
          null,
          null,
          null,
          null,
          null,
          0.06318970300196707,
          0.25919836034513666,
          null,
          null,
          null,
          null,
          0.573090565575857,
          null,
          null,
          null,
          null,
          0.6891394230071228,
          null,
          null,
          null,
          null,
          0.23964661138590887,
          null,
          null,
          null,
          null,
          null,
          null,
          0.787949762889186,
          0.0509160050273604,
          null,
          0.5623021367773623,
          0.24615801744362964,
          0.00007863594357280788,
          0.15512999127255014,
          0.6879057956208485,
          0.8530533311978814,
          0.4854063832603561,
          0.6797574786508135,
          0.0030439242384836755,
          0.31423896812024277,
          0.42113094614721325,
          0.8627254465803924,
          0.0458421488364905,
          0.6884995474648373,
          0.8036708511268733,
          0.28997431680431474,
          0.02136153633866681,
          0.9453687505092229,
          0.782962081142062,
          0.7605652691383737,
          0.8553135428694671,
          0.012646290880360922,
          0.22268773503853534,
          0.5758861874365612,
          0.008526958807859697,
          0.07111965073497915,
          0.8557268283441688,
          0.3352138229995653,
          0.0700740008463765,
          0.7440160023656244,
          0.9786391474536593,
          0.6784708683652613,
          0.8319237072739653,
          0.8971688901196498,
          0.8283111053787225,
          0.15749302217902242,
          0.22329986924611622,
          0.0016407306057432786,
          0.9495411776530565,
          0.9073815870961636,
          0.8595125843740673,
          0.7774266182498815,
          0.849685290276892,
          0.75352085968356,
          0.7645388732270676,
          0.54167649215279,
          0.9316221938674547,
          0.09290365474838266,
          0.5496818083955664,
          0.2850327534994743,
          0.8069665250856172,
          0.05527579414769087,
          0.0024034911639753223,
          0.8421831870580907,
          0.6165302936041929,
          0.7403270246379121,
          0.038874061762938054,
          0.9749719120764246,
          0.44820580628522255,
          0.8672161265299597,
          0.4187480566447827,
          0.1912116591749727,
          0.5939461134942318,
          0.8484692704320883,
          0.1258788613688859,
          0.5267053438316814,
          0.2787180422490975,
          0.6332422089809822,
          0.9865796929723335,
          0.6227655228090553,
          0.566839738879755,
          0.19304366514386462,
          0.7144622437451645,
          0.2415722561831513,
          0.004026714064997305,
          0.048421648007637805,
          0.40200235364994275,
          0.3000909043515309,
          0.5709342996206913,
          0.9364368186461932,
          0.5081024507407308,
          0.005728732096776495,
          0.4753251646625232,
          0.3155223225819162,
          0.4448430483686383,
          0.3612765163610037,
          0.868040779934697,
          0.5841563282182798,
          0.6709711534765073,
          0.2767184045375363,
          0.0017705216845706345,
          0.87207048470886,
          0.15817672491311938,
          0.18386616956729301,
          0.8754167512033029,
          0.31034083841172355,
          0.047531699357762545,
          0.002061071503989872,
          0.34329853896247714,
          0.37010688608562586,
          0.06993011312103568,
          0.08820490301690115,
          0.9515412940985639,
          0.18014000215003154,
          0.31879528458288287,
          0.692636376938252,
          0.7780185747475551,
          0.002386382072997672,
          0.7583996554315969,
          0.7141197819143936,
          0.970803283276629,
          0.06413958544726621,
          0.7692770830827399,
          0.3855359250469469,
          0.7774655227244134,
          0.011469880170471567,
          0.5361618743695848,
          0.8394713124952841,
          0.10306396197937606,
          0.6698473507600424,
          0.8937090564465464,
          0.005713673724260296,
          0.6028130545356177,
          0.17514941120236477,
          0.34582933411395145,
          0.9779616089245702,
          null,
          null,
          null,
          null,
          null,
          null,
          null,
          null,
          null,
          null,
          null,
          null,
          null,
          null,
          null,
          null,
          null,
          null,
          null,
          null,
          null,
          null,
          null,
          null,
          null,
          null,
          null,
          null,
          null,
          null,
          null,
          null,
          null,
          null,
          null,
          null,
          null,
          null,
          null,
          null,
          null,
          null,
          null,
          null,
          null,
          null,
          null,
          null,
          null,
          null,
          null,
          null,
          null,
          null,
          null,
          null,
          null,
          null,
          null,
          null,
          null,
          null,
          null,
          null,
          null,
          null,
          null,
          null,
          null,
          null,
          null,
          null,
          null,
          null,
          null,
          null,
          null,
          null,
          null,
          null,
          null,
          null,
          null,
          null,
          null,
          null,
          null,
          null,
          null,
          null,
          null,
          null,
          null,
          null,
          null,
          null,
          null,
          null,
          null,
          null,
          null,
          null,
          null,
          null,
          null,
          null,
          null,
          null,
          null,
          null,
          null,
          null,
          null,
          null,
          null,
          null,
          null,
          null,
          null,
          null,
          null,
          null,
          null,
          null,
          null,
          null,
          null,
          null,
          null,
          null,
          null,
          null,
          null,
          null,
          null,
          null,
          null,
          null,
          null,
          null,
          null,
          null,
          null,
          null,
          null,
          null,
          null,
          null,
          null,
          null,
          null,
          null,
          null,
          null,
          null,
          null,
          null,
          null,
          null,
          null,
          null,
          null,
          null,
          null,
          null,
          null,
          null,
          null,
          null,
          null,
          null,
          null,
          null,
          null,
          null,
          null,
          null,
          null,
          null,
          null,
          null,
          null,
          null,
          null,
          null,
          null,
          null,
          null,
          null,
          null,
          null,
          null,
          null,
          null,
          null,
          null,
          null,
          null,
          null,
          null,
          null,
          null,
          null,
          null,
          null,
          null,
          null,
          null,
          null,
          null,
          null,
          null,
          null,
          null,
          null,
          null,
          null,
          null,
          null,
          null,
          null,
          null,
          null,
          null,
          null,
          0.43754297362366246,
          0.14594894700025002,
          0.8309434923561967,
          0.6490351125514382,
          0.006833367407269897,
          null,
          0.035479247272178716,
          0.9296490554911224,
          0.2500664425531758,
          null,
          0.22583455201109276,
          null,
          0.1518673198149521,
          0.11913110629095089,
          null,
          null,
          0.13142029311097184,
          0.08161602145269828,
          0.6456653795196349,
          null,
          null,
          null,
          0.19636618887775972,
          0.16346421962876584,
          0.04314468339989222,
          null,
          null,
          0.9229035889044879,
          0.2628095014882674,
          null,
          null,
          0.16220354273864154,
          0.8653569228964388,
          0.9049704786303063,
          null,
          null,
          null,
          0.26145358874083285,
          null,
          0.6287243363298856,
          0.3079982573159049,
          0.32794378688288844,
          0.7645035356850223,
          null,
          null,
          0.055545715054019416,
          0.2152521496108783,
          0.7578355984986694,
          0.9360025812770216,
          0.7273414715091492,
          null,
          0.1686868568159901,
          null,
          0.37171838006280017,
          0.6955362698824512,
          0.9271186088542648,
          0.30747834235847843,
          0.9504124443821175,
          null,
          0.038751020180989484,
          0.14110999214911787,
          0.5858873993298375,
          null,
          0.6110481328619308,
          0.2310801855952802,
          0.6678431533048335,
          null,
          null,
          0.13319009880670976,
          0.6750177571633479,
          0.1749760004802937,
          null,
          0.7129682189424815,
          0.37885399107740353,
          0.516513465453933,
          0.00009934267296557525,
          0.8470643346925015,
          null,
          0.09835354525099954,
          0.37313174272315,
          0.5917519244215653,
          0.0013457562896745394,
          0.5717708069119459,
          null,
          0.0798317786334974,
          0.4349233206881726,
          null,
          null,
          0.38866897496579267,
          0.18115581160340544,
          null,
          null,
          0.6317842196477085,
          0.24904945876326776,
          0.6379465227550878,
          0.12166049820833466,
          0.81503311451424,
          null,
          null,
          null,
          0.31052179724439205,
          null,
          0.11180516447788974,
          0.2878413251854827,
          0.35188938301759626,
          0.2726213233807488,
          null,
          0.3973193372802228,
          0.14145314734995174,
          null,
          null,
          0.30225294639570144,
          null,
          0.8546590703287326,
          null,
          0.2865069796967037,
          0.5613478463450257,
          null,
          null,
          0.22418128316454758,
          0.1258174351676704,
          null,
          0.4733441665052112,
          0.1814850617167635,
          0.73628200136659,
          0.05225753078606192,
          0.29107337801709054,
          0.19517691263945622,
          0.6075073795921205,
          0.05384960891235796,
          0.02864988659452339,
          0.7493448594683801,
          0.183909033075631,
          0.8726471405276102,
          0.22095898104252482,
          0.006287349535682206,
          0.0021450785345307126,
          0.011112965264108099,
          0.8749528936014934,
          0.8327752478914808,
          0.20331798242216562,
          0.3327526737090864,
          0.06527020678788087,
          0.737693364095227,
          0.9704220598583881,
          0.10516685054076001,
          0.08007198564146584,
          0.2082290432999993,
          0.9432454004020654,
          0.6639550285611798,
          0.9201205400573707,
          0.5790579205612033,
          0.8119282235031696,
          0.8720787172772926,
          0.5001958571516457,
          0.010008866209401134,
          0.1402550030971538,
          0.3238106139257027,
          0.784180804244878,
          0.7239427417666023,
          0.9386410759822493,
          0.8755069263135201,
          0.3930548082892197,
          0.7444885672545423,
          0.9180708720326615,
          0.25602023700623516,
          0.8325416159342789,
          0.8981326528271028,
          0.8362186228766229,
          0.9260833429879649,
          0.6566266599694538,
          0.7145703188708221,
          0.8866917113617206,
          0.7493448594683801,
          0.0001649126200745784,
          0.9059741343403126,
          0.7668819370039223,
          0.8977280009361757,
          0.2529369781638327,
          0.14672621060906393,
          0.0018721785590267391,
          0.4910522179245811,
          0.026475283556770077,
          0.4777262039316864,
          0.7537038938667691,
          0.20601251190009973,
          0.858815050192789,
          0.5232706006494682,
          0.07688887682188646,
          0.7462372326011535,
          0.9279681201787232,
          0.04363838937624989,
          0.921066541205286,
          0.5087446691181283,
          0.9239629874849581,
          0.8482242558654941,
          0.23951370848785122,
          0.9480990240472333,
          0.023730443400541045,
          0.16210837537261355,
          0.005442775286970134,
          0.29379544558459353,
          0.17762679126558997,
          0.3108873147531116,
          0.20797513199310125,
          0.5774133618754882,
          null,
          0.7860213122124181,
          0.16003237703627096,
          0.9279750507895993,
          0.14531188775893242,
          0.8589029792544847,
          0.00004268252162895358,
          0.09508222190367731,
          0.7632821064002873,
          0.9206061786626432,
          0.7387555390331841,
          0.3224710806142068,
          0.8516060125323638,
          0.390077870533928,
          0.00353449480633787,
          0.15608287291368533,
          0.1978547724933271,
          0.2723421150523696,
          0.694148330072933,
          0.11180353722714627,
          0.04236197972738564,
          0.18766031112081927,
          0.3529517061675765,
          0.11691807377620375,
          0.3445833336773114,
          0.1516341921837566,
          0.7380323165998552,
          0.9197802898098889,
          0.8098648348937338,
          0.733236219049268,
          0.16065428376221186,
          0.004471177599104922,
          0.5713755337019646,
          0.7915291390984988,
          0.7492592050268464,
          0.6657396510444787,
          0.7999597711037824,
          0.4526719485938475,
          0.12434433371930374,
          0.004336735532264013,
          0.06159590626601062,
          0.021049656544053445,
          0.06394731576846477,
          0.1696670275600152,
          0.636972048937231,
          0.9357261188416085,
          0.40148308369657126,
          0.9395684439190366,
          0.8194236537353221,
          0.004006765066132287,
          0.000024242313664124604,
          0.433630957531619,
          0.3657154709859868,
          0.025238632174963624,
          0.01510911862086553,
          0.006535810950296388,
          0.004426112968153601,
          0.0091485147873382,
          0.059994400889583625,
          0.8238204884991311,
          0.6863977678546999,
          0.002924801056954662,
          0.7697870105088324,
          0.25017275781164733,
          0.9287100568026062,
          0.919410538894268,
          0.8699646582290192,
          0.9047220557917994,
          0.004317562495448238,
          0.1450713854774926,
          0.9272476786894582,
          0.20504212160215593,
          0.6036446184253372,
          0.276217759264292,
          0.3020568791270611,
          0.12163492322720368,
          0.504066559176365,
          0.5146212949709377,
          0.8792633834299479,
          0.0022481796658590076,
          0.8346874796908509,
          0.9170821445606634,
          0.17130837484653597,
          0.29530759604637313,
          0.8644925343162119,
          0.9435367181099137,
          0.697730560193518,
          0.16127879062979222,
          0.1872574393456118,
          0.9234740901790993,
          0.30593927248174074,
          0.33337274816968027,
          0.1987402307640193,
          0.047065778571971924,
          0.6338984792042032,
          0.7820469110111411,
          0.12672801078418805,
          0.8620065884514869,
          0.6689924348097538,
          0.9431645019352272,
          0.18085987142695117,
          0.09605745433987971,
          0.752040906053669,
          0.9329639086132666,
          0.8030087120492143,
          0.10522362444880587,
          0.38453880365027454,
          0.12928551733893293,
          0.6257178775140839,
          0.9617377560179243,
          0.7495119438873591,
          0.7908903663421105,
          0.12303530140498282,
          0.9423938700857941,
          0.9174649789510005,
          0.023989161390051653,
          0.9026997479384106,
          0.6602834046983902,
          0.3770422678192421,
          0.9238866940471631,
          0.6208031615251947,
          0.3427262728910926,
          0.9504564021796524,
          0.3580183683086048,
          0.4452682123205054,
          0.24441572966554925,
          0.06836021111087978,
          0.5583771632065992,
          0.5686992622541593,
          0.6014499811017417,
          0.6271257067335756,
          0.9224214784164528,
          0.6715247336467047,
          0.00011087347559110299,
          0.5467501370881949,
          0.172879646727689,
          0.6566722254657248,
          0.10769660873417618,
          0.8615715637094972,
          0.01014838316873687,
          0.38609338634645246,
          0.1114186785343423,
          0.1121237654871625,
          0.39340077871683726,
          0.23492516717187184,
          0.5030087173894324,
          0.06365425625337992,
          0.12455925356757541,
          0.6535338694748138,
          0.08832638381246882,
          0.5875366293442944,
          0.7861841848139952,
          0.6532009016708666,
          0.8540352618896077,
          0.8345982864261295,
          0.3474645495015397,
          0.47782305275301656,
          0.2573602479216853,
          0.7049136015552968,
          0.0437545574706694,
          0.8163699309181319,
          0.874648191106149,
          0.8761201100312238,
          0.8055273025800082,
          0.9032321814981209,
          0.5364082998584928,
          0.7611164683362833,
          0.03157720429224685,
          0.8798171355369766,
          0.5927646965763455,
          0.4419791775844974,
          0.13865410879325085,
          0.8825492453363287,
          0.007600785366876412,
          0.020788198444518003,
          0.5209777955228818,
          0.0041946191427697,
          0.0016390471855748524,
          0.003927357869187454,
          0.0019177002464403482,
          0.0013201482216104487,
          0.0006134998531419125,
          0.2669687528736976,
          0.017952337111203524,
          0.401696091540742,
          0.27277361642534487,
          0.4490598177473483,
          0.4176858401614344,
          0.143215925236867,
          0.07983466184893252,
          0.003691224639216613,
          0.08491055548328008,
          0.3034054521296734,
          0.5311871870738086,
          0.3657040689467252,
          0.9109878948683384,
          0.002225996091228891,
          0.0009108566656620076,
          0.35437514432678036,
          0.4759047485058396,
          0.8488296000758542,
          0.908650649374176,
          0.7911172506898537,
          0.8610766433135257,
          0.39340077871683726,
          0.2660245305837589,
          0.32674729842151035,
          0.35505689225777237,
          0.1423201951082659,
          0.6745781548515069,
          0.857068434334597,
          0.7631775030965118,
          0.8730127625542551,
          0.49758813161931337,
          0.7982580911337771,
          0.7985625230890457,
          0.7985625230890457,
          0.8386772450926635,
          0.7371181458365562,
          0.7205220915866167,
          0.057556798535754065,
          0.5784605843829291,
          0.18180465347434097,
          0.10130188618740875,
          0.9135352431055899,
          0.8188221490548936,
          0.31122748430491715,
          0.8488426891882735,
          0.8042332573639236,
          0.32399519442583524,
          0.8955015328287729,
          0.9277294714212417,
          0.7751506661432624,
          0.6348913548411288,
          0.24495324148158823,
          0.8176883043035172,
          0.7995062389391947,
          0.8097773949206061,
          0.5725728340747551,
          0.6956768086977415,
          0.027015269062095327,
          0.6702964417629034,
          0.4875716460860226,
          0.5658058042099595,
          0.5274128798157214,
          0.6879725490091281,
          0.8047095764224322,
          0.5167441323200872,
          0.6377227457060496,
          0.6500360047401811,
          0.09380216019140454,
          0.144131568839864,
          0.809033250002963,
          0.952102881778171,
          0.05255479088648977,
          0.6493333134080941,
          0.18955643488498727,
          0.5834235592642256,
          0.2743312795152879,
          0.8714233293100785,
          0.9236427104928004,
          0.885316400483409,
          0.9532749207675318,
          0.16752610661214132,
          0.926417455507659,
          0.9098990230942577,
          0.9574739228907185,
          0.44491131871611905,
          0.25191436991589444,
          0.5300207305371119,
          0.15134585642924733,
          0.8002776919895628,
          0.9190142683438175,
          0.01156585000048122,
          0.09086600306284057,
          0.131502011367312,
          0.6420935811586655,
          0.9745400643043474,
          0.722252940252931,
          0.5966868266046531,
          0.1763166887749644,
          0.7842756874385058,
          0.40110562253659066,
          0.47862357578031445,
          0.825142004543308,
          0.8440961644823444,
          0.029403232194163607,
          0.9287778234658549,
          0.45809766289674053,
          0.7153122683050642,
          0.803814194191185,
          0.7481960377124015,
          0.8286651738005185,
          0.8895264053505313,
          0.01426465101656578,
          0.5288102357245126,
          0.6578813369658711,
          0.5952340738882042,
          0.8562796671030539,
          0.01023286592728594,
          0.6033652642937949,
          0.08866428504343093,
          0.0030435817472213703,
          0.43377341530137703,
          0.5663653406435445,
          0.5896512174503329,
          0.5126204752907092,
          0.5226613884921608,
          0.030409260146610835,
          0.22689423066280848,
          0.602565359420402,
          0.31716704461108397,
          0.5616562860975768,
          0.8173999681019068,
          0.44047371738339164,
          0.4140252427783618,
          0.7889387270172851,
          0.08328324607279233,
          0.1399306350351159,
          0.5313112766195432,
          0.43126687441560096,
          0.23090309237770043,
          0.371379504377132,
          0.12344344488046742,
          0.7646971322140466,
          0.505792690935212,
          0.0025684976249793004,
          0.815353902320255,
          0.6598642722340096,
          0.832467398087609,
          0.05509713664450365,
          0.8554414981489922,
          0.8498371513117416,
          0.16426186681202176,
          0.0010399435877407298,
          0.35632334045057923,
          0.5896946148450003,
          0.20787009344655885,
          0.03450414937719773,
          0.37616394628464156,
          0.0665946298466137,
          0.19039666128193103,
          0.0748843273287273,
          0.08535869920726946,
          0.8831598849891024,
          0.03471814594171407,
          0.7550060085645696,
          0.1416382354860597,
          0.8735426020118541,
          0.5366862501860182,
          0.701544455283195,
          0.8167108299924789,
          0.045218871722009814,
          0.8274906217692619,
          0.05032614672432716,
          0.46751339542906595,
          0.5360113906527352,
          0.7602810351226725,
          0.84800348628606,
          0.8727902306848072,
          0.17666485325334164,
          0.5775404360028561,
          0.06261893369662146,
          0.4505069488782311,
          0.3428738042577816,
          0.08494508682650774,
          0.3361761022513238,
          0.25238666232443135,
          0.572640983906881,
          0.14184153701472288,
          0.10780168894990289,
          0.8482503575392485,
          0.7782746678436415,
          0.01189025412181122,
          0.4098430019930849,
          0.6503751293755862,
          0.6715615623520167,
          0.08657397334261543,
          0.015340545982381595,
          0.02431189964199854,
          0.4096283867600314,
          0.03350651440741091,
          0.7114005192635119,
          0.13929099899621206,
          0.8360564054784626,
          0.8360564054784626,
          0.8154424230163453,
          0.5067053403200883,
          0.11394647945196774,
          0.7537515517433007,
          0.003996495012868346,
          0.15330626302046219,
          0.9438874825869191,
          0.8030807315974747,
          0.6502180862343651,
          0.7642218687850866,
          0.24928123273081731,
          null,
          null,
          null,
          null,
          null,
          null,
          null,
          null,
          null,
          null,
          null,
          null,
          null,
          null,
          null,
          null,
          null,
          null,
          null,
          null,
          null,
          null,
          null,
          null,
          null,
          null,
          null,
          null,
          null,
          null,
          null,
          null,
          null,
          null,
          null,
          null,
          null,
          null,
          null,
          null,
          null,
          null,
          null,
          null,
          null,
          null,
          null,
          null,
          null,
          null,
          null,
          null,
          null,
          null,
          null,
          null,
          null,
          null,
          null,
          null,
          null,
          null,
          null,
          null,
          null,
          null,
          null,
          null,
          null,
          null,
          null,
          null,
          null,
          null,
          null,
          null,
          null,
          null,
          null,
          null,
          null,
          null,
          null,
          null,
          null,
          null,
          null,
          null,
          null,
          null,
          null,
          null,
          null,
          null,
          null,
          null,
          null,
          null,
          null,
          null,
          null,
          null,
          null,
          null,
          null,
          null,
          null,
          null,
          null,
          null,
          null,
          null,
          null,
          null,
          null,
          null,
          null,
          null,
          null,
          null,
          null,
          null,
          null,
          null,
          null,
          null,
          null,
          null,
          null,
          null,
          null,
          null,
          null,
          null,
          null,
          null,
          null,
          null,
          null,
          null,
          null,
          null,
          null,
          null,
          null,
          null,
          null,
          null,
          null,
          null,
          null,
          null,
          null,
          null,
          null,
          null,
          null,
          null,
          null,
          null,
          null,
          null,
          null,
          null,
          null,
          null,
          null,
          null,
          null,
          null,
          null,
          null,
          null,
          null,
          null,
          null,
          null,
          null,
          null,
          null,
          null,
          null,
          null,
          null,
          null,
          null,
          null,
          null,
          null,
          null,
          null,
          null,
          null,
          null,
          null,
          null,
          null,
          null,
          null,
          null,
          null,
          null,
          null,
          null,
          null,
          null,
          null,
          null,
          null,
          null,
          null,
          null,
          null,
          null,
          null,
          null,
          null,
          null,
          null,
          null,
          null,
          null,
          null,
          null,
          null,
          null,
          null,
          null,
          null,
          0.9210897791136752,
          0.5891603683710547,
          0.42095118785230407,
          0.929766789770538,
          0.8389468832851896,
          0.941492621152506,
          0.033149616785034586,
          0.6934396569723278,
          0.21806520764668094,
          0.8865994327849039,
          0.9216830289592095,
          0.052583090575521935,
          0.6402342355458412,
          0.8773503955275899,
          0.8259695193328862,
          0.6844789574525227,
          0.7513748772925891,
          0.9411386774628795,
          0.5982126177222128,
          0.7696227891299983,
          0.7667679469428366,
          0.25420021959184524,
          0.5781744687848762,
          0.6527949508383832,
          0.8053666037103056,
          0.09009885746509894,
          0.7537237480610933,
          0.7876663088845981,
          0.5400134248890406,
          0.22495086871794207,
          0.06672313360439061,
          0.9398302520771016,
          0.9498573489246344,
          0.8429095656790042,
          0.5611866649154196,
          0.2169325866691595,
          0.8119287384053572,
          0.5970516374555199,
          0.3782342777475332,
          0.0612336586712668,
          0.8297980638125092,
          0.8426268332208136,
          0.8956073075766596,
          0.9087572688000791,
          0.9729322030559516,
          0.3867284148110281,
          0.8406477173971026,
          0.810613289378471,
          0.020831339758587163,
          0.2957712699281028,
          null,
          0.9256509934986977,
          null,
          0.8979287310563293,
          0.2284260193184879,
          0.9520205518364697,
          0.11939867884011587,
          0.5582878117529856,
          0.49350968937534473,
          0.9059213559967786,
          0.6574356763111877,
          0.6817545453445708,
          0.90449185923028,
          0.00023904902127330432,
          0.581113227751977,
          0.7018040679398488,
          0.5062588871250489,
          0.4704308979143517,
          0.5181981742484013,
          0.011450717464844124,
          0.9043357864578199,
          0.9051649009384689,
          0.9220100342955595,
          0.8777637773173995,
          0.9180099139402899,
          0.03927848584469154,
          0.025470311920499887,
          0.7181379614035105,
          0.7814459388855122,
          0.7876545541634676,
          0.9492892214668551,
          0.13882214392576067,
          0.3025598215775899,
          0.6913253121538736,
          0.22386440172383174,
          0.2432804101521825,
          0.16103241796968595,
          0.10680600401686768,
          0.023647234414961422,
          0.22818864816071446,
          0.5978818992543316,
          0.14200765287052008,
          0.4683433491657577,
          0.9559832409256483,
          0.8912437728552973,
          0.8661704251087302,
          0.002537542250116028,
          null,
          null,
          null,
          null,
          null,
          null,
          null,
          null,
          null,
          null,
          null,
          null,
          null,
          null,
          null,
          null,
          null,
          null,
          null,
          null,
          null,
          null,
          null,
          null,
          null,
          null,
          null,
          null,
          null,
          null,
          null,
          null,
          null,
          null,
          null,
          null,
          null,
          null,
          null,
          null,
          null,
          null,
          null,
          null,
          null,
          null,
          null,
          null,
          null,
          null,
          null,
          null,
          null,
          null,
          null,
          null,
          null,
          null,
          null,
          null,
          null,
          null,
          null,
          null,
          null,
          null,
          null,
          null,
          null,
          null,
          null,
          null,
          null,
          null,
          null,
          null,
          null,
          null,
          null,
          null,
          null,
          null,
          null,
          null,
          null,
          null,
          null,
          null,
          null,
          null,
          null,
          null,
          null,
          null,
          null,
          null,
          null,
          null,
          null,
          null,
          null,
          null,
          null,
          null,
          null,
          null,
          null,
          null,
          null,
          null,
          null,
          null,
          null,
          null,
          null,
          null,
          null,
          null,
          null,
          null,
          null,
          null,
          null,
          null,
          null,
          null,
          null,
          null,
          null,
          null,
          null,
          null,
          null,
          null,
          null,
          null,
          null,
          null,
          null,
          null,
          null,
          null,
          null,
          null,
          null,
          null,
          null,
          null,
          null,
          null,
          null,
          null,
          null,
          null,
          null,
          null,
          null,
          null,
          null,
          null,
          null,
          null,
          null,
          null,
          null,
          null,
          null,
          null,
          null,
          null,
          null,
          null,
          null,
          null,
          null,
          null,
          null,
          null,
          null,
          null,
          null,
          null,
          null,
          null,
          null,
          null,
          null,
          null,
          null,
          null,
          null,
          null,
          null,
          null,
          null,
          null,
          null,
          null,
          null,
          null,
          null,
          null,
          null,
          null,
          null,
          null,
          null,
          null,
          null,
          null,
          null,
          null,
          null,
          null,
          null,
          null,
          null,
          null,
          null,
          null,
          null,
          null,
          null,
          null,
          null,
          null,
          null,
          null,
          null,
          null,
          null,
          null,
          null,
          null,
          null,
          null,
          null,
          null,
          null,
          null,
          null,
          null,
          null,
          null,
          null,
          null,
          null,
          null,
          null,
          null,
          null,
          null,
          null,
          null,
          null,
          null,
          null,
          null,
          null,
          null,
          null,
          null,
          null,
          null,
          null,
          null,
          null,
          null,
          null,
          null,
          null,
          null,
          null,
          null,
          null,
          null,
          null,
          null,
          null,
          null,
          null,
          null,
          null,
          null,
          null,
          null,
          null,
          null,
          null,
          null,
          null,
          null,
          null,
          null,
          null,
          null,
          null,
          null,
          null,
          null,
          null,
          null,
          null,
          null,
          null,
          null,
          null,
          null,
          null,
          null,
          null,
          null,
          null,
          null,
          null,
          null,
          null,
          null,
          null,
          null,
          null,
          null,
          null,
          null,
          null,
          null,
          null,
          null,
          null,
          null,
          null,
          null,
          null,
          null,
          null,
          null,
          null,
          null,
          null,
          null,
          null,
          null,
          null,
          null,
          null,
          null,
          null,
          null,
          null,
          null,
          null,
          null,
          null,
          null,
          null,
          null,
          null,
          null,
          null,
          null,
          null,
          null,
          null,
          null,
          null,
          null,
          null,
          null,
          null,
          null,
          null,
          null,
          null,
          null,
          null,
          null,
          null,
          null,
          null,
          null,
          null,
          null,
          null,
          null,
          null,
          null,
          null,
          null,
          null,
          null,
          null,
          null,
          null,
          null,
          null,
          null,
          null,
          null,
          null,
          null,
          null,
          null,
          null,
          null,
          null,
          null,
          null,
          null,
          null,
          null,
          null,
          null,
          null,
          null,
          null,
          null,
          null,
          null,
          null,
          null,
          null,
          null,
          null,
          null,
          null,
          null,
          null,
          null,
          null,
          null,
          null,
          null,
          null,
          null,
          null,
          null,
          null,
          null,
          null,
          null,
          null,
          null,
          null,
          null,
          null,
          null,
          null,
          null,
          null,
          null,
          null,
          null,
          null,
          null,
          null,
          null,
          null,
          null,
          null,
          null,
          null,
          null,
          null,
          null,
          null,
          null,
          null,
          null,
          null,
          null,
          null,
          null,
          null,
          null,
          null,
          null,
          null,
          null,
          null,
          null,
          null,
          null,
          null,
          null,
          null,
          null,
          null,
          null,
          null,
          null,
          null,
          null,
          null,
          null,
          null,
          null,
          null,
          null,
          null,
          null,
          null,
          null,
          null,
          null,
          null,
          null,
          null,
          null,
          null,
          null,
          null,
          null,
          null,
          null,
          null,
          null,
          null,
          null,
          null,
          null,
          null,
          null,
          null,
          null,
          null,
          null,
          null,
          null,
          null,
          null,
          null,
          null,
          null,
          null,
          null,
          null,
          null,
          null,
          null,
          null,
          null,
          null,
          null,
          null,
          null,
          null,
          null,
          null,
          null,
          null,
          null,
          null,
          null,
          null,
          null,
          null,
          null,
          null,
          null,
          null,
          null,
          null,
          null,
          null,
          null,
          null,
          null,
          null,
          null,
          null,
          null,
          null,
          null,
          null,
          null,
          null,
          null,
          null,
          null,
          null,
          null,
          null,
          null,
          null,
          null,
          null,
          null,
          null,
          null,
          null,
          null,
          null,
          null,
          null,
          null,
          null,
          null,
          null,
          null,
          null,
          null,
          null,
          null,
          null,
          null,
          null,
          null,
          null,
          null,
          null,
          null,
          null,
          null,
          null,
          null,
          null,
          null,
          null,
          null,
          null,
          null,
          null,
          null,
          null,
          null,
          null,
          null,
          null,
          null,
          null,
          null,
          null,
          null,
          null,
          null,
          null,
          null,
          null,
          null,
          null,
          null,
          null,
          null,
          null,
          null,
          null,
          null,
          null,
          null,
          null,
          null,
          null,
          null,
          null,
          null,
          null,
          null,
          null,
          null,
          null,
          null,
          null,
          null,
          null,
          null,
          null,
          null,
          null,
          null,
          null,
          null,
          null,
          null,
          null,
          null,
          null,
          null,
          null,
          null,
          null,
          null,
          null,
          null,
          null,
          null,
          null,
          null,
          null,
          null,
          null,
          null,
          null,
          null,
          null,
          null,
          null,
          null,
          null,
          null,
          null,
          null,
          null,
          null,
          null,
          null,
          null,
          null,
          null,
          null,
          null,
          null,
          null,
          null,
          null,
          null,
          null,
          null,
          null,
          null,
          null,
          null,
          null,
          null,
          null,
          null,
          null,
          null,
          null,
          null,
          null,
          null,
          null,
          null,
          null,
          null,
          null,
          null,
          null,
          null,
          null,
          null,
          null,
          null,
          null,
          null,
          null,
          null,
          null,
          null,
          null,
          null,
          null,
          null,
          null,
          null,
          null,
          null,
          null,
          null,
          null,
          null,
          null,
          null,
          null,
          null,
          null,
          null,
          null,
          0.8291288721835178,
          0.8974013704688212,
          0.8357596578481273,
          0.9537855925203017,
          0.7754986186636903,
          0.1068468119091505,
          0.7511123742191672,
          0.0008663198232329646,
          0.9113299070742394,
          0.827124468106182,
          0.8312203845532411,
          0.0000036044314314133393,
          0.3847265592490259,
          0.7337793274428948,
          0.6859589347824028,
          0.8948425307177317,
          0.530245100065707,
          0.03507389129172611,
          0.8721798568806511,
          0.7740587064359542,
          0.9011237623462,
          0.39199081871827657,
          0.14769808040785934,
          0.8331595084065897,
          0.6628671960771294,
          0.25599432373126013,
          0.05378563744263459,
          0.3906863358812329,
          0.1950722694325913,
          0.18682497794899874,
          0.28587559274543084,
          0.8031128860328434,
          0.9185197737508711,
          0.8506613202099773,
          0.33775313844350907,
          0.8094527288837357,
          0.8067884894225702,
          0.902725054448199,
          0.590103375221419,
          0.7315234574844309,
          0.9547496962430302,
          0.7940941109276719,
          0.8901241977710895,
          0.939750028257051,
          0.6552494457888677,
          0.8574588454686098,
          0.6267095768484547,
          null,
          0.9051370299761421,
          0.8882029193849729,
          0.16998064985677544,
          0.39114734372934706,
          0.6417890530334853,
          0.9144551593418055,
          0.8990556835263166,
          0.8788823967445885,
          0.7600224306768596,
          0.7770541561365694,
          0.42567976426955056,
          0.0368113850409378,
          0.016012117032174766,
          0.15110047192045892,
          0.7655344698814113,
          0.058275144433139255,
          0.8655502220993293,
          0.5837353610566061,
          0.9047505432170063,
          0.9202232026383547,
          0.5059432195568628,
          0.8392213387283486,
          0.734031291792748,
          0.780127937327096,
          0.03711351563873637,
          0.6980732776931823,
          0.0010947213200420728,
          0.8660968045156937,
          0.011639101811988819,
          0.828873873421485,
          0.6273385088317166,
          0.384892481293572,
          0.019090472810590894,
          0.06170563320059445,
          0.13314700955255115,
          0.17706623677854796,
          0.04671007561233513,
          null,
          0.4985855783965853,
          0.13335621720648413,
          0.8278312850881395,
          0,
          0.9209927217789028,
          0.6505749390697488,
          0.8858745715992487,
          0.9319418916333426,
          0.4736872607696636,
          0.6239887005922731,
          0.5657606944167323,
          0.7962101680180645,
          0.11158821623816113,
          0.0487349700768669,
          0.17279111272849104,
          0.3171921348483567,
          0.046014883810019454,
          0.9551870835788712,
          0.91956040280688,
          0.034069395516911,
          0.05719810453504364,
          0.7052485645596993,
          null,
          0.8501810761059438,
          0.9182950265566161,
          0.47076074919333055,
          0.13679184555174737,
          0.4333380911873957,
          0.8657279105195178,
          0.6540572331587007,
          0.8642460624672483,
          0.8010734217533647,
          0.30650225757742,
          0.1855496113779256,
          0.01380359501778906,
          0.8299545214596981,
          0.7105225172678088,
          0.6641942015287486,
          0.4954485174230907,
          0.21275844353947626,
          0.6417896722096343,
          0.9037585614335674,
          0.0963850219117369,
          0.10200791892183377,
          0.8124755642950724,
          0.5792630761379121,
          0.6529095412164768,
          0.1398371183284176,
          0.09537800594438343,
          0.03005694155541429,
          0.015318980465570314,
          0.19893421550873894,
          0.9195474125044101,
          0.8774797519063762,
          0.6332119900684493,
          0.5616245587991591,
          0.15128287464012033,
          0.608386377432122,
          0.4689736607049557,
          0.7261885010650442,
          0.875457459217411,
          0.38584379622837034,
          0.6585671220977676,
          0.6324229929427866,
          0.20226106917519077,
          0.4937564081812585,
          0.520533425449921,
          0.5206188120281274,
          0.42576336601707276,
          0.14171343631984495,
          0.8884237410425605,
          0.7795468801599741,
          0.9107334780758115,
          0.8660388218216454,
          0.9519100827417534,
          0.951806503443032,
          0.24120047161254585,
          0.889161219203026,
          0.5737752089618361,
          0.7616889669062522,
          0.2603674634432866,
          0.8870614305579683,
          0.8819037596357026,
          null,
          0.031801938033972424,
          0.8516932074570328,
          0.8687381019385428,
          0.9409754228677096,
          0.7479749056218173,
          0.2409369593613373,
          0.051863091669529064,
          0.04952764851382938,
          0.009145152608898602,
          0.3266065137222518,
          0.026923081592178433,
          0.3935976056274325,
          0.930762199802775,
          0.6523406989700791,
          0.6348119888553234,
          0.8875914085456132,
          0.09946735104386167,
          0.8646224946437772,
          0.3669692296134445,
          0.9137152507188367,
          0.5292875316441799,
          0.2328068688368976,
          0.8760609849045645,
          1.6482741617755494e-7,
          0.7432256209068944,
          0.6217283246233022,
          0.8122588253739593,
          0.15207051424057594,
          0.8260882939352372,
          0.8317594473551697,
          0.9264467709911294,
          0.00857897867587548,
          0.18035878086378507,
          0.9650494860825806,
          0.4009335640988802,
          0.8859164190731271,
          0.46634927231330775,
          0.6916686175292258,
          null,
          null,
          0.7814762867494766,
          0.47428436131995505,
          0.06571726291143085,
          0.5039226432361904,
          0.2684645183629489,
          null,
          0.7920531735812628,
          0.8852546318263982,
          0.6628125916450327,
          0.9264665008940323,
          0.5987773698427206,
          0.7159487632809658,
          0.08136188590049068,
          0.7097741331317422,
          0.8360211647983431,
          0.8360211647983431,
          0.5330227803718458,
          0.022876594540903794,
          0.4974934359639112,
          0.013923101167406728,
          0.6417445226440592,
          null,
          0.6477215673562563,
          0.7822510871894817,
          0.18593207125521957,
          0.8044191992009492,
          0.6708871036515177,
          0.5912488078820627,
          0.6129234938851646,
          0.15505368963975477,
          0.694512956169169,
          0.49910775584196826,
          0.6172900482741427,
          null,
          0.2909497219411029,
          0.23595167296330896,
          0.4715073606759207,
          null,
          0.8077979673125132,
          0.7115061903276908,
          0.42750415937630615,
          null
         ],
         "xbins": {
          "end": 1,
          "size": 0.05,
          "start": 0
         }
        },
        {
         "name": "BASIS-EZG",
         "opacity": 0.6,
         "type": "histogram",
         "x": [
          null,
          null,
          null,
          null,
          null,
          null,
          null,
          null,
          null,
          null,
          null,
          null,
          null,
          null,
          null,
          null,
          null,
          null,
          null,
          null,
          null,
          null,
          null,
          null,
          null,
          null,
          null,
          null,
          null,
          null,
          null,
          null,
          null,
          null,
          null,
          null,
          null,
          null,
          null,
          null,
          null,
          null,
          null,
          null,
          null,
          null,
          null,
          null,
          null,
          null,
          null,
          null,
          null,
          null,
          null,
          null,
          null,
          null,
          null,
          null,
          null,
          null,
          null,
          null,
          null,
          null,
          null,
          null,
          null,
          null,
          null,
          null,
          null,
          null,
          null,
          null,
          null,
          null,
          null,
          null,
          null,
          null,
          null,
          null,
          null,
          0.9996310402743688,
          0.9998217948970441,
          null,
          null,
          null,
          null,
          null,
          null,
          null,
          null,
          null,
          null,
          null,
          null,
          null,
          null,
          null,
          null,
          null,
          null,
          null,
          null,
          null,
          null,
          null,
          null,
          null,
          null,
          null,
          null,
          null,
          null,
          null,
          null,
          null,
          0.5542194441335623,
          null,
          0.9969770785874318,
          null,
          null,
          null,
          null,
          null,
          null,
          0.9870522303072214,
          null,
          null,
          null,
          0.9737743641059295,
          null,
          null,
          null,
          null,
          null,
          null,
          null,
          null,
          null,
          null,
          null,
          null,
          null,
          null,
          null,
          null,
          null,
          null,
          null,
          null,
          null,
          0.9569683359029159,
          null,
          null,
          null,
          null,
          0.9962788074584252,
          null,
          null,
          null,
          null,
          null,
          null,
          null,
          0.990807109182238,
          0.9576236261090194,
          null,
          null,
          null,
          null,
          null,
          null,
          null,
          null,
          null,
          null,
          null,
          null,
          null,
          null,
          null,
          null,
          0.9999645531039736,
          null,
          null,
          null,
          null,
          null,
          null,
          null,
          null,
          null,
          null,
          null,
          null,
          null,
          null,
          null,
          null,
          null,
          null,
          0.9868625562156869,
          null,
          null,
          null,
          null,
          null,
          null,
          null,
          null,
          null,
          null,
          null,
          null,
          null,
          null,
          null,
          null,
          null,
          null,
          null,
          null,
          null,
          null,
          null,
          null,
          null,
          null,
          null,
          null,
          null,
          0.9739964399309278,
          null,
          null,
          null,
          0.9912385778893216,
          null,
          null,
          null,
          null,
          null,
          null,
          null,
          null,
          null,
          null,
          null,
          null,
          null,
          null,
          null,
          null,
          null,
          null,
          null,
          null,
          null,
          null,
          null,
          null,
          null,
          null,
          null,
          null,
          null,
          null,
          null,
          0.998075696604538,
          null,
          null,
          null,
          null,
          null,
          null,
          null,
          null,
          null,
          null,
          null,
          null,
          null,
          null,
          null,
          null,
          null,
          null,
          null,
          null,
          null,
          null,
          null,
          null,
          null,
          0.9639080772179073,
          null,
          null,
          null,
          null,
          null,
          null,
          null,
          null,
          0.9052901722032696,
          null,
          null,
          null,
          null,
          null,
          null,
          null,
          null,
          null,
          0.9972453641525598,
          0.9707411787200857,
          null,
          null,
          null,
          null,
          null,
          null,
          null,
          null,
          null,
          0.8928722195316788,
          null,
          null,
          null,
          null,
          null,
          null,
          0.9946033269998542,
          null,
          null,
          null,
          null,
          null,
          null,
          null,
          null,
          null,
          null,
          null,
          null,
          null,
          null,
          null,
          null,
          null,
          null,
          null,
          null,
          null,
          0.9732914216826075,
          null,
          0.8991198275324295,
          null,
          null,
          null,
          null,
          null,
          null,
          null,
          null,
          null,
          null,
          null,
          null,
          null,
          null,
          null,
          null,
          null,
          0.8779914994297137,
          null,
          null,
          null,
          0.9997811804840986,
          null,
          null,
          null,
          null,
          null,
          0.998283848408242,
          0.9995663973158275,
          null,
          null,
          null,
          null,
          null,
          null,
          null,
          null,
          null,
          null,
          null,
          null,
          null,
          0.9746113030270069,
          null,
          0.9996545890093681,
          null,
          null,
          null,
          0.9983292070555103,
          null,
          null,
          null,
          null,
          null,
          null,
          null,
          null,
          null,
          null,
          0.9903570105398284,
          null,
          0.9441709257159623,
          0.9983006197589805,
          null,
          null,
          null,
          null,
          null,
          null,
          null,
          null,
          0.9998308971399337,
          null,
          null,
          0.9963776751653326,
          null,
          null,
          null,
          null,
          null,
          null,
          null,
          null,
          null,
          null,
          null,
          null,
          null,
          null,
          null,
          null,
          null,
          null,
          null,
          null,
          null,
          null,
          null,
          null,
          null,
          null,
          null,
          null,
          null,
          null,
          null,
          null,
          null,
          0.9999994130499177,
          null,
          0.9179876354125096,
          null,
          null,
          0.9998239215866626,
          null,
          0.9449642371578943,
          0.987089569240277,
          null,
          null,
          null,
          0.9590987037276326,
          null,
          null,
          null,
          null,
          null,
          null,
          null,
          null,
          null,
          null,
          null,
          null,
          null,
          null,
          null,
          null,
          0.6772989922979121,
          null,
          null,
          null,
          null,
          null,
          null,
          null,
          null,
          0.9924118281777725,
          null,
          null,
          null,
          null,
          null,
          0.990150239461465,
          null,
          null,
          null,
          null,
          null,
          null,
          null,
          0.9818447878578659,
          null,
          null,
          null,
          null,
          null,
          null,
          null,
          null,
          null,
          null,
          null,
          null,
          null,
          null,
          null,
          null,
          null,
          null,
          0.9115496271093024,
          null,
          null,
          null,
          null,
          null,
          0.9948094279977041,
          0.9342853582920302,
          null,
          null,
          null,
          null,
          0.9981682564660302,
          null,
          null,
          null,
          null,
          0.9999754505303003,
          null,
          null,
          null,
          null,
          0.965979433269149,
          null,
          null,
          null,
          null,
          null,
          null,
          0.99401961318817,
          0.9999693282203864,
          null,
          0,
          0.9603542339626123,
          0,
          0,
          0,
          0,
          0,
          0,
          0,
          0,
          3.715236498017292e-9,
          0,
          0,
          1.6738458931420627e-8,
          0,
          0,
          0,
          0,
          0,
          0,
          0,
          0.0021422216252818733,
          0,
          0,
          0,
          0,
          0,
          0,
          0,
          3.609543076982884e-8,
          0,
          0,
          0,
          0,
          0,
          0,
          0,
          0,
          0,
          0,
          0,
          0,
          0,
          0,
          0,
          0,
          0,
          0,
          0.000005270644985719263,
          0,
          1.8206107726434542e-8,
          0,
          0,
          0,
          0,
          0,
          0,
          0,
          0,
          0,
          0,
          0,
          0,
          0,
          0,
          0.6081877500507729,
          0,
          0,
          0,
          0,
          0,
          0,
          0,
          0,
          0,
          0,
          0,
          0,
          0,
          0,
          0,
          0,
          0,
          0,
          0,
          0,
          0,
          0,
          3.5609395747425096e-9,
          0,
          0,
          0,
          0,
          0.0000022717314740656093,
          0,
          0,
          0,
          0,
          0,
          1.6608479823205586e-8,
          0.9999665069085641,
          0,
          0,
          0,
          0,
          0,
          0,
          0,
          0,
          0,
          0,
          0.5992479498080808,
          8.463909947433728e-9,
          0,
          0,
          0.1866297525431643,
          0,
          0,
          0,
          0,
          0,
          0,
          0,
          0,
          0,
          0.0000062944816390055096,
          null,
          null,
          null,
          null,
          null,
          null,
          null,
          null,
          null,
          null,
          null,
          null,
          null,
          null,
          null,
          null,
          null,
          null,
          null,
          null,
          null,
          null,
          null,
          null,
          null,
          null,
          null,
          null,
          null,
          null,
          null,
          null,
          null,
          null,
          null,
          null,
          null,
          null,
          null,
          null,
          null,
          null,
          null,
          null,
          null,
          null,
          null,
          null,
          null,
          null,
          null,
          null,
          null,
          null,
          null,
          null,
          null,
          null,
          null,
          null,
          null,
          null,
          null,
          null,
          null,
          null,
          null,
          null,
          null,
          null,
          null,
          null,
          null,
          null,
          null,
          null,
          null,
          null,
          null,
          null,
          null,
          null,
          null,
          null,
          null,
          null,
          null,
          null,
          null,
          null,
          null,
          null,
          null,
          null,
          null,
          null,
          null,
          null,
          null,
          null,
          null,
          null,
          null,
          null,
          null,
          null,
          null,
          null,
          null,
          null,
          null,
          null,
          null,
          null,
          null,
          null,
          null,
          null,
          null,
          null,
          null,
          null,
          null,
          null,
          null,
          null,
          null,
          null,
          null,
          null,
          null,
          null,
          null,
          null,
          null,
          null,
          null,
          null,
          null,
          null,
          null,
          null,
          null,
          null,
          null,
          null,
          null,
          null,
          null,
          null,
          null,
          null,
          null,
          null,
          null,
          null,
          null,
          null,
          null,
          null,
          null,
          null,
          null,
          null,
          null,
          null,
          null,
          null,
          null,
          null,
          null,
          null,
          null,
          null,
          null,
          null,
          null,
          null,
          null,
          null,
          null,
          null,
          null,
          null,
          null,
          null,
          null,
          null,
          null,
          null,
          null,
          null,
          null,
          null,
          null,
          null,
          null,
          null,
          null,
          null,
          null,
          null,
          null,
          null,
          null,
          null,
          null,
          null,
          null,
          null,
          null,
          null,
          null,
          null,
          null,
          null,
          null,
          null,
          null,
          null,
          null,
          null,
          null,
          null,
          null,
          0.0062725101234852925,
          0.0044683762867550715,
          6.862329010593228e-9,
          0.00005107348216361495,
          0.9849615363698969,
          null,
          0.00001527988756333323,
          0.000033347744985252285,
          0.05479662072420702,
          null,
          0.09047536723245853,
          null,
          0.12335262120276172,
          4.483362835659775e-8,
          null,
          null,
          0.06337383461967144,
          0.12585437504424365,
          0.0015144540473926227,
          null,
          null,
          null,
          5.505794446101772e-8,
          5.9065378689121794e-8,
          0.130511284361314,
          null,
          null,
          0.007061470063245233,
          0.0003986600262720945,
          null,
          null,
          7.845974447465986e-12,
          0.0000022562324869097536,
          0.017158733256260675,
          null,
          null,
          null,
          8.492683465949997e-9,
          null,
          1.7567590762590457e-8,
          0.07865565037874866,
          0.004733803079256959,
          0.00042414323468789524,
          null,
          null,
          0.17777522453029948,
          6.345236522529018e-8,
          0.000004600026629320494,
          1.0324581264380015e-8,
          2.1508476096058436e-8,
          null,
          5.295692047649618e-8,
          null,
          1.1395048058915791e-8,
          0.0018801825351544275,
          0.0000681503841842623,
          1.7049269673878507e-8,
          3.5406766569234872e-9,
          null,
          1.4990202558669006e-8,
          0.00656428633681671,
          0.002169177230421326,
          null,
          0.0014110934777391167,
          0.03842704594850642,
          0.029561557031876323,
          null,
          null,
          1.2365653908221106e-7,
          6.13674185198198e-9,
          0.07892906260244019,
          null,
          2.4170257198773533e-8,
          0.00034329058952655865,
          0.00023730055176091657,
          5.7719119457576936e-8,
          0.008241262981420047,
          null,
          0.5530379115045005,
          0.016503429314453186,
          1.2603162605024596e-9,
          4.7982534753307346e-8,
          2.1268329266282004e-8,
          null,
          3.429339047530166e-8,
          0.14508898861752023,
          null,
          null,
          null,
          3.0283397391719107e-9,
          null,
          null,
          0.042269977891682915,
          3.098007091209286e-8,
          0.027570386873743507,
          0.08180543216344874,
          0.0010776852586540455,
          null,
          null,
          null,
          0.028685412715342952,
          null,
          6.945091308683036e-8,
          null,
          4.5851194776981166e-8,
          1.4217803343910495e-8,
          null,
          9.157884498072057e-9,
          4.032489036664056e-8,
          null,
          null,
          6.901234389886159e-8,
          null,
          4.522121789291698e-9,
          null,
          1.2323762412386683e-8,
          0.0002088300732275891,
          null,
          null,
          0.009161615158127223,
          1.2787861781800157e-7,
          null,
          0.0005722008989881799,
          0.8991936580062044,
          0.9895138995191722,
          0.9999880369126798,
          0,
          0.9776623176908958,
          0.9999933445873914,
          0.9742682725984707,
          0.9999709789598036,
          0.9999935610031463,
          0.9858817047171496,
          0.9735225412763509,
          0.9504056691495543,
          0.933696013073637,
          0.9998735652592601,
          0.9831786296718875,
          0.8840528811454992,
          0.9999951919116125,
          0.9999740473433809,
          0.9684064907836423,
          0.9999758589518888,
          0,
          0.8489664609395743,
          0.7641022110679182,
          0.5716163494330768,
          0.9999860038307882,
          0.9861858896882373,
          0.9999884377168531,
          0.9929351746457676,
          0.8026475244046539,
          0,
          0.9992616074659116,
          0.9988846675429282,
          0.9999512329536366,
          0.99639565527611,
          0.9999865775671227,
          0.927395581804295,
          0,
          0.9999961908853148,
          0.990805025178477,
          0.9832460840568862,
          0.9999917694518518,
          0,
          0,
          0.9999795753011376,
          0.9922465187130196,
          0.8864000160324033,
          0.00031418841807136385,
          0.9969003289618169,
          0.8774147050168042,
          0.9974906009312077,
          0.9999935610031463,
          0.086352660656171,
          0.9999807271136485,
          0.9999935640535638,
          0.9973605858668905,
          0.988765214889314,
          0.9999835668601484,
          0.9999691943339015,
          0.999991735267982,
          0,
          0.9918959990856588,
          0.9999426859048925,
          0.999986984075183,
          0.9999930928371205,
          0.9999719768406876,
          0.9684359492781951,
          0.9844581828265719,
          0.9995725444123067,
          0.999321480944354,
          0.9856003803219886,
          0.9999899200066747,
          null,
          0.9445467061305546,
          0.9999877176016647,
          0.8747260647275783,
          0.8446366602987802,
          0.9118423487676726,
          0.9999664027631937,
          0.940901375333297,
          0.9999801603346263,
          0.5220439038567514,
          0.9803158599350963,
          0.9881883513609996,
          null,
          0.8510420612710742,
          0.9999864000939007,
          0.9954820500932838,
          0.9999818928156694,
          0.9888076255195576,
          0,
          0.9999804551163206,
          0.9645240163506046,
          0,
          0.9806232830010285,
          0.9999805220461708,
          0.9999926716544517,
          0.9999884544748575,
          0,
          0.9772787518505894,
          0.999985949507843,
          0.9627450775822445,
          0.9992534172671752,
          0.8764232382656683,
          0.9999787780386132,
          0.9223577966573511,
          0.9789175372201226,
          0.9193821970200623,
          0,
          0.9999819267402784,
          0.999991868170929,
          0.9889485429235927,
          0.9999923197187104,
          0,
          0.9999823118097776,
          0.9999729362639109,
          0.9999907944632835,
          0.9898813027226857,
          0.9945629766060526,
          0.9870626931938877,
          0.9998762795937552,
          0.999983652016475,
          0.013222815574822312,
          0.9999810469009582,
          0.8483436800564779,
          0.9999560094823422,
          0.9999839006526988,
          0.9666956630270883,
          0.9839605461356088,
          0.9999952817302741,
          0.9908235212608323,
          0.9999945291078516,
          0.9999944669403753,
          0.8222368585063251,
          0.5735123427404186,
          0.9965528610421126,
          0.9723740839105157,
          0.9998463564286508,
          0.9998972870882454,
          0.9999148570357059,
          0.3892296727191934,
          0.9999374646128233,
          0.9784835363893936,
          0.9994566450628639,
          0.9937733022179986,
          0.9998799746721398,
          0.9999948782222435,
          0.9999876588011738,
          0.9895470459468534,
          0.999996068209649,
          0.9999922027296644,
          0.9996668853988212,
          0.8225266372488471,
          0.9999810649304284,
          0.9888432302594509,
          0.9675036100581375,
          0.8530310717873449,
          0.9999890267297745,
          0.9999920171836761,
          0.8695324798031084,
          0.9999917174454183,
          0.9999885413749396,
          0.9186981714117504,
          0.9998053099429381,
          0.9992978147988781,
          0.897628436873262,
          0.999985064624679,
          0.9748593020744503,
          0.9797447164944008,
          0.9933550289828019,
          0.999167791439307,
          0.9900406597345744,
          0.9999874128045381,
          0.9129550988841683,
          0.9999861885956518,
          0.9999860746287111,
          0.937973931285105,
          0.999957119207489,
          0,
          0.9999910549912502,
          0.9999809995616207,
          0.9999933906029622,
          0.9999935192757672,
          0.9911803499147717,
          0.999847794157216,
          0.7656433736526481,
          0.9916860286158976,
          0.9987901263112081,
          0.9941503306813922,
          0.9999853544225014,
          0.985161230174724,
          0.9999911156173372,
          0.9999935807158497,
          0.9958633984645998,
          0.9949612966117909,
          0.9999905216612319,
          0.892024813435915,
          0.9999942306561828,
          0.9946373344148167,
          0.9669751884895528,
          0.9984163587792119,
          0.99729710192027,
          0.9999876657589912,
          0.9942952443236318,
          0.9999923669162795,
          0.9999918437255343,
          0.995776054052603,
          0.9999859515979161,
          0.9999839586887275,
          0.991859311546053,
          0.9787499870524285,
          0.3737158951073438,
          0.999988977800646,
          0.9999847281666033,
          0.9999905741207795,
          0.9917008413253835,
          0.9931148049187549,
          0.7889596530861481,
          0.9680188645108475,
          0.9983442329442597,
          0.9809436207104854,
          0.9446509946525291,
          0.06674243724492022,
          1.3124581519470971e-7,
          0.9864853241082311,
          0.9938185547122308,
          0.999997910007585,
          0.7349807877504573,
          0.9874323960570454,
          0.974568161188295,
          0.9933622078818897,
          0.8843150418046961,
          0.9990385324141471,
          0.9782777124047891,
          0.9842634885952414,
          1.1878030074669566e-9,
          0.9215389768622393,
          0.9743005398675194,
          0.9770615323197474,
          0.9679350650968283,
          0.8847014216493443,
          0.9977068874358122,
          0.990479665784426,
          0.9860332180755004,
          0.9698685168294227,
          0.9851250249935759,
          0.9870962618039804,
          0.9972242129041373,
          0.988080815480803,
          0.7470830222140948,
          0.8534509206551889,
          0.9741845072348548,
          0.9888578461047799,
          0.9527509294327459,
          0.9768580578603171,
          8.904802542973834e-8,
          0.9908120480916456,
          0.2854285653765766,
          0.780648918059012,
          0.9366408943610172,
          5.487867319938891e-8,
          0.675387787415195,
          2.0666087953691895e-7,
          2.1727571534166902e-8,
          0.9299744310970216,
          9.341775676422243e-8,
          0.8627964546422925,
          0.41393356121110153,
          0.6649045049504086,
          0.9715383694800328,
          0.8087019184445512,
          0.9933591493419195,
          0.8271974523623133,
          0.7776640468691339,
          0.915990052197046,
          0.2685352876708019,
          0.9962505008491709,
          0.9800573208792577,
          0.9487100637441086,
          0.9908213362527211,
          0.8387347279183094,
          0.9868674272744821,
          0.9487991499657602,
          0.9128470259515383,
          0.9940254808647833,
          0.9951374210157877,
          0.9937766276905495,
          0.9129642106493121,
          0.7349807877504573,
          0.9747939661711283,
          0.9567851302214833,
          0.9795263567298056,
          0.9617883187031666,
          1.867169382155079e-8,
          0.9939085411167387,
          0.9915624603616447,
          0.9916560585628492,
          0.8575762134793404,
          3.7803996215075406e-7,
          2.4421126244016754e-9,
          2.4421126244016754e-9,
          0.9943361318053433,
          0.9953492456887377,
          0.9807323261484442,
          0.20084136489281146,
          0.9767363929378351,
          1.2280148357799593e-7,
          0.9953309824211344,
          0.9936162217971882,
          0.021850834301390017,
          0.9687638474339082,
          0.9958986893057781,
          0.9735312384149514,
          0.9992582087628736,
          0.9946684336226466,
          0.9892801272529997,
          2.452256889584517e-9,
          0.9852064791678915,
          0.9934997433907555,
          0.9803478501797269,
          0.9719456448106173,
          0.9938051684283632,
          0.9869729736038947,
          4.9926753110204166e-8,
          0.8011525159561388,
          0.9397626189952402,
          0.8409197215956413,
          0.8543562031651726,
          0.984434087230555,
          0.9697898912741721,
          0.9798855808738481,
          0.7657149934670586,
          0.8811898181403791,
          0.9411620544042079,
          0.8437927631079105,
          0.9670002935513599,
          0.9774604166948642,
          0.9829248455013658,
          0.676351794991421,
          0.8765026755913965,
          0.9326311601873046,
          0.9337721371605953,
          0.9965551038812199,
          0.9134022631551526,
          0.9807124077501401,
          0.9723574038971629,
          2.533112030335231e-8,
          0.9867310798133211,
          0.9868065349811078,
          0.9782999040076802,
          0.9750756320080983,
          0.886504140685551,
          0.9680058638955551,
          0.9970906171494857,
          0.9185029868498656,
          5.243866559702492e-8,
          0.992524426500696,
          0.9571983457724538,
          0.9542605661122695,
          0.9883186137702151,
          0.9970697798463599,
          0.9925519899030067,
          0.9991688807481857,
          0.9999992811802385,
          0.8829974783771833,
          0.9667198986619026,
          0.9953458245904615,
          0.9644113534528349,
          0.9959854831026916,
          0.9816513374331769,
          0.9481785891092472,
          0.9969808886422656,
          0.8917691184988825,
          0.9093738510233846,
          0.9785181513183792,
          0.8870552232972994,
          0.9806809354039879,
          0.9901450581947709,
          0.9223956670379446,
          0.6516271277281502,
          0.9942002943397167,
          0.8792100255853315,
          0.9877102906960887,
          0.9680686798490179,
          0.8370356924120743,
          0.9999970123515607,
          0.9710258522472465,
          0.9747919049622965,
          0.9262008839603648,
          0.9614043216415993,
          0.9228071297524805,
          0.8756241688296268,
          0.8160811734439145,
          0.9822860831109675,
          0.9900937756246337,
          0.9720979371517716,
          0.939516193385258,
          0.9947266913865737,
          0.9704067131111271,
          0.9988076094605817,
          0.9770678230397734,
          0.9267859003697196,
          0.9018265180618396,
          0.9980115709699816,
          0.9314399142248339,
          0.8607927484428723,
          0.9180915521445061,
          0.9431975826984912,
          0.7833938698402453,
          0.16960378906992793,
          0.006851591838504129,
          0.9769832673382548,
          0.9828205908836133,
          0.9788451593793618,
          0.9940479779470341,
          2.6973207705189957e-9,
          0.940679900653016,
          0.8024412822954191,
          0.9993842849640995,
          0.8676239017855485,
          0.10320361502952849,
          0.927486288457449,
          0.42489089792481566,
          0.9290614402575366,
          0.6558838787277776,
          0.8064749436994612,
          0.8153430924537018,
          0.7572624481711163,
          0.0000021879566008609444,
          0.9635233869848993,
          0.9970072911727409,
          0.9913234830150524,
          0.9537754348022924,
          6.26893700746087e-8,
          0.9999992577705777,
          0.9999989386075573,
          0.9860956814631265,
          0.9985524457144589,
          0.9960814457226017,
          0.9772170284828477,
          0.8484079828479119,
          0.9023241703687924,
          0.9950481289391273,
          0.9759313410436163,
          0.795533535304598,
          0.9663896862921629,
          0.6408032072088248,
          0.907313653387685,
          0.9627239774139986,
          0.8752000472444348,
          0.0898112632697636,
          0.6065429329398764,
          0.9467565840926858,
          0.755941817248195,
          0.9789746809972555,
          0.9674496321270369,
          0.9945892190700144,
          0.9699685704475894,
          0.9716855849879344,
          0.9652706877715203,
          0.995581823293383,
          0.9996055971129802,
          2.5715194617367118e-8,
          2.289742809223982e-7,
          3.6623088337370547e-9,
          0.9192197208544893,
          0.6983899518744998,
          0.34345746946395833,
          0.000018581225574520513,
          0.6368810888379656,
          1.1535269576799816e-8,
          0.9773507873066519,
          0.9902345358480154,
          0.8729689871618366,
          2.9799299865462446e-8,
          0.8037978856720736,
          null,
          null,
          null,
          null,
          null,
          null,
          null,
          null,
          null,
          null,
          null,
          null,
          null,
          null,
          null,
          null,
          null,
          null,
          null,
          null,
          null,
          null,
          null,
          null,
          null,
          null,
          null,
          null,
          null,
          null,
          null,
          null,
          null,
          null,
          null,
          null,
          null,
          null,
          null,
          null,
          null,
          null,
          null,
          null,
          null,
          null,
          null,
          null,
          null,
          null,
          null,
          null,
          null,
          null,
          null,
          null,
          null,
          null,
          null,
          null,
          null,
          null,
          null,
          null,
          null,
          null,
          null,
          null,
          null,
          null,
          null,
          null,
          null,
          null,
          null,
          null,
          null,
          null,
          null,
          null,
          null,
          null,
          null,
          null,
          null,
          null,
          null,
          null,
          null,
          null,
          null,
          null,
          null,
          null,
          null,
          null,
          null,
          null,
          null,
          null,
          null,
          null,
          null,
          null,
          null,
          null,
          null,
          null,
          null,
          null,
          null,
          null,
          null,
          null,
          null,
          null,
          null,
          null,
          null,
          null,
          null,
          null,
          null,
          null,
          null,
          null,
          null,
          null,
          null,
          null,
          null,
          null,
          null,
          null,
          null,
          null,
          null,
          null,
          null,
          null,
          null,
          null,
          null,
          null,
          null,
          null,
          null,
          null,
          null,
          null,
          null,
          null,
          null,
          null,
          null,
          null,
          null,
          null,
          null,
          null,
          null,
          null,
          null,
          null,
          null,
          null,
          null,
          null,
          null,
          null,
          null,
          null,
          null,
          null,
          null,
          null,
          null,
          null,
          null,
          null,
          null,
          null,
          null,
          null,
          null,
          null,
          null,
          null,
          null,
          null,
          null,
          null,
          null,
          null,
          null,
          null,
          null,
          null,
          null,
          null,
          null,
          null,
          null,
          null,
          null,
          null,
          null,
          null,
          null,
          null,
          null,
          null,
          null,
          null,
          null,
          null,
          null,
          null,
          null,
          null,
          null,
          null,
          null,
          null,
          null,
          null,
          null,
          null,
          null,
          null,
          null,
          null,
          null,
          null,
          0.9999990827050191,
          0.9333214451111079,
          0.9541747509228061,
          0.999556183112759,
          0.999977572588877,
          0.9973809546145549,
          0.9999987523341836,
          0.9999990967449686,
          0.9999987530049865,
          0.9999997558230578,
          0.9999993751165079,
          0.9718177768756271,
          0.9999887459934641,
          0.9999991779970303,
          0.9999990072588578,
          0.9341966538764567,
          0.999998392691517,
          0.99999938615263,
          0.9401850824032948,
          0.9999584343988567,
          0.9994018161888016,
          0.9293911548826513,
          0.9140140269062464,
          0.9999989304991971,
          0.9999992375141868,
          0.6324751367084085,
          0.9244496780061119,
          0.9490160406524146,
          0.9999988886416904,
          0.9999985822940566,
          0.9347311478297616,
          0.9933496909126948,
          0.9916173364210008,
          0.9985768357742809,
          0.9715509703749313,
          0.9999984808421747,
          0.9854544626656534,
          0.9444831013748608,
          0.9999969042127911,
          0.8465136067630524,
          0.9979069134233746,
          0.9954375983895989,
          0.9999995560085578,
          0.9999993615285295,
          0.9983560491278508,
          0.9918440184863992,
          0.9419909323694802,
          0.9999915530618331,
          0.9736960308596538,
          0.9983079553845817,
          0.9230836774839036,
          0.9999983961688508,
          0.9999993755649882,
          0.9999996831809862,
          0.9999781287253375,
          0.9998253608333356,
          0.9999955634032444,
          0.9972261374412679,
          0.9999989545197129,
          0.9999990544839106,
          0.99949576186102,
          0.9999991984912782,
          0.996065825470191,
          0.9999983078408377,
          0.9585486531927353,
          0.9858250721314957,
          0.9818169560674506,
          0.9999987351631908,
          0.9474233415601341,
          0.9719417737522638,
          0.984348079461344,
          0.999999462175342,
          0.9999996148642256,
          0.9960908688926098,
          0.9999991448815545,
          0.9999987366898951,
          0.9999986648290003,
          0.9394166566598816,
          0.9999994729073263,
          0.9999294352791032,
          0.9999062639375406,
          0.9847391320293638,
          0.8607178311182946,
          0.963043244581554,
          0.9255833651935658,
          0.9999982722845567,
          0.9161642819828961,
          0.7720915375054535,
          0.16805419915120098,
          0.9999567171057568,
          0.9999991741133024,
          0.9999975394339143,
          0.8378733108937372,
          0.9999996622000557,
          0.9999990168651122,
          0.9999994373329057,
          0.8009338953429254,
          null,
          null,
          null,
          null,
          null,
          null,
          null,
          null,
          null,
          null,
          null,
          null,
          null,
          null,
          null,
          null,
          null,
          null,
          null,
          null,
          null,
          null,
          null,
          null,
          null,
          null,
          null,
          null,
          null,
          null,
          null,
          null,
          null,
          null,
          null,
          null,
          null,
          null,
          null,
          null,
          null,
          null,
          null,
          null,
          null,
          null,
          null,
          null,
          null,
          null,
          null,
          null,
          null,
          null,
          null,
          null,
          null,
          null,
          null,
          null,
          null,
          null,
          null,
          null,
          null,
          null,
          null,
          null,
          null,
          null,
          null,
          null,
          null,
          null,
          null,
          null,
          null,
          null,
          null,
          null,
          null,
          null,
          null,
          null,
          null,
          null,
          null,
          null,
          null,
          null,
          null,
          null,
          null,
          null,
          null,
          null,
          null,
          null,
          null,
          null,
          null,
          null,
          null,
          null,
          null,
          null,
          null,
          null,
          null,
          null,
          null,
          null,
          null,
          null,
          null,
          null,
          null,
          null,
          null,
          null,
          null,
          null,
          null,
          null,
          null,
          null,
          null,
          null,
          null,
          null,
          null,
          null,
          null,
          null,
          null,
          null,
          null,
          null,
          null,
          null,
          null,
          null,
          null,
          null,
          null,
          null,
          null,
          null,
          null,
          null,
          null,
          null,
          null,
          null,
          null,
          null,
          null,
          null,
          null,
          null,
          null,
          null,
          null,
          null,
          null,
          null,
          null,
          null,
          null,
          null,
          null,
          null,
          null,
          null,
          null,
          null,
          null,
          null,
          null,
          null,
          null,
          null,
          null,
          null,
          null,
          null,
          null,
          null,
          null,
          null,
          null,
          null,
          null,
          null,
          null,
          null,
          null,
          null,
          null,
          null,
          null,
          null,
          null,
          null,
          null,
          null,
          null,
          null,
          null,
          null,
          null,
          null,
          null,
          null,
          null,
          null,
          null,
          null,
          null,
          null,
          null,
          null,
          null,
          null,
          null,
          null,
          null,
          null,
          null,
          null,
          null,
          null,
          null,
          null,
          null,
          null,
          null,
          null,
          null,
          null,
          null,
          null,
          null,
          null,
          null,
          null,
          null,
          null,
          null,
          null,
          null,
          null,
          null,
          null,
          null,
          null,
          null,
          null,
          null,
          null,
          null,
          null,
          null,
          null,
          null,
          null,
          null,
          null,
          null,
          null,
          null,
          null,
          null,
          null,
          null,
          null,
          null,
          null,
          null,
          null,
          null,
          null,
          null,
          null,
          null,
          null,
          null,
          null,
          null,
          null,
          null,
          null,
          null,
          null,
          null,
          null,
          null,
          null,
          null,
          null,
          null,
          null,
          null,
          null,
          null,
          null,
          null,
          null,
          null,
          null,
          null,
          null,
          null,
          null,
          null,
          null,
          null,
          null,
          null,
          null,
          null,
          null,
          null,
          null,
          null,
          null,
          null,
          null,
          null,
          null,
          null,
          null,
          null,
          null,
          null,
          null,
          null,
          null,
          null,
          null,
          null,
          null,
          null,
          null,
          null,
          null,
          null,
          null,
          null,
          null,
          null,
          null,
          null,
          null,
          null,
          null,
          null,
          null,
          null,
          null,
          null,
          null,
          null,
          null,
          null,
          null,
          null,
          null,
          null,
          null,
          null,
          null,
          null,
          null,
          null,
          null,
          null,
          null,
          null,
          null,
          null,
          null,
          null,
          null,
          null,
          null,
          null,
          null,
          null,
          null,
          null,
          null,
          null,
          null,
          null,
          null,
          null,
          null,
          null,
          null,
          null,
          null,
          null,
          null,
          null,
          null,
          null,
          null,
          null,
          null,
          null,
          null,
          null,
          null,
          null,
          null,
          null,
          null,
          null,
          null,
          null,
          null,
          null,
          null,
          null,
          null,
          null,
          null,
          null,
          null,
          null,
          null,
          null,
          null,
          null,
          null,
          null,
          null,
          null,
          null,
          null,
          null,
          null,
          null,
          null,
          null,
          null,
          null,
          null,
          null,
          null,
          null,
          null,
          null,
          null,
          null,
          null,
          null,
          null,
          null,
          null,
          null,
          null,
          null,
          null,
          null,
          null,
          null,
          null,
          null,
          null,
          null,
          null,
          null,
          null,
          null,
          null,
          null,
          null,
          null,
          null,
          null,
          null,
          null,
          null,
          null,
          null,
          null,
          null,
          null,
          null,
          null,
          null,
          null,
          null,
          null,
          null,
          null,
          null,
          null,
          null,
          null,
          null,
          null,
          null,
          null,
          null,
          null,
          null,
          null,
          null,
          null,
          null,
          null,
          null,
          null,
          null,
          null,
          null,
          null,
          null,
          null,
          null,
          null,
          null,
          null,
          null,
          null,
          null,
          null,
          null,
          null,
          null,
          null,
          null,
          null,
          null,
          null,
          null,
          null,
          null,
          null,
          null,
          null,
          null,
          null,
          null,
          null,
          null,
          null,
          null,
          null,
          null,
          null,
          null,
          null,
          null,
          null,
          null,
          null,
          null,
          null,
          null,
          null,
          null,
          null,
          null,
          null,
          null,
          null,
          null,
          null,
          null,
          null,
          null,
          null,
          null,
          null,
          null,
          null,
          null,
          null,
          null,
          null,
          null,
          null,
          null,
          null,
          null,
          null,
          null,
          null,
          null,
          null,
          null,
          null,
          null,
          null,
          null,
          null,
          null,
          null,
          null,
          null,
          null,
          null,
          null,
          null,
          null,
          null,
          null,
          null,
          null,
          null,
          null,
          null,
          null,
          null,
          null,
          null,
          null,
          null,
          null,
          null,
          null,
          null,
          null,
          null,
          null,
          null,
          null,
          null,
          null,
          null,
          null,
          null,
          null,
          null,
          null,
          null,
          null,
          null,
          null,
          null,
          null,
          null,
          null,
          null,
          null,
          null,
          null,
          null,
          null,
          null,
          null,
          null,
          null,
          null,
          null,
          null,
          null,
          null,
          null,
          null,
          null,
          null,
          null,
          null,
          null,
          null,
          null,
          null,
          null,
          null,
          null,
          null,
          null,
          null,
          null,
          null,
          null,
          null,
          null,
          null,
          null,
          null,
          null,
          null,
          null,
          null,
          null,
          null,
          null,
          null,
          null,
          null,
          null,
          null,
          null,
          null,
          null,
          null,
          null,
          null,
          null,
          null,
          null,
          null,
          null,
          null,
          null,
          null,
          null,
          null,
          null,
          null,
          null,
          null,
          null,
          null,
          null,
          null,
          null,
          null,
          null,
          null,
          null,
          null,
          null,
          null,
          null,
          null,
          null,
          null,
          null,
          null,
          null,
          null,
          null,
          null,
          null,
          null,
          null,
          null,
          null,
          null,
          null,
          null,
          null,
          null,
          null,
          null,
          null,
          null,
          null,
          null,
          null,
          null,
          null,
          null,
          null,
          null,
          null,
          null,
          null,
          null,
          null,
          null,
          0.9995279426149474,
          0.9992678514386106,
          0.996139001178558,
          0.9971370801420429,
          0.9861660149083659,
          0.9587407409691853,
          0.9962147342196038,
          0.8782037985759075,
          0.9501586746476023,
          0.8193719486682552,
          0.9974909110307218,
          0.003774801630379313,
          0.9346644048725029,
          0.982052857372254,
          0.9905379733255075,
          0.9993280819509885,
          0.9603876658969951,
          0.9159110245417545,
          0.9854042825806391,
          0.9475754164590697,
          0.9842276016575865,
          0.9061160004230024,
          0.8490209244887938,
          0.9035459863698841,
          0.9226056926308287,
          0.992972103694832,
          0.966212184128944,
          0.9985711192452302,
          0.9887963615162025,
          0.9869530173933516,
          0.9787153092154935,
          0.9996430364343905,
          0.994313499841789,
          0.9819074211111858,
          0.9370957158301206,
          0.9986593599762711,
          0.9974405450444058,
          0.9985722590653716,
          0.9929844055839688,
          0.9923969784019442,
          0.9966883754225101,
          0.9809483107636302,
          0.9602070812358294,
          0.9949845765265407,
          0.9978608553411801,
          0.959307184458144,
          0.9888914661377634,
          null,
          0.9653431976801314,
          0.9536275661146869,
          0.9894000962291694,
          0.9898094357597326,
          0.9925414456639655,
          0.9993935351305769,
          0.9905518474858099,
          0.9922820746250395,
          0.9964095679512857,
          0.9934593852609493,
          0.5619880173690149,
          0.5194555783585817,
          0.9907750257427205,
          0.900972555547471,
          0.8689878287317047,
          0.9843977460529793,
          0.9317669648403795,
          0.8659209529138688,
          0.9886554490347934,
          0.9698391803961305,
          0.9977099594784158,
          0.9790503561752621,
          0.969661655241066,
          0.9538739197277474,
          0.9032500486233404,
          0.9915237531487289,
          0.9439542904569137,
          0.9742620248630222,
          0.5307576724429698,
          0.9877686744217208,
          0.978475322601034,
          0.9123340355048077,
          0.9383596023907985,
          0.8490471099027007,
          0.8338008695655817,
          0.9563086551965813,
          0.9038007849382759,
          null,
          0.9009397538553287,
          0,
          0.9327991143704847,
          0,
          0.9982744809036692,
          0.9987156912720663,
          0.9986385170895665,
          0.9669164743271682,
          0.9207001032763842,
          0.969807695836312,
          0.9956433355417206,
          0.9951402751370692,
          0.9806499400701341,
          0.9078827799145972,
          0.8870969069124708,
          0.9964834277915509,
          0.9811564095335109,
          0.9962668680124561,
          0.99004068174261,
          0.6004669307551609,
          0.8841365533714269,
          0.9689104526165498,
          null,
          0.9982899576367984,
          0.9936047159533734,
          0.9985758362607263,
          0.832694408782741,
          0.524717831670505,
          0.9922612825860293,
          0.7965445996114607,
          0.9828378708522171,
          0.9820284124625401,
          0.9698656019886964,
          0.9937154194422565,
          0.5612542679583238,
          0.9963869307210137,
          0.9580961751945655,
          0.8319632630922604,
          0.9900515975771702,
          0.9913519291293222,
          0.9627858096183968,
          0.9909279542849818,
          0.9607800931050873,
          0.827705964337675,
          0.9959942316438094,
          0.9670913023899412,
          0.9620739252840389,
          0.8140528896152223,
          0.9943086030932534,
          0.6415364135253628,
          0.9991081382739667,
          0.9303698288592972,
          0.989597884712052,
          0.9701423868594865,
          0.7452697922418111,
          0.9870408754555884,
          0.9990805564232735,
          0.9316165921061726,
          0.9166299438282101,
          0.9575527102561265,
          0.9927257586751161,
          0.996786380900739,
          0.9991452472336844,
          0.9369091362987774,
          0.7644470432126009,
          0.9999951668531775,
          0.9496595734336337,
          0.9498008621460364,
          0.561577640940564,
          0.9561616032787829,
          0.9958200479193936,
          0.9856920400791337,
          0.9802293235554285,
          0.9374283696033203,
          0.988825098765552,
          0.99323948436027,
          0.9652498214894849,
          0.9992300713721323,
          0.9761861640331628,
          0.999622752119056,
          0.9822955013961024,
          0.9742913447031019,
          0.9989580424851201,
          null,
          0.9930754934833003,
          0.9721898533535328,
          0.9987553442716705,
          0.9808132610716527,
          0.9905024817260414,
          0.9642754646175816,
          0.9648658104555786,
          0.9058503753375061,
          0.9876188467027339,
          0.9915653432467384,
          0.8734429804097679,
          0.9617285691972456,
          0.9962516425051682,
          0.9168951076318494,
          0.9845595130856223,
          0.9795574847126856,
          0.9622693389813712,
          0.9852110818364521,
          0.9822582673180389,
          0.9956437589861804,
          0.9131844077682902,
          0.9927516707895487,
          0.998210225705198,
          0.0004701858714576304,
          0.966012573365435,
          0.9911458381257787,
          0.9968558400817785,
          0.6565029365108019,
          0.9799680812443242,
          0.9351251991983144,
          0.9959066418214139,
          0.9203473619876044,
          0.9944369745101447,
          0.9988823902545889,
          0.9984192470025695,
          0.9110240529282894,
          0.99156158266016,
          0.9951565076702056,
          null,
          null,
          0.9652106446424453,
          0.9770774251930029,
          0.9845950515296376,
          0.9669305548474689,
          0.8948418386767055,
          null,
          0.9453979092343603,
          0.9550384131087836,
          0.9624204031566136,
          0.968346111263816,
          0.9693909108392444,
          0.9708909195451484,
          0.9424553214189431,
          0.8874232660620174,
          0.9243599519519895,
          0.9243599519519895,
          0.9815805508131771,
          0.5590340229431965,
          0.9275040801860194,
          0.5625049089275843,
          0.9027983847287213,
          null,
          0.8199888189969746,
          0.9886118666506747,
          0.9303772577482399,
          0.9624514790039363,
          0.9687736804642726,
          0.9493609264281744,
          0.9910329219755264,
          0.9306783030727896,
          0.9285202435747462,
          0.9695902804868506,
          0.958404501505731,
          null,
          0.4672788763454091,
          0.8349208561872441,
          0.9510352981147298,
          null,
          0.9078518914921576,
          0.9148672385091488,
          0.9510941275537266,
          null
         ],
         "xbins": {
          "end": 1,
          "size": 0.05,
          "start": 0
         }
        }
       ],
       "layout": {
        "barmode": "overlay",
        "template": {
         "data": {
          "bar": [
           {
            "error_x": {
             "color": "#2a3f5f"
            },
            "error_y": {
             "color": "#2a3f5f"
            },
            "marker": {
             "line": {
              "color": "#E5ECF6",
              "width": 0.5
             },
             "pattern": {
              "fillmode": "overlay",
              "size": 10,
              "solidity": 0.2
             }
            },
            "type": "bar"
           }
          ],
          "barpolar": [
           {
            "marker": {
             "line": {
              "color": "#E5ECF6",
              "width": 0.5
             },
             "pattern": {
              "fillmode": "overlay",
              "size": 10,
              "solidity": 0.2
             }
            },
            "type": "barpolar"
           }
          ],
          "carpet": [
           {
            "aaxis": {
             "endlinecolor": "#2a3f5f",
             "gridcolor": "white",
             "linecolor": "white",
             "minorgridcolor": "white",
             "startlinecolor": "#2a3f5f"
            },
            "baxis": {
             "endlinecolor": "#2a3f5f",
             "gridcolor": "white",
             "linecolor": "white",
             "minorgridcolor": "white",
             "startlinecolor": "#2a3f5f"
            },
            "type": "carpet"
           }
          ],
          "choropleth": [
           {
            "colorbar": {
             "outlinewidth": 0,
             "ticks": ""
            },
            "type": "choropleth"
           }
          ],
          "contour": [
           {
            "colorbar": {
             "outlinewidth": 0,
             "ticks": ""
            },
            "colorscale": [
             [
              0,
              "#0d0887"
             ],
             [
              0.1111111111111111,
              "#46039f"
             ],
             [
              0.2222222222222222,
              "#7201a8"
             ],
             [
              0.3333333333333333,
              "#9c179e"
             ],
             [
              0.4444444444444444,
              "#bd3786"
             ],
             [
              0.5555555555555556,
              "#d8576b"
             ],
             [
              0.6666666666666666,
              "#ed7953"
             ],
             [
              0.7777777777777778,
              "#fb9f3a"
             ],
             [
              0.8888888888888888,
              "#fdca26"
             ],
             [
              1,
              "#f0f921"
             ]
            ],
            "type": "contour"
           }
          ],
          "contourcarpet": [
           {
            "colorbar": {
             "outlinewidth": 0,
             "ticks": ""
            },
            "type": "contourcarpet"
           }
          ],
          "heatmap": [
           {
            "colorbar": {
             "outlinewidth": 0,
             "ticks": ""
            },
            "colorscale": [
             [
              0,
              "#0d0887"
             ],
             [
              0.1111111111111111,
              "#46039f"
             ],
             [
              0.2222222222222222,
              "#7201a8"
             ],
             [
              0.3333333333333333,
              "#9c179e"
             ],
             [
              0.4444444444444444,
              "#bd3786"
             ],
             [
              0.5555555555555556,
              "#d8576b"
             ],
             [
              0.6666666666666666,
              "#ed7953"
             ],
             [
              0.7777777777777778,
              "#fb9f3a"
             ],
             [
              0.8888888888888888,
              "#fdca26"
             ],
             [
              1,
              "#f0f921"
             ]
            ],
            "type": "heatmap"
           }
          ],
          "heatmapgl": [
           {
            "colorbar": {
             "outlinewidth": 0,
             "ticks": ""
            },
            "colorscale": [
             [
              0,
              "#0d0887"
             ],
             [
              0.1111111111111111,
              "#46039f"
             ],
             [
              0.2222222222222222,
              "#7201a8"
             ],
             [
              0.3333333333333333,
              "#9c179e"
             ],
             [
              0.4444444444444444,
              "#bd3786"
             ],
             [
              0.5555555555555556,
              "#d8576b"
             ],
             [
              0.6666666666666666,
              "#ed7953"
             ],
             [
              0.7777777777777778,
              "#fb9f3a"
             ],
             [
              0.8888888888888888,
              "#fdca26"
             ],
             [
              1,
              "#f0f921"
             ]
            ],
            "type": "heatmapgl"
           }
          ],
          "histogram": [
           {
            "marker": {
             "pattern": {
              "fillmode": "overlay",
              "size": 10,
              "solidity": 0.2
             }
            },
            "type": "histogram"
           }
          ],
          "histogram2d": [
           {
            "colorbar": {
             "outlinewidth": 0,
             "ticks": ""
            },
            "colorscale": [
             [
              0,
              "#0d0887"
             ],
             [
              0.1111111111111111,
              "#46039f"
             ],
             [
              0.2222222222222222,
              "#7201a8"
             ],
             [
              0.3333333333333333,
              "#9c179e"
             ],
             [
              0.4444444444444444,
              "#bd3786"
             ],
             [
              0.5555555555555556,
              "#d8576b"
             ],
             [
              0.6666666666666666,
              "#ed7953"
             ],
             [
              0.7777777777777778,
              "#fb9f3a"
             ],
             [
              0.8888888888888888,
              "#fdca26"
             ],
             [
              1,
              "#f0f921"
             ]
            ],
            "type": "histogram2d"
           }
          ],
          "histogram2dcontour": [
           {
            "colorbar": {
             "outlinewidth": 0,
             "ticks": ""
            },
            "colorscale": [
             [
              0,
              "#0d0887"
             ],
             [
              0.1111111111111111,
              "#46039f"
             ],
             [
              0.2222222222222222,
              "#7201a8"
             ],
             [
              0.3333333333333333,
              "#9c179e"
             ],
             [
              0.4444444444444444,
              "#bd3786"
             ],
             [
              0.5555555555555556,
              "#d8576b"
             ],
             [
              0.6666666666666666,
              "#ed7953"
             ],
             [
              0.7777777777777778,
              "#fb9f3a"
             ],
             [
              0.8888888888888888,
              "#fdca26"
             ],
             [
              1,
              "#f0f921"
             ]
            ],
            "type": "histogram2dcontour"
           }
          ],
          "mesh3d": [
           {
            "colorbar": {
             "outlinewidth": 0,
             "ticks": ""
            },
            "type": "mesh3d"
           }
          ],
          "parcoords": [
           {
            "line": {
             "colorbar": {
              "outlinewidth": 0,
              "ticks": ""
             }
            },
            "type": "parcoords"
           }
          ],
          "pie": [
           {
            "automargin": true,
            "type": "pie"
           }
          ],
          "scatter": [
           {
            "fillpattern": {
             "fillmode": "overlay",
             "size": 10,
             "solidity": 0.2
            },
            "type": "scatter"
           }
          ],
          "scatter3d": [
           {
            "line": {
             "colorbar": {
              "outlinewidth": 0,
              "ticks": ""
             }
            },
            "marker": {
             "colorbar": {
              "outlinewidth": 0,
              "ticks": ""
             }
            },
            "type": "scatter3d"
           }
          ],
          "scattercarpet": [
           {
            "marker": {
             "colorbar": {
              "outlinewidth": 0,
              "ticks": ""
             }
            },
            "type": "scattercarpet"
           }
          ],
          "scattergeo": [
           {
            "marker": {
             "colorbar": {
              "outlinewidth": 0,
              "ticks": ""
             }
            },
            "type": "scattergeo"
           }
          ],
          "scattergl": [
           {
            "marker": {
             "colorbar": {
              "outlinewidth": 0,
              "ticks": ""
             }
            },
            "type": "scattergl"
           }
          ],
          "scattermapbox": [
           {
            "marker": {
             "colorbar": {
              "outlinewidth": 0,
              "ticks": ""
             }
            },
            "type": "scattermapbox"
           }
          ],
          "scatterpolar": [
           {
            "marker": {
             "colorbar": {
              "outlinewidth": 0,
              "ticks": ""
             }
            },
            "type": "scatterpolar"
           }
          ],
          "scatterpolargl": [
           {
            "marker": {
             "colorbar": {
              "outlinewidth": 0,
              "ticks": ""
             }
            },
            "type": "scatterpolargl"
           }
          ],
          "scatterternary": [
           {
            "marker": {
             "colorbar": {
              "outlinewidth": 0,
              "ticks": ""
             }
            },
            "type": "scatterternary"
           }
          ],
          "surface": [
           {
            "colorbar": {
             "outlinewidth": 0,
             "ticks": ""
            },
            "colorscale": [
             [
              0,
              "#0d0887"
             ],
             [
              0.1111111111111111,
              "#46039f"
             ],
             [
              0.2222222222222222,
              "#7201a8"
             ],
             [
              0.3333333333333333,
              "#9c179e"
             ],
             [
              0.4444444444444444,
              "#bd3786"
             ],
             [
              0.5555555555555556,
              "#d8576b"
             ],
             [
              0.6666666666666666,
              "#ed7953"
             ],
             [
              0.7777777777777778,
              "#fb9f3a"
             ],
             [
              0.8888888888888888,
              "#fdca26"
             ],
             [
              1,
              "#f0f921"
             ]
            ],
            "type": "surface"
           }
          ],
          "table": [
           {
            "cells": {
             "fill": {
              "color": "#EBF0F8"
             },
             "line": {
              "color": "white"
             }
            },
            "header": {
             "fill": {
              "color": "#C8D4E3"
             },
             "line": {
              "color": "white"
             }
            },
            "type": "table"
           }
          ]
         },
         "layout": {
          "annotationdefaults": {
           "arrowcolor": "#2a3f5f",
           "arrowhead": 0,
           "arrowwidth": 1
          },
          "autotypenumbers": "strict",
          "coloraxis": {
           "colorbar": {
            "outlinewidth": 0,
            "ticks": ""
           }
          },
          "colorscale": {
           "diverging": [
            [
             0,
             "#8e0152"
            ],
            [
             0.1,
             "#c51b7d"
            ],
            [
             0.2,
             "#de77ae"
            ],
            [
             0.3,
             "#f1b6da"
            ],
            [
             0.4,
             "#fde0ef"
            ],
            [
             0.5,
             "#f7f7f7"
            ],
            [
             0.6,
             "#e6f5d0"
            ],
            [
             0.7,
             "#b8e186"
            ],
            [
             0.8,
             "#7fbc41"
            ],
            [
             0.9,
             "#4d9221"
            ],
            [
             1,
             "#276419"
            ]
           ],
           "sequential": [
            [
             0,
             "#0d0887"
            ],
            [
             0.1111111111111111,
             "#46039f"
            ],
            [
             0.2222222222222222,
             "#7201a8"
            ],
            [
             0.3333333333333333,
             "#9c179e"
            ],
            [
             0.4444444444444444,
             "#bd3786"
            ],
            [
             0.5555555555555556,
             "#d8576b"
            ],
            [
             0.6666666666666666,
             "#ed7953"
            ],
            [
             0.7777777777777778,
             "#fb9f3a"
            ],
            [
             0.8888888888888888,
             "#fdca26"
            ],
            [
             1,
             "#f0f921"
            ]
           ],
           "sequentialminus": [
            [
             0,
             "#0d0887"
            ],
            [
             0.1111111111111111,
             "#46039f"
            ],
            [
             0.2222222222222222,
             "#7201a8"
            ],
            [
             0.3333333333333333,
             "#9c179e"
            ],
            [
             0.4444444444444444,
             "#bd3786"
            ],
            [
             0.5555555555555556,
             "#d8576b"
            ],
            [
             0.6666666666666666,
             "#ed7953"
            ],
            [
             0.7777777777777778,
             "#fb9f3a"
            ],
            [
             0.8888888888888888,
             "#fdca26"
            ],
            [
             1,
             "#f0f921"
            ]
           ]
          },
          "colorway": [
           "#636efa",
           "#EF553B",
           "#00cc96",
           "#ab63fa",
           "#FFA15A",
           "#19d3f3",
           "#FF6692",
           "#B6E880",
           "#FF97FF",
           "#FECB52"
          ],
          "font": {
           "color": "#2a3f5f"
          },
          "geo": {
           "bgcolor": "white",
           "lakecolor": "white",
           "landcolor": "#E5ECF6",
           "showlakes": true,
           "showland": true,
           "subunitcolor": "white"
          },
          "hoverlabel": {
           "align": "left"
          },
          "hovermode": "closest",
          "mapbox": {
           "style": "light"
          },
          "paper_bgcolor": "white",
          "plot_bgcolor": "#E5ECF6",
          "polar": {
           "angularaxis": {
            "gridcolor": "white",
            "linecolor": "white",
            "ticks": ""
           },
           "bgcolor": "#E5ECF6",
           "radialaxis": {
            "gridcolor": "white",
            "linecolor": "white",
            "ticks": ""
           }
          },
          "scene": {
           "xaxis": {
            "backgroundcolor": "#E5ECF6",
            "gridcolor": "white",
            "gridwidth": 2,
            "linecolor": "white",
            "showbackground": true,
            "ticks": "",
            "zerolinecolor": "white"
           },
           "yaxis": {
            "backgroundcolor": "#E5ECF6",
            "gridcolor": "white",
            "gridwidth": 2,
            "linecolor": "white",
            "showbackground": true,
            "ticks": "",
            "zerolinecolor": "white"
           },
           "zaxis": {
            "backgroundcolor": "#E5ECF6",
            "gridcolor": "white",
            "gridwidth": 2,
            "linecolor": "white",
            "showbackground": true,
            "ticks": "",
            "zerolinecolor": "white"
           }
          },
          "shapedefaults": {
           "line": {
            "color": "#2a3f5f"
           }
          },
          "ternary": {
           "aaxis": {
            "gridcolor": "white",
            "linecolor": "white",
            "ticks": ""
           },
           "baxis": {
            "gridcolor": "white",
            "linecolor": "white",
            "ticks": ""
           },
           "bgcolor": "#E5ECF6",
           "caxis": {
            "gridcolor": "white",
            "linecolor": "white",
            "ticks": ""
           }
          },
          "title": {
           "x": 0.05
          },
          "xaxis": {
           "automargin": true,
           "gridcolor": "white",
           "linecolor": "white",
           "ticks": "",
           "title": {
            "standoff": 15
           },
           "zerolinecolor": "white",
           "zerolinewidth": 2
          },
          "yaxis": {
           "automargin": true,
           "gridcolor": "white",
           "linecolor": "white",
           "ticks": "",
           "title": {
            "standoff": 15
           },
           "zerolinecolor": "white",
           "zerolinewidth": 2
          }
         }
        },
        "title": {
         "text": "Overlap of Federal Agency Catchments with other Datasets"
        },
        "xaxis": {
         "title": {
          "text": "Overlap [%]"
         }
        },
        "yaxis": {
         "title": {
          "text": "Count"
         }
        }
       }
      }
     },
     "metadata": {},
     "output_type": "display_data"
    }
   ],
   "source": [
    "# plot histogram with plotly go\n",
    "fig = go.Figure()\n",
    "fig.add_trace(go.Histogram(x=df_results[\"overlap_fed_merit_hydro\"], name=\"MERIT Hydro\", xbins=dict(start=0, end=1, size=0.05)))\n",
    "fig.add_trace(go.Histogram(x=df_results[\"overlap_fed_hydrosheds\"], name=\"HydroSHEDS\", xbins=dict(start=0, end=1, size=0.05)))\n",
    "fig.add_trace(go.Histogram(x=df_results[\"overlap_fed_basis_ezg\"], name=\"BASIS-EZG\", xbins=dict(start=0, end=1, size=0.05)))\n",
    "fig.update_layout(barmode='overlay', title=\"Overlap of Federal Agency Catchments with other Datasets\")\n",
    "fig.update_traces(opacity=0.6)\n",
    "fig.update_xaxes(title_text=\"Overlap [%]\")\n",
    "fig.update_yaxes(title_text=\"Count\")\n",
    "fig.show()\n"
   ]
  },
  {
   "cell_type": "code",
   "execution_count": 11,
   "metadata": {},
   "outputs": [
    {
     "data": {
      "text/html": [
       "<div>\n",
       "<style scoped>\n",
       "    .dataframe tbody tr th:only-of-type {\n",
       "        vertical-align: middle;\n",
       "    }\n",
       "\n",
       "    .dataframe tbody tr th {\n",
       "        vertical-align: top;\n",
       "    }\n",
       "\n",
       "    .dataframe thead th {\n",
       "        text-align: right;\n",
       "    }\n",
       "</style>\n",
       "<table border=\"1\" class=\"dataframe\">\n",
       "  <thead>\n",
       "    <tr style=\"text-align: right;\">\n",
       "      <th></th>\n",
       "      <th>overlap_fed_merit_hydro</th>\n",
       "      <th>overlap_fed_hydrosheds</th>\n",
       "      <th>overlap_fed_basis_ezg</th>\n",
       "      <th>centroid_distance_fed_merit_hydro</th>\n",
       "      <th>centroid_distance_fed_hydrosheds</th>\n",
       "      <th>centroid_distance_fed_basis_ezg</th>\n",
       "      <th>area_difference_fed_merit_hydro</th>\n",
       "      <th>area_difference_fed_hydrosheds</th>\n",
       "      <th>area_difference_fed_basis_ezg</th>\n",
       "      <th>area_difference_reported_fed_merit_hydro</th>\n",
       "      <th>area_difference_reported_fed_hydrosheds</th>\n",
       "      <th>area_difference_reported_fed_basis_ezg</th>\n",
       "    </tr>\n",
       "  </thead>\n",
       "  <tbody>\n",
       "    <tr>\n",
       "      <th>DEF10580</th>\n",
       "      <td>5.796524e-04</td>\n",
       "      <td>8.433604e-02</td>\n",
       "      <td>5.542194e-01</td>\n",
       "      <td>14346.330182</td>\n",
       "      <td>6793.483150</td>\n",
       "      <td>540.344638</td>\n",
       "      <td>3.434835e+01</td>\n",
       "      <td>9.930871e+00</td>\n",
       "      <td>8.043373e-01</td>\n",
       "      <td>214.559833</td>\n",
       "      <td>66.348947</td>\n",
       "      <td>10.952089</td>\n",
       "    </tr>\n",
       "    <tr>\n",
       "      <th>DEF14070</th>\n",
       "      <td>1.149048e-02</td>\n",
       "      <td>1.059785e-02</td>\n",
       "      <td>9.179876e-01</td>\n",
       "      <td>19987.707576</td>\n",
       "      <td>17792.124399</td>\n",
       "      <td>151.473270</td>\n",
       "      <td>8.338790e+01</td>\n",
       "      <td>9.270841e+01</td>\n",
       "      <td>8.933551e-02</td>\n",
       "      <td>591.239737</td>\n",
       "      <td>656.541220</td>\n",
       "      <td>7.632118</td>\n",
       "    </tr>\n",
       "    <tr>\n",
       "      <th>DEE10020</th>\n",
       "      <td>2.006459e-03</td>\n",
       "      <td>7.863594e-05</td>\n",
       "      <td>0.000000e+00</td>\n",
       "      <td>43795.530678</td>\n",
       "      <td>51826.206245</td>\n",
       "      <td>199454.511296</td>\n",
       "      <td>9.970760e-01</td>\n",
       "      <td>9.625948e-01</td>\n",
       "      <td>9.549835e-01</td>\n",
       "      <td>14.552611</td>\n",
       "      <td>186.164073</td>\n",
       "      <td>224.045342</td>\n",
       "    </tr>\n",
       "    <tr>\n",
       "      <th>DEE10080</th>\n",
       "      <td>1.293943e-03</td>\n",
       "      <td>3.043924e-03</td>\n",
       "      <td>0.000000e+00</td>\n",
       "      <td>3556.710772</td>\n",
       "      <td>33292.457946</td>\n",
       "      <td>47229.098005</td>\n",
       "      <td>6.249742e+00</td>\n",
       "      <td>3.275233e+02</td>\n",
       "      <td>9.844412e+01</td>\n",
       "      <td>22.842351</td>\n",
       "      <td>1035.105026</td>\n",
       "      <td>313.326664</td>\n",
       "    </tr>\n",
       "    <tr>\n",
       "      <th>DEE10120</th>\n",
       "      <td>0.000000e+00</td>\n",
       "      <td>4.584215e-02</td>\n",
       "      <td>0.000000e+00</td>\n",
       "      <td>13373.239145</td>\n",
       "      <td>5071.744990</td>\n",
       "      <td>36895.729757</td>\n",
       "      <td>1.069275e+01</td>\n",
       "      <td>1.938253e+01</td>\n",
       "      <td>4.528384e+01</td>\n",
       "      <td>157.936029</td>\n",
       "      <td>275.310526</td>\n",
       "      <td>625.164181</td>\n",
       "    </tr>\n",
       "    <tr>\n",
       "      <th>DEE10370</th>\n",
       "      <td>9.944320e-02</td>\n",
       "      <td>1.640731e-03</td>\n",
       "      <td>0.000000e+00</td>\n",
       "      <td>14934.243119</td>\n",
       "      <td>227822.361401</td>\n",
       "      <td>111270.342611</td>\n",
       "      <td>8.869107e+00</td>\n",
       "      <td>5.927723e+02</td>\n",
       "      <td>1.456964e-01</td>\n",
       "      <td>2077.941260</td>\n",
       "      <td>125018.806745</td>\n",
       "      <td>179.873698</td>\n",
       "    </tr>\n",
       "    <tr>\n",
       "      <th>DEE10410</th>\n",
       "      <td>5.413847e-04</td>\n",
       "      <td>7.774266e-01</td>\n",
       "      <td>0.000000e+00</td>\n",
       "      <td>215404.995425</td>\n",
       "      <td>3598.861090</td>\n",
       "      <td>91247.066895</td>\n",
       "      <td>6.391490e+01</td>\n",
       "      <td>4.499625e-02</td>\n",
       "      <td>9.614936e-01</td>\n",
       "      <td>124074.281079</td>\n",
       "      <td>1997.340567</td>\n",
       "      <td>73.598802</td>\n",
       "    </tr>\n",
       "    <tr>\n",
       "      <th>DEE10470</th>\n",
       "      <td>9.377393e-04</td>\n",
       "      <td>9.290365e-02</td>\n",
       "      <td>0.000000e+00</td>\n",
       "      <td>4533.169993</td>\n",
       "      <td>3214.306189</td>\n",
       "      <td>139957.495802</td>\n",
       "      <td>4.132329e+00</td>\n",
       "      <td>9.374477e+00</td>\n",
       "      <td>6.364368e-01</td>\n",
       "      <td>69.213411</td>\n",
       "      <td>139.907803</td>\n",
       "      <td>22.068609</td>\n",
       "    </tr>\n",
       "    <tr>\n",
       "      <th>DEE10740</th>\n",
       "      <td>2.806567e-03</td>\n",
       "      <td>4.026714e-03</td>\n",
       "      <td>0.000000e+00</td>\n",
       "      <td>12943.914571</td>\n",
       "      <td>16515.575107</td>\n",
       "      <td>127504.616995</td>\n",
       "      <td>9.864783e-01</td>\n",
       "      <td>1.729133e-01</td>\n",
       "      <td>1.070900e+01</td>\n",
       "      <td>2.805672</td>\n",
       "      <td>171.615340</td>\n",
       "      <td>2429.544390</td>\n",
       "    </tr>\n",
       "    <tr>\n",
       "      <th>DEB10050</th>\n",
       "      <td>4.509022e-04</td>\n",
       "      <td>6.833367e-03</td>\n",
       "      <td>9.849615e-01</td>\n",
       "      <td>14173.931940</td>\n",
       "      <td>10751.793864</td>\n",
       "      <td>11.566375</td>\n",
       "      <td>1.158070e+02</td>\n",
       "      <td>1.453407e+02</td>\n",
       "      <td>9.301292e-05</td>\n",
       "      <td>986.142399</td>\n",
       "      <td>1235.480892</td>\n",
       "      <td>8.443280</td>\n",
       "    </tr>\n",
       "    <tr>\n",
       "      <th>DEB10180</th>\n",
       "      <td>8.593699e-02</td>\n",
       "      <td>8.161602e-02</td>\n",
       "      <td>1.258544e-01</td>\n",
       "      <td>6755.643116</td>\n",
       "      <td>6610.405748</td>\n",
       "      <td>886.870312</td>\n",
       "      <td>1.043173e+01</td>\n",
       "      <td>1.066912e+01</td>\n",
       "      <td>8.741452e-01</td>\n",
       "      <td>112.061590</td>\n",
       "      <td>114.388639</td>\n",
       "      <td>1.233714</td>\n",
       "    </tr>\n",
       "    <tr>\n",
       "      <th>DEB10250</th>\n",
       "      <td>1.283850e-03</td>\n",
       "      <td>4.314468e-02</td>\n",
       "      <td>1.305113e-01</td>\n",
       "      <td>10377.882055</td>\n",
       "      <td>7623.109554</td>\n",
       "      <td>3915.715145</td>\n",
       "      <td>1.717546e+01</td>\n",
       "      <td>2.217783e+01</td>\n",
       "      <td>8.694884e-01</td>\n",
       "      <td>417.478558</td>\n",
       "      <td>532.379599</td>\n",
       "      <td>2.997766</td>\n",
       "    </tr>\n",
       "    <tr>\n",
       "      <th>DEB10760</th>\n",
       "      <td>9.949939e-05</td>\n",
       "      <td>9.934267e-05</td>\n",
       "      <td>5.771912e-08</td>\n",
       "      <td>166889.342154</td>\n",
       "      <td>166753.091064</td>\n",
       "      <td>3747.790207</td>\n",
       "      <td>1.004931e+04</td>\n",
       "      <td>1.006517e+04</td>\n",
       "      <td>9.949192e-01</td>\n",
       "      <td>103635.727186</td>\n",
       "      <td>103799.214671</td>\n",
       "      <td>0.052391</td>\n",
       "    </tr>\n",
       "    <tr>\n",
       "      <th>DEA10070</th>\n",
       "      <td>9.843533e-04</td>\n",
       "      <td>2.864989e-02</td>\n",
       "      <td>9.999710e-01</td>\n",
       "      <td>9312.588224</td>\n",
       "      <td>1941.196807</td>\n",
       "      <td>0.002521</td>\n",
       "      <td>1.740660e+01</td>\n",
       "      <td>3.339240e+01</td>\n",
       "      <td>1.258642e-06</td>\n",
       "      <td>156.462686</td>\n",
       "      <td>292.347711</td>\n",
       "      <td>8.500368</td>\n",
       "    </tr>\n",
       "    <tr>\n",
       "      <th>DEA10130</th>\n",
       "      <td>6.052234e-02</td>\n",
       "      <td>2.145079e-03</td>\n",
       "      <td>9.998736e-01</td>\n",
       "      <td>2119.090093</td>\n",
       "      <td>6656.218539</td>\n",
       "      <td>0.005614</td>\n",
       "      <td>1.472376e+01</td>\n",
       "      <td>4.651834e+02</td>\n",
       "      <td>2.292693e-05</td>\n",
       "      <td>6.154713</td>\n",
       "      <td>182.477023</td>\n",
       "      <td>0.391437</td>\n",
       "    </tr>\n",
       "    <tr>\n",
       "      <th>DEA10510</th>\n",
       "      <td>0.000000e+00</td>\n",
       "      <td>1.649126e-04</td>\n",
       "      <td>8.635266e-02</td>\n",
       "      <td>3994.431848</td>\n",
       "      <td>20482.607334</td>\n",
       "      <td>939.038094</td>\n",
       "      <td>8.032731e+01</td>\n",
       "      <td>6.062817e+03</td>\n",
       "      <td>1.057948e+01</td>\n",
       "      <td>12.909449</td>\n",
       "      <td>962.536933</td>\n",
       "      <td>1.838063</td>\n",
       "    </tr>\n",
       "    <tr>\n",
       "      <th>DEA10570</th>\n",
       "      <td>5.914866e-05</td>\n",
       "      <td>1.872179e-03</td>\n",
       "      <td>9.999692e-01</td>\n",
       "      <td>81986.901225</td>\n",
       "      <td>78357.424909</td>\n",
       "      <td>0.002498</td>\n",
       "      <td>5.133524e+02</td>\n",
       "      <td>5.330229e+02</td>\n",
       "      <td>1.731231e-06</td>\n",
       "      <td>4308.776811</td>\n",
       "      <td>4473.558204</td>\n",
       "      <td>8.377076</td>\n",
       "    </tr>\n",
       "    <tr>\n",
       "      <th>DEA10770</th>\n",
       "      <td>2.907149e-05</td>\n",
       "      <td>5.442775e-03</td>\n",
       "      <td>9.999664e-01</td>\n",
       "      <td>10752.510444</td>\n",
       "      <td>9554.503925</td>\n",
       "      <td>0.000338</td>\n",
       "      <td>1.582104e+02</td>\n",
       "      <td>1.827298e+02</td>\n",
       "      <td>1.540850e-06</td>\n",
       "      <td>880.110616</td>\n",
       "      <td>1015.653241</td>\n",
       "      <td>5.527981</td>\n",
       "    </tr>\n",
       "    <tr>\n",
       "      <th>DEA10890</th>\n",
       "      <td>4.463319e-05</td>\n",
       "      <td>4.268252e-05</td>\n",
       "      <td>0.000000e+00</td>\n",
       "      <td>13483.439089</td>\n",
       "      <td>12579.402079</td>\n",
       "      <td>131460.127745</td>\n",
       "      <td>2.240385e+04</td>\n",
       "      <td>2.342779e+04</td>\n",
       "      <td>3.924660e+03</td>\n",
       "      <td>1010.486653</td>\n",
       "      <td>1056.667731</td>\n",
       "      <td>177.052163</td>\n",
       "    </tr>\n",
       "    <tr>\n",
       "      <th>DEA11070</th>\n",
       "      <td>1.959709e-02</td>\n",
       "      <td>3.445833e-01</td>\n",
       "      <td>0.000000e+00</td>\n",
       "      <td>5327.310186</td>\n",
       "      <td>2294.746598</td>\n",
       "      <td>84907.354381</td>\n",
       "      <td>5.343255e-01</td>\n",
       "      <td>1.842969e+00</td>\n",
       "      <td>3.663666e+00</td>\n",
       "      <td>24.291752</td>\n",
       "      <td>148.302513</td>\n",
       "      <td>243.278553</td>\n",
       "    </tr>\n",
       "    <tr>\n",
       "      <th>DEA11140</th>\n",
       "      <td>5.996618e-05</td>\n",
       "      <td>4.471178e-03</td>\n",
       "      <td>9.999729e-01</td>\n",
       "      <td>88923.175209</td>\n",
       "      <td>86557.337154</td>\n",
       "      <td>0.002354</td>\n",
       "      <td>2.139072e+02</td>\n",
       "      <td>2.188971e+02</td>\n",
       "      <td>7.212412e-07</td>\n",
       "      <td>4372.043925</td>\n",
       "      <td>4473.558204</td>\n",
       "      <td>20.343886</td>\n",
       "    </tr>\n",
       "    <tr>\n",
       "      <th>DEA11220</th>\n",
       "      <td>1.517481e-04</td>\n",
       "      <td>4.336736e-03</td>\n",
       "      <td>9.999810e-01</td>\n",
       "      <td>107533.150351</td>\n",
       "      <td>103608.016245</td>\n",
       "      <td>0.002371</td>\n",
       "      <td>2.267650e+02</td>\n",
       "      <td>2.260449e+02</td>\n",
       "      <td>1.422557e-06</td>\n",
       "      <td>4745.705608</td>\n",
       "      <td>4730.700385</td>\n",
       "      <td>20.835942</td>\n",
       "    </tr>\n",
       "    <tr>\n",
       "      <th>DEA11320</th>\n",
       "      <td>3.861357e-03</td>\n",
       "      <td>4.006765e-03</td>\n",
       "      <td>8.222369e-01</td>\n",
       "      <td>82962.280466</td>\n",
       "      <td>79700.330952</td>\n",
       "      <td>297.236344</td>\n",
       "      <td>2.404329e+02</td>\n",
       "      <td>2.485529e+02</td>\n",
       "      <td>1.777475e-01</td>\n",
       "      <td>4327.996062</td>\n",
       "      <td>4473.558204</td>\n",
       "      <td>14.739938</td>\n",
       "    </tr>\n",
       "    <tr>\n",
       "      <th>DEA11370</th>\n",
       "      <td>1.586855e-04</td>\n",
       "      <td>1.510912e-02</td>\n",
       "      <td>9.998973e-01</td>\n",
       "      <td>43046.272792</td>\n",
       "      <td>40192.451747</td>\n",
       "      <td>0.180588</td>\n",
       "      <td>5.983843e+01</td>\n",
       "      <td>6.493782e+01</td>\n",
       "      <td>5.069030e-05</td>\n",
       "      <td>1446.452970</td>\n",
       "      <td>1567.692599</td>\n",
       "      <td>23.776521</td>\n",
       "    </tr>\n",
       "    <tr>\n",
       "      <th>DEA11380</th>\n",
       "      <td>6.318502e-04</td>\n",
       "      <td>6.535811e-03</td>\n",
       "      <td>9.999149e-01</td>\n",
       "      <td>4005.884481</td>\n",
       "      <td>5227.486838</td>\n",
       "      <td>0.005128</td>\n",
       "      <td>1.946210e+01</td>\n",
       "      <td>1.457488e+02</td>\n",
       "      <td>2.367472e-06</td>\n",
       "      <td>19.692448</td>\n",
       "      <td>141.229065</td>\n",
       "      <td>0.962389</td>\n",
       "    </tr>\n",
       "    <tr>\n",
       "      <th>DEA11390</th>\n",
       "      <td>5.045700e-05</td>\n",
       "      <td>4.426113e-03</td>\n",
       "      <td>3.892297e-01</td>\n",
       "      <td>10600.260801</td>\n",
       "      <td>8532.712939</td>\n",
       "      <td>1034.967137</td>\n",
       "      <td>1.790743e+02</td>\n",
       "      <td>2.249319e+02</td>\n",
       "      <td>8.922741e-02</td>\n",
       "      <td>631.603511</td>\n",
       "      <td>792.447104</td>\n",
       "      <td>3.820422</td>\n",
       "    </tr>\n",
       "    <tr>\n",
       "      <th>DEA11400</th>\n",
       "      <td>3.733915e-03</td>\n",
       "      <td>9.148515e-03</td>\n",
       "      <td>9.999375e-01</td>\n",
       "      <td>1304.816265</td>\n",
       "      <td>10364.565459</td>\n",
       "      <td>0.001837</td>\n",
       "      <td>9.128709e-01</td>\n",
       "      <td>1.075566e+02</td>\n",
       "      <td>1.138855e-06</td>\n",
       "      <td>4.191565</td>\n",
       "      <td>237.873825</td>\n",
       "      <td>2.191245</td>\n",
       "    </tr>\n",
       "    <tr>\n",
       "      <th>DEA11510</th>\n",
       "      <td>4.428063e-03</td>\n",
       "      <td>4.317562e-03</td>\n",
       "      <td>8.225266e-01</td>\n",
       "      <td>63624.259501</td>\n",
       "      <td>62112.167238</td>\n",
       "      <td>461.399411</td>\n",
       "      <td>2.209115e+02</td>\n",
       "      <td>2.257756e+02</td>\n",
       "      <td>1.774586e-01</td>\n",
       "      <td>3943.129542</td>\n",
       "      <td>4029.558358</td>\n",
       "      <td>14.615677</td>\n",
       "    </tr>\n",
       "    <tr>\n",
       "      <th>DEA11620</th>\n",
       "      <td>5.648292e-03</td>\n",
       "      <td>2.248180e-03</td>\n",
       "      <td>9.998053e-01</td>\n",
       "      <td>4547.455955</td>\n",
       "      <td>3550.165369</td>\n",
       "      <td>0.010532</td>\n",
       "      <td>4.883104e+01</td>\n",
       "      <td>4.438043e+02</td>\n",
       "      <td>8.031303e-06</td>\n",
       "      <td>18.090681</td>\n",
       "      <td>161.481925</td>\n",
       "      <td>0.363043</td>\n",
       "    </tr>\n",
       "    <tr>\n",
       "      <th>DEA11890</th>\n",
       "      <td>4.371058e-03</td>\n",
       "      <td>3.845388e-01</td>\n",
       "      <td>9.851612e-01</td>\n",
       "      <td>5598.331768</td>\n",
       "      <td>3059.470700</td>\n",
       "      <td>103.187510</td>\n",
       "      <td>6.354440e-01</td>\n",
       "      <td>1.137022e+00</td>\n",
       "      <td>1.505038e-02</td>\n",
       "      <td>25.178051</td>\n",
       "      <td>147.593336</td>\n",
       "      <td>70.104424</td>\n",
       "    </tr>\n",
       "    <tr>\n",
       "      <th>DEA12090</th>\n",
       "      <td>7.332329e-02</td>\n",
       "      <td>6.836021e-02</td>\n",
       "      <td>9.787500e-01</td>\n",
       "      <td>4171.772775</td>\n",
       "      <td>3107.144033</td>\n",
       "      <td>41.941787</td>\n",
       "      <td>1.202501e+01</td>\n",
       "      <td>1.362839e+01</td>\n",
       "      <td>2.168953e-02</td>\n",
       "      <td>156.853788</td>\n",
       "      <td>176.162581</td>\n",
       "      <td>12.303708</td>\n",
       "    </tr>\n",
       "    <tr>\n",
       "      <th>DEA12160</th>\n",
       "      <td>2.933667e-02</td>\n",
       "      <td>1.108735e-04</td>\n",
       "      <td>7.889597e-01</td>\n",
       "      <td>10175.410163</td>\n",
       "      <td>252289.758079</td>\n",
       "      <td>2008.272259</td>\n",
       "      <td>8.274634e-01</td>\n",
       "      <td>1.382309e+03</td>\n",
       "      <td>2.674814e-01</td>\n",
       "      <td>18.479137</td>\n",
       "      <td>148156.206052</td>\n",
       "      <td>135.750702</td>\n",
       "    </tr>\n",
       "    <tr>\n",
       "      <th>DE910040</th>\n",
       "      <td>9.438811e-03</td>\n",
       "      <td>1.014838e-02</td>\n",
       "      <td>1.312458e-07</td>\n",
       "      <td>17185.909365</td>\n",
       "      <td>8214.250729</td>\n",
       "      <td>23551.594244</td>\n",
       "      <td>8.383360e-01</td>\n",
       "      <td>2.648193e-01</td>\n",
       "      <td>9.662659e-01</td>\n",
       "      <td>24.221943</td>\n",
       "      <td>110.151340</td>\n",
       "      <td>5.054344</td>\n",
       "    </tr>\n",
       "    <tr>\n",
       "      <th>DE910450</th>\n",
       "      <td>2.172373e-03</td>\n",
       "      <td>1.639047e-03</td>\n",
       "      <td>6.753878e-01</td>\n",
       "      <td>4282.771346</td>\n",
       "      <td>76658.833917</td>\n",
       "      <td>1182.851616</td>\n",
       "      <td>6.476413e-01</td>\n",
       "      <td>4.184517e+02</td>\n",
       "      <td>4.806296e-01</td>\n",
       "      <td>7.202589</td>\n",
       "      <td>8574.042123</td>\n",
       "      <td>30.265658</td>\n",
       "    </tr>\n",
       "    <tr>\n",
       "      <th>DE910490</th>\n",
       "      <td>7.077753e-05</td>\n",
       "      <td>6.134999e-04</td>\n",
       "      <td>9.341776e-08</td>\n",
       "      <td>82053.635986</td>\n",
       "      <td>84776.641678</td>\n",
       "      <td>6276.657307</td>\n",
       "      <td>4.701772e+02</td>\n",
       "      <td>4.598328e+02</td>\n",
       "      <td>8.290231e-01</td>\n",
       "      <td>9152.350714</td>\n",
       "      <td>8951.416213</td>\n",
       "      <td>3.321130</td>\n",
       "    </tr>\n",
       "    <tr>\n",
       "      <th>DE910590</th>\n",
       "      <td>8.881846e-02</td>\n",
       "      <td>3.691225e-03</td>\n",
       "      <td>9.159901e-01</td>\n",
       "      <td>7668.817974</td>\n",
       "      <td>20824.924010</td>\n",
       "      <td>774.267772</td>\n",
       "      <td>8.457061e-01</td>\n",
       "      <td>5.267211e+01</td>\n",
       "      <td>9.171198e-02</td>\n",
       "      <td>4.688244</td>\n",
       "      <td>1630.835878</td>\n",
       "      <td>33.171847</td>\n",
       "    </tr>\n",
       "    <tr>\n",
       "      <th>DE911300</th>\n",
       "      <td>1.312400e-03</td>\n",
       "      <td>5.255479e-02</td>\n",
       "      <td>6.763518e-01</td>\n",
       "      <td>7020.081037</td>\n",
       "      <td>4351.949754</td>\n",
       "      <td>838.192439</td>\n",
       "      <td>1.177053e+01</td>\n",
       "      <td>1.635342e+01</td>\n",
       "      <td>4.785182e-01</td>\n",
       "      <td>103.304123</td>\n",
       "      <td>140.376358</td>\n",
       "      <td>11.960120</td>\n",
       "    </tr>\n",
       "    <tr>\n",
       "      <th>DE911670</th>\n",
       "      <td>1.698090e-02</td>\n",
       "      <td>8.038142e-01</td>\n",
       "      <td>9.785182e-01</td>\n",
       "      <td>7025.211121</td>\n",
       "      <td>1412.504105</td>\n",
       "      <td>166.801323</td>\n",
       "      <td>9.809182e-01</td>\n",
       "      <td>1.302133e-01</td>\n",
       "      <td>2.195276e-02</td>\n",
       "      <td>2.850506</td>\n",
       "      <td>168.835573</td>\n",
       "      <td>152.663201</td>\n",
       "    </tr>\n",
       "    <tr>\n",
       "      <th>DE911720</th>\n",
       "      <td>3.010715e-02</td>\n",
       "      <td>5.288102e-01</td>\n",
       "      <td>6.516271e-01</td>\n",
       "      <td>3608.999194</td>\n",
       "      <td>2644.547269</td>\n",
       "      <td>1930.216849</td>\n",
       "      <td>9.569759e-01</td>\n",
       "      <td>6.273511e-01</td>\n",
       "      <td>3.483722e-01</td>\n",
       "      <td>3.463047</td>\n",
       "      <td>130.986958</td>\n",
       "      <td>52.450108</td>\n",
       "    </tr>\n",
       "    <tr>\n",
       "      <th>DE912070</th>\n",
       "      <td>7.933004e-03</td>\n",
       "      <td>5.057927e-01</td>\n",
       "      <td>1.696038e-01</td>\n",
       "      <td>12408.419408</td>\n",
       "      <td>6337.773424</td>\n",
       "      <td>9470.244197</td>\n",
       "      <td>8.344232e-01</td>\n",
       "      <td>7.558646e-01</td>\n",
       "      <td>6.729410e-01</td>\n",
       "      <td>70.412034</td>\n",
       "      <td>746.686700</td>\n",
       "      <td>139.082833</td>\n",
       "    </tr>\n",
       "    <tr>\n",
       "      <th>DE912080</th>\n",
       "      <td>4.044223e-04</td>\n",
       "      <td>2.568498e-03</td>\n",
       "      <td>6.851592e-03</td>\n",
       "      <td>8593.817519</td>\n",
       "      <td>5133.471728</td>\n",
       "      <td>2030.633927</td>\n",
       "      <td>2.416309e+03</td>\n",
       "      <td>3.883327e+02</td>\n",
       "      <td>1.449515e+02</td>\n",
       "      <td>662.183247</td>\n",
       "      <td>106.651457</td>\n",
       "      <td>39.981076</td>\n",
       "    </tr>\n",
       "    <tr>\n",
       "      <th>DE912260</th>\n",
       "      <td>6.325215e-04</td>\n",
       "      <td>8.831599e-01</td>\n",
       "      <td>2.187957e-06</td>\n",
       "      <td>21776.536012</td>\n",
       "      <td>1060.892209</td>\n",
       "      <td>14941.194883</td>\n",
       "      <td>8.557258e-01</td>\n",
       "      <td>1.148152e-02</td>\n",
       "      <td>9.921668e-01</td>\n",
       "      <td>187.931962</td>\n",
       "      <td>1317.558264</td>\n",
       "      <td>10.203514</td>\n",
       "    </tr>\n",
       "    <tr>\n",
       "      <th>DE912590</th>\n",
       "      <td>9.926175e-03</td>\n",
       "      <td>1.189025e-02</td>\n",
       "      <td>9.699686e-01</td>\n",
       "      <td>18169.544932</td>\n",
       "      <td>18196.032406</td>\n",
       "      <td>104.757817</td>\n",
       "      <td>7.911939e+01</td>\n",
       "      <td>8.096067e+01</td>\n",
       "      <td>3.095944e-02</td>\n",
       "      <td>1027.032709</td>\n",
       "      <td>1050.635675</td>\n",
       "      <td>13.215640</td>\n",
       "    </tr>\n",
       "    <tr>\n",
       "      <th>DE912680</th>\n",
       "      <td>6.019938e-03</td>\n",
       "      <td>1.534055e-02</td>\n",
       "      <td>2.571519e-08</td>\n",
       "      <td>14169.486530</td>\n",
       "      <td>13902.070348</td>\n",
       "      <td>5635.461337</td>\n",
       "      <td>1.488753e+01</td>\n",
       "      <td>1.606614e+01</td>\n",
       "      <td>9.406480e-01</td>\n",
       "      <td>551.101855</td>\n",
       "      <td>591.984799</td>\n",
       "      <td>2.058785</td>\n",
       "    </tr>\n",
       "    <tr>\n",
       "      <th>DE912690</th>\n",
       "      <td>2.806642e-02</td>\n",
       "      <td>2.431190e-02</td>\n",
       "      <td>2.289743e-07</td>\n",
       "      <td>16351.453731</td>\n",
       "      <td>13428.586733</td>\n",
       "      <td>3161.825712</td>\n",
       "      <td>3.238905e+01</td>\n",
       "      <td>3.890260e+01</td>\n",
       "      <td>7.440210e-01</td>\n",
       "      <td>615.882236</td>\n",
       "      <td>736.028716</td>\n",
       "      <td>4.721695</td>\n",
       "    </tr>\n",
       "    <tr>\n",
       "      <th>DE912710</th>\n",
       "      <td>5.547239e-02</td>\n",
       "      <td>3.350651e-02</td>\n",
       "      <td>9.192197e-01</td>\n",
       "      <td>3470.240325</td>\n",
       "      <td>6904.847001</td>\n",
       "      <td>59.591189</td>\n",
       "      <td>3.792152e-01</td>\n",
       "      <td>2.884494e+01</td>\n",
       "      <td>1.908231e-02</td>\n",
       "      <td>12.594916</td>\n",
       "      <td>605.515045</td>\n",
       "      <td>20.675854</td>\n",
       "    </tr>\n",
       "    <tr>\n",
       "      <th>DE912780</th>\n",
       "      <td>4.846439e-02</td>\n",
       "      <td>1.139465e-01</td>\n",
       "      <td>9.902345e-01</td>\n",
       "      <td>15530.889050</td>\n",
       "      <td>6770.918123</td>\n",
       "      <td>240.406513</td>\n",
       "      <td>1.753742e+01</td>\n",
       "      <td>1.684026e+00</td>\n",
       "      <td>8.961595e-03</td>\n",
       "      <td>1752.169067</td>\n",
       "      <td>253.695922</td>\n",
       "      <td>95.367719</td>\n",
       "    </tr>\n",
       "    <tr>\n",
       "      <th>DE912930</th>\n",
       "      <td>3.110439e-03</td>\n",
       "      <td>2.492812e-01</td>\n",
       "      <td>NaN</td>\n",
       "      <td>5710.305850</td>\n",
       "      <td>1833.632363</td>\n",
       "      <td>NaN</td>\n",
       "      <td>9.113396e-01</td>\n",
       "      <td>2.891959e+00</td>\n",
       "      <td>NaN</td>\n",
       "      <td>2.806620</td>\n",
       "      <td>123.203308</td>\n",
       "      <td>NaN</td>\n",
       "    </tr>\n",
       "    <tr>\n",
       "      <th>DE710140</th>\n",
       "      <td>3.385751e-02</td>\n",
       "      <td>8.259695e-01</td>\n",
       "      <td>9.999990e-01</td>\n",
       "      <td>8081.994236</td>\n",
       "      <td>1047.669414</td>\n",
       "      <td>0.000370</td>\n",
       "      <td>9.653550e-01</td>\n",
       "      <td>1.165236e-01</td>\n",
       "      <td>6.102500e-08</td>\n",
       "      <td>3.398489</td>\n",
       "      <td>109.524916</td>\n",
       "      <td>98.094580</td>\n",
       "    </tr>\n",
       "    <tr>\n",
       "      <th>DE710480</th>\n",
       "      <td>8.033284e-04</td>\n",
       "      <td>2.083134e-02</td>\n",
       "      <td>9.736960e-01</td>\n",
       "      <td>20258.799420</td>\n",
       "      <td>19837.040647</td>\n",
       "      <td>73.922050</td>\n",
       "      <td>4.517639e+01</td>\n",
       "      <td>4.653158e+01</td>\n",
       "      <td>2.701265e-02</td>\n",
       "      <td>699.571594</td>\n",
       "      <td>720.102713</td>\n",
       "      <td>15.559227</td>\n",
       "    </tr>\n",
       "    <tr>\n",
       "      <th>DE710960</th>\n",
       "      <td>2.562123e-03</td>\n",
       "      <td>2.537542e-03</td>\n",
       "      <td>8.009339e-01</td>\n",
       "      <td>67652.870513</td>\n",
       "      <td>66868.509733</td>\n",
       "      <td>660.480959</td>\n",
       "      <td>3.836207e+02</td>\n",
       "      <td>3.875913e+02</td>\n",
       "      <td>2.377088e-01</td>\n",
       "      <td>5450.786920</td>\n",
       "      <td>5507.057755</td>\n",
       "      <td>17.540624</td>\n",
       "    </tr>\n",
       "    <tr>\n",
       "      <th>DE110110</th>\n",
       "      <td>7.395415e-06</td>\n",
       "      <td>3.604431e-06</td>\n",
       "      <td>3.774802e-03</td>\n",
       "      <td>8523.697109</td>\n",
       "      <td>6392.579526</td>\n",
       "      <td>466.814815</td>\n",
       "      <td>1.352179e+05</td>\n",
       "      <td>2.774353e+05</td>\n",
       "      <td>2.639146e+02</td>\n",
       "      <td>109.884411</td>\n",
       "      <td>225.456034</td>\n",
       "      <td>0.215280</td>\n",
       "    </tr>\n",
       "    <tr>\n",
       "      <th>DE110590</th>\n",
       "      <td>4.151920e-05</td>\n",
       "      <td>3.681139e-02</td>\n",
       "      <td>5.194556e-01</td>\n",
       "      <td>28057.654263</td>\n",
       "      <td>30069.068733</td>\n",
       "      <td>13850.268272</td>\n",
       "      <td>9.979699e-01</td>\n",
       "      <td>9.601111e-01</td>\n",
       "      <td>4.797659e-01</td>\n",
       "      <td>7.792992</td>\n",
       "      <td>153.121211</td>\n",
       "      <td>1997.018669</td>\n",
       "    </tr>\n",
       "    <tr>\n",
       "      <th>DE110630</th>\n",
       "      <td>6.781080e-02</td>\n",
       "      <td>5.827514e-02</td>\n",
       "      <td>9.843977e-01</td>\n",
       "      <td>2415.637631</td>\n",
       "      <td>4673.928994</td>\n",
       "      <td>16.303574</td>\n",
       "      <td>8.802184e-01</td>\n",
       "      <td>1.191697e+01</td>\n",
       "      <td>5.205124e-03</td>\n",
       "      <td>2.851544</td>\n",
       "      <td>307.503925</td>\n",
       "      <td>23.930111</td>\n",
       "    </tr>\n",
       "    <tr>\n",
       "      <th>DE110890</th>\n",
       "      <td>0.000000e+00</td>\n",
       "      <td>0.000000e+00</td>\n",
       "      <td>0.000000e+00</td>\n",
       "      <td>164693.134491</td>\n",
       "      <td>160825.243082</td>\n",
       "      <td>165394.314761</td>\n",
       "      <td>6.197088e-01</td>\n",
       "      <td>4.126668e+01</td>\n",
       "      <td>2.865148e+00</td>\n",
       "      <td>5.931633</td>\n",
       "      <td>154.787331</td>\n",
       "      <td>14.154791</td>\n",
       "    </tr>\n",
       "    <tr>\n",
       "      <th>DE111930</th>\n",
       "      <td>1.734757e-07</td>\n",
       "      <td>1.648274e-07</td>\n",
       "      <td>4.701859e-04</td>\n",
       "      <td>25644.869478</td>\n",
       "      <td>23670.079518</td>\n",
       "      <td>540.885846</td>\n",
       "      <td>5.764495e+06</td>\n",
       "      <td>6.066951e+06</td>\n",
       "      <td>2.125818e+03</td>\n",
       "      <td>1825.748987</td>\n",
       "      <td>1921.543601</td>\n",
       "      <td>0.673612</td>\n",
       "    </tr>\n",
       "    <tr>\n",
       "      <th>DE112270</th>\n",
       "      <td>6.326323e-03</td>\n",
       "      <td>2.287659e-02</td>\n",
       "      <td>5.590340e-01</td>\n",
       "      <td>74500.051580</td>\n",
       "      <td>69990.072774</td>\n",
       "      <td>11179.858279</td>\n",
       "      <td>9.397599e-01</td>\n",
       "      <td>9.157254e-01</td>\n",
       "      <td>4.404948e-01</td>\n",
       "      <td>301.330035</td>\n",
       "      <td>421.554304</td>\n",
       "      <td>2798.730957</td>\n",
       "    </tr>\n",
       "  </tbody>\n",
       "</table>\n",
       "</div>"
      ],
      "text/plain": [
       "          overlap_fed_merit_hydro  overlap_fed_hydrosheds  \\\n",
       "DEF10580             5.796524e-04            8.433604e-02   \n",
       "DEF14070             1.149048e-02            1.059785e-02   \n",
       "DEE10020             2.006459e-03            7.863594e-05   \n",
       "DEE10080             1.293943e-03            3.043924e-03   \n",
       "DEE10120             0.000000e+00            4.584215e-02   \n",
       "DEE10370             9.944320e-02            1.640731e-03   \n",
       "DEE10410             5.413847e-04            7.774266e-01   \n",
       "DEE10470             9.377393e-04            9.290365e-02   \n",
       "DEE10740             2.806567e-03            4.026714e-03   \n",
       "DEB10050             4.509022e-04            6.833367e-03   \n",
       "DEB10180             8.593699e-02            8.161602e-02   \n",
       "DEB10250             1.283850e-03            4.314468e-02   \n",
       "DEB10760             9.949939e-05            9.934267e-05   \n",
       "DEA10070             9.843533e-04            2.864989e-02   \n",
       "DEA10130             6.052234e-02            2.145079e-03   \n",
       "DEA10510             0.000000e+00            1.649126e-04   \n",
       "DEA10570             5.914866e-05            1.872179e-03   \n",
       "DEA10770             2.907149e-05            5.442775e-03   \n",
       "DEA10890             4.463319e-05            4.268252e-05   \n",
       "DEA11070             1.959709e-02            3.445833e-01   \n",
       "DEA11140             5.996618e-05            4.471178e-03   \n",
       "DEA11220             1.517481e-04            4.336736e-03   \n",
       "DEA11320             3.861357e-03            4.006765e-03   \n",
       "DEA11370             1.586855e-04            1.510912e-02   \n",
       "DEA11380             6.318502e-04            6.535811e-03   \n",
       "DEA11390             5.045700e-05            4.426113e-03   \n",
       "DEA11400             3.733915e-03            9.148515e-03   \n",
       "DEA11510             4.428063e-03            4.317562e-03   \n",
       "DEA11620             5.648292e-03            2.248180e-03   \n",
       "DEA11890             4.371058e-03            3.845388e-01   \n",
       "DEA12090             7.332329e-02            6.836021e-02   \n",
       "DEA12160             2.933667e-02            1.108735e-04   \n",
       "DE910040             9.438811e-03            1.014838e-02   \n",
       "DE910450             2.172373e-03            1.639047e-03   \n",
       "DE910490             7.077753e-05            6.134999e-04   \n",
       "DE910590             8.881846e-02            3.691225e-03   \n",
       "DE911300             1.312400e-03            5.255479e-02   \n",
       "DE911670             1.698090e-02            8.038142e-01   \n",
       "DE911720             3.010715e-02            5.288102e-01   \n",
       "DE912070             7.933004e-03            5.057927e-01   \n",
       "DE912080             4.044223e-04            2.568498e-03   \n",
       "DE912260             6.325215e-04            8.831599e-01   \n",
       "DE912590             9.926175e-03            1.189025e-02   \n",
       "DE912680             6.019938e-03            1.534055e-02   \n",
       "DE912690             2.806642e-02            2.431190e-02   \n",
       "DE912710             5.547239e-02            3.350651e-02   \n",
       "DE912780             4.846439e-02            1.139465e-01   \n",
       "DE912930             3.110439e-03            2.492812e-01   \n",
       "DE710140             3.385751e-02            8.259695e-01   \n",
       "DE710480             8.033284e-04            2.083134e-02   \n",
       "DE710960             2.562123e-03            2.537542e-03   \n",
       "DE110110             7.395415e-06            3.604431e-06   \n",
       "DE110590             4.151920e-05            3.681139e-02   \n",
       "DE110630             6.781080e-02            5.827514e-02   \n",
       "DE110890             0.000000e+00            0.000000e+00   \n",
       "DE111930             1.734757e-07            1.648274e-07   \n",
       "DE112270             6.326323e-03            2.287659e-02   \n",
       "\n",
       "          overlap_fed_basis_ezg  centroid_distance_fed_merit_hydro  \\\n",
       "DEF10580           5.542194e-01                       14346.330182   \n",
       "DEF14070           9.179876e-01                       19987.707576   \n",
       "DEE10020           0.000000e+00                       43795.530678   \n",
       "DEE10080           0.000000e+00                        3556.710772   \n",
       "DEE10120           0.000000e+00                       13373.239145   \n",
       "DEE10370           0.000000e+00                       14934.243119   \n",
       "DEE10410           0.000000e+00                      215404.995425   \n",
       "DEE10470           0.000000e+00                        4533.169993   \n",
       "DEE10740           0.000000e+00                       12943.914571   \n",
       "DEB10050           9.849615e-01                       14173.931940   \n",
       "DEB10180           1.258544e-01                        6755.643116   \n",
       "DEB10250           1.305113e-01                       10377.882055   \n",
       "DEB10760           5.771912e-08                      166889.342154   \n",
       "DEA10070           9.999710e-01                        9312.588224   \n",
       "DEA10130           9.998736e-01                        2119.090093   \n",
       "DEA10510           8.635266e-02                        3994.431848   \n",
       "DEA10570           9.999692e-01                       81986.901225   \n",
       "DEA10770           9.999664e-01                       10752.510444   \n",
       "DEA10890           0.000000e+00                       13483.439089   \n",
       "DEA11070           0.000000e+00                        5327.310186   \n",
       "DEA11140           9.999729e-01                       88923.175209   \n",
       "DEA11220           9.999810e-01                      107533.150351   \n",
       "DEA11320           8.222369e-01                       82962.280466   \n",
       "DEA11370           9.998973e-01                       43046.272792   \n",
       "DEA11380           9.999149e-01                        4005.884481   \n",
       "DEA11390           3.892297e-01                       10600.260801   \n",
       "DEA11400           9.999375e-01                        1304.816265   \n",
       "DEA11510           8.225266e-01                       63624.259501   \n",
       "DEA11620           9.998053e-01                        4547.455955   \n",
       "DEA11890           9.851612e-01                        5598.331768   \n",
       "DEA12090           9.787500e-01                        4171.772775   \n",
       "DEA12160           7.889597e-01                       10175.410163   \n",
       "DE910040           1.312458e-07                       17185.909365   \n",
       "DE910450           6.753878e-01                        4282.771346   \n",
       "DE910490           9.341776e-08                       82053.635986   \n",
       "DE910590           9.159901e-01                        7668.817974   \n",
       "DE911300           6.763518e-01                        7020.081037   \n",
       "DE911670           9.785182e-01                        7025.211121   \n",
       "DE911720           6.516271e-01                        3608.999194   \n",
       "DE912070           1.696038e-01                       12408.419408   \n",
       "DE912080           6.851592e-03                        8593.817519   \n",
       "DE912260           2.187957e-06                       21776.536012   \n",
       "DE912590           9.699686e-01                       18169.544932   \n",
       "DE912680           2.571519e-08                       14169.486530   \n",
       "DE912690           2.289743e-07                       16351.453731   \n",
       "DE912710           9.192197e-01                        3470.240325   \n",
       "DE912780           9.902345e-01                       15530.889050   \n",
       "DE912930                    NaN                        5710.305850   \n",
       "DE710140           9.999990e-01                        8081.994236   \n",
       "DE710480           9.736960e-01                       20258.799420   \n",
       "DE710960           8.009339e-01                       67652.870513   \n",
       "DE110110           3.774802e-03                        8523.697109   \n",
       "DE110590           5.194556e-01                       28057.654263   \n",
       "DE110630           9.843977e-01                        2415.637631   \n",
       "DE110890           0.000000e+00                      164693.134491   \n",
       "DE111930           4.701859e-04                       25644.869478   \n",
       "DE112270           5.590340e-01                       74500.051580   \n",
       "\n",
       "          centroid_distance_fed_hydrosheds  centroid_distance_fed_basis_ezg  \\\n",
       "DEF10580                       6793.483150                       540.344638   \n",
       "DEF14070                      17792.124399                       151.473270   \n",
       "DEE10020                      51826.206245                    199454.511296   \n",
       "DEE10080                      33292.457946                     47229.098005   \n",
       "DEE10120                       5071.744990                     36895.729757   \n",
       "DEE10370                     227822.361401                    111270.342611   \n",
       "DEE10410                       3598.861090                     91247.066895   \n",
       "DEE10470                       3214.306189                    139957.495802   \n",
       "DEE10740                      16515.575107                    127504.616995   \n",
       "DEB10050                      10751.793864                        11.566375   \n",
       "DEB10180                       6610.405748                       886.870312   \n",
       "DEB10250                       7623.109554                      3915.715145   \n",
       "DEB10760                     166753.091064                      3747.790207   \n",
       "DEA10070                       1941.196807                         0.002521   \n",
       "DEA10130                       6656.218539                         0.005614   \n",
       "DEA10510                      20482.607334                       939.038094   \n",
       "DEA10570                      78357.424909                         0.002498   \n",
       "DEA10770                       9554.503925                         0.000338   \n",
       "DEA10890                      12579.402079                    131460.127745   \n",
       "DEA11070                       2294.746598                     84907.354381   \n",
       "DEA11140                      86557.337154                         0.002354   \n",
       "DEA11220                     103608.016245                         0.002371   \n",
       "DEA11320                      79700.330952                       297.236344   \n",
       "DEA11370                      40192.451747                         0.180588   \n",
       "DEA11380                       5227.486838                         0.005128   \n",
       "DEA11390                       8532.712939                      1034.967137   \n",
       "DEA11400                      10364.565459                         0.001837   \n",
       "DEA11510                      62112.167238                       461.399411   \n",
       "DEA11620                       3550.165369                         0.010532   \n",
       "DEA11890                       3059.470700                       103.187510   \n",
       "DEA12090                       3107.144033                        41.941787   \n",
       "DEA12160                     252289.758079                      2008.272259   \n",
       "DE910040                       8214.250729                     23551.594244   \n",
       "DE910450                      76658.833917                      1182.851616   \n",
       "DE910490                      84776.641678                      6276.657307   \n",
       "DE910590                      20824.924010                       774.267772   \n",
       "DE911300                       4351.949754                       838.192439   \n",
       "DE911670                       1412.504105                       166.801323   \n",
       "DE911720                       2644.547269                      1930.216849   \n",
       "DE912070                       6337.773424                      9470.244197   \n",
       "DE912080                       5133.471728                      2030.633927   \n",
       "DE912260                       1060.892209                     14941.194883   \n",
       "DE912590                      18196.032406                       104.757817   \n",
       "DE912680                      13902.070348                      5635.461337   \n",
       "DE912690                      13428.586733                      3161.825712   \n",
       "DE912710                       6904.847001                        59.591189   \n",
       "DE912780                       6770.918123                       240.406513   \n",
       "DE912930                       1833.632363                              NaN   \n",
       "DE710140                       1047.669414                         0.000370   \n",
       "DE710480                      19837.040647                        73.922050   \n",
       "DE710960                      66868.509733                       660.480959   \n",
       "DE110110                       6392.579526                       466.814815   \n",
       "DE110590                      30069.068733                     13850.268272   \n",
       "DE110630                       4673.928994                        16.303574   \n",
       "DE110890                     160825.243082                    165394.314761   \n",
       "DE111930                      23670.079518                       540.885846   \n",
       "DE112270                      69990.072774                     11179.858279   \n",
       "\n",
       "          area_difference_fed_merit_hydro  area_difference_fed_hydrosheds  \\\n",
       "DEF10580                     3.434835e+01                    9.930871e+00   \n",
       "DEF14070                     8.338790e+01                    9.270841e+01   \n",
       "DEE10020                     9.970760e-01                    9.625948e-01   \n",
       "DEE10080                     6.249742e+00                    3.275233e+02   \n",
       "DEE10120                     1.069275e+01                    1.938253e+01   \n",
       "DEE10370                     8.869107e+00                    5.927723e+02   \n",
       "DEE10410                     6.391490e+01                    4.499625e-02   \n",
       "DEE10470                     4.132329e+00                    9.374477e+00   \n",
       "DEE10740                     9.864783e-01                    1.729133e-01   \n",
       "DEB10050                     1.158070e+02                    1.453407e+02   \n",
       "DEB10180                     1.043173e+01                    1.066912e+01   \n",
       "DEB10250                     1.717546e+01                    2.217783e+01   \n",
       "DEB10760                     1.004931e+04                    1.006517e+04   \n",
       "DEA10070                     1.740660e+01                    3.339240e+01   \n",
       "DEA10130                     1.472376e+01                    4.651834e+02   \n",
       "DEA10510                     8.032731e+01                    6.062817e+03   \n",
       "DEA10570                     5.133524e+02                    5.330229e+02   \n",
       "DEA10770                     1.582104e+02                    1.827298e+02   \n",
       "DEA10890                     2.240385e+04                    2.342779e+04   \n",
       "DEA11070                     5.343255e-01                    1.842969e+00   \n",
       "DEA11140                     2.139072e+02                    2.188971e+02   \n",
       "DEA11220                     2.267650e+02                    2.260449e+02   \n",
       "DEA11320                     2.404329e+02                    2.485529e+02   \n",
       "DEA11370                     5.983843e+01                    6.493782e+01   \n",
       "DEA11380                     1.946210e+01                    1.457488e+02   \n",
       "DEA11390                     1.790743e+02                    2.249319e+02   \n",
       "DEA11400                     9.128709e-01                    1.075566e+02   \n",
       "DEA11510                     2.209115e+02                    2.257756e+02   \n",
       "DEA11620                     4.883104e+01                    4.438043e+02   \n",
       "DEA11890                     6.354440e-01                    1.137022e+00   \n",
       "DEA12090                     1.202501e+01                    1.362839e+01   \n",
       "DEA12160                     8.274634e-01                    1.382309e+03   \n",
       "DE910040                     8.383360e-01                    2.648193e-01   \n",
       "DE910450                     6.476413e-01                    4.184517e+02   \n",
       "DE910490                     4.701772e+02                    4.598328e+02   \n",
       "DE910590                     8.457061e-01                    5.267211e+01   \n",
       "DE911300                     1.177053e+01                    1.635342e+01   \n",
       "DE911670                     9.809182e-01                    1.302133e-01   \n",
       "DE911720                     9.569759e-01                    6.273511e-01   \n",
       "DE912070                     8.344232e-01                    7.558646e-01   \n",
       "DE912080                     2.416309e+03                    3.883327e+02   \n",
       "DE912260                     8.557258e-01                    1.148152e-02   \n",
       "DE912590                     7.911939e+01                    8.096067e+01   \n",
       "DE912680                     1.488753e+01                    1.606614e+01   \n",
       "DE912690                     3.238905e+01                    3.890260e+01   \n",
       "DE912710                     3.792152e-01                    2.884494e+01   \n",
       "DE912780                     1.753742e+01                    1.684026e+00   \n",
       "DE912930                     9.113396e-01                    2.891959e+00   \n",
       "DE710140                     9.653550e-01                    1.165236e-01   \n",
       "DE710480                     4.517639e+01                    4.653158e+01   \n",
       "DE710960                     3.836207e+02                    3.875913e+02   \n",
       "DE110110                     1.352179e+05                    2.774353e+05   \n",
       "DE110590                     9.979699e-01                    9.601111e-01   \n",
       "DE110630                     8.802184e-01                    1.191697e+01   \n",
       "DE110890                     6.197088e-01                    4.126668e+01   \n",
       "DE111930                     5.764495e+06                    6.066951e+06   \n",
       "DE112270                     9.397599e-01                    9.157254e-01   \n",
       "\n",
       "          area_difference_fed_basis_ezg  \\\n",
       "DEF10580                   8.043373e-01   \n",
       "DEF14070                   8.933551e-02   \n",
       "DEE10020                   9.549835e-01   \n",
       "DEE10080                   9.844412e+01   \n",
       "DEE10120                   4.528384e+01   \n",
       "DEE10370                   1.456964e-01   \n",
       "DEE10410                   9.614936e-01   \n",
       "DEE10470                   6.364368e-01   \n",
       "DEE10740                   1.070900e+01   \n",
       "DEB10050                   9.301292e-05   \n",
       "DEB10180                   8.741452e-01   \n",
       "DEB10250                   8.694884e-01   \n",
       "DEB10760                   9.949192e-01   \n",
       "DEA10070                   1.258642e-06   \n",
       "DEA10130                   2.292693e-05   \n",
       "DEA10510                   1.057948e+01   \n",
       "DEA10570                   1.731231e-06   \n",
       "DEA10770                   1.540850e-06   \n",
       "DEA10890                   3.924660e+03   \n",
       "DEA11070                   3.663666e+00   \n",
       "DEA11140                   7.212412e-07   \n",
       "DEA11220                   1.422557e-06   \n",
       "DEA11320                   1.777475e-01   \n",
       "DEA11370                   5.069030e-05   \n",
       "DEA11380                   2.367472e-06   \n",
       "DEA11390                   8.922741e-02   \n",
       "DEA11400                   1.138855e-06   \n",
       "DEA11510                   1.774586e-01   \n",
       "DEA11620                   8.031303e-06   \n",
       "DEA11890                   1.505038e-02   \n",
       "DEA12090                   2.168953e-02   \n",
       "DEA12160                   2.674814e-01   \n",
       "DE910040                   9.662659e-01   \n",
       "DE910450                   4.806296e-01   \n",
       "DE910490                   8.290231e-01   \n",
       "DE910590                   9.171198e-02   \n",
       "DE911300                   4.785182e-01   \n",
       "DE911670                   2.195276e-02   \n",
       "DE911720                   3.483722e-01   \n",
       "DE912070                   6.729410e-01   \n",
       "DE912080                   1.449515e+02   \n",
       "DE912260                   9.921668e-01   \n",
       "DE912590                   3.095944e-02   \n",
       "DE912680                   9.406480e-01   \n",
       "DE912690                   7.440210e-01   \n",
       "DE912710                   1.908231e-02   \n",
       "DE912780                   8.961595e-03   \n",
       "DE912930                            NaN   \n",
       "DE710140                   6.102500e-08   \n",
       "DE710480                   2.701265e-02   \n",
       "DE710960                   2.377088e-01   \n",
       "DE110110                   2.639146e+02   \n",
       "DE110590                   4.797659e-01   \n",
       "DE110630                   5.205124e-03   \n",
       "DE110890                   2.865148e+00   \n",
       "DE111930                   2.125818e+03   \n",
       "DE112270                   4.404948e-01   \n",
       "\n",
       "          area_difference_reported_fed_merit_hydro  \\\n",
       "DEF10580                                214.559833   \n",
       "DEF14070                                591.239737   \n",
       "DEE10020                                 14.552611   \n",
       "DEE10080                                 22.842351   \n",
       "DEE10120                                157.936029   \n",
       "DEE10370                               2077.941260   \n",
       "DEE10410                             124074.281079   \n",
       "DEE10470                                 69.213411   \n",
       "DEE10740                                  2.805672   \n",
       "DEB10050                                986.142399   \n",
       "DEB10180                                112.061590   \n",
       "DEB10250                                417.478558   \n",
       "DEB10760                             103635.727186   \n",
       "DEA10070                                156.462686   \n",
       "DEA10130                                  6.154713   \n",
       "DEA10510                                 12.909449   \n",
       "DEA10570                               4308.776811   \n",
       "DEA10770                                880.110616   \n",
       "DEA10890                               1010.486653   \n",
       "DEA11070                                 24.291752   \n",
       "DEA11140                               4372.043925   \n",
       "DEA11220                               4745.705608   \n",
       "DEA11320                               4327.996062   \n",
       "DEA11370                               1446.452970   \n",
       "DEA11380                                 19.692448   \n",
       "DEA11390                                631.603511   \n",
       "DEA11400                                  4.191565   \n",
       "DEA11510                               3943.129542   \n",
       "DEA11620                                 18.090681   \n",
       "DEA11890                                 25.178051   \n",
       "DEA12090                                156.853788   \n",
       "DEA12160                                 18.479137   \n",
       "DE910040                                 24.221943   \n",
       "DE910450                                  7.202589   \n",
       "DE910490                               9152.350714   \n",
       "DE910590                                  4.688244   \n",
       "DE911300                                103.304123   \n",
       "DE911670                                  2.850506   \n",
       "DE911720                                  3.463047   \n",
       "DE912070                                 70.412034   \n",
       "DE912080                                662.183247   \n",
       "DE912260                                187.931962   \n",
       "DE912590                               1027.032709   \n",
       "DE912680                                551.101855   \n",
       "DE912690                                615.882236   \n",
       "DE912710                                 12.594916   \n",
       "DE912780                               1752.169067   \n",
       "DE912930                                  2.806620   \n",
       "DE710140                                  3.398489   \n",
       "DE710480                                699.571594   \n",
       "DE710960                               5450.786920   \n",
       "DE110110                                109.884411   \n",
       "DE110590                                  7.792992   \n",
       "DE110630                                  2.851544   \n",
       "DE110890                                  5.931633   \n",
       "DE111930                               1825.748987   \n",
       "DE112270                                301.330035   \n",
       "\n",
       "          area_difference_reported_fed_hydrosheds  \\\n",
       "DEF10580                                66.348947   \n",
       "DEF14070                               656.541220   \n",
       "DEE10020                               186.164073   \n",
       "DEE10080                              1035.105026   \n",
       "DEE10120                               275.310526   \n",
       "DEE10370                            125018.806745   \n",
       "DEE10410                              1997.340567   \n",
       "DEE10470                               139.907803   \n",
       "DEE10740                               171.615340   \n",
       "DEB10050                              1235.480892   \n",
       "DEB10180                               114.388639   \n",
       "DEB10250                               532.379599   \n",
       "DEB10760                            103799.214671   \n",
       "DEA10070                               292.347711   \n",
       "DEA10130                               182.477023   \n",
       "DEA10510                               962.536933   \n",
       "DEA10570                              4473.558204   \n",
       "DEA10770                              1015.653241   \n",
       "DEA10890                              1056.667731   \n",
       "DEA11070                               148.302513   \n",
       "DEA11140                              4473.558204   \n",
       "DEA11220                              4730.700385   \n",
       "DEA11320                              4473.558204   \n",
       "DEA11370                              1567.692599   \n",
       "DEA11380                               141.229065   \n",
       "DEA11390                               792.447104   \n",
       "DEA11400                               237.873825   \n",
       "DEA11510                              4029.558358   \n",
       "DEA11620                               161.481925   \n",
       "DEA11890                               147.593336   \n",
       "DEA12090                               176.162581   \n",
       "DEA12160                            148156.206052   \n",
       "DE910040                               110.151340   \n",
       "DE910450                              8574.042123   \n",
       "DE910490                              8951.416213   \n",
       "DE910590                              1630.835878   \n",
       "DE911300                               140.376358   \n",
       "DE911670                               168.835573   \n",
       "DE911720                               130.986958   \n",
       "DE912070                               746.686700   \n",
       "DE912080                               106.651457   \n",
       "DE912260                              1317.558264   \n",
       "DE912590                              1050.635675   \n",
       "DE912680                               591.984799   \n",
       "DE912690                               736.028716   \n",
       "DE912710                               605.515045   \n",
       "DE912780                               253.695922   \n",
       "DE912930                               123.203308   \n",
       "DE710140                               109.524916   \n",
       "DE710480                               720.102713   \n",
       "DE710960                              5507.057755   \n",
       "DE110110                               225.456034   \n",
       "DE110590                               153.121211   \n",
       "DE110630                               307.503925   \n",
       "DE110890                               154.787331   \n",
       "DE111930                              1921.543601   \n",
       "DE112270                               421.554304   \n",
       "\n",
       "          area_difference_reported_fed_basis_ezg  \n",
       "DEF10580                               10.952089  \n",
       "DEF14070                                7.632118  \n",
       "DEE10020                              224.045342  \n",
       "DEE10080                              313.326664  \n",
       "DEE10120                              625.164181  \n",
       "DEE10370                              179.873698  \n",
       "DEE10410                               73.598802  \n",
       "DEE10470                               22.068609  \n",
       "DEE10740                             2429.544390  \n",
       "DEB10050                                8.443280  \n",
       "DEB10180                                1.233714  \n",
       "DEB10250                                2.997766  \n",
       "DEB10760                                0.052391  \n",
       "DEA10070                                8.500368  \n",
       "DEA10130                                0.391437  \n",
       "DEA10510                                1.838063  \n",
       "DEA10570                                8.377076  \n",
       "DEA10770                                5.527981  \n",
       "DEA10890                              177.052163  \n",
       "DEA11070                              243.278553  \n",
       "DEA11140                               20.343886  \n",
       "DEA11220                               20.835942  \n",
       "DEA11320                               14.739938  \n",
       "DEA11370                               23.776521  \n",
       "DEA11380                                0.962389  \n",
       "DEA11390                                3.820422  \n",
       "DEA11400                                2.191245  \n",
       "DEA11510                               14.615677  \n",
       "DEA11620                                0.363043  \n",
       "DEA11890                               70.104424  \n",
       "DEA12090                               12.303708  \n",
       "DEA12160                              135.750702  \n",
       "DE910040                                5.054344  \n",
       "DE910450                               30.265658  \n",
       "DE910490                                3.321130  \n",
       "DE910590                               33.171847  \n",
       "DE911300                               11.960120  \n",
       "DE911670                              152.663201  \n",
       "DE911720                               52.450108  \n",
       "DE912070                              139.082833  \n",
       "DE912080                               39.981076  \n",
       "DE912260                               10.203514  \n",
       "DE912590                               13.215640  \n",
       "DE912680                                2.058785  \n",
       "DE912690                                4.721695  \n",
       "DE912710                               20.675854  \n",
       "DE912780                               95.367719  \n",
       "DE912930                                     NaN  \n",
       "DE710140                               98.094580  \n",
       "DE710480                               15.559227  \n",
       "DE710960                               17.540624  \n",
       "DE110110                                0.215280  \n",
       "DE110590                             1997.018669  \n",
       "DE110630                               23.930111  \n",
       "DE110890                               14.154791  \n",
       "DE111930                                0.673612  \n",
       "DE112270                             2798.730957  "
      ]
     },
     "execution_count": 11,
     "metadata": {},
     "output_type": "execute_result"
    }
   ],
   "source": [
    "# find stations with overlap < 0.1\n",
    "df_results[df_results[\"overlap_fed_merit_hydro\"] < 0.1]"
   ]
  },
  {
   "cell_type": "code",
   "execution_count": 12,
   "metadata": {},
   "outputs": [
    {
     "data": {
      "text/html": [
       "<div>\n",
       "<style scoped>\n",
       "    .dataframe tbody tr th:only-of-type {\n",
       "        vertical-align: middle;\n",
       "    }\n",
       "\n",
       "    .dataframe tbody tr th {\n",
       "        vertical-align: top;\n",
       "    }\n",
       "\n",
       "    .dataframe thead th {\n",
       "        text-align: right;\n",
       "    }\n",
       "</style>\n",
       "<table border=\"1\" class=\"dataframe\">\n",
       "  <thead>\n",
       "    <tr style=\"text-align: right;\">\n",
       "      <th></th>\n",
       "      <th>overlap_fed_merit_hydro</th>\n",
       "      <th>overlap_fed_hydrosheds</th>\n",
       "      <th>overlap_fed_basis_ezg</th>\n",
       "      <th>centroid_distance_fed_merit_hydro</th>\n",
       "      <th>centroid_distance_fed_hydrosheds</th>\n",
       "      <th>centroid_distance_fed_basis_ezg</th>\n",
       "      <th>area_difference_fed_merit_hydro</th>\n",
       "      <th>area_difference_fed_hydrosheds</th>\n",
       "      <th>area_difference_fed_basis_ezg</th>\n",
       "      <th>area_difference_reported_fed_merit_hydro</th>\n",
       "      <th>area_difference_reported_fed_hydrosheds</th>\n",
       "      <th>area_difference_reported_fed_basis_ezg</th>\n",
       "    </tr>\n",
       "  </thead>\n",
       "  <tbody>\n",
       "    <tr>\n",
       "      <th>DEF10230</th>\n",
       "      <td>0.868923</td>\n",
       "      <td>0.297665</td>\n",
       "      <td>0.999631</td>\n",
       "      <td>255.173907</td>\n",
       "      <td>7923.869169</td>\n",
       "      <td>5.423618</td>\n",
       "      <td>0.048514</td>\n",
       "      <td>2.121373</td>\n",
       "      <td>0.000293</td>\n",
       "      <td>174.345417</td>\n",
       "      <td>519.017328</td>\n",
       "      <td>166.327276</td>\n",
       "    </tr>\n",
       "    <tr>\n",
       "      <th>DEF10240</th>\n",
       "      <td>0.892880</td>\n",
       "      <td>0.319983</td>\n",
       "      <td>0.999822</td>\n",
       "      <td>184.046826</td>\n",
       "      <td>8000.597082</td>\n",
       "      <td>3.582561</td>\n",
       "      <td>0.013970</td>\n",
       "      <td>1.948521</td>\n",
       "      <td>0.000177</td>\n",
       "      <td>178.485362</td>\n",
       "      <td>519.017328</td>\n",
       "      <td>176.057543</td>\n",
       "    </tr>\n",
       "    <tr>\n",
       "      <th>DEF10580</th>\n",
       "      <td>0.000580</td>\n",
       "      <td>0.084336</td>\n",
       "      <td>0.554219</td>\n",
       "      <td>14346.330182</td>\n",
       "      <td>6793.483150</td>\n",
       "      <td>540.344638</td>\n",
       "      <td>34.348352</td>\n",
       "      <td>9.930871</td>\n",
       "      <td>0.804337</td>\n",
       "      <td>214.559833</td>\n",
       "      <td>66.348947</td>\n",
       "      <td>10.952089</td>\n",
       "    </tr>\n",
       "    <tr>\n",
       "      <th>DEF10600</th>\n",
       "      <td>0.842996</td>\n",
       "      <td>0.387489</td>\n",
       "      <td>0.996977</td>\n",
       "      <td>489.144510</td>\n",
       "      <td>4233.097457</td>\n",
       "      <td>33.281897</td>\n",
       "      <td>0.033004</td>\n",
       "      <td>1.210570</td>\n",
       "      <td>0.003031</td>\n",
       "      <td>75.362240</td>\n",
       "      <td>161.270830</td>\n",
       "      <td>73.175522</td>\n",
       "    </tr>\n",
       "    <tr>\n",
       "      <th>DEF10670</th>\n",
       "      <td>0.855881</td>\n",
       "      <td>0.148588</td>\n",
       "      <td>0.987052</td>\n",
       "      <td>440.435464</td>\n",
       "      <td>5869.353737</td>\n",
       "      <td>161.253525</td>\n",
       "      <td>0.104257</td>\n",
       "      <td>5.456642</td>\n",
       "      <td>0.013117</td>\n",
       "      <td>88.919575</td>\n",
       "      <td>640.945147</td>\n",
       "      <td>100.571198</td>\n",
       "    </tr>\n",
       "    <tr>\n",
       "      <th>...</th>\n",
       "      <td>...</td>\n",
       "      <td>...</td>\n",
       "      <td>...</td>\n",
       "      <td>...</td>\n",
       "      <td>...</td>\n",
       "      <td>...</td>\n",
       "      <td>...</td>\n",
       "      <td>...</td>\n",
       "      <td>...</td>\n",
       "      <td>...</td>\n",
       "      <td>...</td>\n",
       "      <td>...</td>\n",
       "    </tr>\n",
       "    <tr>\n",
       "      <th>DE112450</th>\n",
       "      <td>0.876893</td>\n",
       "      <td>0.235952</td>\n",
       "      <td>0.834921</td>\n",
       "      <td>295.173366</td>\n",
       "      <td>3984.839765</td>\n",
       "      <td>742.401819</td>\n",
       "      <td>0.015567</td>\n",
       "      <td>2.981159</td>\n",
       "      <td>0.197717</td>\n",
       "      <td>39.485226</td>\n",
       "      <td>154.787331</td>\n",
       "      <td>46.567203</td>\n",
       "    </tr>\n",
       "    <tr>\n",
       "      <th>DE112460</th>\n",
       "      <td>0.561569</td>\n",
       "      <td>0.471507</td>\n",
       "      <td>0.951035</td>\n",
       "      <td>2888.735388</td>\n",
       "      <td>2965.977120</td>\n",
       "      <td>334.949877</td>\n",
       "      <td>0.765662</td>\n",
       "      <td>1.104273</td>\n",
       "      <td>0.051485</td>\n",
       "      <td>168.181215</td>\n",
       "      <td>200.434332</td>\n",
       "      <td>100.155085</td>\n",
       "    </tr>\n",
       "    <tr>\n",
       "      <th>DE112480</th>\n",
       "      <td>0.963862</td>\n",
       "      <td>0.807798</td>\n",
       "      <td>0.907852</td>\n",
       "      <td>52.327176</td>\n",
       "      <td>792.374233</td>\n",
       "      <td>852.150620</td>\n",
       "      <td>0.000320</td>\n",
       "      <td>0.206979</td>\n",
       "      <td>0.101285</td>\n",
       "      <td>101.151233</td>\n",
       "      <td>122.126469</td>\n",
       "      <td>111.432015</td>\n",
       "    </tr>\n",
       "    <tr>\n",
       "      <th>DE112490</th>\n",
       "      <td>0.843746</td>\n",
       "      <td>0.711506</td>\n",
       "      <td>0.914867</td>\n",
       "      <td>1126.825546</td>\n",
       "      <td>2920.093997</td>\n",
       "      <td>844.191620</td>\n",
       "      <td>0.117942</td>\n",
       "      <td>0.178990</td>\n",
       "      <td>0.050325</td>\n",
       "      <td>318.187411</td>\n",
       "      <td>425.300579</td>\n",
       "      <td>342.579051</td>\n",
       "    </tr>\n",
       "    <tr>\n",
       "      <th>DE112500</th>\n",
       "      <td>0.729209</td>\n",
       "      <td>0.427504</td>\n",
       "      <td>0.951094</td>\n",
       "      <td>1376.941062</td>\n",
       "      <td>5014.989104</td>\n",
       "      <td>326.793352</td>\n",
       "      <td>0.172055</td>\n",
       "      <td>1.020915</td>\n",
       "      <td>0.047855</td>\n",
       "      <td>85.511718</td>\n",
       "      <td>208.723900</td>\n",
       "      <td>108.224439</td>\n",
       "    </tr>\n",
       "  </tbody>\n",
       "</table>\n",
       "<p>1066 rows × 12 columns</p>\n",
       "</div>"
      ],
      "text/plain": [
       "          overlap_fed_merit_hydro  overlap_fed_hydrosheds  \\\n",
       "DEF10230                 0.868923                0.297665   \n",
       "DEF10240                 0.892880                0.319983   \n",
       "DEF10580                 0.000580                0.084336   \n",
       "DEF10600                 0.842996                0.387489   \n",
       "DEF10670                 0.855881                0.148588   \n",
       "...                           ...                     ...   \n",
       "DE112450                 0.876893                0.235952   \n",
       "DE112460                 0.561569                0.471507   \n",
       "DE112480                 0.963862                0.807798   \n",
       "DE112490                 0.843746                0.711506   \n",
       "DE112500                 0.729209                0.427504   \n",
       "\n",
       "          overlap_fed_basis_ezg  centroid_distance_fed_merit_hydro  \\\n",
       "DEF10230               0.999631                         255.173907   \n",
       "DEF10240               0.999822                         184.046826   \n",
       "DEF10580               0.554219                       14346.330182   \n",
       "DEF10600               0.996977                         489.144510   \n",
       "DEF10670               0.987052                         440.435464   \n",
       "...                         ...                                ...   \n",
       "DE112450               0.834921                         295.173366   \n",
       "DE112460               0.951035                        2888.735388   \n",
       "DE112480               0.907852                          52.327176   \n",
       "DE112490               0.914867                        1126.825546   \n",
       "DE112500               0.951094                        1376.941062   \n",
       "\n",
       "          centroid_distance_fed_hydrosheds  centroid_distance_fed_basis_ezg  \\\n",
       "DEF10230                       7923.869169                         5.423618   \n",
       "DEF10240                       8000.597082                         3.582561   \n",
       "DEF10580                       6793.483150                       540.344638   \n",
       "DEF10600                       4233.097457                        33.281897   \n",
       "DEF10670                       5869.353737                       161.253525   \n",
       "...                                    ...                              ...   \n",
       "DE112450                       3984.839765                       742.401819   \n",
       "DE112460                       2965.977120                       334.949877   \n",
       "DE112480                        792.374233                       852.150620   \n",
       "DE112490                       2920.093997                       844.191620   \n",
       "DE112500                       5014.989104                       326.793352   \n",
       "\n",
       "          area_difference_fed_merit_hydro  area_difference_fed_hydrosheds  \\\n",
       "DEF10230                         0.048514                        2.121373   \n",
       "DEF10240                         0.013970                        1.948521   \n",
       "DEF10580                        34.348352                        9.930871   \n",
       "DEF10600                         0.033004                        1.210570   \n",
       "DEF10670                         0.104257                        5.456642   \n",
       "...                                   ...                             ...   \n",
       "DE112450                         0.015567                        2.981159   \n",
       "DE112460                         0.765662                        1.104273   \n",
       "DE112480                         0.000320                        0.206979   \n",
       "DE112490                         0.117942                        0.178990   \n",
       "DE112500                         0.172055                        1.020915   \n",
       "\n",
       "          area_difference_fed_basis_ezg  \\\n",
       "DEF10230                       0.000293   \n",
       "DEF10240                       0.000177   \n",
       "DEF10580                       0.804337   \n",
       "DEF10600                       0.003031   \n",
       "DEF10670                       0.013117   \n",
       "...                                 ...   \n",
       "DE112450                       0.197717   \n",
       "DE112460                       0.051485   \n",
       "DE112480                       0.101285   \n",
       "DE112490                       0.050325   \n",
       "DE112500                       0.047855   \n",
       "\n",
       "          area_difference_reported_fed_merit_hydro  \\\n",
       "DEF10230                                174.345417   \n",
       "DEF10240                                178.485362   \n",
       "DEF10580                                214.559833   \n",
       "DEF10600                                 75.362240   \n",
       "DEF10670                                 88.919575   \n",
       "...                                            ...   \n",
       "DE112450                                 39.485226   \n",
       "DE112460                                168.181215   \n",
       "DE112480                                101.151233   \n",
       "DE112490                                318.187411   \n",
       "DE112500                                 85.511718   \n",
       "\n",
       "          area_difference_reported_fed_hydrosheds  \\\n",
       "DEF10230                               519.017328   \n",
       "DEF10240                               519.017328   \n",
       "DEF10580                                66.348947   \n",
       "DEF10600                               161.270830   \n",
       "DEF10670                               640.945147   \n",
       "...                                           ...   \n",
       "DE112450                               154.787331   \n",
       "DE112460                               200.434332   \n",
       "DE112480                               122.126469   \n",
       "DE112490                               425.300579   \n",
       "DE112500                               208.723900   \n",
       "\n",
       "          area_difference_reported_fed_basis_ezg  \n",
       "DEF10230                              166.327276  \n",
       "DEF10240                              176.057543  \n",
       "DEF10580                               10.952089  \n",
       "DEF10600                               73.175522  \n",
       "DEF10670                              100.571198  \n",
       "...                                          ...  \n",
       "DE112450                               46.567203  \n",
       "DE112460                              100.155085  \n",
       "DE112480                              111.432015  \n",
       "DE112490                              342.579051  \n",
       "DE112500                              108.224439  \n",
       "\n",
       "[1066 rows x 12 columns]"
      ]
     },
     "execution_count": 12,
     "metadata": {},
     "output_type": "execute_result"
    }
   ],
   "source": [
    "df_results[df_results[\"area_difference_reported_fed_merit_hydro\"] > 0.8]"
   ]
  },
  {
   "cell_type": "code",
   "execution_count": 13,
   "metadata": {},
   "outputs": [
    {
     "data": {
      "application/vnd.plotly.v1+json": {
       "config": {
        "plotlyServerURL": "https://plot.ly"
       },
       "data": [
        {
         "colorscale": [
          [
           0,
           "green"
          ],
          [
           1,
           "green"
          ]
         ],
         "geojson": {
          "bbox": [
           9.617206191033253,
           47.93495160902639,
           9.826515290263076,
           48.05680029837153
          ],
          "features": [
           {
            "bbox": [
             9.617206191033253,
             47.93495160902639,
             9.826515290263076,
             48.05680029837153
            ],
            "geometry": {
             "coordinates": [
              [
               [
                9.677025447209456,
                48.05502941486737
               ],
               [
                9.678906745614011,
                48.05374573163228
               ],
               [
                9.679718958888246,
                48.05303044113831
               ],
               [
                9.680844321421542,
                48.05139594812032
               ],
               [
                9.681870445947238,
                48.04986995501038
               ],
               [
                9.682057561757283,
                48.04931124443812
               ],
               [
                9.68212099078038,
                48.04751215666846
               ],
               [
                9.682448170744022,
                48.04664233615502
               ],
               [
                9.6827110512636,
                48.04623606487575
               ],
               [
                9.683499446700052,
                48.045507397835834
               ],
               [
                9.685022738318043,
                48.04481481895312
               ],
               [
                9.687658214776798,
                48.04432242337904
               ],
               [
                9.688940255384606,
                48.043910035936676
               ],
               [
                9.689890293918122,
                48.043243310722495
               ],
               [
                9.691025511998026,
                48.04213477968613
               ],
               [
                9.691544960136794,
                48.04186634541032
               ],
               [
                9.69327654134352,
                48.04123086145869
               ],
               [
                9.695233380448533,
                48.041641739778925
               ],
               [
                9.69571977605139,
                48.04190860378198
               ],
               [
                9.696447461708953,
                48.04266415332883
               ],
               [
                9.697989328713746,
                48.0456091863171
               ],
               [
                9.698789583848363,
                48.046269757443554
               ],
               [
                9.700375040875757,
                48.04721801185979
               ],
               [
                9.70090187238086,
                48.04749360083474
               ],
               [
                9.70261144127768,
                48.048202648011745
               ],
               [
                9.70320786175733,
                48.04840585250666
               ],
               [
                9.705082269191223,
                48.04889351208229
               ],
               [
                9.706812716637634,
                48.04939551671574
               ],
               [
                9.707718629264473,
                48.05016788490816
               ],
               [
                9.708062527858601,
                48.05054799299271
               ],
               [
                9.708386328085247,
                48.05141837253352
               ],
               [
                9.70870161889939,
                48.05313419726458
               ],
               [
                9.710943599241954,
                48.055458674415235
               ],
               [
                9.711440577371025,
                48.055747979121556
               ],
               [
                9.711997362670889,
                48.05599626130301
               ],
               [
                9.71260017229122,
                48.0561768933323
               ],
               [
                9.713255399512201,
                48.05626726148065
               ],
               [
                9.71443314714949,
                48.056309411547545
               ],
               [
                9.718241737636143,
                48.054289108116855
               ],
               [
                9.718846061048259,
                48.054096465699956
               ],
               [
                9.719481373901083,
                48.053962084187816
               ],
               [
                9.72013743011581,
                48.05387253694224
               ],
               [
                9.723260701156827,
                48.054428513307855
               ],
               [
                9.72606332593601,
                48.05435688228221
               ],
               [
                9.726726588098217,
                48.05430322608311
               ],
               [
                9.72788398505608,
                48.05409354754818
               ],
               [
                9.73132320231561,
                48.052560799871245
               ],
               [
                9.732016104620094,
                48.05247095030644
               ],
               [
                9.734665805291664,
                48.05273734136046
               ],
               [
                9.736003864963148,
                48.05273777449822
               ],
               [
                9.73666844209579,
                48.05277848474143
               ],
               [
                9.739205522903982,
                48.05313992510282
               ],
               [
                9.741102232662337,
                48.05374376928246
               ],
               [
                9.741652496417753,
                48.053996536120714
               ],
               [
                9.742471102495818,
                48.05448589624989
               ],
               [
                9.743119975320393,
                48.05459861899356
               ],
               [
                9.744345721083908,
                48.0542489326551
               ],
               [
                9.744817805023192,
                48.05396257762617
               ],
               [
                9.745484074140737,
                48.05318031604369
               ],
               [
                9.745828781216346,
                48.052908273225846
               ],
               [
                9.747014071577478,
                48.052315994901335
               ],
               [
                9.747452136013527,
                48.05199837260835
               ],
               [
                9.747714400126949,
                48.051582963327306
               ],
               [
                9.746985840101175,
                48.05082765526267
               ],
               [
                9.746681632564071,
                48.05042950875735
               ],
               [
                9.746614973507818,
                48.04999375433995
               ],
               [
                9.746783220426972,
                48.04956996416828
               ],
               [
                9.747464578258722,
                48.048379513051536
               ],
               [
                9.747725242666702,
                48.04726418671011
               ],
               [
                9.747368383660179,
                48.04611851730737
               ],
               [
                9.746402330716894,
                48.04479236104786
               ],
               [
                9.744785708951147,
                48.04336387765803
               ],
               [
                9.74389446000591,
                48.0424662867358
               ],
               [
                9.743249326988467,
                48.040650171143966
               ],
               [
                9.743813151667776,
                48.0391566884711
               ],
               [
                9.744797598737321,
                48.03869598646422
               ],
               [
                9.747157437041734,
                48.03871636243224
               ],
               [
                9.75041304697863,
                48.03933763226189
               ],
               [
                9.752929886778148,
                48.04014687708153
               ],
               [
                9.755871556554883,
                48.04112698163443
               ],
               [
                9.758071340985785,
                48.04163119609691
               ],
               [
                9.759565672022354,
                48.04207289706291
               ],
               [
                9.763651305062822,
                48.043280551196275
               ],
               [
                9.765426705498717,
                48.0438398328238
               ],
               [
                9.766534700549558,
                48.044403540029386
               ],
               [
                9.769097893495463,
                48.04585686446658
               ],
               [
                9.770998900942676,
                48.04629380607622
               ],
               [
                9.771644445326091,
                48.04641088694119
               ],
               [
                9.772958137690727,
                48.046586427616745
               ],
               [
                9.77361944401389,
                48.0466359396595
               ],
               [
                9.774289731676287,
                48.04661343889338
               ],
               [
                9.774959951258433,
                48.046586437893424
               ],
               [
                9.775612461116227,
                48.046496597558935
               ],
               [
                9.777558835757345,
                48.04615518126686
               ],
               [
                9.7815653806933,
                48.04590766372921
               ],
               [
                9.779963470730063,
                48.04464919398891
               ],
               [
                9.778991747367622,
                48.04350892446945
               ],
               [
                9.779255664520509,
                48.042546892539264
               ],
               [
                9.780555215113619,
                48.041684584209996
               ],
               [
                9.780743872689186,
                48.04101642934203
               ],
               [
                9.780451390007535,
                48.04008488318554
               ],
               [
                9.779443537729483,
                48.039184900451765
               ],
               [
                9.780019581690768,
                48.03782071425236
               ],
               [
                9.781604220608639,
                48.037409824667876
               ],
               [
                9.783710185899636,
                48.03728881997011
               ],
               [
                9.784142720924532,
                48.036965788102926
               ],
               [
                9.784572821818704,
                48.03648277619868
               ],
               [
                9.784697036554702,
                48.03552958372772
               ],
               [
                9.786103024103717,
                48.03249805648301
               ],
               [
                9.786678414430641,
                48.03110721852382
               ],
               [
                9.789948810879737,
                48.02913767506852
               ],
               [
                9.791093744822234,
                48.02859630012327
               ],
               [
                9.792628924011547,
                48.027572145588465
               ],
               [
                9.79436189942718,
                48.02649336093385
               ],
               [
                9.79527179900741,
                48.02619360737128
               ],
               [
                9.797329087843218,
                48.02551256804987
               ],
               [
                9.799953883590536,
                48.0257496474474
               ],
               [
                9.802022248826129,
                48.02620151806566
               ],
               [
                9.80390459646519,
                48.02648034034278
               ],
               [
                9.806166689889247,
                48.02619774491472
               ],
               [
                9.808469273006997,
                48.02596815259717
               ],
               [
                9.81052924275009,
                48.026213557799394
               ],
               [
                9.812557760347172,
                48.02797987046587
               ],
               [
                9.815704139293334,
                48.03089399488129
               ],
               [
                9.816760255299597,
                48.02949001063106
               ],
               [
                9.817961657263352,
                48.02877649870812
               ],
               [
                9.8197549550591,
                48.028004525455536
               ],
               [
                9.822089385237286,
                48.027373262945844
               ],
               [
                9.825184833009935,
                48.02715224137449
               ],
               [
                9.826515290263076,
                48.026094267259474
               ],
               [
                9.826498820217662,
                48.025064044692336
               ],
               [
                9.825775489945507,
                48.023641232157914
               ],
               [
                9.825002063646268,
                48.02245376184643
               ],
               [
                9.823099149868229,
                48.021400914442076
               ],
               [
                9.822008564711547,
                48.02059529341784
               ],
               [
                9.821855185580134,
                48.019421440392954
               ],
               [
                9.821910153677408,
                48.01779419573633
               ],
               [
                9.820555906736672,
                48.01682494554671
               ],
               [
                9.820134772539095,
                48.01647270728749
               ],
               [
                9.8196440616773,
                48.01617042197156
               ],
               [
                9.817343992270494,
                48.01503562047714
               ],
               [
                9.816570730856123,
                48.01445194553216
               ],
               [
                9.816115097667467,
                48.013609866779326
               ],
               [
                9.815926829714245,
                48.01272083562779
               ],
               [
                9.815910338649015,
                48.01256624647892
               ],
               [
                9.815639760333632,
                48.01002929019848
               ],
               [
                9.81550216172801,
                48.00958957212101
               ],
               [
                9.81459930616217,
                48.00928119618078
               ],
               [
                9.813434551256202,
                48.010215801597695
               ],
               [
                9.812384445123477,
                48.01077183678007
               ],
               [
                9.811211865336709,
                48.011211810909565
               ],
               [
                9.81059464793748,
                48.01138254451614
               ],
               [
                9.809208898725052,
                48.01169360168761
               ],
               [
                9.807858392648807,
                48.01190096230526
               ],
               [
                9.805349068434504,
                48.01193206024238
               ],
               [
                9.80338120442454,
                48.011658038979064
               ],
               [
                9.802801354433916,
                48.011432753605085
               ],
               [
                9.801883127371198,
                48.01077813691734
               ],
               [
                9.80136661495512,
                48.010529918282046
               ],
               [
                9.800699808515006,
                48.010530067379186
               ],
               [
                9.799367168584597,
                48.01059321743796
               ],
               [
                9.798694034953444,
                48.01040012392356
               ],
               [
                9.795974424459672,
                48.00916438391379
               ],
               [
                9.794648513484296,
                48.00880032183028
               ],
               [
                9.793468217744284,
                48.008525184731184
               ],
               [
                9.792865478362431,
                48.008331479851456
               ],
               [
                9.790019434391754,
                48.00714593114729
               ],
               [
                9.789509294401538,
                48.006870634376
               ],
               [
                9.789184652570986,
                48.00645466273075
               ],
               [
                9.789027589453877,
                48.00604194272022
               ],
               [
                9.78894695794277,
                48.00559740127095
               ],
               [
                9.788741964662727,
                48.00335040361233
               ],
               [
                9.788577939711518,
                48.002919832764114
               ],
               [
                9.788085951912116,
                48.00207331157384
               ],
               [
                9.78793204640659,
                48.001647163842215
               ],
               [
                9.788633244211832,
                48.00126462185043
               ],
               [
                9.789699987000459,
                48.00092453968584
               ],
               [
                9.79108716279176,
                48.0002809446812
               ],
               [
                9.793331127126592,
                47.99893891493307
               ],
               [
                9.794686955335935,
                47.998650747518205
               ],
               [
                9.79612606021085,
                47.99855984434874
               ],
               [
                9.797276741528517,
                47.998439529373655
               ],
               [
                9.798210604484913,
                47.9977449458191
               ],
               [
                9.798860611830671,
                47.997101962340565
               ],
               [
                9.800246265449012,
                47.99615689752114
               ],
               [
                9.802207898745351,
                47.995203373865515
               ],
               [
                9.80265274634466,
                47.99472810459212
               ],
               [
                9.802308743422389,
                47.99393006660311
               ],
               [
                9.801215531608065,
                47.99233681248562
               ],
               [
                9.800374512632272,
                47.99123645406995
               ],
               [
                9.801390729415838,
                47.99045591424422
               ],
               [
                9.803796084877376,
                47.988973050921786
               ],
               [
                9.804855324208157,
                47.98816528790971
               ],
               [
                9.805545816691053,
                47.98755337659164
               ],
               [
                9.80635585618728,
                47.986661811940024
               ],
               [
                9.806711342336355,
                47.98583189836976
               ],
               [
                9.806077931150808,
                47.9847301190254
               ],
               [
                9.80548781824017,
                47.98382588863471
               ],
               [
                9.804566135077792,
                47.98291948406248
               ],
               [
                9.803399905117994,
                47.98201478583967
               ],
               [
                9.802398066359173,
                47.98110892411096
               ],
               [
                9.800728780612616,
                47.97949270630171
               ],
               [
                9.800428857275715,
                47.978721332676436
               ],
               [
                9.800377559651679,
                47.97800218956232
               ],
               [
                9.80089457138721,
                47.977004790509746
               ],
               [
                9.801501190103533,
                47.97617313564066
               ],
               [
                9.80201600111563,
                47.97503633504815
               ],
               [
                9.80228980483878,
                47.974121561030024
               ],
               [
                9.802439370750026,
                47.9734673651681
               ],
               [
                9.801790153650098,
                47.972734222954294
               ],
               [
                9.80238845592437,
                47.97246829157695
               ],
               [
                9.802579667308484,
                47.97108679156888
               ],
               [
                9.802148988493661,
                47.96959065263625
               ],
               [
                9.800881142095397,
                47.96780290411716
               ],
               [
                9.798875068702731,
                47.96613193983752
               ],
               [
                9.798287793998094,
                47.965389538345214
               ],
               [
                9.797580501028513,
                47.96467945380741
               ],
               [
                9.798756402584676,
                47.9636460873376
               ],
               [
                9.799403118987566,
                47.96303441751764
               ],
               [
                9.799928004517753,
                47.96233825708573
               ],
               [
                9.800488386310755,
                47.96134054612312
               ],
               [
                9.800885156901185,
                47.960370948497996
               ],
               [
                9.80120725857387,
                47.958417875667855
               ],
               [
                9.801362573391337,
                47.9574649518347
               ],
               [
                9.801725663724824,
                47.95711975507546
               ],
               [
                9.802890151020229,
                47.95690335710333
               ],
               [
                9.803910421570308,
                47.956428550143286
               ],
               [
                9.804480924806292,
                47.95609188152999
               ],
               [
                9.805215770446203,
                47.95577635393997
               ],
               [
                9.80686925392273,
                47.95555790142283
               ],
               [
                9.807127450167267,
                47.954512805444644
               ],
               [
                9.807498826436262,
                47.953858152032794
               ],
               [
                9.807819221908124,
                47.95315439232816
               ],
               [
                9.807964351035068,
                47.951084802114686
               ],
               [
                9.807872090752031,
                47.949889283024035
               ],
               [
                9.807676599229818,
                47.94893282190333
               ],
               [
                9.807182035446594,
                47.94813135754803
               ],
               [
                9.806052187982445,
                47.94757268298863
               ],
               [
                9.805250506596977,
                47.946809334114484
               ],
               [
                9.803940502864542,
                47.946067529161965
               ],
               [
                9.802314607173637,
                47.944590432385596
               ],
               [
                9.801951988832588,
                47.94408031232252
               ],
               [
                9.802038878540001,
                47.94320731738619
               ],
               [
                9.801567750958789,
                47.94238767393065
               ],
               [
                9.800872850131999,
                47.94181241495318
               ],
               [
                9.799820242869766,
                47.941257640624364
               ],
               [
                9.79831527498592,
                47.941097232175544
               ],
               [
                9.797114530185608,
                47.940916697263575
               ],
               [
                9.795710898988368,
                47.940598152879645
               ],
               [
                9.794821158285895,
                47.9406223033566
               ],
               [
                9.794048233853722,
                47.94040730084842
               ],
               [
                9.793901020376564,
                47.93997211655305
               ],
               [
                9.793519838547356,
                47.93911584712034
               ],
               [
                9.793136185623233,
                47.93875425033031
               ],
               [
                9.792752634913098,
                47.93861749420769
               ],
               [
                9.791754461083494,
                47.9381117311414
               ],
               [
                9.791390498704542,
                47.93772300982682
               ],
               [
                9.789651379748832,
                47.93711890680074
               ],
               [
                9.788835976233614,
                47.93674676688363
               ],
               [
                9.788220918156046,
                47.936566616180286
               ],
               [
                9.787076296467932,
                47.93610678548326
               ],
               [
                9.786010763471008,
                47.935565462712226
               ],
               [
                9.785348983831355,
                47.93495160902639
               ],
               [
                9.784160230177106,
                47.93502100392995
               ],
               [
                9.78316713500209,
                47.93538471766528
               ],
               [
                9.782813308103387,
                47.935872570105076
               ],
               [
                9.782539767457676,
                47.93636863995676
               ],
               [
                9.781191553020854,
                47.93681879423115
               ],
               [
                9.780796386451884,
                47.93738544778351
               ],
               [
                9.780204738415616,
                47.93760363259624
               ],
               [
                9.779394515500725,
                47.93812312737669
               ],
               [
                9.778867451942842,
                47.93839797562306
               ],
               [
                9.779100183517372,
                47.93903889252661
               ],
               [
                9.7788275231324,
                47.939276322070214
               ],
               [
                9.77870487015504,
                47.93959840011281
               ],
               [
                9.778505709169869,
                47.93977822045856
               ],
               [
                9.77786826372355,
                47.93987130668797
               ],
               [
                9.777079500492446,
                47.940316148366115
               ],
               [
                9.777257990415547,
                47.94071251204355
               ],
               [
                9.777359956563046,
                47.94130654513716
               ],
               [
                9.77701515871616,
                47.94169437374823
               ],
               [
                9.776159565166626,
                47.94202854312881
               ],
               [
                9.776251879346306,
                47.94235168218132
               ],
               [
                9.77630900311886,
                47.942784246603935
               ],
               [
                9.77594357971068,
                47.94321716574922
               ],
               [
                9.774727169935742,
                47.94358019463942
               ],
               [
                9.774246995602656,
                47.94415453683069
               ],
               [
                9.774324383885718,
                47.94506778286384
               ],
               [
                9.774534864067654,
                47.94585207813578
               ],
               [
                9.774405023137831,
                47.94663168322843
               ],
               [
                9.77392049234467,
                47.946904760706005
               ],
               [
                9.772975858368948,
                47.947297558208504
               ],
               [
                9.772241112221751,
                47.94748698578331
               ],
               [
                9.770952998859098,
                47.94749405238488
               ],
               [
                9.769727854385906,
                47.94744633263762
               ],
               [
                9.76888592065861,
                47.94724178299857
               ],
               [
                9.768354884346024,
                47.947801019664304
               ],
               [
                9.767726034672842,
                47.94814486481351
               ],
               [
                9.767354932037737,
                47.94849833617622
               ],
               [
                9.767054859722672,
                47.9485657784502
               ],
               [
                9.766520707966503,
                47.94927132491515
               ],
               [
                9.765821659392644,
                47.94930573223068
               ],
               [
                9.765363565628737,
                47.94946643273738
               ],
               [
                9.765052467265251,
                47.94989611598149
               ],
               [
                9.764789580659698,
                47.95017521153612
               ],
               [
                9.764626610140912,
                47.95053323652346
               ],
               [
                9.763803470215363,
                47.95037366731144
               ],
               [
                9.762696755198126,
                47.950266798648464
               ],
               [
                9.761898081104468,
                47.94991039978635
               ],
               [
                9.761391319915,
                47.94900613924808
               ],
               [
                9.76088512348913,
                47.94872160336691
               ],
               [
                9.758966045491103,
                47.94782981530307
               ],
               [
                9.757756531543789,
                47.94784139104296
               ],
               [
                9.75704139754276,
                47.94737970415456
               ],
               [
                9.756216418143373,
                47.94715669408653
               ],
               [
                9.755874307218237,
                47.94681752444437
               ],
               [
                9.755116009465187,
                47.94670459411028
               ],
               [
                9.754339490209674,
                47.946567708723045
               ],
               [
                9.754010346049036,
                47.946341426284846
               ],
               [
                9.753972509835949,
                47.946175103104906
               ],
               [
                9.754066896739369,
                47.94584610048729
               ],
               [
                9.754420805960498,
                47.94534049070108
               ],
               [
                9.754866537493726,
                47.9449704403361
               ],
               [
                9.755971084709474,
                47.94442010284591
               ],
               [
                9.756491964223084,
                47.944315542939634
               ],
               [
                9.756635178996259,
                47.94320808418071
               ],
               [
                9.757209510080873,
                47.94312696307497
               ],
               [
                9.757560772136989,
                47.94292833015736
               ],
               [
                9.757636627229056,
                47.94266607410168
               ],
               [
                9.757536243071163,
                47.94239414639266
               ],
               [
                9.757670391545012,
                47.94194721080845
               ],
               [
                9.758001373769407,
                47.941331090739475
               ],
               [
                9.758225697860063,
                47.940687117983295
               ],
               [
                9.757943541598214,
                47.94028206831339
               ],
               [
                9.75615396010205,
                47.938936159711886
               ],
               [
                9.754475139880068,
                47.93880381454277
               ],
               [
                9.753148303414356,
                47.938883907785645
               ],
               [
                9.751635063023636,
                47.93883195515766
               ],
               [
                9.75111147802868,
                47.94010245047948
               ],
               [
                9.750137602743708,
                47.9407878417081
               ],
               [
                9.74794770398945,
                47.94161605375745
               ],
               [
                9.746830047475905,
                47.94208200568655
               ],
               [
                9.74594160489091,
                47.94290620860838
               ],
               [
                9.745636242335648,
                47.94330391570085
               ],
               [
                9.745104090781783,
                47.94353221177935
               ],
               [
                9.744430498960707,
                47.94369846349403
               ],
               [
                9.743221117050417,
                47.94337352683436
               ],
               [
                9.742152028615134,
                47.942795844195196
               ],
               [
                9.741078199769515,
                47.94235308837897
               ],
               [
                9.739975301574505,
                47.941982459734014
               ],
               [
                9.738486394570971,
                47.94176269915028
               ],
               [
                9.736602110415298,
                47.941977154678014
               ],
               [
                9.734719148246578,
                47.94228600510776
               ],
               [
                9.733305886598767,
                47.94268176508429
               ],
               [
                9.732895865321465,
                47.943030638266265
               ],
               [
                9.732673984499352,
                47.94343227716864
               ],
               [
                9.73267894038749,
                47.94378300150089
               ],
               [
                9.73483204205633,
                47.947182375088296
               ],
               [
                9.734868405529882,
                47.947622835621544
               ],
               [
                9.73456936169043,
                47.948011478567864
               ],
               [
                9.734030805014797,
                47.948266745088446
               ],
               [
                9.73338930467626,
                47.9483427915076
               ],
               [
                9.732810431739754,
                47.948350981905485
               ],
               [
                9.73213434122324,
                47.94858472174265
               ],
               [
                9.730986211160936,
                47.94904612609708
               ],
               [
                9.729878717898945,
                47.94930499126159
               ],
               [
                9.728573770606724,
                47.94980343182422
               ],
               [
                9.728045457832247,
                47.950076592592794
               ],
               [
                9.724597847401217,
                47.95220741553714
               ],
               [
                9.72304931916964,
                47.953008618403246
               ],
               [
                9.721874272233253,
                47.95322286238938
               ],
               [
                9.721404463755855,
                47.95314486953064
               ],
               [
                9.720014298650977,
                47.95185849306219
               ],
               [
                9.719164547608855,
                47.95116230429687
               ],
               [
                9.718694938860219,
                47.95084605487345
               ],
               [
                9.716144947555843,
                47.94941839425813
               ],
               [
                9.71502657941902,
                47.94889472953351
               ],
               [
                9.714616942009386,
                47.94855551638378
               ],
               [
                9.713882093290504,
                47.94744486216673
               ],
               [
                9.713068317778447,
                47.946676454712566
               ],
               [
                9.711658903142842,
                47.946388400030656
               ],
               [
                9.71033840317394,
                47.94625716866629
               ],
               [
                9.70968685240397,
                47.94633314479966
               ],
               [
                9.709120803307746,
                47.94654349549808
               ],
               [
                9.708222908477666,
                47.94720557574027
               ],
               [
                9.707829598118286,
                47.94756774848744
               ],
               [
                9.707500294272668,
                47.94796100378511
               ],
               [
                9.707338799904369,
                47.94838920005874
               ],
               [
                9.706903852611337,
                47.95061782339956
               ],
               [
                9.706605709943508,
                47.95181582212674
               ],
               [
                9.706379100198514,
                47.95237932292776
               ],
               [
                9.706086691964124,
                47.95278134065037
               ],
               [
                9.70574048575313,
                47.95316570059984
               ],
               [
                9.705286442311987,
                47.95349675913569
               ],
               [
                9.704889594895882,
                47.95384994927296
               ],
               [
                9.70358118677617,
                47.955845579202254
               ],
               [
                9.702835734484427,
                47.9566685690478
               ],
               [
                9.700440351737477,
                47.95823910734135
               ],
               [
                9.700090539231928,
                47.95861007063039
               ],
               [
                9.69983504714457,
                47.959025247988734
               ],
               [
                9.699666761393406,
                47.95945347381596
               ],
               [
                9.699636012593203,
                47.95990334629248
               ],
               [
                9.699702272964004,
                47.96034813120713
               ],
               [
                9.69984880978021,
                47.960788019785134
               ],
               [
                9.701544667007164,
                47.962171613228946
               ],
               [
                9.70222133524446,
                47.96294543525629
               ],
               [
                9.702457976131411,
                47.96336219598012
               ],
               [
                9.702581111598949,
                47.96380213448504
               ],
               [
                9.702593842552487,
                47.964247244767584
               ],
               [
                9.702418746194391,
                47.964666522198684
               ],
               [
                9.702085154153993,
                47.96500132767581
               ],
               [
                9.70093992187344,
                47.96547599128265
               ],
               [
                9.698933675378758,
                47.96565909157861
               ],
               [
                9.69776149722572,
                47.966124893535664
               ],
               [
                9.696053672286922,
                47.96659392918914
               ],
               [
                9.695249147626134,
                47.966517856262634
               ],
               [
                9.694005023933562,
                47.966615313579155
               ],
               [
                9.693403790684643,
                47.96696969702012
               ],
               [
                9.693261787076382,
                47.96736627620339
               ],
               [
                9.693431542217443,
                47.96779245228304
               ],
               [
                9.693988246006036,
                47.96861201425743
               ],
               [
                9.694350236622505,
                47.96940127220653
               ],
               [
                9.694549785945394,
                47.9702904413813
               ],
               [
                9.694499193201597,
                47.97126206524347
               ],
               [
                9.694404724726825,
                47.97170782352208
               ],
               [
                9.694453548305095,
                47.972602400041666
               ],
               [
                9.694362421926357,
                47.97304813798073
               ],
               [
                9.694022441870997,
                47.97391367461107
               ],
               [
                9.693504512417304,
                47.974744130406954
               ],
               [
                9.693513700421468,
                47.97518026840389
               ],
               [
                9.69362680466769,
                47.97562477289138
               ],
               [
                9.694063126923481,
                47.97595040782905
               ],
               [
                9.6950084853016,
                47.976529283567785
               ],
               [
                9.696138591774446,
                47.97690017798306
               ],
               [
                9.69760685440885,
                47.97701718613029
               ],
               [
                9.698073075646263,
                47.97682548786981
               ],
               [
                9.69863234304261,
                47.97608460767998
               ],
               [
                9.700067007051342,
                47.97520357954374
               ],
               [
                9.701471732045125,
                47.974835176963666
               ],
               [
                9.70269569940925,
                47.97447253834352
               ],
               [
                9.703143366589407,
                47.974150432689655
               ],
               [
                9.70395046322393,
                47.973430495817524
               ],
               [
                9.704435261179475,
                47.973121739778726
               ],
               [
                9.7049881043559,
                47.97290250111415
               ],
               [
                9.705646569910025,
                47.97281751655615
               ],
               [
                9.706283926665002,
                47.97290353800948
               ],
               [
                9.70678791503318,
                47.97303084786249
               ],
               [
                9.707176043736462,
                47.97398179083518
               ],
               [
                9.70730915921254,
                47.97442166218958
               ],
               [
                9.707501876297457,
                47.97529295275285
               ],
               [
                9.70759811203564,
                47.976209626441204
               ],
               [
                9.707697946246315,
                47.97665419895396
               ],
               [
                9.708181313371385,
                47.97796429870933
               ],
               [
                9.70881095285094,
                47.98017286185502
               ],
               [
                9.70900425731588,
                47.980594372245235
               ],
               [
                9.709311170453226,
                47.98099719379727
               ],
               [
                9.709724442713119,
                47.98134089884089
               ],
               [
                9.711065815451047,
                47.98220490369095
               ],
               [
                9.712173453049077,
                47.98287266072704
               ],
               [
                9.71300366752315,
                47.98357801321552
               ],
               [
                9.71303943209417,
                47.98447275119703
               ],
               [
                9.71281412023635,
                47.98489226512239
               ],
               [
                9.712292171746224,
                47.98565996320539
               ],
               [
                9.712382894352503,
                47.98615854953074
               ],
               [
                9.712792734162065,
                47.986987922707364
               ],
               [
                9.713850568485892,
                47.98816402429283
               ],
               [
                9.714154153694556,
                47.98856235638921
               ],
               [
                9.715942786870562,
                47.99147416897556
               ],
               [
                9.716333137484188,
                47.99233063135363
               ],
               [
                9.716713577593275,
                47.993196147767726
               ],
               [
                9.716773144947364,
                47.993627471934325
               ],
               [
                9.716322337889647,
                47.99493885968506
               ],
               [
                9.71618734226149,
                47.995834569729496
               ],
               [
                9.716253732103377,
                47.99627484510903
               ],
               [
                9.716703634403911,
                47.997558133002585
               ],
               [
                9.717993636835867,
                47.99854388029914
               ],
               [
                9.718345897202882,
                47.99906331101374
               ],
               [
                9.718767783713734,
                47.99977117054407
               ],
               [
                9.718757217817746,
                48.000216421417484
               ],
               [
                9.718810861064862,
                48.00070174205299
               ],
               [
                9.718593017891747,
                48.000936938635654
               ],
               [
                9.718011763227686,
                48.00105748840493
               ],
               [
                9.717147376520257,
                48.00130571299838
               ],
               [
                9.716549623403282,
                48.001435349733654
               ],
               [
                9.71581284995442,
                48.00193908925367
               ],
               [
                9.715283323711907,
                48.00240996452042
               ],
               [
                9.714657199420126,
                48.00292208934604
               ],
               [
                9.714051596080028,
                48.003465470896835
               ],
               [
                9.713202109839955,
                48.00381699981947
               ],
               [
                9.712817401033357,
                48.004345513450104
               ],
               [
                9.712912310040531,
                48.00491152318514
               ],
               [
                9.713270951677876,
                48.005651272102654
               ],
               [
                9.713883724037302,
                48.00611063937367
               ],
               [
                9.714236802960823,
                48.006688532287946
               ],
               [
                9.714394207648766,
                48.00716871499618
               ],
               [
                9.71492281550025,
                48.007597122026795
               ],
               [
                9.715034934873694,
                48.007951672578834
               ],
               [
                9.714898695196634,
                48.00827629036174
               ],
               [
                9.714607591637298,
                48.00854790919593
               ],
               [
                9.714362635277904,
                48.00877427238125
               ],
               [
                9.713855611640065,
                48.00893930764937
               ],
               [
                9.713467657607891,
                48.008982097752174
               ],
               [
                9.712970867406979,
                48.00916064603541
               ],
               [
                9.712452297974968,
                48.009217823301036
               ],
               [
                9.712074258965943,
                48.00926063725914
               ],
               [
                9.71162747580295,
                48.00917796496411
               ],
               [
                9.71109898030824,
                48.00924419119225
               ],
               [
                9.710700266949694,
                48.00948948493005
               ],
               [
                9.710358630822634,
                48.009743418147785
               ],
               [
                9.710101431810914,
                48.010046293600034
               ],
               [
                9.710071568822476,
                48.01031178977654
               ],
               [
                9.710012044816153,
                48.01061344362541
               ],
               [
                9.709798519651022,
                48.01092504217328
               ],
               [
                9.709352981043015,
                48.01142235150521
               ],
               [
                9.70891222714004,
                48.01178040858859
               ],
               [
                9.708634598043583,
                48.01206092261982
               ],
               [
                9.708692951313145,
                48.012406816947184
               ],
               [
                9.70882670634117,
                48.012630832478784
               ],
               [
                9.709025172642747,
                48.012930894382684
               ],
               [
                9.709149863644974,
                48.01322682430102
               ],
               [
                9.708838660900131,
                48.013503139111194
               ],
               [
                9.708649434363894,
                48.01387754078673
               ],
               [
                9.708186763718972,
                48.01410523268459
               ],
               [
                9.70766770858936,
                48.01413091364886
               ],
               [
                9.707233097528464,
                48.01420553756079
               ],
               [
                9.706846072735848,
                48.014329421523726
               ],
               [
                9.70662772034627,
                48.01429020340584
               ],
               [
                9.70643067391117,
                48.01409346519867
               ],
               [
                9.706147299534916,
                48.01396488917521
               ],
               [
                9.705888139569996,
                48.01387204816083
               ],
               [
                9.7055743379317,
                48.01395941421264
               ],
               [
                9.705414016230044,
                48.01424369698511
               ],
               [
                9.705082620294583,
                48.0145155386672
               ],
               [
                9.704585746588018,
                48.01469396098962
               ],
               [
                9.703779510793144,
                48.01504065757256
               ],
               [
                9.702772295769867,
                48.01588772272511
               ],
               [
                9.702029958369712,
                48.01699397597762
               ],
               [
                9.701261990714116,
                48.0172010201234
               ],
               [
                9.70044417897387,
                48.017439840503734
               ],
               [
                9.699913142896447,
                48.017573482673335
               ],
               [
                9.699026293764138,
                48.01766431883895
               ],
               [
                9.69808185533502,
                48.017957854030755
               ],
               [
                9.697318861628766,
                48.018038931108954
               ],
               [
                9.696807451169102,
                48.01788913911461
               ],
               [
                9.69629727572306,
                48.0175819536685
               ],
               [
                9.695600360786777,
                48.01734334604733
               ],
               [
                9.694918640802191,
                48.01748687054159
               ],
               [
                9.694338141794022,
                48.017432009742
               ],
               [
                9.693760388123149,
                48.01733189243867
               ],
               [
                9.693470579953285,
                48.017212317648415
               ],
               [
                9.693382104090341,
                48.01686210079693
               ],
               [
                9.693297100901198,
                48.01652085651635
               ],
               [
                9.692636892970162,
                48.016268519047976
               ],
               [
                9.692112410831713,
                48.01614127108687
               ],
               [
                9.69151278532134,
                48.01615837054372
               ],
               [
                9.69122743490808,
                48.01637143667861
               ],
               [
                9.691090510971499,
                48.016627948184016
               ],
               [
                9.691044351543443,
                48.01671429458639
               ],
               [
                9.69114365603593,
                48.01711391296413
               ],
               [
                9.691307615742199,
                48.017355754296695
               ],
               [
                9.691357955402568,
                48.01761176925844
               ],
               [
                9.691233503545693,
                48.01782836425984
               ],
               [
                9.69104018190399,
                48.01815779323942
               ],
               [
                9.690827232220753,
                48.01852331425877
               ],
               [
                9.69065800929201,
                48.01891105613079
               ],
               [
                9.690686331233195,
                48.01927512684119
               ],
               [
                9.690784560170773,
                48.01959380940332
               ],
               [
                9.69119324269588,
                48.02008150380988
               ],
               [
                9.691451703879808,
                48.02111421328134
               ],
               [
                9.690959752943925,
                48.02141845721204
               ],
               [
                9.690361552541631,
                48.02155695565236
               ],
               [
                9.687015307045947,
                48.02168942505911
               ],
               [
                9.683844261696974,
                48.02240983540006
               ],
               [
                9.681901613462385,
                48.022758636519995
               ],
               [
                9.680576286378692,
                48.02289240175924
               ],
               [
                9.679244613722824,
                48.02281933648638
               ],
               [
                9.677904209713972,
                48.02283624323273
               ],
               [
                9.677265345474597,
                48.022934442059814
               ],
               [
                9.676661227809593,
                48.023126865545166
               ],
               [
                9.67601924137093,
                48.023243063007236
               ],
               [
                9.675356556555265,
                48.02331440832073
               ],
               [
                9.674037835619462,
                48.0231962408012
               ],
               [
                9.673415787877996,
                48.023042498911636
               ],
               [
                9.672819718055822,
                48.0228346400139
               ],
               [
                9.670780505714527,
                48.02166839491117
               ],
               [
                9.669196657114222,
                48.02102109635173
               ],
               [
                9.667811158236397,
                48.02064683624724
               ],
               [
                9.666574157529936,
                48.020361814398974
               ],
               [
                9.665560491615068,
                48.02050259226122
               ],
               [
                9.665060591873981,
                48.020721333412695
               ],
               [
                9.663862596178596,
                48.02112398012063
               ],
               [
                9.663226038802753,
                48.0211411468239
               ],
               [
                9.662427412940893,
                48.021064811745376
               ],
               [
                9.661848875388577,
                48.02090176431143
               ],
               [
                9.661072029412706,
                48.02095570152485
               ],
               [
                9.660450715660756,
                48.021116662712586
               ],
               [
                9.66005490584331,
                48.021352770835996
               ],
               [
                9.65955294227685,
                48.021674923990545
               ],
               [
                9.658657440695736,
                48.022413041474145
               ],
               [
                9.658212977137772,
                48.02251451815606
               ],
               [
                9.657376329414582,
                48.02234842981963
               ],
               [
                9.656994547706953,
                48.022107786481435
               ],
               [
                9.656026662704027,
                48.02164564999308
               ],
               [
                9.655539827184468,
                48.021302175221855
               ],
               [
                9.655114552919535,
                48.02106627054492
               ],
               [
                9.653996915978045,
                48.02119405132389
               ],
               [
                9.653643198922447,
                48.02106116023435
               ],
               [
                9.653102347006133,
                48.020960809543496
               ],
               [
                9.652424718645552,
                48.02091069785632
               ],
               [
                9.651954652263239,
                48.02057610624126
               ],
               [
                9.651241749406053,
                48.01932104547394
               ],
               [
                9.650939596766989,
                48.01901256801195
               ],
               [
                9.65015389029629,
                48.01836039447916
               ],
               [
                9.649021619381474,
                48.017863154451234
               ],
               [
                9.648535803170441,
                48.017605083291606
               ],
               [
                9.648074884895786,
                48.017194067860856
               ],
               [
                9.64747543042367,
                48.01642390825989
               ],
               [
                9.646461949646252,
                48.0157731715783
               ],
               [
                9.645967518359448,
                48.015348666787524
               ],
               [
                9.645044274891108,
                48.01414871064071
               ],
               [
                9.644375020407612,
                48.0128798705687
               ],
               [
                9.643838663146823,
                48.012055465403996
               ],
               [
                9.643502083127975,
                48.011666129001796
               ],
               [
                9.643096263921105,
                48.0113671152836
               ],
               [
                9.642611321531087,
                48.01117205870426
               ],
               [
                9.641952597379664,
                48.01101376669797
               ],
               [
                9.641150864215739,
                48.01094188731943
               ],
               [
                9.640509234244997,
                48.01081047247409
               ],
               [
                9.639986448230134,
                48.01053458378808
               ],
               [
                9.639410670784295,
                48.01030845250826
               ],
               [
                9.638764445535454,
                48.00980390802906
               ],
               [
                9.638596163524975,
                48.009472079812625
               ],
               [
                9.638648569472462,
                48.00910305034797
               ],
               [
                9.638039531280569,
                48.00889508426469
               ],
               [
                9.637867795620009,
                48.00855428049904
               ],
               [
                9.637882852594942,
                48.00814498741131
               ],
               [
                9.637457988604131,
                48.00792700191065
               ],
               [
                9.636997492285529,
                48.00780814217239
               ],
               [
                9.636750786617108,
                48.00736432572611
               ],
               [
                9.636288605201756,
                48.007097077800076
               ],
               [
                9.63617683803705,
                48.00673795204491
               ],
               [
                9.635911458797798,
                48.00613684880095
               ],
               [
                9.635413190325854,
                48.00594174598913
               ],
               [
                9.635178490089812,
                48.005655247976144
               ],
               [
                9.63539997335905,
                48.005411195562544
               ],
               [
                9.635524961625398,
                48.00522163823805
               ],
               [
                9.635267530545176,
                48.004993724639185
               ],
               [
                9.635199809146023,
                48.00493564054231
               ],
               [
                9.635087376470155,
                48.00478337055372
               ],
               [
                9.634964728417284,
                48.00461766647837
               ],
               [
                9.634795565187432,
                48.0044836947614
               ],
               [
                9.634714334091255,
                48.004416693592184
               ],
               [
                9.634639913780047,
                48.00435864616843
               ],
               [
                9.634205386921108,
                48.0044419882054
               ],
               [
                9.634148599684845,
                48.004455792093076
               ],
               [
                9.634084836574337,
                48.004447150401056
               ],
               [
                9.633642175948749,
                48.00441361812599
               ],
               [
                9.632756577066601,
                48.00404976049365
               ],
               [
                9.632328033496378,
                48.00380029849003
               ],
               [
                9.631963585234065,
                48.00358645682351
               ],
               [
                9.631344865988504,
                48.00312668693161
               ],
               [
                9.629485451670291,
                48.00230039277763
               ],
               [
                9.628236027722332,
                48.00507735697139
               ],
               [
                9.62814285177056,
                48.006233546367746
               ],
               [
                9.628129548846918,
                48.007897438059835
               ],
               [
                9.626783432400813,
                48.0093482645276
               ],
               [
                9.625223074950677,
                48.01082263485806
               ],
               [
                9.623668215319908,
                48.012760304519794
               ],
               [
                9.62217251719367,
                48.0137756975978
               ],
               [
                9.621035947096004,
                48.01484309197503
               ],
               [
                9.620154996965423,
                48.016003528243324
               ],
               [
                9.619055464821963,
                48.0170707026297
               ],
               [
                9.618739756025704,
                48.01786392940119
               ],
               [
                9.618748954826478,
                48.01863274297998
               ],
               [
                9.619117318190735,
                48.019449175909784
               ],
               [
                9.620072234178814,
                48.021107841368526
               ],
               [
                9.621020620117324,
                48.0224967260196
               ],
               [
                9.622035594679563,
                48.023287257821615
               ],
               [
                9.622977733551203,
                48.024149945271915
               ],
               [
                9.621585592228788,
                48.02627997164687
               ],
               [
                9.620748977664096,
                48.02750762207672
               ],
               [
                9.620269670964166,
                48.028346613771795
               ],
               [
                9.619612004681485,
                48.029128107033436
               ],
               [
                9.619190424470084,
                48.0294721357629
               ],
               [
                9.617692760562127,
                48.03037056126272
               ],
               [
                9.617348518853657,
                48.030736651294184
               ],
               [
                9.617206191033253,
                48.031169107654485
               ],
               [
                9.617251916672581,
                48.03161854087134
               ],
               [
                9.617433114639157,
                48.031914444813864
               ],
               [
                9.621419571574524,
                48.032823699390576
               ],
               [
                9.62197541086744,
                48.033050028033884
               ],
               [
                9.622431938549722,
                48.03338022809697
               ],
               [
                9.623827669358164,
                48.03542328340951
               ],
               [
                9.623997137315055,
                48.03585405461318
               ],
               [
                9.624368549577701,
                48.0371830853098
               ],
               [
                9.62450212633392,
                48.03852689777419
               ],
               [
                9.6246314359542,
                48.03896238286355
               ],
               [
                9.624817467132754,
                48.03937507543313
               ],
               [
                9.627650893833701,
                48.04189581777003
               ],
               [
                9.629980984690361,
                48.042161866484406
               ],
               [
                9.631195115779345,
                48.04274428155683
               ],
               [
                9.637647670859119,
                48.04531228994023
               ],
               [
                9.638372037833449,
                48.04587495141063
               ],
               [
                9.6426085364163,
                48.04842790054991
               ],
               [
                9.64428845888398,
                48.05003733260671
               ],
               [
                9.644661528384162,
                48.05119091137345
               ],
               [
                9.65025991510175,
                48.05476577817055
               ],
               [
                9.651828280888731,
                48.054941259566974
               ],
               [
                9.653894541596754,
                48.05444386810755
               ],
               [
                9.657136286004818,
                48.05434892921374
               ],
               [
                9.660324421217394,
                48.054258703687736
               ],
               [
                9.663748718685767,
                48.05506188361753
               ],
               [
                9.667733673739793,
                48.05590218024701
               ],
               [
                9.670263972320459,
                48.05680029837153
               ],
               [
                9.673530616779473,
                48.056291055531524
               ],
               [
                9.67480135785618,
                48.05600929938896
               ],
               [
                9.675979658485335,
                48.05558417611414
               ],
               [
                9.676536443284046,
                48.05533357786078
               ],
               [
                9.677025447209456,
                48.05502941486737
               ]
              ]
             ],
             "type": "Polygon"
            },
            "id": "0",
            "properties": {},
            "type": "Feature"
           }
          ],
          "type": "FeatureCollection"
         },
         "locations": [
          0
         ],
         "marker": {
          "line": {
           "width": 0
          },
          "opacity": 0.5
         },
         "name": "Federal Agency EZG",
         "showlegend": true,
         "showscale": false,
         "type": "choroplethmapbox",
         "z": [
          1
         ]
        },
        {
         "colorscale": [
          [
           0,
           "blue"
          ],
          [
           1,
           "blue"
          ]
         ],
         "geojson": {
          "bbox": [
           9.67208,
           47.93875,
           9.82458,
           48.05792
          ],
          "features": [
           {
            "bbox": [
             9.67208,
             47.93875,
             9.82458,
             48.05792
            ],
            "geometry": {
             "coordinates": [
              [
               [
                9.74208,
                48.05792
               ],
               [
                9.74208,
                48.05708
               ],
               [
                9.74375,
                48.05708
               ],
               [
                9.74375,
                48.05625
               ],
               [
                9.74625,
                48.05625
               ],
               [
                9.74625,
                48.05542
               ],
               [
                9.74708,
                48.05542
               ],
               [
                9.74708,
                48.05458
               ],
               [
                9.74625,
                48.05458
               ],
               [
                9.74625,
                48.05292
               ],
               [
                9.74542,
                48.05292
               ],
               [
                9.74542,
                48.05208
               ],
               [
                9.74625,
                48.05208
               ],
               [
                9.74625,
                48.05042
               ],
               [
                9.74708,
                48.05042
               ],
               [
                9.74708,
                48.04542
               ],
               [
                9.74792,
                48.04542
               ],
               [
                9.74792,
                48.04458
               ],
               [
                9.74708,
                48.04458
               ],
               [
                9.74708,
                48.04375
               ],
               [
                9.74625,
                48.04375
               ],
               [
                9.74625,
                48.04292
               ],
               [
                9.74542,
                48.04292
               ],
               [
                9.74542,
                48.04208
               ],
               [
                9.74458,
                48.04208
               ],
               [
                9.74458,
                48.04042
               ],
               [
                9.74375,
                48.04042
               ],
               [
                9.74375,
                48.03958
               ],
               [
                9.74458,
                48.03958
               ],
               [
                9.74458,
                48.03875
               ],
               [
                9.74958,
                48.03875
               ],
               [
                9.74958,
                48.03958
               ],
               [
                9.75042,
                48.03958
               ],
               [
                9.75042,
                48.04042
               ],
               [
                9.75625,
                48.04042
               ],
               [
                9.75625,
                48.04125
               ],
               [
                9.75708,
                48.04125
               ],
               [
                9.75708,
                48.04208
               ],
               [
                9.76125,
                48.04208
               ],
               [
                9.76125,
                48.04292
               ],
               [
                9.76292,
                48.04292
               ],
               [
                9.76292,
                48.04375
               ],
               [
                9.76458,
                48.04375
               ],
               [
                9.76458,
                48.04458
               ],
               [
                9.76792,
                48.04458
               ],
               [
                9.76792,
                48.04625
               ],
               [
                9.76875,
                48.04625
               ],
               [
                9.76875,
                48.04875
               ],
               [
                9.77042,
                48.04875
               ],
               [
                9.77042,
                48.04792
               ],
               [
                9.77125,
                48.04792
               ],
               [
                9.77125,
                48.04708
               ],
               [
                9.77292,
                48.04708
               ],
               [
                9.77292,
                48.04625
               ],
               [
                9.77375,
                48.04625
               ],
               [
                9.77375,
                48.04542
               ],
               [
                9.77458,
                48.04542
               ],
               [
                9.77458,
                48.04458
               ],
               [
                9.77875,
                48.04458
               ],
               [
                9.77875,
                48.04542
               ],
               [
                9.78042,
                48.04542
               ],
               [
                9.78042,
                48.04458
               ],
               [
                9.78125,
                48.04458
               ],
               [
                9.78125,
                48.04375
               ],
               [
                9.78208,
                48.04375
               ],
               [
                9.78208,
                48.04208
               ],
               [
                9.78292,
                48.04208
               ],
               [
                9.78292,
                48.04125
               ],
               [
                9.78375,
                48.04125
               ],
               [
                9.78375,
                48.04042
               ],
               [
                9.78458,
                48.04042
               ],
               [
                9.78458,
                48.03958
               ],
               [
                9.78542,
                48.03958
               ],
               [
                9.78542,
                48.03875
               ],
               [
                9.78625,
                48.03875
               ],
               [
                9.78625,
                48.03792
               ],
               [
                9.78708,
                48.03792
               ],
               [
                9.78708,
                48.03708
               ],
               [
                9.78792,
                48.03708
               ],
               [
                9.78792,
                48.03542
               ],
               [
                9.78875,
                48.03542
               ],
               [
                9.78875,
                48.03458
               ],
               [
                9.78792,
                48.03458
               ],
               [
                9.78792,
                48.03375
               ],
               [
                9.78958,
                48.03375
               ],
               [
                9.78958,
                48.03208
               ],
               [
                9.79042,
                48.03208
               ],
               [
                9.79042,
                48.03042
               ],
               [
                9.79125,
                48.03042
               ],
               [
                9.79125,
                48.02792
               ],
               [
                9.79208,
                48.02792
               ],
               [
                9.79208,
                48.02708
               ],
               [
                9.79292,
                48.02708
               ],
               [
                9.79292,
                48.02625
               ],
               [
                9.79375,
                48.02625
               ],
               [
                9.79375,
                48.02542
               ],
               [
                9.79542,
                48.02542
               ],
               [
                9.79542,
                48.02458
               ],
               [
                9.79625,
                48.02458
               ],
               [
                9.79625,
                48.02375
               ],
               [
                9.79708,
                48.02375
               ],
               [
                9.79708,
                48.02292
               ],
               [
                9.80042,
                48.02292
               ],
               [
                9.80042,
                48.02208
               ],
               [
                9.80125,
                48.02208
               ],
               [
                9.80125,
                48.02125
               ],
               [
                9.80208,
                48.02125
               ],
               [
                9.80208,
                48.02042
               ],
               [
                9.80375,
                48.02042
               ],
               [
                9.80375,
                48.01958
               ],
               [
                9.80458,
                48.01958
               ],
               [
                9.80458,
                48.02042
               ],
               [
                9.80542,
                48.02042
               ],
               [
                9.80542,
                48.02125
               ],
               [
                9.80625,
                48.02125
               ],
               [
                9.80625,
                48.02292
               ],
               [
                9.80792,
                48.02292
               ],
               [
                9.80792,
                48.02375
               ],
               [
                9.80875,
                48.02375
               ],
               [
                9.80875,
                48.02542
               ],
               [
                9.81042,
                48.02542
               ],
               [
                9.81042,
                48.02625
               ],
               [
                9.81125,
                48.02625
               ],
               [
                9.81125,
                48.02708
               ],
               [
                9.81042,
                48.02708
               ],
               [
                9.81042,
                48.02792
               ],
               [
                9.81125,
                48.02792
               ],
               [
                9.81125,
                48.02875
               ],
               [
                9.81208,
                48.02875
               ],
               [
                9.81208,
                48.02958
               ],
               [
                9.81458,
                48.02958
               ],
               [
                9.81458,
                48.03042
               ],
               [
                9.81542,
                48.03042
               ],
               [
                9.81542,
                48.03125
               ],
               [
                9.81625,
                48.03125
               ],
               [
                9.81625,
                48.03042
               ],
               [
                9.81792,
                48.03042
               ],
               [
                9.81792,
                48.02958
               ],
               [
                9.81875,
                48.02958
               ],
               [
                9.81875,
                48.02875
               ],
               [
                9.82125,
                48.02875
               ],
               [
                9.82125,
                48.02708
               ],
               [
                9.82208,
                48.02708
               ],
               [
                9.82208,
                48.02625
               ],
               [
                9.82292,
                48.02625
               ],
               [
                9.82292,
                48.02542
               ],
               [
                9.82375,
                48.02542
               ],
               [
                9.82375,
                48.02375
               ],
               [
                9.82458,
                48.02375
               ],
               [
                9.82458,
                48.01875
               ],
               [
                9.82292,
                48.01875
               ],
               [
                9.82292,
                48.01792
               ],
               [
                9.82208,
                48.01792
               ],
               [
                9.82208,
                48.01708
               ],
               [
                9.81792,
                48.01708
               ],
               [
                9.81792,
                48.01792
               ],
               [
                9.81708,
                48.01792
               ],
               [
                9.81708,
                48.01625
               ],
               [
                9.81625,
                48.01625
               ],
               [
                9.81625,
                48.01542
               ],
               [
                9.81708,
                48.01542
               ],
               [
                9.81708,
                48.01458
               ],
               [
                9.81625,
                48.01458
               ],
               [
                9.81625,
                48.01375
               ],
               [
                9.81542,
                48.01375
               ],
               [
                9.81542,
                48.01208
               ],
               [
                9.81458,
                48.01208
               ],
               [
                9.81458,
                48.01125
               ],
               [
                9.81292,
                48.01125
               ],
               [
                9.81292,
                48.01208
               ],
               [
                9.81208,
                48.01208
               ],
               [
                9.81208,
                48.01125
               ],
               [
                9.80792,
                48.01125
               ],
               [
                9.80792,
                48.01208
               ],
               [
                9.80042,
                48.01208
               ],
               [
                9.80042,
                48.01125
               ],
               [
                9.79875,
                48.01125
               ],
               [
                9.79875,
                48.01042
               ],
               [
                9.79792,
                48.01042
               ],
               [
                9.79792,
                48.00958
               ],
               [
                9.79708,
                48.00958
               ],
               [
                9.79708,
                48.00875
               ],
               [
                9.79292,
                48.00875
               ],
               [
                9.79292,
                48.00792
               ],
               [
                9.79208,
                48.00792
               ],
               [
                9.79208,
                48.00708
               ],
               [
                9.79125,
                48.00708
               ],
               [
                9.79125,
                48.00625
               ],
               [
                9.79042,
                48.00625
               ],
               [
                9.79042,
                48.00542
               ],
               [
                9.78875,
                48.00542
               ],
               [
                9.78875,
                48.00125
               ],
               [
                9.79042,
                48.00125
               ],
               [
                9.79042,
                48.00208
               ],
               [
                9.79125,
                48.00208
               ],
               [
                9.79125,
                48.00125
               ],
               [
                9.79208,
                48.00125
               ],
               [
                9.79208,
                48.00042
               ],
               [
                9.79375,
                48.00042
               ],
               [
                9.79375,
                47.99958
               ],
               [
                9.79542,
                47.99958
               ],
               [
                9.79542,
                47.99875
               ],
               [
                9.79875,
                47.99875
               ],
               [
                9.79875,
                47.99792
               ],
               [
                9.79958,
                47.99792
               ],
               [
                9.79958,
                47.99708
               ],
               [
                9.80042,
                47.99708
               ],
               [
                9.80042,
                47.99625
               ],
               [
                9.80125,
                47.99625
               ],
               [
                9.80125,
                47.99542
               ],
               [
                9.80292,
                47.99542
               ],
               [
                9.80292,
                47.99458
               ],
               [
                9.80375,
                47.99458
               ],
               [
                9.80375,
                47.99375
               ],
               [
                9.80458,
                47.99375
               ],
               [
                9.80458,
                47.99208
               ],
               [
                9.80375,
                47.99208
               ],
               [
                9.80375,
                47.99042
               ],
               [
                9.80458,
                47.99042
               ],
               [
                9.80458,
                47.98958
               ],
               [
                9.80708,
                47.98958
               ],
               [
                9.80708,
                47.98708
               ],
               [
                9.80792,
                47.98708
               ],
               [
                9.80792,
                47.98542
               ],
               [
                9.80708,
                47.98542
               ],
               [
                9.80708,
                47.98375
               ],
               [
                9.80625,
                47.98375
               ],
               [
                9.80625,
                47.98292
               ],
               [
                9.80458,
                47.98292
               ],
               [
                9.80458,
                47.98208
               ],
               [
                9.80375,
                47.98208
               ],
               [
                9.80375,
                47.98125
               ],
               [
                9.80125,
                47.98125
               ],
               [
                9.80125,
                47.98042
               ],
               [
                9.80042,
                47.98042
               ],
               [
                9.80042,
                47.97792
               ],
               [
                9.80125,
                47.97792
               ],
               [
                9.80125,
                47.97708
               ],
               [
                9.80208,
                47.97708
               ],
               [
                9.80208,
                47.97625
               ],
               [
                9.80292,
                47.97625
               ],
               [
                9.80292,
                47.97375
               ],
               [
                9.80125,
                47.97375
               ],
               [
                9.80125,
                47.97292
               ],
               [
                9.80042,
                47.97292
               ],
               [
                9.80042,
                47.97208
               ],
               [
                9.80125,
                47.97208
               ],
               [
                9.80125,
                47.97042
               ],
               [
                9.80208,
                47.97042
               ],
               [
                9.80208,
                47.96792
               ],
               [
                9.80042,
                47.96792
               ],
               [
                9.80042,
                47.96708
               ],
               [
                9.79958,
                47.96708
               ],
               [
                9.79958,
                47.96625
               ],
               [
                9.79875,
                47.96625
               ],
               [
                9.79875,
                47.96542
               ],
               [
                9.79958,
                47.96542
               ],
               [
                9.79958,
                47.96375
               ],
               [
                9.80042,
                47.96375
               ],
               [
                9.80042,
                47.96292
               ],
               [
                9.80125,
                47.96292
               ],
               [
                9.80125,
                47.96125
               ],
               [
                9.80208,
                47.96125
               ],
               [
                9.80208,
                47.96042
               ],
               [
                9.80125,
                47.96042
               ],
               [
                9.80125,
                47.95875
               ],
               [
                9.80208,
                47.95875
               ],
               [
                9.80208,
                47.95625
               ],
               [
                9.80125,
                47.95625
               ],
               [
                9.80125,
                47.95542
               ],
               [
                9.80042,
                47.95542
               ],
               [
                9.80042,
                47.95292
               ],
               [
                9.79958,
                47.95292
               ],
               [
                9.79958,
                47.95125
               ],
               [
                9.79792,
                47.95125
               ],
               [
                9.79792,
                47.95042
               ],
               [
                9.79708,
                47.95042
               ],
               [
                9.79708,
                47.94958
               ],
               [
                9.79625,
                47.94958
               ],
               [
                9.79625,
                47.94875
               ],
               [
                9.79542,
                47.94875
               ],
               [
                9.79542,
                47.94792
               ],
               [
                9.79458,
                47.94792
               ],
               [
                9.79458,
                47.94708
               ],
               [
                9.79375,
                47.94708
               ],
               [
                9.79375,
                47.94625
               ],
               [
                9.79292,
                47.94625
               ],
               [
                9.79292,
                47.94542
               ],
               [
                9.79208,
                47.94542
               ],
               [
                9.79208,
                47.94375
               ],
               [
                9.79125,
                47.94375
               ],
               [
                9.79125,
                47.94292
               ],
               [
                9.78958,
                47.94292
               ],
               [
                9.78958,
                47.94375
               ],
               [
                9.78875,
                47.94375
               ],
               [
                9.78875,
                47.94458
               ],
               [
                9.78708,
                47.94458
               ],
               [
                9.78708,
                47.94375
               ],
               [
                9.78208,
                47.94375
               ],
               [
                9.78208,
                47.94625
               ],
               [
                9.78042,
                47.94625
               ],
               [
                9.78042,
                47.94875
               ],
               [
                9.78125,
                47.94875
               ],
               [
                9.78125,
                47.95208
               ],
               [
                9.77875,
                47.95208
               ],
               [
                9.77875,
                47.95375
               ],
               [
                9.77792,
                47.95375
               ],
               [
                9.77792,
                47.95458
               ],
               [
                9.77708,
                47.95458
               ],
               [
                9.77708,
                47.95542
               ],
               [
                9.77542,
                47.95542
               ],
               [
                9.77542,
                47.95625
               ],
               [
                9.77458,
                47.95625
               ],
               [
                9.77458,
                47.95708
               ],
               [
                9.77375,
                47.95708
               ],
               [
                9.77375,
                47.95792
               ],
               [
                9.77292,
                47.95792
               ],
               [
                9.77292,
                47.95875
               ],
               [
                9.77208,
                47.95875
               ],
               [
                9.77208,
                47.95792
               ],
               [
                9.76875,
                47.95792
               ],
               [
                9.76875,
                47.95625
               ],
               [
                9.76625,
                47.95625
               ],
               [
                9.76625,
                47.95542
               ],
               [
                9.76708,
                47.95542
               ],
               [
                9.76708,
                47.95375
               ],
               [
                9.76625,
                47.95375
               ],
               [
                9.76625,
                47.95292
               ],
               [
                9.76458,
                47.95292
               ],
               [
                9.76458,
                47.95208
               ],
               [
                9.76375,
                47.95208
               ],
               [
                9.76375,
                47.95125
               ],
               [
                9.76292,
                47.95125
               ],
               [
                9.76292,
                47.95042
               ],
               [
                9.76208,
                47.95042
               ],
               [
                9.76208,
                47.94958
               ],
               [
                9.76125,
                47.94958
               ],
               [
                9.76125,
                47.94875
               ],
               [
                9.75958,
                47.94875
               ],
               [
                9.75958,
                47.94792
               ],
               [
                9.75708,
                47.94792
               ],
               [
                9.75708,
                47.94708
               ],
               [
                9.75625,
                47.94708
               ],
               [
                9.75625,
                47.94625
               ],
               [
                9.75375,
                47.94625
               ],
               [
                9.75375,
                47.94542
               ],
               [
                9.75042,
                47.94542
               ],
               [
                9.75042,
                47.94375
               ],
               [
                9.74958,
                47.94375
               ],
               [
                9.74958,
                47.94292
               ],
               [
                9.74542,
                47.94292
               ],
               [
                9.74542,
                47.94458
               ],
               [
                9.74375,
                47.94458
               ],
               [
                9.74375,
                47.94042
               ],
               [
                9.74208,
                47.94042
               ],
               [
                9.74208,
                47.94125
               ],
               [
                9.74125,
                47.94125
               ],
               [
                9.74125,
                47.94042
               ],
               [
                9.74042,
                47.94042
               ],
               [
                9.74042,
                47.93958
               ],
               [
                9.73708,
                47.93958
               ],
               [
                9.73708,
                47.93875
               ],
               [
                9.73625,
                47.93875
               ],
               [
                9.73625,
                47.94042
               ],
               [
                9.73542,
                47.94042
               ],
               [
                9.73542,
                47.94292
               ],
               [
                9.73375,
                47.94292
               ],
               [
                9.73375,
                47.94458
               ],
               [
                9.73458,
                47.94458
               ],
               [
                9.73458,
                47.94625
               ],
               [
                9.73708,
                47.94625
               ],
               [
                9.73708,
                47.94708
               ],
               [
                9.73625,
                47.94708
               ],
               [
                9.73625,
                47.94875
               ],
               [
                9.73125,
                47.94875
               ],
               [
                9.73125,
                47.94958
               ],
               [
                9.73042,
                47.94958
               ],
               [
                9.73042,
                47.95042
               ],
               [
                9.72542,
                47.95042
               ],
               [
                9.72542,
                47.95125
               ],
               [
                9.72458,
                47.95125
               ],
               [
                9.72458,
                47.95208
               ],
               [
                9.72375,
                47.95208
               ],
               [
                9.72375,
                47.95292
               ],
               [
                9.72125,
                47.95292
               ],
               [
                9.72125,
                47.95208
               ],
               [
                9.72042,
                47.95208
               ],
               [
                9.72042,
                47.95125
               ],
               [
                9.71875,
                47.95125
               ],
               [
                9.71875,
                47.95208
               ],
               [
                9.71375,
                47.95208
               ],
               [
                9.71375,
                47.95292
               ],
               [
                9.71042,
                47.95292
               ],
               [
                9.71042,
                47.95375
               ],
               [
                9.70958,
                47.95375
               ],
               [
                9.70958,
                47.95458
               ],
               [
                9.70792,
                47.95458
               ],
               [
                9.70792,
                47.95542
               ],
               [
                9.70875,
                47.95542
               ],
               [
                9.70875,
                47.95625
               ],
               [
                9.70958,
                47.95625
               ],
               [
                9.70958,
                47.95708
               ],
               [
                9.71042,
                47.95708
               ],
               [
                9.71042,
                47.95958
               ],
               [
                9.70958,
                47.95958
               ],
               [
                9.70958,
                47.95875
               ],
               [
                9.70708,
                47.95875
               ],
               [
                9.70708,
                47.96292
               ],
               [
                9.70542,
                47.96292
               ],
               [
                9.70542,
                47.96375
               ],
               [
                9.70375,
                47.96375
               ],
               [
                9.70375,
                47.96458
               ],
               [
                9.70125,
                47.96458
               ],
               [
                9.70125,
                47.96542
               ],
               [
                9.69958,
                47.96542
               ],
               [
                9.69958,
                47.96458
               ],
               [
                9.69625,
                47.96458
               ],
               [
                9.69625,
                47.96625
               ],
               [
                9.69542,
                47.96625
               ],
               [
                9.69542,
                47.96708
               ],
               [
                9.69375,
                47.96708
               ],
               [
                9.69375,
                47.96875
               ],
               [
                9.69458,
                47.96875
               ],
               [
                9.69458,
                47.97125
               ],
               [
                9.69542,
                47.97125
               ],
               [
                9.69542,
                47.97375
               ],
               [
                9.69458,
                47.97375
               ],
               [
                9.69458,
                47.97458
               ],
               [
                9.69542,
                47.97458
               ],
               [
                9.69542,
                47.97708
               ],
               [
                9.69458,
                47.97708
               ],
               [
                9.69458,
                47.97875
               ],
               [
                9.69375,
                47.97875
               ],
               [
                9.69375,
                47.97958
               ],
               [
                9.69292,
                47.97958
               ],
               [
                9.69292,
                47.98042
               ],
               [
                9.69208,
                47.98042
               ],
               [
                9.69208,
                47.98208
               ],
               [
                9.69125,
                47.98208
               ],
               [
                9.69125,
                47.98458
               ],
               [
                9.69208,
                47.98458
               ],
               [
                9.69208,
                47.98625
               ],
               [
                9.69708,
                47.98625
               ],
               [
                9.69708,
                47.98875
               ],
               [
                9.69792,
                47.98875
               ],
               [
                9.69792,
                47.98958
               ],
               [
                9.69875,
                47.98958
               ],
               [
                9.69875,
                47.99042
               ],
               [
                9.69958,
                47.99042
               ],
               [
                9.69958,
                47.99125
               ],
               [
                9.69875,
                47.99125
               ],
               [
                9.69875,
                47.99208
               ],
               [
                9.69792,
                47.99208
               ],
               [
                9.69792,
                47.99292
               ],
               [
                9.70042,
                47.99292
               ],
               [
                9.70042,
                47.99458
               ],
               [
                9.70125,
                47.99458
               ],
               [
                9.70125,
                47.99542
               ],
               [
                9.70208,
                47.99542
               ],
               [
                9.70208,
                47.99625
               ],
               [
                9.70375,
                47.99625
               ],
               [
                9.70375,
                47.99875
               ],
               [
                9.70292,
                47.99875
               ],
               [
                9.70292,
                47.99958
               ],
               [
                9.70375,
                47.99958
               ],
               [
                9.70375,
                48.00125
               ],
               [
                9.70542,
                48.00125
               ],
               [
                9.70542,
                48.00292
               ],
               [
                9.70708,
                48.00292
               ],
               [
                9.70708,
                48.00375
               ],
               [
                9.70875,
                48.00375
               ],
               [
                9.70875,
                48.00458
               ],
               [
                9.70958,
                48.00458
               ],
               [
                9.70958,
                48.00625
               ],
               [
                9.70875,
                48.00625
               ],
               [
                9.70875,
                48.00708
               ],
               [
                9.70958,
                48.00708
               ],
               [
                9.70958,
                48.00792
               ],
               [
                9.71042,
                48.00792
               ],
               [
                9.71042,
                48.00875
               ],
               [
                9.71125,
                48.00875
               ],
               [
                9.71125,
                48.00958
               ],
               [
                9.71042,
                48.00958
               ],
               [
                9.71042,
                48.01125
               ],
               [
                9.70958,
                48.01125
               ],
               [
                9.70958,
                48.01208
               ],
               [
                9.71042,
                48.01208
               ],
               [
                9.71042,
                48.01375
               ],
               [
                9.70625,
                48.01375
               ],
               [
                9.70625,
                48.01292
               ],
               [
                9.70458,
                48.01292
               ],
               [
                9.70458,
                48.01375
               ],
               [
                9.70375,
                48.01375
               ],
               [
                9.70375,
                48.01458
               ],
               [
                9.70292,
                48.01458
               ],
               [
                9.70292,
                48.01625
               ],
               [
                9.70208,
                48.01625
               ],
               [
                9.70208,
                48.01708
               ],
               [
                9.69958,
                48.01708
               ],
               [
                9.69958,
                48.01792
               ],
               [
                9.69542,
                48.01792
               ],
               [
                9.69542,
                48.01708
               ],
               [
                9.69375,
                48.01708
               ],
               [
                9.69375,
                48.01625
               ],
               [
                9.69292,
                48.01625
               ],
               [
                9.69292,
                48.01708
               ],
               [
                9.69125,
                48.01708
               ],
               [
                9.69125,
                48.01792
               ],
               [
                9.69042,
                48.01792
               ],
               [
                9.69042,
                48.01875
               ],
               [
                9.69125,
                48.01875
               ],
               [
                9.69125,
                48.02125
               ],
               [
                9.68875,
                48.02125
               ],
               [
                9.68875,
                48.02208
               ],
               [
                9.68292,
                48.02208
               ],
               [
                9.68292,
                48.02292
               ],
               [
                9.68042,
                48.02292
               ],
               [
                9.68042,
                48.02208
               ],
               [
                9.67958,
                48.02208
               ],
               [
                9.67958,
                48.02292
               ],
               [
                9.67875,
                48.02292
               ],
               [
                9.67875,
                48.02375
               ],
               [
                9.67792,
                48.02375
               ],
               [
                9.67792,
                48.02458
               ],
               [
                9.67875,
                48.02458
               ],
               [
                9.67875,
                48.02542
               ],
               [
                9.67958,
                48.02542
               ],
               [
                9.67958,
                48.02625
               ],
               [
                9.67875,
                48.02625
               ],
               [
                9.67875,
                48.02708
               ],
               [
                9.67708,
                48.02708
               ],
               [
                9.67708,
                48.02792
               ],
               [
                9.67625,
                48.02792
               ],
               [
                9.67625,
                48.02875
               ],
               [
                9.67542,
                48.02875
               ],
               [
                9.67542,
                48.02958
               ],
               [
                9.67375,
                48.02958
               ],
               [
                9.67375,
                48.03292
               ],
               [
                9.67208,
                48.03292
               ],
               [
                9.67208,
                48.03458
               ],
               [
                9.67292,
                48.03458
               ],
               [
                9.67292,
                48.03375
               ],
               [
                9.67458,
                48.03375
               ],
               [
                9.67458,
                48.03292
               ],
               [
                9.67792,
                48.03292
               ],
               [
                9.67792,
                48.03458
               ],
               [
                9.67875,
                48.03458
               ],
               [
                9.67875,
                48.03542
               ],
               [
                9.68042,
                48.03542
               ],
               [
                9.68042,
                48.03625
               ],
               [
                9.68125,
                48.03625
               ],
               [
                9.68125,
                48.03708
               ],
               [
                9.68208,
                48.03708
               ],
               [
                9.68208,
                48.03792
               ],
               [
                9.68292,
                48.03792
               ],
               [
                9.68292,
                48.03708
               ],
               [
                9.68375,
                48.03708
               ],
               [
                9.68375,
                48.03625
               ],
               [
                9.68625,
                48.03625
               ],
               [
                9.68625,
                48.03542
               ],
               [
                9.68708,
                48.03542
               ],
               [
                9.68708,
                48.03458
               ],
               [
                9.68875,
                48.03458
               ],
               [
                9.68875,
                48.03375
               ],
               [
                9.69042,
                48.03375
               ],
               [
                9.69042,
                48.03458
               ],
               [
                9.69208,
                48.03458
               ],
               [
                9.69208,
                48.03542
               ],
               [
                9.69292,
                48.03542
               ],
               [
                9.69292,
                48.03875
               ],
               [
                9.69375,
                48.03875
               ],
               [
                9.69375,
                48.04042
               ],
               [
                9.69458,
                48.04042
               ],
               [
                9.69458,
                48.04125
               ],
               [
                9.69542,
                48.04125
               ],
               [
                9.69542,
                48.04292
               ],
               [
                9.69625,
                48.04292
               ],
               [
                9.69625,
                48.04458
               ],
               [
                9.69792,
                48.04458
               ],
               [
                9.69792,
                48.04542
               ],
               [
                9.69875,
                48.04542
               ],
               [
                9.69875,
                48.04708
               ],
               [
                9.70042,
                48.04708
               ],
               [
                9.70042,
                48.04792
               ],
               [
                9.70292,
                48.04792
               ],
               [
                9.70292,
                48.04875
               ],
               [
                9.70542,
                48.04875
               ],
               [
                9.70542,
                48.05125
               ],
               [
                9.70875,
                48.05125
               ],
               [
                9.70875,
                48.05375
               ],
               [
                9.70958,
                48.05375
               ],
               [
                9.70958,
                48.05542
               ],
               [
                9.71292,
                48.05542
               ],
               [
                9.71292,
                48.05625
               ],
               [
                9.71458,
                48.05625
               ],
               [
                9.71458,
                48.05708
               ],
               [
                9.71542,
                48.05708
               ],
               [
                9.71542,
                48.05625
               ],
               [
                9.71792,
                48.05625
               ],
               [
                9.71792,
                48.05458
               ],
               [
                9.71958,
                48.05458
               ],
               [
                9.71958,
                48.05292
               ],
               [
                9.72125,
                48.05292
               ],
               [
                9.72125,
                48.05208
               ],
               [
                9.72208,
                48.05208
               ],
               [
                9.72208,
                48.05292
               ],
               [
                9.72292,
                48.05292
               ],
               [
                9.72292,
                48.05375
               ],
               [
                9.72625,
                48.05375
               ],
               [
                9.72625,
                48.05458
               ],
               [
                9.72708,
                48.05458
               ],
               [
                9.72708,
                48.05375
               ],
               [
                9.72792,
                48.05375
               ],
               [
                9.72792,
                48.05292
               ],
               [
                9.72875,
                48.05292
               ],
               [
                9.72875,
                48.05208
               ],
               [
                9.73125,
                48.05208
               ],
               [
                9.73125,
                48.05292
               ],
               [
                9.73208,
                48.05292
               ],
               [
                9.73208,
                48.05208
               ],
               [
                9.73292,
                48.05208
               ],
               [
                9.73292,
                48.05292
               ],
               [
                9.73458,
                48.05292
               ],
               [
                9.73458,
                48.05375
               ],
               [
                9.73542,
                48.05375
               ],
               [
                9.73542,
                48.05458
               ],
               [
                9.73708,
                48.05458
               ],
               [
                9.73708,
                48.05542
               ],
               [
                9.73792,
                48.05542
               ],
               [
                9.73792,
                48.05708
               ],
               [
                9.73958,
                48.05708
               ],
               [
                9.73958,
                48.05792
               ],
               [
                9.74208,
                48.05792
               ]
              ]
             ],
             "type": "Polygon"
            },
            "id": "0",
            "properties": {},
            "type": "Feature"
           }
          ],
          "type": "FeatureCollection"
         },
         "locations": [
          0
         ],
         "marker": {
          "line": {
           "width": 0
          },
          "opacity": 0.5
         },
         "name": "MERIT Hydro",
         "showlegend": true,
         "showscale": false,
         "type": "choroplethmapbox",
         "z": [
          1
         ]
        },
        {
         "colorscale": [
          [
           0,
           "red"
          ],
          [
           1,
           "red"
          ]
         ],
         "geojson": {
          "bbox": [
           9.633331976996557,
           47.88333333333337,
           9.8875,
           48.09166666666668
          ],
          "features": [
           {
            "bbox": [
             9.633331976996557,
             47.88333333333337,
             9.8875,
             48.09166666666668
            ],
            "geometry": {
             "coordinates": [
              [
               [
                9.7875,
                47.9
               ],
               [
                9.784141031901072,
                47.900960286458364
               ],
               [
                9.782715861002634,
                47.908802456325986
               ],
               [
                9.7868825276693,
                47.914506530761756
               ],
               [
                9.78811747233076,
                47.92130245632599
               ],
               [
                9.783894856770864,
                47.92708333333337
               ],
               [
                9.7868825276693,
                47.93117319742842
               ],
               [
                9.78811747233076,
                47.93549346923832
               ],
               [
                9.791934204101592,
                47.940718078613315
               ],
               [
                9.779960801866348,
                47.94246080186635
               ],
               [
                9.778549194335968,
                47.95216013590498
               ],
               [
                9.77357177734378,
                47.95838351779517
               ],
               [
                9.760493638780412,
                47.9464509752062
               ],
               [
                9.756173027886314,
                47.94521569146054
               ],
               [
                9.752083333333363,
                47.9422281901042
               ],
               [
                9.747916666666697,
                47.94527180989587
               ],
               [
                9.743826972113744,
                47.94228430853953
               ],
               [
                9.732596503363744,
                47.94104902479387
               ],
               [
                9.722993638780412,
                47.9493823581272
               ],
               [
                9.714506361219648,
                47.95061764187287
               ],
               [
                9.697441270616348,
                47.96656494140628
               ],
               [
                9.695215861002634,
                47.971302456325986
               ],
               [
                9.6993825276693,
                47.977006530761756
               ],
               [
                9.700666978624161,
                48.0031660291884
               ],
               [
                9.707177395290827,
                48.00502743191193
               ],
               [
                9.708950805664092,
                48.00880245632599
               ],
               [
                9.704784138997425,
                48.01450653076176
               ],
               [
                9.703160264756974,
                48.02018619113502
               ],
               [
                9.660339694552981,
                48.0214509752062
               ],
               [
                9.656326972113744,
                48.024382358127205
               ],
               [
                9.653360324435793,
                48.02561764187286
               ],
               [
                9.639660305447077,
                48.01311764187287
               ],
               [
                9.6375,
                48.0125
               ],
               [
                9.637146674262182,
                48.03992445203995
               ],
               [
                9.633331976996557,
                48.043765936957485
               ],
               [
                9.639242214626766,
                48.04964667426217
               ],
               [
                9.673257785373293,
                48.050353325737866
               ],
               [
                9.676742214626765,
                48.05381334092884
               ],
               [
                9.679166666666696,
                48.05416666666669
               ],
               [
                9.68137715657555,
                48.05359937879776
               ],
               [
                9.685289510091176,
                48.050567287868944
               ],
               [
                9.689710489908883,
                48.04943271213109
               ],
               [
                9.693758816189266,
                48.046295166015646
               ],
               [
                9.701956176757841,
                48.05359937879776
               ],
               [
                9.710543823242217,
                48.05473395453561
               ],
               [
                9.714456176757842,
                48.057766045464426
               ],
               [
                9.723043823242218,
                48.05890062120228
               ],
               [
                9.728420003255238,
                48.06306728786895
               ],
               [
                9.740717230902808,
                48.06183166503908
               ],
               [
                9.74526604546444,
                48.05637715657554
               ],
               [
                9.746498277452286,
                48.042523532443596
               ],
               [
                9.75121866861982,
                48.04146525065106
               ],
               [
                9.756122843424508,
                48.04526604546443
               ],
               [
                9.760543823242218,
                48.046400621202274
               ],
               [
                9.764456176757843,
                48.04943271213109
               ],
               [
                9.786590915256106,
                48.05062357584637
               ],
               [
                9.788067287868953,
                48.05637715657554
               ],
               [
                9.791099378797773,
                48.06028951009117
               ],
               [
                9.79263441297746,
                48.066270616319464
               ],
               [
                9.797789510091176,
                48.07026604546443
               ],
               [
                9.802210489908884,
                48.07140062120228
               ],
               [
                9.80612284342451,
                48.0744327121311
               ],
               [
                9.812499999740757,
                48.07499999997695
               ],
               [
                9.819933742947079,
                48.07566121419273
               ],
               [
                9.821400621202287,
                48.08137715657554
               ],
               [
                9.825959947374162,
                48.086844211154535
               ],
               [
                9.840767076280413,
                48.08816121419273
               ],
               [
                9.841666666666697,
                48.09166666666668
               ],
               [
                9.843914794921906,
                48.09113701714411
               ],
               [
                9.847916666666697,
                48.08789605034724
               ],
               [
                9.852092827691003,
                48.0912784152561
               ],
               [
                9.860251871744822,
                48.08386298285592
               ],
               [
                9.865780300564268,
                48.08256089952259
               ],
               [
                9.867148844401072,
                48.07816738552519
               ],
               [
                9.8630296495226,
                48.07308146158856
               ],
               [
                9.861970350477462,
                48.06858520507814
               ],
               [
                9.857803683810795,
                48.06344061957467
               ],
               [
                9.858862982855934,
                48.06025187174481
               ],
               [
                9.866137017144128,
                48.05224812825523
               ],
               [
                9.867196316189267,
                48.04775187174481
               ],
               [
                9.870445081922774,
                48.04374050564238
               ],
               [
                9.861970350477462,
                48.03441636827259
               ],
               [
                9.863432820638051,
                48.02981669108075
               ],
               [
                9.873081461588573,
                48.02863701714411
               ],
               [
                9.881085205078156,
                48.02136298285592
               ],
               [
                9.8875,
                48.02083333333335
               ],
               [
                9.88684319390194,
                48.00081414116755
               ],
               [
                9.874584960937531,
                47.99902988009985
               ],
               [
                9.882715861002636,
                47.98966030544707
               ],
               [
                9.883950805664092,
                47.968673027886304
               ],
               [
                9.886882527669302,
                47.96466030544707
               ],
               [
                9.8875,
                47.9625
               ],
               [
                9.880908881293418,
                47.962146674262186
               ],
               [
                9.856591118706612,
                47.93785332573788
               ],
               [
                9.85174221462675,
                47.93714667426219
               ],
               [
                9.844091118706611,
                47.92951999240455
               ],
               [
                9.83924221462675,
                47.928813340928855
               ],
               [
                9.835757785373278,
                47.92535332573788
               ],
               [
                9.830908881293418,
                47.924646674262185
               ],
               [
                9.812857564290379,
                47.90662078857425
               ],
               [
                9.812146674262166,
                47.90174221462677
               ],
               [
                9.808686659071196,
                47.898257785373296
               ],
               [
                9.8079800075955,
                47.89340888129344
               ],
               [
                9.802456834581177,
                47.8878580729167
               ],
               [
                9.797575547960083,
                47.88714667426218
               ],
               [
                9.79409111870661,
                47.883686659071216
               ],
               [
                9.79166666666668,
                47.88333333333337
               ],
               [
                9.7875,
                47.88333333333337
               ],
               [
                9.7875,
                47.9
               ]
              ]
             ],
             "type": "Polygon"
            },
            "id": "0",
            "properties": {},
            "type": "Feature"
           }
          ],
          "type": "FeatureCollection"
         },
         "locations": [
          0
         ],
         "marker": {
          "line": {
           "width": 0
          },
          "opacity": 0.5
         },
         "name": "HydroSHEDS",
         "showlegend": true,
         "showscale": false,
         "type": "choroplethmapbox",
         "z": [
          1
         ]
        },
        {
         "colorscale": [
          [
           0,
           "yellow"
          ],
          [
           1,
           "yellow"
          ]
         ],
         "geojson": {
          "bbox": [
           9.6172062,
           47.9349516,
           9.8265153,
           48.0568003
          ],
          "features": [
           {
            "bbox": [
             9.6172062,
             47.9349516,
             9.8265153,
             48.0568003
            ],
            "geometry": {
             "coordinates": [
              [
               [
                9.8159437,
                48.0309037
               ],
               [
                9.8160006,
                48.0311122
               ],
               [
                9.8160146,
                48.0320034
               ],
               [
                9.815463,
                48.0335081
               ],
               [
                9.8132492,
                48.0353406
               ],
               [
                9.8119559,
                48.0361255
               ],
               [
                9.8122582,
                48.0370469
               ],
               [
                9.809744,
                48.0398088
               ],
               [
                9.8091807,
                48.0405846
               ],
               [
                9.8087435,
                48.041077
               ],
               [
                9.8078541,
                48.0416231
               ],
               [
                9.8056318,
                48.0426249
               ],
               [
                9.8060754,
                48.0434361
               ],
               [
                9.8053981,
                48.0438549
               ],
               [
                9.8044857,
                48.0442271
               ],
               [
                9.8032555,
                48.0449823
               ],
               [
                9.803435,
                48.045686
               ],
               [
                9.803761,
                48.0466801
               ],
               [
                9.80456,
                48.0484235
               ],
               [
                9.8050027,
                48.0492235
               ],
               [
                9.805543,
                48.0503024
               ],
               [
                9.8063331,
                48.0511803
               ],
               [
                9.8063719,
                48.0514592
               ],
               [
                9.7955308,
                48.0510567
               ],
               [
                9.7943066,
                48.0504649
               ],
               [
                9.7923791,
                48.0498779
               ],
               [
                9.790071,
                48.0495079
               ],
               [
                9.7870863,
                48.0488828
               ],
               [
                9.7862377,
                48.0477689
               ],
               [
                9.7848444,
                48.0467713
               ],
               [
                9.7839164,
                48.0459411
               ],
               [
                9.7815654,
                48.0459077
               ],
               [
                9.7775588,
                48.0461552
               ],
               [
                9.7756125,
                48.0464966
               ],
               [
                9.77496,
                48.0465864
               ],
               [
                9.7742897,
                48.0466134
               ],
               [
                9.7736194,
                48.0466359
               ],
               [
                9.7729581,
                48.0465864
               ],
               [
                9.7716444,
                48.0464109
               ],
               [
                9.7709989,
                48.0462938
               ],
               [
                9.7690979,
                48.0458569
               ],
               [
                9.7665347,
                48.0444035
               ],
               [
                9.7654267,
                48.0438398
               ],
               [
                9.7636513,
                48.0432806
               ],
               [
                9.7595657,
                48.0420729
               ],
               [
                9.7580713,
                48.0416312
               ],
               [
                9.7558716,
                48.041127
               ],
               [
                9.7529299,
                48.0401469
               ],
               [
                9.750413,
                48.0393376
               ],
               [
                9.7471574,
                48.0387164
               ],
               [
                9.7447976,
                48.038696
               ],
               [
                9.7438132,
                48.0391567
               ],
               [
                9.7432493,
                48.0406502
               ],
               [
                9.7438945,
                48.0424663
               ],
               [
                9.7447857,
                48.0433639
               ],
               [
                9.7464023,
                48.0447924
               ],
               [
                9.7473684,
                48.0461185
               ],
               [
                9.7477252,
                48.0472642
               ],
               [
                9.7474646,
                48.0483795
               ],
               [
                9.7467832,
                48.04957
               ],
               [
                9.746615,
                48.0499938
               ],
               [
                9.7466816,
                48.0504295
               ],
               [
                9.7469858,
                48.0508277
               ],
               [
                9.7477144,
                48.051583
               ],
               [
                9.7474521,
                48.0519984
               ],
               [
                9.7470141,
                48.052316
               ],
               [
                9.7458288,
                48.0529083
               ],
               [
                9.7454841,
                48.0531803
               ],
               [
                9.7448178,
                48.0539626
               ],
               [
                9.7443457,
                48.0542489
               ],
               [
                9.74312,
                48.0545986
               ],
               [
                9.7424711,
                48.0544859
               ],
               [
                9.7416525,
                48.0539965
               ],
               [
                9.7411022,
                48.0537438
               ],
               [
                9.7392055,
                48.0531399
               ],
               [
                9.7366684,
                48.0527785
               ],
               [
                9.7360039,
                48.0527378
               ],
               [
                9.7346658,
                48.0527373
               ],
               [
                9.7320161,
                48.0524709
               ],
               [
                9.7313232,
                48.0525608
               ],
               [
                9.727884,
                48.0540935
               ],
               [
                9.7267266,
                48.0543032
               ],
               [
                9.7260633,
                48.0543569
               ],
               [
                9.7232607,
                48.0544285
               ],
               [
                9.7201374,
                48.0538725
               ],
               [
                9.7194814,
                48.0539621
               ],
               [
                9.7188461,
                48.0540965
               ],
               [
                9.7182417,
                48.0542891
               ],
               [
                9.7144331,
                48.0563094
               ],
               [
                9.7132554,
                48.0562673
               ],
               [
                9.7126002,
                48.0561769
               ],
               [
                9.7119974,
                48.0559963
               ],
               [
                9.7114406,
                48.055748
               ],
               [
                9.7109436,
                48.05545869999999
               ],
               [
                9.7087016,
                48.0531342
               ],
               [
                9.7083863,
                48.0514184
               ],
               [
                9.7080625,
                48.050548
               ],
               [
                9.7077186,
                48.0501679
               ],
               [
                9.7068127,
                48.0493955
               ],
               [
                9.7050823,
                48.0488935
               ],
               [
                9.7032079,
                48.0484059
               ],
               [
                9.7026114,
                48.0482026
               ],
               [
                9.7009019,
                48.0474936
               ],
               [
                9.700375,
                48.047218
               ],
               [
                9.6987896,
                48.0462698
               ],
               [
                9.6979893,
                48.0456092
               ],
               [
                9.6964475,
                48.0426642
               ],
               [
                9.6957198,
                48.0419086
               ],
               [
                9.6952334,
                48.0416417
               ],
               [
                9.6932765,
                48.0412309
               ],
               [
                9.691545,
                48.0418663
               ],
               [
                9.6910255,
                48.0421348
               ],
               [
                9.6898903,
                48.0432433
               ],
               [
                9.6889403,
                48.04391
               ],
               [
                9.6876582,
                48.0443224
               ],
               [
                9.6850227,
                48.0448148
               ],
               [
                9.6834994,
                48.0455074
               ],
               [
                9.6827111,
                48.0462361
               ],
               [
                9.6824482,
                48.0466423
               ],
               [
                9.682121,
                48.0475122
               ],
               [
                9.6820576,
                48.0493112
               ],
               [
                9.6818704,
                48.04987
               ],
               [
                9.6808443,
                48.0513959
               ],
               [
                9.679719,
                48.0530304
               ],
               [
                9.6789067,
                48.0537457
               ],
               [
                9.6770254,
                48.0550294
               ],
               [
                9.6765364,
                48.0553336
               ],
               [
                9.6759797,
                48.0555842
               ],
               [
                9.6748014,
                48.0560093
               ],
               [
                9.6735306,
                48.0562911
               ],
               [
                9.670264,
                48.0568003
               ],
               [
                9.6677337,
                48.0559022
               ],
               [
                9.6637487,
                48.0550619
               ],
               [
                9.6603244,
                48.0542587
               ],
               [
                9.6571363,
                48.0543489
               ],
               [
                9.6538945,
                48.0544439
               ],
               [
                9.6518283,
                48.0549413
               ],
               [
                9.6502599,
                48.0547658
               ],
               [
                9.6446615,
                48.0511909
               ],
               [
                9.6442885,
                48.0500373
               ],
               [
                9.6426085,
                48.0484279
               ],
               [
                9.638372,
                48.045875
               ],
               [
                9.6376477,
                48.0453123
               ],
               [
                9.6311951,
                48.0427443
               ],
               [
                9.629981,
                48.0421619
               ],
               [
                9.6276509,
                48.0418958
               ],
               [
                9.6248175,
                48.0393751
               ],
               [
                9.6246314,
                48.0389624
               ],
               [
                9.6245021,
                48.0385269
               ],
               [
                9.6243685,
                48.0371831
               ],
               [
                9.6239971,
                48.0358541
               ],
               [
                9.6238277,
                48.0354233
               ],
               [
                9.6224319,
                48.03338019999999
               ],
               [
                9.6219754,
                48.03305
               ],
               [
                9.6214196,
                48.0328237
               ],
               [
                9.6174331,
                48.0319144
               ],
               [
                9.6172519,
                48.0316185
               ],
               [
                9.6172062,
                48.0311691
               ],
               [
                9.6173485,
                48.0307367
               ],
               [
                9.6176928,
                48.0303706
               ],
               [
                9.6191904,
                48.0294721
               ],
               [
                9.619612,
                48.0291281
               ],
               [
                9.6202697,
                48.0283466
               ],
               [
                9.620749,
                48.0275076
               ],
               [
                9.6215856,
                48.02628
               ],
               [
                9.6229777,
                48.0241499
               ],
               [
                9.6220356,
                48.0232873
               ],
               [
                9.6210206,
                48.0224967
               ],
               [
                9.6200722,
                48.0211078
               ],
               [
                9.6191173,
                48.0194492
               ],
               [
                9.618749,
                48.0186327
               ],
               [
                9.6187398,
                48.0178639
               ],
               [
                9.6190555,
                48.0170707
               ],
               [
                9.620155,
                48.0160035
               ],
               [
                9.6210359,
                48.0148431
               ],
               [
                9.6221725,
                48.0137757
               ],
               [
                9.6236682,
                48.0127603
               ],
               [
                9.6252231,
                48.0108226
               ],
               [
                9.6267834,
                48.0093483
               ],
               [
                9.6281295,
                48.0078974
               ],
               [
                9.6281429,
                48.0062335
               ],
               [
                9.628236,
                48.0050774
               ],
               [
                9.6294855,
                48.0023004
               ],
               [
                9.6313449,
                48.00312669999999
               ],
               [
                9.6319636,
                48.0035865
               ],
               [
                9.632328,
                48.0038003
               ],
               [
                9.6327566,
                48.0040498
               ],
               [
                9.6336422,
                48.0044136
               ],
               [
                9.6340848,
                48.0044471
               ],
               [
                9.6341486,
                48.0044558
               ],
               [
                9.6342054,
                48.004442
               ],
               [
                9.6346399,
                48.0043586
               ],
               [
                9.6347143,
                48.0044167
               ],
               [
                9.6347956,
                48.00448369999999
               ],
               [
                9.6349647,
                48.0046177
               ],
               [
                9.6350874,
                48.0047834
               ],
               [
                9.6351998,
                48.0049356
               ],
               [
                9.6352675,
                48.0049937
               ],
               [
                9.635525,
                48.0052216
               ],
               [
                9.6354,
                48.0054112
               ],
               [
                9.6351785,
                48.0056552
               ],
               [
                9.6354132,
                48.0059417
               ],
               [
                9.6359115,
                48.0061368
               ],
               [
                9.6361768,
                48.006738
               ],
               [
                9.6362886,
                48.0070971
               ],
               [
                9.6367508,
                48.0073643
               ],
               [
                9.6369975,
                48.0078081
               ],
               [
                9.637458,
                48.007927
               ],
               [
                9.6378829,
                48.008145
               ],
               [
                9.6378678,
                48.0085543
               ],
               [
                9.6380395,
                48.0088951
               ],
               [
                9.6386486,
                48.009103
               ],
               [
                9.6385962,
                48.0094721
               ],
               [
                9.6387644,
                48.0098039
               ],
               [
                9.6394107,
                48.0103085
               ],
               [
                9.6399864,
                48.0105346
               ],
               [
                9.6405092,
                48.0108105
               ],
               [
                9.6411509,
                48.0109419
               ],
               [
                9.6419526,
                48.0110138
               ],
               [
                9.6426113,
                48.0111721
               ],
               [
                9.6430963,
                48.0113671
               ],
               [
                9.6435021,
                48.0116661
               ],
               [
                9.6438387,
                48.0120555
               ],
               [
                9.644375,
                48.01287989999999
               ],
               [
                9.6450443,
                48.0141487
               ],
               [
                9.6459675,
                48.0153487
               ],
               [
                9.6464619,
                48.0157732
               ],
               [
                9.6474754,
                48.0164239
               ],
               [
                9.6480749,
                48.0171941
               ],
               [
                9.6485358,
                48.0176051
               ],
               [
                9.6490216,
                48.0178632
               ],
               [
                9.6501539,
                48.0183604
               ],
               [
                9.6509396,
                48.0190126
               ],
               [
                9.6512417,
                48.019321
               ],
               [
                9.6519547,
                48.0205761
               ],
               [
                9.6524247,
                48.0209107
               ],
               [
                9.6531023,
                48.0209608
               ],
               [
                9.6536432,
                48.0210612
               ],
               [
                9.6539969,
                48.0211941
               ],
               [
                9.6551146,
                48.0210663
               ],
               [
                9.6555398,
                48.0213022
               ],
               [
                9.6560267,
                48.0216456
               ],
               [
                9.6569945,
                48.0221078
               ],
               [
                9.6573763,
                48.0223484
               ],
               [
                9.658213,
                48.0225145
               ],
               [
                9.6586574,
                48.022413
               ],
               [
                9.6595529,
                48.0216749
               ],
               [
                9.6600549,
                48.0213528
               ],
               [
                9.6604507,
                48.0211167
               ],
               [
                9.661072,
                48.0209557
               ],
               [
                9.6618489,
                48.0209018
               ],
               [
                9.6624274,
                48.0210648
               ],
               [
                9.663226,
                48.0211411
               ],
               [
                9.6638626,
                48.021124
               ],
               [
                9.6650606,
                48.0207213
               ],
               [
                9.6655605,
                48.0205026
               ],
               [
                9.6665742,
                48.02036179999999
               ],
               [
                9.6678112,
                48.0206468
               ],
               [
                9.6691967,
                48.0210211
               ],
               [
                9.6707805,
                48.0216684
               ],
               [
                9.6728197,
                48.02283459999999
               ],
               [
                9.6734158,
                48.0230425
               ],
               [
                9.6740378,
                48.0231962
               ],
               [
                9.6753566,
                48.0233144
               ],
               [
                9.6760192,
                48.0232431
               ],
               [
                9.6766612,
                48.0231269
               ],
               [
                9.6772653,
                48.0229344
               ],
               [
                9.6779042,
                48.0228362
               ],
               [
                9.6792446,
                48.0228193
               ],
               [
                9.6805763,
                48.0228924
               ],
               [
                9.6819016,
                48.0227586
               ],
               [
                9.6838443,
                48.0224098
               ],
               [
                9.6870153,
                48.0216894
               ],
               [
                9.6903616,
                48.021557
               ],
               [
                9.6909598,
                48.0214185
               ],
               [
                9.6914517,
                48.0211142
               ],
               [
                9.6911932,
                48.02008149999999
               ],
               [
                9.6907846,
                48.0195938
               ],
               [
                9.6906863,
                48.0192751
               ],
               [
                9.690658,
                48.0189111
               ],
               [
                9.6908272,
                48.0185233
               ],
               [
                9.6910402,
                48.0181578
               ],
               [
                9.6912335,
                48.0178284
               ],
               [
                9.691358,
                48.0176118
               ],
               [
                9.6913076,
                48.0173558
               ],
               [
                9.6911437,
                48.0171139
               ],
               [
                9.6910444,
                48.0167143
               ],
               [
                9.6910905,
                48.0166279
               ],
               [
                9.6912274,
                48.0163714
               ],
               [
                9.6915128,
                48.01615839999999
               ],
               [
                9.6921124,
                48.0161413
               ],
               [
                9.6926369,
                48.0162685
               ],
               [
                9.6932971,
                48.0165209
               ],
               [
                9.6933821,
                48.0168621
               ],
               [
                9.6934706,
                48.0172123
               ],
               [
                9.6937604,
                48.0173319
               ],
               [
                9.6943381,
                48.017432
               ],
               [
                9.6949186,
                48.0174869
               ],
               [
                9.6956004,
                48.0173433
               ],
               [
                9.6962973,
                48.017582
               ],
               [
                9.6968075,
                48.0178891
               ],
               [
                9.6973189,
                48.0180389
               ],
               [
                9.6980819,
                48.0179579
               ],
               [
                9.6990263,
                48.0176643
               ],
               [
                9.6999131,
                48.0175735
               ],
               [
                9.7004442,
                48.0174398
               ],
               [
                9.701262,
                48.017201
               ],
               [
                9.70203,
                48.016994
               ],
               [
                9.7027723,
                48.0158877
               ],
               [
                9.7037795,
                48.0150407
               ],
               [
                9.7045857,
                48.014694
               ],
               [
                9.7050826,
                48.0145155
               ],
               [
                9.705414,
                48.0142437
               ],
               [
                9.7055743,
                48.0139594
               ],
               [
                9.7058881,
                48.013872
               ],
               [
                9.7061473,
                48.0139649
               ],
               [
                9.7064307,
                48.0140935
               ],
               [
                9.7066277,
                48.0142902
               ],
               [
                9.7068461,
                48.0143294
               ],
               [
                9.7072331,
                48.0142055
               ],
               [
                9.7076677,
                48.0141309
               ],
               [
                9.7081868,
                48.0141052
               ],
               [
                9.7086494,
                48.0138775
               ],
               [
                9.7088387,
                48.0135031
               ],
               [
                9.7091499,
                48.0132268
               ],
               [
                9.7090252,
                48.0129309
               ],
               [
                9.7088267,
                48.0126308
               ],
               [
                9.708693,
                48.0124068
               ],
               [
                9.7086346,
                48.0120609
               ],
               [
                9.7089122,
                48.0117804
               ],
               [
                9.709353,
                48.0114224
               ],
               [
                9.7097985,
                48.010925
               ],
               [
                9.710012,
                48.0106134
               ],
               [
                9.7100716,
                48.0103118
               ],
               [
                9.7101014,
                48.0100463
               ],
               [
                9.7103586,
                48.0097434
               ],
               [
                9.7107003,
                48.0094895
               ],
               [
                9.711099,
                48.0092442
               ],
               [
                9.7116275,
                48.009178
               ],
               [
                9.7120743,
                48.0092606
               ],
               [
                9.7124523,
                48.0092178
               ],
               [
                9.7129709,
                48.0091606
               ],
               [
                9.7134677,
                48.0089821
               ],
               [
                9.7138556,
                48.0089393
               ],
               [
                9.7143626,
                48.0087743
               ],
               [
                9.7146076,
                48.0085479
               ],
               [
                9.7148987,
                48.0082763
               ],
               [
                9.7150349,
                48.0079517
               ],
               [
                9.7149228,
                48.0075971
               ],
               [
                9.7143942,
                48.0071687
               ],
               [
                9.7142368,
                48.0066885
               ],
               [
                9.7138837,
                48.0061106
               ],
               [
                9.713271,
                48.0056513
               ],
               [
                9.7129123,
                48.0049115
               ],
               [
                9.7128174,
                48.0043455
               ],
               [
                9.7132021,
                48.003817
               ],
               [
                9.7140516,
                48.0034655
               ],
               [
                9.7146572,
                48.0029221
               ],
               [
                9.7152833,
                48.00241
               ],
               [
                9.7158128,
                48.0019391
               ],
               [
                9.7165496,
                48.0014354
               ],
               [
                9.7171474,
                48.0013057
               ],
               [
                9.7180118,
                48.0010575
               ],
               [
                9.718593,
                48.0009369
               ],
               [
                9.7188109,
                48.0007017
               ],
               [
                9.7187572,
                48.0002164
               ],
               [
                9.7187678,
                47.9997712
               ],
               [
                9.7183459,
                47.9990633
               ],
               [
                9.7179936,
                47.9985439
               ],
               [
                9.7167036,
                47.9975581
               ],
               [
                9.7162537,
                47.9962748
               ],
               [
                9.7161873,
                47.9958346
               ],
               [
                9.7163223,
                47.9949389
               ],
               [
                9.7167731,
                47.9936275
               ],
               [
                9.7167136,
                47.9931961
               ],
               [
                9.7163331,
                47.9923306
               ],
               [
                9.7159428,
                47.9914742
               ],
               [
                9.7141542,
                47.9885624
               ],
               [
                9.7138506,
                47.988164
               ],
               [
                9.7127927,
                47.9869879
               ],
               [
                9.7123829,
                47.9861585
               ],
               [
                9.7122922,
                47.98566
               ],
               [
                9.7128141,
                47.9848923
               ],
               [
                9.7130394,
                47.9844728
               ],
               [
                9.7130037,
                47.983578
               ],
               [
                9.7121735,
                47.9828727
               ],
               [
                9.7110658,
                47.9822049
               ],
               [
                9.7097244,
                47.9813409
               ],
               [
                9.7093112,
                47.9809972
               ],
               [
                9.7090043,
                47.9805944
               ],
               [
                9.708811,
                47.9801729
               ],
               [
                9.7081813,
                47.9779643
               ],
               [
                9.7076979,
                47.9766542
               ],
               [
                9.7075981,
                47.9762096
               ],
               [
                9.7075019,
                47.975293
               ],
               [
                9.7073092,
                47.9744217
               ],
               [
                9.707176,
                47.9739818
               ],
               [
                9.7067879,
                47.9730308
               ],
               [
                9.7062839,
                47.9729035
               ],
               [
                9.7056466,
                47.9728175
               ],
               [
                9.7049881,
                47.9729025
               ],
               [
                9.7044353,
                47.9731217
               ],
               [
                9.7039505,
                47.9734305
               ],
               [
                9.7031434,
                47.9741504
               ],
               [
                9.7026957,
                47.9744725
               ],
               [
                9.7014717,
                47.9748352
               ],
               [
                9.700067,
                47.9752036
               ],
               [
                9.6986323,
                47.9760846
               ],
               [
                9.6980731,
                47.9768255
               ],
               [
                9.6976069,
                47.9770172
               ],
               [
                9.6961386,
                47.9769002
               ],
               [
                9.6950085,
                47.9765293
               ],
               [
                9.6940631,
                47.9759504
               ],
               [
                9.6936268,
                47.9756248
               ],
               [
                9.6935137,
                47.9751803
               ],
               [
                9.6935045,
                47.9747441
               ],
               [
                9.6940224,
                47.9739137
               ],
               [
                9.6943624,
                47.9730481
               ],
               [
                9.6944535,
                47.9726024
               ],
               [
                9.6944047,
                47.9717078
               ],
               [
                9.6944992,
                47.9712621
               ],
               [
                9.6945498,
                47.9702904
               ],
               [
                9.6943502,
                47.9694013
               ],
               [
                9.6940652,
                47.9687799
               ],
               [
                9.6936739,
                47.9681493
               ],
               [
                9.6934315,
                47.9677925
               ],
               [
                9.6941724,
                47.9671957
               ],
               [
                9.6945497,
                47.9665726
               ],
               [
                9.6952491,
                47.9665179
               ],
               [
                9.6960537,
                47.9665939
               ],
               [
                9.6966727,
                47.9667051
               ],
               [
                9.6974201,
                47.9669504
               ],
               [
                9.6980224,
                47.9670789
               ],
               [
                9.6986449,
                47.9671286
               ],
               [
                9.6991956,
                47.9669789
               ],
               [
                9.6996737,
                47.9669617
               ],
               [
                9.6997404,
                47.9667793
               ],
               [
                9.6998454,
                47.9666858
               ],
               [
                9.7000624,
                47.9666167
               ],
               [
                9.7002579,
                47.9665334
               ],
               [
                9.7004949,
                47.9663713
               ],
               [
                9.7008577,
                47.966206
               ],
               [
                9.7006728,
                47.9659426
               ],
               [
                9.7006194,
                47.9657677
               ],
               [
                9.7007311,
                47.9656433
               ],
               [
                9.7009399,
                47.965476
               ],
               [
                9.7020852,
                47.9650013
               ],
               [
                9.7024187,
                47.9646665
               ],
               [
                9.7025938,
                47.96424719999999
               ],
               [
                9.7025811,
                47.9638021
               ],
               [
                9.702458,
                47.9633622
               ],
               [
                9.7022213,
                47.9629454
               ],
               [
                9.7015447,
                47.9621716
               ],
               [
                9.7012095,
                47.96172149999999
               ],
               [
                9.7010573,
                47.961469
               ],
               [
                9.7010326,
                47.9612158
               ],
               [
                9.7012409,
                47.9605042
               ],
               [
                9.7013778,
                47.9596288
               ],
               [
                9.7014164,
                47.9583398
               ],
               [
                9.7008615,
                47.957963
               ],
               [
                9.7028357,
                47.9566686
               ],
               [
                9.7035812,
                47.9558456
               ],
               [
                9.7048896,
                47.9538499
               ],
               [
                9.7052864,
                47.9534968
               ],
               [
                9.7057405,
                47.9531657
               ],
               [
                9.705866,
                47.952358
               ],
               [
                9.7059177,
                47.9516022
               ],
               [
                9.7063022,
                47.9512251
               ],
               [
                9.7066235,
                47.950765
               ],
               [
                9.7069232,
                47.9505186
               ],
               [
                9.7071934,
                47.9500836
               ],
               [
                9.7071092,
                47.9495656
               ],
               [
                9.707084,
                47.9488148
               ],
               [
                9.7073303,
                47.9480458
               ],
               [
                9.7077607,
                47.9475075
               ],
               [
                9.7084189,
                47.9479558
               ],
               [
                9.7089222,
                47.9482477
               ],
               [
                9.7102341,
                47.9483467
               ],
               [
                9.7124225,
                47.9484402
               ],
               [
                9.7133443,
                47.9484999
               ],
               [
                9.713945,
                47.9483951
               ],
               [
                9.714441,
                47.9482896
               ],
               [
                9.7146162,
                47.9482719
               ],
               [
                9.7153544,
                47.9485053
               ],
               [
                9.7157658,
                47.9488002
               ],
               [
                9.716372,
                47.9490938
               ],
               [
                9.7169375,
                47.9496436
               ],
               [
                9.7171506,
                47.9499814
               ],
               [
                9.7175678,
                47.9503951
               ],
               [
                9.7182626,
                47.950604
               ],
               [
                9.7183467,
                47.951266
               ],
               [
                9.7185522,
                47.9515288
               ],
               [
                9.7192984,
                47.9516955
               ],
               [
                9.7202687,
                47.9523105
               ],
               [
                9.7209132,
                47.9528061
               ],
               [
                9.7212545,
                47.9532752
               ],
               [
                9.7217891,
                47.9535145
               ],
               [
                9.7225079,
                47.9532387
               ],
               [
                9.7230493,
                47.9530086
               ],
               [
                9.7245978,
                47.9522074
               ],
               [
                9.7280455,
                47.9500766
               ],
               [
                9.7285738,
                47.9498034
               ],
               [
                9.7298787,
                47.949305
               ],
               [
                9.7309862,
                47.9490461
               ],
               [
                9.7321343,
                47.9485847
               ],
               [
                9.7328104,
                47.948351
               ],
               [
                9.7333893,
                47.9483428
               ],
               [
                9.7340308,
                47.9482667
               ],
               [
                9.7345694,
                47.9480115
               ],
               [
                9.7348684,
                47.9476228
               ],
               [
                9.734832,
                47.9471824
               ],
               [
                9.7326789,
                47.943783
               ],
               [
                9.732674,
                47.9434323
               ],
               [
                9.7328959,
                47.9430306
               ],
               [
                9.7333059,
                47.9426818
               ],
               [
                9.7347191,
                47.942286
               ],
               [
                9.7366021,
                47.9419772
               ],
               [
                9.7384864,
                47.9417627
               ],
               [
                9.7399753,
                47.9419825
               ],
               [
                9.7410782,
                47.9423531
               ],
               [
                9.742152,
                47.9427958
               ],
               [
                9.7432211,
                47.9433735
               ],
               [
                9.7444305,
                47.9436985
               ],
               [
                9.7451041,
                47.9435322
               ],
               [
                9.7456362,
                47.9433039
               ],
               [
                9.7459416,
                47.9429062
               ],
               [
                9.74683,
                47.942082
               ],
               [
                9.7479477,
                47.9416161
               ],
               [
                9.7501376,
                47.9407878
               ],
               [
                9.7511115,
                47.9401024
               ],
               [
                9.7516351,
                47.938832
               ],
               [
                9.7531483,
                47.9388839
               ],
               [
                9.7544751,
                47.9388038
               ],
               [
                9.756154,
                47.9389362
               ],
               [
                9.7579435,
                47.9402821
               ],
               [
                9.7582257,
                47.9406871
               ],
               [
                9.7580014,
                47.9413311
               ],
               [
                9.7576704,
                47.9419472
               ],
               [
                9.7575362,
                47.9423941
               ],
               [
                9.7576366,
                47.9426661
               ],
               [
                9.7575608,
                47.9429283
               ],
               [
                9.7572095,
                47.943127
               ],
               [
                9.7566352,
                47.9432081
               ],
               [
                9.756492,
                47.9443155
               ],
               [
                9.7559711,
                47.9444201
               ],
               [
                9.7548665,
                47.9449704
               ],
               [
                9.7544208,
                47.9453405
               ],
               [
                9.7540669,
                47.9458461
               ],
               [
                9.7539725,
                47.9461751
               ],
               [
                9.7540103,
                47.9463414
               ],
               [
                9.7543395,
                47.9465677
               ],
               [
                9.755116,
                47.9467046
               ],
               [
                9.7558743,
                47.9468175
               ],
               [
                9.7562164,
                47.9471567
               ],
               [
                9.7570414,
                47.9473797
               ],
               [
                9.7577565,
                47.9478414
               ],
               [
                9.758966,
                47.9478298
               ],
               [
                9.7608851,
                47.9487216
               ],
               [
                9.7613913,
                47.9490061
               ],
               [
                9.7618981,
                47.9499104
               ],
               [
                9.7626968,
                47.9502668
               ],
               [
                9.7638035,
                47.9503737
               ],
               [
                9.7646266,
                47.9505332
               ],
               [
                9.7647896,
                47.9501752
               ],
               [
                9.7650525,
                47.9498961
               ],
               [
                9.7653636,
                47.9494664
               ],
               [
                9.7658217,
                47.9493057
               ],
               [
                9.7665207,
                47.9492713
               ],
               [
                9.7670549,
                47.9485658
               ],
               [
                9.7673549,
                47.9484983
               ],
               [
                9.767726,
                47.9481449
               ],
               [
                9.7683549,
                47.947801
               ],
               [
                9.7688859,
                47.9472418
               ],
               [
                9.7697279,
                47.9474463
               ],
               [
                9.770953,
                47.9474941
               ],
               [
                9.7722411,
                47.947487
               ],
               [
                9.7729759,
                47.9472976
               ],
               [
                9.7739205,
                47.9469048
               ],
               [
                9.774405,
                47.9466317
               ],
               [
                9.7745349,
                47.9458521
               ],
               [
                9.7743244,
                47.9450678
               ],
               [
                9.774247,
                47.9441545
               ],
               [
                9.7747272,
                47.9435802
               ],
               [
                9.7759436,
                47.9432172
               ],
               [
                9.776309,
                47.9427842
               ],
               [
                9.7762519,
                47.9423517
               ],
               [
                9.7761596,
                47.9420285
               ],
               [
                9.7770152,
                47.9416944
               ],
               [
                9.77736,
                47.9413065
               ],
               [
                9.777258,
                47.9407125
               ],
               [
                9.7770795,
                47.9403161
               ],
               [
                9.7778683,
                47.9398713
               ],
               [
                9.7785057,
                47.9397782
               ],
               [
                9.7787049,
                47.9395984
               ],
               [
                9.7788275,
                47.9392763
               ],
               [
                9.7791002,
                47.9390389
               ],
               [
                9.7788675,
                47.938398
               ],
               [
                9.7793945,
                47.9381231
               ],
               [
                9.7802047,
                47.9376036
               ],
               [
                9.7807964,
                47.9373854
               ],
               [
                9.7811916,
                47.9368188
               ],
               [
                9.7825398,
                47.9363686
               ],
               [
                9.7828133,
                47.9358726
               ],
               [
                9.7831671,
                47.9353847
               ],
               [
                9.7841602,
                47.935021
               ],
               [
                9.785349,
                47.9349516
               ],
               [
                9.7860108,
                47.9355655
               ],
               [
                9.7870763,
                47.9361068
               ],
               [
                9.7882209,
                47.9365666
               ],
               [
                9.788836,
                47.9367468
               ],
               [
                9.7896514,
                47.9371189
               ],
               [
                9.7913905,
                47.937723
               ],
               [
                9.7917545,
                47.9381117
               ],
               [
                9.7927526,
                47.9386175
               ],
               [
                9.7931362,
                47.9387543
               ],
               [
                9.7935198,
                47.9391158
               ],
               [
                9.793901,
                47.9399721
               ],
               [
                9.7940482,
                47.9404073
               ],
               [
                9.7948212,
                47.9406223
               ],
               [
                9.7957109,
                47.9405982
               ],
               [
                9.7971145,
                47.9409167
               ],
               [
                9.7983153,
                47.9410972
               ],
               [
                9.7998202,
                47.9412576
               ],
               [
                9.8008728,
                47.94181239999999
               ],
               [
                9.8015678,
                47.9423877
               ],
               [
                9.8020389,
                47.9432073
               ],
               [
                9.801952,
                47.9440803
               ],
               [
                9.8023146,
                47.9445904
               ],
               [
                9.8039405,
                47.9460675
               ],
               [
                9.8052505,
                47.9468093
               ],
               [
                9.8060522,
                47.9475727
               ],
               [
                9.807182,
                47.9481314
               ],
               [
                9.8076766,
                47.9489328
               ],
               [
                9.8078721,
                47.9498893
               ],
               [
                9.8079644,
                47.9510848
               ],
               [
                9.8078192,
                47.9531544
               ],
               [
                9.8074988,
                47.9538582
               ],
               [
                9.8071274,
                47.9545128
               ],
               [
                9.8068693,
                47.9555579
               ],
               [
                9.8052158,
                47.9557764
               ],
               [
                9.8044809,
                47.9560919
               ],
               [
                9.8039104,
                47.9564286
               ],
               [
                9.8028902,
                47.9569034
               ],
               [
                9.8017257,
                47.9571198
               ],
               [
                9.8013626,
                47.957465
               ],
               [
                9.8012073,
                47.9584179
               ],
               [
                9.8008852,
                47.9603709
               ],
               [
                9.8004884,
                47.9613405
               ],
               [
                9.799928,
                47.9623383
               ],
               [
                9.7994031,
                47.9630344
               ],
               [
                9.7987564,
                47.9636461
               ],
               [
                9.7975805,
                47.9646795
               ],
               [
                9.7982878,
                47.9653895
               ],
               [
                9.7988751,
                47.9661319
               ],
               [
                9.8008811,
                47.9678029
               ],
               [
                9.802149,
                47.9695907
               ],
               [
                9.8025797,
                47.9710868
               ],
               [
                9.8023885,
                47.9724683
               ],
               [
                9.8017902,
                47.9727342
               ],
               [
                9.8024394,
                47.9734674
               ],
               [
                9.8022898,
                47.97412159999999
               ],
               [
                9.802016,
                47.9750363
               ],
               [
                9.8015012,
                47.9761731
               ],
               [
                9.8008946,
                47.9770048
               ],
               [
                9.8003776,
                47.9780022
               ],
               [
                9.8004289,
                47.9787213
               ],
               [
                9.8007288,
                47.9794927
               ],
               [
                9.8023981,
                47.9811089
               ],
               [
                9.8033999,
                47.9820148
               ],
               [
                9.8045661,
                47.9829195
               ],
               [
                9.8054878,
                47.9838259
               ],
               [
                9.8060779,
                47.9847301
               ],
               [
                9.8067113,
                47.9858319
               ],
               [
                9.8063559,
                47.9866618
               ],
               [
                9.8055458,
                47.9875534
               ],
               [
                9.8048553,
                47.9881653
               ],
               [
                9.8037961,
                47.9889731
               ],
               [
                9.8013907,
                47.9904559
               ],
               [
                9.8003745,
                47.9912365
               ],
               [
                9.8012155,
                47.9923368
               ],
               [
                9.8023087,
                47.9939301
               ],
               [
                9.8026527,
                47.99472809999999
               ],
               [
                9.8022079,
                47.9952034
               ],
               [
                9.8002463,
                47.9961569
               ],
               [
                9.7988606,
                47.997102
               ],
               [
                9.7982106,
                47.9977449
               ],
               [
                9.7972767,
                47.9984395
               ],
               [
                9.7961261,
                47.9985598
               ],
               [
                9.794687,
                47.9986507
               ],
               [
                9.7933311,
                47.9989389
               ],
               [
                9.7910872,
                48.0002809
               ],
               [
                9.7897,
                48.00092449999999
               ],
               [
                9.7886332,
                48.0012646
               ],
               [
                9.787932,
                48.0016472
               ],
               [
                9.788086,
                48.0020733
               ],
               [
                9.7885779,
                48.0029198
               ],
               [
                9.788742,
                48.0033504
               ],
               [
                9.788947,
                48.0055974
               ],
               [
                9.7890276,
                48.0060419
               ],
               [
                9.7891847,
                48.0064547
               ],
               [
                9.7895093,
                48.0068706
               ],
               [
                9.7900194,
                48.0071459
               ],
               [
                9.7928655,
                48.0083315
               ],
               [
                9.7934682,
                48.0085252
               ],
               [
                9.7946485,
                48.0088003
               ],
               [
                9.7959744,
                48.0091644
               ],
               [
                9.798694,
                48.0104001
               ],
               [
                9.7993672,
                48.0105932
               ],
               [
                9.8006998,
                48.0105301
               ],
               [
                9.8013666,
                48.0105299
               ],
               [
                9.8018831,
                48.0107781
               ],
               [
                9.8028014,
                48.0114328
               ],
               [
                9.8033812,
                48.011658
               ],
               [
                9.8053491,
                48.0119321
               ],
               [
                9.8078584,
                48.011901
               ],
               [
                9.8092089,
                48.0116936
               ],
               [
                9.8105946,
                48.0113825
               ],
               [
                9.8112119,
                48.0112118
               ],
               [
                9.8123844,
                48.0107718
               ],
               [
                9.8134346,
                48.0102158
               ],
               [
                9.8145993,
                48.0092812
               ],
               [
                9.8155022,
                48.0095896
               ],
               [
                9.8156398,
                48.0100293
               ],
               [
                9.8159103,
                48.0125662
               ],
               [
                9.8159268,
                48.0127208
               ],
               [
                9.8161151,
                48.0136099
               ],
               [
                9.8165707,
                48.0144519
               ],
               [
                9.817344,
                48.0150356
               ],
               [
                9.8196441,
                48.0161704
               ],
               [
                9.8201348,
                48.0164727
               ],
               [
                9.8205559,
                48.0168249
               ],
               [
                9.8219102,
                48.0177942
               ],
               [
                9.8218552,
                48.0194214
               ],
               [
                9.8220086,
                48.0205953
               ],
               [
                9.8230992,
                48.0214009
               ],
               [
                9.8250021,
                48.0224538
               ],
               [
                9.8257755,
                48.0236412
               ],
               [
                9.8264988,
                48.025064
               ],
               [
                9.8265153,
                48.0260943
               ],
               [
                9.8251848,
                48.0271522
               ],
               [
                9.8220894,
                48.0273733
               ],
               [
                9.819755,
                48.02800449999999
               ],
               [
                9.8179617,
                48.0287765
               ],
               [
                9.8167603,
                48.02949
               ],
               [
                9.8159437,
                48.0309037
               ]
              ]
             ],
             "type": "Polygon"
            },
            "id": "0",
            "properties": {},
            "type": "Feature"
           }
          ],
          "type": "FeatureCollection"
         },
         "locations": [
          0
         ],
         "marker": {
          "line": {
           "width": 0
          },
          "opacity": 0.5
         },
         "name": "BASIS EZG",
         "showlegend": true,
         "showscale": false,
         "type": "choroplethmapbox",
         "z": [
          1
         ]
        }
       ],
       "layout": {
        "legend": {
         "x": 0.01,
         "xanchor": "left",
         "y": 0.99,
         "yanchor": "top"
        },
        "mapbox": {
         "center": {
          "lat": 48.0367046335739,
          "lon": 9.787299650195065
         },
         "style": "carto-positron",
         "zoom": 9
        },
        "margin": {
         "b": 0,
         "l": 0,
         "r": 0,
         "t": 0
        },
        "template": {
         "data": {
          "bar": [
           {
            "error_x": {
             "color": "#2a3f5f"
            },
            "error_y": {
             "color": "#2a3f5f"
            },
            "marker": {
             "line": {
              "color": "#E5ECF6",
              "width": 0.5
             },
             "pattern": {
              "fillmode": "overlay",
              "size": 10,
              "solidity": 0.2
             }
            },
            "type": "bar"
           }
          ],
          "barpolar": [
           {
            "marker": {
             "line": {
              "color": "#E5ECF6",
              "width": 0.5
             },
             "pattern": {
              "fillmode": "overlay",
              "size": 10,
              "solidity": 0.2
             }
            },
            "type": "barpolar"
           }
          ],
          "carpet": [
           {
            "aaxis": {
             "endlinecolor": "#2a3f5f",
             "gridcolor": "white",
             "linecolor": "white",
             "minorgridcolor": "white",
             "startlinecolor": "#2a3f5f"
            },
            "baxis": {
             "endlinecolor": "#2a3f5f",
             "gridcolor": "white",
             "linecolor": "white",
             "minorgridcolor": "white",
             "startlinecolor": "#2a3f5f"
            },
            "type": "carpet"
           }
          ],
          "choropleth": [
           {
            "colorbar": {
             "outlinewidth": 0,
             "ticks": ""
            },
            "type": "choropleth"
           }
          ],
          "contour": [
           {
            "colorbar": {
             "outlinewidth": 0,
             "ticks": ""
            },
            "colorscale": [
             [
              0,
              "#0d0887"
             ],
             [
              0.1111111111111111,
              "#46039f"
             ],
             [
              0.2222222222222222,
              "#7201a8"
             ],
             [
              0.3333333333333333,
              "#9c179e"
             ],
             [
              0.4444444444444444,
              "#bd3786"
             ],
             [
              0.5555555555555556,
              "#d8576b"
             ],
             [
              0.6666666666666666,
              "#ed7953"
             ],
             [
              0.7777777777777778,
              "#fb9f3a"
             ],
             [
              0.8888888888888888,
              "#fdca26"
             ],
             [
              1,
              "#f0f921"
             ]
            ],
            "type": "contour"
           }
          ],
          "contourcarpet": [
           {
            "colorbar": {
             "outlinewidth": 0,
             "ticks": ""
            },
            "type": "contourcarpet"
           }
          ],
          "heatmap": [
           {
            "colorbar": {
             "outlinewidth": 0,
             "ticks": ""
            },
            "colorscale": [
             [
              0,
              "#0d0887"
             ],
             [
              0.1111111111111111,
              "#46039f"
             ],
             [
              0.2222222222222222,
              "#7201a8"
             ],
             [
              0.3333333333333333,
              "#9c179e"
             ],
             [
              0.4444444444444444,
              "#bd3786"
             ],
             [
              0.5555555555555556,
              "#d8576b"
             ],
             [
              0.6666666666666666,
              "#ed7953"
             ],
             [
              0.7777777777777778,
              "#fb9f3a"
             ],
             [
              0.8888888888888888,
              "#fdca26"
             ],
             [
              1,
              "#f0f921"
             ]
            ],
            "type": "heatmap"
           }
          ],
          "heatmapgl": [
           {
            "colorbar": {
             "outlinewidth": 0,
             "ticks": ""
            },
            "colorscale": [
             [
              0,
              "#0d0887"
             ],
             [
              0.1111111111111111,
              "#46039f"
             ],
             [
              0.2222222222222222,
              "#7201a8"
             ],
             [
              0.3333333333333333,
              "#9c179e"
             ],
             [
              0.4444444444444444,
              "#bd3786"
             ],
             [
              0.5555555555555556,
              "#d8576b"
             ],
             [
              0.6666666666666666,
              "#ed7953"
             ],
             [
              0.7777777777777778,
              "#fb9f3a"
             ],
             [
              0.8888888888888888,
              "#fdca26"
             ],
             [
              1,
              "#f0f921"
             ]
            ],
            "type": "heatmapgl"
           }
          ],
          "histogram": [
           {
            "marker": {
             "pattern": {
              "fillmode": "overlay",
              "size": 10,
              "solidity": 0.2
             }
            },
            "type": "histogram"
           }
          ],
          "histogram2d": [
           {
            "colorbar": {
             "outlinewidth": 0,
             "ticks": ""
            },
            "colorscale": [
             [
              0,
              "#0d0887"
             ],
             [
              0.1111111111111111,
              "#46039f"
             ],
             [
              0.2222222222222222,
              "#7201a8"
             ],
             [
              0.3333333333333333,
              "#9c179e"
             ],
             [
              0.4444444444444444,
              "#bd3786"
             ],
             [
              0.5555555555555556,
              "#d8576b"
             ],
             [
              0.6666666666666666,
              "#ed7953"
             ],
             [
              0.7777777777777778,
              "#fb9f3a"
             ],
             [
              0.8888888888888888,
              "#fdca26"
             ],
             [
              1,
              "#f0f921"
             ]
            ],
            "type": "histogram2d"
           }
          ],
          "histogram2dcontour": [
           {
            "colorbar": {
             "outlinewidth": 0,
             "ticks": ""
            },
            "colorscale": [
             [
              0,
              "#0d0887"
             ],
             [
              0.1111111111111111,
              "#46039f"
             ],
             [
              0.2222222222222222,
              "#7201a8"
             ],
             [
              0.3333333333333333,
              "#9c179e"
             ],
             [
              0.4444444444444444,
              "#bd3786"
             ],
             [
              0.5555555555555556,
              "#d8576b"
             ],
             [
              0.6666666666666666,
              "#ed7953"
             ],
             [
              0.7777777777777778,
              "#fb9f3a"
             ],
             [
              0.8888888888888888,
              "#fdca26"
             ],
             [
              1,
              "#f0f921"
             ]
            ],
            "type": "histogram2dcontour"
           }
          ],
          "mesh3d": [
           {
            "colorbar": {
             "outlinewidth": 0,
             "ticks": ""
            },
            "type": "mesh3d"
           }
          ],
          "parcoords": [
           {
            "line": {
             "colorbar": {
              "outlinewidth": 0,
              "ticks": ""
             }
            },
            "type": "parcoords"
           }
          ],
          "pie": [
           {
            "automargin": true,
            "type": "pie"
           }
          ],
          "scatter": [
           {
            "fillpattern": {
             "fillmode": "overlay",
             "size": 10,
             "solidity": 0.2
            },
            "type": "scatter"
           }
          ],
          "scatter3d": [
           {
            "line": {
             "colorbar": {
              "outlinewidth": 0,
              "ticks": ""
             }
            },
            "marker": {
             "colorbar": {
              "outlinewidth": 0,
              "ticks": ""
             }
            },
            "type": "scatter3d"
           }
          ],
          "scattercarpet": [
           {
            "marker": {
             "colorbar": {
              "outlinewidth": 0,
              "ticks": ""
             }
            },
            "type": "scattercarpet"
           }
          ],
          "scattergeo": [
           {
            "marker": {
             "colorbar": {
              "outlinewidth": 0,
              "ticks": ""
             }
            },
            "type": "scattergeo"
           }
          ],
          "scattergl": [
           {
            "marker": {
             "colorbar": {
              "outlinewidth": 0,
              "ticks": ""
             }
            },
            "type": "scattergl"
           }
          ],
          "scattermapbox": [
           {
            "marker": {
             "colorbar": {
              "outlinewidth": 0,
              "ticks": ""
             }
            },
            "type": "scattermapbox"
           }
          ],
          "scatterpolar": [
           {
            "marker": {
             "colorbar": {
              "outlinewidth": 0,
              "ticks": ""
             }
            },
            "type": "scatterpolar"
           }
          ],
          "scatterpolargl": [
           {
            "marker": {
             "colorbar": {
              "outlinewidth": 0,
              "ticks": ""
             }
            },
            "type": "scatterpolargl"
           }
          ],
          "scatterternary": [
           {
            "marker": {
             "colorbar": {
              "outlinewidth": 0,
              "ticks": ""
             }
            },
            "type": "scatterternary"
           }
          ],
          "surface": [
           {
            "colorbar": {
             "outlinewidth": 0,
             "ticks": ""
            },
            "colorscale": [
             [
              0,
              "#0d0887"
             ],
             [
              0.1111111111111111,
              "#46039f"
             ],
             [
              0.2222222222222222,
              "#7201a8"
             ],
             [
              0.3333333333333333,
              "#9c179e"
             ],
             [
              0.4444444444444444,
              "#bd3786"
             ],
             [
              0.5555555555555556,
              "#d8576b"
             ],
             [
              0.6666666666666666,
              "#ed7953"
             ],
             [
              0.7777777777777778,
              "#fb9f3a"
             ],
             [
              0.8888888888888888,
              "#fdca26"
             ],
             [
              1,
              "#f0f921"
             ]
            ],
            "type": "surface"
           }
          ],
          "table": [
           {
            "cells": {
             "fill": {
              "color": "#EBF0F8"
             },
             "line": {
              "color": "white"
             }
            },
            "header": {
             "fill": {
              "color": "#C8D4E3"
             },
             "line": {
              "color": "white"
             }
            },
            "type": "table"
           }
          ]
         },
         "layout": {
          "annotationdefaults": {
           "arrowcolor": "#2a3f5f",
           "arrowhead": 0,
           "arrowwidth": 1
          },
          "autotypenumbers": "strict",
          "coloraxis": {
           "colorbar": {
            "outlinewidth": 0,
            "ticks": ""
           }
          },
          "colorscale": {
           "diverging": [
            [
             0,
             "#8e0152"
            ],
            [
             0.1,
             "#c51b7d"
            ],
            [
             0.2,
             "#de77ae"
            ],
            [
             0.3,
             "#f1b6da"
            ],
            [
             0.4,
             "#fde0ef"
            ],
            [
             0.5,
             "#f7f7f7"
            ],
            [
             0.6,
             "#e6f5d0"
            ],
            [
             0.7,
             "#b8e186"
            ],
            [
             0.8,
             "#7fbc41"
            ],
            [
             0.9,
             "#4d9221"
            ],
            [
             1,
             "#276419"
            ]
           ],
           "sequential": [
            [
             0,
             "#0d0887"
            ],
            [
             0.1111111111111111,
             "#46039f"
            ],
            [
             0.2222222222222222,
             "#7201a8"
            ],
            [
             0.3333333333333333,
             "#9c179e"
            ],
            [
             0.4444444444444444,
             "#bd3786"
            ],
            [
             0.5555555555555556,
             "#d8576b"
            ],
            [
             0.6666666666666666,
             "#ed7953"
            ],
            [
             0.7777777777777778,
             "#fb9f3a"
            ],
            [
             0.8888888888888888,
             "#fdca26"
            ],
            [
             1,
             "#f0f921"
            ]
           ],
           "sequentialminus": [
            [
             0,
             "#0d0887"
            ],
            [
             0.1111111111111111,
             "#46039f"
            ],
            [
             0.2222222222222222,
             "#7201a8"
            ],
            [
             0.3333333333333333,
             "#9c179e"
            ],
            [
             0.4444444444444444,
             "#bd3786"
            ],
            [
             0.5555555555555556,
             "#d8576b"
            ],
            [
             0.6666666666666666,
             "#ed7953"
            ],
            [
             0.7777777777777778,
             "#fb9f3a"
            ],
            [
             0.8888888888888888,
             "#fdca26"
            ],
            [
             1,
             "#f0f921"
            ]
           ]
          },
          "colorway": [
           "#636efa",
           "#EF553B",
           "#00cc96",
           "#ab63fa",
           "#FFA15A",
           "#19d3f3",
           "#FF6692",
           "#B6E880",
           "#FF97FF",
           "#FECB52"
          ],
          "font": {
           "color": "#2a3f5f"
          },
          "geo": {
           "bgcolor": "white",
           "lakecolor": "white",
           "landcolor": "#E5ECF6",
           "showlakes": true,
           "showland": true,
           "subunitcolor": "white"
          },
          "hoverlabel": {
           "align": "left"
          },
          "hovermode": "closest",
          "mapbox": {
           "style": "light"
          },
          "paper_bgcolor": "white",
          "plot_bgcolor": "#E5ECF6",
          "polar": {
           "angularaxis": {
            "gridcolor": "white",
            "linecolor": "white",
            "ticks": ""
           },
           "bgcolor": "#E5ECF6",
           "radialaxis": {
            "gridcolor": "white",
            "linecolor": "white",
            "ticks": ""
           }
          },
          "scene": {
           "xaxis": {
            "backgroundcolor": "#E5ECF6",
            "gridcolor": "white",
            "gridwidth": 2,
            "linecolor": "white",
            "showbackground": true,
            "ticks": "",
            "zerolinecolor": "white"
           },
           "yaxis": {
            "backgroundcolor": "#E5ECF6",
            "gridcolor": "white",
            "gridwidth": 2,
            "linecolor": "white",
            "showbackground": true,
            "ticks": "",
            "zerolinecolor": "white"
           },
           "zaxis": {
            "backgroundcolor": "#E5ECF6",
            "gridcolor": "white",
            "gridwidth": 2,
            "linecolor": "white",
            "showbackground": true,
            "ticks": "",
            "zerolinecolor": "white"
           }
          },
          "shapedefaults": {
           "line": {
            "color": "#2a3f5f"
           }
          },
          "ternary": {
           "aaxis": {
            "gridcolor": "white",
            "linecolor": "white",
            "ticks": ""
           },
           "baxis": {
            "gridcolor": "white",
            "linecolor": "white",
            "ticks": ""
           },
           "bgcolor": "#E5ECF6",
           "caxis": {
            "gridcolor": "white",
            "linecolor": "white",
            "ticks": ""
           }
          },
          "title": {
           "x": 0.05
          },
          "xaxis": {
           "automargin": true,
           "gridcolor": "white",
           "linecolor": "white",
           "ticks": "",
           "title": {
            "standoff": 15
           },
           "zerolinecolor": "white",
           "zerolinewidth": 2
          },
          "yaxis": {
           "automargin": true,
           "gridcolor": "white",
           "linecolor": "white",
           "ticks": "",
           "title": {
            "standoff": 15
           },
           "zerolinecolor": "white",
           "zerolinewidth": 2
          }
         }
        }
       }
      }
     },
     "metadata": {},
     "output_type": "display_data"
    }
   ],
   "source": [
    "import plotly.express as px\n",
    "\n",
    "s = Station(\"DE112500\")\n",
    "\n",
    "gdf_federal_agency_ezg = s.get_catchment(\"federal_agency_ezg\")\n",
    "gdf_merit_hydro = s.get_catchment(\"merit_hydro\")\n",
    "gdf_hydrosheds = s.get_catchment(\"hydrosheds\")\n",
    "gdf_basis_ezg = s.get_catchment(\"basis_ezg\")\n",
    "\n",
    "# plot all on same axis\n",
    "fig = go.Figure()\n",
    "\n",
    "fig.add_trace(go.Choroplethmapbox(\n",
    "    geojson=gdf_federal_agency_ezg.geometry.__geo_interface__,\n",
    "    z=[1],\n",
    "    locations=gdf_federal_agency_ezg.index,\n",
    "    marker_opacity=0.5,\n",
    "    marker_line_width=0,\n",
    "    name=\"Federal Agency EZG\",\n",
    "    colorscale=[[0, \"green\"], [1, \"green\"]],\n",
    "    showlegend=True,\n",
    "    showscale=False\n",
    "))\n",
    "\n",
    "fig.add_trace(go.Choroplethmapbox(\n",
    "    geojson=gdf_merit_hydro.geometry.__geo_interface__,\n",
    "    z=[1],\n",
    "    locations=gdf_merit_hydro.index,\n",
    "    marker_opacity=0.5,\n",
    "    marker_line_width=0,\n",
    "    name=\"MERIT Hydro\",\n",
    "    colorscale=[[0, \"blue\"], [1, \"blue\"]],\n",
    "    showlegend=True,\n",
    "    showscale=False\n",
    "))\n",
    "\n",
    "fig.add_trace(go.Choroplethmapbox(\n",
    "    geojson=gdf_hydrosheds.geometry.__geo_interface__,\n",
    "    z=[1],\n",
    "    locations=gdf_hydrosheds.index,\n",
    "    marker_opacity=0.5,\n",
    "    marker_line_width=0,\n",
    "    name=\"HydroSHEDS\",\n",
    "    colorscale=[[0, \"red\"], [1, \"red\"]],\n",
    "    showlegend=True,\n",
    "    showscale=False\n",
    "))\n",
    "\n",
    "fig.add_trace(go.Choroplethmapbox(\n",
    "    geojson=gdf_basis_ezg.geometry.__geo_interface__,\n",
    "    z=[1],\n",
    "    locations=gdf_basis_ezg.index,\n",
    "    marker_opacity=0.5,\n",
    "    marker_line_width=0,\n",
    "    name=\"BASIS EZG\",\n",
    "    colorscale=[[0, \"yellow\"], [1, \"yellow\"]],\n",
    "    showlegend=True,\n",
    "    showscale=False\n",
    "))\n",
    "\n",
    "fig.update_layout(\n",
    "    mapbox_style=\"carto-positron\",\n",
    "    mapbox_zoom=9,\n",
    "    mapbox_center = {\"lat\": s.lat, \"lon\": s.lon},\n",
    "    margin={\"r\":0,\"t\":0,\"l\":0,\"b\":0},\n",
    "    legend=dict(\n",
    "        yanchor=\"top\",\n",
    "        y=0.99,\n",
    "        xanchor=\"left\",\n",
    "        x=0.01\n",
    "    )\n",
    ")\n",
    "\n",
    "fig.show()"
   ]
  },
  {
   "cell_type": "markdown",
   "metadata": {},
   "source": [
    "## Now compare MeritHYDRO to HydroSHEDS and Basis EZG"
   ]
  },
  {
   "cell_type": "code",
   "execution_count": 9,
   "metadata": {},
   "outputs": [
    {
     "name": "stderr",
     "output_type": "stream",
     "text": [
      "/tmp/ipykernel_138927/1097745454.py:23: UserWarning:\n",
      "\n",
      "`keep_geom_type=True` in overlay resulted in 50 dropped geometries of different geometry types than df1 has. Set `keep_geom_type=False` to retain all geometries\n",
      "\n"
     ]
    }
   ],
   "source": [
    "# compare overlap of merit hydro and hydrosheds\n",
    "# get metadata (only for stations with more than 10 years of Q data)\n",
    "metadata = get_metadata()\n",
    "metadata = metadata[metadata[\"flag_q_more_than_10_years\"]]\n",
    "\n",
    "# get all camels ids\n",
    "camels_ids = metadata[\"camels_id\"].tolist()\n",
    "\n",
    "# initialize dictionary to store overlap values\n",
    "overlap_dict_mh = {}\n",
    "\n",
    "for camels_id in camels_ids:\n",
    "    # initialize station\n",
    "    s = Station(camels_id)\n",
    "\n",
    "    # get catchments for merit_hydro, hydrosheds and basis_ezg\n",
    "    gdf_merit_hydro = s.get_catchment(\"merit_hydro\")\n",
    "    gdf_hydrosheds = s.get_catchment(\"hydrosheds\")\n",
    "    gdf_basis_ezg = s.get_catchment(\"basis_ezg\")\n",
    "\n",
    "    if gdf_merit_hydro is None:\n",
    "        overlap_dict_mh[s.camels_id] = {\n",
    "            \"hydrosheds\": None,\n",
    "            \"basis_ezg\": None\n",
    "        }\n",
    "\n",
    "    else:\n",
    "        # caluculate percentage of overlap to hydrosheds and basis_ezg\n",
    "        overlap_hydrosheds = calculate_overlap_percentage_two_catchments(gdf_merit_hydro, gdf_hydrosheds)\n",
    "        overlap_basis_ezg = calculate_overlap_percentage_two_catchments(gdf_merit_hydro, gdf_basis_ezg)\n",
    "\n",
    "        overlap_dict_mh[s.camels_id] = {\n",
    "            \"hydrosheds\": overlap_hydrosheds,\n",
    "            \"basis_ezg\": overlap_basis_ezg\n",
    "        }\n",
    "\n",
    "# make dataframe\n",
    "df_overlap_merit_hydrosheds = pd.DataFrame(overlap_dict_mh).T"
   ]
  },
  {
   "cell_type": "code",
   "execution_count": 36,
   "metadata": {},
   "outputs": [
    {
     "data": {
      "application/vnd.plotly.v1+json": {
       "config": {
        "plotlyServerURL": "https://plot.ly"
       },
       "data": [
        {
         "opacity": 0.6,
         "type": "histogram",
         "x": [
          0.7920577807249789,
          0.8875560537865843,
          0.6192206096026821,
          0.9414999643416143,
          0.9859955633167737,
          0.963880979657666,
          0.9161648804645016,
          0.9852831556151419,
          0.8063136774660578,
          0.923838867835639,
          0.9668844414979166,
          0.9750528378575266,
          0.9202931947693637,
          0.33319790093881907,
          0.9502636258950038,
          0.8639516570442053,
          0.9529867948443672,
          0.9463959589462003,
          0.08435667652403035,
          0.7268285740732613,
          0.37978054857512306,
          0.9288177150575334,
          0.12264581653009086,
          0.9820781222553701,
          0.8684601641063256,
          0.5704423644170136,
          0.8530221275983798,
          0.8997373653653367,
          0.8001230051418036,
          0.9385985821960274,
          0.2965802461102462,
          0.19378183571312516,
          0.9709542123204563,
          0.6488027681124584,
          0.9912139655413972,
          0.9708379163136128,
          0.6207149644982156,
          0.8696299826921279,
          0.888185806104621,
          0.9241782509186715,
          0.8792369285333573,
          0.910631389703263,
          0.8788994135230163,
          0.9606440222041587,
          0.9319824556230064,
          0.992893555857871,
          0.4035554026170585,
          0.8859799022446776,
          0.9850135496469419,
          0.94304893519041,
          0.9824283634961166,
          0.9218528710250408,
          0.9233356956203855,
          0.2558514794895117,
          0.9492833773017433,
          0.29263602477244804,
          0.2784943704811968,
          0.7928813817307864,
          0.922262103002303,
          0.9574367116756193,
          0.7683219066707154,
          0.9746243057181999,
          0.666591944551859,
          0.6356214653910551,
          0.823814272118657,
          0.689049514084263,
          0.763777659310985,
          0.7789093458416593,
          0.13920928985661923,
          0.31437239652712484,
          0.3359745417806787,
          0.896811008025116,
          0.9279495864411936,
          0.5219826872606841,
          0.4056902911424368,
          0.043991534305776514,
          0.024355444881447745,
          0.20536031403534608,
          0.23972735595682254,
          0.0901640092375502,
          0.06979396814720099,
          0.02070474784314343,
          0.42777169066275433,
          0.09910199514985348,
          0.06597107439655549,
          0.13793969382347296,
          0.1357053294710602,
          0.3854861268234256,
          0.19039633575502155,
          0.014486770986309232,
          0.00264139973035608,
          0.07575617173529962,
          0.47062846171607464,
          0.8768698407161424,
          0.004899884380059372,
          0.18804646580271275,
          0.2428815438792713,
          0.5512179321816594,
          0.6561646523773406,
          0.050632822534642234,
          0.6575349165991639,
          0.04341447592845376,
          0.8478665499741369,
          0.3655993015481269,
          0.058075364211786246,
          0.4255624164230004,
          0.858051820681469,
          0.020080258373436456,
          0.10856464856400579,
          0.06949417313847299,
          0.9204804610196162,
          0.012390761037608613,
          0.6570966433792862,
          null,
          0.11132410427137553,
          0.06770163343159129,
          0.13216266464083978,
          0.0558117712812051,
          0.2497200499174046,
          0.08721582531365131,
          0.31343704982449266,
          0.51281347171669,
          0.22775292772546574,
          0.7540087508922462,
          0.07907096795340741,
          0.11177124516114936,
          0.05153139886598374,
          0.7574990269936803,
          0.33915858155908435,
          0.3777220229485456,
          0.4110870759020928,
          0.9657741970317536,
          0.24932175345152438,
          0.9424530528404741,
          0.21044508918308344,
          0.7216445727372406,
          0.0323235625870751,
          0.41667585353233205,
          0.9413862757401236,
          null,
          0.06945271126638147,
          0.18465302717744464,
          0.13640553323389998,
          0.002566738631806421,
          0.7828609978670931,
          null,
          0.14722663635868197,
          0.9254820407266054,
          0.20615180033628905,
          0.05833972136068647,
          0.07584782790836846,
          0.15153531851284208,
          0.23131648312131614,
          0.1349542126101118,
          0.8239188944737182,
          0.070998952336749,
          0.4239409498407214,
          0.49810048393302153,
          0.16825006283359314,
          0.19158723451077359,
          0.2824759468881005,
          0.09140950889664566,
          0.40236881666784646,
          0.3036754224583942,
          0.8789225999637555,
          0.07772422904413746,
          0.91078378116106,
          0.9601706611068963,
          0.9612863173443386,
          0.004168387377687443,
          0.961577030210092,
          0.5532151915252644,
          0.6135346756190473,
          0.06505219631699596,
          0.26092416352955367,
          0.8640670238739661,
          0.014919059669977424,
          0.9635656777727839,
          0.6505678731660435,
          0.4071746146752384,
          0.09911439322817117,
          0.43165189058379105,
          0.8072318797890398,
          0.477244609119917,
          0.1872704693491281,
          0.016700544565444165,
          0.3403395268080042,
          0.6266115512278951,
          0.9649080773549811,
          0.7668609080730652,
          0.11208095483643024,
          0.2026699795477083,
          0.023474712197753204,
          0.6848387925200184,
          0.4891196373368303,
          0.31267982406765893,
          0.527272207070332,
          0.7648463580964145,
          0.8480027356787346,
          0.20302142935691367,
          0.31733826870578913,
          0.6388275767004995,
          0.9078386413271547,
          0.24505929930265555,
          0.2913194924436044,
          0.4849241066780267,
          0.04990020338922804,
          0.1759843384736743,
          0.4438072057046803,
          0.031995840856155464,
          0.035086299338252726,
          0.009067340239982676,
          0.6178098788379002,
          null,
          0.779110651824397,
          0.3894495773527173,
          0.08909679647469537,
          0.04747472595332866,
          0.12028663981463814,
          0.11507100346802081,
          0.9532387495775915,
          0.0822901619386746,
          0.26840464986793555,
          0.8916727618560198,
          0.5825921375914698,
          0.7391293891450307,
          0.2494628609414233,
          0.8197696758651645,
          0.056298878235547516,
          0.00625308131071627,
          0.5839470515212986,
          0.2645481263410451,
          0.023416606749747788,
          0.15230676737532403,
          0.8339714699373604,
          0.9234186397437483,
          0.5069677372326341,
          0.7009992308311405,
          0.02174628270183039,
          0.3198759427584367,
          0.793701959726469,
          0.8990248397727131,
          0.5445922791757992,
          0.7858962856204996,
          0.831665434498666,
          0.29869080192911057,
          0.024636898905638544,
          0.9686065445507486,
          0.8347960354747523,
          0.830612791144811,
          0.9011176132965147,
          0.01357445367641472,
          0.22582724422014125,
          0.5781047060233118,
          0.008618000865758276,
          0.17978703190807635,
          0.876577844920367,
          0.3466894687357573,
          0.07044306319960367,
          0.9494518999448119,
          0.9908293628777433,
          0.6911204496941044,
          0.8509944628771305,
          0.9364105962626842,
          0.8451359983583512,
          0.15869586899348967,
          0.9683205667113796,
          0.01714146667513336,
          0.9668218053706978,
          0.9486521664786183,
          0.9202110870419002,
          0.009843908915800774,
          0.9119675226785935,
          0.8094989011108147,
          0.7996302011898453,
          0.5314074248454088,
          0.9432016442692172,
          0.46939359872850683,
          0.5936595155184425,
          0.30048630309908114,
          0.8652575068463316,
          0.05554566102118475,
          0.0017797430719391476,
          0.887206779703388,
          0.6551211182172457,
          0.7465591039072119,
          0.026458189510778114,
          0.9819821801086714,
          0.45712228767115687,
          0.941328228200911,
          0.528397677079899,
          0.19944732139664378,
          0.6006682145279882,
          0.8620182718930328,
          0.12547953509042756,
          0.5546817010651943,
          0.30272490280986175,
          0.644303923088188,
          0.9931255239996302,
          0.6329791676723212,
          0.5747079191116561,
          0.20790219214763048,
          0.8091709496349525,
          0.2924287954072585,
          0.01632686765250378,
          0.06364943068072104,
          0.40783616970025477,
          0.9817799062114119,
          0.6371084259344576,
          0.9631919914736978,
          0.5962108607971454,
          0.005317922632208013,
          0.6329075684099538,
          0.3200660405778934,
          0.3806390427833955,
          0.374112116969124,
          0.8897776379462577,
          0.5985509301692247,
          0.71680289124535,
          0.26062650649074115,
          0.0016826388022529676,
          0.9036000068869036,
          0.15818351900199043,
          0.18331262657363603,
          0.9142929955938359,
          0.41753265223661135,
          0.028812509129056738,
          0.0019815315905012602,
          0.31054417499916936,
          0.3741992155438816,
          0.0714219916204009,
          0.8249832555667641,
          0.96119761210364,
          0.19090708714250218,
          0.32713008019069995,
          0.7369489567593548,
          0.8407656025994622,
          0.00250703173998554,
          0.75114511440779,
          0.7196315851675952,
          0.979944418477336,
          0.06395318778288661,
          0.7957743049032687,
          0.4523724959687256,
          0.8177310395963234,
          0.9787315892231431,
          0.61286307493938,
          0.8960929879191554,
          0.10828728963757382,
          0.6725535364717771,
          0.7281036503452095,
          0.005797357066577016,
          0.9113504652428642,
          0.22041434254721817,
          0.3621037345257042,
          0.9845414380927497,
          0.9750581773637399,
          0.9518837477096074,
          0.04229726147551102,
          0.8300461429495025,
          0.025122735895640045,
          0.6214367441683959,
          0.00020922296219809224,
          0.9283198814686651,
          0.16556418092933997,
          0.8780047862630509,
          0.26088478624785866,
          0.25139290103197454,
          0.2698394247815694,
          0.4671234903818179,
          0.7017547068000284,
          0.1850788674407416,
          0.9565875863999814,
          0.9210408326231092,
          0.9293733827425988,
          0.8481093102281504,
          0.9137073694547466,
          0.7215065009119179,
          0.7417809115650752,
          0.5162847827962035,
          0.9328260451538216,
          0.7970075427503406,
          0.6115682495897131,
          0.23996444583551102,
          0.07956400731506494,
          0.0359093760623982,
          0.8480801647079754,
          0.9632525814846432,
          0.36031431483800824,
          0.3245721025439388,
          0.18587253984927266,
          0.26546219262134024,
          0.837017434800549,
          0.3751320192811208,
          0.39183890802939253,
          0.10111084579774829,
          0.08685082143632007,
          0.8209253324861697,
          0.7935016817141679,
          0.7220337032874694,
          0.2835984178467739,
          0.9801507271489545,
          0.9618434280373114,
          0.9713877694337604,
          0.24387540084033932,
          0.9278587968427753,
          0.4507270261804332,
          0.46687546560714605,
          0.9128847494932838,
          0.03687421495486269,
          0.2800977155885232,
          0.900166947708509,
          0.5966355512519985,
          0.8969724931155465,
          0.8913689656991504,
          0.9603026662743097,
          0.2931767028777093,
          0.6351844891098258,
          0.9329731302313402,
          0.615196622570666,
          0.5074370556548511,
          0.11009456554849517,
          0.6509713262526428,
          0.9338358503890499,
          0.9219733216123506,
          0.8707534987434423,
          0.06259762793547131,
          0.9437675749850789,
          0.5162634539133064,
          0.6333547591976048,
          0.9308393276246247,
          0.45581879493477473,
          0.008428320545417006,
          0.8405557976545782,
          0.7384877059468937,
          0.007130315235193377,
          0.7862562856335052,
          0.5452158192624895,
          0.9454990953663968,
          0.9650047999481575,
          0.9238949232999807,
          0.30292195062384464,
          0.937262868440424,
          0.967590559847527,
          0.7183086433297671,
          0.08332247520658756,
          0.8929924726586214,
          0.7564562427398822,
          0.29255012545602754,
          0.20151400660825106,
          0.17158271108110326,
          0.7408637472692275,
          0.08998151440191365,
          0.9317094084387695,
          0.0006903282805162385,
          0.9523116611834704,
          0.18276264595915745,
          0.26767100554460277,
          0.0007580231425653017,
          0.7925108074837094,
          0.4952095892177892,
          0.6746531377851704,
          0.9277066671805815,
          0.2566022848556746,
          0.910975705995779,
          0.22589666342668338,
          0.7330863028905292,
          0.09714182125375712,
          0.7984737039951137,
          0.09742236900898023,
          0.014502918086567767,
          0.8751521543395515,
          0.8667891848967787,
          0.9612132027961428,
          0.935979196253856,
          0.6584843123926387,
          0.9745579407752256,
          0.4522543300710651,
          0.0006539159869022209,
          0.3900119401077029,
          0.05371121203272179,
          0.29432894791826764,
          0.9566684661033078,
          0.4198229328629234,
          0.006398551391634438,
          0.9439070230598484,
          0.39045023135825174,
          0.493686857388885,
          0.017669888844682867,
          0.6743889651285188,
          0.670251862458613,
          0.9781126325426995,
          0.8016423023394583,
          0.9119676472211271,
          0.1987690825207072,
          0.0005019196717962447,
          0.4999080078891471,
          0.010538476910223,
          0.15261300151388085,
          0.8113078938434147,
          0.13146409226676106,
          0.9592634910862896,
          0.9027794531923614,
          0.9477908308208723,
          0.6652554279758988,
          0.08549507192952886,
          0.9926293496878222,
          0.007563892601102529,
          0.651357028750155,
          0.3984090754765426,
          0.9082242745247978,
          0.9325661512489859,
          0.3148116922231828,
          0.029039640723116437,
          0.07808077506402523,
          0.046186828533345554,
          0.9496811772731483,
          0.008984436087055118,
          0.9247059040705503,
          0.018202124756459857,
          0.26126694090702557,
          0.9910784675800005,
          0.1321459269955013,
          0.8955266731912138,
          0.49605167920013793,
          0.10456302874031265,
          0.9313917084477196,
          0.0901596621422737,
          0.0017625293249379462,
          0.24659351009744973,
          0.11911949042275016,
          0.030872544312852825,
          0.9067980452392669,
          0.05090941708482441,
          0.5364920428711878,
          0.05711770185210773,
          0.26750047512774466,
          0.007109992114290209,
          0.012557600921835247,
          0.12801786239590077,
          0.010979273127307414,
          0.9517547386953941,
          0.8362311570812885,
          0.8769907388122471,
          0.8487371976994449,
          0.7208903222498151,
          0.7938250132033436,
          0.06704201186247975,
          0.035685976242260185,
          0.9555035736294286,
          0.933659609785407,
          0.18181743268150846,
          0.2297708274814409,
          0.5960210698900311,
          0.8420570379159609,
          0.11985980922197877,
          0.8144908168963871,
          0.0734613422897772,
          0.2237690043742979,
          0.9465661364499746,
          0.770302817201544,
          0.7982911724718295,
          0.9042395615617972,
          0.9676218789758402,
          0.19239211429851336,
          0.1649255934340821,
          0.7611012034074186,
          0.17049121980016083,
          0.0927985331102232,
          0.9510251354268686,
          0.2626948637953028,
          0.9146209727724457,
          0.9600086578691099,
          0.16336330596011467,
          0.9072005537111705,
          0.9349534832341497,
          0.002190128920012395,
          0.5518116787922034,
          0.2865826111260468,
          0.954598893466532,
          0.6429746687410874,
          0.961321120992736,
          0.9571077670137726,
          0.781003701194946,
          0.13662398247812516,
          0.05583075197691656,
          0.21249052869867044,
          0.7698601067264392,
          0.9633534894645179,
          0.9708030124945803,
          0.06949481361378142,
          0.17002200737856452,
          0.6183480543874974,
          0.8899008721829567,
          0.7115790295187843,
          0.9571630157489518,
          0.8886862626900989,
          0.9727777118479649,
          0.11587656104374965,
          0.03774504402706785,
          0.7610531397716658,
          0.9531559740168526,
          0.014533096311994205,
          0.8508334332201816,
          0.23036330286299989,
          0.6898269019434812,
          0.000514907338304115,
          0.13416582888871306,
          0.7665339904012204,
          0.942618954194575,
          0.9894252044183771,
          0.9671512553942324,
          0.3846956868273818,
          0.9412764443467888,
          0.9952733496201474,
          0.867925344112528,
          null,
          0.10144727855210746,
          0.4184992244318761,
          0.6741125622692754,
          0.005865651001792429,
          0.5834571113101525,
          0.6608698642920723,
          0.9177606241436687,
          0.47300234069074804,
          0.7996422911587397,
          0.9635042916093054,
          0.8925069413041675,
          0.180661703824308,
          0.2671470524653388,
          0.7638826283988888,
          0.9682802999190122,
          0.6587531645651409,
          0.12210903014741159,
          0.946970180838228,
          0.9095626661068058,
          0.0023105833543851676,
          0.010397733534096903,
          0.42507083265000967,
          0.9350676505988672,
          0.11144394816313873,
          0.2919887653615728,
          0.5865181853894562,
          0.6608636331410882,
          0.8206191703341917,
          0.9530057035761464,
          0.14227329621545998,
          0.05022179909258632,
          0.13893156961600595,
          0.31111234737556387,
          0.6354279368319737,
          0.8727870008009508,
          0.9149051996904707,
          0.2890858727637053,
          0.6694485306783582,
          0.9120940775555167,
          0.0019227000140338963,
          0.2300474579283779,
          0.1299808617213243,
          0.6332797596893409,
          0.033717128722338494,
          0.768624836206051,
          0.051649985254406096,
          0.5915964134130163,
          0.2190567130315337,
          0.6186346416177091,
          0.05812006304280171,
          0.4911282026629949,
          0.7781809087448436,
          0.17358551394929828,
          0.8997061621819886,
          0.2268290799464586,
          0.0033628003671664452,
          0.032483328919000645,
          0.0061959747847814516,
          0.9146450744769896,
          0.8501655565413092,
          0.20440954211274942,
          0.34869992374200565,
          0.06576575329235547,
          0.7539087328882629,
          0.9852981585774445,
          0.11450579689032513,
          0.08071278746046066,
          0.20718712490640134,
          0.9727578476458913,
          0.6758203112609058,
          0.9523550628226257,
          0.335240030602997,
          0.8725804734155991,
          0.8872853727370796,
          0.5024115151903851,
          0.00985887655856761,
          0.9386637748159911,
          0.041715847507769056,
          0.8556116496541933,
          0.9474820222514084,
          0.963315426375636,
          0.9326407649899665,
          0.3967570261709071,
          0.7548190954817084,
          0.9452104053416903,
          0.25767051272732155,
          0.8431719336248328,
          0.9503381555910291,
          0.9208052614331005,
          0.9460498863713063,
          0.6982097126968182,
          0.7305608127149007,
          0.9058501609306078,
          0.7780409581126428,
          0.013238216379752914,
          0.8595647638237481,
          0.794396094180233,
          0.9215531530253519,
          0.25820747192920784,
          0.14801189013969296,
          0.9541669525174806,
          0.02439648596753242,
          0.6787685321391435,
          0.7788205623878757,
          0.21538027528717635,
          0.536462753032228,
          0.5267381040706139,
          0.08271457510228024,
          0.827341703152246,
          0.9338014028095198,
          0.04362047792727346,
          0.9505597698464447,
          0.5322485173716789,
          0.9362848566336768,
          0.8851964733292871,
          0.23741531828106396,
          0.9652601927925731,
          0.023854052242125647,
          0.2284904415641282,
          0.8469693690877581,
          0.23108981474940105,
          0.17317029689582528,
          0.3131579671539514,
          0.6239249866161811,
          0.14569599481029033,
          0.7932777696737884,
          0.1611688452225415,
          0.9479396854961128,
          0.30735082705209876,
          0.8919339489376025,
          0.9341712616347427,
          0.09423433294590321,
          0.782297192014907,
          0.933046819507438,
          0.9022940031764024,
          0.32688567070976543,
          0.866480962340212,
          0.39203766392375367,
          0.00346965583754562,
          0.15795481515020635,
          0.19865042334941102,
          0.23061456886623502,
          0.9714714775550384,
          0.052709776231717874,
          0.040352999304174936,
          0.19889952587643928,
          0.42551969011981017,
          0.12241505297194893,
          0.15957060422087904,
          0.14469279609139435,
          0.8061828098448779,
          0.9734498540605137,
          0.8188781506894112,
          0.7171843994622091,
          0.15728071335478166,
          0.9683345077665153,
          0.5873855301066896,
          0.8219150044193969,
          0.7605110752086873,
          0.693622009152737,
          0.8321012457746978,
          0.4613311614973927,
          0.1768082816279534,
          0.9609085413881273,
          0.060210652822752356,
          0.01881585387553446,
          0.0640012605895415,
          0.16342873467531135,
          0.960442371081279,
          0.41546196385443346,
          0.9737036627125376,
          0.8424382072190506,
          0.9584698984011978,
          0.000024746604052834743,
          0.4421906754559979,
          0.4325441218485769,
          0.025150296179505722,
          0.9170311761467059,
          0.13754687857660916,
          0.7850398460012633,
          0.017435247899292152,
          0.05895691987604751,
          0.8696257761898231,
          0.7273052922218629,
          0.018379369648951805,
          0.783658155320959,
          0.2524025346255141,
          0.9438537112661005,
          0.9370922289657782,
          0.9280659705298853,
          0.910269027247675,
          0.9704440706687821,
          0.16380454820641344,
          0.9517333044484659,
          0.20784616683194926,
          0.6194234330777376,
          0.2805180323309706,
          0.30329321219747285,
          0.14485423229034924,
          0.4991212307423041,
          0.5126307755077305,
          0.8967642821347381,
          0.1025927313176597,
          0.883992386239437,
          0.9665198978338104,
          0.17183919968866365,
          0.31200975881915555,
          0.8903575097384855,
          0.9814925260377168,
          0.8049776476950712,
          0.15915761688087443,
          0.1880962077414496,
          0.9504558984965525,
          0.3165722370806025,
          0.34266190229676524,
          0.19763298735652957,
          0.0994401511132477,
          0.6349338714176962,
          0.9718092618276581,
          0.12711446547578886,
          0.9412561028589028,
          0.8136466651300083,
          0.9652959584069862,
          0.18442207514468228,
          0.07845200698841451,
          0.969223477925549,
          0.951098573486924,
          0.8245367594623563,
          0.10321780209862716,
          0.1635849854826532,
          0.12803308838530558,
          0.8401725029950705,
          0.9760514665315511,
          0.7947305556519518,
          0.8210660150938643,
          0.10816043108299034,
          0.9581177726436853,
          0.9794969363266007,
          0.023888520122589352,
          0.9337585367609325,
          0.3881876399024878,
          0.9321158879767657,
          0.548863337420067,
          0.34567864494579,
          0.9891060092440596,
          0.35482490052210164,
          0.43141289925081794,
          0.19810026413110166,
          0.8050694169700452,
          0.5733906134009339,
          0.8849929481179464,
          0.5066068776746239,
          0.6383545436569886,
          0.9416296828766644,
          0.8783831296927104,
          0.0001302295435445289,
          0.17755430057526667,
          0.4005238762121803,
          0.15408615509542484,
          0.9613680450973012,
          0.13480191248082055,
          0.2410261562392283,
          0.11407620097795802,
          0.11407620097795802,
          0.4015499320702857,
          0.24356939088819227,
          0.5458027877168066,
          0.06359111493499602,
          0.12463211335470875,
          0.6987950454715907,
          0.0875643168106945,
          0.964747876456355,
          0.8603240120467924,
          0.583581420714538,
          0.8978024990723888,
          0.9205803605834779,
          0.41414961488766955,
          0.46883570769674854,
          0.2984860953590372,
          0.8693401705018615,
          0.04759771148129864,
          0.8752761944014906,
          0.9465266289434853,
          0.9482851585112626,
          0.8483063918296884,
          0.9524674988059492,
          0.5621768982642709,
          0.8144865604989665,
          0.03129337611994431,
          0.9275356207021889,
          0.49080512295169443,
          0.45812558003441706,
          0.9025473002626186,
          0.9202774293378461,
          0.03933408561388787,
          0.03946269447906867,
          0.5989012587803779,
          0.01092002162951285,
          0.0008373983299785489,
          0.004002812278010209,
          0.002366974193541907,
          0.001070262688836698,
          0.9617560709128016,
          0.2546235830213972,
          0.033980988415600315,
          0.134994421622416,
          0.27927465098709164,
          0.5416768864911177,
          0.4383123488582013,
          0.1696786386805518,
          0.09123859817380124,
          0.002560675839470142,
          0.3171038901167054,
          0.3039612353454175,
          0.5123943843249085,
          0.3692856250681676,
          0.9111355940458472,
          0.0023111329294924344,
          0.0009407441432401139,
          0.37649460138501684,
          0.49433561943937104,
          0.8685141734165667,
          0.9320369515408806,
          0.8126272118492476,
          0.9054085058527898,
          0.4015499320702857,
          0.3404751046331337,
          0.32858241893552925,
          0.36510196085883495,
          0.14269483766072089,
          0.7877360229656334,
          0.9379688485097789,
          0.807997054760936,
          0.9230085599041699,
          0.6293757303011329,
          0.8107730659582743,
          0.8168406489159555,
          0.8168406489159555,
          0.9131029826267996,
          0.6690888413392683,
          0.4500972822510683,
          0.039836071693936895,
          0.695505052904093,
          0.6187946514207523,
          0.32216670001943915,
          0.9258308933527689,
          0.8129669225850656,
          0.3148088943431739,
          0.8660178914525352,
          0.8173262348097781,
          0.3277161383173389,
          0.9153721193157979,
          0.9493362230892544,
          0.6807239447010427,
          0.643989606794378,
          0.8791668593049221,
          0.9185700585109353,
          0.8556718003765664,
          0.594996187644018,
          0.8426492028439477,
          0.041584937600962636,
          0.8915806455492006,
          0.6335224246456066,
          0.8598597929028462,
          0.7634184734272947,
          0.8382537654560227,
          0.37620763094451,
          0.6993100180502426,
          0.6863728715040366,
          0.09593029360956695,
          0.14460036773366425,
          0.8340760958842056,
          0.9880743018974304,
          0.720595728062832,
          0.6768371634874316,
          0.19625669731446835,
          0.6068745031455789,
          0.27574462803907834,
          0.9085455986323518,
          0.9374150332312449,
          0.913719726122742,
          0.9717177592410464,
          0.15054401733778247,
          0.9196912100749111,
          0.9202275061953759,
          0.9671439000534284,
          0.4539748267383306,
          0.2618450824904311,
          0.5424671264124956,
          0.1571757667194137,
          0.8263134212493954,
          0.9289824634646664,
          0.011905425467727519,
          0.6718270665625974,
          0.9872807097400569,
          0.785343518298427,
          0.6134422825251126,
          0.17851972770435168,
          0.8099115975834111,
          0.9269050784655457,
          0.481174955091424,
          0.843499282082567,
          0.8570330508716865,
          0.02896436461394517,
          0.9547206027903318,
          0.4648142347096608,
          0.7691123209997244,
          0.016902737284822233,
          0.772108910146127,
          0.8507702719646425,
          0.9195483192752091,
          0.01470820479441885,
          0.02642722564893829,
          0.7024177897577558,
          0.5959472800624556,
          0.8699093160907494,
          0.010637946526560233,
          0.6556947226899255,
          0.19048132647324825,
          0.0020168800974322177,
          0.4562736207228238,
          0.5695097742646862,
          0.6038862110229755,
          0.5024348547626253,
          0.5319609565203889,
          0.05080480305129238,
          0.298423213625779,
          0.6855018208399688,
          0.3464547527960898,
          0.636596063845802,
          0.882257469773987,
          0.45876835539822514,
          0.44768950419844883,
          0.8114837587114141,
          0.08660930022084852,
          0.14673526303135268,
          0.554837279053827,
          0.43705860237120675,
          0.3885789703007555,
          0.15094505788667437,
          0.6287747873209532,
          0.09407597327943515,
          0.8284263100979824,
          0.856673171879686,
          0.873946633024032,
          0.863531834388502,
          0.055276786310199416,
          0.8892237390947927,
          0.8813263926365467,
          0.15570505322872585,
          0.0012259695614087215,
          0.34768499740255915,
          0.6253540900775867,
          0.20353938502337307,
          0.0369108358277088,
          0.401301683241657,
          0.06969301209108417,
          0.19060133426734155,
          0.07961015807747916,
          0.0884705495671628,
          0.004048645482758788,
          0.03518395715934846,
          0.760049550826742,
          0.1428482529358645,
          0.9408783001576887,
          0.5231986296731321,
          0.7548823384417197,
          0.8919412565796859,
          0.8499105622834398,
          0.05059871011242651,
          0.4978856566029142,
          0.5979276389388054,
          0.7936596368483114,
          0.8877273185511941,
          0.8971344665311642,
          0.20137492472487084,
          0.6106031998653889,
          0.06218014430865549,
          0.4762062300282416,
          0.34896926352234964,
          0.07940592400765252,
          0.2537938159197055,
          0.27724938964960566,
          0.5908055562678884,
          0.15092009496704148,
          0.09289382577789736,
          0.8773793646693393,
          0.8096943091458246,
          0.9372276569956204,
          0.42903846845164,
          0.6517556189051887,
          0.678854532630898,
          0.10619222029817485,
          0.847396440417605,
          0.733707955305862,
          0.41926100831380314,
          0.020552469376199974,
          0.8814671972375137,
          0.8817804678715361,
          0.8814671972375137,
          0.8884330224750122,
          0.8434275672283438,
          0.6107500925554105,
          0.8884279553130292,
          0.8997242935228179,
          0.004913391402093161,
          0.15258064755860795,
          0.7223507501030797,
          0.8114973289864988,
          0.6950892433601185,
          0.4725523038997788,
          0.7155883694519249,
          0.8478071242309322,
          0.11731854330647139,
          0.11887257370592473,
          0.22264251737843674,
          null,
          0.3338781142708884,
          0.1583257359597683,
          0.013412047656795168,
          0.4439417762966908,
          0.3157017676883443,
          0.9151311779957771,
          0.9254714266792664,
          0.43186615840765985,
          0.43232230505359565,
          0.2545124724035746,
          0.3492069872231229,
          0.19754256998285813,
          0.9392711325507298,
          0.9384585549369713,
          0.8632686391157728,
          0.8671652837921603,
          0.8324170142502654,
          0.6005320576395161,
          0.5960839216695468,
          0.5870556369567975,
          0.8274103702125561,
          0.8274103702125561,
          0.016784687868418937,
          0.9157808240114942,
          0.9492930628133132,
          0.9566913746412824,
          0.9339425943381076,
          0.5989862696130098,
          0.30858633566283583,
          0.3086191439090216,
          0.79717904975713,
          0.13934436529668945,
          0.8866096286705137,
          0.9744994155079305,
          0.7099840574364721,
          0.9656620939951742,
          0.9354771783930972,
          0.6390561700265674,
          0.4796385765692997,
          0.42866729780911783,
          0.4105466311400003,
          0.4104558768206232,
          0.09831743387345694,
          0.09836395867532453,
          0.09836395867532453,
          0.005709758639269167,
          0.7091577905930333,
          0.11120823557599574,
          0.6096245747105654,
          0.0642368566814514,
          0.23483771828407435,
          0.11207557769963929,
          0.6505096744497385,
          0.6505096744497385,
          0.6505096744497385,
          0.01725135600072169,
          0.014973808159962429,
          0.015604264124771103,
          0.23312789498944209,
          0.006504195613945535,
          null,
          null,
          null,
          0.12581517924585686,
          null,
          null,
          0.005442468448784773,
          0.02251530700453049,
          0.002899498579217706,
          0.09402797067832241,
          0.038152918747151314,
          0.06978398473117325,
          0.06978398473117325,
          0.3645887351670367,
          0.923211954255726,
          0.9353063285118726,
          0.8191779572620025,
          0.2540844730121953,
          0.13305358020320407,
          0.13305358020320407,
          0.27438672390071367,
          0.13305358020320407,
          0.8496900408604496,
          0.846704285599441,
          0.846704285599441,
          0.27370761534036914,
          0.27370761534036914,
          0.3520444563772414,
          0.3520444563772414,
          0.3520444563772414,
          0.1772271734866895,
          0.7642204647413955,
          0.7638618195020823,
          0.00714439257961673,
          0.00714439257961673,
          0.3744365015679659,
          0.3744365015679659,
          0.3744365015679659,
          0.7903936325159666,
          0.7903936325159666,
          0.2804617816129198,
          0.23869467633598998,
          0.6538222770336659,
          0.7103779319472122,
          0.7103779319472122,
          0.053058663200929154,
          0.8803180910090174,
          0.8803180910090174,
          0.8803180910090174,
          0.8029261738775756,
          0.8029261738775756,
          0.8048046217752242,
          0.8048046217752242,
          0.8017067722113368,
          0.4801106693645054,
          0.47941441458772927,
          0.11667110309594457,
          0.11681136521298831,
          0.8816909583554197,
          0.8816909583554197,
          0.893742005370717,
          0.893742005370717,
          0.014707480604580896,
          0.014495493703766684,
          0.014678547480643544,
          0.6980245035690379,
          0.6980245035690379,
          0.0979142326442307,
          0.030661808466970815,
          0.6490341467234486,
          0.6844108348613877,
          0.6844108348613877,
          0.05295091283550155,
          0.852362754158161,
          0.809826544055299,
          0.7506068162286935,
          0.7505205130545649,
          0.6049650592025466,
          0.027060099062299423,
          0.12125971837341187,
          0.02960291679549546,
          0.3827867053068446,
          0.24882482344091786,
          0.24882482344091786,
          0.019518436754160498,
          0.055658594969975654,
          0.03567350251118291,
          0.21960085152955341,
          0.0295664996370026,
          0.286992382057898,
          0.286992382057898,
          0.286992382057898,
          0.6597044797683668,
          0.02795957984532144,
          0.04139237920719822,
          0.7558863215021863,
          0.7558863215021863,
          null,
          0.04850234377100112,
          0.022612954659241225,
          0.0404985111286869,
          0.5632872695742206,
          0.5794808025597186,
          0.7225979690881306,
          0.7137356251343463,
          0.030602369277022947,
          0.7240679863675634,
          0.8167182445084141,
          0.7084440639632934,
          0.7629061043795723,
          0.1931401094532326,
          0.6088443716729315,
          0.036898987373697845,
          0.9566241801067052,
          0.5999713395315418,
          0.4294428678517161,
          0.9482246004252621,
          0.8722395954854905,
          0.9123578604026521,
          0.03343325952488586,
          0.7296787189010657,
          0.2191759087610739,
          0.8927177800711281,
          0.9348993947149198,
          0.054088265273595205,
          0.6643098382085666,
          0.9099486036252357,
          0.027422451246234266,
          0.6911374708452345,
          0.7909404892011263,
          0.961711121234081,
          0.6161687884811999,
          0.7892487484191933,
          0.7770708430311978,
          0.25636120169914095,
          0.6000619319354596,
          0.6885136135605406,
          0.8331762063692668,
          0.09199546924575988,
          0.7782992677364354,
          0.8113241339270586,
          0.5477142104573164,
          0.2303491062062381,
          0.06869372088939166,
          0.9691208874376108,
          0.9655474376208436,
          0.85240241752301,
          0.5590597458114512,
          0.2184963135319631,
          0.8358046429564134,
          0.6043029899333596,
          0.37979993763954667,
          0.058175867803859915,
          0.8392439230253155,
          0.8753041565160319,
          0.9175593368490911,
          0.929486228644379,
          0.9846345968723408,
          0.4080653625691054,
          0.8833920430132851,
          0.8271994572007548,
          0.9553442943892149,
          0.2931551701852897,
          null,
          0.9586338461634577,
          null,
          0.9069377371351971,
          0.22909012450003727,
          0.9715991643169779,
          0.11943153818215671,
          0.5637231601207747,
          0.4578564864707621,
          0.9459304449236707,
          0.692491201877074,
          0.8979637071246174,
          0.9164970042129503,
          0.00024719422589847056,
          0.5934649689428279,
          0.7183487165420085,
          0.5053935157962338,
          0.48601892635157534,
          0.5348999194068346,
          0.015216729327644844,
          0.9256279599181474,
          0.9221586585826702,
          0.9415802889496424,
          0.9328066704824428,
          0.9524620020556454,
          0.039218829538867656,
          0.0252986969228369,
          0.7354750951736672,
          0.792561805813567,
          0.79867605176878,
          0.9640353639293641,
          0.14293828750044624,
          0.30454748781816876,
          0.7055781921862107,
          0.23246822765497016,
          0.25080179947884135,
          0.16173159745124496,
          0.11070327595371653,
          0.02334129303351168,
          0.22816270740425162,
          0.6072705892642135,
          0.1423706118637916,
          0.48707230023131287,
          0.9727000600718089,
          0.9181421198186651,
          0.8829185940587202,
          0.9821215365550319,
          0.3736978861948301,
          0.9028647226457862,
          0.6406716189654791,
          0.3215035371237885,
          null,
          0.7575797992445789,
          0.9554309817602702,
          0.2662504101424271,
          0.5952888199548017,
          0.12214020113254279,
          0.7938771949726587,
          0.7274499023219221,
          0.7142830148946258,
          0.5146434887572482,
          0.022748725055652824,
          0.5619212745626107,
          0.0008402911216079681,
          0.8381949104464697,
          0.645753849766177,
          0.5162794057684258,
          0.7915639156062668,
          0.7997548383712565,
          0.22882051118726388,
          0.13404201045912273,
          0.05330742327113703,
          0.9379081526160331,
          0.8247920052084715,
          0.8660553597735483,
          0.669421136450489,
          0.8113586245455083,
          0.04035009503224762,
          0.9397577687100701,
          null,
          0.6575920315242977,
          0.7366296937117957,
          0.9668450170025025,
          0.2908044103531335,
          0.7588946266855364,
          0.7938771949726587,
          0.635078116271947,
          0.9624090015718887,
          0.8484355128667882,
          0.9555024936228098,
          0.9488816326135064,
          0.4987224280601961,
          0.5669990466257959,
          0.8877821845553502,
          0.414089670120962,
          0.9515393713066983,
          0.02946438928081556,
          0.7764569406208894,
          0.053293709448099705,
          0.6840658957589277,
          0.7898497639623219,
          null,
          0.8610742498106149,
          0.42509300753970036,
          0.062424035693052195,
          0.1377430500066572,
          0.06872079003557967,
          0.0986536271929774,
          0.0067915501730334785,
          0.25626558600340155,
          0.2997966551652842,
          0.04292566623001647,
          0.8896458992765239,
          0.08803690136272024,
          0.7721100028040725,
          0.020838141717490613,
          0.034915753618084515,
          0.7518710576791232,
          0.14422190980882,
          0.69832351035798,
          0.8125610757391224,
          0.742466440676057,
          0.9386239139346139,
          0.8542987469617636,
          0.48058180762237307,
          0.03037607916521158,
          0.7238967650342435,
          0.1137671430441535,
          0.09794502445840055,
          null,
          0.824517695747071,
          0.3039430716697783,
          0.0034549083096719426,
          null,
          null,
          0.053207687114060966,
          0.126655325470865,
          0.5041033157495857,
          0.11904204935428522,
          0.6598370063678126,
          0.148189106994301,
          0.09906907899774722,
          0.06120341378879211,
          0.8098036938976015,
          0.6319764526466476,
          0.003522946742933601,
          null,
          0.5239601010543585,
          0.7848319161959191,
          0.002464810575669827,
          0.9222391719622377,
          0.07926550906010306,
          0.030986513614766873,
          0.33155658959690365,
          null,
          0.14104089834424957,
          0.32972265950690877,
          0.6378679271482502,
          0.5174752402106307,
          0.0013034734477936915,
          0.9555024936228098,
          0.9415594437882163,
          0.07358524764306316,
          0.059120388374017376,
          0.02046404279577893,
          0.7151398691010781,
          0.8386212224045142,
          null,
          0.1497732156125915,
          0.7600325692088401,
          0.8360167615460364,
          0.5530385204709484,
          0.4827567671137789,
          0.7423051391355407,
          0.11563877783264405,
          0.44393493436391623,
          0.9737185167133062,
          0.2791103510536829,
          0.7804417781812598,
          0.02827308201068053,
          0.9324065979729904,
          null,
          0.4426168472299956,
          0.24159384515945007,
          0.826752520412243,
          0.4966535506332975,
          0.8862392955127788,
          0.9006662952266904,
          0.0011070945218862869,
          0.8625113091260367,
          0.9494650398436003,
          0.33872568822475513,
          0.029820869716947508,
          0.9471108416302123,
          0.9043413241327604,
          0.7962646203945478,
          0.3088553305037949,
          null,
          0.43041858057368015,
          0.9536982838413269,
          0.33872568822475513,
          0.981112408125474,
          0.9784155331786705,
          0.9380020178770077,
          0.9896260869921726,
          0.9882222543614437,
          0.9902975192711532,
          0.9901947131390584,
          0.985486646293253,
          0.9919161081872444,
          0.9922564793983991,
          0.9907358605222348,
          0.9917261813668189,
          0.9786969642739556,
          0.9420461111717693,
          0.9511017767713357,
          0.10816217946083412,
          0.26204234247872904,
          0.24572564107220113,
          0.026138924476428592,
          0.07868775950702772,
          0.4642996632559649,
          0.7805454391254226,
          0.7267032361667154,
          0.11599563930213064,
          0.062073857958438054,
          0.02952393404190528,
          0.8430137640400096,
          0.010948980748448524,
          0.0355201208007675,
          0.014844136527325651,
          0.05455089733521225,
          0.8842733965222193,
          0.9586498791987696,
          0.7762673187351419,
          0.5755170307204168,
          0.9639297860699465,
          0.8535231946478901,
          0.37300817425510036,
          0.37300817425510036,
          0.9709121493850688,
          0.7104742123835254,
          0.9416420047100098,
          0.8343346975064875,
          0.9160810407973649,
          0.48366259995502187,
          0.8079458576046864,
          0.023370775543210383,
          0.9353771999681361,
          0.13087311379840894,
          0.8674566337397837,
          0.6190652765380412,
          0.8836456033765047,
          0.6497075307120682,
          0.9562546442012472,
          0.7553772239510408,
          0.9118459191172162,
          0.9384575083799773,
          0.9228312331819482,
          0.9665777939842553,
          0.5390132625704065,
          0.10694711499139044,
          0.03625694621625116,
          0.038661293513096974,
          0.027945466712795967,
          0.015419267603142677,
          0.01700235127417375,
          null,
          0.1868467390302605,
          0.3131724807820867,
          0.43063423259828937,
          0.87751932017258,
          0.7451274354352853,
          0.8927339829758184,
          0.2111030135646549,
          0.12529859906158555,
          0.8844046087809952,
          0.24584271854058076,
          0.1545149826072044,
          0.03348785328907139,
          0.6111617428330581,
          0.6111617428330581,
          0.7978542505235713,
          0.4416723000396209,
          0.7820814939032578,
          0.7537146053369105,
          0.9430471946216775,
          0.9187742577998247,
          0.13236303245660508,
          0.024844895788101666,
          0.0006180980677952216,
          0.4651383933079253,
          0.8555166906121431,
          0.7422939214225436,
          0.15141672057403835,
          0.8160234824880526,
          0.967829266194552,
          0.6851610674084968,
          0.8907491639947784,
          0.013718697812190084,
          0.6793361178914586,
          0.901760733501473,
          0.8958546897970759,
          0.5572612217536584,
          0.9553661132838039,
          0.5224359884830816,
          0.8821569230972534,
          0.9705655623186793,
          0.9664899716781399,
          0.9786237388736505,
          0.7273280019411945,
          0.9317213267387942,
          0.32019615723695666,
          0.45919728191006803,
          0.9394254812249982,
          0.08171675518881412,
          0.6368632842259435,
          0.0455812619718097,
          0.2034920012354384,
          0.6042911012600254,
          0.6042911012600254,
          0.974631016937872,
          0.672281572433894,
          0.8545142208170482,
          0.7961780097806289,
          0.8914296852707787,
          0.9407292148598412,
          0.47183243522963936,
          0.5641624848118699,
          0.6429762737058207,
          0.6717828421498656,
          0.9624412984863804,
          0.5386326670775888,
          0.6542889612813911,
          0.4329291264220564,
          0.9552403112768739,
          0.5543317628779385,
          0.8268035621900952,
          0.957488696356799,
          0.9717664521136795,
          0.1654673756344238,
          0.6987732373275838,
          0.9696878049502107,
          0.9492589514727939,
          0.9533030887853771,
          0.5455805148483704,
          0.013358702315188984,
          0.9094722699129003,
          0.05829610508900219,
          0.9791917434147386,
          0.09202835372109408,
          0.9484384703185347,
          0.9012784110849837,
          0.16444937518254604,
          0.9410937822690569,
          0.33378217971515695,
          0.6139782106404,
          0.9657848670188871,
          0.9665917770759213,
          0.37537346172835795,
          0.09433750530286714,
          0.001341928539849889,
          0.002529431229872741,
          0.5576953409876321,
          0.9017931760971638,
          0.7499349036527233,
          0.8235097059546014,
          0.000294149331489561,
          0.000963441039142983,
          0.7194841594471941,
          0.9746455145643899,
          0.9565877631832028,
          0.9102676315659854,
          0.9353902929598487,
          0.9771912352553344,
          0.954433930519742,
          0.8423544046570897,
          0.9497425063053845,
          0.017260515752499005,
          0.9568387513007127,
          0.9740086763718094,
          0.9461501569364175,
          0.807300812149683,
          0.8710483503050925,
          0.9501629559647284,
          0.7879361427413443,
          0.925002068053863,
          0.9207371746174476,
          0.6427055657752946,
          0.6993590070973486,
          0.7739994514991069,
          0.7184391984354166,
          0.7624117837613684,
          0.9160728494669381,
          0.6449459558131597,
          0.01617146935778764,
          0.9160387125850116,
          0.9544122759203365,
          0.9544792642099177,
          0.8437141636610292,
          0.8432489879006253,
          0.0009239923994273823,
          0.9756769238063494,
          0.9188318427053316,
          0.9507341670398349,
          0.8985495637961931,
          0.9439133539473197,
          0.6516466955833329,
          0.8496545925361989,
          0.9619545872628325,
          0.1235185609709906,
          0.3042966856870567,
          0.9157465166556421,
          0.06003891494055085,
          0.014186170982331384,
          0.23952965713802643,
          0.45125087372313705,
          0.8678927587009084,
          0.09542364331414491,
          0.9494292285644194,
          0.960849463238613,
          0.7585517610628538,
          0.051709179656046815,
          0.8310591027926651,
          0.1423414062043591,
          0.14914225240491166,
          0.7217262828590868,
          0.914966626084873,
          0.8099969045382026,
          0.004733619800906515,
          0.8941167392171593,
          0.16490681499913784,
          0.11188785157915004,
          0.9770914822649892,
          0.9313646524833418,
          0.5438140151964511,
          0.5273486749868621,
          0.7946601540999381,
          0.8223348695839621,
          0.9785172976435416,
          0.9051312463746672,
          0.8029764663135917,
          0.6333693143440201,
          0.9710204654713949,
          0.892929031746855,
          0.929141015295372,
          0.962771603313374,
          0.8874078716616242,
          0.09434669050898548,
          0.3983633250802722,
          0.013341479784057877,
          0.5577097931850045,
          0.7165033739106796,
          0.9687966032402305,
          0.24319467625881544,
          0.36506255467631576,
          0.8645955096220062,
          0.9827115681553619,
          0.884715051737556,
          0.978560573768983,
          0.9807069306081954,
          0.9831902459417211,
          0.9879000438744152,
          0.9948605357699063,
          0.8872791525769884,
          0.0038257101435848723,
          0.9805989796665052,
          0.0028444030504608635,
          0.7802154763735141,
          0.6651626459387007,
          0.7766364416241641,
          0.8785174341099924,
          0.9324117980505825,
          0.9441929669151021,
          0.49825565703092856,
          0.10262893289548221,
          0.17918776894681257,
          0.9682444541962736,
          0.49124901852674885,
          0.16199086912841842,
          0.47258001992749665,
          0.9148347188502041,
          0.12422369024207305,
          0.3955244045431815,
          0.8407059604493814,
          0.9476436464517366,
          0.0614886560908031,
          null,
          0.7105971250634857,
          0.10122095753955479,
          0.9440619914359459,
          0.8518404540217045,
          0.3896178370446902,
          0.6867151361542486,
          0.07353276045089588,
          0.8905854986989581,
          0.06669264931559578,
          0.8758967475367693,
          0.7384286098813628,
          0.8979026056711519,
          0.9435196842773591,
          0.897864339022747,
          0.9049516083676977,
          0.9397797152460781,
          0.06840503865445756,
          0.553721938084284,
          0.21877102492926417,
          0.33174444500495315,
          0.45321501514042467,
          0.01691741801455934,
          0.9583174013599166,
          0.930277208385455,
          0.23222713744925516,
          0.5997422528953505,
          0.3562749240058938,
          0.9796401802320431,
          0.975367828672902,
          0.8339129258857216,
          0.6503334932829454,
          0.2538976237465663,
          0.972688877147908,
          0.904334238703207,
          0.8850694690440638,
          0.042755992866245554,
          0.36090063546202006,
          0.4376507212793198,
          0.8480852161593784,
          0.09843438588368797,
          0.12137899270468859,
          0.5321998054743043,
          0.0012637289825555673,
          0.6361123435425984,
          0.9182580847027305,
          0.8302006123693373,
          0.8802192232864163,
          0.860009414987947,
          0.7721494124704626,
          0.05770505093233223,
          0.0662030675700814,
          0.798704213845385,
          0.06643633356782988,
          0.9718085104140765,
          0.19705391694955374,
          0.022599095403187736,
          0.2618471041355041,
          0.42565568711980684,
          0.5063653936155534,
          0.8944125899392497,
          0.9166316626910372,
          0.9863230032003562,
          0.9863148035212259,
          0.991584222345041,
          0.9755361909849536,
          0.991848108896822,
          0.9889776046265294,
          0.3395150971253845,
          0.9558733360066924,
          0.34229145653141313,
          0.16133869127810405,
          0.3012035597020757,
          0.9502853109999186,
          0.9601610457073365,
          0.2662985266926902,
          0.48158791838504955,
          0.5424648633465108,
          0.18047606676259476,
          0.3700274843080637,
          0.7644727211538165,
          0.8686338640700788,
          0.33488336259045154,
          0.25556852631699434,
          0.5437834120602402,
          0.3859462894275138,
          0.8066039017881109,
          0.7909641604475072,
          0.9787423398246391,
          0.5124905780238279,
          0.12472280324562694,
          0.08314367658487389,
          0.3148880750006825,
          0.8607398005859364,
          0.7255994362842348,
          0.0576869106206805,
          0.7582387379971228,
          0.37619299152784297,
          0.5030715398652736,
          0.9278609056502242,
          0.700423295382747,
          0.9869984496714088,
          0.26326519632635315,
          0.16862841371069412,
          0.3071778213350823,
          0.3131370285058822,
          0.4726138757291588,
          0.8193110159799526,
          0.9269963867695306,
          0.932404632827775,
          0.5455020000208711,
          0.888183842113367,
          0.1340578718999429,
          0.9841453804330991,
          0.9864361875027869,
          0.7482706178347223,
          0.9537826180791756,
          0.1459067567470334,
          0.4012379489150321,
          0.7473893233899206,
          0.8046247586034925,
          0.05476846846363412,
          0.18428931274082846,
          0.5575908600967573,
          0.8665996888842828,
          0.2505361424889315,
          0.945285269523172,
          0.913566618324758,
          0.5691099369429894,
          0.8823267872533996,
          0.03159826751613654,
          0.2752684619937736,
          0.8685105790734013,
          0.4494577086822111,
          0.4695365814904242,
          0.8476469281665989,
          0.9793367831899611,
          0.9605249044184319,
          0.9636636806105431,
          0.8820497397661149,
          0.0717195736561531,
          0.0737074672937073,
          0.5572874021707382,
          0.6325159671829155,
          0.9199772443065274,
          0.008762633245610276,
          0.2356230316496506,
          0.9571708524646833,
          0.3807056484877832,
          0.8949286886938477,
          0.7086515037905191,
          0.8734052374453212,
          0.8027861013330302,
          0.5639026731892642,
          0.7321129776962519,
          0.10018326452399486,
          0.4221706425361236,
          0.5093800320483965,
          0.7701666153558477,
          0.8939012283509928,
          0.9276430773070932,
          0.9650857938240427,
          0.4491296322357757,
          0.9130208093051126,
          0.8031132577704072,
          0.9071883195385472,
          0.8285336577895187,
          0.1334217354284829,
          0.3423277825380277,
          0.3873528890261069,
          0.39665595878374826,
          0.8973873770210606,
          0.9013944873406331,
          0.7169900976489366,
          0.9730574375295108,
          0.4620992003700255,
          0.966896527357626,
          0.9044510013761453,
          0.9751919073645771,
          0.7891301723213188,
          0.3461235588416982,
          0.9504631751002823,
          0.22113202475260188,
          0.20204854055433713,
          0.3203307796239983,
          0.7732045596977962,
          0.5015807021542175,
          0.5274821905928095,
          0.08510602145941695,
          0.5719995728802976,
          0.7305392192156611,
          0.9791699640513069,
          0.32396670822573237,
          0.8116290796252141,
          0.9410245423192514,
          0.026528846805321183,
          0.8345385931500179,
          0.36731630969696744,
          0.9485659248056019,
          0.9488820717337617,
          0.9622730529728375,
          0.5031716872993042,
          0.8935582168468621,
          0.8193213441860725,
          0.3120796614079118,
          0.8566367603663447,
          0.679191491448983,
          0.8965448446181339,
          0.023369188823198894,
          0.534776046158127,
          0.9094413788348227,
          0.31684647716758557,
          0.613475539420311,
          0.8735505639607967,
          0.19999308668489,
          0.5967609877918999,
          0.8130338789402768,
          0.5041862537279866,
          0.5732082747089957,
          0.7971429298554754,
          0.7675552882791137,
          0.8075949498014193,
          0.8644909031582788,
          0.9386394428470675,
          0.8699454356680808,
          0.9864765975120062,
          0.8404247587602757,
          0.10785684702951236,
          0.7969869298319704,
          null,
          0.9521791774155989,
          0.9778630833712985,
          0.8684854336514205,
          0.36299461699804303,
          0.4267932702952737,
          0.7915337765624677,
          0.7307504947237072,
          0.9586095449059493,
          0.563128563350119,
          0.035267481212201184,
          0.8867002771946623,
          0.7871945207532973,
          0.9234669623271079,
          0.40374024194968255,
          0.14535699993274356,
          0.8749167732289118,
          0.8560753302644848,
          0.25786708228338284,
          0.05516896954800192,
          0.39493058044383633,
          0.19989304253042006,
          0.20018712959548363,
          0.2868682329887818,
          0.8144582100090376,
          0.9463219994051755,
          0.88058892810139,
          0.34092668125690284,
          0.8586913661974688,
          0.8402815563985885,
          0.9375825718694054,
          0.5994942154774641,
          0.742362707107374,
          0.9788994356315409,
          0.8222560840298085,
          0.9102895702364417,
          0.9538169279657914,
          0.6639595171306609,
          0.8958349479612998,
          0.632195792524628,
          0.4659632950824496,
          0.9599345422595266,
          0.9189735748116545,
          0.17168602035469915,
          0.3982404838446181,
          0.6641105479651565,
          0.9751386577612224,
          0.9671691935424874,
          0.8952994103792171,
          0.7714736130020554,
          0.7945752687675125,
          0.030686452900109695,
          0.15224304810505696,
          0.8112209709349928,
          0.009280522598656544,
          0.8928597371315785,
          0.5941685612483468,
          0.9772784336357646,
          0.9463751908540398,
          0.5347906326669166,
          0.8974620354295908,
          0.7442269650213863,
          0.8358873881983513,
          0.7918513122169264,
          0.009280522598656544,
          0.9337898714075553,
          null,
          null,
          0.6229849484565214,
          0.39860907943825713,
          0.06224789108018239,
          0.1373675170305685,
          0.17970565726235824,
          0.045653437986471264,
          0.7822245802557984,
          0.5470145107702096,
          0.1384413173396008,
          0.930021282909929,
          0.038273537338463594,
          0.9437539047254212,
          0.9042274805072283,
          0.9644534616485959,
          0.47460187601476955,
          0.6528302350125225,
          0.5734746331864949,
          0.8084883868826378,
          0.11120511988945883,
          0.048620334333318985,
          0.17992668069744724,
          0.33149149104808273,
          0.04674985151461225,
          0.9723224991511318,
          0.940763372808778,
          0.042491754218326606,
          0.06143640431421898,
          0.7303729654928806,
          null,
          0.48661511377857825,
          0.14498050159876327,
          0.4418973299320292,
          0.9244141705484203,
          0.665543846412211,
          0.8960111698625556,
          0.8850645514600827,
          0.31569240865417736,
          0.18833641313499636,
          0.014961416373094649,
          0.8651912095600485,
          0.7349358989374718,
          0.721383416358533,
          0.49306109710989793,
          0.21603844345158435,
          0.6498428876841881,
          0.9203727970195514,
          0.09670210631848401,
          0.10455130224233859,
          0.8880763729333431,
          0.6124945430769348,
          0.6640225948982662,
          0.1411916940201733,
          0.11046589735866308,
          0.028517688624283756,
          0.018511749572190837,
          0.20359233337530586,
          0.9629542855988139,
          0.9097877485099541,
          0.6649867333382649,
          0.5688560353485582,
          0.1517447811517892,
          0.6198996665803834,
          0.4817148269406465,
          0.763523855146203,
          0.9078184098402322,
          0.37244603583277036,
          0.7057560766745709,
          0.6394155272400842,
          0.20490913421008594,
          0.4974107723865169,
          null,
          null,
          0.9815404405222714,
          0.1425459243607494,
          0.906621890236857,
          0.7941513020094563,
          0.9570555394235074,
          0.9132664906192938,
          0.9728508367464326,
          0.9708772695224706,
          0.2576099426066725,
          0.9141074159995789,
          0.590173786191224,
          0.9059433025906213,
          0.2611999159531767,
          0.948089734331301,
          0.9246144475723992,
          0.950030450836713,
          0.03180882968270075,
          0.8994361815244838,
          0.8879925200654727,
          0.9841381532894595,
          0.776403683584585,
          0.05565170613328802,
          0.045841250337769035,
          0.008793985980216794,
          0.3387390921018391,
          0.42951129538331173,
          0.9720581223006861,
          0.7001833611502306,
          0.653654131287948,
          0.9241288076265834,
          0.10234864294963816,
          0.8868821613092245,
          0.37024488184416465,
          0.9308955910807,
          0.5490706392310626,
          0.23968399215552696,
          0.8950904218373377,
          0.9297746890432453,
          0.7775077186847743,
          0.6759294090247452,
          0.8241997373760024,
          0.23566385229553713,
          0.8952913910489545,
          0.8954747711444383,
          0.00875875122477295,
          0.18091123009893662,
          0.9849740323003269,
          0.4851551727582397,
          0.9057585353708834,
          0.45397165863083655,
          0.7087596544515613,
          0.8315978004556562,
          0.49272223042095714,
          0.06639440105268316,
          0.5113306868514732,
          0.2776218786966604,
          0.8551164365978289,
          0.6407530111124203,
          0.6165504312997375,
          0.08662048392558418,
          null,
          null,
          null,
          0.5571026708565162,
          0.5305799325226647,
          0.015339786453312767,
          null,
          0.952790444465204,
          0.6797203998329158,
          0.7916406832129392,
          0.8495281388146185,
          0.8642493105020898,
          0.705311372827957,
          0.6055937113292582,
          0.6182586921993738,
          0.16702690221596558,
          0.7773137889233326,
          0.512273255182976,
          0.6252267577387333,
          null,
          0.990244392756391,
          0.2462737010380785,
          0.8220427079950395,
          0.7498092979958716,
          0.8157639066445294,
          0.730161062983116,
          0.4022234337010541
         ],
         "xbins": {
          "end": 1,
          "size": 0.05,
          "start": 0
         }
        }
       ],
       "layout": {
        "barmode": "overlay",
        "template": {
         "data": {
          "bar": [
           {
            "error_x": {
             "color": "#2a3f5f"
            },
            "error_y": {
             "color": "#2a3f5f"
            },
            "marker": {
             "line": {
              "color": "#E5ECF6",
              "width": 0.5
             },
             "pattern": {
              "fillmode": "overlay",
              "size": 10,
              "solidity": 0.2
             }
            },
            "type": "bar"
           }
          ],
          "barpolar": [
           {
            "marker": {
             "line": {
              "color": "#E5ECF6",
              "width": 0.5
             },
             "pattern": {
              "fillmode": "overlay",
              "size": 10,
              "solidity": 0.2
             }
            },
            "type": "barpolar"
           }
          ],
          "carpet": [
           {
            "aaxis": {
             "endlinecolor": "#2a3f5f",
             "gridcolor": "white",
             "linecolor": "white",
             "minorgridcolor": "white",
             "startlinecolor": "#2a3f5f"
            },
            "baxis": {
             "endlinecolor": "#2a3f5f",
             "gridcolor": "white",
             "linecolor": "white",
             "minorgridcolor": "white",
             "startlinecolor": "#2a3f5f"
            },
            "type": "carpet"
           }
          ],
          "choropleth": [
           {
            "colorbar": {
             "outlinewidth": 0,
             "ticks": ""
            },
            "type": "choropleth"
           }
          ],
          "contour": [
           {
            "colorbar": {
             "outlinewidth": 0,
             "ticks": ""
            },
            "colorscale": [
             [
              0,
              "#0d0887"
             ],
             [
              0.1111111111111111,
              "#46039f"
             ],
             [
              0.2222222222222222,
              "#7201a8"
             ],
             [
              0.3333333333333333,
              "#9c179e"
             ],
             [
              0.4444444444444444,
              "#bd3786"
             ],
             [
              0.5555555555555556,
              "#d8576b"
             ],
             [
              0.6666666666666666,
              "#ed7953"
             ],
             [
              0.7777777777777778,
              "#fb9f3a"
             ],
             [
              0.8888888888888888,
              "#fdca26"
             ],
             [
              1,
              "#f0f921"
             ]
            ],
            "type": "contour"
           }
          ],
          "contourcarpet": [
           {
            "colorbar": {
             "outlinewidth": 0,
             "ticks": ""
            },
            "type": "contourcarpet"
           }
          ],
          "heatmap": [
           {
            "colorbar": {
             "outlinewidth": 0,
             "ticks": ""
            },
            "colorscale": [
             [
              0,
              "#0d0887"
             ],
             [
              0.1111111111111111,
              "#46039f"
             ],
             [
              0.2222222222222222,
              "#7201a8"
             ],
             [
              0.3333333333333333,
              "#9c179e"
             ],
             [
              0.4444444444444444,
              "#bd3786"
             ],
             [
              0.5555555555555556,
              "#d8576b"
             ],
             [
              0.6666666666666666,
              "#ed7953"
             ],
             [
              0.7777777777777778,
              "#fb9f3a"
             ],
             [
              0.8888888888888888,
              "#fdca26"
             ],
             [
              1,
              "#f0f921"
             ]
            ],
            "type": "heatmap"
           }
          ],
          "heatmapgl": [
           {
            "colorbar": {
             "outlinewidth": 0,
             "ticks": ""
            },
            "colorscale": [
             [
              0,
              "#0d0887"
             ],
             [
              0.1111111111111111,
              "#46039f"
             ],
             [
              0.2222222222222222,
              "#7201a8"
             ],
             [
              0.3333333333333333,
              "#9c179e"
             ],
             [
              0.4444444444444444,
              "#bd3786"
             ],
             [
              0.5555555555555556,
              "#d8576b"
             ],
             [
              0.6666666666666666,
              "#ed7953"
             ],
             [
              0.7777777777777778,
              "#fb9f3a"
             ],
             [
              0.8888888888888888,
              "#fdca26"
             ],
             [
              1,
              "#f0f921"
             ]
            ],
            "type": "heatmapgl"
           }
          ],
          "histogram": [
           {
            "marker": {
             "pattern": {
              "fillmode": "overlay",
              "size": 10,
              "solidity": 0.2
             }
            },
            "type": "histogram"
           }
          ],
          "histogram2d": [
           {
            "colorbar": {
             "outlinewidth": 0,
             "ticks": ""
            },
            "colorscale": [
             [
              0,
              "#0d0887"
             ],
             [
              0.1111111111111111,
              "#46039f"
             ],
             [
              0.2222222222222222,
              "#7201a8"
             ],
             [
              0.3333333333333333,
              "#9c179e"
             ],
             [
              0.4444444444444444,
              "#bd3786"
             ],
             [
              0.5555555555555556,
              "#d8576b"
             ],
             [
              0.6666666666666666,
              "#ed7953"
             ],
             [
              0.7777777777777778,
              "#fb9f3a"
             ],
             [
              0.8888888888888888,
              "#fdca26"
             ],
             [
              1,
              "#f0f921"
             ]
            ],
            "type": "histogram2d"
           }
          ],
          "histogram2dcontour": [
           {
            "colorbar": {
             "outlinewidth": 0,
             "ticks": ""
            },
            "colorscale": [
             [
              0,
              "#0d0887"
             ],
             [
              0.1111111111111111,
              "#46039f"
             ],
             [
              0.2222222222222222,
              "#7201a8"
             ],
             [
              0.3333333333333333,
              "#9c179e"
             ],
             [
              0.4444444444444444,
              "#bd3786"
             ],
             [
              0.5555555555555556,
              "#d8576b"
             ],
             [
              0.6666666666666666,
              "#ed7953"
             ],
             [
              0.7777777777777778,
              "#fb9f3a"
             ],
             [
              0.8888888888888888,
              "#fdca26"
             ],
             [
              1,
              "#f0f921"
             ]
            ],
            "type": "histogram2dcontour"
           }
          ],
          "mesh3d": [
           {
            "colorbar": {
             "outlinewidth": 0,
             "ticks": ""
            },
            "type": "mesh3d"
           }
          ],
          "parcoords": [
           {
            "line": {
             "colorbar": {
              "outlinewidth": 0,
              "ticks": ""
             }
            },
            "type": "parcoords"
           }
          ],
          "pie": [
           {
            "automargin": true,
            "type": "pie"
           }
          ],
          "scatter": [
           {
            "fillpattern": {
             "fillmode": "overlay",
             "size": 10,
             "solidity": 0.2
            },
            "type": "scatter"
           }
          ],
          "scatter3d": [
           {
            "line": {
             "colorbar": {
              "outlinewidth": 0,
              "ticks": ""
             }
            },
            "marker": {
             "colorbar": {
              "outlinewidth": 0,
              "ticks": ""
             }
            },
            "type": "scatter3d"
           }
          ],
          "scattercarpet": [
           {
            "marker": {
             "colorbar": {
              "outlinewidth": 0,
              "ticks": ""
             }
            },
            "type": "scattercarpet"
           }
          ],
          "scattergeo": [
           {
            "marker": {
             "colorbar": {
              "outlinewidth": 0,
              "ticks": ""
             }
            },
            "type": "scattergeo"
           }
          ],
          "scattergl": [
           {
            "marker": {
             "colorbar": {
              "outlinewidth": 0,
              "ticks": ""
             }
            },
            "type": "scattergl"
           }
          ],
          "scattermapbox": [
           {
            "marker": {
             "colorbar": {
              "outlinewidth": 0,
              "ticks": ""
             }
            },
            "type": "scattermapbox"
           }
          ],
          "scatterpolar": [
           {
            "marker": {
             "colorbar": {
              "outlinewidth": 0,
              "ticks": ""
             }
            },
            "type": "scatterpolar"
           }
          ],
          "scatterpolargl": [
           {
            "marker": {
             "colorbar": {
              "outlinewidth": 0,
              "ticks": ""
             }
            },
            "type": "scatterpolargl"
           }
          ],
          "scatterternary": [
           {
            "marker": {
             "colorbar": {
              "outlinewidth": 0,
              "ticks": ""
             }
            },
            "type": "scatterternary"
           }
          ],
          "surface": [
           {
            "colorbar": {
             "outlinewidth": 0,
             "ticks": ""
            },
            "colorscale": [
             [
              0,
              "#0d0887"
             ],
             [
              0.1111111111111111,
              "#46039f"
             ],
             [
              0.2222222222222222,
              "#7201a8"
             ],
             [
              0.3333333333333333,
              "#9c179e"
             ],
             [
              0.4444444444444444,
              "#bd3786"
             ],
             [
              0.5555555555555556,
              "#d8576b"
             ],
             [
              0.6666666666666666,
              "#ed7953"
             ],
             [
              0.7777777777777778,
              "#fb9f3a"
             ],
             [
              0.8888888888888888,
              "#fdca26"
             ],
             [
              1,
              "#f0f921"
             ]
            ],
            "type": "surface"
           }
          ],
          "table": [
           {
            "cells": {
             "fill": {
              "color": "#EBF0F8"
             },
             "line": {
              "color": "white"
             }
            },
            "header": {
             "fill": {
              "color": "#C8D4E3"
             },
             "line": {
              "color": "white"
             }
            },
            "type": "table"
           }
          ]
         },
         "layout": {
          "annotationdefaults": {
           "arrowcolor": "#2a3f5f",
           "arrowhead": 0,
           "arrowwidth": 1
          },
          "autotypenumbers": "strict",
          "coloraxis": {
           "colorbar": {
            "outlinewidth": 0,
            "ticks": ""
           }
          },
          "colorscale": {
           "diverging": [
            [
             0,
             "#8e0152"
            ],
            [
             0.1,
             "#c51b7d"
            ],
            [
             0.2,
             "#de77ae"
            ],
            [
             0.3,
             "#f1b6da"
            ],
            [
             0.4,
             "#fde0ef"
            ],
            [
             0.5,
             "#f7f7f7"
            ],
            [
             0.6,
             "#e6f5d0"
            ],
            [
             0.7,
             "#b8e186"
            ],
            [
             0.8,
             "#7fbc41"
            ],
            [
             0.9,
             "#4d9221"
            ],
            [
             1,
             "#276419"
            ]
           ],
           "sequential": [
            [
             0,
             "#0d0887"
            ],
            [
             0.1111111111111111,
             "#46039f"
            ],
            [
             0.2222222222222222,
             "#7201a8"
            ],
            [
             0.3333333333333333,
             "#9c179e"
            ],
            [
             0.4444444444444444,
             "#bd3786"
            ],
            [
             0.5555555555555556,
             "#d8576b"
            ],
            [
             0.6666666666666666,
             "#ed7953"
            ],
            [
             0.7777777777777778,
             "#fb9f3a"
            ],
            [
             0.8888888888888888,
             "#fdca26"
            ],
            [
             1,
             "#f0f921"
            ]
           ],
           "sequentialminus": [
            [
             0,
             "#0d0887"
            ],
            [
             0.1111111111111111,
             "#46039f"
            ],
            [
             0.2222222222222222,
             "#7201a8"
            ],
            [
             0.3333333333333333,
             "#9c179e"
            ],
            [
             0.4444444444444444,
             "#bd3786"
            ],
            [
             0.5555555555555556,
             "#d8576b"
            ],
            [
             0.6666666666666666,
             "#ed7953"
            ],
            [
             0.7777777777777778,
             "#fb9f3a"
            ],
            [
             0.8888888888888888,
             "#fdca26"
            ],
            [
             1,
             "#f0f921"
            ]
           ]
          },
          "colorway": [
           "#636efa",
           "#EF553B",
           "#00cc96",
           "#ab63fa",
           "#FFA15A",
           "#19d3f3",
           "#FF6692",
           "#B6E880",
           "#FF97FF",
           "#FECB52"
          ],
          "font": {
           "color": "#2a3f5f"
          },
          "geo": {
           "bgcolor": "white",
           "lakecolor": "white",
           "landcolor": "#E5ECF6",
           "showlakes": true,
           "showland": true,
           "subunitcolor": "white"
          },
          "hoverlabel": {
           "align": "left"
          },
          "hovermode": "closest",
          "mapbox": {
           "style": "light"
          },
          "paper_bgcolor": "white",
          "plot_bgcolor": "#E5ECF6",
          "polar": {
           "angularaxis": {
            "gridcolor": "white",
            "linecolor": "white",
            "ticks": ""
           },
           "bgcolor": "#E5ECF6",
           "radialaxis": {
            "gridcolor": "white",
            "linecolor": "white",
            "ticks": ""
           }
          },
          "scene": {
           "xaxis": {
            "backgroundcolor": "#E5ECF6",
            "gridcolor": "white",
            "gridwidth": 2,
            "linecolor": "white",
            "showbackground": true,
            "ticks": "",
            "zerolinecolor": "white"
           },
           "yaxis": {
            "backgroundcolor": "#E5ECF6",
            "gridcolor": "white",
            "gridwidth": 2,
            "linecolor": "white",
            "showbackground": true,
            "ticks": "",
            "zerolinecolor": "white"
           },
           "zaxis": {
            "backgroundcolor": "#E5ECF6",
            "gridcolor": "white",
            "gridwidth": 2,
            "linecolor": "white",
            "showbackground": true,
            "ticks": "",
            "zerolinecolor": "white"
           }
          },
          "shapedefaults": {
           "line": {
            "color": "#2a3f5f"
           }
          },
          "ternary": {
           "aaxis": {
            "gridcolor": "white",
            "linecolor": "white",
            "ticks": ""
           },
           "baxis": {
            "gridcolor": "white",
            "linecolor": "white",
            "ticks": ""
           },
           "bgcolor": "#E5ECF6",
           "caxis": {
            "gridcolor": "white",
            "linecolor": "white",
            "ticks": ""
           }
          },
          "title": {
           "x": 0.05
          },
          "xaxis": {
           "automargin": true,
           "gridcolor": "white",
           "linecolor": "white",
           "ticks": "",
           "title": {
            "standoff": 15
           },
           "zerolinecolor": "white",
           "zerolinewidth": 2
          },
          "yaxis": {
           "automargin": true,
           "gridcolor": "white",
           "linecolor": "white",
           "ticks": "",
           "title": {
            "standoff": 15
           },
           "zerolinecolor": "white",
           "zerolinewidth": 2
          }
         }
        },
        "title": {
         "text": "Overlap of MERIT Hydro Catchments with HydroSHEDS"
        },
        "xaxis": {
         "title": {
          "text": "Overlap [%]"
         }
        },
        "yaxis": {
         "title": {
          "text": "Count"
         }
        }
       }
      }
     },
     "metadata": {},
     "output_type": "display_data"
    }
   ],
   "source": [
    "df_overlap_mh = pd.DataFrame(overlap_dict_mh, index=[\"overlap\"]).T\n",
    "\n",
    "# plot histogram with plotly go\n",
    "fig = go.Figure()\n",
    "fig.add_trace(go.Histogram(x=df_overlap_mh[\"overlap\"], xbins=dict(start=0, end=1, size=0.05)))\n",
    "fig.update_layout(barmode='overlay', title=\"Overlap of MERIT Hydro Catchments with HydroSHEDS\")\n",
    "fig.update_traces(opacity=0.6)\n",
    "fig.update_xaxes(title_text=\"Overlap [%]\")\n",
    "fig.update_yaxes(title_text=\"Count\")\n",
    "fig.show()"
   ]
  },
  {
   "cell_type": "markdown",
   "metadata": {},
   "source": [
    "## Compare area_calc with area_reported\n",
    "\n",
    "We can also compare the area from the metadata (provided by federal agencies) with the calculated area of the merit hydro catchments."
   ]
  },
  {
   "cell_type": "code",
   "execution_count": 11,
   "metadata": {},
   "outputs": [
    {
     "name": "stderr",
     "output_type": "stream",
     "text": [
      "/tmp/ipykernel_138927/1557730114.py:18: FutureWarning:\n",
      "\n",
      "The behavior of DataFrame concatenation with empty or all-NA entries is deprecated. In a future version, this will no longer exclude empty or all-NA columns when determining the result dtypes. To retain the old behavior, exclude the relevant entries before the concat operation.\n",
      "\n"
     ]
    },
    {
     "data": {
      "text/html": [
       "<div>\n",
       "<style scoped>\n",
       "    .dataframe tbody tr th:only-of-type {\n",
       "        vertical-align: middle;\n",
       "    }\n",
       "\n",
       "    .dataframe tbody tr th {\n",
       "        vertical-align: top;\n",
       "    }\n",
       "\n",
       "    .dataframe thead th {\n",
       "        text-align: right;\n",
       "    }\n",
       "</style>\n",
       "<table border=\"1\" class=\"dataframe\">\n",
       "  <thead>\n",
       "    <tr style=\"text-align: right;\">\n",
       "      <th></th>\n",
       "      <th>id</th>\n",
       "      <th>name</th>\n",
       "      <th>result</th>\n",
       "      <th>area_calc</th>\n",
       "      <th>area_reported</th>\n",
       "      <th>geometry</th>\n",
       "    </tr>\n",
       "  </thead>\n",
       "  <tbody>\n",
       "    <tr>\n",
       "      <th>0</th>\n",
       "      <td>DEG10000</td>\n",
       "      <td>Ammern</td>\n",
       "      <td>High Res</td>\n",
       "      <td>184.0</td>\n",
       "      <td>182.700</td>\n",
       "      <td>POLYGON ((10.44542 51.23125, 10.44458 51.23125...</td>\n",
       "    </tr>\n",
       "    <tr>\n",
       "      <th>1</th>\n",
       "      <td>DEG10010</td>\n",
       "      <td>Arenshausen</td>\n",
       "      <td>High Res</td>\n",
       "      <td>273.0</td>\n",
       "      <td>275.000</td>\n",
       "      <td>POLYGON ((10.06708 51.41458, 10.07375 51.41458...</td>\n",
       "    </tr>\n",
       "    <tr>\n",
       "      <th>2</th>\n",
       "      <td>DEG10020</td>\n",
       "      <td>Arnstadt</td>\n",
       "      <td>High Res</td>\n",
       "      <td>175.0</td>\n",
       "      <td>174.700</td>\n",
       "      <td>POLYGON ((10.81792 50.77208, 10.81792 50.77292...</td>\n",
       "    </tr>\n",
       "    <tr>\n",
       "      <th>3</th>\n",
       "      <td>DEG10030</td>\n",
       "      <td>Berga</td>\n",
       "      <td>High Res</td>\n",
       "      <td>1390.0</td>\n",
       "      <td>1383.000</td>\n",
       "      <td>POLYGON ((12.15625 50.75042, 12.15625 50.75042...</td>\n",
       "    </tr>\n",
       "    <tr>\n",
       "      <th>4</th>\n",
       "      <td>DEG10040</td>\n",
       "      <td>Blankenstein-Rosenthal</td>\n",
       "      <td>High Res</td>\n",
       "      <td>766.0</td>\n",
       "      <td>1013.000</td>\n",
       "      <td>POLYGON ((11.78458 50.37292, 11.77375 50.37292...</td>\n",
       "    </tr>\n",
       "    <tr>\n",
       "      <th>...</th>\n",
       "      <td>...</td>\n",
       "      <td>...</td>\n",
       "      <td>...</td>\n",
       "      <td>...</td>\n",
       "      <td>...</td>\n",
       "      <td>...</td>\n",
       "    </tr>\n",
       "    <tr>\n",
       "      <th>2819</th>\n",
       "      <td>DE112470</td>\n",
       "      <td>Blaubeuren</td>\n",
       "      <td>High Res</td>\n",
       "      <td>171.0</td>\n",
       "      <td>0.067</td>\n",
       "      <td>POLYGON ((9.55958 48.45125, 9.55958 48.45208, ...</td>\n",
       "    </tr>\n",
       "    <tr>\n",
       "      <th>2820</th>\n",
       "      <td>DE112480</td>\n",
       "      <td>Erlenbach</td>\n",
       "      <td>High Res</td>\n",
       "      <td>101.0</td>\n",
       "      <td>101.510</td>\n",
       "      <td>POLYGON ((9.27875 49.20625, 9.27875 49.20542, ...</td>\n",
       "    </tr>\n",
       "    <tr>\n",
       "      <th>2821</th>\n",
       "      <td>DE112490</td>\n",
       "      <td>Bolheim</td>\n",
       "      <td>High Res</td>\n",
       "      <td>318.0</td>\n",
       "      <td>339.811</td>\n",
       "      <td>POLYGON ((10.23958 48.67792, 10.23958 48.67458...</td>\n",
       "    </tr>\n",
       "    <tr>\n",
       "      <th>2822</th>\n",
       "      <td>DE112500</td>\n",
       "      <td>Schweinhausen</td>\n",
       "      <td>High Res</td>\n",
       "      <td>85.5</td>\n",
       "      <td>101.589</td>\n",
       "      <td>POLYGON ((9.74208 48.05792, 9.74208 48.05708, ...</td>\n",
       "    </tr>\n",
       "    <tr>\n",
       "      <th>2823</th>\n",
       "      <td>DE112510</td>\n",
       "      <td>Oppenweiler</td>\n",
       "      <td>High Res</td>\n",
       "      <td>180.0</td>\n",
       "      <td>180.694</td>\n",
       "      <td>POLYGON ((9.46708 49.00625, 9.46625 49.00625, ...</td>\n",
       "    </tr>\n",
       "  </tbody>\n",
       "</table>\n",
       "<p>2824 rows × 6 columns</p>\n",
       "</div>"
      ],
      "text/plain": [
       "            id                    name    result  area_calc  area_reported  \\\n",
       "0     DEG10000                  Ammern  High Res      184.0        182.700   \n",
       "1     DEG10010             Arenshausen  High Res      273.0        275.000   \n",
       "2     DEG10020                Arnstadt  High Res      175.0        174.700   \n",
       "3     DEG10030                   Berga  High Res     1390.0       1383.000   \n",
       "4     DEG10040  Blankenstein-Rosenthal  High Res      766.0       1013.000   \n",
       "...        ...                     ...       ...        ...            ...   \n",
       "2819  DE112470              Blaubeuren  High Res      171.0          0.067   \n",
       "2820  DE112480               Erlenbach  High Res      101.0        101.510   \n",
       "2821  DE112490                 Bolheim  High Res      318.0        339.811   \n",
       "2822  DE112500           Schweinhausen  High Res       85.5        101.589   \n",
       "2823  DE112510             Oppenweiler  High Res      180.0        180.694   \n",
       "\n",
       "                                               geometry  \n",
       "0     POLYGON ((10.44542 51.23125, 10.44458 51.23125...  \n",
       "1     POLYGON ((10.06708 51.41458, 10.07375 51.41458...  \n",
       "2     POLYGON ((10.81792 50.77208, 10.81792 50.77292...  \n",
       "3     POLYGON ((12.15625 50.75042, 12.15625 50.75042...  \n",
       "4     POLYGON ((11.78458 50.37292, 11.77375 50.37292...  \n",
       "...                                                 ...  \n",
       "2819  POLYGON ((9.55958 48.45125, 9.55958 48.45208, ...  \n",
       "2820  POLYGON ((9.27875 49.20625, 9.27875 49.20542, ...  \n",
       "2821  POLYGON ((10.23958 48.67792, 10.23958 48.67458...  \n",
       "2822  POLYGON ((9.74208 48.05792, 9.74208 48.05708, ...  \n",
       "2823  POLYGON ((9.46708 49.00625, 9.46625 49.00625, ...  \n",
       "\n",
       "[2824 rows x 6 columns]"
      ]
     },
     "execution_count": 11,
     "metadata": {},
     "output_type": "execute_result"
    }
   ],
   "source": [
    "# GeoDataFrame of all catchments\n",
    "camels_ids = get_metadata()[\"camels_id\"].values\n",
    "\n",
    "# create a list of geodataframes\n",
    "gdfs = []\n",
    "\n",
    "for camels_id in camels_ids:\n",
    "    # initialize station\n",
    "    s = Station(camels_id)\n",
    "\n",
    "    # get merit hydro catchment\n",
    "    gdf = s.get_catchment(\"merit_hydro\")\n",
    "\n",
    "    if isinstance(gdf, gpd.GeoDataFrame):\n",
    "        gdfs.append(gdf)\n",
    "\n",
    "# concat all geodataframes\n",
    "gdf_merit_all = gpd.GeoDataFrame(pd.concat(gdfs, ignore_index=True))\n",
    "\n",
    "gdf_merit_all"
   ]
  }
 ],
 "metadata": {
  "kernelspec": {
   "display_name": "base",
   "language": "python",
   "name": "python3"
  },
  "language_info": {
   "codemirror_mode": {
    "name": "ipython",
    "version": 3
   },
   "file_extension": ".py",
   "mimetype": "text/x-python",
   "name": "python",
   "nbconvert_exporter": "python",
   "pygments_lexer": "ipython3",
   "version": "3.11.7"
  }
 },
 "nbformat": 4,
 "nbformat_minor": 2
}
