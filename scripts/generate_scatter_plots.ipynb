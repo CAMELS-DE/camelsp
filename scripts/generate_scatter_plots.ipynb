{
 "cells": [
  {
   "cell_type": "code",
   "execution_count": 1,
   "id": "a4ec0618-0055-4946-a09c-09163ab4929f",
   "metadata": {},
   "outputs": [],
   "source": [
    "import os\n",
    "from tqdm import tqdm\n",
    "import warnings\n",
    "from camelsp import Bundesland"
   ]
  },
  {
   "cell_type": "code",
   "execution_count": 2,
   "id": "f0fc9022-407f-48f2-be30-f429e0b27a68",
   "metadata": {},
   "outputs": [
    {
     "data": {
      "text/plain": [
       "['DE9',\n",
       " 'DEA',\n",
       " 'DEG',\n",
       " 'DE4',\n",
       " 'DE1',\n",
       " 'DED',\n",
       " 'DE8',\n",
       " 'DEF',\n",
       " 'DEE',\n",
       " 'DE7',\n",
       " 'DEC',\n",
       " 'DE2']"
      ]
     },
     "execution_count": 2,
     "metadata": {},
     "output_type": "execute_result"
    }
   ],
   "source": [
    "nuts = [nt for nt in os.listdir(Bundesland('Hessen').base_path) if nt.startswith('DE')]\n",
    "nuts"
   ]
  },
  {
   "cell_type": "code",
   "execution_count": null,
   "id": "762c1b20-a49b-46ba-9a6b-21ad6ffb1f1b",
   "metadata": {},
   "outputs": [],
   "source": [
    "%matplotlib agg\n",
    "REPLACE = False\n",
    "\n",
    "for ID in nuts:\n",
    "    with Bundesland(ID) as bl:\n",
    "        with warnings.catch_warnings(record=True) as warn:\n",
    "            try:\n",
    "                bl.generate_scatter_plots(nuts_ids = 'all',fmt='png', if_exists='replace' if REPLACE else 'omit')\n",
    "            except Exception as e:\n",
    "                print(str(e))\n",
    "                warnings.warn(str(e))\n",
    "            if len(warn) > 0:\n",
    "                print(f\"There were {len(warn)} warnings (missing data files or no overlap for w and q values).\")"
   ]
  },
  {
   "cell_type": "code",
   "execution_count": null,
   "id": "d82152cb-c486-4c02-80d9-8a0a8c2366f7",
   "metadata": {},
   "outputs": [],
   "source": []
  },
  {
   "cell_type": "code",
   "execution_count": 5,
   "id": "954b3c1f-7631-4b97-8ca4-38d060d26a98",
   "metadata": {},
   "outputs": [
    {
     "name": "stdout",
     "output_type": "stream",
     "text": [
      "There were 682 warnings (missing data files or no overlap for w and q values).\n"
     ]
    }
   ],
   "source": [
    "%matplotlib agg\n",
    "REPLACE = False\n",
    "\n",
    "ID = \"DEF\"\n",
    "with Bundesland(ID) as bl:\n",
    "    with warnings.catch_warnings(record=True) as warn:\n",
    "        try:\n",
    "            bl.generate_scatter_plots(nuts_ids = 'all',fmt='png', if_exists='replace' if REPLACE else 'omit')\n",
    "        except Exception as e:\n",
    "            print(str(e))\n",
    "            warnings.warn(str(e))\n",
    "        if len(warn) > 0:\n",
    "            print(f\"There were {len(warn)} warnings (missing data files or no overlap for w and q values).\")"
   ]
  },
  {
   "cell_type": "code",
   "execution_count": null,
   "id": "da606679-b408-4575-84c6-50634696ac5e",
   "metadata": {},
   "outputs": [],
   "source": [
    "for el in warn:\n",
    "    print(el.message)"
   ]
  },
  {
   "cell_type": "code",
   "execution_count": null,
   "id": "7007df81-3a40-47eb-9b6d-b75c3a3afd19",
   "metadata": {},
   "outputs": [],
   "source": []
  },
  {
   "cell_type": "code",
   "execution_count": null,
   "id": "ed862b2d-d92e-4275-97df-3d1b2329d581",
   "metadata": {},
   "outputs": [],
   "source": []
  },
  {
   "cell_type": "code",
   "execution_count": null,
   "id": "26521821-d5ed-418f-aaad-8a1a1dc6fda5",
   "metadata": {},
   "outputs": [],
   "source": []
  },
  {
   "cell_type": "code",
   "execution_count": null,
   "id": "4f49f773-d65c-4592-89b9-e6c2a1cff857",
   "metadata": {},
   "outputs": [],
   "source": []
  },
  {
   "cell_type": "code",
   "execution_count": null,
   "id": "4b606c18-5190-481c-93e4-afc287002ba3",
   "metadata": {},
   "outputs": [],
   "source": []
  },
  {
   "cell_type": "code",
   "execution_count": null,
   "id": "b9832e21-aad6-4e44-a828-de31447a0960",
   "metadata": {},
   "outputs": [],
   "source": []
  }
 ],
 "metadata": {
  "kernelspec": {
   "display_name": "Python 3.9",
   "language": "python",
   "name": "base"
  },
  "language_info": {
   "codemirror_mode": {
    "name": "ipython",
    "version": 3
   },
   "file_extension": ".py",
   "mimetype": "text/x-python",
   "name": "python",
   "nbconvert_exporter": "python",
   "pygments_lexer": "ipython3",
   "version": "3.9.13"
  }
 },
 "nbformat": 4,
 "nbformat_minor": 5
}
