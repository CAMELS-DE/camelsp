{
 "cells": [
  {
   "cell_type": "markdown",
   "id": "67d65596-e397-47ea-9e5e-46525a4fc9b5",
   "metadata": {},
   "source": [
    "Hessen (DE7):\n",
    "\n",
    "Transform coordinates from EPSG:25832 to EPSG:3035\n"
   ]
  },
  {
   "cell_type": "code",
   "execution_count": 13,
   "id": "9e38e77b-0c4f-4c8e-a0d4-208f0fe3dab8",
   "metadata": {},
   "outputs": [],
   "source": [
    "from pyproj import Transformer\n",
    "import pandas as pd\n",
    "import numpy as np"
   ]
  },
  {
   "cell_type": "code",
   "execution_count": 14,
   "id": "d8f88bd6-dbc8-44d3-9a54-3d6f5113dd7e",
   "metadata": {},
   "outputs": [],
   "source": [
    "DE7_meta_data = pd.read_csv('../output_data/raw_metadata/DE7_raw_metadata.csv')"
   ]
  },
  {
   "cell_type": "code",
   "execution_count": 15,
   "id": "a8707588-8efc-4602-8654-77465bf82b27",
   "metadata": {},
   "outputs": [],
   "source": [
    "transformer = Transformer.from_crs(\"EPSG:25832\", \"EPSG:3035\", always_xy=True)"
   ]
  },
  {
   "cell_type": "code",
   "execution_count": 16,
   "id": "d6317ac4-7ec7-48c1-9f26-3db7488e4904",
   "metadata": {},
   "outputs": [],
   "source": [
    "# transform x y coords to EPSG:3035\n",
    "x_transformed = []\n",
    "y_transformed = []\n",
    "\n",
    "for i in range(np.shape(DE7_meta_data)[0]):\n",
    "    x = DE7_meta_data['Koordinaten X'][i]\n",
    "    y = DE7_meta_data['Koordinaten Y'][i]\n",
    "\n",
    "    x_transformed.append(transformer.transform(x, y)[0])\n",
    "    y_transformed.append(transformer.transform(x, y)[1])"
   ]
  },
  {
   "cell_type": "code",
   "execution_count": 17,
   "id": "c87dfbd3-3764-4f8f-8c05-f91bc08600af",
   "metadata": {},
   "outputs": [],
   "source": [
    "HE_Location = pd.DataFrame({'ID':DE7_meta_data['Messstellen Nr.'], 'area':DE7_meta_data['Größe des Einzugsge-biets [km²]'], 'X':x_transformed, 'Y':y_transformed})"
   ]
  },
  {
   "cell_type": "code",
   "execution_count": 18,
   "id": "97fba55c-1107-49ff-be60-efe5a3c5a1b8",
   "metadata": {},
   "outputs": [],
   "source": [
    "HE_Location.to_csv('../output_data/locations/HE_Location.csv', index=False)"
   ]
  }
 ],
 "metadata": {
  "kernelspec": {
   "display_name": "Python 3.9",
   "language": "python",
   "name": "base"
  },
  "language_info": {
   "codemirror_mode": {
    "name": "ipython",
    "version": 3
   },
   "file_extension": ".py",
   "mimetype": "text/x-python",
   "name": "python",
   "nbconvert_exporter": "python",
   "pygments_lexer": "ipython3",
   "version": "3.9.13"
  }
 },
 "nbformat": 4,
 "nbformat_minor": 5
}
