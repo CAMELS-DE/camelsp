{
 "cells": [
  {
   "cell_type": "markdown",
   "metadata": {},
   "source": [
    "# Save basis EZG data from PIA and hydrosheds as geojsons to Station output folders"
   ]
  },
  {
   "cell_type": "code",
   "execution_count": 2,
   "metadata": {},
   "outputs": [],
   "source": [
    "from camelsp import Bundesland, Station, get_metadata\n",
    "import geopandas as gpd\n",
    "from glob import glob\n",
    "import os\n",
    "import warnings"
   ]
  },
  {
   "cell_type": "markdown",
   "metadata": {},
   "source": [
    "## Basis EZG (Pia)"
   ]
  },
  {
   "cell_type": "code",
   "execution_count": 7,
   "metadata": {},
   "outputs": [
    {
     "name": "stdout",
     "output_type": "stream",
     "text": [
      "DEF10060 --- Error: catchment_geometry contains more than one geometries / rows for the station\n",
      "DEF10780 --- Error: catchment_geometry contains more than one geometries / rows for the station\n",
      "DEF14180 --- Error: catchment_geometry contains more than one geometries / rows for the station\n",
      "DED10050 --- Error: catchment_geometry contains more than one geometries / rows for the station\n",
      "DED10110 --- Error: catchment_geometry contains more than one geometries / rows for the station\n",
      "DED10190 --- Error: catchment_geometry contains more than one geometries / rows for the station\n",
      "DED10240 --- Error: catchment_geometry contains more than one geometries / rows for the station\n",
      "DED10260 --- Error: catchment_geometry contains more than one geometries / rows for the station\n",
      "DED10370 --- Error: catchment_geometry contains more than one geometries / rows for the station\n",
      "DED10380 --- Error: catchment_geometry contains more than one geometries / rows for the station\n",
      "DED10480 --- Error: catchment_geometry contains more than one geometries / rows for the station\n",
      "DED10490 --- Error: catchment_geometry contains more than one geometries / rows for the station\n",
      "DED10510 --- Error: catchment_geometry contains more than one geometries / rows for the station\n",
      "DED10560 --- Error: catchment_geometry contains more than one geometries / rows for the station\n",
      "DED10660 --- Error: catchment_geometry contains more than one geometries / rows for the station\n",
      "DED10710 --- Error: catchment_geometry contains more than one geometries / rows for the station\n",
      "DED10720 --- Error: catchment_geometry contains more than one geometries / rows for the station\n",
      "DED10870 --- Error: catchment_geometry contains more than one geometries / rows for the station\n",
      "DED10910 --- Error: catchment_geometry contains more than one geometries / rows for the station\n",
      "DED10950 --- Error: catchment_geometry contains more than one geometries / rows for the station\n",
      "DED10970 --- Error: catchment_geometry contains more than one geometries / rows for the station\n",
      "DED10990 --- Error: catchment_geometry contains more than one geometries / rows for the station\n",
      "DED11000 --- Error: catchment_geometry contains more than one geometries / rows for the station\n",
      "DED11040 --- Error: catchment_geometry contains more than one geometries / rows for the station\n",
      "DED11050 --- Error: catchment_geometry contains more than one geometries / rows for the station\n",
      "DED11060 --- Error: catchment_geometry contains more than one geometries / rows for the station\n",
      "DED11140 --- Error: catchment_geometry contains more than one geometries / rows for the station\n",
      "DED11180 --- Error: catchment_geometry contains more than one geometries / rows for the station\n",
      "DED11210 --- Error: catchment_geometry contains more than one geometries / rows for the station\n",
      "DED11240 --- Error: catchment_geometry contains more than one geometries / rows for the station\n",
      "DED11320 --- Error: catchment_geometry contains more than one geometries / rows for the station\n",
      "DED11480 --- Error: catchment_geometry contains more than one geometries / rows for the station\n",
      "DED11490 --- Error: catchment_geometry contains more than one geometries / rows for the station\n",
      "DED11500 --- Error: catchment_geometry contains more than one geometries / rows for the station\n",
      "DED11540 --- Error: catchment_geometry contains more than one geometries / rows for the station\n",
      "DED11560 --- Error: catchment_geometry contains more than one geometries / rows for the station\n",
      "DED11580 --- Error: catchment_geometry contains more than one geometries / rows for the station\n",
      "DED11600 --- Error: catchment_geometry contains more than one geometries / rows for the station\n",
      "DED11680 --- Error: catchment_geometry contains more than one geometries / rows for the station\n",
      "DED11700 --- Error: catchment_geometry contains more than one geometries / rows for the station\n",
      "DED11710 --- Error: catchment_geometry contains more than one geometries / rows for the station\n",
      "DED11740 --- Error: catchment_geometry contains more than one geometries / rows for the station\n",
      "DED11920 --- Error: catchment_geometry contains more than one geometries / rows for the station\n",
      "DED11990 --- Error: catchment_geometry contains more than one geometries / rows for the station\n",
      "DED12050 --- Error: catchment_geometry contains more than one geometries / rows for the station\n",
      "DED12130 --- Error: catchment_geometry contains more than one geometries / rows for the station\n",
      "DED12140 --- Error: catchment_geometry contains more than one geometries / rows for the station\n",
      "DED12160 --- Error: catchment_geometry contains more than one geometries / rows for the station\n",
      "DED12250 --- Error: catchment_geometry contains more than one geometries / rows for the station\n",
      "DED12280 --- Error: catchment_geometry contains more than one geometries / rows for the station\n",
      "DED12320 --- Error: catchment_geometry contains more than one geometries / rows for the station\n",
      "DED12340 --- Error: catchment_geometry contains more than one geometries / rows for the station\n",
      "DED12350 --- Error: catchment_geometry contains more than one geometries / rows for the station\n",
      "DED12360 --- Error: catchment_geometry contains more than one geometries / rows for the station\n",
      "DED12420 --- Error: catchment_geometry contains more than one geometries / rows for the station\n",
      "DED12480 --- Error: catchment_geometry contains more than one geometries / rows for the station\n",
      "DED12550 --- Error: catchment_geometry contains more than one geometries / rows for the station\n",
      "DED12560 --- Error: catchment_geometry contains more than one geometries / rows for the station\n",
      "DED12580 --- Error: catchment_geometry contains more than one geometries / rows for the station\n",
      "DED12600 --- Error: catchment_geometry contains more than one geometries / rows for the station\n",
      "DED12610 --- Error: catchment_geometry contains more than one geometries / rows for the station\n",
      "DED12640 --- Error: catchment_geometry contains more than one geometries / rows for the station\n",
      "DED12720 --- Error: catchment_geometry contains more than one geometries / rows for the station\n",
      "DED12750 --- Error: catchment_geometry contains more than one geometries / rows for the station\n",
      "DEB10440 --- Error: catchment_geometry contains more than one geometries / rows for the station\n",
      "DEB10890 --- Error: catchment_geometry contains more than one geometries / rows for the station\n",
      "DEB11040 --- Error: catchment_geometry contains more than one geometries / rows for the station\n",
      "DE811070 --- Error: catchment_geometry contains more than one geometries / rows for the station\n",
      "DE812120 --- Error: catchment_geometry contains more than one geometries / rows for the station\n"
     ]
    }
   ],
   "source": [
    "# get metadata\n",
    "meta = get_metadata()\n",
    "\n",
    "# create a list of camels ids\n",
    "camels_ids = meta[\"camels_id\"].tolist()\n",
    "\n",
    "# get the geopackage with all station catchments\n",
    "gdf_all = gpd.read_file('../catchments_pia/camels_20231018/camels_catchments_n2860.gpkg')\n",
    "\n",
    "for camels_id in camels_ids:\n",
    "    try:\n",
    "        # initiate Station\n",
    "        s = Station(camels_id)\n",
    "\n",
    "        # read geojson file\n",
    "        gdf = gdf_all[gdf_all['camels_id'] == camels_id].reset_index()\n",
    "\n",
    "        # save geojson to Station output folder\n",
    "        s.save_catchment_geometry(gdf, datasource='basis_ezg')\n",
    "\n",
    "    except Exception as e:\n",
    "        print(f\"{camels_id} --- Error: {e}\")\n"
   ]
  },
  {
   "cell_type": "markdown",
   "metadata": {},
   "source": [
    "## HydroSheds"
   ]
  },
  {
   "cell_type": "code",
   "execution_count": 8,
   "metadata": {},
   "outputs": [
    {
     "name": "stdout",
     "output_type": "stream",
     "text": [
      "../hydrosheds/DE812120_hydrosheds.geojson --- Error: index 0 is out of bounds for axis 0 with size 0\n"
     ]
    }
   ],
   "source": [
    "hydrosheds = glob('../hydrosheds/*.geojson')\n",
    "\n",
    "for hydroshed in hydrosheds:\n",
    "    try:\n",
    "        # get the id\n",
    "        id = hydroshed.split('/')[-1].split('_')[0]\n",
    "        # initiate Station\n",
    "        s = Station(hydroshed.split('/')[-1].split('_')[0])\n",
    "\n",
    "        # read geojson file\n",
    "        gdf = gpd.read_file(hydroshed)\n",
    "\n",
    "        # save geojson to Station output folder\n",
    "        s.save_catchment_geometry(gdf, datasource='hydrosheds')\n",
    "\n",
    "    except Exception as e:\n",
    "        print(f\"{hydroshed} --- Error: {e}\")"
   ]
  },
  {
   "cell_type": "markdown",
   "metadata": {},
   "source": [
    "## Federal agency catchments\n",
    "\n",
    "Go through the shapefiles that were provided by the federal agencies."
   ]
  },
  {
   "cell_type": "markdown",
   "metadata": {},
   "source": [
    "### DE1 - Baden-Württemberg"
   ]
  },
  {
   "cell_type": "code",
   "execution_count": 5,
   "metadata": {},
   "outputs": [
    {
     "data": {
      "text/plain": [
       "'DE412290'"
      ]
     },
     "execution_count": 5,
     "metadata": {},
     "output_type": "execute_result"
    }
   ],
   "source": [
    "BASE = Bundesland('Baden-Württemberg').input_path\n",
    "\n",
    "gdf_meta = gpd.read_file(os.path.join(BASE, '../Shapes/BW_Shapes/Pegeleinzugsgebiete_2014_ETRS89.shp'))\n",
    "\n",
    "# make column MESSTELLEN int\n",
    "gdf_meta['MESSTELLEN'] = gdf_meta['MESSTELLEN'].astype(int)\n",
    "\n",
    "# save errors\n",
    "errors = []\n",
    "\n",
    "for id in gdf_meta['MESSTELLEN'].values:\n",
    "    # init station via PKZ, ignore warnings as we use provider_id instead of camels_id\n",
    "    try:\n",
    "        with warnings.catch_warnings():\n",
    "            warnings.simplefilter('ignore')\n",
    "            s = Station(id)\n",
    "    except ValueError as e:\n",
    "        errors.append(e)\n",
    "        continue\n",
    "\n",
    "    # get catchment geometry for id\n",
    "    catchment = gdf_meta[gdf_meta['MESSTELLEN'] == id].iloc[[0]]\n",
    "\n",
    "    # save catchment geometry\n",
    "    s.save_catchment_geometry(catchment, datasource='federal_agency_ezg')\n",
    "\n",
    "# print results and number of errors\n",
    "if len(errors) > 0:\n",
    "    print(\"Errors:\")\n",
    "    for e in errors:\n",
    "        print(e)\n"
   ]
  },
  {
   "cell_type": "markdown",
   "metadata": {},
   "source": [
    "### DE2 - Bayern\n",
    "\n",
    "Bayern hat uns Basis EZGs gegeben, die noch zusammengefügt werden müssen (?) -> bekomme ich nicht hin.  \n",
    "Gibt auch noch ein Shapefile für die Pegel, es könnte eine Verknüpfung zwischen 'einzugsgeb' von Pegeln zu Spalte 'GEBKZ_K' von EZGs geben, das haut aber für die meisten Stationen nicht hin, einzugsgeb-Nummer gibt es dann nicht in EZG-Shapefile..."
   ]
  },
  {
   "cell_type": "code",
   "execution_count": null,
   "metadata": {},
   "outputs": [],
   "source": [
    "BASE = Bundesland('Bayern').input_path\n",
    "\n",
    "# Spalte 'stationsnu' und 'einzugsgeb'\n",
    "gdf_pegel = gpd.read_file(os.path.join(BASE, '../../../Shapes/Bayern_Shapes/pegel_bayern_epsg4258_shp/pegel_epsg4258.shp'))\n",
    "\n",
    "# Spalte 'GEBKZ_K'\n",
    "gdf_ezg = gpd.read_file(os.path.join(BASE, '../../../Shapes/Bayern_Shapes/EZG/ezg25_15_2016_by.shp'))\n"
   ]
  },
  {
   "cell_type": "markdown",
   "metadata": {},
   "source": [
    "### DE4 - Brandenburg\n",
    "\n",
    "Auch Basis-EZGs, bei denen ich nicht weiß wie ich sie mergen soll."
   ]
  },
  {
   "cell_type": "code",
   "execution_count": null,
   "metadata": {},
   "outputs": [],
   "source": [
    "BASE = Bundesland('Brandenburg').input_path\n",
    "\n",
    "gdf_ezg = gpd.read_file(os.path.join(BASE, '../Shapes/Brandenburg_Shapes/ezg25/ezg25_20211105/ezg25.shp'))"
   ]
  },
  {
   "cell_type": "markdown",
   "metadata": {},
   "source": [
    "### DE7 - Hessen\n",
    "\n",
    "Hessen gave us two Shapefiles: \"_inoffizielle_version\" and \"_offizielleversion_2022\".  \n",
    "The Shapefiles are in big parts identical, I use the official version for now, as it includes the station_id and is therefor easier to use."
   ]
  },
  {
   "cell_type": "code",
   "execution_count": null,
   "metadata": {},
   "outputs": [],
   "source": [
    "BASE = Bundesland('Hessen').input_path\n",
    "\n",
    "gdf_ezg = gpd.read_file(os.path.join(BASE, '../Shapes/Hessen_Shapes/_offizielle_version_2022/HE_Pegel_CAMELS_EZG.shp'))\n",
    "\n",
    "# save errors\n",
    "errors = []\n",
    "\n",
    "for id in gdf_ezg['STAT_NUM'].values:\n",
    "    # init station via PKZ, ignore warnings as we use provider_id instead of camels_id\n",
    "    try:\n",
    "        with warnings.catch_warnings():\n",
    "            warnings.simplefilter('ignore')\n",
    "            s = Station(id)\n",
    "            \n",
    "    except ValueError as e:\n",
    "        errors.append(e)\n",
    "        continue\n",
    "\n",
    "    # get catchment geometry for id\n",
    "    catchment = gdf_ezg[gdf_ezg['STAT_NUM'] == id].iloc[[0]]\n",
    "\n",
    "    # save catchment geometry\n",
    "    s.save_catchment_geometry(catchment, datasource='federal_agency_ezg')\n",
    "\n",
    "# print results and number of errors\n",
    "if len(errors) > 0:\n",
    "    print(\"Errors:\")\n",
    "    for e in errors:\n",
    "        print(e)\n"
   ]
  },
  {
   "cell_type": "markdown",
   "metadata": {},
   "source": [
    "### DE8 - Mecklenburg-Vorpommern\n",
    "\n",
    "Gibt Pegel und EZG shape, merge ist mir aber nicht klar, sind tw. auch Basis-EZGs."
   ]
  },
  {
   "cell_type": "code",
   "execution_count": null,
   "metadata": {},
   "outputs": [],
   "source": [
    "BASE = Bundesland('Mecklenburg-Vorpommern').input_path\n",
    "\n",
    "gdf_ezg = gpd.read_file(os.path.join(BASE, '../Shapes/MeckPom_Shapes/EZG_MekPom/ezg.shp'))"
   ]
  },
  {
   "cell_type": "markdown",
   "metadata": {},
   "source": [
    "### DE9 - Niedersachsen"
   ]
  },
  {
   "cell_type": "code",
   "execution_count": null,
   "metadata": {},
   "outputs": [],
   "source": [
    "gdf_meta = gpd.read_file(os.path.join(BASE, '../Shapes/Niedersachsen_Shapes/EZG_Pegel_NWLKN/EZG_Pegel_NWLKN.shp'))\n",
    "\n",
    "# save errors\n",
    "errors = []\n",
    "\n",
    "for id in gdf_meta['PEGELID'].values:\n",
    "    # init station via PKZ, ignore warnings as we use provider_id instead of camels_id\n",
    "    try:\n",
    "        with warnings.catch_warnings():\n",
    "            warnings.simplefilter('ignore')\n",
    "            s = Station(id)\n",
    "    except ValueError as e:\n",
    "        errors.append(e)\n",
    "        continue\n",
    "\n",
    "    # get catchment geometry for id\n",
    "    catchment = gdf_meta[gdf_meta['PEGELID'] == id].iloc[[0]]\n",
    "\n",
    "    # save catchment geometry\n",
    "    s.save_catchment_geometry(catchment, datasource='federal_agency_ezg')\n",
    "\n",
    "# print results and number of errors\n",
    "if len(errors) > 0:\n",
    "    print(\"Errors:\")\n",
    "    for e in errors:\n",
    "        print(e)\n"
   ]
  },
  {
   "cell_type": "markdown",
   "metadata": {},
   "source": [
    "### DEA - Nordrhein-Westfalen"
   ]
  },
  {
   "cell_type": "code",
   "execution_count": null,
   "metadata": {},
   "outputs": [],
   "source": [
    "BASE = Bundesland('NRW').input_path\n",
    "\n",
    "gdf_ezg = gpd.read_file(os.path.join(BASE, '../Shapes/NRW_Shapes/whm_nrw_pegeleinzugsgebiete_dissolved/pegeleinzugsgebiete_dissolved.shp'), encoding='utf-8')\n",
    "\n",
    "# save errors\n",
    "errors = []\n",
    "\n",
    "for id in gdf_ezg['pegelid'].values:\n",
    "    # init station via PKZ, ignore warnings as we use provider_id instead of camels_id\n",
    "    try:\n",
    "        with warnings.catch_warnings():\n",
    "            warnings.simplefilter('ignore')\n",
    "            s = Station(id)\n",
    "            \n",
    "    except ValueError as e:\n",
    "        errors.append(e)\n",
    "        continue\n",
    "\n",
    "    # get catchment geometry for id\n",
    "    catchment = gdf_ezg[gdf_ezg['pegelid'] == id].iloc[[0]]\n",
    "\n",
    "    # save catchment geometry\n",
    "    s.save_catchment_geometry(catchment, datasource='federal_agency_ezg')\n",
    "\n",
    "# print results and number of errors\n",
    "if len(errors) > 0:\n",
    "    print(\"Errors:\")\n",
    "    for e in errors:\n",
    "        print(e)\n",
    "\n"
   ]
  },
  {
   "cell_type": "markdown",
   "metadata": {},
   "source": [
    "### DEB - Rheinland-Pfalz\n",
    "\n",
    "The provided shapefile does not contain the station id but only station name and river name.  \n",
    "We try to get the station id by matching station name AND river name."
   ]
  },
  {
   "cell_type": "code",
   "execution_count": null,
   "metadata": {},
   "outputs": [],
   "source": [
    "BASE = Bundesland('Rheinland-Pfalz').input_path\n",
    "\n",
    "gdf_ezg = gpd.read_file(os.path.join(BASE, '../Shapes/RLP_Shapes/pezg/pegelezg.shp'))\n",
    "\n",
    "# get RLP metadata to get station id via station name and river name\n",
    "meta = Bundesland(\"RLP\").metadata\n",
    "\n",
    "for station_name, river_name in zip(gdf_ezg['NAME'].values, gdf_ezg['GEWäSSER'].values):\n",
    "    # get station id from station name and river name\n",
    "    id = meta[(meta['gauge_name'] == station_name) & (meta['waterbody_name'] == river_name)].camels_id.values\n",
    "\n",
    "    # if id was found, init station\n",
    "    if id.size > 0:\n",
    "        s = Station(id[0])\n",
    "\n",
    "        # get catchment geometry for id\n",
    "        catchment = gdf_ezg[(gdf_ezg['NAME'] == station_name) & (gdf_ezg['GEWäSSER'] == river_name)].iloc[[0]]\n",
    "\n",
    "        # save catchment geometry\n",
    "        s.save_catchment_geometry(catchment, datasource='federal_agency_ezg')\n"
   ]
  },
  {
   "cell_type": "markdown",
   "metadata": {},
   "source": [
    "### DEC - Saarland\n",
    "\n",
    "Saarland fehlt im im Shapes Ordner .shp!!"
   ]
  },
  {
   "cell_type": "markdown",
   "metadata": {},
   "source": [
    "### DED - Sachsen\n",
    "\n",
    "Sachsen nur große EZGs (Spree, Elbe, Mulde), keine matches mit unseren Stationen."
   ]
  },
  {
   "cell_type": "code",
   "execution_count": null,
   "metadata": {},
   "outputs": [],
   "source": [
    "BASE = Bundesland('Sachsen').input_path\n",
    "\n",
    "gdf_ezg = gpd.read_file(os.path.join(BASE, '../Shapes/Sachsen_Shapes/EZG_SACHS/EZG_SACHS.shp'))"
   ]
  },
  {
   "cell_type": "markdown",
   "metadata": {},
   "source": [
    "### DEE - Sachsen-Anhalt"
   ]
  },
  {
   "cell_type": "code",
   "execution_count": null,
   "metadata": {},
   "outputs": [],
   "source": [
    "BASE = Bundesland('Sachsen-Anhalt').input_path\n",
    "\n",
    "gdf_meta = gpd.read_file(os.path.join(BASE, '../Shapes/Sachsen-Anhalt_Shapes/Datensatz.gpkg'))\n",
    "\n",
    "for id in gdf_meta['PKZ'].values:\n",
    "    # init station via PKZ, ignore warnings as we use provider_id instead of camels_id\n",
    "    with warnings.catch_warnings():\n",
    "        warnings.simplefilter('ignore')\n",
    "        s = Station(id)\n",
    "\n",
    "    # get catchment geometry for id\n",
    "    catchment = gdf_meta[gdf_meta['PKZ'] == id].iloc[[0]]\n",
    "\n",
    "    # save catchment geometry\n",
    "    s.save_catchment_geometry(catchment, datasource='federal_agency_ezg')\n"
   ]
  },
  {
   "cell_type": "markdown",
   "metadata": {},
   "source": [
    "### DEF - Schleswig-Holstein"
   ]
  },
  {
   "cell_type": "code",
   "execution_count": null,
   "metadata": {},
   "outputs": [],
   "source": [
    "BASE = Bundesland('Schleswig-Holstein').input_path\n",
    "\n",
    "# get all provided shape files, they have the following naming pattern: \"n{provider_id}_{gauge_name}.shp\"\n",
    "all_shapes = glob(os.path.join(BASE, '../Shapes/Schleswig-Holstein_Shapes/SH_shapes/*.shp'))\n",
    "\n",
    "# get all provider ids\n",
    "provider_ids = Bundesland('Schleswig-Holstein').metadata['provider_id'].values\n",
    "\n",
    "for id in provider_ids:\n",
    "    # filter all shapes for the current id\n",
    "    shape_path = [s for s in all_shapes if f'n{id}' in s]\n",
    "\n",
    "    if len(shape_path) == 1:\n",
    "        shape_path = shape_path[0]\n",
    "        gdf_ezg = gpd.read_file(shape_path)\n",
    "\n",
    "    elif len(shape_path) > 1:\n",
    "        # in some cases there are multiple shapes for one id, we take the one with 'ges' in its name (gesamt) -> checked with shape area from metadata\n",
    "        shape_path = [s for s in shape_path if '_ges' in s]\n",
    "\n",
    "        # handle station 114064 manually (partyl in Denmark) -> checked with shape area from metadata\n",
    "        if id == '114064':\n",
    "            shape_path = [os.path.join(BASE, '../Shapes/Schleswig-Holstein_Shapes/SH_shapes/n114064_Soholm.shp')]\n",
    "        \n",
    "        gdf_ezg = gpd.read_file(shape_path[0])\n",
    "\n",
    "    # init station via PKZ, ignore warnings as we use provider_id instead of camels_id\n",
    "    with warnings.catch_warnings():\n",
    "        warnings.simplefilter('ignore')\n",
    "        s = Station(id)\n",
    "\n",
    "        s.save_catchment_geometry(gdf_ezg, datasource='federal_agency_ezg')\n"
   ]
  },
  {
   "cell_type": "markdown",
   "metadata": {},
   "source": [
    "### DEG - Thüringen\n",
    "\n",
    "Different shapefiles for Thüringen but no clear connection between stations and shapes -> not easily possible."
   ]
  },
  {
   "cell_type": "code",
   "execution_count": null,
   "metadata": {},
   "outputs": [],
   "source": [
    "BASE = Bundesland('Thüringen').input_path\n",
    "\n",
    "gdf_1 = gpd.read_file(os.path.join(BASE, '../Shapes/Thueringen_Shapes/oberirdische_einzugsgebiete_thueringens__stand_2016_.shp'))\n",
    "gdf_2 = gpd.read_file(os.path.join(BASE, '../Shapes/Thueringen_Shapes/wasserkoerperkategorie_thueringen_stand_2021_.shp'))\n",
    "gdf_3 = gpd.read_file(os.path.join(BASE, '../Shapes/Thueringen_Shapes/Monitoring_Pegel_TH.shp'))"
   ]
  }
 ],
 "metadata": {
  "kernelspec": {
   "display_name": "base",
   "language": "python",
   "name": "python3"
  },
  "language_info": {
   "codemirror_mode": {
    "name": "ipython",
    "version": 3
   },
   "file_extension": ".py",
   "mimetype": "text/x-python",
   "name": "python",
   "nbconvert_exporter": "python",
   "pygments_lexer": "ipython3",
   "version": "3.11.6"
  }
 },
 "nbformat": 4,
 "nbformat_minor": 2
}
