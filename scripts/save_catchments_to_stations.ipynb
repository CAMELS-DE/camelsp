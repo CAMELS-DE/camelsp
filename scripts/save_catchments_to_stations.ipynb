{
 "cells": [
  {
   "cell_type": "markdown",
   "metadata": {},
   "source": [
    "# Save basis EZG data from PIA and hydrosheds as geojsons to Station output folders"
   ]
  },
  {
   "cell_type": "code",
   "execution_count": 2,
   "metadata": {},
   "outputs": [],
   "source": [
    "from camelsp import Station, get_metadata\n",
    "import geopandas as gpd\n",
    "from glob import glob"
   ]
  },
  {
   "cell_type": "markdown",
   "metadata": {},
   "source": [
    "## Basis EZG (Pia)"
   ]
  },
  {
   "cell_type": "code",
   "execution_count": 7,
   "metadata": {},
   "outputs": [
    {
     "name": "stdout",
     "output_type": "stream",
     "text": [
      "DEF10060 --- Error: catchment_geometry contains more than one geometries / rows for the station\n",
      "DEF10780 --- Error: catchment_geometry contains more than one geometries / rows for the station\n",
      "DEF14180 --- Error: catchment_geometry contains more than one geometries / rows for the station\n",
      "DED10050 --- Error: catchment_geometry contains more than one geometries / rows for the station\n",
      "DED10110 --- Error: catchment_geometry contains more than one geometries / rows for the station\n",
      "DED10190 --- Error: catchment_geometry contains more than one geometries / rows for the station\n",
      "DED10240 --- Error: catchment_geometry contains more than one geometries / rows for the station\n",
      "DED10260 --- Error: catchment_geometry contains more than one geometries / rows for the station\n",
      "DED10370 --- Error: catchment_geometry contains more than one geometries / rows for the station\n",
      "DED10380 --- Error: catchment_geometry contains more than one geometries / rows for the station\n",
      "DED10480 --- Error: catchment_geometry contains more than one geometries / rows for the station\n",
      "DED10490 --- Error: catchment_geometry contains more than one geometries / rows for the station\n",
      "DED10510 --- Error: catchment_geometry contains more than one geometries / rows for the station\n",
      "DED10560 --- Error: catchment_geometry contains more than one geometries / rows for the station\n",
      "DED10660 --- Error: catchment_geometry contains more than one geometries / rows for the station\n",
      "DED10710 --- Error: catchment_geometry contains more than one geometries / rows for the station\n",
      "DED10720 --- Error: catchment_geometry contains more than one geometries / rows for the station\n",
      "DED10870 --- Error: catchment_geometry contains more than one geometries / rows for the station\n",
      "DED10910 --- Error: catchment_geometry contains more than one geometries / rows for the station\n",
      "DED10950 --- Error: catchment_geometry contains more than one geometries / rows for the station\n",
      "DED10970 --- Error: catchment_geometry contains more than one geometries / rows for the station\n",
      "DED10990 --- Error: catchment_geometry contains more than one geometries / rows for the station\n",
      "DED11000 --- Error: catchment_geometry contains more than one geometries / rows for the station\n",
      "DED11040 --- Error: catchment_geometry contains more than one geometries / rows for the station\n",
      "DED11050 --- Error: catchment_geometry contains more than one geometries / rows for the station\n",
      "DED11060 --- Error: catchment_geometry contains more than one geometries / rows for the station\n",
      "DED11140 --- Error: catchment_geometry contains more than one geometries / rows for the station\n",
      "DED11180 --- Error: catchment_geometry contains more than one geometries / rows for the station\n",
      "DED11210 --- Error: catchment_geometry contains more than one geometries / rows for the station\n",
      "DED11240 --- Error: catchment_geometry contains more than one geometries / rows for the station\n",
      "DED11320 --- Error: catchment_geometry contains more than one geometries / rows for the station\n",
      "DED11480 --- Error: catchment_geometry contains more than one geometries / rows for the station\n",
      "DED11490 --- Error: catchment_geometry contains more than one geometries / rows for the station\n",
      "DED11500 --- Error: catchment_geometry contains more than one geometries / rows for the station\n",
      "DED11540 --- Error: catchment_geometry contains more than one geometries / rows for the station\n",
      "DED11560 --- Error: catchment_geometry contains more than one geometries / rows for the station\n",
      "DED11580 --- Error: catchment_geometry contains more than one geometries / rows for the station\n",
      "DED11600 --- Error: catchment_geometry contains more than one geometries / rows for the station\n",
      "DED11680 --- Error: catchment_geometry contains more than one geometries / rows for the station\n",
      "DED11700 --- Error: catchment_geometry contains more than one geometries / rows for the station\n",
      "DED11710 --- Error: catchment_geometry contains more than one geometries / rows for the station\n",
      "DED11740 --- Error: catchment_geometry contains more than one geometries / rows for the station\n",
      "DED11920 --- Error: catchment_geometry contains more than one geometries / rows for the station\n",
      "DED11990 --- Error: catchment_geometry contains more than one geometries / rows for the station\n",
      "DED12050 --- Error: catchment_geometry contains more than one geometries / rows for the station\n",
      "DED12130 --- Error: catchment_geometry contains more than one geometries / rows for the station\n",
      "DED12140 --- Error: catchment_geometry contains more than one geometries / rows for the station\n",
      "DED12160 --- Error: catchment_geometry contains more than one geometries / rows for the station\n",
      "DED12250 --- Error: catchment_geometry contains more than one geometries / rows for the station\n",
      "DED12280 --- Error: catchment_geometry contains more than one geometries / rows for the station\n",
      "DED12320 --- Error: catchment_geometry contains more than one geometries / rows for the station\n",
      "DED12340 --- Error: catchment_geometry contains more than one geometries / rows for the station\n",
      "DED12350 --- Error: catchment_geometry contains more than one geometries / rows for the station\n",
      "DED12360 --- Error: catchment_geometry contains more than one geometries / rows for the station\n",
      "DED12420 --- Error: catchment_geometry contains more than one geometries / rows for the station\n",
      "DED12480 --- Error: catchment_geometry contains more than one geometries / rows for the station\n",
      "DED12550 --- Error: catchment_geometry contains more than one geometries / rows for the station\n",
      "DED12560 --- Error: catchment_geometry contains more than one geometries / rows for the station\n",
      "DED12580 --- Error: catchment_geometry contains more than one geometries / rows for the station\n",
      "DED12600 --- Error: catchment_geometry contains more than one geometries / rows for the station\n",
      "DED12610 --- Error: catchment_geometry contains more than one geometries / rows for the station\n",
      "DED12640 --- Error: catchment_geometry contains more than one geometries / rows for the station\n",
      "DED12720 --- Error: catchment_geometry contains more than one geometries / rows for the station\n",
      "DED12750 --- Error: catchment_geometry contains more than one geometries / rows for the station\n",
      "DEB10440 --- Error: catchment_geometry contains more than one geometries / rows for the station\n",
      "DEB10890 --- Error: catchment_geometry contains more than one geometries / rows for the station\n",
      "DEB11040 --- Error: catchment_geometry contains more than one geometries / rows for the station\n",
      "DE811070 --- Error: catchment_geometry contains more than one geometries / rows for the station\n",
      "DE812120 --- Error: catchment_geometry contains more than one geometries / rows for the station\n"
     ]
    }
   ],
   "source": [
    "# get metadata\n",
    "meta = get_metadata()\n",
    "\n",
    "# create a list of camels ids\n",
    "camels_ids = meta[\"camels_id\"].tolist()\n",
    "\n",
    "# get the geopackage with all station catchments\n",
    "gdf_all = gpd.read_file('../catchments_pia/camels_20231018/camels_catchments_n2860.gpkg')\n",
    "\n",
    "for camels_id in camels_ids:\n",
    "    try:\n",
    "        # initiate Station\n",
    "        s = Station(camels_id)\n",
    "\n",
    "        # read geojson file\n",
    "        gdf = gdf_all[gdf_all['camels_id'] == camels_id].reset_index()\n",
    "\n",
    "        # save geojson to Station output folder\n",
    "        s.save_catchment_geometry(gdf, datasource='basis_ezg')\n",
    "\n",
    "    except Exception as e:\n",
    "        print(f\"{camels_id} --- Error: {e}\")\n"
   ]
  },
  {
   "cell_type": "markdown",
   "metadata": {},
   "source": [
    "## HydroSheds"
   ]
  },
  {
   "cell_type": "code",
   "execution_count": 8,
   "metadata": {},
   "outputs": [
    {
     "name": "stdout",
     "output_type": "stream",
     "text": [
      "../hydrosheds/DE812120_hydrosheds.geojson --- Error: index 0 is out of bounds for axis 0 with size 0\n"
     ]
    }
   ],
   "source": [
    "hydrosheds = glob('../hydrosheds/*.geojson')\n",
    "\n",
    "for hydroshed in hydrosheds:\n",
    "    try:\n",
    "        # get the id\n",
    "        id = hydroshed.split('/')[-1].split('_')[0]\n",
    "        # initiate Station\n",
    "        s = Station(hydroshed.split('/')[-1].split('_')[0])\n",
    "\n",
    "        # read geojson file\n",
    "        gdf = gpd.read_file(hydroshed)\n",
    "\n",
    "        # save geojson to Station output folder\n",
    "        s.save_catchment_geometry(gdf, datasource='hydrosheds')\n",
    "\n",
    "    except Exception as e:\n",
    "        print(f\"{hydroshed} --- Error: {e}\")"
   ]
  },
  {
   "cell_type": "code",
   "execution_count": 5,
   "metadata": {},
   "outputs": [
    {
     "data": {
      "text/plain": [
       "'DE412290'"
      ]
     },
     "execution_count": 5,
     "metadata": {},
     "output_type": "execute_result"
    }
   ],
   "source": [
    "hydrosheds[0].split('/')[-1].split('_')[0]"
   ]
  }
 ],
 "metadata": {
  "kernelspec": {
   "display_name": "base",
   "language": "python",
   "name": "python3"
  },
  "language_info": {
   "codemirror_mode": {
    "name": "ipython",
    "version": 3
   },
   "file_extension": ".py",
   "mimetype": "text/x-python",
   "name": "python",
   "nbconvert_exporter": "python",
   "pygments_lexer": "ipython3",
   "version": "3.11.6"
  }
 },
 "nbformat": 4,
 "nbformat_minor": 2
}
