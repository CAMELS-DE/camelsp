{
 "cells": [
  {
   "cell_type": "markdown",
   "metadata": {},
   "source": [
    "# Save basis EZG data from PIA and hydrosheds as geojsons to Station output folders"
   ]
  },
  {
   "cell_type": "code",
   "execution_count": 1,
   "metadata": {},
   "outputs": [],
   "source": [
    "from camelsp import Bundesland, Station, get_metadata\n",
    "import geopandas as gpd\n",
    "from glob import glob\n",
    "import os\n",
    "import warnings"
   ]
  },
  {
   "cell_type": "markdown",
   "metadata": {},
   "source": [
    "## Basis EZG (Pia)"
   ]
  },
  {
   "cell_type": "code",
   "execution_count": 2,
   "metadata": {},
   "outputs": [
    {
     "name": "stdout",
     "output_type": "stream",
     "text": [
      "DEF10780 --- Error: catchment_geometry contains 0 geometries / rows for the station, 1 is allowed\n",
      "DED10050 --- Error: catchment_geometry contains 0 geometries / rows for the station, 1 is allowed\n",
      "DED10110 --- Error: catchment_geometry contains 0 geometries / rows for the station, 1 is allowed\n",
      "DED10190 --- Error: catchment_geometry contains 0 geometries / rows for the station, 1 is allowed\n",
      "DED10240 --- Error: catchment_geometry contains 0 geometries / rows for the station, 1 is allowed\n",
      "DED10260 --- Error: catchment_geometry contains 0 geometries / rows for the station, 1 is allowed\n",
      "DED10370 --- Error: catchment_geometry contains 0 geometries / rows for the station, 1 is allowed\n",
      "DED10380 --- Error: catchment_geometry contains 0 geometries / rows for the station, 1 is allowed\n",
      "DED10480 --- Error: catchment_geometry contains 0 geometries / rows for the station, 1 is allowed\n",
      "DED10490 --- Error: catchment_geometry contains 0 geometries / rows for the station, 1 is allowed\n",
      "DED10510 --- Error: catchment_geometry contains 0 geometries / rows for the station, 1 is allowed\n",
      "DED10560 --- Error: catchment_geometry contains 0 geometries / rows for the station, 1 is allowed\n",
      "DED10660 --- Error: catchment_geometry contains 0 geometries / rows for the station, 1 is allowed\n",
      "DED10710 --- Error: catchment_geometry contains 0 geometries / rows for the station, 1 is allowed\n",
      "DED10720 --- Error: catchment_geometry contains 0 geometries / rows for the station, 1 is allowed\n",
      "DED10870 --- Error: catchment_geometry contains 0 geometries / rows for the station, 1 is allowed\n",
      "DED10910 --- Error: catchment_geometry contains 0 geometries / rows for the station, 1 is allowed\n",
      "DED10950 --- Error: catchment_geometry contains 0 geometries / rows for the station, 1 is allowed\n",
      "DED10970 --- Error: catchment_geometry contains 0 geometries / rows for the station, 1 is allowed\n",
      "DED10990 --- Error: catchment_geometry contains 0 geometries / rows for the station, 1 is allowed\n",
      "DED11000 --- Error: catchment_geometry contains 0 geometries / rows for the station, 1 is allowed\n",
      "DED11040 --- Error: catchment_geometry contains 0 geometries / rows for the station, 1 is allowed\n",
      "DED11050 --- Error: catchment_geometry contains 0 geometries / rows for the station, 1 is allowed\n",
      "DED11060 --- Error: catchment_geometry contains 0 geometries / rows for the station, 1 is allowed\n",
      "DED11140 --- Error: catchment_geometry contains 0 geometries / rows for the station, 1 is allowed\n",
      "DED11180 --- Error: catchment_geometry contains 0 geometries / rows for the station, 1 is allowed\n",
      "DED11210 --- Error: catchment_geometry contains 0 geometries / rows for the station, 1 is allowed\n",
      "DED11240 --- Error: catchment_geometry contains 0 geometries / rows for the station, 1 is allowed\n",
      "DED11320 --- Error: catchment_geometry contains 0 geometries / rows for the station, 1 is allowed\n",
      "DED11480 --- Error: catchment_geometry contains 0 geometries / rows for the station, 1 is allowed\n",
      "DED11490 --- Error: catchment_geometry contains 0 geometries / rows for the station, 1 is allowed\n",
      "DED11500 --- Error: catchment_geometry contains 0 geometries / rows for the station, 1 is allowed\n",
      "DED11540 --- Error: catchment_geometry contains 0 geometries / rows for the station, 1 is allowed\n",
      "DED11560 --- Error: catchment_geometry contains 0 geometries / rows for the station, 1 is allowed\n",
      "DED11580 --- Error: catchment_geometry contains 0 geometries / rows for the station, 1 is allowed\n",
      "DED11600 --- Error: catchment_geometry contains 0 geometries / rows for the station, 1 is allowed\n",
      "DED11680 --- Error: catchment_geometry contains 0 geometries / rows for the station, 1 is allowed\n",
      "DED11700 --- Error: catchment_geometry contains 0 geometries / rows for the station, 1 is allowed\n",
      "DED11710 --- Error: catchment_geometry contains 0 geometries / rows for the station, 1 is allowed\n",
      "DED11740 --- Error: catchment_geometry contains 0 geometries / rows for the station, 1 is allowed\n",
      "DED11920 --- Error: catchment_geometry contains 0 geometries / rows for the station, 1 is allowed\n",
      "DED11990 --- Error: catchment_geometry contains 0 geometries / rows for the station, 1 is allowed\n",
      "DED12050 --- Error: catchment_geometry contains 0 geometries / rows for the station, 1 is allowed\n",
      "DED12130 --- Error: catchment_geometry contains 0 geometries / rows for the station, 1 is allowed\n",
      "DED12140 --- Error: catchment_geometry contains 0 geometries / rows for the station, 1 is allowed\n",
      "DED12160 --- Error: catchment_geometry contains 0 geometries / rows for the station, 1 is allowed\n",
      "DED12250 --- Error: catchment_geometry contains 0 geometries / rows for the station, 1 is allowed\n",
      "DED12280 --- Error: catchment_geometry contains 0 geometries / rows for the station, 1 is allowed\n",
      "DED12320 --- Error: catchment_geometry contains 0 geometries / rows for the station, 1 is allowed\n",
      "DED12340 --- Error: catchment_geometry contains 0 geometries / rows for the station, 1 is allowed\n",
      "DED12350 --- Error: catchment_geometry contains 0 geometries / rows for the station, 1 is allowed\n",
      "DED12360 --- Error: catchment_geometry contains 0 geometries / rows for the station, 1 is allowed\n",
      "DED12420 --- Error: catchment_geometry contains 0 geometries / rows for the station, 1 is allowed\n",
      "DED12480 --- Error: catchment_geometry contains 0 geometries / rows for the station, 1 is allowed\n",
      "DED12550 --- Error: catchment_geometry contains 0 geometries / rows for the station, 1 is allowed\n",
      "DED12560 --- Error: catchment_geometry contains 0 geometries / rows for the station, 1 is allowed\n",
      "DED12580 --- Error: catchment_geometry contains 0 geometries / rows for the station, 1 is allowed\n",
      "DED12600 --- Error: catchment_geometry contains 0 geometries / rows for the station, 1 is allowed\n",
      "DED12610 --- Error: catchment_geometry contains 0 geometries / rows for the station, 1 is allowed\n",
      "DED12640 --- Error: catchment_geometry contains 0 geometries / rows for the station, 1 is allowed\n",
      "DED12720 --- Error: catchment_geometry contains 0 geometries / rows for the station, 1 is allowed\n",
      "DED12750 --- Error: catchment_geometry contains 0 geometries / rows for the station, 1 is allowed\n",
      "DEB10440 --- Error: catchment_geometry contains 0 geometries / rows for the station, 1 is allowed\n",
      "DEB10890 --- Error: catchment_geometry contains 0 geometries / rows for the station, 1 is allowed\n",
      "DEB11040 --- Error: catchment_geometry contains 0 geometries / rows for the station, 1 is allowed\n",
      "DE912850 --- Error: catchment_geometry contains 0 geometries / rows for the station, 1 is allowed\n",
      "DE912860 --- Error: catchment_geometry contains 0 geometries / rows for the station, 1 is allowed\n",
      "DE912880 --- Error: catchment_geometry contains 0 geometries / rows for the station, 1 is allowed\n",
      "DE912920 --- Error: catchment_geometry contains 0 geometries / rows for the station, 1 is allowed\n",
      "DE912930 --- Error: catchment_geometry contains 0 geometries / rows for the station, 1 is allowed\n",
      "DE811070 --- Error: catchment_geometry contains 0 geometries / rows for the station, 1 is allowed\n"
     ]
    }
   ],
   "source": [
    "# get metadata\n",
    "meta = get_metadata()\n",
    "\n",
    "# create a list of camels ids\n",
    "camels_ids = meta[\"camels_id\"].tolist()\n",
    "\n",
    "# get the geopackage with all station catchments\n",
    "gdf_all = gpd.read_file('../catchments_pia/camels_20231018/camels_catchments_n2860.gpkg')\n",
    "\n",
    "for camels_id in camels_ids:\n",
    "    try:\n",
    "        # initiate Station\n",
    "        s = Station(camels_id)\n",
    "\n",
    "        # read geojson file\n",
    "        gdf = gdf_all[gdf_all['camels_id'] == camels_id].reset_index()\n",
    "\n",
    "        # save geojson to Station output folder\n",
    "        s.save_catchment_geometry(gdf, datasource='basis_ezg')\n",
    "\n",
    "    except Exception as e:\n",
    "        print(f\"{camels_id} --- Error: {e}\")\n"
   ]
  },
  {
   "cell_type": "markdown",
   "metadata": {},
   "source": [
    "## HydroSheds"
   ]
  },
  {
   "cell_type": "code",
   "execution_count": 3,
   "metadata": {},
   "outputs": [
    {
     "name": "stdout",
     "output_type": "stream",
     "text": [
      "../hydrosheds/DE812120_hydrosheds.geojson --- Error: index 0 is out of bounds for axis 0 with size 0\n"
     ]
    }
   ],
   "source": [
    "hydrosheds = glob('../hydrosheds/*.geojson')\n",
    "\n",
    "for hydroshed in hydrosheds:\n",
    "    try:\n",
    "        # get the id\n",
    "        id = hydroshed.split('/')[-1].split('_')[0]\n",
    "        # initiate Station\n",
    "        s = Station(hydroshed.split('/')[-1].split('_')[0])\n",
    "\n",
    "        # read geojson file\n",
    "        gdf = gpd.read_file(hydroshed)\n",
    "\n",
    "        # save geojson to Station output folder\n",
    "        s.save_catchment_geometry(gdf, datasource='hydrosheds')\n",
    "\n",
    "    except Exception as e:\n",
    "        print(f\"{hydroshed} --- Error: {e}\")"
   ]
  },
  {
   "cell_type": "markdown",
   "metadata": {},
   "source": [
    "## Federal agency catchments\n",
    "\n",
    "Go through the shapefiles that were provided by the federal agencies."
   ]
  },
  {
   "cell_type": "markdown",
   "metadata": {},
   "source": [
    "### DE1 - Baden-Württemberg"
   ]
  },
  {
   "cell_type": "code",
   "execution_count": 2,
   "metadata": {},
   "outputs": [
    {
     "name": "stdout",
     "output_type": "stream",
     "text": [
      "Errors:\n",
      "103 is neither a provider_id nor a CAMELS-DE NUTSID\n",
      "183 is neither a provider_id nor a CAMELS-DE NUTSID\n",
      "184 is neither a provider_id nor a CAMELS-DE NUTSID\n",
      "185 is neither a provider_id nor a CAMELS-DE NUTSID\n",
      "386 is neither a provider_id nor a CAMELS-DE NUTSID\n",
      "399 is neither a provider_id nor a CAMELS-DE NUTSID\n",
      "1110 is neither a provider_id nor a CAMELS-DE NUTSID\n",
      "1112 is neither a provider_id nor a CAMELS-DE NUTSID\n",
      "1113 is neither a provider_id nor a CAMELS-DE NUTSID\n",
      "1114 is neither a provider_id nor a CAMELS-DE NUTSID\n",
      "1115 is neither a provider_id nor a CAMELS-DE NUTSID\n",
      "1148 is neither a provider_id nor a CAMELS-DE NUTSID\n",
      "1304 is neither a provider_id nor a CAMELS-DE NUTSID\n",
      "1304 is neither a provider_id nor a CAMELS-DE NUTSID\n",
      "1311 is neither a provider_id nor a CAMELS-DE NUTSID\n",
      "1452 is neither a provider_id nor a CAMELS-DE NUTSID\n",
      "2366 is neither a provider_id nor a CAMELS-DE NUTSID\n",
      "4401 is neither a provider_id nor a CAMELS-DE NUTSID\n",
      "4402 is neither a provider_id nor a CAMELS-DE NUTSID\n",
      "4424 is neither a provider_id nor a CAMELS-DE NUTSID\n",
      "24945 is neither a provider_id nor a CAMELS-DE NUTSID\n",
      "47766 is neither a provider_id nor a CAMELS-DE NUTSID\n",
      "57128 is neither a provider_id nor a CAMELS-DE NUTSID\n",
      "61139 is neither a provider_id nor a CAMELS-DE NUTSID\n",
      "76161 is neither a provider_id nor a CAMELS-DE NUTSID\n",
      "76194 is neither a provider_id nor a CAMELS-DE NUTSID\n",
      "76265 is neither a provider_id nor a CAMELS-DE NUTSID\n",
      "76275 is neither a provider_id nor a CAMELS-DE NUTSID\n",
      "76277 is neither a provider_id nor a CAMELS-DE NUTSID\n",
      "76287 is neither a provider_id nor a CAMELS-DE NUTSID\n",
      "9900427 is neither a provider_id nor a CAMELS-DE NUTSID\n",
      "9903310 is neither a provider_id nor a CAMELS-DE NUTSID\n",
      "9903339 is neither a provider_id nor a CAMELS-DE NUTSID\n",
      "9960681 is neither a provider_id nor a CAMELS-DE NUTSID\n",
      "9976167 is neither a provider_id nor a CAMELS-DE NUTSID\n"
     ]
    }
   ],
   "source": [
    "BASE = Bundesland('Baden-Württemberg').input_path\n",
    "\n",
    "gdf_meta = gpd.read_file(os.path.join(BASE, '../Shapes/BW_Shapes/Pegeleinzugsgebiete_2014_ETRS89.shp'))\n",
    "\n",
    "# make column MESSTELLEN int\n",
    "gdf_meta['MESSTELLEN'] = gdf_meta['MESSTELLEN'].astype(int)\n",
    "\n",
    "# save errors\n",
    "errors = []\n",
    "\n",
    "for id in gdf_meta['MESSTELLEN'].values:\n",
    "    # init station via PKZ, ignore warnings as we use provider_id instead of camels_id\n",
    "    try:\n",
    "        with warnings.catch_warnings():\n",
    "            warnings.simplefilter('ignore')\n",
    "            s = Station(id)\n",
    "    except ValueError as e:\n",
    "        errors.append(e)\n",
    "        continue\n",
    "\n",
    "    # get catchment geometry for id\n",
    "    catchment = gdf_meta[gdf_meta['MESSTELLEN'] == id].iloc[[0]]\n",
    "\n",
    "    # save catchment geometry\n",
    "    s.save_catchment_geometry(catchment, datasource='federal_agency_ezg', if_exists='replace')\n",
    "\n",
    "# print results and number of errors\n",
    "if len(errors) > 0:\n",
    "    print(\"Errors:\")\n",
    "    for e in errors:\n",
    "        print(e)\n"
   ]
  },
  {
   "cell_type": "markdown",
   "metadata": {},
   "source": [
    "### DE2 - Bayern\n",
    "\n",
    "Bayern hat uns Basis EZGs gegeben, die noch zusammengefügt werden müssen (?) -> bekomme ich nicht hin.  \n",
    "Gibt auch noch ein Shapefile für die Pegel, es könnte eine Verknüpfung zwischen 'einzugsgeb' von Pegeln zu Spalte 'GEBKZ_K' von EZGs geben, das haut aber für die meisten Stationen nicht hin, einzugsgeb-Nummer gibt es dann nicht in EZG-Shapefile..."
   ]
  },
  {
   "cell_type": "code",
   "execution_count": 3,
   "metadata": {},
   "outputs": [],
   "source": [
    "BASE = Bundesland('Bayern').input_path\n",
    "\n",
    "# Spalte 'stationsnu' und 'einzugsgeb'\n",
    "gdf_pegel = gpd.read_file(os.path.join(BASE, '../../../Shapes/Bayern_Shapes/pegel_bayern_epsg4258_shp/pegel_epsg4258.shp'))\n",
    "\n",
    "# Spalte 'GEBKZ_K'\n",
    "gdf_ezg = gpd.read_file(os.path.join(BASE, '../../../Shapes/Bayern_Shapes/EZG/ezg25_15_2016_by.shp'))\n"
   ]
  },
  {
   "cell_type": "markdown",
   "metadata": {},
   "source": [
    "### DE4 - Brandenburg\n",
    "\n",
    "Auch Basis-EZGs, bei denen ich nicht weiß wie ich sie mergen soll."
   ]
  },
  {
   "cell_type": "code",
   "execution_count": 4,
   "metadata": {},
   "outputs": [],
   "source": [
    "BASE = Bundesland('Brandenburg').input_path\n",
    "\n",
    "gdf_ezg = gpd.read_file(os.path.join(BASE, '../Shapes/Brandenburg_Shapes/ezg25/ezg25_20211105/ezg25.shp'))"
   ]
  },
  {
   "cell_type": "markdown",
   "metadata": {},
   "source": [
    "### DE7 - Hessen\n",
    "\n",
    "Hessen gave us two Shapefiles: \"_inoffizielle_version\" and \"_offizielleversion_2022\".  \n",
    "The Shapefiles are in big parts identical, I use the official version for now, as it includes the station_id and is therefor easier to use."
   ]
  },
  {
   "cell_type": "code",
   "execution_count": 5,
   "metadata": {},
   "outputs": [],
   "source": [
    "BASE = Bundesland('Hessen').input_path\n",
    "\n",
    "gdf_ezg = gpd.read_file(os.path.join(BASE, '../Shapes/Hessen_Shapes/_offizielle_version_2022/HE_Pegel_CAMELS_EZG.shp'))\n",
    "\n",
    "# save errors\n",
    "errors = []\n",
    "\n",
    "for id in gdf_ezg['STAT_NUM'].values:\n",
    "    # init station via PKZ, ignore warnings as we use provider_id instead of camels_id\n",
    "    try:\n",
    "        with warnings.catch_warnings():\n",
    "            warnings.simplefilter('ignore')\n",
    "            s = Station(id)\n",
    "            \n",
    "    except ValueError as e:\n",
    "        errors.append(e)\n",
    "        continue\n",
    "\n",
    "    # get catchment geometry for id\n",
    "    catchment = gdf_ezg[gdf_ezg['STAT_NUM'] == id].iloc[[0]]\n",
    "\n",
    "    # save catchment geometry\n",
    "    s.save_catchment_geometry(catchment, datasource='federal_agency_ezg', if_exists='replace')\n",
    "\n",
    "# print results and number of errors\n",
    "if len(errors) > 0:\n",
    "    print(\"Errors:\")\n",
    "    for e in errors:\n",
    "        print(e)\n"
   ]
  },
  {
   "cell_type": "markdown",
   "metadata": {},
   "source": [
    "### DE8 - Mecklenburg-Vorpommern\n",
    "\n",
    "Gibt Pegel und EZG shape, merge ist mir aber nicht klar, sind tw. auch Basis-EZGs."
   ]
  },
  {
   "cell_type": "code",
   "execution_count": 6,
   "metadata": {},
   "outputs": [],
   "source": [
    "BASE = Bundesland('Mecklenburg-Vorpommern').input_path\n",
    "\n",
    "gdf_ezg = gpd.read_file(os.path.join(BASE, '../Shapes/MeckPom_Shapes/EZG_MekPom/ezg.shp'))"
   ]
  },
  {
   "cell_type": "markdown",
   "metadata": {},
   "source": [
    "### DE9 - Niedersachsen"
   ]
  },
  {
   "cell_type": "code",
   "execution_count": 7,
   "metadata": {},
   "outputs": [
    {
     "name": "stdout",
     "output_type": "stream",
     "text": [
      "Errors:\n",
      "4926110 is neither a provider_id nor a CAMELS-DE NUTSID\n",
      "3871101 is neither a provider_id nor a CAMELS-DE NUTSID\n",
      "3885101 is neither a provider_id nor a CAMELS-DE NUTSID\n",
      "3895101 is neither a provider_id nor a CAMELS-DE NUTSID\n",
      "3889102 is neither a provider_id nor a CAMELS-DE NUTSID\n",
      "3888104 is neither a provider_id nor a CAMELS-DE NUTSID\n",
      "3951102 is neither a provider_id nor a CAMELS-DE NUTSID\n",
      "3942102 is neither a provider_id nor a CAMELS-DE NUTSID\n",
      "9429105 is neither a provider_id nor a CAMELS-DE NUTSID\n",
      "3983101 is neither a provider_id nor a CAMELS-DE NUTSID\n",
      "9353102 is neither a provider_id nor a CAMELS-DE NUTSID\n",
      "4995105 is neither a provider_id nor a CAMELS-DE NUTSID\n",
      "4995110 is neither a provider_id nor a CAMELS-DE NUTSID\n",
      "9374105 is neither a provider_id nor a CAMELS-DE NUTSID\n",
      "9412120 is neither a provider_id nor a CAMELS-DE NUTSID\n",
      "9392105 is neither a provider_id nor a CAMELS-DE NUTSID\n",
      "4997105 is neither a provider_id nor a CAMELS-DE NUTSID\n",
      "5992120 is neither a provider_id nor a CAMELS-DE NUTSID\n",
      "4841104 is neither a provider_id nor a CAMELS-DE NUTSID\n",
      "4827101 is neither a provider_id nor a CAMELS-DE NUTSID\n",
      "4769110 is neither a provider_id nor a CAMELS-DE NUTSID\n"
     ]
    }
   ],
   "source": [
    "gdf_meta = gpd.read_file(os.path.join(BASE, '../Shapes/Niedersachsen_Shapes/EZG_Pegel_NWLKN/EZG_Pegel_NWLKN.shp'))\n",
    "\n",
    "# save errors\n",
    "errors = []\n",
    "\n",
    "for id in gdf_meta['PEGELID'].values:\n",
    "    # init station via PKZ, ignore warnings as we use provider_id instead of camels_id\n",
    "    try:\n",
    "        with warnings.catch_warnings():\n",
    "            warnings.simplefilter('ignore')\n",
    "            s = Station(id)\n",
    "    except ValueError as e:\n",
    "        errors.append(e)\n",
    "        continue\n",
    "\n",
    "    # get catchment geometry for id\n",
    "    catchment = gdf_meta[gdf_meta['PEGELID'] == id].iloc[[0]]\n",
    "\n",
    "    # save catchment geometry\n",
    "    s.save_catchment_geometry(catchment, datasource='federal_agency_ezg', if_exists='replace')\n",
    "\n",
    "# print results and number of errors\n",
    "if len(errors) > 0:\n",
    "    print(\"Errors:\")\n",
    "    for e in errors:\n",
    "        print(e)\n"
   ]
  },
  {
   "cell_type": "markdown",
   "metadata": {},
   "source": [
    "### DEA - Nordrhein-Westfalen"
   ]
  },
  {
   "cell_type": "code",
   "execution_count": 8,
   "metadata": {},
   "outputs": [
    {
     "name": "stdout",
     "output_type": "stream",
     "text": [
      "Errors:\n",
      "2718180000100 is neither a provider_id nor a CAMELS-DE NUTSID\n",
      "2718193000100 is neither a provider_id nor a CAMELS-DE NUTSID\n",
      "27194900001010 is neither a provider_id nor a CAMELS-DE NUTSID\n",
      "2721344000100 is neither a provider_id nor a CAMELS-DE NUTSID\n",
      "2721811000100 is neither a provider_id nor a CAMELS-DE NUTSID\n",
      "2721830000100 is neither a provider_id nor a CAMELS-DE NUTSID\n",
      "2722590000100 is neither a provider_id nor a CAMELS-DE NUTSID\n",
      "2726613000100 is neither a provider_id nor a CAMELS-DE NUTSID\n",
      "2729900000100 is neither a provider_id nor a CAMELS-DE NUTSID\n",
      "2731450500099 is neither a provider_id nor a CAMELS-DE NUTSID\n",
      "2737323400100 is neither a provider_id nor a CAMELS-DE NUTSID\n",
      "2745400000100 is neither a provider_id nor a CAMELS-DE NUTSID\n",
      "2746790000100 is neither a provider_id nor a CAMELS-DE NUTSID\n",
      "2749490000100 is neither a provider_id nor a CAMELS-DE NUTSID\n",
      "2751270000200 is neither a provider_id nor a CAMELS-DE NUTSID\n",
      "2761490000100 is neither a provider_id nor a CAMELS-DE NUTSID\n",
      "2761990000200 is neither a provider_id nor a CAMELS-DE NUTSID\n",
      "2763830000100 is neither a provider_id nor a CAMELS-DE NUTSID\n",
      "2764590000200 is neither a provider_id nor a CAMELS-DE NUTSID\n",
      "2764830000100 is neither a provider_id nor a CAMELS-DE NUTSID\n",
      "2764849000100 is neither a provider_id nor a CAMELS-DE NUTSID\n",
      "2765419000100 is neither a provider_id nor a CAMELS-DE NUTSID\n",
      "2766250000100 is neither a provider_id nor a CAMELS-DE NUTSID\n",
      "2766365000100 is neither a provider_id nor a CAMELS-DE NUTSID\n",
      "2766645000100 is neither a provider_id nor a CAMELS-DE NUTSID\n",
      "2766641000100 is neither a provider_id nor a CAMELS-DE NUTSID\n",
      "2766926000200 is neither a provider_id nor a CAMELS-DE NUTSID\n",
      "2766926000100 is neither a provider_id nor a CAMELS-DE NUTSID\n",
      "2766929300099 is neither a provider_id nor a CAMELS-DE NUTSID\n",
      "2768529000200 is neither a provider_id nor a CAMELS-DE NUTSID\n",
      "2768529000100 is neither a provider_id nor a CAMELS-DE NUTSID\n",
      "2768721000100 is neither a provider_id nor a CAMELS-DE NUTSID\n",
      "2768729000100 is neither a provider_id nor a CAMELS-DE NUTSID\n",
      "2768784000300 is neither a provider_id nor a CAMELS-DE NUTSID\n",
      "2768784000100 is neither a provider_id nor a CAMELS-DE NUTSID\n",
      "2768883000100 is neither a provider_id nor a CAMELS-DE NUTSID\n",
      "2768898000100 is neither a provider_id nor a CAMELS-DE NUTSID\n",
      "2768899000200 is neither a provider_id nor a CAMELS-DE NUTSID\n",
      "2781690000100 is neither a provider_id nor a CAMELS-DE NUTSID\n",
      "2783970000300 is neither a provider_id nor a CAMELS-DE NUTSID\n",
      "2788520000100 is neither a provider_id nor a CAMELS-DE NUTSID\n",
      "2788730000100 is neither a provider_id nor a CAMELS-DE NUTSID\n",
      "2788850000100 is neither a provider_id nor a CAMELS-DE NUTSID\n",
      "2788869000100 is neither a provider_id nor a CAMELS-DE NUTSID\n",
      "2798400000100 is neither a provider_id nor a CAMELS-DE NUTSID\n",
      "2818100000200 is neither a provider_id nor a CAMELS-DE NUTSID\n",
      "2823410000100 is neither a provider_id nor a CAMELS-DE NUTSID\n",
      "2823490000100 is neither a provider_id nor a CAMELS-DE NUTSID\n",
      "2824410000100 is neither a provider_id nor a CAMELS-DE NUTSID\n",
      "2824420000100 is neither a provider_id nor a CAMELS-DE NUTSID\n",
      "2824900000300 is neither a provider_id nor a CAMELS-DE NUTSID\n",
      "2824900000200 is neither a provider_id nor a CAMELS-DE NUTSID\n",
      "2825240000100 is neither a provider_id nor a CAMELS-DE NUTSID\n",
      "2825320000100 is neither a provider_id nor a CAMELS-DE NUTSID\n",
      "2848000000100 is neither a provider_id nor a CAMELS-DE NUTSID\n",
      "3128300000100 is neither a provider_id nor a CAMELS-DE NUTSID\n",
      "3128490000200 is neither a provider_id nor a CAMELS-DE NUTSID\n",
      "3169000000100 is neither a provider_id nor a CAMELS-DE NUTSID\n",
      "3179000000100 is neither a provider_id nor a CAMELS-DE NUTSID\n",
      "3211000000300 is neither a provider_id nor a CAMELS-DE NUTSID\n",
      "3229000000100 is neither a provider_id nor a CAMELS-DE NUTSID\n",
      "3267000000100 is neither a provider_id nor a CAMELS-DE NUTSID\n",
      "3283000000100 is neither a provider_id nor a CAMELS-DE NUTSID\n",
      "3289100000100 is neither a provider_id nor a CAMELS-DE NUTSID\n",
      "3322000000101 is neither a provider_id nor a CAMELS-DE NUTSID\n",
      "3327000000200 is neither a provider_id nor a CAMELS-DE NUTSID\n",
      "3327000000300 is neither a provider_id nor a CAMELS-DE NUTSID\n",
      "3328000000101 is neither a provider_id nor a CAMELS-DE NUTSID\n",
      "3329000000100 is neither a provider_id nor a CAMELS-DE NUTSID\n",
      "3331000000100 is neither a provider_id nor a CAMELS-DE NUTSID\n",
      "3344900000100 is neither a provider_id nor a CAMELS-DE NUTSID\n",
      "3345000000100 is neither a provider_id nor a CAMELS-DE NUTSID\n",
      "3376000000100 is neither a provider_id nor a CAMELS-DE NUTSID\n",
      "3445900000100 is neither a provider_id nor a CAMELS-DE NUTSID\n",
      "3448310000800 is neither a provider_id nor a CAMELS-DE NUTSID\n",
      "3448310000300 is neither a provider_id nor a CAMELS-DE NUTSID\n",
      "4281180000100 is neither a provider_id nor a CAMELS-DE NUTSID\n",
      "4281241000100 is neither a provider_id nor a CAMELS-DE NUTSID\n",
      "4589000000100 is neither a provider_id nor a CAMELS-DE NUTSID\n",
      "4611900000100 is neither a provider_id nor a CAMELS-DE NUTSID\n",
      "4613100000100 is neither a provider_id nor a CAMELS-DE NUTSID\n",
      "4627100000300 is neither a provider_id nor a CAMELS-DE NUTSID\n",
      "4627900000100 is neither a provider_id nor a CAMELS-DE NUTSID\n",
      "4744300000100 is neither a provider_id nor a CAMELS-DE NUTSID\n",
      "4761120000100 is neither a provider_id nor a CAMELS-DE NUTSID\n",
      "9282420000010 is neither a provider_id nor a CAMELS-DE NUTSID\n",
      "9282490000200 is neither a provider_id nor a CAMELS-DE NUTSID\n",
      "9282900000100 is neither a provider_id nor a CAMELS-DE NUTSID\n",
      "9284100000100 is neither a provider_id nor a CAMELS-DE NUTSID\n",
      "9284300000010 is neither a provider_id nor a CAMELS-DE NUTSID\n",
      "9284610000200 is neither a provider_id nor a CAMELS-DE NUTSID\n",
      "9285291000100 is neither a provider_id nor a CAMELS-DE NUTSID\n",
      "9286110000100 is neither a provider_id nor a CAMELS-DE NUTSID\n",
      "9286469000010 is neither a provider_id nor a CAMELS-DE NUTSID\n"
     ]
    }
   ],
   "source": [
    "BASE = Bundesland('NRW').input_path\n",
    "\n",
    "gdf_ezg = gpd.read_file(os.path.join(BASE, '../Shapes/NRW_Shapes/whm_nrw_pegeleinzugsgebiete_dissolved/pegeleinzugsgebiete_dissolved.shp'), encoding='utf-8')\n",
    "\n",
    "# save errors\n",
    "errors = []\n",
    "\n",
    "for id in gdf_ezg['pegelid'].values:\n",
    "    # init station via PKZ, ignore warnings as we use provider_id instead of camels_id\n",
    "    try:\n",
    "        with warnings.catch_warnings():\n",
    "            warnings.simplefilter('ignore')\n",
    "            s = Station(id)\n",
    "            \n",
    "    except ValueError as e:\n",
    "        errors.append(e)\n",
    "        continue\n",
    "\n",
    "    # get catchment geometry for id\n",
    "    catchment = gdf_ezg[gdf_ezg['pegelid'] == id].iloc[[0]]\n",
    "\n",
    "    # save catchment geometry\n",
    "    s.save_catchment_geometry(catchment, datasource='federal_agency_ezg', if_exists='replace')\n",
    "\n",
    "# print results and number of errors\n",
    "if len(errors) > 0:\n",
    "    print(\"Errors:\")\n",
    "    for e in errors:\n",
    "        print(e)\n",
    "\n"
   ]
  },
  {
   "cell_type": "markdown",
   "metadata": {},
   "source": [
    "### DEB - Rheinland-Pfalz\n",
    "\n",
    "The provided shapefile does not contain the station id but only station name and river name.  \n",
    "We try to get the station id by matching station name AND river name."
   ]
  },
  {
   "cell_type": "code",
   "execution_count": 9,
   "metadata": {},
   "outputs": [
    {
     "ename": "ValueError",
     "evalue": "Cannot transform naive geometries.  Please set a crs on the object first.",
     "output_type": "error",
     "traceback": [
      "\u001b[0;31m---------------------------------------------------------------------------\u001b[0m",
      "\u001b[0;31mValueError\u001b[0m                                Traceback (most recent call last)",
      "Cell \u001b[0;32mIn[9], line 20\u001b[0m\n\u001b[1;32m     17\u001b[0m catchment \u001b[38;5;241m=\u001b[39m gdf_ezg[(gdf_ezg[\u001b[38;5;124m'\u001b[39m\u001b[38;5;124mNAME\u001b[39m\u001b[38;5;124m'\u001b[39m] \u001b[38;5;241m==\u001b[39m station_name) \u001b[38;5;241m&\u001b[39m (gdf_ezg[\u001b[38;5;124m'\u001b[39m\u001b[38;5;124mGEWäSSER\u001b[39m\u001b[38;5;124m'\u001b[39m] \u001b[38;5;241m==\u001b[39m river_name)]\u001b[38;5;241m.\u001b[39miloc[[\u001b[38;5;241m0\u001b[39m]]\n\u001b[1;32m     19\u001b[0m \u001b[38;5;66;03m# save catchment geometry\u001b[39;00m\n\u001b[0;32m---> 20\u001b[0m \u001b[43ms\u001b[49m\u001b[38;5;241;43m.\u001b[39;49m\u001b[43msave_catchment_geometry\u001b[49m\u001b[43m(\u001b[49m\u001b[43mcatchment\u001b[49m\u001b[43m,\u001b[49m\u001b[43m \u001b[49m\u001b[43mdatasource\u001b[49m\u001b[38;5;241;43m=\u001b[39;49m\u001b[38;5;124;43m'\u001b[39;49m\u001b[38;5;124;43mfederal_agency_ezg\u001b[39;49m\u001b[38;5;124;43m'\u001b[39;49m\u001b[43m,\u001b[49m\u001b[43m \u001b[49m\u001b[43mif_exists\u001b[49m\u001b[38;5;241;43m=\u001b[39;49m\u001b[38;5;124;43m'\u001b[39;49m\u001b[38;5;124;43mreplace\u001b[39;49m\u001b[38;5;124;43m'\u001b[39;49m\u001b[43m)\u001b[49m\n",
      "File \u001b[0;32m~/Projekte/CAMELS/Github/camelsp/camelsp/output.py:741\u001b[0m, in \u001b[0;36mStation.save_catchment_geometry\u001b[0;34m(self, catchment_geometry, datasource, if_exists)\u001b[0m\n\u001b[1;32m    738\u001b[0m \u001b[38;5;66;03m# save geojson the file\u001b[39;00m\n\u001b[1;32m    739\u001b[0m \u001b[38;5;28;01mif\u001b[39;00m \u001b[38;5;28misinstance\u001b[39m(catchment_geometry, gpd\u001b[38;5;241m.\u001b[39mGeoDataFrame):\n\u001b[1;32m    740\u001b[0m     \u001b[38;5;66;03m# always transform to WGS84\u001b[39;00m\n\u001b[0;32m--> 741\u001b[0m     catchment_geometry \u001b[38;5;241m=\u001b[39m \u001b[43mcatchment_geometry\u001b[49m\u001b[38;5;241;43m.\u001b[39;49m\u001b[43mto_crs\u001b[49m\u001b[43m(\u001b[49m\u001b[43mepsg\u001b[49m\u001b[38;5;241;43m=\u001b[39;49m\u001b[38;5;241;43m4326\u001b[39;49m\u001b[43m)\u001b[49m\n\u001b[1;32m    743\u001b[0m     \u001b[38;5;66;03m# save\u001b[39;00m\n\u001b[1;32m    744\u001b[0m     catchment_geometry\u001b[38;5;241m.\u001b[39mto_file(spath, driver\u001b[38;5;241m=\u001b[39m\u001b[38;5;124m'\u001b[39m\u001b[38;5;124mGeoJSON\u001b[39m\u001b[38;5;124m'\u001b[39m)\n",
      "File \u001b[0;32m~/miniconda3/lib/python3.11/site-packages/geopandas/geodataframe.py:1425\u001b[0m, in \u001b[0;36mGeoDataFrame.to_crs\u001b[0;34m(self, crs, epsg, inplace)\u001b[0m\n\u001b[1;32m   1423\u001b[0m \u001b[38;5;28;01melse\u001b[39;00m:\n\u001b[1;32m   1424\u001b[0m     df \u001b[38;5;241m=\u001b[39m \u001b[38;5;28mself\u001b[39m\u001b[38;5;241m.\u001b[39mcopy()\n\u001b[0;32m-> 1425\u001b[0m geom \u001b[38;5;241m=\u001b[39m \u001b[43mdf\u001b[49m\u001b[38;5;241;43m.\u001b[39;49m\u001b[43mgeometry\u001b[49m\u001b[38;5;241;43m.\u001b[39;49m\u001b[43mto_crs\u001b[49m\u001b[43m(\u001b[49m\u001b[43mcrs\u001b[49m\u001b[38;5;241;43m=\u001b[39;49m\u001b[43mcrs\u001b[49m\u001b[43m,\u001b[49m\u001b[43m \u001b[49m\u001b[43mepsg\u001b[49m\u001b[38;5;241;43m=\u001b[39;49m\u001b[43mepsg\u001b[49m\u001b[43m)\u001b[49m\n\u001b[1;32m   1426\u001b[0m df\u001b[38;5;241m.\u001b[39mgeometry \u001b[38;5;241m=\u001b[39m geom\n\u001b[1;32m   1427\u001b[0m \u001b[38;5;28;01mif\u001b[39;00m \u001b[38;5;129;01mnot\u001b[39;00m inplace:\n",
      "File \u001b[0;32m~/miniconda3/lib/python3.11/site-packages/geopandas/geoseries.py:1157\u001b[0m, in \u001b[0;36mGeoSeries.to_crs\u001b[0;34m(self, crs, epsg)\u001b[0m\n\u001b[1;32m   1078\u001b[0m \u001b[38;5;28;01mdef\u001b[39;00m \u001b[38;5;21mto_crs\u001b[39m(\n\u001b[1;32m   1079\u001b[0m     \u001b[38;5;28mself\u001b[39m, crs: Optional[Any] \u001b[38;5;241m=\u001b[39m \u001b[38;5;28;01mNone\u001b[39;00m, epsg: Optional[\u001b[38;5;28mint\u001b[39m] \u001b[38;5;241m=\u001b[39m \u001b[38;5;28;01mNone\u001b[39;00m\n\u001b[1;32m   1080\u001b[0m ) \u001b[38;5;241m-\u001b[39m\u001b[38;5;241m>\u001b[39m GeoSeries:\n\u001b[1;32m   1081\u001b[0m \u001b[38;5;250m    \u001b[39m\u001b[38;5;124;03m\"\"\"Returns a ``GeoSeries`` with all geometries transformed to a new\u001b[39;00m\n\u001b[1;32m   1082\u001b[0m \u001b[38;5;124;03m    coordinate reference system.\u001b[39;00m\n\u001b[1;32m   1083\u001b[0m \n\u001b[0;32m   (...)\u001b[0m\n\u001b[1;32m   1154\u001b[0m \n\u001b[1;32m   1155\u001b[0m \u001b[38;5;124;03m    \"\"\"\u001b[39;00m\n\u001b[1;32m   1156\u001b[0m     \u001b[38;5;28;01mreturn\u001b[39;00m GeoSeries(\n\u001b[0;32m-> 1157\u001b[0m         \u001b[38;5;28;43mself\u001b[39;49m\u001b[38;5;241;43m.\u001b[39;49m\u001b[43mvalues\u001b[49m\u001b[38;5;241;43m.\u001b[39;49m\u001b[43mto_crs\u001b[49m\u001b[43m(\u001b[49m\u001b[43mcrs\u001b[49m\u001b[38;5;241;43m=\u001b[39;49m\u001b[43mcrs\u001b[49m\u001b[43m,\u001b[49m\u001b[43m \u001b[49m\u001b[43mepsg\u001b[49m\u001b[38;5;241;43m=\u001b[39;49m\u001b[43mepsg\u001b[49m\u001b[43m)\u001b[49m, index\u001b[38;5;241m=\u001b[39m\u001b[38;5;28mself\u001b[39m\u001b[38;5;241m.\u001b[39mindex, name\u001b[38;5;241m=\u001b[39m\u001b[38;5;28mself\u001b[39m\u001b[38;5;241m.\u001b[39mname\n\u001b[1;32m   1158\u001b[0m     )\n",
      "File \u001b[0;32m~/miniconda3/lib/python3.11/site-packages/geopandas/array.py:855\u001b[0m, in \u001b[0;36mGeometryArray.to_crs\u001b[0;34m(self, crs, epsg)\u001b[0m\n\u001b[1;32m    786\u001b[0m \u001b[38;5;250m\u001b[39m\u001b[38;5;124;03m\"\"\"Returns a ``GeometryArray`` with all geometries transformed to a new\u001b[39;00m\n\u001b[1;32m    787\u001b[0m \u001b[38;5;124;03mcoordinate reference system.\u001b[39;00m\n\u001b[1;32m    788\u001b[0m \n\u001b[0;32m   (...)\u001b[0m\n\u001b[1;32m    852\u001b[0m \n\u001b[1;32m    853\u001b[0m \u001b[38;5;124;03m\"\"\"\u001b[39;00m\n\u001b[1;32m    854\u001b[0m \u001b[38;5;28;01mif\u001b[39;00m \u001b[38;5;28mself\u001b[39m\u001b[38;5;241m.\u001b[39mcrs \u001b[38;5;129;01mis\u001b[39;00m \u001b[38;5;28;01mNone\u001b[39;00m:\n\u001b[0;32m--> 855\u001b[0m     \u001b[38;5;28;01mraise\u001b[39;00m \u001b[38;5;167;01mValueError\u001b[39;00m(\n\u001b[1;32m    856\u001b[0m         \u001b[38;5;124m\"\u001b[39m\u001b[38;5;124mCannot transform naive geometries.  \u001b[39m\u001b[38;5;124m\"\u001b[39m\n\u001b[1;32m    857\u001b[0m         \u001b[38;5;124m\"\u001b[39m\u001b[38;5;124mPlease set a crs on the object first.\u001b[39m\u001b[38;5;124m\"\u001b[39m\n\u001b[1;32m    858\u001b[0m     )\n\u001b[1;32m    859\u001b[0m \u001b[38;5;28;01mif\u001b[39;00m crs \u001b[38;5;129;01mis\u001b[39;00m \u001b[38;5;129;01mnot\u001b[39;00m \u001b[38;5;28;01mNone\u001b[39;00m:\n\u001b[1;32m    860\u001b[0m     crs \u001b[38;5;241m=\u001b[39m CRS\u001b[38;5;241m.\u001b[39mfrom_user_input(crs)\n",
      "\u001b[0;31mValueError\u001b[0m: Cannot transform naive geometries.  Please set a crs on the object first."
     ]
    }
   ],
   "source": [
    "BASE = Bundesland('Rheinland-Pfalz').input_path\n",
    "\n",
    "gdf_ezg = gpd.read_file(os.path.join(BASE, '../Shapes/RLP_Shapes/pezg/pegelezg.shp'))\n",
    "\n",
    "# get RLP metadata to get station id via station name and river name\n",
    "meta = Bundesland(\"RLP\").metadata\n",
    "\n",
    "for station_name, river_name in zip(gdf_ezg['NAME'].values, gdf_ezg['GEWäSSER'].values):\n",
    "    # get station id from station name and river name\n",
    "    id = meta[(meta['gauge_name'] == station_name) & (meta['waterbody_name'] == river_name)].camels_id.values\n",
    "\n",
    "    # if id was found, init station\n",
    "    if id.size > 0:\n",
    "        s = Station(id[0])\n",
    "\n",
    "        # get catchment geometry for id\n",
    "        catchment = gdf_ezg[(gdf_ezg['NAME'] == station_name) & (gdf_ezg['GEWäSSER'] == river_name)].iloc[[0]]\n",
    "\n",
    "        # save catchment geometry\n",
    "        s.save_catchment_geometry(catchment, datasource='federal_agency_ezg', if_exists='replace')\n"
   ]
  },
  {
   "cell_type": "markdown",
   "metadata": {},
   "source": [
    "### DEC - Saarland\n",
    "\n",
    "Saarland fehlt im im Shapes Ordner .shp!!"
   ]
  },
  {
   "cell_type": "markdown",
   "metadata": {},
   "source": [
    "### DED - Sachsen\n",
    "\n",
    "Sachsen nur große EZGs (Spree, Elbe, Mulde), keine matches mit unseren Stationen."
   ]
  },
  {
   "cell_type": "code",
   "execution_count": null,
   "metadata": {},
   "outputs": [],
   "source": [
    "BASE = Bundesland('Sachsen').input_path\n",
    "\n",
    "gdf_ezg = gpd.read_file(os.path.join(BASE, '../Shapes/Sachsen_Shapes/EZG_SACHS/EZG_SACHS.shp'))"
   ]
  },
  {
   "cell_type": "markdown",
   "metadata": {},
   "source": [
    "### DEE - Sachsen-Anhalt"
   ]
  },
  {
   "cell_type": "code",
   "execution_count": null,
   "metadata": {},
   "outputs": [],
   "source": [
    "BASE = Bundesland('Sachsen-Anhalt').input_path\n",
    "\n",
    "gdf_meta = gpd.read_file(os.path.join(BASE, '../Shapes/Sachsen-Anhalt_Shapes/Datensatz.gpkg'))\n",
    "\n",
    "for id in gdf_meta['PKZ'].values:\n",
    "    # init station via PKZ, ignore warnings as we use provider_id instead of camels_id\n",
    "    with warnings.catch_warnings():\n",
    "        warnings.simplefilter('ignore')\n",
    "        s = Station(id)\n",
    "\n",
    "    # get catchment geometry for id\n",
    "    catchment = gdf_meta[gdf_meta['PKZ'] == id].iloc[[0]]\n",
    "\n",
    "    # save catchment geometry\n",
    "    s.save_catchment_geometry(catchment, datasource='federal_agency_ezg', if_exists='replace')\n"
   ]
  },
  {
   "cell_type": "markdown",
   "metadata": {},
   "source": [
    "### DEF - Schleswig-Holstein"
   ]
  },
  {
   "cell_type": "code",
   "execution_count": null,
   "metadata": {},
   "outputs": [],
   "source": [
    "BASE = Bundesland('Schleswig-Holstein').input_path\n",
    "\n",
    "# get all provided shape files, they have the following naming pattern: \"n{provider_id}_{gauge_name}.shp\"\n",
    "all_shapes = glob(os.path.join(BASE, '../Shapes/Schleswig-Holstein_Shapes/SH_shapes/*.shp'))\n",
    "\n",
    "# get all provider ids\n",
    "provider_ids = Bundesland('Schleswig-Holstein').metadata['provider_id'].values\n",
    "\n",
    "for id in provider_ids:\n",
    "    # filter all shapes for the current id\n",
    "    shape_path = [s for s in all_shapes if f'n{id}' in s]\n",
    "\n",
    "    if len(shape_path) == 1:\n",
    "        gdf_ezg = gpd.read_file(shape_path[0])\n",
    "\n",
    "    elif len(shape_path) > 1:\n",
    "        # in some cases there are multiple shapes for one id, we take the one with 'ges' in its name (gesamt) -> checked with shape area from metadata\n",
    "        shape_path = [s for s in shape_path if '_ges' in s]\n",
    "\n",
    "        # handle station 114064 manually (partyl in Denmark) -> checked with shape area from metadata\n",
    "        if id == '114064':\n",
    "            shape_path = [os.path.join(BASE, '../Shapes/Schleswig-Holstein_Shapes/SH_shapes/n114064_Soholm.shp')]\n",
    "        \n",
    "        gdf_ezg = gpd.read_file(shape_path[0])\n",
    "    else:\n",
    "        continue\n",
    "\n",
    "    # init station via PKZ, ignore warnings as we use provider_id instead of camels_id\n",
    "    with warnings.catch_warnings():\n",
    "        warnings.simplefilter('ignore')\n",
    "        s = Station(id)\n",
    "\n",
    "        s.save_catchment_geometry(gdf_ezg, datasource='federal_agency_ezg', if_exists='replace')\n"
   ]
  },
  {
   "cell_type": "markdown",
   "metadata": {},
   "source": [
    "### DEG - Thüringen\n",
    "\n",
    "Different shapefiles for Thüringen but no clear connection between stations and shapes -> not easily possible."
   ]
  },
  {
   "cell_type": "code",
   "execution_count": null,
   "metadata": {},
   "outputs": [],
   "source": [
    "BASE = Bundesland('Thüringen').input_path\n",
    "\n",
    "gdf_1 = gpd.read_file(os.path.join(BASE, '../Shapes/Thueringen_Shapes/oberirdische_einzugsgebiete_thueringens__stand_2016_.shp'))\n",
    "gdf_2 = gpd.read_file(os.path.join(BASE, '../Shapes/Thueringen_Shapes/wasserkoerperkategorie_thueringen_stand_2021_.shp'))\n",
    "gdf_3 = gpd.read_file(os.path.join(BASE, '../Shapes/Thueringen_Shapes/Monitoring_Pegel_TH.shp'))"
   ]
  }
 ],
 "metadata": {
  "kernelspec": {
   "display_name": "base",
   "language": "python",
   "name": "python3"
  },
  "language_info": {
   "codemirror_mode": {
    "name": "ipython",
    "version": 3
   },
   "file_extension": ".py",
   "mimetype": "text/x-python",
   "name": "python",
   "nbconvert_exporter": "python",
   "pygments_lexer": "ipython3",
   "version": "3.11.6"
  }
 },
 "nbformat": 4,
 "nbformat_minor": 2
}
