{
 "cells": [
  {
   "cell_type": "code",
   "execution_count": 2,
   "id": "6f7e3751-f28f-456e-a1ff-6ab546a323ba",
   "metadata": {},
   "outputs": [],
   "source": [
    "import pandas as pd\n",
    "import os\n",
    "import sys\n",
    "from camelsp import Bundesland\n",
    "import numpy as np\n",
    "import matplotlib.pyplot as plt\n",
    "\n",
    "sys.path.insert(0, '../camelsp')\n",
    "from util import _get_logo"
   ]
  },
  {
   "cell_type": "code",
   "execution_count": 12,
   "id": "dd3fda4c-b427-4202-8402-024cfc871c95",
   "metadata": {},
   "outputs": [],
   "source": [
    "#bl =  Bundesland('Ba-Wü')\n",
    "#nuts_id = 'DE110000'\n",
    "\n",
    "bl =  Bundesland('DEF')\n",
    "nuts_id = 'DEF10000'\n"
   ]
  },
  {
   "cell_type": "code",
   "execution_count": 16,
   "id": "f37c23c4-c958-4794-95ac-4a78c450ef80",
   "metadata": {},
   "outputs": [
    {
     "data": {
      "text/html": [
       "<div>\n",
       "<style scoped>\n",
       "    .dataframe tbody tr th:only-of-type {\n",
       "        vertical-align: middle;\n",
       "    }\n",
       "\n",
       "    .dataframe tbody tr th {\n",
       "        vertical-align: top;\n",
       "    }\n",
       "\n",
       "    .dataframe thead th {\n",
       "        text-align: right;\n",
       "    }\n",
       "</style>\n",
       "<table border=\"1\" class=\"dataframe\">\n",
       "  <thead>\n",
       "    <tr style=\"text-align: right;\">\n",
       "      <th></th>\n",
       "      <th>q</th>\n",
       "      <th>q_flag</th>\n",
       "      <th>w</th>\n",
       "      <th>w_flag</th>\n",
       "    </tr>\n",
       "    <tr>\n",
       "      <th>date</th>\n",
       "      <th></th>\n",
       "      <th></th>\n",
       "      <th></th>\n",
       "      <th></th>\n",
       "    </tr>\n",
       "  </thead>\n",
       "  <tbody>\n",
       "    <tr>\n",
       "      <th>1984-11-01</th>\n",
       "      <td>NaN</td>\n",
       "      <td>NaN</td>\n",
       "      <td>649</td>\n",
       "      <td>True</td>\n",
       "    </tr>\n",
       "    <tr>\n",
       "      <th>1984-11-02</th>\n",
       "      <td>NaN</td>\n",
       "      <td>NaN</td>\n",
       "      <td>650</td>\n",
       "      <td>True</td>\n",
       "    </tr>\n",
       "    <tr>\n",
       "      <th>1984-11-03</th>\n",
       "      <td>NaN</td>\n",
       "      <td>NaN</td>\n",
       "      <td>650</td>\n",
       "      <td>True</td>\n",
       "    </tr>\n",
       "    <tr>\n",
       "      <th>1984-11-04</th>\n",
       "      <td>NaN</td>\n",
       "      <td>NaN</td>\n",
       "      <td>649</td>\n",
       "      <td>True</td>\n",
       "    </tr>\n",
       "    <tr>\n",
       "      <th>1984-11-05</th>\n",
       "      <td>NaN</td>\n",
       "      <td>NaN</td>\n",
       "      <td>649</td>\n",
       "      <td>True</td>\n",
       "    </tr>\n",
       "    <tr>\n",
       "      <th>...</th>\n",
       "      <td>...</td>\n",
       "      <td>...</td>\n",
       "      <td>...</td>\n",
       "      <td>...</td>\n",
       "    </tr>\n",
       "    <tr>\n",
       "      <th>2023-03-11</th>\n",
       "      <td>NaN</td>\n",
       "      <td>NaN</td>\n",
       "      <td>650</td>\n",
       "      <td>True</td>\n",
       "    </tr>\n",
       "    <tr>\n",
       "      <th>2023-03-12</th>\n",
       "      <td>NaN</td>\n",
       "      <td>NaN</td>\n",
       "      <td>650</td>\n",
       "      <td>True</td>\n",
       "    </tr>\n",
       "    <tr>\n",
       "      <th>2023-03-13</th>\n",
       "      <td>NaN</td>\n",
       "      <td>NaN</td>\n",
       "      <td>651</td>\n",
       "      <td>True</td>\n",
       "    </tr>\n",
       "    <tr>\n",
       "      <th>2023-03-14</th>\n",
       "      <td>NaN</td>\n",
       "      <td>NaN</td>\n",
       "      <td>651</td>\n",
       "      <td>True</td>\n",
       "    </tr>\n",
       "    <tr>\n",
       "      <th>2023-03-15</th>\n",
       "      <td>NaN</td>\n",
       "      <td>NaN</td>\n",
       "      <td>651</td>\n",
       "      <td>True</td>\n",
       "    </tr>\n",
       "  </tbody>\n",
       "</table>\n",
       "<p>14014 rows × 4 columns</p>\n",
       "</div>"
      ],
      "text/plain": [
       "             q  q_flag    w  w_flag\n",
       "date                               \n",
       "1984-11-01 NaN     NaN  649    True\n",
       "1984-11-02 NaN     NaN  650    True\n",
       "1984-11-03 NaN     NaN  650    True\n",
       "1984-11-04 NaN     NaN  649    True\n",
       "1984-11-05 NaN     NaN  649    True\n",
       "...         ..     ...  ...     ...\n",
       "2023-03-11 NaN     NaN  650    True\n",
       "2023-03-12 NaN     NaN  650    True\n",
       "2023-03-13 NaN     NaN  651    True\n",
       "2023-03-14 NaN     NaN  651    True\n",
       "2023-03-15 NaN     NaN  651    True\n",
       "\n",
       "[14014 rows x 4 columns]"
      ]
     },
     "execution_count": 16,
     "metadata": {},
     "output_type": "execute_result"
    }
   ],
   "source": [
    "logo = _get_logo()\n",
    "df =  bl.get_data(nuts_id)\n",
    "df_nan = df.replace(-999, np.NaN)\n",
    "df_nan"
   ]
  },
  {
   "cell_type": "code",
   "execution_count": 17,
   "id": "a7f341b1-4d6c-4c29-bb96-8a60990ef8b3",
   "metadata": {},
   "outputs": [
    {
     "data": {
      "text/plain": [
       "['DEF10000', 'DEF10010', 'DEF10020', 'DEF10030', 'DEF10040']"
      ]
     },
     "execution_count": 17,
     "metadata": {},
     "output_type": "execute_result"
    }
   ],
   "source": [
    "nuts_ids = bl.nuts_table.nuts_id.values.tolist()\n",
    "nuts_ids[0:5]"
   ]
  },
  {
   "cell_type": "code",
   "execution_count": null,
   "id": "f70a39e8-8ca1-4de4-a471-44e6e1f9b098",
   "metadata": {},
   "outputs": [],
   "source": []
  },
  {
   "cell_type": "code",
   "execution_count": null,
   "id": "4a915656-0d82-48eb-82e5-1aece75b74ab",
   "metadata": {},
   "outputs": [],
   "source": []
  },
  {
   "cell_type": "code",
   "execution_count": 25,
   "id": "f49268f3-3f34-4d75-bca3-1e176061a2cb",
   "metadata": {},
   "outputs": [
    {
     "name": "stderr",
     "output_type": "stream",
     "text": [
      "/home/camel/anaconda3/lib/python3.9/site-packages/matplotlib/transforms.py:1003: UserWarning: Warning: converting a masked element to nan.\n",
      "  self._points[:, 0] = interval\n",
      "<__array_function__ internals>:5: UserWarning: Warning: converting a masked element to nan.\n",
      "/home/camel/anaconda3/lib/python3.9/site-packages/matplotlib/colors.py:1211: UserWarning: Warning: converting a masked element to nan.\n",
      "  data = np.asarray(value)\n",
      "/home/camel/anaconda3/lib/python3.9/site-packages/matplotlib/ticker.py:795: UserWarning: Warning: converting a masked element to nan.\n",
      "  locs = (np.asarray(_locs) - self.offset) / 10. ** self.orderOfMagnitude\n"
     ]
    },
    {
     "ename": "ValueError",
     "evalue": "cannot convert float NaN to integer",
     "output_type": "error",
     "traceback": [
      "\u001b[0;31m---------------------------------------------------------------------------\u001b[0m",
      "\u001b[0;31mValueError\u001b[0m                                Traceback (most recent call last)",
      "\u001b[0;32m/tmp/ipykernel_858281/4065068185.py\u001b[0m in \u001b[0;36m<module>\u001b[0;34m\u001b[0m\n\u001b[1;32m      1\u001b[0m \u001b[0mfig\u001b[0m\u001b[0;34m,\u001b[0m \u001b[0max\u001b[0m \u001b[0;34m=\u001b[0m \u001b[0mplt\u001b[0m\u001b[0;34m.\u001b[0m\u001b[0msubplots\u001b[0m\u001b[0;34m(\u001b[0m\u001b[0;34m)\u001b[0m\u001b[0;34m\u001b[0m\u001b[0;34m\u001b[0m\u001b[0m\n\u001b[1;32m      2\u001b[0m \u001b[0mscatter\u001b[0m \u001b[0;34m=\u001b[0m \u001b[0max\u001b[0m\u001b[0;34m.\u001b[0m\u001b[0mscatter\u001b[0m\u001b[0;34m(\u001b[0m\u001b[0mdf_nan\u001b[0m\u001b[0;34m[\u001b[0m\u001b[0;34m'q'\u001b[0m\u001b[0;34m]\u001b[0m\u001b[0;34m,\u001b[0m \u001b[0mdf_nan\u001b[0m\u001b[0;34m[\u001b[0m\u001b[0;34m'w'\u001b[0m\u001b[0;34m]\u001b[0m\u001b[0;34m,\u001b[0m \u001b[0mc\u001b[0m\u001b[0;34m=\u001b[0m\u001b[0mdf_nan\u001b[0m\u001b[0;34m.\u001b[0m\u001b[0mindex\u001b[0m\u001b[0;34m.\u001b[0m\u001b[0myear\u001b[0m\u001b[0;34m)\u001b[0m\u001b[0;34m\u001b[0m\u001b[0;34m\u001b[0m\u001b[0m\n\u001b[0;32m----> 3\u001b[0;31m \u001b[0mlegend1\u001b[0m \u001b[0;34m=\u001b[0m \u001b[0max\u001b[0m\u001b[0;34m.\u001b[0m\u001b[0mlegend\u001b[0m\u001b[0;34m(\u001b[0m\u001b[0;34m*\u001b[0m\u001b[0mscatter\u001b[0m\u001b[0;34m.\u001b[0m\u001b[0mlegend_elements\u001b[0m\u001b[0;34m(\u001b[0m\u001b[0;34m)\u001b[0m\u001b[0;34m,\u001b[0m\u001b[0mloc\u001b[0m\u001b[0;34m=\u001b[0m\u001b[0;34m\"lower right\"\u001b[0m\u001b[0;34m,\u001b[0m \u001b[0mtitle\u001b[0m\u001b[0;34m=\u001b[0m\u001b[0;34m\"Year\"\u001b[0m\u001b[0;34m)\u001b[0m\u001b[0;34m\u001b[0m\u001b[0;34m\u001b[0m\u001b[0m\n\u001b[0m\u001b[1;32m      4\u001b[0m \u001b[0max\u001b[0m\u001b[0;34m.\u001b[0m\u001b[0madd_artist\u001b[0m\u001b[0;34m(\u001b[0m\u001b[0mlegend1\u001b[0m\u001b[0;34m)\u001b[0m\u001b[0;34m\u001b[0m\u001b[0;34m\u001b[0m\u001b[0m\n\u001b[1;32m      5\u001b[0m \u001b[0max\u001b[0m\u001b[0;34m.\u001b[0m\u001b[0mset_title\u001b[0m\u001b[0;34m(\u001b[0m\u001b[0mnuts_id\u001b[0m\u001b[0;34m)\u001b[0m\u001b[0;34m\u001b[0m\u001b[0;34m\u001b[0m\u001b[0m\n",
      "\u001b[0;32m~/anaconda3/lib/python3.9/site-packages/matplotlib/collections.py\u001b[0m in \u001b[0;36mlegend_elements\u001b[0;34m(self, prop, num, fmt, func, **kwargs)\u001b[0m\n\u001b[1;32m   1156\u001b[0m             \u001b[0mhandles\u001b[0m\u001b[0;34m.\u001b[0m\u001b[0mappend\u001b[0m\u001b[0;34m(\u001b[0m\u001b[0mh\u001b[0m\u001b[0;34m)\u001b[0m\u001b[0;34m\u001b[0m\u001b[0;34m\u001b[0m\u001b[0m\n\u001b[1;32m   1157\u001b[0m             \u001b[0;32mif\u001b[0m \u001b[0mhasattr\u001b[0m\u001b[0;34m(\u001b[0m\u001b[0mfmt\u001b[0m\u001b[0;34m,\u001b[0m \u001b[0;34m\"set_locs\"\u001b[0m\u001b[0;34m)\u001b[0m\u001b[0;34m:\u001b[0m\u001b[0;34m\u001b[0m\u001b[0;34m\u001b[0m\u001b[0m\n\u001b[0;32m-> 1158\u001b[0;31m                 \u001b[0mfmt\u001b[0m\u001b[0;34m.\u001b[0m\u001b[0mset_locs\u001b[0m\u001b[0;34m(\u001b[0m\u001b[0mlabel_values\u001b[0m\u001b[0;34m)\u001b[0m\u001b[0;34m\u001b[0m\u001b[0;34m\u001b[0m\u001b[0m\n\u001b[0m\u001b[1;32m   1159\u001b[0m             \u001b[0ml\u001b[0m \u001b[0;34m=\u001b[0m \u001b[0mfmt\u001b[0m\u001b[0;34m(\u001b[0m\u001b[0mlab\u001b[0m\u001b[0;34m)\u001b[0m\u001b[0;34m\u001b[0m\u001b[0;34m\u001b[0m\u001b[0m\n\u001b[1;32m   1160\u001b[0m             \u001b[0mlabels\u001b[0m\u001b[0;34m.\u001b[0m\u001b[0mappend\u001b[0m\u001b[0;34m(\u001b[0m\u001b[0ml\u001b[0m\u001b[0;34m)\u001b[0m\u001b[0;34m\u001b[0m\u001b[0;34m\u001b[0m\u001b[0m\n",
      "\u001b[0;32m~/anaconda3/lib/python3.9/site-packages/matplotlib/ticker.py\u001b[0m in \u001b[0;36mset_locs\u001b[0;34m(self, locs)\u001b[0m\n\u001b[1;32m    711\u001b[0m                 \u001b[0mself\u001b[0m\u001b[0;34m.\u001b[0m\u001b[0m_compute_offset\u001b[0m\u001b[0;34m(\u001b[0m\u001b[0;34m)\u001b[0m\u001b[0;34m\u001b[0m\u001b[0;34m\u001b[0m\u001b[0m\n\u001b[1;32m    712\u001b[0m             \u001b[0mself\u001b[0m\u001b[0;34m.\u001b[0m\u001b[0m_set_order_of_magnitude\u001b[0m\u001b[0;34m(\u001b[0m\u001b[0;34m)\u001b[0m\u001b[0;34m\u001b[0m\u001b[0;34m\u001b[0m\u001b[0m\n\u001b[0;32m--> 713\u001b[0;31m             \u001b[0mself\u001b[0m\u001b[0;34m.\u001b[0m\u001b[0m_set_format\u001b[0m\u001b[0;34m(\u001b[0m\u001b[0;34m)\u001b[0m\u001b[0;34m\u001b[0m\u001b[0;34m\u001b[0m\u001b[0m\n\u001b[0m\u001b[1;32m    714\u001b[0m \u001b[0;34m\u001b[0m\u001b[0m\n\u001b[1;32m    715\u001b[0m     \u001b[0;32mdef\u001b[0m \u001b[0m_compute_offset\u001b[0m\u001b[0;34m(\u001b[0m\u001b[0mself\u001b[0m\u001b[0;34m)\u001b[0m\u001b[0;34m:\u001b[0m\u001b[0;34m\u001b[0m\u001b[0;34m\u001b[0m\u001b[0m\n",
      "\u001b[0;32m~/anaconda3/lib/python3.9/site-packages/matplotlib/ticker.py\u001b[0m in \u001b[0;36m_set_format\u001b[0;34m(self)\u001b[0m\n\u001b[1;32m    804\u001b[0m             \u001b[0;31m# We needed the end points only for the loc_range calculation.\u001b[0m\u001b[0;34m\u001b[0m\u001b[0;34m\u001b[0m\u001b[0m\n\u001b[1;32m    805\u001b[0m             \u001b[0mlocs\u001b[0m \u001b[0;34m=\u001b[0m \u001b[0mlocs\u001b[0m\u001b[0;34m[\u001b[0m\u001b[0;34m:\u001b[0m\u001b[0;34m-\u001b[0m\u001b[0;36m2\u001b[0m\u001b[0;34m]\u001b[0m\u001b[0;34m\u001b[0m\u001b[0;34m\u001b[0m\u001b[0m\n\u001b[0;32m--> 806\u001b[0;31m         \u001b[0mloc_range_oom\u001b[0m \u001b[0;34m=\u001b[0m \u001b[0mint\u001b[0m\u001b[0;34m(\u001b[0m\u001b[0mmath\u001b[0m\u001b[0;34m.\u001b[0m\u001b[0mfloor\u001b[0m\u001b[0;34m(\u001b[0m\u001b[0mmath\u001b[0m\u001b[0;34m.\u001b[0m\u001b[0mlog10\u001b[0m\u001b[0;34m(\u001b[0m\u001b[0mloc_range\u001b[0m\u001b[0;34m)\u001b[0m\u001b[0;34m)\u001b[0m\u001b[0;34m)\u001b[0m\u001b[0;34m\u001b[0m\u001b[0;34m\u001b[0m\u001b[0m\n\u001b[0m\u001b[1;32m    807\u001b[0m         \u001b[0;31m# first estimate:\u001b[0m\u001b[0;34m\u001b[0m\u001b[0;34m\u001b[0m\u001b[0m\n\u001b[1;32m    808\u001b[0m         \u001b[0msigfigs\u001b[0m \u001b[0;34m=\u001b[0m \u001b[0mmax\u001b[0m\u001b[0;34m(\u001b[0m\u001b[0;36m0\u001b[0m\u001b[0;34m,\u001b[0m \u001b[0;36m3\u001b[0m \u001b[0;34m-\u001b[0m \u001b[0mloc_range_oom\u001b[0m\u001b[0;34m)\u001b[0m\u001b[0;34m\u001b[0m\u001b[0;34m\u001b[0m\u001b[0m\n",
      "\u001b[0;31mValueError\u001b[0m: cannot convert float NaN to integer"
     ]
    },
    {
     "data": {
      "image/png": "[encoded data removed]",
      "text/plain": [
       "<Figure size 640x480 with 1 Axes>"
      ]
     },
     "metadata": {},
     "output_type": "display_data"
    }
   ],
   "source": [
    "fig, ax = plt.subplots()\n",
    "scatter = ax.scatter(df_nan['q'], df_nan['w'], c=df_nan.index.year)\n",
    "legend1 = ax.legend(*scatter.legend_elements(),loc=\"lower right\", title=\"Year\")\n",
    "ax.add_artist(legend1)\n",
    "ax.set_title(nuts_id)\n",
    "ax.grid(True)\n",
    "ax.set_xlabel('q')\n",
    "ax.set_ylabel('w')\n",
    "fig.tight_layout()"
   ]
  },
  {
   "cell_type": "code",
   "execution_count": 3,
   "id": "9ea58df4-7ab7-4018-9245-12d3203fce2c",
   "metadata": {},
   "outputs": [],
   "source": [
    "%matplotlib agg\n",
    "temp = bl.generate_scatter_plots(nuts_ids = nuts_id,fmt='object')"
   ]
  },
  {
   "cell_type": "code",
   "execution_count": 4,
   "id": "1a2be083-ff91-45cf-ab44-417ab8ccc3d0",
   "metadata": {},
   "outputs": [
    {
     "data": {
      "text/plain": [
       "{'DE110000': <Figure size 640x480 with 1 Axes>}"
      ]
     },
     "execution_count": 4,
     "metadata": {},
     "output_type": "execute_result"
    }
   ],
   "source": [
    "temp"
   ]
  },
  {
   "cell_type": "code",
   "execution_count": 5,
   "id": "0fb68a52-233a-4a58-8c17-bbe1090754af",
   "metadata": {},
   "outputs": [
    {
     "data": {
      "image/png": "[encoded data removed]",
      "text/plain": [
       "<Figure size 640x480 with 1 Axes>"
      ]
     },
     "execution_count": 5,
     "metadata": {},
     "output_type": "execute_result"
    }
   ],
   "source": [
    "temp[nuts_id]"
   ]
  },
  {
   "cell_type": "markdown",
   "id": "e24aa885-f3a2-466a-b46b-267ddabd801c",
   "metadata": {},
   "source": [
    "## Playground ydata_profiling"
   ]
  },
  {
   "cell_type": "code",
   "execution_count": null,
   "id": "113e3026-c74d-41db-811e-7add9c72ff69",
   "metadata": {},
   "outputs": [],
   "source": [
    "# normal report\n",
    "report = df.profile_report(html={'style': {'logo': logo, 'theme': 'flatly'}}, progress_bar=False, title=nuts_id)\n",
    "report.to_file('standard.html')"
   ]
  },
  {
   "cell_type": "code",
   "execution_count": null,
   "id": "72c50f7d-bccd-45d9-9a07-61dcaf108bbd",
   "metadata": {},
   "outputs": [],
   "source": [
    "# remove the obviously wrong -999 values\n",
    "report = df_nan.profile_report(html={'style': {'logo': logo, 'theme': 'flatly'}}, progress_bar=False, title=nuts_id)\n",
    "report.to_file('filtered.html')"
   ]
  },
  {
   "cell_type": "code",
   "execution_count": null,
   "id": "6abafd9e-777e-4372-a1c5-fe00e0517982",
   "metadata": {},
   "outputs": [],
   "source": [
    "# report with scatter_threshold set to 100000 to force individual points.\n",
    "report = df_nan.profile_report(html={'style': {'logo': logo, 'theme': 'flatly'}}, progress_bar=False, title=nuts_id)\n",
    "report.config.plot.scatter_threshold = 100000\n",
    "report.to_file('filtered_scatter_threshold.html')"
   ]
  },
  {
   "cell_type": "code",
   "execution_count": null,
   "id": "0dae5fe4-bfa2-4ffd-a42a-1107d1e77228",
   "metadata": {},
   "outputs": [],
   "source": [
    "df_filtered = df_nan[~(df_nan['q'].isna() | df_nan['w'].isna())]\n",
    "df_filtered"
   ]
  },
  {
   "cell_type": "markdown",
   "id": "410621df-9aba-4247-bead-2a83ea721d03",
   "metadata": {},
   "source": [
    "## Playground Matplotlib"
   ]
  },
  {
   "cell_type": "code",
   "execution_count": null,
   "id": "e27072d2-a244-4916-a10d-2d910e2170a9",
   "metadata": {},
   "outputs": [],
   "source": [
    "q = df_nan['q']\n",
    "w = df_nan['w']\n",
    "c=df_nan.index"
   ]
  },
  {
   "cell_type": "code",
   "execution_count": null,
   "id": "7b128423-2906-4043-84ae-b1670a74eecc",
   "metadata": {},
   "outputs": [],
   "source": [
    "fig, ax = plt.subplots()\n",
    "ax.scatter(q, w, c=c)\n",
    "plt.savefig('scatter_plain.png', dpi='figure')"
   ]
  },
  {
   "cell_type": "code",
   "execution_count": null,
   "id": "55071687-c73f-4f33-928f-357bd81435bb",
   "metadata": {},
   "outputs": [],
   "source": [
    "%matplotlib agg\n",
    "fig, ax = plt.subplots()\n",
    "scatter = ax.scatter(q, w, c=c.year)\n",
    "legend1 = ax.legend(*scatter.legend_elements(),loc=\"lower right\", title=\"Year\")\n",
    "ax.add_artist(legend1)\n",
    "ax.set_title(nuts_id)\n",
    "ax.grid(True)\n",
    "ax.set_xlabel('q')\n",
    "ax.set_ylabel('w')\n",
    "fig.tight_layout()\n",
    "#plt.savefig('scatter_year.png', dpi='figure')\n"
   ]
  },
  {
   "cell_type": "code",
   "execution_count": null,
   "id": "38df1057-eca0-4553-bf3b-88ac5c3c450b",
   "metadata": {},
   "outputs": [],
   "source": [
    "%matplotlib inline\n",
    "fig, ax = plt.subplots()\n",
    "scatter = ax.scatter(q, w, c=c.year)\n",
    "legend1 = ax.legend(*scatter.legend_elements(),loc=\"lower right\", title=\"Year\")\n",
    "ax.add_artist(legend1)\n",
    "ax.set_title(nuts_id)\n",
    "ax.grid(True)\n",
    "ax.set_xlabel('q')\n",
    "ax.set_ylabel('w')\n",
    "fig.tight_layout()\n",
    "#plt.savefig('scatter_year.png', dpi='figure')\n"
   ]
  },
  {
   "cell_type": "code",
   "execution_count": null,
   "id": "26e7a68e-ee5b-4786-a4b4-f6508d2a2fc5",
   "metadata": {},
   "outputs": [],
   "source": [
    "fig, ax = plt.subplots()\n",
    "scatter = ax.scatter(q, w, c=c.year)\n",
    "legend1 = ax.legend(*scatter.legend_elements(),loc=\"lower right\", title=\"Year\")\n",
    "ax.add_artist(legend1)\n",
    "ax.set_title(nuts_id)\n",
    "ax.grid(True)\n",
    "ax.set_xlabel('q')\n",
    "ax.set_ylabel('w')\n",
    "fig.tight_layout()\n",
    "plt.savefig('scatter_year.svg', dpi='figure')\n"
   ]
  },
  {
   "cell_type": "code",
   "execution_count": null,
   "id": "e60180c8-fefe-44de-9713-017445ef3d9f",
   "metadata": {},
   "outputs": [],
   "source": [
    "fig, ax = plt.subplots()\n",
    "scatter = ax.scatter(q[:20000], w[:20000], c=c[:20000].year)\n",
    "legend1 = ax.legend(*scatter.legend_elements(),loc=\"lower right\", title=\"Year\")\n",
    "ax.add_artist(legend1)\n",
    "ax.set_title(nuts_id)\n",
    "ax.grid(True)\n",
    "ax.set_xlabel('q')\n",
    "ax.set_ylabel('w')\n",
    "fig.tight_layout()\n",
    "plt.savefig('scatter_year_small.svg', dpi='figure')\n"
   ]
  }
 ],
 "metadata": {
  "kernelspec": {
   "display_name": "Python 3.9",
   "language": "python",
   "name": "base"
  },
  "language_info": {
   "codemirror_mode": {
    "name": "ipython",
    "version": 3
   },
   "file_extension": ".py",
   "mimetype": "text/x-python",
   "name": "python",
   "nbconvert_exporter": "python",
   "pygments_lexer": "ipython3",
   "version": "3.9.13"
  }
 },
 "nbformat": 4,
 "nbformat_minor": 5
}
